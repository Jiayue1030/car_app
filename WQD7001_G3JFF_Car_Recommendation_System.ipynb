{
  "cells": [
    {
      "cell_type": "markdown",
      "metadata": {
        "id": "view-in-github",
        "colab_type": "text"
      },
      "source": [
        "<a href=\"https://colab.research.google.com/github/Jiayue1030/car_app/blob/master/WQD7001_G3JFF_Car_Recommendation_System.ipynb\" target=\"_parent\"><img src=\"https://colab.research.google.com/assets/colab-badge.svg\" alt=\"Open In Colab\"/></a>"
      ]
    },
    {
      "cell_type": "markdown",
      "metadata": {
        "id": "ZHyS5KmxzNIa"
      },
      "source": [
        "<img src=\"http://web.fsktm.um.edu.my/~rjry/umcompthinking/img/fsktm-small.png\" width=150 height=50 alt=\"Alternative text\" />"
      ]
    },
    {
      "cell_type": "markdown",
      "metadata": {
        "id": "CalpQSc0zNIe"
      },
      "source": [
        "# WQD7001 PRINCIPLES OF DATA SCIENCE\n",
        "----\n",
        "Topic : Car Recommendation System\n",
        "\n",
        "Group Members:"
      ]
    },
    {
      "cell_type": "markdown",
      "metadata": {
        "id": "VS-E-BfN4uIi"
      },
      "source": [
        "# 1.0 Data Acquisition\n",
        "----\n",
        "\n",
        "Data source :\n",
        "Data acquisition method :"
      ]
    },
    {
      "cell_type": "code",
      "execution_count": 1,
      "metadata": {
        "id": "7DkNhqbm5dgR"
      },
      "outputs": [],
      "source": [
        "import requests\n",
        "from urllib.request import urlopen\n",
        "from bs4 import BeautifulSoup\n",
        "import pandas as pd\n",
        "import numpy as np\n",
        "import seaborn as sns\n",
        "import matplotlib.pyplot as plt\n",
        "import plotly.express as px"
      ]
    },
    {
      "cell_type": "code",
      "execution_count": null,
      "metadata": {
        "id": "n_BCXX9V6WIq"
      },
      "outputs": [],
      "source": [
        "carlist_uri = 'https://www.carlist.my/new-cars-for-sale/malaysia?page_size=50&page_number={page_number}'"
      ]
    },
    {
      "cell_type": "code",
      "execution_count": null,
      "metadata": {
        "id": "q6uveC0b75Ig"
      },
      "outputs": [],
      "source": [
        "attrs_list = [\"data-listing-id\", \"data-title\", \"data-display-title\", \n",
        "              \"data-url\", \"data-installment\", \"data-image-src\", \"data-compare-image\", \n",
        "              \"data-make\", \"data-model\", \"data-year\", \"data-mileage\", \"data-transmission\", \n",
        "              \"data-ad-type\", \"data-variant\", \"data-seller-id\", \"data-profile-id\", \"data-listing-trusted\", \n",
        "              \"data-dealer-isverified\", \"data-view-store\", \"data-country-code\", \"data-vehicle-type\"]"
      ]
    },
    {
      "cell_type": "code",
      "execution_count": null,
      "metadata": {
        "id": "HH4T16SvWZuM"
      },
      "outputs": [],
      "source": [
        "df_carlist = pd.DataFrame(columns = attrs_list)\n",
        "#carlist_uri = 'https://www.carlist.my/new-cars-for-sale/malaysia?page_size=5&page_number={page_number}'\n",
        "max_page_number = 114\n",
        "min_page_number = 1\n",
        "i = min_page_number\n",
        "for i in range(max_page_number):\n",
        "  carlist_url = carlist_uri.format(page_number=i)\n",
        "  print(carlist_url)\n",
        "  page = requests.get(carlist_url,headers={'User-Agent': 'Mozilla/5.0'})\n",
        "  if page.status_code == 200:\n",
        "    soup = BeautifulSoup(page.text, 'html.parser')\n",
        "    article = soup.find_all('article',{\"class\": \"listing\"})\n",
        "    for a in article:\n",
        "      data_dict = dict()\n",
        "      data_value = []\n",
        "      for attr in attrs_list:\n",
        "        data_value.append(a[attr])\n",
        "      listing_price = a.find('div',{\"class\":\"listing__price\"}).text\n",
        "      #print('Retrieving {i} page - listing id : {listing_id}'.format(i=i,listing_id=a['data-listing-id']))\n",
        "      data_dict = dict(zip(attrs_list, data_value))\n",
        "      data_dict['listing_price'] = listing_price\n",
        "      df_carlist = df_carlist.append(data_dict, ignore_index=True)\n",
        "\n",
        "pd.DataFrame.to_csv(df_carlist,'df_carlist.csv')"
      ]
    },
    {
      "cell_type": "code",
      "execution_count": null,
      "metadata": {
        "colab": {
          "base_uri": "https://localhost:8080/",
          "height": 716
        },
        "id": "dzE1UjtaVdr5",
        "outputId": "901eddd3-f706-4180-c1c4-77801d623960"
      },
      "outputs": [
        {
          "data": {
            "text/html": [
              "\n",
              "  <div id=\"df-ccbba47f-581b-43c5-bb85-96751cd0f86f\">\n",
              "    <div class=\"colab-df-container\">\n",
              "      <div>\n",
              "<style scoped>\n",
              "    .dataframe tbody tr th:only-of-type {\n",
              "        vertical-align: middle;\n",
              "    }\n",
              "\n",
              "    .dataframe tbody tr th {\n",
              "        vertical-align: top;\n",
              "    }\n",
              "\n",
              "    .dataframe thead th {\n",
              "        text-align: right;\n",
              "    }\n",
              "</style>\n",
              "<table border=\"1\" class=\"dataframe\">\n",
              "  <thead>\n",
              "    <tr style=\"text-align: right;\">\n",
              "      <th></th>\n",
              "      <th>data-listing-id</th>\n",
              "      <th>data-title</th>\n",
              "      <th>data-display-title</th>\n",
              "      <th>data-url</th>\n",
              "      <th>data-installment</th>\n",
              "      <th>data-image-src</th>\n",
              "      <th>data-compare-image</th>\n",
              "      <th>data-make</th>\n",
              "      <th>data-model</th>\n",
              "      <th>data-year</th>\n",
              "      <th>...</th>\n",
              "      <th>data-ad-type</th>\n",
              "      <th>data-variant</th>\n",
              "      <th>data-seller-id</th>\n",
              "      <th>data-profile-id</th>\n",
              "      <th>data-listing-trusted</th>\n",
              "      <th>data-dealer-isverified</th>\n",
              "      <th>data-view-store</th>\n",
              "      <th>data-country-code</th>\n",
              "      <th>data-vehicle-type</th>\n",
              "      <th>listing_price</th>\n",
              "    </tr>\n",
              "  </thead>\n",
              "  <tbody>\n",
              "    <tr>\n",
              "      <th>0</th>\n",
              "      <td>11207652</td>\n",
              "      <td>2023 Honda Civic 1.5 E VTEC Sedan - Call Now t...</td>\n",
              "      <td>2023 Honda Civic 1.5 E VTEC Sedan</td>\n",
              "      <td>https://www.carlist.my/new-cars/2023-honda-civ...</td>\n",
              "      <td>RM 1,694/month</td>\n",
              "      <td>https://img1.icarcdn.com/25670211/main-m_new-c...</td>\n",
              "      <td>https://img1.icarcdn.com/25670211/thumb-l_new-...</td>\n",
              "      <td>Honda</td>\n",
              "      <td>Civic</td>\n",
              "      <td>2023</td>\n",
              "      <td>...</td>\n",
              "      <td>New</td>\n",
              "      <td>E VTEC</td>\n",
              "      <td>0239a87f-185f-40d7-96c1-577a23382252</td>\n",
              "      <td>dea94362-6914-4d58-b318-193c0b84fea6</td>\n",
              "      <td>false</td>\n",
              "      <td>ʉʏʈʘ</td>\n",
              "      <td>false</td>\n",
              "      <td>my</td>\n",
              "      <td>car</td>\n",
              "      <td>RM 130,700</td>\n",
              "    </tr>\n",
              "    <tr>\n",
              "      <th>1</th>\n",
              "      <td>11219593</td>\n",
              "      <td>2022 TESLA Model 3  STANDARD RANGE</td>\n",
              "      <td>2022 TESLA Model 3 Standard Range Sedan</td>\n",
              "      <td>https://www.carlist.my/new-cars/2022-tesla-mod...</td>\n",
              "      <td>RM 3,876/month</td>\n",
              "      <td>https://img1.icarcdn.com/39591211/main-m_new-c...</td>\n",
              "      <td>https://img1.icarcdn.com/39591211/thumb-l_new-...</td>\n",
              "      <td>TESLA</td>\n",
              "      <td>Model 3</td>\n",
              "      <td>2022</td>\n",
              "      <td>...</td>\n",
              "      <td>New</td>\n",
              "      <td>Standard Range</td>\n",
              "      <td>00a3e324-7194-42a5-8702-fdc9e816fd70</td>\n",
              "      <td>8fd728b8-6bb9-41c1-ac98-2aa31dbc83cc</td>\n",
              "      <td>true</td>\n",
              "      <td>ʉʏʈʘ</td>\n",
              "      <td>true</td>\n",
              "      <td>my</td>\n",
              "      <td>car</td>\n",
              "      <td>RM 299,000</td>\n",
              "    </tr>\n",
              "    <tr>\n",
              "      <th>2</th>\n",
              "      <td>11185947</td>\n",
              "      <td>HONDA PENANG (BM) - 2023 Honda City 1.5 V i-VT...</td>\n",
              "      <td>2023 Honda City 1.5 V i-VTEC Sedan</td>\n",
              "      <td>https://www.carlist.my/new-cars/honda-penang-b...</td>\n",
              "      <td>RM 1,157/month</td>\n",
              "      <td>https://img1.icarcdn.com/74958111/main-m_new-c...</td>\n",
              "      <td>https://img1.icarcdn.com/74958111/thumb-l_new-...</td>\n",
              "      <td>Honda</td>\n",
              "      <td>City</td>\n",
              "      <td>2023</td>\n",
              "      <td>...</td>\n",
              "      <td>New</td>\n",
              "      <td>V i-VTEC</td>\n",
              "      <td>c99ef1ac-a828-e611-94c3-06e4185eac05</td>\n",
              "      <td>cd9ef1ac-a828-e611-94c3-06e4185eac05</td>\n",
              "      <td>true</td>\n",
              "      <td>ʉʏʈʘ</td>\n",
              "      <td>true</td>\n",
              "      <td>my</td>\n",
              "      <td>car</td>\n",
              "      <td>RM 89,260</td>\n",
              "    </tr>\n",
              "    <tr>\n",
              "      <th>3</th>\n",
              "      <td>9789463</td>\n",
              "      <td>2022 Perodua Myvi 1.5 AV Hatchback</td>\n",
              "      <td>2022 Perodua Myvi 1.5 AV Hatchback</td>\n",
              "      <td>https://www.carlist.my/new-cars/2022-perodua-m...</td>\n",
              "      <td>RM 777/month</td>\n",
              "      <td>https://img1.icarcdn.com/3649879/main-m_new-ca...</td>\n",
              "      <td>https://img1.icarcdn.com/3649879/thumb-l_new-c...</td>\n",
              "      <td>Perodua</td>\n",
              "      <td>Myvi</td>\n",
              "      <td>2022</td>\n",
              "      <td>...</td>\n",
              "      <td>New</td>\n",
              "      <td>AV</td>\n",
              "      <td>b4695981-437c-e411-94b6-06e4185eac05</td>\n",
              "      <td>b7695981-437c-e411-94b6-06e4185eac05</td>\n",
              "      <td>false</td>\n",
              "      <td>ʉʏʈʘ</td>\n",
              "      <td>false</td>\n",
              "      <td>my</td>\n",
              "      <td>car</td>\n",
              "      <td>RM 59,900</td>\n",
              "    </tr>\n",
              "    <tr>\n",
              "      <th>4</th>\n",
              "      <td>8637396</td>\n",
              "      <td>2022 Mitsubishi Triton 2.4 VGT Pickup Truck (A)</td>\n",
              "      <td>2022 Mitsubishi Triton 2.4 VGT Pickup Truck</td>\n",
              "      <td>https://www.carlist.my/new-cars/2022-mitsubish...</td>\n",
              "      <td>RM 1,426/month</td>\n",
              "      <td>https://img1.icarcdn.com/6937368/main-m_new-ca...</td>\n",
              "      <td>https://img1.icarcdn.com/6937368/thumb-l_new-c...</td>\n",
              "      <td>Mitsubishi</td>\n",
              "      <td>Triton</td>\n",
              "      <td>2022</td>\n",
              "      <td>...</td>\n",
              "      <td>New</td>\n",
              "      <td>VGT</td>\n",
              "      <td>33292c57-7c53-417e-96f8-c0bc34192ae3</td>\n",
              "      <td>ea48f048-e1d5-490f-b582-8cc0a77008fa</td>\n",
              "      <td>false</td>\n",
              "      <td>ʉʏʈʘ</td>\n",
              "      <td>false</td>\n",
              "      <td>my</td>\n",
              "      <td>car</td>\n",
              "      <td>RM 109,990</td>\n",
              "    </tr>\n",
              "  </tbody>\n",
              "</table>\n",
              "<p>5 rows × 22 columns</p>\n",
              "</div>\n",
              "      <button class=\"colab-df-convert\" onclick=\"convertToInteractive('df-ccbba47f-581b-43c5-bb85-96751cd0f86f')\"\n",
              "              title=\"Convert this dataframe to an interactive table.\"\n",
              "              style=\"display:none;\">\n",
              "        \n",
              "  <svg xmlns=\"http://www.w3.org/2000/svg\" height=\"24px\"viewBox=\"0 0 24 24\"\n",
              "       width=\"24px\">\n",
              "    <path d=\"M0 0h24v24H0V0z\" fill=\"none\"/>\n",
              "    <path d=\"M18.56 5.44l.94 2.06.94-2.06 2.06-.94-2.06-.94-.94-2.06-.94 2.06-2.06.94zm-11 1L8.5 8.5l.94-2.06 2.06-.94-2.06-.94L8.5 2.5l-.94 2.06-2.06.94zm10 10l.94 2.06.94-2.06 2.06-.94-2.06-.94-.94-2.06-.94 2.06-2.06.94z\"/><path d=\"M17.41 7.96l-1.37-1.37c-.4-.4-.92-.59-1.43-.59-.52 0-1.04.2-1.43.59L10.3 9.45l-7.72 7.72c-.78.78-.78 2.05 0 2.83L4 21.41c.39.39.9.59 1.41.59.51 0 1.02-.2 1.41-.59l7.78-7.78 2.81-2.81c.8-.78.8-2.07 0-2.86zM5.41 20L4 18.59l7.72-7.72 1.47 1.35L5.41 20z\"/>\n",
              "  </svg>\n",
              "      </button>\n",
              "      \n",
              "  <style>\n",
              "    .colab-df-container {\n",
              "      display:flex;\n",
              "      flex-wrap:wrap;\n",
              "      gap: 12px;\n",
              "    }\n",
              "\n",
              "    .colab-df-convert {\n",
              "      background-color: #E8F0FE;\n",
              "      border: none;\n",
              "      border-radius: 50%;\n",
              "      cursor: pointer;\n",
              "      display: none;\n",
              "      fill: #1967D2;\n",
              "      height: 32px;\n",
              "      padding: 0 0 0 0;\n",
              "      width: 32px;\n",
              "    }\n",
              "\n",
              "    .colab-df-convert:hover {\n",
              "      background-color: #E2EBFA;\n",
              "      box-shadow: 0px 1px 2px rgba(60, 64, 67, 0.3), 0px 1px 3px 1px rgba(60, 64, 67, 0.15);\n",
              "      fill: #174EA6;\n",
              "    }\n",
              "\n",
              "    [theme=dark] .colab-df-convert {\n",
              "      background-color: #3B4455;\n",
              "      fill: #D2E3FC;\n",
              "    }\n",
              "\n",
              "    [theme=dark] .colab-df-convert:hover {\n",
              "      background-color: #434B5C;\n",
              "      box-shadow: 0px 1px 3px 1px rgba(0, 0, 0, 0.15);\n",
              "      filter: drop-shadow(0px 1px 2px rgba(0, 0, 0, 0.3));\n",
              "      fill: #FFFFFF;\n",
              "    }\n",
              "  </style>\n",
              "\n",
              "      <script>\n",
              "        const buttonEl =\n",
              "          document.querySelector('#df-ccbba47f-581b-43c5-bb85-96751cd0f86f button.colab-df-convert');\n",
              "        buttonEl.style.display =\n",
              "          google.colab.kernel.accessAllowed ? 'block' : 'none';\n",
              "\n",
              "        async function convertToInteractive(key) {\n",
              "          const element = document.querySelector('#df-ccbba47f-581b-43c5-bb85-96751cd0f86f');\n",
              "          const dataTable =\n",
              "            await google.colab.kernel.invokeFunction('convertToInteractive',\n",
              "                                                     [key], {});\n",
              "          if (!dataTable) return;\n",
              "\n",
              "          const docLinkHtml = 'Like what you see? Visit the ' +\n",
              "            '<a target=\"_blank\" href=https://colab.research.google.com/notebooks/data_table.ipynb>data table notebook</a>'\n",
              "            + ' to learn more about interactive tables.';\n",
              "          element.innerHTML = '';\n",
              "          dataTable['output_type'] = 'display_data';\n",
              "          await google.colab.output.renderOutput(dataTable, element);\n",
              "          const docLink = document.createElement('div');\n",
              "          docLink.innerHTML = docLinkHtml;\n",
              "          element.appendChild(docLink);\n",
              "        }\n",
              "      </script>\n",
              "    </div>\n",
              "  </div>\n",
              "  "
            ],
            "text/plain": [
              "  data-listing-id                                         data-title  \\\n",
              "0        11207652  2023 Honda Civic 1.5 E VTEC Sedan - Call Now t...   \n",
              "1        11219593                 2022 TESLA Model 3  STANDARD RANGE   \n",
              "2        11185947  HONDA PENANG (BM) - 2023 Honda City 1.5 V i-VT...   \n",
              "3         9789463                 2022 Perodua Myvi 1.5 AV Hatchback   \n",
              "4         8637396    2022 Mitsubishi Triton 2.4 VGT Pickup Truck (A)   \n",
              "\n",
              "                            data-display-title  \\\n",
              "0            2023 Honda Civic 1.5 E VTEC Sedan   \n",
              "1      2022 TESLA Model 3 Standard Range Sedan   \n",
              "2           2023 Honda City 1.5 V i-VTEC Sedan   \n",
              "3           2022 Perodua Myvi 1.5 AV Hatchback   \n",
              "4  2022 Mitsubishi Triton 2.4 VGT Pickup Truck   \n",
              "\n",
              "                                            data-url data-installment  \\\n",
              "0  https://www.carlist.my/new-cars/2023-honda-civ...   RM 1,694/month   \n",
              "1  https://www.carlist.my/new-cars/2022-tesla-mod...   RM 3,876/month   \n",
              "2  https://www.carlist.my/new-cars/honda-penang-b...   RM 1,157/month   \n",
              "3  https://www.carlist.my/new-cars/2022-perodua-m...     RM 777/month   \n",
              "4  https://www.carlist.my/new-cars/2022-mitsubish...   RM 1,426/month   \n",
              "\n",
              "                                      data-image-src  \\\n",
              "0  https://img1.icarcdn.com/25670211/main-m_new-c...   \n",
              "1  https://img1.icarcdn.com/39591211/main-m_new-c...   \n",
              "2  https://img1.icarcdn.com/74958111/main-m_new-c...   \n",
              "3  https://img1.icarcdn.com/3649879/main-m_new-ca...   \n",
              "4  https://img1.icarcdn.com/6937368/main-m_new-ca...   \n",
              "\n",
              "                                  data-compare-image   data-make data-model  \\\n",
              "0  https://img1.icarcdn.com/25670211/thumb-l_new-...       Honda      Civic   \n",
              "1  https://img1.icarcdn.com/39591211/thumb-l_new-...       TESLA    Model 3   \n",
              "2  https://img1.icarcdn.com/74958111/thumb-l_new-...       Honda       City   \n",
              "3  https://img1.icarcdn.com/3649879/thumb-l_new-c...     Perodua       Myvi   \n",
              "4  https://img1.icarcdn.com/6937368/thumb-l_new-c...  Mitsubishi     Triton   \n",
              "\n",
              "  data-year  ... data-ad-type    data-variant  \\\n",
              "0      2023  ...          New          E VTEC   \n",
              "1      2022  ...          New  Standard Range   \n",
              "2      2023  ...          New        V i-VTEC   \n",
              "3      2022  ...          New              AV   \n",
              "4      2022  ...          New             VGT   \n",
              "\n",
              "                         data-seller-id                       data-profile-id  \\\n",
              "0  0239a87f-185f-40d7-96c1-577a23382252  dea94362-6914-4d58-b318-193c0b84fea6   \n",
              "1  00a3e324-7194-42a5-8702-fdc9e816fd70  8fd728b8-6bb9-41c1-ac98-2aa31dbc83cc   \n",
              "2  c99ef1ac-a828-e611-94c3-06e4185eac05  cd9ef1ac-a828-e611-94c3-06e4185eac05   \n",
              "3  b4695981-437c-e411-94b6-06e4185eac05  b7695981-437c-e411-94b6-06e4185eac05   \n",
              "4  33292c57-7c53-417e-96f8-c0bc34192ae3  ea48f048-e1d5-490f-b582-8cc0a77008fa   \n",
              "\n",
              "  data-listing-trusted data-dealer-isverified data-view-store  \\\n",
              "0                false                   ʉʏʈʘ           false   \n",
              "1                 true                   ʉʏʈʘ            true   \n",
              "2                 true                   ʉʏʈʘ            true   \n",
              "3                false                   ʉʏʈʘ           false   \n",
              "4                false                   ʉʏʈʘ           false   \n",
              "\n",
              "  data-country-code data-vehicle-type listing_price  \n",
              "0                my               car    RM 130,700  \n",
              "1                my               car    RM 299,000  \n",
              "2                my               car     RM 89,260  \n",
              "3                my               car     RM 59,900  \n",
              "4                my               car    RM 109,990  \n",
              "\n",
              "[5 rows x 22 columns]"
            ]
          },
          "execution_count": 6,
          "metadata": {},
          "output_type": "execute_result"
        }
      ],
      "source": [
        "df_carlist.head()"
      ]
    },
    {
      "cell_type": "code",
      "execution_count": null,
      "metadata": {
        "id": "oBltElc2X7cP"
      },
      "outputs": [],
      "source": [
        "df_carlist.columns = df_carlist.columns.str.replace('-' , '_')\n",
        "pd.DataFrame.to_csv(df_carlist,'df_carlist.csv')"
      ]
    },
    {
      "cell_type": "code",
      "execution_count": null,
      "metadata": {
        "id": "DfDlu7njXmiV"
      },
      "outputs": [],
      "source": [
        "#extract particular vehicle specifications & equipments\n",
        "def extract_specs(ind,vehicle_id,detail_url):\n",
        "  print('{ind} - Retrieving : {vehicle_id} at {detail_url}'.format(ind=ind,vehicle_id=vehicle_id,detail_url=detail_url))\n",
        "  detail_url = detail_url\n",
        "  page = requests.get(detail_url,headers={'User-Agent': 'Mozilla/5.0'})\n",
        "  soup = BeautifulSoup(page.text, 'html.parser')\n",
        "  tab_ids = ['tab-specifications','tab-equipments']\n",
        "  specs_dict = dict() #using dict to store each specification keys & values\n",
        "  for tab_id in tab_ids:\n",
        "    spec = soup.find(id=tab_id)\n",
        "    if spec != None:\n",
        "      for s in spec.find_all('div',{'class':'u-border-bottom u-padding-ends-xs u-flex u-flex--justify-between'}):\n",
        "        data_list = []\n",
        "        for span in s.find_all('span',{'class':'u-width-1/2'}): #the true values is in the span\n",
        "          data_list.append(span.text)\n",
        "        specs_dict[data_list[0]] = data_list[1]\n",
        "  specs_dict['vehicle_id']=vehicle_id\n",
        "  return(specs_dict)"
      ]
    },
    {
      "cell_type": "code",
      "execution_count": null,
      "metadata": {
        "id": "o_bRCf79ZLxV"
      },
      "outputs": [],
      "source": [
        "df_all_cars_specs = pd.DataFrame()\n",
        "\n",
        "for ind in df_carlist.index:\n",
        "  car_data = extract_specs(ind,df_carlist['data_listing_id'][ind],df_carlist['data_url'][ind])\n",
        "  df_all_cars_specs = df_all_cars_specs.append(car_data, ignore_index=True)"
      ]
    },
    {
      "cell_type": "code",
      "execution_count": null,
      "metadata": {
        "id": "n_fuPvJncU8F"
      },
      "outputs": [],
      "source": [
        "df_all_cars_specs.columns"
      ]
    },
    {
      "cell_type": "code",
      "execution_count": null,
      "metadata": {
        "id": "-HExT5ZqeFcl"
      },
      "outputs": [],
      "source": [
        "#rename df_all_cars_specs columns\n",
        "#rename the columns\n",
        "import re\n",
        "keys = []\n",
        "df_all_cars_specs02 = df_all_cars_specs\n",
        "for k in df_all_cars_specs02.columns:\n",
        "  keys.append(re.sub(\"\\(.*?\\)\",\"\",k).strip().replace(\" \",\"_\").lower())\n",
        "\n",
        "df_all_cars_specs02.columns = keys\n",
        "df_carlist.rename(columns={'data_listing_id':'vehicle_id'},inplace=True)"
      ]
    },
    {
      "cell_type": "code",
      "execution_count": null,
      "metadata": {
        "colab": {
          "base_uri": "https://localhost:8080/",
          "height": 218
        },
        "collapsed": true,
        "id": "ybOlvANOL8Q_",
        "outputId": "2b6a628e-1ea6-4bf8-935b-579f061f211f"
      },
      "outputs": [
        {
          "ename": "FileNotFoundError",
          "evalue": "ignored",
          "output_type": "error",
          "traceback": [
            "\u001b[0;31m---------------------------------------------------------------------------\u001b[0m",
            "\u001b[0;31mFileNotFoundError\u001b[0m                         Traceback (most recent call last)",
            "\u001b[0;32m<ipython-input-12-fd7eb0feb646>\u001b[0m in \u001b[0;36m<module>\u001b[0;34m\u001b[0m\n\u001b[1;32m      8\u001b[0m \u001b[0;31m# pd.DataFrame.to_csv(df_carlist_merged,'df_carlist_merged.csv')\u001b[0m\u001b[0;34m\u001b[0m\u001b[0;34m\u001b[0m\u001b[0;34m\u001b[0m\u001b[0m\n\u001b[1;32m      9\u001b[0m \u001b[0mpath\u001b[0m \u001b[0;34m=\u001b[0m \u001b[0;34m'/content/drive/My Drive/df_carlist_merged.csv'\u001b[0m\u001b[0;34m\u001b[0m\u001b[0;34m\u001b[0m\u001b[0m\n\u001b[0;32m---> 10\u001b[0;31m \u001b[0;32mwith\u001b[0m \u001b[0mopen\u001b[0m\u001b[0;34m(\u001b[0m\u001b[0mpath\u001b[0m\u001b[0;34m,\u001b[0m \u001b[0;34m'w'\u001b[0m\u001b[0;34m,\u001b[0m \u001b[0mencoding\u001b[0m \u001b[0;34m=\u001b[0m \u001b[0;34m'utf-8-sig'\u001b[0m\u001b[0;34m)\u001b[0m \u001b[0;32mas\u001b[0m \u001b[0mf\u001b[0m\u001b[0;34m:\u001b[0m\u001b[0;34m\u001b[0m\u001b[0;34m\u001b[0m\u001b[0m\n\u001b[0m\u001b[1;32m     11\u001b[0m   \u001b[0mdf_carlist_merged\u001b[0m\u001b[0;34m.\u001b[0m\u001b[0mto_csv\u001b[0m\u001b[0;34m(\u001b[0m\u001b[0mf\u001b[0m\u001b[0;34m)\u001b[0m\u001b[0;34m\u001b[0m\u001b[0;34m\u001b[0m\u001b[0m\n",
            "\u001b[0;31mFileNotFoundError\u001b[0m: [Errno 2] No such file or directory: '/content/drive/My Drive/df_carlist_merged.csv'"
          ]
        }
      ],
      "source": [
        "df_carlist_merged = pd.merge(df_carlist,df_all_cars_specs02,on='vehicle_id')\n",
        "df_carlist_merged = df_carlist_merged.drop_duplicates()\n",
        "\n",
        "rows = len(df_carlist_merged)\n",
        "\n",
        "#drop the columns with too many null values (not significant to compute)\n",
        "df_carlist_merged.drop(df_carlist_merged[df_carlist_merged.columns[df_carlist_merged.isna().sum()>rows/2]].columns, axis=1,inplace=True)\n",
        "# pd.DataFrame.to_csv(df_carlist_merged,'df_carlist_merged.csv')"
      ]
    },
    {
      "cell_type": "code",
      "execution_count": null,
      "metadata": {
        "id": "JIrkXO9bZxZW"
      },
      "outputs": [],
      "source": [
        "df_carlist_merged.to_csv('df_carlist_merged.csv')"
      ]
    },
    {
      "cell_type": "code",
      "execution_count": null,
      "metadata": {
        "colab": {
          "base_uri": "https://localhost:8080/"
        },
        "id": "kpFdid4yOJeS",
        "outputId": "182f39ea-396f-4e11-de47-6846bd894fe3"
      },
      "outputs": [
        {
          "data": {
            "text/plain": [
              "vehicle_id               0\n",
              "data_title               0\n",
              "data_display_title       0\n",
              "data_url                 0\n",
              "data_installment         0\n",
              "                      ... \n",
              "rim_material           678\n",
              "number_of_gears       1532\n",
              "reverse_camera        2477\n",
              "isofix                2762\n",
              "fuel_tank             1577\n",
              "Length: 66, dtype: int64"
            ]
          },
          "execution_count": 14,
          "metadata": {},
          "output_type": "execute_result"
        }
      ],
      "source": [
        "df_carlist_merged.isna().sum()"
      ]
    },
    {
      "cell_type": "markdown",
      "metadata": {
        "id": "IwnpdLsZaogn"
      },
      "source": [
        "# 2.0 Data Preprocessing \n",
        "---\n",
        "- Clean the data\n",
        "- figure out which one are important and impute using KNN"
      ]
    },
    {
      "cell_type": "code",
      "execution_count": 2,
      "metadata": {
        "id": "tkJlf_SAhFz4"
      },
      "outputs": [],
      "source": [
        "df_carlist_merged = pd.read_csv('https://drive.google.com/uc?id=1hZqmEMmZDJRM1PNlRbV7yCQfkdWpicr4')"
      ]
    },
    {
      "cell_type": "code",
      "execution_count": null,
      "metadata": {
        "id": "B7h2TGVrj5Eh"
      },
      "outputs": [],
      "source": [
        "for w in ['RM',',','/month']:\n",
        "  df_carlist_merged['data_installment'] = df_carlist_merged['data_installment'].str.replace(w, '')\n",
        "  df_carlist_merged['listing_price'] = df_carlist_merged['listing_price'].str.replace(w, '')\n",
        "\n",
        "df_carlist_merged['data_installment'] = pd.to_numeric(df_carlist_merged['data_installment'])\n",
        "df_carlist_merged['listing_price'] = pd.to_numeric(df_carlist_merged['listing_price'])"
      ]
    },
    {
      "cell_type": "code",
      "execution_count": null,
      "metadata": {
        "id": "xVg0hBrxP3kB"
      },
      "outputs": [],
      "source": [
        "df_carlist_merged.to_csv('df_carlist_cleaned.csv')"
      ]
    },
    {
      "cell_type": "markdown",
      "metadata": {
        "id": "cAzk2A_4aw-Q"
      },
      "source": [
        "Data Visualization\n",
        "- bar graph & pie chart\n",
        "- remove outliers"
      ]
    },
    {
      "cell_type": "code",
      "execution_count": 3,
      "metadata": {
        "id": "UOsEdW-dzNIm"
      },
      "outputs": [],
      "source": [
        "CLEANED_FILE_PATH = 'https://drive.google.com/uc?id=18HtoXfjwz5UWPsw84s9FJjxFKE6-gpJ1'"
      ]
    },
    {
      "cell_type": "code",
      "execution_count": 4,
      "metadata": {
        "id": "GHsTyPjJgVXf"
      },
      "outputs": [],
      "source": [
        "#subset to get those important features\n",
        "# df_carlist_merged = pd.read_csv('df_carlist_merged.csv')\n",
        "df_carlist_cleaned = pd.read_csv(CLEANED_FILE_PATH)"
      ]
    },
    {
      "cell_type": "code",
      "execution_count": 64,
      "metadata": {
        "scrolled": true,
        "id": "hWNTEicezNIm",
        "outputId": "d4d189d7-9902-48ec-cd69-75aeac98eddc",
        "colab": {
          "base_uri": "https://localhost:8080/"
        }
      },
      "outputs": [
        {
          "output_type": "execute_result",
          "data": {
            "text/plain": [
              "vehicle_id             int64\n",
              "data_installment     float64\n",
              "listing_price        float64\n",
              "data_make             object\n",
              "data_model            object\n",
              "data_year              int64\n",
              "data_mileage           int64\n",
              "data_transmission     object\n",
              "doors                float64\n",
              "seat_capacity        float64\n",
              "assembled             object\n",
              "engine_cc            float64\n",
              "peak_power           float64\n",
              "peak_torque          float64\n",
              "engine_type           object\n",
              "fuel_type             object\n",
              "dtype: object"
            ]
          },
          "metadata": {},
          "execution_count": 64
        }
      ],
      "source": [
        "df_carlist02 = df_carlist_cleaned.copy()\n",
        "\n",
        "df_carlist02 = df_carlist02[['vehicle_id','data_installment','listing_price','data_make','data_model','data_year', \n",
        "                'data_mileage','data_transmission','doors', 'seat_capacity', 'assembled',\n",
        "                'engine_cc','peak_power', 'peak_torque', 'engine_type','fuel_type']]\n",
        "df_carlist02[['data_installment','listing_price']] = df_carlist02[['data_installment','listing_price']].astype(float)\n",
        "df_carlist02.dtypes"
      ]
    },
    {
      "cell_type": "code",
      "execution_count": 65,
      "metadata": {
        "scrolled": true,
        "id": "hDo7-gz2zNIm",
        "outputId": "e26eb0eb-d705-4202-abc9-12d398cef8ea",
        "colab": {
          "base_uri": "https://localhost:8080/"
        }
      },
      "outputs": [
        {
          "output_type": "execute_result",
          "data": {
            "text/plain": [
              "vehicle_id             0\n",
              "data_installment       0\n",
              "listing_price          0\n",
              "data_make              0\n",
              "data_model             0\n",
              "data_year              0\n",
              "data_mileage           0\n",
              "data_transmission      0\n",
              "doors                  1\n",
              "seat_capacity          1\n",
              "assembled            203\n",
              "engine_cc            553\n",
              "peak_power           340\n",
              "peak_torque          345\n",
              "engine_type          203\n",
              "fuel_type              1\n",
              "dtype: int64"
            ]
          },
          "metadata": {},
          "execution_count": 65
        }
      ],
      "source": [
        "df_carlist02.isna().sum()"
      ]
    },
    {
      "cell_type": "code",
      "execution_count": 66,
      "metadata": {
        "id": "mV9mdZ_CzNIm"
      },
      "outputs": [],
      "source": [
        "df_carlist02['assembled'] = df_carlist02['assembled'].fillna(df_carlist02['assembled'].mode()[0])\n",
        "df_carlist02['seat_capacity'] = df_carlist02['seat_capacity'].fillna(df_carlist02['seat_capacity'].mode()[0])\n",
        "df_carlist02['doors'] = df_carlist02['doors'].fillna(df_carlist02['doors'].mode()[0])\n",
        "df_carlist02['engine_cc'] = df_carlist02['engine_cc'].fillna(df_carlist02['engine_cc'].mode()[0])\n",
        "df_carlist02['peak_power'] = df_carlist02['peak_power'].fillna(df_carlist02['peak_power'].mode()[0])\n",
        "df_carlist02['peak_torque'] = df_carlist02['peak_torque'].fillna(df_carlist02['peak_torque'].mode()[0])\n",
        "df_carlist02['engine_type'] = df_carlist02['engine_type'].fillna(df_carlist02['engine_type'].mode()[0])\n",
        "df_carlist02['fuel_type'] = df_carlist02['fuel_type'].fillna(df_carlist02['fuel_type'].mode()[0])"
      ]
    },
    {
      "cell_type": "code",
      "execution_count": 67,
      "metadata": {
        "collapsed": true,
        "id": "G5q93u9WzNIn",
        "outputId": "01ab29d9-30ca-470d-91ca-8ed34cd3368b",
        "colab": {
          "base_uri": "https://localhost:8080/"
        }
      },
      "outputs": [
        {
          "output_type": "execute_result",
          "data": {
            "text/plain": [
              "vehicle_id           0\n",
              "data_installment     0\n",
              "listing_price        0\n",
              "data_make            0\n",
              "data_model           0\n",
              "data_year            0\n",
              "data_mileage         0\n",
              "data_transmission    0\n",
              "doors                0\n",
              "seat_capacity        0\n",
              "assembled            0\n",
              "engine_cc            0\n",
              "peak_power           0\n",
              "peak_torque          0\n",
              "engine_type          0\n",
              "fuel_type            0\n",
              "dtype: int64"
            ]
          },
          "metadata": {},
          "execution_count": 67
        }
      ],
      "source": [
        "df_carlist02.isna().sum()"
      ]
    },
    {
      "cell_type": "markdown",
      "metadata": {
        "id": "8WRxeXTAzNIn"
      },
      "source": [
        "### Remove outliers"
      ]
    },
    {
      "cell_type": "code",
      "execution_count": 68,
      "metadata": {
        "id": "Egas-NP_zNIn",
        "outputId": "eaa498b7-4996-483f-99c0-48f538e9022c",
        "colab": {
          "base_uri": "https://localhost:8080/",
          "height": 364
        }
      },
      "outputs": [
        {
          "output_type": "execute_result",
          "data": {
            "text/plain": [
              "       data_installment  listing_price    data_year  data_mileage  \\\n",
              "count       5600.000000   5.600000e+03  5600.000000   5600.000000   \n",
              "mean        1975.854286   1.524061e+05  2021.979286      3.203393   \n",
              "std         1737.182048   1.339980e+05     0.498542     88.338692   \n",
              "min          303.000000   2.336700e+04  2012.000000      0.000000   \n",
              "25%         1009.250000   7.781400e+04  2022.000000      0.000000   \n",
              "50%         1445.500000   1.114940e+05  2022.000000      0.000000   \n",
              "75%         2169.250000   1.673160e+05  2022.000000      0.000000   \n",
              "max        41356.000000   3.190000e+06  2023.000000   2500.000000   \n",
              "\n",
              "             doors  seat_capacity     engine_cc   peak_power  peak_torque  \n",
              "count  5600.000000    5600.000000   5600.000000  5600.000000   5600.00000  \n",
              "mean      4.459464       5.247500   1781.671786   164.213036    252.54625  \n",
              "std       0.724485       1.517827    684.204159    73.344452    134.56929  \n",
              "min       2.000000       2.000000    659.000000    53.000000     78.00000  \n",
              "25%       4.000000       5.000000   1496.000000   107.000000    145.00000  \n",
              "50%       5.000000       5.000000   1498.000000   150.000000    213.00000  \n",
              "75%       5.000000       5.000000   1996.000000   182.000000    350.00000  \n",
              "max       5.000000      28.000000  12913.000000   730.000000    900.00000  "
            ],
            "text/html": [
              "\n",
              "  <div id=\"df-e9a8f9f3-b12f-49df-a937-8651a233aefd\">\n",
              "    <div class=\"colab-df-container\">\n",
              "      <div>\n",
              "<style scoped>\n",
              "    .dataframe tbody tr th:only-of-type {\n",
              "        vertical-align: middle;\n",
              "    }\n",
              "\n",
              "    .dataframe tbody tr th {\n",
              "        vertical-align: top;\n",
              "    }\n",
              "\n",
              "    .dataframe thead th {\n",
              "        text-align: right;\n",
              "    }\n",
              "</style>\n",
              "<table border=\"1\" class=\"dataframe\">\n",
              "  <thead>\n",
              "    <tr style=\"text-align: right;\">\n",
              "      <th></th>\n",
              "      <th>data_installment</th>\n",
              "      <th>listing_price</th>\n",
              "      <th>data_year</th>\n",
              "      <th>data_mileage</th>\n",
              "      <th>doors</th>\n",
              "      <th>seat_capacity</th>\n",
              "      <th>engine_cc</th>\n",
              "      <th>peak_power</th>\n",
              "      <th>peak_torque</th>\n",
              "    </tr>\n",
              "  </thead>\n",
              "  <tbody>\n",
              "    <tr>\n",
              "      <th>count</th>\n",
              "      <td>5600.000000</td>\n",
              "      <td>5.600000e+03</td>\n",
              "      <td>5600.000000</td>\n",
              "      <td>5600.000000</td>\n",
              "      <td>5600.000000</td>\n",
              "      <td>5600.000000</td>\n",
              "      <td>5600.000000</td>\n",
              "      <td>5600.000000</td>\n",
              "      <td>5600.00000</td>\n",
              "    </tr>\n",
              "    <tr>\n",
              "      <th>mean</th>\n",
              "      <td>1975.854286</td>\n",
              "      <td>1.524061e+05</td>\n",
              "      <td>2021.979286</td>\n",
              "      <td>3.203393</td>\n",
              "      <td>4.459464</td>\n",
              "      <td>5.247500</td>\n",
              "      <td>1781.671786</td>\n",
              "      <td>164.213036</td>\n",
              "      <td>252.54625</td>\n",
              "    </tr>\n",
              "    <tr>\n",
              "      <th>std</th>\n",
              "      <td>1737.182048</td>\n",
              "      <td>1.339980e+05</td>\n",
              "      <td>0.498542</td>\n",
              "      <td>88.338692</td>\n",
              "      <td>0.724485</td>\n",
              "      <td>1.517827</td>\n",
              "      <td>684.204159</td>\n",
              "      <td>73.344452</td>\n",
              "      <td>134.56929</td>\n",
              "    </tr>\n",
              "    <tr>\n",
              "      <th>min</th>\n",
              "      <td>303.000000</td>\n",
              "      <td>2.336700e+04</td>\n",
              "      <td>2012.000000</td>\n",
              "      <td>0.000000</td>\n",
              "      <td>2.000000</td>\n",
              "      <td>2.000000</td>\n",
              "      <td>659.000000</td>\n",
              "      <td>53.000000</td>\n",
              "      <td>78.00000</td>\n",
              "    </tr>\n",
              "    <tr>\n",
              "      <th>25%</th>\n",
              "      <td>1009.250000</td>\n",
              "      <td>7.781400e+04</td>\n",
              "      <td>2022.000000</td>\n",
              "      <td>0.000000</td>\n",
              "      <td>4.000000</td>\n",
              "      <td>5.000000</td>\n",
              "      <td>1496.000000</td>\n",
              "      <td>107.000000</td>\n",
              "      <td>145.00000</td>\n",
              "    </tr>\n",
              "    <tr>\n",
              "      <th>50%</th>\n",
              "      <td>1445.500000</td>\n",
              "      <td>1.114940e+05</td>\n",
              "      <td>2022.000000</td>\n",
              "      <td>0.000000</td>\n",
              "      <td>5.000000</td>\n",
              "      <td>5.000000</td>\n",
              "      <td>1498.000000</td>\n",
              "      <td>150.000000</td>\n",
              "      <td>213.00000</td>\n",
              "    </tr>\n",
              "    <tr>\n",
              "      <th>75%</th>\n",
              "      <td>2169.250000</td>\n",
              "      <td>1.673160e+05</td>\n",
              "      <td>2022.000000</td>\n",
              "      <td>0.000000</td>\n",
              "      <td>5.000000</td>\n",
              "      <td>5.000000</td>\n",
              "      <td>1996.000000</td>\n",
              "      <td>182.000000</td>\n",
              "      <td>350.00000</td>\n",
              "    </tr>\n",
              "    <tr>\n",
              "      <th>max</th>\n",
              "      <td>41356.000000</td>\n",
              "      <td>3.190000e+06</td>\n",
              "      <td>2023.000000</td>\n",
              "      <td>2500.000000</td>\n",
              "      <td>5.000000</td>\n",
              "      <td>28.000000</td>\n",
              "      <td>12913.000000</td>\n",
              "      <td>730.000000</td>\n",
              "      <td>900.00000</td>\n",
              "    </tr>\n",
              "  </tbody>\n",
              "</table>\n",
              "</div>\n",
              "      <button class=\"colab-df-convert\" onclick=\"convertToInteractive('df-e9a8f9f3-b12f-49df-a937-8651a233aefd')\"\n",
              "              title=\"Convert this dataframe to an interactive table.\"\n",
              "              style=\"display:none;\">\n",
              "        \n",
              "  <svg xmlns=\"http://www.w3.org/2000/svg\" height=\"24px\"viewBox=\"0 0 24 24\"\n",
              "       width=\"24px\">\n",
              "    <path d=\"M0 0h24v24H0V0z\" fill=\"none\"/>\n",
              "    <path d=\"M18.56 5.44l.94 2.06.94-2.06 2.06-.94-2.06-.94-.94-2.06-.94 2.06-2.06.94zm-11 1L8.5 8.5l.94-2.06 2.06-.94-2.06-.94L8.5 2.5l-.94 2.06-2.06.94zm10 10l.94 2.06.94-2.06 2.06-.94-2.06-.94-.94-2.06-.94 2.06-2.06.94z\"/><path d=\"M17.41 7.96l-1.37-1.37c-.4-.4-.92-.59-1.43-.59-.52 0-1.04.2-1.43.59L10.3 9.45l-7.72 7.72c-.78.78-.78 2.05 0 2.83L4 21.41c.39.39.9.59 1.41.59.51 0 1.02-.2 1.41-.59l7.78-7.78 2.81-2.81c.8-.78.8-2.07 0-2.86zM5.41 20L4 18.59l7.72-7.72 1.47 1.35L5.41 20z\"/>\n",
              "  </svg>\n",
              "      </button>\n",
              "      \n",
              "  <style>\n",
              "    .colab-df-container {\n",
              "      display:flex;\n",
              "      flex-wrap:wrap;\n",
              "      gap: 12px;\n",
              "    }\n",
              "\n",
              "    .colab-df-convert {\n",
              "      background-color: #E8F0FE;\n",
              "      border: none;\n",
              "      border-radius: 50%;\n",
              "      cursor: pointer;\n",
              "      display: none;\n",
              "      fill: #1967D2;\n",
              "      height: 32px;\n",
              "      padding: 0 0 0 0;\n",
              "      width: 32px;\n",
              "    }\n",
              "\n",
              "    .colab-df-convert:hover {\n",
              "      background-color: #E2EBFA;\n",
              "      box-shadow: 0px 1px 2px rgba(60, 64, 67, 0.3), 0px 1px 3px 1px rgba(60, 64, 67, 0.15);\n",
              "      fill: #174EA6;\n",
              "    }\n",
              "\n",
              "    [theme=dark] .colab-df-convert {\n",
              "      background-color: #3B4455;\n",
              "      fill: #D2E3FC;\n",
              "    }\n",
              "\n",
              "    [theme=dark] .colab-df-convert:hover {\n",
              "      background-color: #434B5C;\n",
              "      box-shadow: 0px 1px 3px 1px rgba(0, 0, 0, 0.15);\n",
              "      filter: drop-shadow(0px 1px 2px rgba(0, 0, 0, 0.3));\n",
              "      fill: #FFFFFF;\n",
              "    }\n",
              "  </style>\n",
              "\n",
              "      <script>\n",
              "        const buttonEl =\n",
              "          document.querySelector('#df-e9a8f9f3-b12f-49df-a937-8651a233aefd button.colab-df-convert');\n",
              "        buttonEl.style.display =\n",
              "          google.colab.kernel.accessAllowed ? 'block' : 'none';\n",
              "\n",
              "        async function convertToInteractive(key) {\n",
              "          const element = document.querySelector('#df-e9a8f9f3-b12f-49df-a937-8651a233aefd');\n",
              "          const dataTable =\n",
              "            await google.colab.kernel.invokeFunction('convertToInteractive',\n",
              "                                                     [key], {});\n",
              "          if (!dataTable) return;\n",
              "\n",
              "          const docLinkHtml = 'Like what you see? Visit the ' +\n",
              "            '<a target=\"_blank\" href=https://colab.research.google.com/notebooks/data_table.ipynb>data table notebook</a>'\n",
              "            + ' to learn more about interactive tables.';\n",
              "          element.innerHTML = '';\n",
              "          dataTable['output_type'] = 'display_data';\n",
              "          await google.colab.output.renderOutput(dataTable, element);\n",
              "          const docLink = document.createElement('div');\n",
              "          docLink.innerHTML = docLinkHtml;\n",
              "          element.appendChild(docLink);\n",
              "        }\n",
              "      </script>\n",
              "    </div>\n",
              "  </div>\n",
              "  "
            ]
          },
          "metadata": {},
          "execution_count": 68
        }
      ],
      "source": [
        "# Statistical summary\n",
        "df_carlist02.iloc[:,1:].describe()"
      ]
    },
    {
      "cell_type": "markdown",
      "metadata": {
        "id": "VtjJkP6uzNIn"
      },
      "source": [
        "From the summary above, we can find that the `data_installment` and `listing_price` are having some anomalous data, as well as the `seat_capacity` (max=28). Some boxplots are plotted to check the data."
      ]
    },
    {
      "cell_type": "code",
      "execution_count": 69,
      "metadata": {
        "id": "SpetR7nszNIn",
        "outputId": "f1a26b78-3b6d-4277-a4e6-edaf68566d50",
        "colab": {
          "base_uri": "https://localhost:8080/",
          "height": 317
        }
      },
      "outputs": [
        {
          "output_type": "display_data",
          "data": {
            "text/html": [
              "<html>\n",
              "<head><meta charset=\"utf-8\" /></head>\n",
              "<body>\n",
              "    <div>            <script src=\"https://cdnjs.cloudflare.com/ajax/libs/mathjax/2.7.5/MathJax.js?config=TeX-AMS-MML_SVG\"></script><script type=\"text/javascript\">if (window.MathJax) {MathJax.Hub.Config({SVG: {font: \"STIX-Web\"}});}</script>                <script type=\"text/javascript\">window.PlotlyConfig = {MathJaxConfig: 'local'};</script>\n",
              "        <script src=\"https://cdn.plot.ly/plotly-2.8.3.min.js\"></script>                <div id=\"16af999e-71f5-4977-b0ff-15ba4912cd0b\" class=\"plotly-graph-div\" style=\"height:300px; width:600px;\"></div>            <script type=\"text/javascript\">                                    window.PLOTLYENV=window.PLOTLYENV || {};                                    if (document.getElementById(\"16af999e-71f5-4977-b0ff-15ba4912cd0b\")) {                    Plotly.newPlot(                        \"16af999e-71f5-4977-b0ff-15ba4912cd0b\",                        [{\"alignmentgroup\":\"True\",\"boxpoints\":\"outliers\",\"hovertemplate\":\"data_installment=%{x}<extra></extra>\",\"legendgroup\":\"\",\"marker\":{\"color\":\"#636efa\"},\"name\":\"\",\"notched\":false,\"offsetgroup\":\"\",\"orientation\":\"h\",\"showlegend\":false,\"x\":[1694.0,3876.0,1157.0,777.0,1426.0,756.0,892.0,1097.0,446.0,376.0,1018.0,2917.0,2217.0,1406.0,1406.0,2362.0,788.0,1093.0,1694.0,1400.0,1451.0,11134.0,1296.0,1086.0,1172.0,1943.0,1815.0,1136.0,1172.0,1170.0,1157.0,1894.0,773.0,5055.0,1722.0,2104.0,1130.0,1802.0,1143.0,1318.0,1941.0,1605.0,4278.0,3059.0,2450.0,1120.0,1084.0,4146.0,931.0,993.0,1879.0,454.0,1006.0,984.0,997.0,945.0,971.0,961.0,1157.0,2217.0,446.0,376.0,1015.0,1176.0,2930.0,2074.0,2450.0,3059.0,3591.0,1029.0,961.0,974.0,2149.0,1188.0,1390.0,1448.0,1237.0,1512.0,1390.0,1449.0,1241.0,1075.0,1904.0,945.0,1543.0,1750.0,782.0,1776.0,3358.0,2545.0,1690.0,946.0,946.0,1776.0,1309.0,1427.0,1119.0,503.0,1894.0,1170.0,1157.0,949.0,1172.0,944.0,1853.0,376.0,1015.0,1850.0,1606.0,1318.0,1182.0,2398.0,1841.0,3486.0,985.0,3486.0,3591.0,1841.0,2111.0,1751.0,1188.0,1337.0,969.0,4005.0,1852.0,3369.0,1412.0,2190.0,1316.0,1854.0,551.0,765.0,620.0,2411.0,1119.0,1501.0,446.0,1338.0,583.0,1189.0,1613.0,1314.0,1410.0,1326.0,1879.0,1119.0,1119.0,451.0,1006.0,1672.0,1671.0,984.0,972.0,959.0,970.0,1449.0,954.0,1400.0,810.0,948.0,1808.0,583.0,1119.0,1281.0,4614.0,3898.0,3732.0,1831.0,1841.0,1802.0,1210.0,1296.0,2356.0,1295.0,2541.0,3250.0,451.0,980.0,941.0,777.0,1002.0,1875.0,1688.0,2182.0,2012.0,2746.0,1393.0,2461.0,2850.0,1602.0,2655.0,2256.0,1788.0,376.0,1775.0,4251.0,3732.0,6610.0,9190.0,1694.0,946.0,946.0,376.0,445.0,1110.0,905.0,1773.0,2072.0,2175.0,1736.0,1049.0,2061.0,451.0,1670.0,2347.0,1848.0,963.0,433.0,2365.0,3876.0,1393.0,1092.0,738.0,376.0,467.0,2074.0,1281.0,1015.0,376.0,1873.0,1080.0,1121.0,1006.0,1400.0,920.0,1605.0,1110.0,1092.0,1619.0,1064.0,1077.0,1554.0,1141.0,1903.0,952.0,979.0,570.0,1015.0,376.0,1917.0,1106.0,1132.0,2188.0,1400.0,1282.0,979.0,5910.0,814.0,1006.0,1465.0,620.0,1469.0,1149.0,1449.0,1400.0,1400.0,1436.0,966.0,1011.0,905.0,1088.0,1296.0,2930.0,1077.0,1130.0,2133.0,1010.0,1075.0,1859.0,1181.0,975.0,708.0,1296.0,1296.0,938.0,946.0,378.0,946.0,1076.0,1076.0,2165.0,2165.0,2165.0,1076.0,739.0,1168.0,1451.0,957.0,971.0,1811.0,1054.0,1125.0,2430.0,1002.0,989.0,1563.0,1271.0,1271.0,1271.0,428.0,726.0,1258.0,428.0,3835.0,506.0,635.0,1859.0,1723.0,1149.0,1670.0,1595.0,2193.0,2057.0,596.0,5510.0,1812.0,1400.0,2450.0,946.0,946.0,376.0,1015.0,777.0,797.0,695.0,2450.0,2930.0,1400.0,3591.0,1271.0,3486.0,4614.0,1596.0,1320.0,1335.0,2545.0,7519.0,2056.0,1041.0,778.0,1123.0,2165.0,2165.0,712.0,2113.0,1018.0,2178.0,945.0,2074.0,1041.0,1071.0,2191.0,2437.0,2545.0,1320.0,448.0,810.0,804.0,1055.0,1715.0,987.0,1296.0,1204.0,804.0,912.0,810.0,647.0,1006.0,1010.0,440.0,493.0,945.0,797.0,819.0,1865.0,1119.0,1436.0,1320.0,445.0,1400.0,773.0,773.0,773.0,997.0,1292.0,905.0,314.0,714.0,967.0,1210.0,2833.0,1694.0,1449.0,1006.0,998.0,2928.0,1867.0,961.0,1867.0,1893.0,6456.0,1939.0,1666.0,6417.0,3616.0,4614.0,2217.0,2217.0,1894.0,1400.0,1894.0,993.0,1879.0,906.0,1272.0,1272.0,1272.0,2074.0,542.0,946.0,905.0,1210.0,1776.0,2204.0,1006.0,620.0,581.0,5612.0,4614.0,4808.0,5405.0,3616.0,451.0,451.0,451.0,1119.0,1119.0,451.0,1296.0,967.0,1475.0,1400.0,652.0,1400.0,1469.0,1210.0,1605.0,1119.0,1436.0,1320.0,756.0,700.0,503.0,1878.0,1914.0,993.0,998.0,3721.0,4706.0,9190.0,5251.0,6417.0,1919.0,1411.0,3708.0,9179.0,4484.0,6429.0,1763.0,2165.0,1343.0,1632.0,1085.0,2056.0,2056.0,1054.0,1750.0,2191.0,542.0,3416.0,3416.0,2372.0,814.0,1696.0,451.0,2230.0,1750.0,873.0,961.0,2074.0,1697.0,2151.0,980.0,985.0,1208.0,898.0,1011.0,1076.0,1919.0,502.0,1930.0,480.0,1076.0,1400.0,908.0,998.0,697.0,1006.0,773.0,1436.0,2321.0,814.0,1802.0,2839.0,1696.0,1691.0,1579.0,5320.0,1164.0,441.0,1019.0,1488.0,3565.0,979.0,1055.0,1691.0,497.0,446.0,497.0,1119.0,497.0,1785.0,525.0,525.0,841.0,914.0,1014.0,627.0,739.0,805.0,494.0,592.0,673.0,840.0,904.0,975.0,1046.0,979.0,1312.0,1312.0,1119.0,1281.0,519.0,814.0,555.0,814.0,1338.0,4836.0,4836.0,810.0,1296.0,1810.0,935.0,944.0,970.0,920.0,920.0,1175.0,748.0,748.0,612.0,612.0,1110.0,1781.0,1406.0,1406.0,1170.0,1170.0,1162.0,1387.0,1168.0,2183.0,1688.0,2850.0,2362.0,2461.0,2013.0,1400.0,1878.0,2362.0,1788.0,2013.0,1658.0,441.0,1838.0,1841.0,1914.0,1060.0,1400.0,1942.0,2178.0,737.0,1143.0,1378.0,1201.0,981.0,446.0,493.0,1119.0,1119.0,497.0,493.0,555.0,4252.0,2450.0,1010.0,4641.0,3487.0,1942.0,957.0,2360.0,1690.0,1608.0,2545.0,2020.0,2240.0,1812.0,1696.0,941.0,2321.0,810.0,2087.0,1385.0,5510.0,1400.0,1245.0,1228.0,1242.0,1449.0,1449.0,1177.0,1391.0,827.0,1391.0,5419.0,1465.0,1282.0,1653.0,1648.0,598.0,879.0,1761.0,1761.0,1761.0,11913.0,1430.0,1110.0,1430.0,2022.0,3008.0,3591.0,2930.0,2930.0,1006.0,1866.0,2352.0,1001.0,1036.0,1033.0,1157.0,1210.0,736.0,519.0,1210.0,5160.0,5160.0,519.0,1210.0,1210.0,1210.0,583.0,446.0,940.0,794.0,418.0,599.0,794.0,993.0,572.0,920.0,920.0,985.0,2930.0,1110.0,419.0,1535.0,1801.0,1943.0,1639.0,3591.0,1024.0,3486.0,998.0,932.0,1671.0,1412.0,1645.0,919.0,4602.0,1136.0,2074.0,5004.0,1681.0,1891.0,3028.0,789.0,647.0,802.0,5173.0,1513.0,1296.0,3241.0,1055.0,599.0,777.0,972.0,4536.0,3241.0,1176.0,1943.0,777.0,2435.0,1119.0,1400.0,4084.0,627.0,2591.0,1885.0,2139.0,983.0,4614.0,10356.0,1167.0,3941.0,1839.0,979.0,2332.0,3591.0,920.0,920.0,1120.0,2029.0,2850.0,474.0,1469.0,1839.0,7766.0,780.0,441.0,1449.0,1006.0,1110.0,441.0,441.0,3057.0,1403.0,2510.0,1110.0,1110.0,1110.0,1110.0,2500.0,3176.0,3098.0,1322.0,1582.0,1656.0,3098.0,3721.0,807.0,498.0,498.0,542.0,542.0,1080.0,773.0,1815.0,620.0,454.0,920.0,920.0,445.0,1465.0,2015.0,3786.0,441.0,452.0,1935.0,5171.0,6247.0,4484.0,2980.0,743.0,1400.0,1726.0,1268.0,1022.0,1891.0,972.0,5158.0,4458.0,1099.0,9190.0,3732.0,1073.0,1879.0,1513.0,3654.0,1160.0,1048.0,1387.0,1634.0,2191.0,2056.0,1210.0,3384.0,3021.0,542.0,3235.0,3021.0,607.0,1926.0,767.0,574.0,1592.0,1210.0,3358.0,2165.0,2165.0,1776.0,920.0,1469.0,3059.0,1309.0,1271.0,1309.0,1281.0,1167.0,1273.0,441.0,1119.0,1465.0,3680.0,4484.0,3732.0,1119.0,1055.0,1210.0,2512.0,983.0,777.0,1010.0,1296.0,993.0,2318.0,441.0,1905.0,1828.0,1828.0,1055.0,1465.0,1465.0,1465.0,1136.0,1465.0,1136.0,1465.0,1136.0,1136.0,933.0,1556.0,1123.0,1465.0,1475.0,773.0,949.0,949.0,1013.0,1775.0,1400.0,4290.0,2204.0,5327.0,1292.0,1119.0,1281.0,2450.0,2887.0,3059.0,1671.0,993.0,1338.0,959.0,959.0,1210.0,2344.0,1206.0,451.0,6247.0,952.0,1272.0,1140.0,1982.0,2900.0,2056.0,4283.0,3505.0,5060.0,1903.0,1242.0,1359.0,1242.0,1592.0,1359.0,827.0,1171.0,1255.0,1812.0,454.0,920.0,940.0,445.0,827.0,1073.0,2074.0,1776.0,1019.0,1006.0,1904.0,1776.0,1089.0,1120.0,5380.0,1338.0,940.0,933.0,2706.0,2411.0,1359.0,1830.0,1883.0,2191.0,2995.0,3410.0,3021.0,1054.0,1210.0,1750.0,497.0,1608.0,1608.0,3410.0,933.0,1073.0,1296.0,2943.0,2061.0,1878.0,2450.0,438.0,2437.0,3047.0,2191.0,1608.0,1903.0,1210.0,1400.0,1776.0,4149.0,5041.0,1690.0,3591.0,789.0,937.0,873.0,1010.0,773.0,471.0,1022.0,931.0,918.0,1465.0,1527.0,1449.0,1514.0,1055.0,445.0,1943.0,1943.0,2165.0,2074.0,1690.0,2165.0,2376.0,1055.0,1645.0,1400.0,5190.0,2094.0,1247.0,598.0,989.0,989.0,1092.0,1092.0,1393.0,1393.0,1209.0,1002.0,1002.0,987.0,804.0,830.0,2165.0,807.0,945.0,1776.0,777.0,2165.0,1076.0,1253.0,6429.0,6429.0,575.0,1489.0,1105.0,1696.0,9190.0,1488.0,1694.0,4213.0,4862.0,1400.0,4862.0,1640.0,1640.0,3487.0,1400.0,1076.0,756.0,406.0,1312.0,1841.0,570.0,660.0,454.0,1631.0,1883.0,1828.0,1063.0,1002.0,1209.0,989.0,11109.0,989.0,1296.0,5445.0,895.0,5445.0,933.0,1124.0,915.0,4252.0,5158.0,3732.0,1878.0,7260.0,1124.0,1811.0,1403.0,1403.0,1872.0,1256.0,1182.0,1307.0,1318.0,1851.0,1475.0,614.0,1256.0,7390.0,7260.0,1312.0,1619.0,1776.0,2165.0,2376.0,1029.0,941.0,928.0,3266.0,3680.0,4251.0,4458.0,3486.0,3486.0,4808.0,4069.0,2430.0,1175.0,1312.0,1296.0,1281.0,2437.0,2201.0,1111.0,3487.0,2577.0,1006.0,2295.0,3591.0,1785.0,1481.0,1115.0,1875.0,2582.0,3578.0,3732.0,5405.0,1296.0,888.0,1140.0,542.0,1048.0,1400.0,1627.0,1296.0,1691.0,1206.0,1255.0,1506.0,1939.0,1232.0,1296.0,1123.0,1123.0,1400.0,944.0,4808.0,1690.0,827.0,687.0,620.0,1469.0,574.0,1206.0,1036.0,1811.0,454.0,1645.0,1399.0,1522.0,1945.0,1478.0,1361.0,1123.0,2437.0,1296.0,1476.0,1852.0,942.0,520.0,1024.0,1210.0,1007.0,1039.0,1296.0,2269.0,1400.0,1110.0,1904.0,1089.0,2159.0,2545.0,3732.0,6223.0,6741.0,3630.0,1037.0,3059.0,9190.0,493.0,866.0,5405.0,2545.0,959.0,4408.0,1271.0,5055.0,1690.0,2365.0,1812.0,1812.0,1812.0,1929.0,1722.0,1722.0,1929.0,1929.0,1812.0,441.0,1776.0,1048.0,2175.0,1802.0,1711.0,1802.0,1242.0,454.0,1242.0,1391.0,1398.0,3769.0,1281.0,1171.0,1281.0,1132.0,1132.0,1400.0,1436.0,1841.0,445.0,1763.0,2385.0,1400.0,1605.0,1010.0,1605.0,1311.0,3940.0,3486.0,959.0,4069.0,985.0,2191.0,807.0,3718.0,3059.0,2930.0,5121.0,1029.0,3578.0,7623.0,7623.0,7390.0,7260.0,7260.0,2074.0,1688.0,542.0,1316.0,1619.0,1852.0,2151.0,961.0,1749.0,5161.0,3729.0,5457.0,1750.0,1290.0,1290.0,1338.0,1690.0,2190.0,1338.0,1788.0,5300.0,1182.0,4475.0,1290.0,1216.0,512.0,2165.0,1776.0,2511.0,802.0,1010.0,971.0,2284.0,1788.0,2980.0,2383.0,1690.0,1387.0,1281.0,952.0,458.0,452.0,315.0,606.0,1812.0,1296.0,3369.0,4069.0,934.0,497.0,3732.0,4251.0,777.0,516.0,1290.0,2113.0,1080.0,1749.0,1217.0,1400.0,5251.0,18409.0,1825.0,1954.0,1338.0,957.0,483.0,1006.0,1942.0,5056.0,4408.0,497.0,937.0,6610.0,765.0,975.0,2175.0,1296.0,1632.0,1359.0,1359.0,1359.0,5612.0,3745.0,1852.0,4343.0,1387.0,3539.0,3487.0,3539.0,3539.0,4782.0,3745.0,4264.0,670.0,1316.0,4264.0,5042.0,2930.0,1404.0,1074.0,2175.0,1942.0,1282.0,691.0,2450.0,1372.0,1750.0,1750.0,3228.0,1750.0,2372.0,3416.0,1776.0,1400.0,1400.0,1867.0,2175.0,1776.0,1776.0,1566.0,2175.0,1400.0,4408.0,4408.0,503.0,948.0,1290.0,4775.0,1851.0,1024.0,945.0,1172.0,2204.0,3059.0,1296.0,1042.0,1182.0,1344.0,1752.0,2193.0,1387.0,967.0,1011.0,932.0,1776.0,2165.0,2165.0,2165.0,1028.0,493.0,1815.0,2178.0,2383.0,2367.0,1888.0,1528.0,1271.0,2184.0,707.0,1151.0,3656.0,2088.0,2232.0,1320.0,2177.0,979.0,777.0,1010.0,1837.0,2528.0,789.0,629.0,878.0,1037.0,3732.0,804.0,1245.0,804.0,1042.0,948.0,454.0,757.0,968.0,1322.0,467.0,3410.0,2372.0,3416.0,1596.0,1774.0,1322.0,446.0,1776.0,1776.0,1776.0,1773.0,1042.0,1796.0,3721.0,4873.0,1796.0,1663.0,3027.0,2541.0,4614.0,7623.0,4614.0,1840.0,1072.0,4484.0,1114.0,1801.0,1281.0,1188.0,2222.0,1175.0,1137.0,3721.0,1723.0,1862.0,1036.0,1400.0,1400.0,1776.0,3486.0,3486.0,3732.0,1776.0,1296.0,1484.0,5405.0,625.0,4836.0,2967.0,2833.0,2528.0,941.0,5405.0,3745.0,3745.0,5405.0,3745.0,3745.0,5405.0,3745.0,3745.0,5405.0,3745.0,542.0,1670.0,1644.0,555.0,446.0,5405.0,5612.0,1670.0,1696.0,1010.0,1272.0,5431.0,4252.0,4836.0,4187.0,4252.0,2057.0,1901.0,1958.0,1751.0,1188.0,934.0,4263.0,1088.0,1136.0,1617.0,933.0,1042.0,1042.0,1888.0,1272.0,2165.0,2093.0,2165.0,4718.0,4264.0,3291.0,4627.0,1243.0,1346.0,707.0,1151.0,699.0,1552.0,1486.0,1775.0,1545.0,3361.0,959.0,2980.0,5041.0,1141.0,535.0,1006.0,4226.0,4499.0,497.0,613.0,710.0,568.0,464.0,1210.0,1452.0,2222.0,648.0,1436.0,1776.0,5730.0,1042.0,5405.0,3745.0,9190.0,954.0,1439.0,1776.0,1841.0,1296.0,1387.0,1643.0,1093.0,836.0,1123.0,1776.0,1752.0,1281.0,993.0,480.0,596.0,700.0,1154.0,1037.0,1249.0,1541.0,1658.0,1619.0,1684.0,1249.0,1322.0,972.0,941.0,777.0,882.0,1011.0,712.0,2193.0,873.0,1153.0,814.0,946.0,1465.0,7260.0,5315.0,2074.0,3578.0,1904.0,2430.0,583.0,1268.0,1813.0,560.0,1042.0,1055.0,1632.0,1042.0,3485.0,924.0,1110.0,2139.0,1436.0,1119.0,1528.0,1119.0,1436.0,1210.0,1436.0,1776.0,1776.0,570.0,560.0,506.0,1075.0,1423.0,2093.0,1700.0,464.0,1690.0,2157.0,5405.0,5405.0,5612.0,441.0,1271.0,800.0,978.0,1789.0,1400.0,981.0,1006.0,773.0,599.0,1128.0,7260.0,5158.0,4484.0,1271.0,972.0,504.0,1776.0,1776.0,3358.0,972.0,504.0,1115.0,429.0,968.0,1400.0,2295.0,446.0,1723.0,1049.0,1239.0,1750.0,312.0,1123.0,1010.0,4263.0,1213.0,474.0,2450.0,2289.0,1798.0,707.0,599.0,708.0,1724.0,2159.0,895.0,1592.0,1527.0,1258.0,1046.0,963.0,1119.0,2061.0,945.0,1793.0,1423.0,1752.0,1858.0,1037.0,1165.0,1088.0,1243.0,1563.0,3745.0,1075.0,596.0,402.0,836.0,1827.0,4614.0,3616.0,4160.0,981.0,572.0,980.0,1605.0,648.0,2424.0,1296.0,6677.0,451.0,5678.0,2930.0,2204.0,3486.0,3486.0,788.0,451.0,1119.0,1268.0,1119.0,1338.0,1042.0,389.0,807.0,1006.0,5678.0,980.0,1042.0,1042.0,1136.0,4173.0,5056.0,743.0,1322.0,1053.0,797.0,857.0,5262.0,3732.0,2204.0,1475.0,1085.0,1296.0,1632.0,980.0,827.0,1595.0,440.0,2065.0,1901.0,1123.0,1488.0,2157.0,486.0,2074.0,1943.0,2879.0,905.0,5445.0,7260.0,1356.0,1271.0,2398.0,1085.0,5134.0,616.0,441.0,1123.0,7264.0,5449.0,1839.0,1943.0,1750.0,4458.0,4484.0,1605.0,1153.0,1595.0,497.0,1268.0,2074.0,707.0,1151.0,4408.0,4408.0,4538.0,5056.0,1598.0,1141.0,914.0,920.0,3928.0,4641.0,1469.0,1942.0,1942.0,1942.0,1172.0,1685.0,1255.0,1071.0,2091.0,1476.0,882.0,945.0,1890.0,3059.0,1032.0,1722.0,1812.0,5380.0,1137.0,984.0,1151.0,1210.0,972.0,972.0,843.0,1271.0,1115.0,1465.0,3205.0,2450.0,5405.0,5612.0,2193.0,1358.0,493.0,1789.0,1789.0,1789.0,2165.0,2165.0,434.0,1184.0,454.0,1184.0,775.0,810.0,1094.0,1793.0,1094.0,2405.0,1852.0,1852.0,2969.0,4382.0,3928.0,3928.0,1268.0,1926.0,1088.0,1775.0,1943.0,1346.0,1127.0,2079.0,5009.0,5009.0,5216.0,2074.0,3358.0,2165.0,1789.0,1711.0,2204.0,1664.0,1295.0,1182.0,1402.0,1137.0,1400.0,1400.0,2126.0,1566.0,3732.0,5678.0,438.0,1348.0,1400.0,2151.0,1697.0,522.0,1110.0,1646.0,7104.0,2969.0,1271.0,1436.0,2204.0,1436.0,1123.0,498.0,1296.0,1617.0,1271.0,1271.0,1271.0,2193.0,1153.0,1088.0,1789.0,1789.0,3358.0,1789.0,2165.0,2165.0,920.0,4718.0,1595.0,1037.0,1037.0,1812.0,1063.0,1006.0,1149.0,1088.0,1926.0,1036.0,1493.0,5419.0,2930.0,1296.0,3486.0,1049.0,1867.0,713.0,2098.0,1015.0,1175.0,1142.0,3487.0,1788.0,920.0,945.0,945.0,945.0,3486.0,1119.0,1115.0,3850.0,462.0,1210.0,2451.0,2451.0,1221.0,498.0,1663.0,1088.0,1926.0,1036.0,1049.0,1842.0,5575.0,1167.0,1814.0,1219.0,3695.0,3591.0,1128.0,1593.0,1538.0,1684.0,1538.0,1684.0,1593.0,1659.0,503.0,4173.0,804.0,945.0,590.0,5484.0,1535.0,1110.0,1335.0,1400.0,1110.0,979.0,1281.0,4224.0,2191.0,1605.0,1561.0,3358.0,621.0,760.0,766.0,764.0,2165.0,5419.0,497.0,905.0,769.0,1281.0,1281.0,3047.0,1802.0,2165.0,1802.0,1659.0,2917.0,1338.0,933.0,1618.0,945.0,1788.0,2901.0,1032.0,1540.0,1171.0,1050.0,6353.0,5678.0,1372.0,1010.0,4614.0,3616.0,4160.0,5419.0,1037.0,1335.0,1400.0,567.0,1595.0,959.0,622.0,661.0,1119.0,1037.0,945.0,1128.0,1387.0,1632.0,1296.0,1042.0,1943.0,3539.0,1153.0,1296.0,5678.0,1037.0,3047.0,4173.0,5405.0,648.0,4473.0,4252.0,5030.0,5251.0,3721.0,4317.0,1037.0,1400.0,1681.0,3486.0,4614.0,4614.0,303.0,552.0,627.0,5678.0,3047.0,3578.0,3047.0,2203.0,1690.0,2157.0,3369.0,3486.0,460.0,3486.0,1338.0,1188.0,8103.0,7908.0,8362.0,1812.0,1812.0,1812.0,1812.0,592.0,1812.0,434.0,1812.0,648.0,1663.0,941.0,979.0,1296.0,771.0,1024.0,1338.0,1335.0,1037.0,5405.0,1622.0,765.0,700.0,622.0,1102.0,431.0,1037.0,1042.0,5186.0,1335.0,1037.0,1400.0,1243.0,660.0,1801.0,1006.0,1232.0,2930.0,707.0,1151.0,2343.0,773.0,979.0,4016.0,1789.0,1632.0,1880.0,1880.0,451.0,1150.0,1465.0,1037.0,555.0,5171.0,1320.0,4458.0,1372.0,1683.0,497.0,1659.0,1050.0,2204.0,3591.0,2019.0,1335.0,471.0,1119.0,1750.0,1281.0,452.0,1210.0,1722.0,7377.0,668.0,1006.0,756.0,1346.0,983.0,1172.0,2332.0,1028.0,4718.0,4251.0,2980.0,3266.0,3680.0,1502.0,3358.0,3358.0,2165.0,1802.0,1006.0,2201.0,1451.0,2159.0,1624.0,451.0,1722.0,1812.0,2280.0,1296.0,895.0,1037.0,1595.0,1296.0,5251.0,4718.0,1926.0,1243.0,1036.0,1243.0,1775.0,1926.0,4614.0,945.0,4614.0,2917.0,2437.0,20095.0,12951.0,1338.0,739.0,3486.0,451.0,1243.0,2124.0,2154.0,938.0,1042.0,931.0,1815.0,4434.0,555.0,1540.0,812.0,1605.0,1605.0,1605.0,1605.0,1605.0,739.0,620.0,1325.0,1338.0,1229.0,471.0,2437.0,1654.0,542.0,3539.0,497.0,972.0,1901.0,1296.0,2112.0,1088.0,1775.0,1926.0,1853.0,1943.0,7104.0,907.0,836.0,1828.0,956.0,1605.0,933.0,895.0,941.0,2165.0,1802.0,1802.0,1802.0,555.0,9190.0,4252.0,1127.0,7104.0,756.0,1595.0,1102.0,4160.0,941.0,2096.0,1556.0,970.0,2864.0,1582.0,1752.0,493.0,720.0,3578.0,1619.0,1812.0,2193.0,1232.0,1172.0,1136.0,1232.0,1172.0,1232.0,1232.0,1136.0,1172.0,1172.0,1172.0,1136.0,1232.0,1136.0,1232.0,1136.0,1839.0,1232.0,1136.0,1318.0,6353.0,1420.0,428.0,1182.0,2917.0,2930.0,2243.0,5029.0,2658.0,1403.0,1199.0,1837.0,2165.0,2057.0,9190.0,1338.0,1063.0,4550.0,1943.0,1400.0,437.0,2306.0,1411.0,1919.0,1595.0,1136.0,1737.0,1880.0,8155.0,620.0,5445.0,6353.0,1006.0,938.0,708.0,975.0,328.0,473.0,452.0,2169.0,1121.0,8168.0,6353.0,1219.0,4252.0,2658.0,3008.0,1210.0,1320.0,1210.0,3643.0,1232.0,1476.0,777.0,1541.0,1541.0,1372.0,966.0,568.0,971.0,4319.0,5888.0,1566.0,1566.0,1110.0,5445.0,3732.0,2262.0,4173.0,1151.0,707.0,945.0,4408.0,6353.0,1338.0,2074.0,4614.0,3616.0,497.0,3578.0,1722.0,1812.0,1812.0,1812.0,1152.0,2009.0,8168.0,6353.0,4251.0,3732.0,1175.0,4978.0,503.0,4382.0,710.0,542.0,3486.0,3486.0,2901.0,807.0,501.0,459.0,1128.0,882.0,1042.0,777.0,474.0,504.0,2900.0,1799.0,2269.0,1814.0,1049.0,1802.0,1413.0,1413.0,1802.0,451.0,1201.0,954.0,979.0,893.0,975.0,497.0,2112.0,3721.0,4458.0,3578.0,972.0,933.0,933.0,972.0,687.0,1909.0,1320.0,3849.0,1036.0,5678.0,2079.0,570.0,1010.0,882.0,1172.0,1135.0,1135.0,1135.0,1839.0,1669.0,1281.0,1566.0,567.0,1081.0,497.0,945.0,2170.0,1162.0,2091.0,1833.0,1119.0,4797.0,4797.0,1540.0,882.0,1469.0,756.0,1151.0,1346.0,2087.0,735.0,498.0,603.0,764.0,810.0,4978.0,720.0,720.0,2917.0,503.0,1208.0,3021.0,1525.0,1046.0,581.0,1123.0,1267.0,979.0,1403.0,959.0,998.0,581.0,1888.0,5405.0,4160.0,3486.0,972.0,998.0,972.0,998.0,497.0,1210.0,1010.0,1941.0,945.0,778.0,484.0,1153.0,1296.0,3747.0,5095.0,2113.0,1383.0,1606.0,1121.0,1162.0,1102.0,5158.0,843.0,1372.0,557.0,1119.0,762.0,629.0,1141.0,1801.0,4239.0,1119.0,1595.0,2073.0,2073.0,2048.0,1426.0,5678.0,5678.0,4395.0,1059.0,1324.0,1123.0,712.0,1154.0,6015.0,4771.0,5678.0,972.0,1296.0,1189.0,1684.0,3486.0,1296.0,1621.0,1037.0,1037.0,3111.0,777.0,1535.0,1566.0,1535.0,1535.0,1296.0,3578.0,707.0,1151.0,5639.0,3591.0,1256.0,1249.0,1256.0,1249.0,1538.0,1400.0,1072.0,660.0,3472.0,4173.0,1206.0,2528.0,1271.0,4641.0,5639.0,3695.0,1553.0,814.0,814.0,2302.0,2284.0,1488.0,1102.0,778.0,2930.0,952.0,1602.0,4614.0,3059.0,2450.0,1281.0,497.0,4173.0,4173.0,4173.0,4173.0,4173.0,4173.0,5405.0,1171.0,1605.0,1082.0,2269.0,727.0,1617.0,1320.0,3695.0,3824.0,3824.0,1372.0,1750.0,707.0,1906.0,4808.0,3747.0,1631.0,1561.0,1232.0,1527.0,1659.0,1232.0,905.0,905.0,4382.0,1413.0,1646.0,1617.0,645.0,1609.0,1632.0,963.0,1171.0,1685.0,1171.0,1372.0,1372.0,1443.0,1528.0,700.0,1413.0,1413.0,1435.0,1346.0,1082.0,2964.0,1605.0,1039.0,2165.0,1659.0,4330.0,3824.0,2165.0,2165.0,1488.0,1335.0,1528.0,2153.0,1714.0,933.0,1281.0,971.0,1088.0,1519.0,983.0,4718.0,3695.0,3747.0,1582.0,1582.0,1828.0,2411.0,918.0,1450.0,1400.0,1750.0,1511.0,570.0,1569.0,1450.0,1929.0,978.0,611.0,1372.0,1540.0,1488.0,933.0,998.0,972.0,933.0,933.0,1488.0,971.0,998.0,971.0,1488.0,998.0,933.0,1488.0,972.0,933.0,1488.0,998.0,1488.0,1175.0,1904.0,807.0,1109.0,941.0,707.0,777.0,11109.0,952.0,570.0,777.0,5367.0,5704.0,1162.0,1890.0,1060.0,879.0,1736.0,1828.0,1580.0,997.0,952.0,1538.0,972.0,945.0,1443.0,1210.0,1210.0,434.0,2658.0,2681.0,1081.0,590.0,958.0,683.0,2580.0,8414.0,1964.0,1912.0,833.0,972.0,3928.0,1563.0,5056.0,2658.0,2681.0,1462.0,1436.0,1478.0,1307.0,1621.0,1037.0,1621.0,3708.0,1281.0,1832.0,778.0,4550.0,1484.0,778.0,1462.0,1248.0,8284.0,2681.0,2658.0,2658.0,1690.0,1690.0,1484.0,471.0,1595.0,1690.0,1690.0,8673.0,8284.0,1242.0,1232.0,1245.0,5173.0,3734.0,6623.0,1670.0,2917.0,557.0,497.0,1595.0,2204.0,8932.0,4330.0,739.0,5494.0,2074.0,1659.0,1535.0,920.0,5405.0,5612.0,4614.0,959.0,5262.0,681.0,603.0,451.0,607.0,1296.0,656.0,1663.0,1750.0,2269.0,1876.0,3358.0,1758.0,2287.0,1866.0,1866.0,4006.0,1303.0,4136.0,2191.0,8038.0,1595.0,5832.0,4084.0,5709.0,2157.0,4495.0,1426.0,756.0,1535.0,2204.0,1245.0,797.0,715.0,980.0,2980.0,524.0,1943.0,1400.0,503.0,2856.0,4924.0,1645.0,1852.0,427.0,1426.0,9604.0,2178.0,1400.0,1659.0,1841.0,5170.0,1400.0,1400.0,976.0,1037.0,1400.0,2178.0,979.0,1426.0,1476.0,702.0,702.0,1605.0,1488.0,5170.0,8888.0,1050.0,402.0,1258.0,1136.0,1136.0,1136.0,1172.0,1374.0,1153.0,1436.0,977.0,979.0,9983.0,454.0,554.0,523.0,523.0,702.0,611.0,611.0,3047.0,1296.0,4173.0,1037.0,1374.0,1930.0,1683.0,2295.0,1044.0,1945.0,2370.0,2188.0,1335.0,1335.0,2073.0,2073.0,1849.0,1849.0,2125.0,1832.0,1930.0,2190.0,1672.0,854.0,1880.0,1828.0,1967.0,464.0,762.0,1981.0,1037.0,2095.0,1643.0,483.0,758.0,1011.0,2061.0,2076.0,4901.0,1023.0,1348.0,1307.0,2299.0,2244.0,1954.0,2266.0,1710.0,1755.0,1857.0,1866.0,2545.0,1876.0,1981.0,2018.0,4969.0,525.0,1723.0,1566.0,1867.0,1854.0,1608.0,1608.0,1608.0,1608.0,1478.0,3436.0,516.0,1684.0,2061.0,1478.0,1372.0,1478.0,1491.0,1919.0,920.0,1335.0,1491.0,1335.0,725.0,1834.0,723.0,1489.0,2159.0,1735.0,1335.0,738.0,3215.0,1478.0,1491.0,1335.0,1489.0,1489.0,1335.0,516.0,1491.0,699.0,879.0,1491.0,1535.0,1491.0,1535.0,1582.0,3789.0,3663.0,4209.0,1335.0,1190.0,1320.0,525.0,530.0,1348.0,879.0,1828.0,1335.0,1335.0,920.0,402.0,924.0,891.0,1573.0,928.0,1722.0,1722.0,1348.0,1348.0,920.0,1696.0,1838.0,1348.0,1010.0,1838.0,857.0,1958.0,2697.0,1696.0,1071.0,3137.0,5105.0,4969.0,2565.0,4399.0,5104.0,3003.0,1565.0,1880.0,1867.0,1761.0,946.0,1608.0,1491.0,1491.0,1335.0,1478.0,1491.0,1335.0,1335.0,972.0,1593.0,4753.0,1491.0,1335.0,1491.0,1335.0,963.0,530.0,1216.0,959.0,1736.0,1258.0,908.0,908.0,892.0,2113.0,1722.0,2091.0,1994.0,882.0,1595.0,1011.0,879.0,1193.0,1219.0,1770.0,882.0,1582.0,892.0,1283.0,1374.0,843.0,927.0,933.0,2645.0,933.0,933.0,933.0,933.0,942.0,1037.0,932.0,1867.0,1335.0,1335.0,1335.0,450.0,3760.0,1400.0,1400.0,1400.0,1400.0,1400.0,3745.0,2850.0,1891.0,1891.0,1891.0,1891.0,1891.0,1891.0,4173.0,3745.0,4808.0,3745.0,4149.0,2881.0,2593.0,5579.0,4926.0,4926.0,4926.0,4926.0,4926.0,4926.0,4084.0,4084.0,4084.0,4084.0,4084.0,4084.0,4084.0,4084.0,4084.0,4084.0,4084.0,4084.0,3876.0,3876.0,3876.0,3876.0,3876.0,3876.0,3369.0,3369.0,3369.0,2850.0,3654.0,3421.0,2850.0,2850.0,2850.0,1891.0,5445.0,1841.0,2188.0,1841.0,1781.0,1781.0,1781.0,1781.0,1781.0,1841.0,1781.0,1841.0,1781.0,1781.0,1781.0,1841.0,5612.0,4667.0,3760.0,1400.0,1400.0,5808.0,1400.0,1697.0,1554.0,2838.0,2383.0,1788.0,1724.0,5808.0,5808.0,1271.0,1919.0,2175.0,2175.0,2175.0,2175.0,2175.0,1942.0,1942.0,1942.0,1942.0,1942.0,714.0,1554.0,2073.0,1685.0,2982.0,2383.0,1880.0,2269.0,1685.0,5520.0,1743.0,2013.0,1111.0,714.0,714.0,4408.0,4408.0,4408.0,4408.0,4408.0,4408.0,4408.0,4408.0,4408.0,4408.0,4408.0,1724.0,1750.0,736.0,5004.0,1271.0,1245.0,1602.0,4732.0,3757.0,3734.0,1128.0,6223.0,3708.0,2980.0,3369.0,5419.0,1037.0,1037.0,1335.0,1335.0,1037.0,1037.0,1400.0,8284.0,892.0,892.0,625.0,1232.0,1296.0,905.0,4628.0,4550.0,905.0,1462.0,1151.0,1125.0,1543.0,4732.0,3824.0,3824.0,1400.0,1164.0,905.0,1407.0,4836.0,2383.0,1136.0,1136.0,1136.0,1172.0,1172.0,1839.0,1839.0,1839.0,1839.0,1749.0,1110.0,1624.0,1311.0,1596.0,1428.0,1505.0,537.0,1460.0,1201.0,3824.0,3235.0,5004.0,503.0,1281.0,1112.0,1743.0,4797.0,4797.0,4797.0,4797.0,4797.0,4797.0,4797.0,4797.0,4797.0,4797.0,4797.0,5056.0,5056.0,5056.0,4732.0,5160.0,1311.0,1154.0,1596.0,1596.0,620.0,1596.0,1201.0,897.0,1505.0,1311.0,1596.0,6469.0,1193.0,1658.0,735.0,683.0,1428.0,748.0,1428.0,1505.0,897.0,537.0,7779.0,3902.0,5056.0,5056.0,5056.0,4797.0,4797.0,4797.0,4797.0,4797.0,4797.0,4797.0,4797.0,4797.0,4797.0,4797.0,4797.0,4797.0,4797.0,4797.0,4797.0,4797.0,4797.0,1372.0,1828.0,2022.0,1815.0,3369.0,537.0,897.0,1002.0,1228.0,814.0,807.0,503.0,1731.0,2980.0,5523.0,5964.0,1854.0,8440.0,8310.0,8310.0,1582.0,446.0,1272.0,1368.0,1596.0,1272.0,1428.0,1596.0,7779.0,3914.0,1943.0,6015.0,2371.0,2074.0,1659.0,6623.0,5832.0,3708.0,3876.0,2681.0,2850.0,1258.0,1258.0,1258.0,1258.0,1400.0,491.0,4019.0,1815.0,1815.0,1400.0,1400.0,1400.0,1400.0,1400.0,1400.0,1815.0,1400.0,1400.0,1258.0,1200.0,1754.0,1646.0,491.0,448.0,1272.0,7882.0,3708.0,3708.0,491.0,1272.0,1428.0,2007.0,6067.0,2302.0,2411.0,3567.0,1400.0,2139.0,2139.0,1815.0,1815.0,4926.0,1371.0,2107.0,2112.0,2107.0,1683.0,2628.0,2178.0,2178.0,2178.0,2332.0,1841.0,1841.0,1841.0,2107.0,1605.0,419.0,1400.0,1672.0,1841.0,2178.0,905.0,2783.0,1863.0,2284.0,3205.0,2053.0,2512.0,1014.0,1014.0,841.0,841.0,914.0,914.0,2434.0,1809.0,1443.0,1528.0,1117.0,2140.0,775.0,464.0,1229.0,529.0,594.0,1605.0,1605.0,9062.0,2706.0,1685.0,419.0,1788.0,1317.0,1605.0,1967.0,1758.0,417.0,652.0,892.0,1180.0,1887.0,1570.0,448.0,968.0,1566.0,1789.0,477.0,477.0,458.0,458.0,506.0,506.0,506.0,506.0,651.0,651.0,791.0,643.0,954.0,885.0,825.0,981.0,981.0,954.0,885.0,825.0,791.0,643.0,1215.0,1590.0,1465.0,805.0,620.0,1605.0,1605.0,454.0,3720.0,1293.0,1758.0,1903.0,1867.0,1694.0,1606.0,1606.0,1606.0,1979.0,1606.0,1606.0,1606.0,2279.0,1606.0,1606.0,544.0,1491.0,1335.0,1335.0,1867.0,904.0,904.0,797.0,797.0,797.0,797.0,946.0,2982.0,2383.0,1793.0,1906.0,1696.0,2117.0,2968.0,1539.0,648.0,1296.0,957.0,1296.0,739.0,3059.0,1553.0,2009.0,620.0,555.0,777.0,1694.0,1879.0,993.0,3486.0,2074.0,4615.0,5055.0,933.0,687.0,9061.0,574.0,2204.0,941.0,941.0,941.0,777.0,777.0,777.0,1676.0,777.0,777.0,777.0,777.0,777.0,1338.0,777.0,777.0,964.0,2149.0,2383.0,1588.0,4667.0,2461.0,1828.0,1465.0,451.0,1423.0,1142.0,1853.0,1210.0,1063.0,2157.0,3769.0,620.0,940.0,2209.0,1033.0,1101.0,1373.0,1681.0,1681.0,1681.0,2891.0,1681.0,1681.0,2152.0,1681.0,1681.0,1681.0,1681.0,1681.0,1296.0,1681.0,1982.0,1296.0,1681.0,1554.0,1055.0,1110.0,3241.0,5095.0,5056.0,454.0,4926.0,4316.0,4926.0,4084.0,3876.0,4926.0,4084.0,4084.0,4084.0,4084.0,3876.0,4084.0,3876.0,498.0,467.0,467.0,998.0,1296.0,3875.0,11109.0,9190.0,1915.0,2022.0,2398.0,1696.0,1883.0,1883.0,2833.0,1961.0,1799.0,1474.0,1465.0,1883.0,1883.0,1883.0,1883.0,1475.0,1798.0,1799.0,1883.0,1961.0,1960.0,1475.0,1883.0,1883.0,1883.0,1883.0,1883.0,955.0,1506.0,1178.0,1697.0,959.0,1939.0,1939.0,1939.0,1939.0,1296.0,1878.0,1002.0,1281.0,1154.0,2074.0,464.0,503.0,1201.0,1294.0,451.0,814.0,1119.0,1428.0,5510.0,1118.0,1949.0,1296.0,620.0,3358.0,1225.0,1225.0,1225.0,1023.0,3358.0,967.0,4032.0,1374.0,1080.0,1387.0,1943.0,2074.0,5186.0,4382.0,1359.0,2061.0,1290.0,1308.0,2061.0,1943.0,1290.0,1290.0,1210.0,2125.0,1593.0,1566.0,497.0,687.0,975.0,1006.0,878.0,451.0,807.0,1006.0,1426.0,1359.0,2204.0,2074.0,2074.0,1290.0,1164.0,1290.0,707.0,1151.0,570.0,454.0,1258.0,556.0,762.0,4149.0,3786.0,1788.0,1867.0,1037.0,1102.0,1037.0,778.0,1387.0,723.0,1127.0,1080.0,1506.0,803.0,810.0,5223.0,1063.0,1037.0,1175.0,1943.0,1775.0,1690.0,940.0,4252.0,5004.0,762.0,1296.0,1387.0,1320.0,3745.0,1210.0,1411.0,1451.0,1814.0,3745.0,2149.0,2149.0,4771.0,1808.0,789.0,1217.0,1605.0,445.0,1225.0,1225.0,1290.0,1569.0,1281.0,3604.0,428.0,428.0,445.0,5315.0,4421.0,7260.0,5212.0,5445.0,3786.0,2143.0,4408.0,4408.0,4408.0,4408.0,4408.0,4408.0,4408.0,4408.0,4408.0,4408.0,4408.0,4408.0,4641.0,6247.0,15557.0,777.0,1038.0,1605.0,1010.0,1361.0,1605.0,4382.0,3591.0,2450.0,2074.0,945.0,4631.0,2450.0,3953.0,3953.0,1346.0,5222.0,1387.0,939.0,1320.0,756.0,2235.0,6610.0,2930.0,3059.0,3369.0,1228.0,451.0,761.0,1142.0,2437.0,758.0,1788.0,1788.0,1225.0,1225.0,6610.0,3927.0,4199.0,4458.0,788.0,1752.0,1752.0,4264.0,1042.0,1281.0,4447.0,497.0,873.0,751.0,497.0,1801.0,2261.0,652.0,1119.0,1827.0,4458.0,1085.0,428.0,739.0,1002.0,1893.0,1217.0,1281.0,1281.0,1296.0,603.0,2100.0,1478.0,713.0,1271.0,1042.0,1556.0,1232.0,1282.0,2048.0,1815.0,1685.0,2009.0,1272.0,1201.0,1262.0,1019.0,1775.0,1090.0,1232.0,1906.0,1042.0,1210.0,1436.0,1436.0,1596.0,2463.0,2433.0,1645.0,2204.0,1372.0,6353.0,2204.0,1154.0,1142.0,1142.0,376.0,723.0,1142.0,376.0,1281.0,712.0,454.0,1372.0,1255.0,775.0,1110.0,1742.0,596.0,1653.0,765.0,490.0,557.0,5964.0,5704.0,3954.0,2061.0,2061.0,1271.0,1271.0,739.0,1271.0,1271.0,542.0,941.0,2917.0,810.0,1042.0,460.0,5910.0,4356.0,1906.0,1055.0,1437.0,3474.0,1255.0,1372.0,1373.0,1314.0,1515.0,1042.0,1854.0,957.0,941.0,802.0,474.0,786.0,415.0,2930.0,1217.0,3059.0,1387.0,1129.0,2209.0,1281.0,5262.0,451.0,11109.0,620.0,1119.0,6429.0,6610.0,1184.0,452.0,1042.0,1605.0,2969.0,2136.0,5184.0,860.0,1749.0,1006.0,957.0,941.0,1722.0,1119.0,1759.0,1382.0,1645.0,3096.0,22091.0,1506.0,1926.0,1853.0,1346.0,1693.0,1943.0,1775.0,555.0,504.0,1024.0,1197.0,1115.0,1296.0,1037.0,1128.0,1050.0,1064.0,1937.0,454.0,2193.0,2193.0,2193.0,2193.0,2193.0,2193.0,1367.0,3665.0,1296.0,1608.0,4808.0,1210.0,1698.0,3021.0,1119.0,620.0,1659.0,503.0,788.0,1281.0,2013.0,425.0,497.0,926.0,2191.0,2204.0,4200.0,4200.0,4162.0,4628.0,5445.0,5134.0,5134.0,564.0,4200.0,4200.0,4278.0,4550.0,5186.0,5134.0,5134.0,5134.0,5134.0,5445.0,4550.0,4421.0,4810.0,4278.0,4356.0,3760.0,4200.0,4200.0,8168.0,3837.0,2865.0,3915.0,6353.0,6223.0,3837.0,2865.0,3915.0,3915.0,3915.0,1058.0,607.0,3047.0,2191.0,5251.0,1318.0,979.0,1534.0,1880.0,1919.0,769.0,2365.0,2157.0,1736.0,769.0,3940.0,3732.0,1210.0,1145.0,2980.0,1690.0,1812.0,1272.0,807.0,9190.0,491.0,5004.0,1658.0,1878.0,3630.0,945.0,1180.0,1167.0,962.0,1124.0,1119.0,1320.0,957.0,1006.0,5262.0,2193.0,2161.0,2969.0,1119.0,2191.0,1088.0,2250.0,1933.0,3486.0,4614.0,1617.0,6067.0,454.0,497.0,4797.0,4797.0,4797.0,4797.0,4797.0,4718.0,1605.0,1320.0,4797.0,4797.0,4797.0,4797.0,4797.0,4797.0,4797.0,1296.0,5056.0,5056.0,5056.0,5056.0,1849.0,945.0,501.0,1138.0,4512.0,5418.0,2144.0,7377.0,5418.0,1119.0,2332.0,707.0,484.0,1243.0,756.0,945.0,1281.0,2917.0,451.0,2309.0,1958.0,1646.0,1272.0,949.0,1036.0,1049.0,460.0,460.0,460.0,1741.0,460.0,3824.0,1387.0,2204.0,1602.0,804.0,506.0,1281.0,1318.0,1595.0,1488.0,1801.0,1271.0,1059.0,1059.0,1595.0,972.0,1683.0,972.0,2139.0,1595.0,1683.0,1683.0,570.0,857.0,1346.0,1593.0,1085.0,1198.0,3889.0,1346.0,1006.0,933.0,979.0,14261.0,1232.0,5510.0,3695.0,4732.0,5251.0,946.0,2930.0,5160.0,4264.0,780.0,1208.0,1281.0,497.0,1136.0,557.0,4160.0,1002.0,1085.0,1085.0,441.0,1199.0,625.0,1683.0,2193.0,814.0,1752.0,1296.0,620.0,1538.0,799.0,1906.0,451.0,4264.0,1151.0,707.0,4162.0,8038.0,4084.0,4499.0,5627.0,3486.0,490.0,2450.0,5056.0,5056.0,4797.0,4797.0,4797.0,4797.0,4797.0,4797.0,4797.0,4797.0,497.0,814.0,497.0,1605.0,4797.0,4797.0,4797.0,4797.0,4797.0,4797.0,5056.0,5056.0,4797.0,4797.0,9723.0,807.0,3591.0,8038.0,612.0,497.0,5419.0,1606.0,1880.0,1632.0,1387.0,1085.0,2930.0,1037.0,1102.0,1296.0,1621.0,1102.0,1037.0,1037.0,941.0,3047.0,2191.0,2230.0,2437.0,1672.0,451.0,441.0,2826.0,3591.0,975.0,878.0,975.0,807.0,5445.0,2263.0,1383.0,3591.0,1037.0,1828.0,1605.0,1605.0,4264.0,1888.0,1563.0,3237.0,992.0,743.0,743.0,1566.0,777.0,3552.0,1232.0,2124.0,1659.0,2124.0,1694.0,1694.0,3552.0,503.0,1396.0,1359.0,497.0,743.0,5445.0,1540.0,1228.0,998.0,971.0,998.0,998.0,1488.0,629.0,971.0,998.0,503.0,620.0,503.0,814.0,2980.0,569.0,1645.0,1296.0,971.0,971.0,971.0,971.0,971.0,971.0,933.0,751.0,972.0,1232.0,1232.0,638.0,2917.0,2191.0,972.0,1688.0,2437.0,2191.0,1496.0,1426.0,3338.0,2160.0,1592.0,5380.0,1488.0,570.0,1605.0,1605.0,1217.0,1368.0,1463.0,4123.0,466.0,569.0,972.0,1943.0,777.0,2332.0,1694.0,570.0,1089.0,1153.0,1115.0,1271.0,1037.0,4134.0,801.0,1387.0,976.0,1041.0,8284.0,810.0,1064.0,1225.0,979.0,2567.0,5367.0,1163.0,1436.0,4264.0,5042.0,1556.0,1788.0,1893.0,810.0,3578.0,3898.0,1943.0,777.0,4956.0,1272.0,941.0,4264.0,5199.0,1872.0,1036.0,1267.0,5549.0,4239.0,2593.0,5627.0,2852.0,5964.0,5321.0,1133.0,5808.0,1133.0,547.0,979.0,2450.0,3059.0,2593.0,2852.0,570.0,5704.0,5549.0,5549.0,3486.0,2256.0,2980.0,2057.0,1872.0,1377.0,5481.0,1108.0,1167.0,1346.0,3047.0,2449.0,1469.0,581.0,1670.0,1752.0,691.0,1727.0,2193.0,2332.0,1905.0,1901.0,1901.0,691.0,491.0,1316.0,5264.0,607.0,1659.0,834.0,775.0,498.0,1172.0,814.0,1080.0,1631.0,1645.0,1316.0,1150.0,1109.0,707.0,1136.0,1727.0,3907.0,1057.0,1060.0,1031.0,2332.0,2332.0,419.0,1063.0,2256.0,2256.0,2366.0,1049.0,497.0,1036.0,1189.0,1400.0,1400.0,1400.0,1400.0,1296.0,1400.0,586.0,1814.0,2364.0,895.0,1296.0,1283.0,1296.0,1296.0,1320.0,1127.0,1605.0,1514.0,691.0,652.0,574.0,503.0,503.0,905.0,1605.0,535.0,1670.0,1514.0,1189.0,1750.0,466.0,6599.0,5251.0,22039.0,2317.0,1801.0,2254.0,1750.0,1752.0,19835.0,570.0,1114.0,810.0,428.0,765.0,814.0,447.0,1443.0,1119.0,3059.0,1605.0,1436.0,905.0,814.0,1232.0,1908.0,3358.0,1909.0,1601.0,1933.0,1909.0,2308.0,1917.0,3980.0,1057.0,486.0,1450.0,2332.0,2256.0,1737.0,555.0,1108.0,1621.0,1167.0,2191.0,810.0,5445.0,1605.0,5171.0,2425.0,933.0,2256.0,1617.0,2329.0,621.0,1400.0,933.0,2969.0,1488.0,462.0,2930.0,1054.0,1296.0,2365.0,1672.0,1123.0,2423.0,503.0,743.0,1608.0,1210.0,648.0,3591.0,2203.0,1788.0,542.0,2191.0,1216.0,1083.0,1083.0,1645.0,480.0,2398.0,480.0,480.0,2398.0,2401.0,480.0,2193.0,2398.0,1272.0,620.0,3369.0,3188.0,620.0,620.0,1608.0,2489.0,1281.0,1943.0,1088.0,1683.0,652.0,691.0,756.0,1296.0,1535.0,1654.0,1049.0,4069.0,1670.0,1469.0,1670.0,581.0,5262.0,1338.0,1672.0,994.0,1783.0,1420.0,376.0,814.0,1236.0,577.0,419.0,1436.0,2013.0,1400.0,1901.0,1506.0,1901.0,1466.0,1665.0,4251.0,1930.0,1296.0,4458.0,9061.0,446.0,814.0,1504.0,583.0,650.0,3591.0,1119.0,607.0,3120.0,1400.0,555.0,905.0,1672.0,2243.0,2204.0,574.0,620.0,503.0,1167.0,1746.0,497.0,1014.0,1109.0,707.0,4391.0,1839.0,1488.0,2852.0,777.0,1321.0,1296.0,514.0,5262.0,1316.0,708.0,1296.0,1582.0,1773.0,4718.0,1281.0,1992.0,1699.0,1281.0,446.0,451.0,1027.0,1478.0,1750.0,905.0,4484.0,607.0,2138.0,451.0,555.0,1475.0,1217.0,1027.0,2073.0,751.0,5678.0,1854.0,2720.0,621.0,497.0,1060.0,1060.0,5262.0,1071.0,2321.0,807.0,1153.0,1153.0,1296.0,1119.0,1049.0,1736.0,4627.0,2720.0,907.0,435.0,2463.0,1247.0,1954.0,600.0,934.0,1720.0,1296.0,644.0,607.0,1724.0,10497.0,1854.0,458.0,1296.0,1296.0,2437.0,1172.0,1825.0,1863.0,1281.0,1272.0,2309.0,1296.0,1296.0,514.0,1346.0,1360.0,1653.0,1296.0,1296.0,2087.0,2437.0,23607.0,3266.0,623.0,2450.0,3059.0,4588.0,3940.0,957.0,975.0,1560.0,1232.0,1839.0,5262.0,882.0,1296.0,620.0,1296.0,1595.0,1605.0,600.0,1379.0,2176.0,2339.0,775.0,1423.0,1945.0,1828.0,454.0,796.0,2436.0,1258.0,1036.0,1334.0,777.0,4239.0,1786.0,1760.0,1851.0,1346.0,1517.0,493.0,898.0,1071.0,3027.0,2384.0,2256.0,678.0,1696.0,898.0,1256.0,1593.0,782.0,1696.0,2034.0,2450.0,581.0,2191.0,607.0,2061.0,1180.0,1226.0,1175.0,814.0,2332.0,3591.0,1338.0,1569.0,446.0,1904.0,707.0,1006.0,2995.0,1281.0,583.0,778.0,1727.0,2852.0,581.0,497.0,4017.0,5712.0,5219.0,5142.0,3954.0,2409.0,490.0,622.0,622.0,3047.0,1296.0,2204.0,2204.0,2134.0,1690.0,797.0,1113.0,1282.0,1282.0,1282.0,1282.0,1282.0,581.0,1164.0,1488.0,564.0,564.0,1176.0,1010.0,2191.0,2191.0,493.0,1387.0,1272.0,454.0,1469.0,581.0,2980.0,503.0,41356.0,5262.0,814.0,1697.0,2450.0,1011.0,2204.0,980.0,1688.0,1663.0,957.0,1815.0,800.0,759.0,547.0,1175.0,1188.0,2222.0,1954.0,1175.0,1338.0,1255.0,572.0,1659.0,1926.0,1815.0,932.0,2450.0,1684.0,2321.0,998.0,1438.0,1002.0,1019.0,1111.0,450.0,1243.0,1839.0,1190.0,1475.0,922.0,969.0,1852.0,756.0,3338.0,458.0,1932.0,1151.0,1346.0,2284.0,1672.0,1724.0,2995.0,1089.0,1255.0,1255.0,1560.0,1656.0,707.0,1006.0,1570.0,5158.0,1322.0,869.0,1423.0,810.0,555.0,1255.0,1754.0,2232.0,2511.0,1400.0,2136.0,1469.0,1132.0,1694.0,1167.0,2332.0,2047.0,4997.0,1296.0,1400.0,1901.0,1506.0,1255.0,1605.0,573.0,3578.0,2282.0,3059.0,620.0,2204.0,1632.0,1880.0,2204.0,2917.0,1763.0,925.0,1854.0,1440.0,2059.0,1338.0,1338.0,1010.0,765.0,882.0,972.0,945.0,941.0,947.0,504.0,912.0,1906.0,2243.0,1027.0,1699.0,1605.0,708.0,775.0,775.0,1208.0,14033.0,1798.0,4978.0,1750.0,2204.0,1748.0,1763.0,2164.0,1175.0,1683.0,4978.0,1595.0,2243.0,4997.0,2437.0,2243.0,2204.0,2134.0,2863.0,2048.0,717.0,1750.0,464.0,594.0,516.0,659.0,581.0,503.0,1901.0,707.0,451.0,769.0,2190.0,1255.0,782.0,1917.0,1151.0,1346.0,1752.0,1255.0,979.0,454.0,941.0,1488.0,707.0,1838.0,608.0,620.0,2112.0,1763.0,707.0,1006.0,1943.0,2826.0,1311.0,1346.0,1272.0,1663.0,3205.0,9061.0,1338.0,1469.0,1400.0,1763.0,2193.0,542.0,1504.0,1038.0,504.0,1582.0,1109.0,1294.0,1181.0,3047.0,530.0,1798.0,2366.0,1754.0,1797.0,1797.0,5056.0,1815.0,1697.0,1271.0,1271.0,1271.0,1255.0,529.0,1798.0,568.0,1386.0,1469.0,2177.0,2089.0,2125.0,1930.0,1683.0,1348.0,641.0,1193.0,1271.0,1245.0,1271.0,1361.0,1190.0,980.0,1491.0,1216.0,932.0,717.0,717.0,843.0,717.0,932.0,1592.0,609.0,1592.0,707.0,2332.0,2331.0,869.0,869.0,1348.0,493.0,1400.0,1309.0,1699.0,4484.0,1670.0,999.0,1228.0,1058.0,1945.0,1798.0,542.0,1232.0,1569.0,2528.0,2243.0,1631.0,1798.0,4458.0,1153.0,1943.0,957.0,2437.0,555.0,1119.0,598.0,1798.0,3235.0,1640.0,1495.0,668.0,1145.0,1293.0,1346.0,1236.0,3940.0,1724.0,2541.0,1645.0,1006.0,707.0,1387.0,2545.0,2512.0,2282.0,8168.0,1605.0,1748.0,1387.0,1801.0,1801.0,1663.0,1663.0,1798.0,1798.0,3954.0,458.0,1684.0,972.0,777.0,2365.0,777.0,775.0,866.0,866.0,4278.0,1605.0,2980.0,1798.0,1798.0,1798.0,972.0,777.0,972.0,594.0,4473.0,1619.0,1412.0,1488.0,1652.0,1217.0,3047.0,5043.0,1943.0,1120.0,991.0,1458.0,1844.0,950.0,2190.0,1172.0,451.0,464.0,495.0,817.0,661.0,1281.0,1400.0,1476.0,777.0,707.0,707.0,1006.0,1469.0,1478.0,1901.0,1888.0,1123.0,1653.0,1387.0,1136.0,1072.0,1132.0,2125.0,777.0,952.0,777.0,1271.0,1172.0,454.0,882.0,1049.0,1711.0,1933.0,1803.0,1569.0,1058.0,1956.0,1049.0,972.0,1049.0,1110.0,1232.0,1232.0,1387.0,1006.0,1694.0,1015.0,1123.0,1320.0,472.0,567.0,309.0,2190.0,2073.0,1566.0,743.0,691.0,620.0,1798.0,1153.0,620.0,775.0,503.0,1450.0,1165.0,1841.0,1841.0,598.0,1648.0,1153.0,830.0,659.0,840.0,620.0,710.0,5419.0,5419.0,451.0,5262.0,2461.0,777.0,882.0,1400.0,5521.0,1942.0,2067.0,1164.0,1216.0,694.0,756.0,1216.0,2658.0,1229.0,1216.0,1659.0,1006.0,3317.0,1229.0,707.0,1006.0,1294.0,1916.0,1281.0,1346.0,1216.0,1151.0,707.0,1750.0,1901.0,1906.0,1346.0,756.0,1281.0,1346.0,1750.0,732.0,756.0,1229.0,694.0,732.0,1864.0,1906.0,756.0,1901.0,1901.0,756.0,758.0,1906.0,1346.0,1901.0,1901.0,777.0,938.0,870.0,570.0,1049.0,1943.0,1387.0,1311.0,2088.0,309.0,1645.0,3654.0,1006.0,707.0,3436.0,1849.0,1595.0,1788.0,1785.0,583.0,556.0,1255.0,3240.0,2017.0,1569.0,1567.0,1827.0,4281.0,2546.0,2139.0,1208.0,1343.0,1535.0,1687.0,1426.0,1514.0,1685.0,1060.0,1060.0,1049.0,594.0,503.0,813.0,1006.0,957.0,1272.0,493.0,1255.0,1255.0,1239.0,9061.0,529.0,777.0,4095.0,5510.0,4069.0,4743.0,1535.0,810.0,1282.0,2541.0,1089.0,1089.0,920.0,5171.0,1383.0,1325.0,659.0,1563.0,1669.0,1288.0,1426.0,425.0,1006.0,707.0,1159.0,1688.0,810.0,777.0,1228.0,1232.0,6467.0,1232.0,1608.0,1099.0,762.0,4850.0,2086.0,1267.0,2060.0,1867.0,775.0,777.0,1888.0,581.0,2430.0,1694.0,1954.0,1110.0,2430.0,1954.0,891.0,984.0,2165.0,1718.0,2157.0,854.0,2139.0,2398.0,570.0,1217.0,1943.0,2541.0,503.0,1232.0,1006.0,1006.0,1420.0,1854.0,938.0,1006.0,1711.0,1582.0,1217.0,2087.0,5158.0,1156.0,1901.0,1006.0,1947.0,430.0,643.0,906.0,980.0,1888.0,1105.0,2900.0,2511.0,1919.0,1750.0,1346.0,1102.0],\"x0\":\" \",\"xaxis\":\"x\",\"y0\":\" \",\"yaxis\":\"y\",\"type\":\"box\"}],                        {\"template\":{\"data\":{\"bar\":[{\"error_x\":{\"color\":\"#2a3f5f\"},\"error_y\":{\"color\":\"#2a3f5f\"},\"marker\":{\"line\":{\"color\":\"#E5ECF6\",\"width\":0.5},\"pattern\":{\"fillmode\":\"overlay\",\"size\":10,\"solidity\":0.2}},\"type\":\"bar\"}],\"barpolar\":[{\"marker\":{\"line\":{\"color\":\"#E5ECF6\",\"width\":0.5},\"pattern\":{\"fillmode\":\"overlay\",\"size\":10,\"solidity\":0.2}},\"type\":\"barpolar\"}],\"carpet\":[{\"aaxis\":{\"endlinecolor\":\"#2a3f5f\",\"gridcolor\":\"white\",\"linecolor\":\"white\",\"minorgridcolor\":\"white\",\"startlinecolor\":\"#2a3f5f\"},\"baxis\":{\"endlinecolor\":\"#2a3f5f\",\"gridcolor\":\"white\",\"linecolor\":\"white\",\"minorgridcolor\":\"white\",\"startlinecolor\":\"#2a3f5f\"},\"type\":\"carpet\"}],\"choropleth\":[{\"colorbar\":{\"outlinewidth\":0,\"ticks\":\"\"},\"type\":\"choropleth\"}],\"contour\":[{\"colorbar\":{\"outlinewidth\":0,\"ticks\":\"\"},\"colorscale\":[[0.0,\"#0d0887\"],[0.1111111111111111,\"#46039f\"],[0.2222222222222222,\"#7201a8\"],[0.3333333333333333,\"#9c179e\"],[0.4444444444444444,\"#bd3786\"],[0.5555555555555556,\"#d8576b\"],[0.6666666666666666,\"#ed7953\"],[0.7777777777777778,\"#fb9f3a\"],[0.8888888888888888,\"#fdca26\"],[1.0,\"#f0f921\"]],\"type\":\"contour\"}],\"contourcarpet\":[{\"colorbar\":{\"outlinewidth\":0,\"ticks\":\"\"},\"type\":\"contourcarpet\"}],\"heatmap\":[{\"colorbar\":{\"outlinewidth\":0,\"ticks\":\"\"},\"colorscale\":[[0.0,\"#0d0887\"],[0.1111111111111111,\"#46039f\"],[0.2222222222222222,\"#7201a8\"],[0.3333333333333333,\"#9c179e\"],[0.4444444444444444,\"#bd3786\"],[0.5555555555555556,\"#d8576b\"],[0.6666666666666666,\"#ed7953\"],[0.7777777777777778,\"#fb9f3a\"],[0.8888888888888888,\"#fdca26\"],[1.0,\"#f0f921\"]],\"type\":\"heatmap\"}],\"heatmapgl\":[{\"colorbar\":{\"outlinewidth\":0,\"ticks\":\"\"},\"colorscale\":[[0.0,\"#0d0887\"],[0.1111111111111111,\"#46039f\"],[0.2222222222222222,\"#7201a8\"],[0.3333333333333333,\"#9c179e\"],[0.4444444444444444,\"#bd3786\"],[0.5555555555555556,\"#d8576b\"],[0.6666666666666666,\"#ed7953\"],[0.7777777777777778,\"#fb9f3a\"],[0.8888888888888888,\"#fdca26\"],[1.0,\"#f0f921\"]],\"type\":\"heatmapgl\"}],\"histogram\":[{\"marker\":{\"pattern\":{\"fillmode\":\"overlay\",\"size\":10,\"solidity\":0.2}},\"type\":\"histogram\"}],\"histogram2d\":[{\"colorbar\":{\"outlinewidth\":0,\"ticks\":\"\"},\"colorscale\":[[0.0,\"#0d0887\"],[0.1111111111111111,\"#46039f\"],[0.2222222222222222,\"#7201a8\"],[0.3333333333333333,\"#9c179e\"],[0.4444444444444444,\"#bd3786\"],[0.5555555555555556,\"#d8576b\"],[0.6666666666666666,\"#ed7953\"],[0.7777777777777778,\"#fb9f3a\"],[0.8888888888888888,\"#fdca26\"],[1.0,\"#f0f921\"]],\"type\":\"histogram2d\"}],\"histogram2dcontour\":[{\"colorbar\":{\"outlinewidth\":0,\"ticks\":\"\"},\"colorscale\":[[0.0,\"#0d0887\"],[0.1111111111111111,\"#46039f\"],[0.2222222222222222,\"#7201a8\"],[0.3333333333333333,\"#9c179e\"],[0.4444444444444444,\"#bd3786\"],[0.5555555555555556,\"#d8576b\"],[0.6666666666666666,\"#ed7953\"],[0.7777777777777778,\"#fb9f3a\"],[0.8888888888888888,\"#fdca26\"],[1.0,\"#f0f921\"]],\"type\":\"histogram2dcontour\"}],\"mesh3d\":[{\"colorbar\":{\"outlinewidth\":0,\"ticks\":\"\"},\"type\":\"mesh3d\"}],\"parcoords\":[{\"line\":{\"colorbar\":{\"outlinewidth\":0,\"ticks\":\"\"}},\"type\":\"parcoords\"}],\"pie\":[{\"automargin\":true,\"type\":\"pie\"}],\"scatter\":[{\"marker\":{\"colorbar\":{\"outlinewidth\":0,\"ticks\":\"\"}},\"type\":\"scatter\"}],\"scatter3d\":[{\"line\":{\"colorbar\":{\"outlinewidth\":0,\"ticks\":\"\"}},\"marker\":{\"colorbar\":{\"outlinewidth\":0,\"ticks\":\"\"}},\"type\":\"scatter3d\"}],\"scattercarpet\":[{\"marker\":{\"colorbar\":{\"outlinewidth\":0,\"ticks\":\"\"}},\"type\":\"scattercarpet\"}],\"scattergeo\":[{\"marker\":{\"colorbar\":{\"outlinewidth\":0,\"ticks\":\"\"}},\"type\":\"scattergeo\"}],\"scattergl\":[{\"marker\":{\"colorbar\":{\"outlinewidth\":0,\"ticks\":\"\"}},\"type\":\"scattergl\"}],\"scattermapbox\":[{\"marker\":{\"colorbar\":{\"outlinewidth\":0,\"ticks\":\"\"}},\"type\":\"scattermapbox\"}],\"scatterpolar\":[{\"marker\":{\"colorbar\":{\"outlinewidth\":0,\"ticks\":\"\"}},\"type\":\"scatterpolar\"}],\"scatterpolargl\":[{\"marker\":{\"colorbar\":{\"outlinewidth\":0,\"ticks\":\"\"}},\"type\":\"scatterpolargl\"}],\"scatterternary\":[{\"marker\":{\"colorbar\":{\"outlinewidth\":0,\"ticks\":\"\"}},\"type\":\"scatterternary\"}],\"surface\":[{\"colorbar\":{\"outlinewidth\":0,\"ticks\":\"\"},\"colorscale\":[[0.0,\"#0d0887\"],[0.1111111111111111,\"#46039f\"],[0.2222222222222222,\"#7201a8\"],[0.3333333333333333,\"#9c179e\"],[0.4444444444444444,\"#bd3786\"],[0.5555555555555556,\"#d8576b\"],[0.6666666666666666,\"#ed7953\"],[0.7777777777777778,\"#fb9f3a\"],[0.8888888888888888,\"#fdca26\"],[1.0,\"#f0f921\"]],\"type\":\"surface\"}],\"table\":[{\"cells\":{\"fill\":{\"color\":\"#EBF0F8\"},\"line\":{\"color\":\"white\"}},\"header\":{\"fill\":{\"color\":\"#C8D4E3\"},\"line\":{\"color\":\"white\"}},\"type\":\"table\"}]},\"layout\":{\"annotationdefaults\":{\"arrowcolor\":\"#2a3f5f\",\"arrowhead\":0,\"arrowwidth\":1},\"autotypenumbers\":\"strict\",\"coloraxis\":{\"colorbar\":{\"outlinewidth\":0,\"ticks\":\"\"}},\"colorscale\":{\"diverging\":[[0,\"#8e0152\"],[0.1,\"#c51b7d\"],[0.2,\"#de77ae\"],[0.3,\"#f1b6da\"],[0.4,\"#fde0ef\"],[0.5,\"#f7f7f7\"],[0.6,\"#e6f5d0\"],[0.7,\"#b8e186\"],[0.8,\"#7fbc41\"],[0.9,\"#4d9221\"],[1,\"#276419\"]],\"sequential\":[[0.0,\"#0d0887\"],[0.1111111111111111,\"#46039f\"],[0.2222222222222222,\"#7201a8\"],[0.3333333333333333,\"#9c179e\"],[0.4444444444444444,\"#bd3786\"],[0.5555555555555556,\"#d8576b\"],[0.6666666666666666,\"#ed7953\"],[0.7777777777777778,\"#fb9f3a\"],[0.8888888888888888,\"#fdca26\"],[1.0,\"#f0f921\"]],\"sequentialminus\":[[0.0,\"#0d0887\"],[0.1111111111111111,\"#46039f\"],[0.2222222222222222,\"#7201a8\"],[0.3333333333333333,\"#9c179e\"],[0.4444444444444444,\"#bd3786\"],[0.5555555555555556,\"#d8576b\"],[0.6666666666666666,\"#ed7953\"],[0.7777777777777778,\"#fb9f3a\"],[0.8888888888888888,\"#fdca26\"],[1.0,\"#f0f921\"]]},\"colorway\":[\"#636efa\",\"#EF553B\",\"#00cc96\",\"#ab63fa\",\"#FFA15A\",\"#19d3f3\",\"#FF6692\",\"#B6E880\",\"#FF97FF\",\"#FECB52\"],\"font\":{\"color\":\"#2a3f5f\"},\"geo\":{\"bgcolor\":\"white\",\"lakecolor\":\"white\",\"landcolor\":\"#E5ECF6\",\"showlakes\":true,\"showland\":true,\"subunitcolor\":\"white\"},\"hoverlabel\":{\"align\":\"left\"},\"hovermode\":\"closest\",\"mapbox\":{\"style\":\"light\"},\"paper_bgcolor\":\"white\",\"plot_bgcolor\":\"#E5ECF6\",\"polar\":{\"angularaxis\":{\"gridcolor\":\"white\",\"linecolor\":\"white\",\"ticks\":\"\"},\"bgcolor\":\"#E5ECF6\",\"radialaxis\":{\"gridcolor\":\"white\",\"linecolor\":\"white\",\"ticks\":\"\"}},\"scene\":{\"xaxis\":{\"backgroundcolor\":\"#E5ECF6\",\"gridcolor\":\"white\",\"gridwidth\":2,\"linecolor\":\"white\",\"showbackground\":true,\"ticks\":\"\",\"zerolinecolor\":\"white\"},\"yaxis\":{\"backgroundcolor\":\"#E5ECF6\",\"gridcolor\":\"white\",\"gridwidth\":2,\"linecolor\":\"white\",\"showbackground\":true,\"ticks\":\"\",\"zerolinecolor\":\"white\"},\"zaxis\":{\"backgroundcolor\":\"#E5ECF6\",\"gridcolor\":\"white\",\"gridwidth\":2,\"linecolor\":\"white\",\"showbackground\":true,\"ticks\":\"\",\"zerolinecolor\":\"white\"}},\"shapedefaults\":{\"line\":{\"color\":\"#2a3f5f\"}},\"ternary\":{\"aaxis\":{\"gridcolor\":\"white\",\"linecolor\":\"white\",\"ticks\":\"\"},\"baxis\":{\"gridcolor\":\"white\",\"linecolor\":\"white\",\"ticks\":\"\"},\"bgcolor\":\"#E5ECF6\",\"caxis\":{\"gridcolor\":\"white\",\"linecolor\":\"white\",\"ticks\":\"\"}},\"title\":{\"x\":0.05},\"xaxis\":{\"automargin\":true,\"gridcolor\":\"white\",\"linecolor\":\"white\",\"ticks\":\"\",\"title\":{\"standoff\":15},\"zerolinecolor\":\"white\",\"zerolinewidth\":2},\"yaxis\":{\"automargin\":true,\"gridcolor\":\"white\",\"linecolor\":\"white\",\"ticks\":\"\",\"title\":{\"standoff\":15},\"zerolinecolor\":\"white\",\"zerolinewidth\":2}}},\"xaxis\":{\"anchor\":\"y\",\"domain\":[0.0,1.0],\"title\":{\"text\":\"data_installment\"}},\"yaxis\":{\"anchor\":\"x\",\"domain\":[0.0,1.0]},\"legend\":{\"tracegroupgap\":0},\"title\":{\"text\":\"Monthly Installment (RM/month)\"},\"boxmode\":\"group\",\"height\":300,\"width\":600},                        {\"responsive\": true}                    ).then(function(){\n",
              "                            \n",
              "var gd = document.getElementById('16af999e-71f5-4977-b0ff-15ba4912cd0b');\n",
              "var x = new MutationObserver(function (mutations, observer) {{\n",
              "        var display = window.getComputedStyle(gd).display;\n",
              "        if (!display || display === 'none') {{\n",
              "            console.log([gd, 'removed!']);\n",
              "            Plotly.purge(gd);\n",
              "            observer.disconnect();\n",
              "        }}\n",
              "}});\n",
              "\n",
              "// Listen for the removal of the full notebook cells\n",
              "var notebookContainer = gd.closest('#notebook-container');\n",
              "if (notebookContainer) {{\n",
              "    x.observe(notebookContainer, {childList: true});\n",
              "}}\n",
              "\n",
              "// Listen for the clearing of the current output cell\n",
              "var outputEl = gd.closest('.output');\n",
              "if (outputEl) {{\n",
              "    x.observe(outputEl, {childList: true});\n",
              "}}\n",
              "\n",
              "                        })                };                            </script>        </div>\n",
              "</body>\n",
              "</html>"
            ]
          },
          "metadata": {}
        }
      ],
      "source": [
        "data = df_carlist02.data_installment\n",
        "fig = px.box(data , x = \"data_installment\",points=\"outliers\",title=\"Monthly Installment (RM/month)\",width=600,height=300)\n",
        "fig.show()"
      ]
    },
    {
      "cell_type": "code",
      "execution_count": 70,
      "metadata": {
        "collapsed": true,
        "id": "f_gtwCgSzNIn",
        "outputId": "8e15b23f-b04f-4d2d-c30d-02431234c9cd",
        "colab": {
          "base_uri": "https://localhost:8080/",
          "height": 542
        }
      },
      "outputs": [
        {
          "output_type": "display_data",
          "data": {
            "text/html": [
              "<html>\n",
              "<head><meta charset=\"utf-8\" /></head>\n",
              "<body>\n",
              "    <div>            <script src=\"https://cdnjs.cloudflare.com/ajax/libs/mathjax/2.7.5/MathJax.js?config=TeX-AMS-MML_SVG\"></script><script type=\"text/javascript\">if (window.MathJax) {MathJax.Hub.Config({SVG: {font: \"STIX-Web\"}});}</script>                <script type=\"text/javascript\">window.PlotlyConfig = {MathJaxConfig: 'local'};</script>\n",
              "        <script src=\"https://cdn.plot.ly/plotly-2.8.3.min.js\"></script>                <div id=\"703e284a-ba0e-440d-9fe1-7e252a2348e5\" class=\"plotly-graph-div\" style=\"height:525px; width:100%;\"></div>            <script type=\"text/javascript\">                                    window.PLOTLYENV=window.PLOTLYENV || {};                                    if (document.getElementById(\"703e284a-ba0e-440d-9fe1-7e252a2348e5\")) {                    Plotly.newPlot(                        \"703e284a-ba0e-440d-9fe1-7e252a2348e5\",                        [{\"boxpoints\":\"outliers\",\"jitter\":0.3,\"name\":\"Monthly Installment\",\"pointpos\":-1.8,\"y\":[1694.0,3876.0,1157.0,777.0,1426.0,756.0,892.0,1097.0,446.0,376.0,1018.0,2917.0,2217.0,1406.0,1406.0,2362.0,788.0,1093.0,1694.0,1400.0,1451.0,11134.0,1296.0,1086.0,1172.0,1943.0,1815.0,1136.0,1172.0,1170.0,1157.0,1894.0,773.0,5055.0,1722.0,2104.0,1130.0,1802.0,1143.0,1318.0,1941.0,1605.0,4278.0,3059.0,2450.0,1120.0,1084.0,4146.0,931.0,993.0,1879.0,454.0,1006.0,984.0,997.0,945.0,971.0,961.0,1157.0,2217.0,446.0,376.0,1015.0,1176.0,2930.0,2074.0,2450.0,3059.0,3591.0,1029.0,961.0,974.0,2149.0,1188.0,1390.0,1448.0,1237.0,1512.0,1390.0,1449.0,1241.0,1075.0,1904.0,945.0,1543.0,1750.0,782.0,1776.0,3358.0,2545.0,1690.0,946.0,946.0,1776.0,1309.0,1427.0,1119.0,503.0,1894.0,1170.0,1157.0,949.0,1172.0,944.0,1853.0,376.0,1015.0,1850.0,1606.0,1318.0,1182.0,2398.0,1841.0,3486.0,985.0,3486.0,3591.0,1841.0,2111.0,1751.0,1188.0,1337.0,969.0,4005.0,1852.0,3369.0,1412.0,2190.0,1316.0,1854.0,551.0,765.0,620.0,2411.0,1119.0,1501.0,446.0,1338.0,583.0,1189.0,1613.0,1314.0,1410.0,1326.0,1879.0,1119.0,1119.0,451.0,1006.0,1672.0,1671.0,984.0,972.0,959.0,970.0,1449.0,954.0,1400.0,810.0,948.0,1808.0,583.0,1119.0,1281.0,4614.0,3898.0,3732.0,1831.0,1841.0,1802.0,1210.0,1296.0,2356.0,1295.0,2541.0,3250.0,451.0,980.0,941.0,777.0,1002.0,1875.0,1688.0,2182.0,2012.0,2746.0,1393.0,2461.0,2850.0,1602.0,2655.0,2256.0,1788.0,376.0,1775.0,4251.0,3732.0,6610.0,9190.0,1694.0,946.0,946.0,376.0,445.0,1110.0,905.0,1773.0,2072.0,2175.0,1736.0,1049.0,2061.0,451.0,1670.0,2347.0,1848.0,963.0,433.0,2365.0,3876.0,1393.0,1092.0,738.0,376.0,467.0,2074.0,1281.0,1015.0,376.0,1873.0,1080.0,1121.0,1006.0,1400.0,920.0,1605.0,1110.0,1092.0,1619.0,1064.0,1077.0,1554.0,1141.0,1903.0,952.0,979.0,570.0,1015.0,376.0,1917.0,1106.0,1132.0,2188.0,1400.0,1282.0,979.0,5910.0,814.0,1006.0,1465.0,620.0,1469.0,1149.0,1449.0,1400.0,1400.0,1436.0,966.0,1011.0,905.0,1088.0,1296.0,2930.0,1077.0,1130.0,2133.0,1010.0,1075.0,1859.0,1181.0,975.0,708.0,1296.0,1296.0,938.0,946.0,378.0,946.0,1076.0,1076.0,2165.0,2165.0,2165.0,1076.0,739.0,1168.0,1451.0,957.0,971.0,1811.0,1054.0,1125.0,2430.0,1002.0,989.0,1563.0,1271.0,1271.0,1271.0,428.0,726.0,1258.0,428.0,3835.0,506.0,635.0,1859.0,1723.0,1149.0,1670.0,1595.0,2193.0,2057.0,596.0,5510.0,1812.0,1400.0,2450.0,946.0,946.0,376.0,1015.0,777.0,797.0,695.0,2450.0,2930.0,1400.0,3591.0,1271.0,3486.0,4614.0,1596.0,1320.0,1335.0,2545.0,7519.0,2056.0,1041.0,778.0,1123.0,2165.0,2165.0,712.0,2113.0,1018.0,2178.0,945.0,2074.0,1041.0,1071.0,2191.0,2437.0,2545.0,1320.0,448.0,810.0,804.0,1055.0,1715.0,987.0,1296.0,1204.0,804.0,912.0,810.0,647.0,1006.0,1010.0,440.0,493.0,945.0,797.0,819.0,1865.0,1119.0,1436.0,1320.0,445.0,1400.0,773.0,773.0,773.0,997.0,1292.0,905.0,314.0,714.0,967.0,1210.0,2833.0,1694.0,1449.0,1006.0,998.0,2928.0,1867.0,961.0,1867.0,1893.0,6456.0,1939.0,1666.0,6417.0,3616.0,4614.0,2217.0,2217.0,1894.0,1400.0,1894.0,993.0,1879.0,906.0,1272.0,1272.0,1272.0,2074.0,542.0,946.0,905.0,1210.0,1776.0,2204.0,1006.0,620.0,581.0,5612.0,4614.0,4808.0,5405.0,3616.0,451.0,451.0,451.0,1119.0,1119.0,451.0,1296.0,967.0,1475.0,1400.0,652.0,1400.0,1469.0,1210.0,1605.0,1119.0,1436.0,1320.0,756.0,700.0,503.0,1878.0,1914.0,993.0,998.0,3721.0,4706.0,9190.0,5251.0,6417.0,1919.0,1411.0,3708.0,9179.0,4484.0,6429.0,1763.0,2165.0,1343.0,1632.0,1085.0,2056.0,2056.0,1054.0,1750.0,2191.0,542.0,3416.0,3416.0,2372.0,814.0,1696.0,451.0,2230.0,1750.0,873.0,961.0,2074.0,1697.0,2151.0,980.0,985.0,1208.0,898.0,1011.0,1076.0,1919.0,502.0,1930.0,480.0,1076.0,1400.0,908.0,998.0,697.0,1006.0,773.0,1436.0,2321.0,814.0,1802.0,2839.0,1696.0,1691.0,1579.0,5320.0,1164.0,441.0,1019.0,1488.0,3565.0,979.0,1055.0,1691.0,497.0,446.0,497.0,1119.0,497.0,1785.0,525.0,525.0,841.0,914.0,1014.0,627.0,739.0,805.0,494.0,592.0,673.0,840.0,904.0,975.0,1046.0,979.0,1312.0,1312.0,1119.0,1281.0,519.0,814.0,555.0,814.0,1338.0,4836.0,4836.0,810.0,1296.0,1810.0,935.0,944.0,970.0,920.0,920.0,1175.0,748.0,748.0,612.0,612.0,1110.0,1781.0,1406.0,1406.0,1170.0,1170.0,1162.0,1387.0,1168.0,2183.0,1688.0,2850.0,2362.0,2461.0,2013.0,1400.0,1878.0,2362.0,1788.0,2013.0,1658.0,441.0,1838.0,1841.0,1914.0,1060.0,1400.0,1942.0,2178.0,737.0,1143.0,1378.0,1201.0,981.0,446.0,493.0,1119.0,1119.0,497.0,493.0,555.0,4252.0,2450.0,1010.0,4641.0,3487.0,1942.0,957.0,2360.0,1690.0,1608.0,2545.0,2020.0,2240.0,1812.0,1696.0,941.0,2321.0,810.0,2087.0,1385.0,5510.0,1400.0,1245.0,1228.0,1242.0,1449.0,1449.0,1177.0,1391.0,827.0,1391.0,5419.0,1465.0,1282.0,1653.0,1648.0,598.0,879.0,1761.0,1761.0,1761.0,11913.0,1430.0,1110.0,1430.0,2022.0,3008.0,3591.0,2930.0,2930.0,1006.0,1866.0,2352.0,1001.0,1036.0,1033.0,1157.0,1210.0,736.0,519.0,1210.0,5160.0,5160.0,519.0,1210.0,1210.0,1210.0,583.0,446.0,940.0,794.0,418.0,599.0,794.0,993.0,572.0,920.0,920.0,985.0,2930.0,1110.0,419.0,1535.0,1801.0,1943.0,1639.0,3591.0,1024.0,3486.0,998.0,932.0,1671.0,1412.0,1645.0,919.0,4602.0,1136.0,2074.0,5004.0,1681.0,1891.0,3028.0,789.0,647.0,802.0,5173.0,1513.0,1296.0,3241.0,1055.0,599.0,777.0,972.0,4536.0,3241.0,1176.0,1943.0,777.0,2435.0,1119.0,1400.0,4084.0,627.0,2591.0,1885.0,2139.0,983.0,4614.0,10356.0,1167.0,3941.0,1839.0,979.0,2332.0,3591.0,920.0,920.0,1120.0,2029.0,2850.0,474.0,1469.0,1839.0,7766.0,780.0,441.0,1449.0,1006.0,1110.0,441.0,441.0,3057.0,1403.0,2510.0,1110.0,1110.0,1110.0,1110.0,2500.0,3176.0,3098.0,1322.0,1582.0,1656.0,3098.0,3721.0,807.0,498.0,498.0,542.0,542.0,1080.0,773.0,1815.0,620.0,454.0,920.0,920.0,445.0,1465.0,2015.0,3786.0,441.0,452.0,1935.0,5171.0,6247.0,4484.0,2980.0,743.0,1400.0,1726.0,1268.0,1022.0,1891.0,972.0,5158.0,4458.0,1099.0,9190.0,3732.0,1073.0,1879.0,1513.0,3654.0,1160.0,1048.0,1387.0,1634.0,2191.0,2056.0,1210.0,3384.0,3021.0,542.0,3235.0,3021.0,607.0,1926.0,767.0,574.0,1592.0,1210.0,3358.0,2165.0,2165.0,1776.0,920.0,1469.0,3059.0,1309.0,1271.0,1309.0,1281.0,1167.0,1273.0,441.0,1119.0,1465.0,3680.0,4484.0,3732.0,1119.0,1055.0,1210.0,2512.0,983.0,777.0,1010.0,1296.0,993.0,2318.0,441.0,1905.0,1828.0,1828.0,1055.0,1465.0,1465.0,1465.0,1136.0,1465.0,1136.0,1465.0,1136.0,1136.0,933.0,1556.0,1123.0,1465.0,1475.0,773.0,949.0,949.0,1013.0,1775.0,1400.0,4290.0,2204.0,5327.0,1292.0,1119.0,1281.0,2450.0,2887.0,3059.0,1671.0,993.0,1338.0,959.0,959.0,1210.0,2344.0,1206.0,451.0,6247.0,952.0,1272.0,1140.0,1982.0,2900.0,2056.0,4283.0,3505.0,5060.0,1903.0,1242.0,1359.0,1242.0,1592.0,1359.0,827.0,1171.0,1255.0,1812.0,454.0,920.0,940.0,445.0,827.0,1073.0,2074.0,1776.0,1019.0,1006.0,1904.0,1776.0,1089.0,1120.0,5380.0,1338.0,940.0,933.0,2706.0,2411.0,1359.0,1830.0,1883.0,2191.0,2995.0,3410.0,3021.0,1054.0,1210.0,1750.0,497.0,1608.0,1608.0,3410.0,933.0,1073.0,1296.0,2943.0,2061.0,1878.0,2450.0,438.0,2437.0,3047.0,2191.0,1608.0,1903.0,1210.0,1400.0,1776.0,4149.0,5041.0,1690.0,3591.0,789.0,937.0,873.0,1010.0,773.0,471.0,1022.0,931.0,918.0,1465.0,1527.0,1449.0,1514.0,1055.0,445.0,1943.0,1943.0,2165.0,2074.0,1690.0,2165.0,2376.0,1055.0,1645.0,1400.0,5190.0,2094.0,1247.0,598.0,989.0,989.0,1092.0,1092.0,1393.0,1393.0,1209.0,1002.0,1002.0,987.0,804.0,830.0,2165.0,807.0,945.0,1776.0,777.0,2165.0,1076.0,1253.0,6429.0,6429.0,575.0,1489.0,1105.0,1696.0,9190.0,1488.0,1694.0,4213.0,4862.0,1400.0,4862.0,1640.0,1640.0,3487.0,1400.0,1076.0,756.0,406.0,1312.0,1841.0,570.0,660.0,454.0,1631.0,1883.0,1828.0,1063.0,1002.0,1209.0,989.0,11109.0,989.0,1296.0,5445.0,895.0,5445.0,933.0,1124.0,915.0,4252.0,5158.0,3732.0,1878.0,7260.0,1124.0,1811.0,1403.0,1403.0,1872.0,1256.0,1182.0,1307.0,1318.0,1851.0,1475.0,614.0,1256.0,7390.0,7260.0,1312.0,1619.0,1776.0,2165.0,2376.0,1029.0,941.0,928.0,3266.0,3680.0,4251.0,4458.0,3486.0,3486.0,4808.0,4069.0,2430.0,1175.0,1312.0,1296.0,1281.0,2437.0,2201.0,1111.0,3487.0,2577.0,1006.0,2295.0,3591.0,1785.0,1481.0,1115.0,1875.0,2582.0,3578.0,3732.0,5405.0,1296.0,888.0,1140.0,542.0,1048.0,1400.0,1627.0,1296.0,1691.0,1206.0,1255.0,1506.0,1939.0,1232.0,1296.0,1123.0,1123.0,1400.0,944.0,4808.0,1690.0,827.0,687.0,620.0,1469.0,574.0,1206.0,1036.0,1811.0,454.0,1645.0,1399.0,1522.0,1945.0,1478.0,1361.0,1123.0,2437.0,1296.0,1476.0,1852.0,942.0,520.0,1024.0,1210.0,1007.0,1039.0,1296.0,2269.0,1400.0,1110.0,1904.0,1089.0,2159.0,2545.0,3732.0,6223.0,6741.0,3630.0,1037.0,3059.0,9190.0,493.0,866.0,5405.0,2545.0,959.0,4408.0,1271.0,5055.0,1690.0,2365.0,1812.0,1812.0,1812.0,1929.0,1722.0,1722.0,1929.0,1929.0,1812.0,441.0,1776.0,1048.0,2175.0,1802.0,1711.0,1802.0,1242.0,454.0,1242.0,1391.0,1398.0,3769.0,1281.0,1171.0,1281.0,1132.0,1132.0,1400.0,1436.0,1841.0,445.0,1763.0,2385.0,1400.0,1605.0,1010.0,1605.0,1311.0,3940.0,3486.0,959.0,4069.0,985.0,2191.0,807.0,3718.0,3059.0,2930.0,5121.0,1029.0,3578.0,7623.0,7623.0,7390.0,7260.0,7260.0,2074.0,1688.0,542.0,1316.0,1619.0,1852.0,2151.0,961.0,1749.0,5161.0,3729.0,5457.0,1750.0,1290.0,1290.0,1338.0,1690.0,2190.0,1338.0,1788.0,5300.0,1182.0,4475.0,1290.0,1216.0,512.0,2165.0,1776.0,2511.0,802.0,1010.0,971.0,2284.0,1788.0,2980.0,2383.0,1690.0,1387.0,1281.0,952.0,458.0,452.0,315.0,606.0,1812.0,1296.0,3369.0,4069.0,934.0,497.0,3732.0,4251.0,777.0,516.0,1290.0,2113.0,1080.0,1749.0,1217.0,1400.0,5251.0,18409.0,1825.0,1954.0,1338.0,957.0,483.0,1006.0,1942.0,5056.0,4408.0,497.0,937.0,6610.0,765.0,975.0,2175.0,1296.0,1632.0,1359.0,1359.0,1359.0,5612.0,3745.0,1852.0,4343.0,1387.0,3539.0,3487.0,3539.0,3539.0,4782.0,3745.0,4264.0,670.0,1316.0,4264.0,5042.0,2930.0,1404.0,1074.0,2175.0,1942.0,1282.0,691.0,2450.0,1372.0,1750.0,1750.0,3228.0,1750.0,2372.0,3416.0,1776.0,1400.0,1400.0,1867.0,2175.0,1776.0,1776.0,1566.0,2175.0,1400.0,4408.0,4408.0,503.0,948.0,1290.0,4775.0,1851.0,1024.0,945.0,1172.0,2204.0,3059.0,1296.0,1042.0,1182.0,1344.0,1752.0,2193.0,1387.0,967.0,1011.0,932.0,1776.0,2165.0,2165.0,2165.0,1028.0,493.0,1815.0,2178.0,2383.0,2367.0,1888.0,1528.0,1271.0,2184.0,707.0,1151.0,3656.0,2088.0,2232.0,1320.0,2177.0,979.0,777.0,1010.0,1837.0,2528.0,789.0,629.0,878.0,1037.0,3732.0,804.0,1245.0,804.0,1042.0,948.0,454.0,757.0,968.0,1322.0,467.0,3410.0,2372.0,3416.0,1596.0,1774.0,1322.0,446.0,1776.0,1776.0,1776.0,1773.0,1042.0,1796.0,3721.0,4873.0,1796.0,1663.0,3027.0,2541.0,4614.0,7623.0,4614.0,1840.0,1072.0,4484.0,1114.0,1801.0,1281.0,1188.0,2222.0,1175.0,1137.0,3721.0,1723.0,1862.0,1036.0,1400.0,1400.0,1776.0,3486.0,3486.0,3732.0,1776.0,1296.0,1484.0,5405.0,625.0,4836.0,2967.0,2833.0,2528.0,941.0,5405.0,3745.0,3745.0,5405.0,3745.0,3745.0,5405.0,3745.0,3745.0,5405.0,3745.0,542.0,1670.0,1644.0,555.0,446.0,5405.0,5612.0,1670.0,1696.0,1010.0,1272.0,5431.0,4252.0,4836.0,4187.0,4252.0,2057.0,1901.0,1958.0,1751.0,1188.0,934.0,4263.0,1088.0,1136.0,1617.0,933.0,1042.0,1042.0,1888.0,1272.0,2165.0,2093.0,2165.0,4718.0,4264.0,3291.0,4627.0,1243.0,1346.0,707.0,1151.0,699.0,1552.0,1486.0,1775.0,1545.0,3361.0,959.0,2980.0,5041.0,1141.0,535.0,1006.0,4226.0,4499.0,497.0,613.0,710.0,568.0,464.0,1210.0,1452.0,2222.0,648.0,1436.0,1776.0,5730.0,1042.0,5405.0,3745.0,9190.0,954.0,1439.0,1776.0,1841.0,1296.0,1387.0,1643.0,1093.0,836.0,1123.0,1776.0,1752.0,1281.0,993.0,480.0,596.0,700.0,1154.0,1037.0,1249.0,1541.0,1658.0,1619.0,1684.0,1249.0,1322.0,972.0,941.0,777.0,882.0,1011.0,712.0,2193.0,873.0,1153.0,814.0,946.0,1465.0,7260.0,5315.0,2074.0,3578.0,1904.0,2430.0,583.0,1268.0,1813.0,560.0,1042.0,1055.0,1632.0,1042.0,3485.0,924.0,1110.0,2139.0,1436.0,1119.0,1528.0,1119.0,1436.0,1210.0,1436.0,1776.0,1776.0,570.0,560.0,506.0,1075.0,1423.0,2093.0,1700.0,464.0,1690.0,2157.0,5405.0,5405.0,5612.0,441.0,1271.0,800.0,978.0,1789.0,1400.0,981.0,1006.0,773.0,599.0,1128.0,7260.0,5158.0,4484.0,1271.0,972.0,504.0,1776.0,1776.0,3358.0,972.0,504.0,1115.0,429.0,968.0,1400.0,2295.0,446.0,1723.0,1049.0,1239.0,1750.0,312.0,1123.0,1010.0,4263.0,1213.0,474.0,2450.0,2289.0,1798.0,707.0,599.0,708.0,1724.0,2159.0,895.0,1592.0,1527.0,1258.0,1046.0,963.0,1119.0,2061.0,945.0,1793.0,1423.0,1752.0,1858.0,1037.0,1165.0,1088.0,1243.0,1563.0,3745.0,1075.0,596.0,402.0,836.0,1827.0,4614.0,3616.0,4160.0,981.0,572.0,980.0,1605.0,648.0,2424.0,1296.0,6677.0,451.0,5678.0,2930.0,2204.0,3486.0,3486.0,788.0,451.0,1119.0,1268.0,1119.0,1338.0,1042.0,389.0,807.0,1006.0,5678.0,980.0,1042.0,1042.0,1136.0,4173.0,5056.0,743.0,1322.0,1053.0,797.0,857.0,5262.0,3732.0,2204.0,1475.0,1085.0,1296.0,1632.0,980.0,827.0,1595.0,440.0,2065.0,1901.0,1123.0,1488.0,2157.0,486.0,2074.0,1943.0,2879.0,905.0,5445.0,7260.0,1356.0,1271.0,2398.0,1085.0,5134.0,616.0,441.0,1123.0,7264.0,5449.0,1839.0,1943.0,1750.0,4458.0,4484.0,1605.0,1153.0,1595.0,497.0,1268.0,2074.0,707.0,1151.0,4408.0,4408.0,4538.0,5056.0,1598.0,1141.0,914.0,920.0,3928.0,4641.0,1469.0,1942.0,1942.0,1942.0,1172.0,1685.0,1255.0,1071.0,2091.0,1476.0,882.0,945.0,1890.0,3059.0,1032.0,1722.0,1812.0,5380.0,1137.0,984.0,1151.0,1210.0,972.0,972.0,843.0,1271.0,1115.0,1465.0,3205.0,2450.0,5405.0,5612.0,2193.0,1358.0,493.0,1789.0,1789.0,1789.0,2165.0,2165.0,434.0,1184.0,454.0,1184.0,775.0,810.0,1094.0,1793.0,1094.0,2405.0,1852.0,1852.0,2969.0,4382.0,3928.0,3928.0,1268.0,1926.0,1088.0,1775.0,1943.0,1346.0,1127.0,2079.0,5009.0,5009.0,5216.0,2074.0,3358.0,2165.0,1789.0,1711.0,2204.0,1664.0,1295.0,1182.0,1402.0,1137.0,1400.0,1400.0,2126.0,1566.0,3732.0,5678.0,438.0,1348.0,1400.0,2151.0,1697.0,522.0,1110.0,1646.0,7104.0,2969.0,1271.0,1436.0,2204.0,1436.0,1123.0,498.0,1296.0,1617.0,1271.0,1271.0,1271.0,2193.0,1153.0,1088.0,1789.0,1789.0,3358.0,1789.0,2165.0,2165.0,920.0,4718.0,1595.0,1037.0,1037.0,1812.0,1063.0,1006.0,1149.0,1088.0,1926.0,1036.0,1493.0,5419.0,2930.0,1296.0,3486.0,1049.0,1867.0,713.0,2098.0,1015.0,1175.0,1142.0,3487.0,1788.0,920.0,945.0,945.0,945.0,3486.0,1119.0,1115.0,3850.0,462.0,1210.0,2451.0,2451.0,1221.0,498.0,1663.0,1088.0,1926.0,1036.0,1049.0,1842.0,5575.0,1167.0,1814.0,1219.0,3695.0,3591.0,1128.0,1593.0,1538.0,1684.0,1538.0,1684.0,1593.0,1659.0,503.0,4173.0,804.0,945.0,590.0,5484.0,1535.0,1110.0,1335.0,1400.0,1110.0,979.0,1281.0,4224.0,2191.0,1605.0,1561.0,3358.0,621.0,760.0,766.0,764.0,2165.0,5419.0,497.0,905.0,769.0,1281.0,1281.0,3047.0,1802.0,2165.0,1802.0,1659.0,2917.0,1338.0,933.0,1618.0,945.0,1788.0,2901.0,1032.0,1540.0,1171.0,1050.0,6353.0,5678.0,1372.0,1010.0,4614.0,3616.0,4160.0,5419.0,1037.0,1335.0,1400.0,567.0,1595.0,959.0,622.0,661.0,1119.0,1037.0,945.0,1128.0,1387.0,1632.0,1296.0,1042.0,1943.0,3539.0,1153.0,1296.0,5678.0,1037.0,3047.0,4173.0,5405.0,648.0,4473.0,4252.0,5030.0,5251.0,3721.0,4317.0,1037.0,1400.0,1681.0,3486.0,4614.0,4614.0,303.0,552.0,627.0,5678.0,3047.0,3578.0,3047.0,2203.0,1690.0,2157.0,3369.0,3486.0,460.0,3486.0,1338.0,1188.0,8103.0,7908.0,8362.0,1812.0,1812.0,1812.0,1812.0,592.0,1812.0,434.0,1812.0,648.0,1663.0,941.0,979.0,1296.0,771.0,1024.0,1338.0,1335.0,1037.0,5405.0,1622.0,765.0,700.0,622.0,1102.0,431.0,1037.0,1042.0,5186.0,1335.0,1037.0,1400.0,1243.0,660.0,1801.0,1006.0,1232.0,2930.0,707.0,1151.0,2343.0,773.0,979.0,4016.0,1789.0,1632.0,1880.0,1880.0,451.0,1150.0,1465.0,1037.0,555.0,5171.0,1320.0,4458.0,1372.0,1683.0,497.0,1659.0,1050.0,2204.0,3591.0,2019.0,1335.0,471.0,1119.0,1750.0,1281.0,452.0,1210.0,1722.0,7377.0,668.0,1006.0,756.0,1346.0,983.0,1172.0,2332.0,1028.0,4718.0,4251.0,2980.0,3266.0,3680.0,1502.0,3358.0,3358.0,2165.0,1802.0,1006.0,2201.0,1451.0,2159.0,1624.0,451.0,1722.0,1812.0,2280.0,1296.0,895.0,1037.0,1595.0,1296.0,5251.0,4718.0,1926.0,1243.0,1036.0,1243.0,1775.0,1926.0,4614.0,945.0,4614.0,2917.0,2437.0,20095.0,12951.0,1338.0,739.0,3486.0,451.0,1243.0,2124.0,2154.0,938.0,1042.0,931.0,1815.0,4434.0,555.0,1540.0,812.0,1605.0,1605.0,1605.0,1605.0,1605.0,739.0,620.0,1325.0,1338.0,1229.0,471.0,2437.0,1654.0,542.0,3539.0,497.0,972.0,1901.0,1296.0,2112.0,1088.0,1775.0,1926.0,1853.0,1943.0,7104.0,907.0,836.0,1828.0,956.0,1605.0,933.0,895.0,941.0,2165.0,1802.0,1802.0,1802.0,555.0,9190.0,4252.0,1127.0,7104.0,756.0,1595.0,1102.0,4160.0,941.0,2096.0,1556.0,970.0,2864.0,1582.0,1752.0,493.0,720.0,3578.0,1619.0,1812.0,2193.0,1232.0,1172.0,1136.0,1232.0,1172.0,1232.0,1232.0,1136.0,1172.0,1172.0,1172.0,1136.0,1232.0,1136.0,1232.0,1136.0,1839.0,1232.0,1136.0,1318.0,6353.0,1420.0,428.0,1182.0,2917.0,2930.0,2243.0,5029.0,2658.0,1403.0,1199.0,1837.0,2165.0,2057.0,9190.0,1338.0,1063.0,4550.0,1943.0,1400.0,437.0,2306.0,1411.0,1919.0,1595.0,1136.0,1737.0,1880.0,8155.0,620.0,5445.0,6353.0,1006.0,938.0,708.0,975.0,328.0,473.0,452.0,2169.0,1121.0,8168.0,6353.0,1219.0,4252.0,2658.0,3008.0,1210.0,1320.0,1210.0,3643.0,1232.0,1476.0,777.0,1541.0,1541.0,1372.0,966.0,568.0,971.0,4319.0,5888.0,1566.0,1566.0,1110.0,5445.0,3732.0,2262.0,4173.0,1151.0,707.0,945.0,4408.0,6353.0,1338.0,2074.0,4614.0,3616.0,497.0,3578.0,1722.0,1812.0,1812.0,1812.0,1152.0,2009.0,8168.0,6353.0,4251.0,3732.0,1175.0,4978.0,503.0,4382.0,710.0,542.0,3486.0,3486.0,2901.0,807.0,501.0,459.0,1128.0,882.0,1042.0,777.0,474.0,504.0,2900.0,1799.0,2269.0,1814.0,1049.0,1802.0,1413.0,1413.0,1802.0,451.0,1201.0,954.0,979.0,893.0,975.0,497.0,2112.0,3721.0,4458.0,3578.0,972.0,933.0,933.0,972.0,687.0,1909.0,1320.0,3849.0,1036.0,5678.0,2079.0,570.0,1010.0,882.0,1172.0,1135.0,1135.0,1135.0,1839.0,1669.0,1281.0,1566.0,567.0,1081.0,497.0,945.0,2170.0,1162.0,2091.0,1833.0,1119.0,4797.0,4797.0,1540.0,882.0,1469.0,756.0,1151.0,1346.0,2087.0,735.0,498.0,603.0,764.0,810.0,4978.0,720.0,720.0,2917.0,503.0,1208.0,3021.0,1525.0,1046.0,581.0,1123.0,1267.0,979.0,1403.0,959.0,998.0,581.0,1888.0,5405.0,4160.0,3486.0,972.0,998.0,972.0,998.0,497.0,1210.0,1010.0,1941.0,945.0,778.0,484.0,1153.0,1296.0,3747.0,5095.0,2113.0,1383.0,1606.0,1121.0,1162.0,1102.0,5158.0,843.0,1372.0,557.0,1119.0,762.0,629.0,1141.0,1801.0,4239.0,1119.0,1595.0,2073.0,2073.0,2048.0,1426.0,5678.0,5678.0,4395.0,1059.0,1324.0,1123.0,712.0,1154.0,6015.0,4771.0,5678.0,972.0,1296.0,1189.0,1684.0,3486.0,1296.0,1621.0,1037.0,1037.0,3111.0,777.0,1535.0,1566.0,1535.0,1535.0,1296.0,3578.0,707.0,1151.0,5639.0,3591.0,1256.0,1249.0,1256.0,1249.0,1538.0,1400.0,1072.0,660.0,3472.0,4173.0,1206.0,2528.0,1271.0,4641.0,5639.0,3695.0,1553.0,814.0,814.0,2302.0,2284.0,1488.0,1102.0,778.0,2930.0,952.0,1602.0,4614.0,3059.0,2450.0,1281.0,497.0,4173.0,4173.0,4173.0,4173.0,4173.0,4173.0,5405.0,1171.0,1605.0,1082.0,2269.0,727.0,1617.0,1320.0,3695.0,3824.0,3824.0,1372.0,1750.0,707.0,1906.0,4808.0,3747.0,1631.0,1561.0,1232.0,1527.0,1659.0,1232.0,905.0,905.0,4382.0,1413.0,1646.0,1617.0,645.0,1609.0,1632.0,963.0,1171.0,1685.0,1171.0,1372.0,1372.0,1443.0,1528.0,700.0,1413.0,1413.0,1435.0,1346.0,1082.0,2964.0,1605.0,1039.0,2165.0,1659.0,4330.0,3824.0,2165.0,2165.0,1488.0,1335.0,1528.0,2153.0,1714.0,933.0,1281.0,971.0,1088.0,1519.0,983.0,4718.0,3695.0,3747.0,1582.0,1582.0,1828.0,2411.0,918.0,1450.0,1400.0,1750.0,1511.0,570.0,1569.0,1450.0,1929.0,978.0,611.0,1372.0,1540.0,1488.0,933.0,998.0,972.0,933.0,933.0,1488.0,971.0,998.0,971.0,1488.0,998.0,933.0,1488.0,972.0,933.0,1488.0,998.0,1488.0,1175.0,1904.0,807.0,1109.0,941.0,707.0,777.0,11109.0,952.0,570.0,777.0,5367.0,5704.0,1162.0,1890.0,1060.0,879.0,1736.0,1828.0,1580.0,997.0,952.0,1538.0,972.0,945.0,1443.0,1210.0,1210.0,434.0,2658.0,2681.0,1081.0,590.0,958.0,683.0,2580.0,8414.0,1964.0,1912.0,833.0,972.0,3928.0,1563.0,5056.0,2658.0,2681.0,1462.0,1436.0,1478.0,1307.0,1621.0,1037.0,1621.0,3708.0,1281.0,1832.0,778.0,4550.0,1484.0,778.0,1462.0,1248.0,8284.0,2681.0,2658.0,2658.0,1690.0,1690.0,1484.0,471.0,1595.0,1690.0,1690.0,8673.0,8284.0,1242.0,1232.0,1245.0,5173.0,3734.0,6623.0,1670.0,2917.0,557.0,497.0,1595.0,2204.0,8932.0,4330.0,739.0,5494.0,2074.0,1659.0,1535.0,920.0,5405.0,5612.0,4614.0,959.0,5262.0,681.0,603.0,451.0,607.0,1296.0,656.0,1663.0,1750.0,2269.0,1876.0,3358.0,1758.0,2287.0,1866.0,1866.0,4006.0,1303.0,4136.0,2191.0,8038.0,1595.0,5832.0,4084.0,5709.0,2157.0,4495.0,1426.0,756.0,1535.0,2204.0,1245.0,797.0,715.0,980.0,2980.0,524.0,1943.0,1400.0,503.0,2856.0,4924.0,1645.0,1852.0,427.0,1426.0,9604.0,2178.0,1400.0,1659.0,1841.0,5170.0,1400.0,1400.0,976.0,1037.0,1400.0,2178.0,979.0,1426.0,1476.0,702.0,702.0,1605.0,1488.0,5170.0,8888.0,1050.0,402.0,1258.0,1136.0,1136.0,1136.0,1172.0,1374.0,1153.0,1436.0,977.0,979.0,9983.0,454.0,554.0,523.0,523.0,702.0,611.0,611.0,3047.0,1296.0,4173.0,1037.0,1374.0,1930.0,1683.0,2295.0,1044.0,1945.0,2370.0,2188.0,1335.0,1335.0,2073.0,2073.0,1849.0,1849.0,2125.0,1832.0,1930.0,2190.0,1672.0,854.0,1880.0,1828.0,1967.0,464.0,762.0,1981.0,1037.0,2095.0,1643.0,483.0,758.0,1011.0,2061.0,2076.0,4901.0,1023.0,1348.0,1307.0,2299.0,2244.0,1954.0,2266.0,1710.0,1755.0,1857.0,1866.0,2545.0,1876.0,1981.0,2018.0,4969.0,525.0,1723.0,1566.0,1867.0,1854.0,1608.0,1608.0,1608.0,1608.0,1478.0,3436.0,516.0,1684.0,2061.0,1478.0,1372.0,1478.0,1491.0,1919.0,920.0,1335.0,1491.0,1335.0,725.0,1834.0,723.0,1489.0,2159.0,1735.0,1335.0,738.0,3215.0,1478.0,1491.0,1335.0,1489.0,1489.0,1335.0,516.0,1491.0,699.0,879.0,1491.0,1535.0,1491.0,1535.0,1582.0,3789.0,3663.0,4209.0,1335.0,1190.0,1320.0,525.0,530.0,1348.0,879.0,1828.0,1335.0,1335.0,920.0,402.0,924.0,891.0,1573.0,928.0,1722.0,1722.0,1348.0,1348.0,920.0,1696.0,1838.0,1348.0,1010.0,1838.0,857.0,1958.0,2697.0,1696.0,1071.0,3137.0,5105.0,4969.0,2565.0,4399.0,5104.0,3003.0,1565.0,1880.0,1867.0,1761.0,946.0,1608.0,1491.0,1491.0,1335.0,1478.0,1491.0,1335.0,1335.0,972.0,1593.0,4753.0,1491.0,1335.0,1491.0,1335.0,963.0,530.0,1216.0,959.0,1736.0,1258.0,908.0,908.0,892.0,2113.0,1722.0,2091.0,1994.0,882.0,1595.0,1011.0,879.0,1193.0,1219.0,1770.0,882.0,1582.0,892.0,1283.0,1374.0,843.0,927.0,933.0,2645.0,933.0,933.0,933.0,933.0,942.0,1037.0,932.0,1867.0,1335.0,1335.0,1335.0,450.0,3760.0,1400.0,1400.0,1400.0,1400.0,1400.0,3745.0,2850.0,1891.0,1891.0,1891.0,1891.0,1891.0,1891.0,4173.0,3745.0,4808.0,3745.0,4149.0,2881.0,2593.0,5579.0,4926.0,4926.0,4926.0,4926.0,4926.0,4926.0,4084.0,4084.0,4084.0,4084.0,4084.0,4084.0,4084.0,4084.0,4084.0,4084.0,4084.0,4084.0,3876.0,3876.0,3876.0,3876.0,3876.0,3876.0,3369.0,3369.0,3369.0,2850.0,3654.0,3421.0,2850.0,2850.0,2850.0,1891.0,5445.0,1841.0,2188.0,1841.0,1781.0,1781.0,1781.0,1781.0,1781.0,1841.0,1781.0,1841.0,1781.0,1781.0,1781.0,1841.0,5612.0,4667.0,3760.0,1400.0,1400.0,5808.0,1400.0,1697.0,1554.0,2838.0,2383.0,1788.0,1724.0,5808.0,5808.0,1271.0,1919.0,2175.0,2175.0,2175.0,2175.0,2175.0,1942.0,1942.0,1942.0,1942.0,1942.0,714.0,1554.0,2073.0,1685.0,2982.0,2383.0,1880.0,2269.0,1685.0,5520.0,1743.0,2013.0,1111.0,714.0,714.0,4408.0,4408.0,4408.0,4408.0,4408.0,4408.0,4408.0,4408.0,4408.0,4408.0,4408.0,1724.0,1750.0,736.0,5004.0,1271.0,1245.0,1602.0,4732.0,3757.0,3734.0,1128.0,6223.0,3708.0,2980.0,3369.0,5419.0,1037.0,1037.0,1335.0,1335.0,1037.0,1037.0,1400.0,8284.0,892.0,892.0,625.0,1232.0,1296.0,905.0,4628.0,4550.0,905.0,1462.0,1151.0,1125.0,1543.0,4732.0,3824.0,3824.0,1400.0,1164.0,905.0,1407.0,4836.0,2383.0,1136.0,1136.0,1136.0,1172.0,1172.0,1839.0,1839.0,1839.0,1839.0,1749.0,1110.0,1624.0,1311.0,1596.0,1428.0,1505.0,537.0,1460.0,1201.0,3824.0,3235.0,5004.0,503.0,1281.0,1112.0,1743.0,4797.0,4797.0,4797.0,4797.0,4797.0,4797.0,4797.0,4797.0,4797.0,4797.0,4797.0,5056.0,5056.0,5056.0,4732.0,5160.0,1311.0,1154.0,1596.0,1596.0,620.0,1596.0,1201.0,897.0,1505.0,1311.0,1596.0,6469.0,1193.0,1658.0,735.0,683.0,1428.0,748.0,1428.0,1505.0,897.0,537.0,7779.0,3902.0,5056.0,5056.0,5056.0,4797.0,4797.0,4797.0,4797.0,4797.0,4797.0,4797.0,4797.0,4797.0,4797.0,4797.0,4797.0,4797.0,4797.0,4797.0,4797.0,4797.0,4797.0,1372.0,1828.0,2022.0,1815.0,3369.0,537.0,897.0,1002.0,1228.0,814.0,807.0,503.0,1731.0,2980.0,5523.0,5964.0,1854.0,8440.0,8310.0,8310.0,1582.0,446.0,1272.0,1368.0,1596.0,1272.0,1428.0,1596.0,7779.0,3914.0,1943.0,6015.0,2371.0,2074.0,1659.0,6623.0,5832.0,3708.0,3876.0,2681.0,2850.0,1258.0,1258.0,1258.0,1258.0,1400.0,491.0,4019.0,1815.0,1815.0,1400.0,1400.0,1400.0,1400.0,1400.0,1400.0,1815.0,1400.0,1400.0,1258.0,1200.0,1754.0,1646.0,491.0,448.0,1272.0,7882.0,3708.0,3708.0,491.0,1272.0,1428.0,2007.0,6067.0,2302.0,2411.0,3567.0,1400.0,2139.0,2139.0,1815.0,1815.0,4926.0,1371.0,2107.0,2112.0,2107.0,1683.0,2628.0,2178.0,2178.0,2178.0,2332.0,1841.0,1841.0,1841.0,2107.0,1605.0,419.0,1400.0,1672.0,1841.0,2178.0,905.0,2783.0,1863.0,2284.0,3205.0,2053.0,2512.0,1014.0,1014.0,841.0,841.0,914.0,914.0,2434.0,1809.0,1443.0,1528.0,1117.0,2140.0,775.0,464.0,1229.0,529.0,594.0,1605.0,1605.0,9062.0,2706.0,1685.0,419.0,1788.0,1317.0,1605.0,1967.0,1758.0,417.0,652.0,892.0,1180.0,1887.0,1570.0,448.0,968.0,1566.0,1789.0,477.0,477.0,458.0,458.0,506.0,506.0,506.0,506.0,651.0,651.0,791.0,643.0,954.0,885.0,825.0,981.0,981.0,954.0,885.0,825.0,791.0,643.0,1215.0,1590.0,1465.0,805.0,620.0,1605.0,1605.0,454.0,3720.0,1293.0,1758.0,1903.0,1867.0,1694.0,1606.0,1606.0,1606.0,1979.0,1606.0,1606.0,1606.0,2279.0,1606.0,1606.0,544.0,1491.0,1335.0,1335.0,1867.0,904.0,904.0,797.0,797.0,797.0,797.0,946.0,2982.0,2383.0,1793.0,1906.0,1696.0,2117.0,2968.0,1539.0,648.0,1296.0,957.0,1296.0,739.0,3059.0,1553.0,2009.0,620.0,555.0,777.0,1694.0,1879.0,993.0,3486.0,2074.0,4615.0,5055.0,933.0,687.0,9061.0,574.0,2204.0,941.0,941.0,941.0,777.0,777.0,777.0,1676.0,777.0,777.0,777.0,777.0,777.0,1338.0,777.0,777.0,964.0,2149.0,2383.0,1588.0,4667.0,2461.0,1828.0,1465.0,451.0,1423.0,1142.0,1853.0,1210.0,1063.0,2157.0,3769.0,620.0,940.0,2209.0,1033.0,1101.0,1373.0,1681.0,1681.0,1681.0,2891.0,1681.0,1681.0,2152.0,1681.0,1681.0,1681.0,1681.0,1681.0,1296.0,1681.0,1982.0,1296.0,1681.0,1554.0,1055.0,1110.0,3241.0,5095.0,5056.0,454.0,4926.0,4316.0,4926.0,4084.0,3876.0,4926.0,4084.0,4084.0,4084.0,4084.0,3876.0,4084.0,3876.0,498.0,467.0,467.0,998.0,1296.0,3875.0,11109.0,9190.0,1915.0,2022.0,2398.0,1696.0,1883.0,1883.0,2833.0,1961.0,1799.0,1474.0,1465.0,1883.0,1883.0,1883.0,1883.0,1475.0,1798.0,1799.0,1883.0,1961.0,1960.0,1475.0,1883.0,1883.0,1883.0,1883.0,1883.0,955.0,1506.0,1178.0,1697.0,959.0,1939.0,1939.0,1939.0,1939.0,1296.0,1878.0,1002.0,1281.0,1154.0,2074.0,464.0,503.0,1201.0,1294.0,451.0,814.0,1119.0,1428.0,5510.0,1118.0,1949.0,1296.0,620.0,3358.0,1225.0,1225.0,1225.0,1023.0,3358.0,967.0,4032.0,1374.0,1080.0,1387.0,1943.0,2074.0,5186.0,4382.0,1359.0,2061.0,1290.0,1308.0,2061.0,1943.0,1290.0,1290.0,1210.0,2125.0,1593.0,1566.0,497.0,687.0,975.0,1006.0,878.0,451.0,807.0,1006.0,1426.0,1359.0,2204.0,2074.0,2074.0,1290.0,1164.0,1290.0,707.0,1151.0,570.0,454.0,1258.0,556.0,762.0,4149.0,3786.0,1788.0,1867.0,1037.0,1102.0,1037.0,778.0,1387.0,723.0,1127.0,1080.0,1506.0,803.0,810.0,5223.0,1063.0,1037.0,1175.0,1943.0,1775.0,1690.0,940.0,4252.0,5004.0,762.0,1296.0,1387.0,1320.0,3745.0,1210.0,1411.0,1451.0,1814.0,3745.0,2149.0,2149.0,4771.0,1808.0,789.0,1217.0,1605.0,445.0,1225.0,1225.0,1290.0,1569.0,1281.0,3604.0,428.0,428.0,445.0,5315.0,4421.0,7260.0,5212.0,5445.0,3786.0,2143.0,4408.0,4408.0,4408.0,4408.0,4408.0,4408.0,4408.0,4408.0,4408.0,4408.0,4408.0,4408.0,4641.0,6247.0,15557.0,777.0,1038.0,1605.0,1010.0,1361.0,1605.0,4382.0,3591.0,2450.0,2074.0,945.0,4631.0,2450.0,3953.0,3953.0,1346.0,5222.0,1387.0,939.0,1320.0,756.0,2235.0,6610.0,2930.0,3059.0,3369.0,1228.0,451.0,761.0,1142.0,2437.0,758.0,1788.0,1788.0,1225.0,1225.0,6610.0,3927.0,4199.0,4458.0,788.0,1752.0,1752.0,4264.0,1042.0,1281.0,4447.0,497.0,873.0,751.0,497.0,1801.0,2261.0,652.0,1119.0,1827.0,4458.0,1085.0,428.0,739.0,1002.0,1893.0,1217.0,1281.0,1281.0,1296.0,603.0,2100.0,1478.0,713.0,1271.0,1042.0,1556.0,1232.0,1282.0,2048.0,1815.0,1685.0,2009.0,1272.0,1201.0,1262.0,1019.0,1775.0,1090.0,1232.0,1906.0,1042.0,1210.0,1436.0,1436.0,1596.0,2463.0,2433.0,1645.0,2204.0,1372.0,6353.0,2204.0,1154.0,1142.0,1142.0,376.0,723.0,1142.0,376.0,1281.0,712.0,454.0,1372.0,1255.0,775.0,1110.0,1742.0,596.0,1653.0,765.0,490.0,557.0,5964.0,5704.0,3954.0,2061.0,2061.0,1271.0,1271.0,739.0,1271.0,1271.0,542.0,941.0,2917.0,810.0,1042.0,460.0,5910.0,4356.0,1906.0,1055.0,1437.0,3474.0,1255.0,1372.0,1373.0,1314.0,1515.0,1042.0,1854.0,957.0,941.0,802.0,474.0,786.0,415.0,2930.0,1217.0,3059.0,1387.0,1129.0,2209.0,1281.0,5262.0,451.0,11109.0,620.0,1119.0,6429.0,6610.0,1184.0,452.0,1042.0,1605.0,2969.0,2136.0,5184.0,860.0,1749.0,1006.0,957.0,941.0,1722.0,1119.0,1759.0,1382.0,1645.0,3096.0,22091.0,1506.0,1926.0,1853.0,1346.0,1693.0,1943.0,1775.0,555.0,504.0,1024.0,1197.0,1115.0,1296.0,1037.0,1128.0,1050.0,1064.0,1937.0,454.0,2193.0,2193.0,2193.0,2193.0,2193.0,2193.0,1367.0,3665.0,1296.0,1608.0,4808.0,1210.0,1698.0,3021.0,1119.0,620.0,1659.0,503.0,788.0,1281.0,2013.0,425.0,497.0,926.0,2191.0,2204.0,4200.0,4200.0,4162.0,4628.0,5445.0,5134.0,5134.0,564.0,4200.0,4200.0,4278.0,4550.0,5186.0,5134.0,5134.0,5134.0,5134.0,5445.0,4550.0,4421.0,4810.0,4278.0,4356.0,3760.0,4200.0,4200.0,8168.0,3837.0,2865.0,3915.0,6353.0,6223.0,3837.0,2865.0,3915.0,3915.0,3915.0,1058.0,607.0,3047.0,2191.0,5251.0,1318.0,979.0,1534.0,1880.0,1919.0,769.0,2365.0,2157.0,1736.0,769.0,3940.0,3732.0,1210.0,1145.0,2980.0,1690.0,1812.0,1272.0,807.0,9190.0,491.0,5004.0,1658.0,1878.0,3630.0,945.0,1180.0,1167.0,962.0,1124.0,1119.0,1320.0,957.0,1006.0,5262.0,2193.0,2161.0,2969.0,1119.0,2191.0,1088.0,2250.0,1933.0,3486.0,4614.0,1617.0,6067.0,454.0,497.0,4797.0,4797.0,4797.0,4797.0,4797.0,4718.0,1605.0,1320.0,4797.0,4797.0,4797.0,4797.0,4797.0,4797.0,4797.0,1296.0,5056.0,5056.0,5056.0,5056.0,1849.0,945.0,501.0,1138.0,4512.0,5418.0,2144.0,7377.0,5418.0,1119.0,2332.0,707.0,484.0,1243.0,756.0,945.0,1281.0,2917.0,451.0,2309.0,1958.0,1646.0,1272.0,949.0,1036.0,1049.0,460.0,460.0,460.0,1741.0,460.0,3824.0,1387.0,2204.0,1602.0,804.0,506.0,1281.0,1318.0,1595.0,1488.0,1801.0,1271.0,1059.0,1059.0,1595.0,972.0,1683.0,972.0,2139.0,1595.0,1683.0,1683.0,570.0,857.0,1346.0,1593.0,1085.0,1198.0,3889.0,1346.0,1006.0,933.0,979.0,14261.0,1232.0,5510.0,3695.0,4732.0,5251.0,946.0,2930.0,5160.0,4264.0,780.0,1208.0,1281.0,497.0,1136.0,557.0,4160.0,1002.0,1085.0,1085.0,441.0,1199.0,625.0,1683.0,2193.0,814.0,1752.0,1296.0,620.0,1538.0,799.0,1906.0,451.0,4264.0,1151.0,707.0,4162.0,8038.0,4084.0,4499.0,5627.0,3486.0,490.0,2450.0,5056.0,5056.0,4797.0,4797.0,4797.0,4797.0,4797.0,4797.0,4797.0,4797.0,497.0,814.0,497.0,1605.0,4797.0,4797.0,4797.0,4797.0,4797.0,4797.0,5056.0,5056.0,4797.0,4797.0,9723.0,807.0,3591.0,8038.0,612.0,497.0,5419.0,1606.0,1880.0,1632.0,1387.0,1085.0,2930.0,1037.0,1102.0,1296.0,1621.0,1102.0,1037.0,1037.0,941.0,3047.0,2191.0,2230.0,2437.0,1672.0,451.0,441.0,2826.0,3591.0,975.0,878.0,975.0,807.0,5445.0,2263.0,1383.0,3591.0,1037.0,1828.0,1605.0,1605.0,4264.0,1888.0,1563.0,3237.0,992.0,743.0,743.0,1566.0,777.0,3552.0,1232.0,2124.0,1659.0,2124.0,1694.0,1694.0,3552.0,503.0,1396.0,1359.0,497.0,743.0,5445.0,1540.0,1228.0,998.0,971.0,998.0,998.0,1488.0,629.0,971.0,998.0,503.0,620.0,503.0,814.0,2980.0,569.0,1645.0,1296.0,971.0,971.0,971.0,971.0,971.0,971.0,933.0,751.0,972.0,1232.0,1232.0,638.0,2917.0,2191.0,972.0,1688.0,2437.0,2191.0,1496.0,1426.0,3338.0,2160.0,1592.0,5380.0,1488.0,570.0,1605.0,1605.0,1217.0,1368.0,1463.0,4123.0,466.0,569.0,972.0,1943.0,777.0,2332.0,1694.0,570.0,1089.0,1153.0,1115.0,1271.0,1037.0,4134.0,801.0,1387.0,976.0,1041.0,8284.0,810.0,1064.0,1225.0,979.0,2567.0,5367.0,1163.0,1436.0,4264.0,5042.0,1556.0,1788.0,1893.0,810.0,3578.0,3898.0,1943.0,777.0,4956.0,1272.0,941.0,4264.0,5199.0,1872.0,1036.0,1267.0,5549.0,4239.0,2593.0,5627.0,2852.0,5964.0,5321.0,1133.0,5808.0,1133.0,547.0,979.0,2450.0,3059.0,2593.0,2852.0,570.0,5704.0,5549.0,5549.0,3486.0,2256.0,2980.0,2057.0,1872.0,1377.0,5481.0,1108.0,1167.0,1346.0,3047.0,2449.0,1469.0,581.0,1670.0,1752.0,691.0,1727.0,2193.0,2332.0,1905.0,1901.0,1901.0,691.0,491.0,1316.0,5264.0,607.0,1659.0,834.0,775.0,498.0,1172.0,814.0,1080.0,1631.0,1645.0,1316.0,1150.0,1109.0,707.0,1136.0,1727.0,3907.0,1057.0,1060.0,1031.0,2332.0,2332.0,419.0,1063.0,2256.0,2256.0,2366.0,1049.0,497.0,1036.0,1189.0,1400.0,1400.0,1400.0,1400.0,1296.0,1400.0,586.0,1814.0,2364.0,895.0,1296.0,1283.0,1296.0,1296.0,1320.0,1127.0,1605.0,1514.0,691.0,652.0,574.0,503.0,503.0,905.0,1605.0,535.0,1670.0,1514.0,1189.0,1750.0,466.0,6599.0,5251.0,22039.0,2317.0,1801.0,2254.0,1750.0,1752.0,19835.0,570.0,1114.0,810.0,428.0,765.0,814.0,447.0,1443.0,1119.0,3059.0,1605.0,1436.0,905.0,814.0,1232.0,1908.0,3358.0,1909.0,1601.0,1933.0,1909.0,2308.0,1917.0,3980.0,1057.0,486.0,1450.0,2332.0,2256.0,1737.0,555.0,1108.0,1621.0,1167.0,2191.0,810.0,5445.0,1605.0,5171.0,2425.0,933.0,2256.0,1617.0,2329.0,621.0,1400.0,933.0,2969.0,1488.0,462.0,2930.0,1054.0,1296.0,2365.0,1672.0,1123.0,2423.0,503.0,743.0,1608.0,1210.0,648.0,3591.0,2203.0,1788.0,542.0,2191.0,1216.0,1083.0,1083.0,1645.0,480.0,2398.0,480.0,480.0,2398.0,2401.0,480.0,2193.0,2398.0,1272.0,620.0,3369.0,3188.0,620.0,620.0,1608.0,2489.0,1281.0,1943.0,1088.0,1683.0,652.0,691.0,756.0,1296.0,1535.0,1654.0,1049.0,4069.0,1670.0,1469.0,1670.0,581.0,5262.0,1338.0,1672.0,994.0,1783.0,1420.0,376.0,814.0,1236.0,577.0,419.0,1436.0,2013.0,1400.0,1901.0,1506.0,1901.0,1466.0,1665.0,4251.0,1930.0,1296.0,4458.0,9061.0,446.0,814.0,1504.0,583.0,650.0,3591.0,1119.0,607.0,3120.0,1400.0,555.0,905.0,1672.0,2243.0,2204.0,574.0,620.0,503.0,1167.0,1746.0,497.0,1014.0,1109.0,707.0,4391.0,1839.0,1488.0,2852.0,777.0,1321.0,1296.0,514.0,5262.0,1316.0,708.0,1296.0,1582.0,1773.0,4718.0,1281.0,1992.0,1699.0,1281.0,446.0,451.0,1027.0,1478.0,1750.0,905.0,4484.0,607.0,2138.0,451.0,555.0,1475.0,1217.0,1027.0,2073.0,751.0,5678.0,1854.0,2720.0,621.0,497.0,1060.0,1060.0,5262.0,1071.0,2321.0,807.0,1153.0,1153.0,1296.0,1119.0,1049.0,1736.0,4627.0,2720.0,907.0,435.0,2463.0,1247.0,1954.0,600.0,934.0,1720.0,1296.0,644.0,607.0,1724.0,10497.0,1854.0,458.0,1296.0,1296.0,2437.0,1172.0,1825.0,1863.0,1281.0,1272.0,2309.0,1296.0,1296.0,514.0,1346.0,1360.0,1653.0,1296.0,1296.0,2087.0,2437.0,23607.0,3266.0,623.0,2450.0,3059.0,4588.0,3940.0,957.0,975.0,1560.0,1232.0,1839.0,5262.0,882.0,1296.0,620.0,1296.0,1595.0,1605.0,600.0,1379.0,2176.0,2339.0,775.0,1423.0,1945.0,1828.0,454.0,796.0,2436.0,1258.0,1036.0,1334.0,777.0,4239.0,1786.0,1760.0,1851.0,1346.0,1517.0,493.0,898.0,1071.0,3027.0,2384.0,2256.0,678.0,1696.0,898.0,1256.0,1593.0,782.0,1696.0,2034.0,2450.0,581.0,2191.0,607.0,2061.0,1180.0,1226.0,1175.0,814.0,2332.0,3591.0,1338.0,1569.0,446.0,1904.0,707.0,1006.0,2995.0,1281.0,583.0,778.0,1727.0,2852.0,581.0,497.0,4017.0,5712.0,5219.0,5142.0,3954.0,2409.0,490.0,622.0,622.0,3047.0,1296.0,2204.0,2204.0,2134.0,1690.0,797.0,1113.0,1282.0,1282.0,1282.0,1282.0,1282.0,581.0,1164.0,1488.0,564.0,564.0,1176.0,1010.0,2191.0,2191.0,493.0,1387.0,1272.0,454.0,1469.0,581.0,2980.0,503.0,41356.0,5262.0,814.0,1697.0,2450.0,1011.0,2204.0,980.0,1688.0,1663.0,957.0,1815.0,800.0,759.0,547.0,1175.0,1188.0,2222.0,1954.0,1175.0,1338.0,1255.0,572.0,1659.0,1926.0,1815.0,932.0,2450.0,1684.0,2321.0,998.0,1438.0,1002.0,1019.0,1111.0,450.0,1243.0,1839.0,1190.0,1475.0,922.0,969.0,1852.0,756.0,3338.0,458.0,1932.0,1151.0,1346.0,2284.0,1672.0,1724.0,2995.0,1089.0,1255.0,1255.0,1560.0,1656.0,707.0,1006.0,1570.0,5158.0,1322.0,869.0,1423.0,810.0,555.0,1255.0,1754.0,2232.0,2511.0,1400.0,2136.0,1469.0,1132.0,1694.0,1167.0,2332.0,2047.0,4997.0,1296.0,1400.0,1901.0,1506.0,1255.0,1605.0,573.0,3578.0,2282.0,3059.0,620.0,2204.0,1632.0,1880.0,2204.0,2917.0,1763.0,925.0,1854.0,1440.0,2059.0,1338.0,1338.0,1010.0,765.0,882.0,972.0,945.0,941.0,947.0,504.0,912.0,1906.0,2243.0,1027.0,1699.0,1605.0,708.0,775.0,775.0,1208.0,14033.0,1798.0,4978.0,1750.0,2204.0,1748.0,1763.0,2164.0,1175.0,1683.0,4978.0,1595.0,2243.0,4997.0,2437.0,2243.0,2204.0,2134.0,2863.0,2048.0,717.0,1750.0,464.0,594.0,516.0,659.0,581.0,503.0,1901.0,707.0,451.0,769.0,2190.0,1255.0,782.0,1917.0,1151.0,1346.0,1752.0,1255.0,979.0,454.0,941.0,1488.0,707.0,1838.0,608.0,620.0,2112.0,1763.0,707.0,1006.0,1943.0,2826.0,1311.0,1346.0,1272.0,1663.0,3205.0,9061.0,1338.0,1469.0,1400.0,1763.0,2193.0,542.0,1504.0,1038.0,504.0,1582.0,1109.0,1294.0,1181.0,3047.0,530.0,1798.0,2366.0,1754.0,1797.0,1797.0,5056.0,1815.0,1697.0,1271.0,1271.0,1271.0,1255.0,529.0,1798.0,568.0,1386.0,1469.0,2177.0,2089.0,2125.0,1930.0,1683.0,1348.0,641.0,1193.0,1271.0,1245.0,1271.0,1361.0,1190.0,980.0,1491.0,1216.0,932.0,717.0,717.0,843.0,717.0,932.0,1592.0,609.0,1592.0,707.0,2332.0,2331.0,869.0,869.0,1348.0,493.0,1400.0,1309.0,1699.0,4484.0,1670.0,999.0,1228.0,1058.0,1945.0,1798.0,542.0,1232.0,1569.0,2528.0,2243.0,1631.0,1798.0,4458.0,1153.0,1943.0,957.0,2437.0,555.0,1119.0,598.0,1798.0,3235.0,1640.0,1495.0,668.0,1145.0,1293.0,1346.0,1236.0,3940.0,1724.0,2541.0,1645.0,1006.0,707.0,1387.0,2545.0,2512.0,2282.0,8168.0,1605.0,1748.0,1387.0,1801.0,1801.0,1663.0,1663.0,1798.0,1798.0,3954.0,458.0,1684.0,972.0,777.0,2365.0,777.0,775.0,866.0,866.0,4278.0,1605.0,2980.0,1798.0,1798.0,1798.0,972.0,777.0,972.0,594.0,4473.0,1619.0,1412.0,1488.0,1652.0,1217.0,3047.0,5043.0,1943.0,1120.0,991.0,1458.0,1844.0,950.0,2190.0,1172.0,451.0,464.0,495.0,817.0,661.0,1281.0,1400.0,1476.0,777.0,707.0,707.0,1006.0,1469.0,1478.0,1901.0,1888.0,1123.0,1653.0,1387.0,1136.0,1072.0,1132.0,2125.0,777.0,952.0,777.0,1271.0,1172.0,454.0,882.0,1049.0,1711.0,1933.0,1803.0,1569.0,1058.0,1956.0,1049.0,972.0,1049.0,1110.0,1232.0,1232.0,1387.0,1006.0,1694.0,1015.0,1123.0,1320.0,472.0,567.0,309.0,2190.0,2073.0,1566.0,743.0,691.0,620.0,1798.0,1153.0,620.0,775.0,503.0,1450.0,1165.0,1841.0,1841.0,598.0,1648.0,1153.0,830.0,659.0,840.0,620.0,710.0,5419.0,5419.0,451.0,5262.0,2461.0,777.0,882.0,1400.0,5521.0,1942.0,2067.0,1164.0,1216.0,694.0,756.0,1216.0,2658.0,1229.0,1216.0,1659.0,1006.0,3317.0,1229.0,707.0,1006.0,1294.0,1916.0,1281.0,1346.0,1216.0,1151.0,707.0,1750.0,1901.0,1906.0,1346.0,756.0,1281.0,1346.0,1750.0,732.0,756.0,1229.0,694.0,732.0,1864.0,1906.0,756.0,1901.0,1901.0,756.0,758.0,1906.0,1346.0,1901.0,1901.0,777.0,938.0,870.0,570.0,1049.0,1943.0,1387.0,1311.0,2088.0,309.0,1645.0,3654.0,1006.0,707.0,3436.0,1849.0,1595.0,1788.0,1785.0,583.0,556.0,1255.0,3240.0,2017.0,1569.0,1567.0,1827.0,4281.0,2546.0,2139.0,1208.0,1343.0,1535.0,1687.0,1426.0,1514.0,1685.0,1060.0,1060.0,1049.0,594.0,503.0,813.0,1006.0,957.0,1272.0,493.0,1255.0,1255.0,1239.0,9061.0,529.0,777.0,4095.0,5510.0,4069.0,4743.0,1535.0,810.0,1282.0,2541.0,1089.0,1089.0,920.0,5171.0,1383.0,1325.0,659.0,1563.0,1669.0,1288.0,1426.0,425.0,1006.0,707.0,1159.0,1688.0,810.0,777.0,1228.0,1232.0,6467.0,1232.0,1608.0,1099.0,762.0,4850.0,2086.0,1267.0,2060.0,1867.0,775.0,777.0,1888.0,581.0,2430.0,1694.0,1954.0,1110.0,2430.0,1954.0,891.0,984.0,2165.0,1718.0,2157.0,854.0,2139.0,2398.0,570.0,1217.0,1943.0,2541.0,503.0,1232.0,1006.0,1006.0,1420.0,1854.0,938.0,1006.0,1711.0,1582.0,1217.0,2087.0,5158.0,1156.0,1901.0,1006.0,1947.0,430.0,643.0,906.0,980.0,1888.0,1105.0,2900.0,2511.0,1919.0,1750.0,1346.0,1102.0],\"type\":\"box\",\"xaxis\":\"x\",\"yaxis\":\"y\"},{\"boxpoints\":\"outliers\",\"jitter\":0.3,\"name\":\"Monthly Installment by Vehicle Make\",\"pointpos\":-1.8,\"x\":[\"Honda\",\"TESLA\",\"Honda\",\"Perodua\",\"Mitsubishi\",\"Proton\",\"Honda\",\"Honda\",\"Proton\",\"Proton\",\"Proton\",\"Volkswagen\",\"Honda\",\"Honda\",\"Honda\",\"Mazda\",\"Proton\",\"Proton\",\"Honda\",\"Ford\",\"Nissan\",\"Maserati\",\"Mitsubishi\",\"Toyota\",\"Toyota\",\"Toyota\",\"Toyota\",\"Toyota\",\"Toyota\",\"Honda\",\"Honda\",\"Honda\",\"Perodua\",\"Lexus\",\"Peugeot\",\"Honda\",\"Honda\",\"Honda\",\"Honda\",\"Isuzu\",\"Honda\",\"Proton\",\"TESLA\",\"Volkswagen\",\"Volkswagen\",\"Toyota\",\"Toyota\",\"TESLA\",\"Honda\",\"Honda\",\"Honda\",\"Proton\",\"Honda\",\"Honda\",\"Honda\",\"Perodua\",\"Honda\",\"Honda\",\"Honda\",\"Honda\",\"Proton\",\"Proton\",\"Proton\",\"Honda\",\"Volkswagen\",\"Volkswagen\",\"Volkswagen\",\"Volkswagen\",\"Volkswagen\",\"Nissan\",\"Honda\",\"Honda\",\"Honda\",\"Honda\",\"Proton\",\"Proton\",\"Proton\",\"Proton\",\"Proton\",\"Proton\",\"Proton\",\"Nissan\",\"Nissan\",\"Daihatsu\",\"Nissan\",\"Toyota\",\"Perodua\",\"Ford\",\"Ford\",\"Kia\",\"Peugeot\",\"Honda\",\"Honda\",\"Ford\",\"Proton\",\"Proton\",\"Proton\",\"Proton\",\"Honda\",\"Honda\",\"Honda\",\"Perodua\",\"Toyota\",\"Honda\",\"Honda\",\"Proton\",\"Proton\",\"Mitsubishi\",\"Isuzu\",\"Isuzu\",\"Isuzu\",\"Volkswagen\",\"Honda\",\"Volvo\",\"Honda\",\"Volvo\",\"Volkswagen\",\"Ford\",\"Honda\",\"Honda\",\"Honda\",\"Hino\",\"Daihatsu\",\"Ford\",\"Ford\",\"Ford\",\"Ford\",\"Ford\",\"Proton\",\"Toyota\",\"Proton\",\"Proton\",\"Proton\",\"Mazda\",\"Proton\",\"Toyota\",\"Proton\",\"Mitsubishi\",\"Proton\",\"Isuzu\",\"Isuzu\",\"Isuzu\",\"Isuzu\",\"Isuzu\",\"Isuzu\",\"Proton\",\"Proton\",\"Proton\",\"Honda\",\"Honda\",\"Honda\",\"Honda\",\"Honda\",\"Honda\",\"Honda\",\"Honda\",\"Honda\",\"Ford\",\"Perodua\",\"Perodua\",\"Mazda\",\"Proton\",\"Proton\",\"Proton\",\"Volvo\",\"Kia\",\"Mercedes-Benz\",\"Mazda\",\"Honda\",\"Honda\",\"Proton\",\"Mitsubishi\",\"Honda\",\"Mitsubishi\",\"Kia\",\"Lexus\",\"Proton\",\"Honda\",\"Perodua\",\"Perodua\",\"Honda\",\"Honda\",\"Mazda\",\"Mazda\",\"Mazda\",\"Mazda\",\"Honda\",\"Mazda\",\"Mazda\",\"Mazda\",\"Mazda\",\"Mazda\",\"Mazda\",\"Proton\",\"Nissan\",\"Mercedes-Benz\",\"Mercedes-Benz\",\"Mercedes-Benz\",\"Mercedes-Benz\",\"Honda\",\"Honda\",\"Honda\",\"Proton\",\"Proton\",\"Proton\",\"Honda\",\"Subaru\",\"Subaru\",\"Subaru\",\"Nissan\",\"Nissan\",\"Volkswagen\",\"Proton\",\"Proton\",\"Honda\",\"Honda\",\"Honda\",\"Proton\",\"Honda\",\"TESLA\",\"Honda\",\"Honda\",\"Proton\",\"Proton\",\"Proton\",\"Volkswagen\",\"Proton\",\"Proton\",\"Proton\",\"Honda\",\"Honda\",\"Honda\",\"Honda\",\"Ford\",\"Perodua\",\"Proton\",\"Proton\",\"Honda\",\"Ford\",\"Honda\",\"Honda\",\"Nissan\",\"Nissan\",\"Nissan\",\"Perodua\",\"Perodua\",\"Perodua\",\"Proton\",\"Proton\",\"Nissan\",\"Toyota\",\"Toyota\",\"Mazda\",\"Mitsubishi\",\"Toyota\",\"Honda\",\"Lexus\",\"Proton\",\"Toyota\",\"Toyota\",\"Proton\",\"Proton\",\"Honda\",\"Proton\",\"Ford\",\"Ford\",\"Proton\",\"Honda\",\"Honda\",\"Proton\",\"Nissan\",\"Mitsubishi\",\"Volkswagen\",\"Honda\",\"Honda\",\"Honda\",\"Perodua\",\"Honda\",\"Honda\",\"Honda\",\"Perodua\",\"Perodua\",\"Mitsubishi\",\"Mitsubishi\",\"Perodua\",\"Honda\",\"Proton\",\"Honda\",\"Proton\",\"Toyota\",\"Ford\",\"Ford\",\"Ford\",\"Proton\",\"Proton\",\"Toyota\",\"Honda\",\"Honda\",\"Honda\",\"Honda\",\"Toyota\",\"Proton\",\"Honda\",\"Honda\",\"Honda\",\"Nissan\",\"Proton\",\"Proton\",\"Proton\",\"Proton\",\"Proton\",\"Proton\",\"Proton\",\"TESLA\",\"Proton\",\"Proton\",\"Honda\",\"Nissan\",\"Honda\",\"Proton\",\"Proton\",\"Peugeot\",\"Mazda\",\"Proton\",\"TESLA\",\"Ford\",\"Mitsubishi\",\"Volkswagen\",\"Honda\",\"Honda\",\"Proton\",\"Proton\",\"Perodua\",\"Perodua\",\"Perodua\",\"Volkswagen\",\"Volkswagen\",\"Ford\",\"Volkswagen\",\"Proton\",\"Volvo\",\"Volvo\",\"Proton\",\"Proton\",\"Isuzu\",\"Kia\",\"Mercedes-Benz\",\"Mazda\",\"Perodua\",\"Perodua\",\"Honda\",\"Ford\",\"Ford\",\"Perodua\",\"Honda\",\"Proton\",\"Ford\",\"Perodua\",\"Volkswagen\",\"Toyota\",\"Toyota\",\"Volkswagen\",\"Volkswagen\",\"Kia\",\"Proton\",\"Perodua\",\"Perodua\",\"Perodua\",\"Mitsubishi\",\"Proton\",\"Honda\",\"Mitsubishi\",\"Proton\",\"Perodua\",\"Perodua\",\"Perodua\",\"Perodua\",\"Toyota\",\"Perodua\",\"Perodua\",\"Proton\",\"Perodua\",\"Perodua\",\"Perodua\",\"Honda\",\"Proton\",\"Proton\",\"Proton\",\"Proton\",\"Ford\",\"Perodua\",\"Perodua\",\"Perodua\",\"Honda\",\"Mitsubishi\",\"Proton\",\"Perodua\",\"Perodua\",\"Honda\",\"Proton\",\"Toyota\",\"Honda\",\"Proton\",\"Honda\",\"Honda\",\"Toyota\",\"Honda\",\"Honda\",\"Honda\",\"Honda\",\"Mercedes-Benz\",\"Mitsubishi\",\"Mitsubishi\",\"Mercedes-Benz\",\"Volvo\",\"Volvo\",\"Honda\",\"Honda\",\"Honda\",\"Mitsubishi\",\"Honda\",\"Honda\",\"Honda\",\"Nissan\",\"Proton\",\"Proton\",\"Proton\",\"Volkswagen\",\"Proton\",\"Honda\",\"Proton\",\"Proton\",\"Ford\",\"Honda\",\"Toyota\",\"Proton\",\"Proton\",\"Volvo\",\"Volvo\",\"Volvo\",\"Volvo\",\"Volvo\",\"Proton\",\"Proton\",\"Proton\",\"Proton\",\"Proton\",\"Proton\",\"Mitsubishi\",\"Honda\",\"Honda\",\"Ford\",\"Proton\",\"Mitsubishi\",\"Proton\",\"Proton\",\"Proton\",\"Proton\",\"Proton\",\"Proton\",\"Proton\",\"Proton\",\"Proton\",\"Nissan\",\"Mitsubishi\",\"Honda\",\"Toyota\",\"Mercedes-Benz\",\"Mercedes-Benz\",\"Mercedes-Benz\",\"Mercedes-Benz\",\"Mercedes-Benz\",\"Nissan\",\"Mitsubishi\",\"Mercedes-Benz\",\"Mercedes-Benz\",\"Mercedes-Benz\",\"Mercedes-Benz\",\"Ford\",\"Ford\",\"Mazda\",\"Mitsubishi\",\"Honda\",\"Mazda\",\"Mazda\",\"Mitsubishi\",\"Peugeot\",\"Peugeot\",\"Proton\",\"Kia\",\"Kia\",\"Peugeot\",\"Proton\",\"Proton\",\"Proton\",\"Subaru\",\"Mazda\",\"Perodua\",\"Honda\",\"Volkswagen\",\"Peugeot\",\"Peugeot\",\"Honda\",\"Honda\",\"Proton\",\"Daihatsu\",\"Daihatsu\",\"Honda\",\"Nissan\",\"Proton\",\"Nissan\",\"Proton\",\"Honda\",\"Ford\",\"Honda\",\"Honda\",\"Proton\",\"Perodua\",\"Perodua\",\"Proton\",\"Hyundai\",\"Proton\",\"Honda\",\"Toyota\",\"Toyota\",\"Toyota\",\"Toyota\",\"TESLA\",\"Honda\",\"Proton\",\"Honda\",\"Honda\",\"TESLA\",\"Perodua\",\"Mitsubishi\",\"Toyota\",\"Proton\",\"Proton\",\"Proton\",\"Proton\",\"Proton\",\"Mitsubishi\",\"Perodua\",\"Perodua\",\"Perodua\",\"Perodua\",\"Perodua\",\"Perodua\",\"Perodua\",\"Perodua\",\"Perodua\",\"Perodua\",\"Perodua\",\"Perodua\",\"Perodua\",\"Perodua\",\"Perodua\",\"Perodua\",\"Isuzu\",\"Isuzu\",\"Proton\",\"Proton\",\"Proton\",\"Proton\",\"Proton\",\"Proton\",\"Mitsubishi\",\"TESLA\",\"TESLA\",\"Perodua\",\"Mitsubishi\",\"Honda\",\"Honda\",\"Honda\",\"Honda\",\"Honda\",\"Honda\",\"Honda\",\"Proton\",\"Proton\",\"Proton\",\"Proton\",\"Toyota\",\"Toyota\",\"Honda\",\"Honda\",\"Honda\",\"Honda\",\"Honda\",\"Mazda\",\"Toyota\",\"Mazda\",\"Mazda\",\"Mazda\",\"Mazda\",\"Mazda\",\"Mazda\",\"Mitsubishi\",\"Nissan\",\"Mazda\",\"Mazda\",\"Mazda\",\"Mitsubishi\",\"Proton\",\"Toyota\",\"Nissan\",\"Mitsubishi\",\"Toyota\",\"Mitsubishi\",\"Toyota\",\"Honda\",\"Proton\",\"Honda\",\"Honda\",\"Proton\",\"Perodua\",\"Proton\",\"Proton\",\"Proton\",\"Proton\",\"Proton\",\"Proton\",\"Proton\",\"TESLA\",\"Volkswagen\",\"Perodua\",\"TESLA\",\"TESLA\",\"Ford\",\"Toyota\",\"Subaru\",\"Peugeot\",\"Mazda\",\"Kia\",\"Honda\",\"Subaru\",\"Subaru\",\"Subaru\",\"Perodua\",\"Hyundai\",\"Perodua\",\"Honda\",\"Honda\",\"TESLA\",\"Ford\",\"Proton\",\"Toyota\",\"Proton\",\"Proton\",\"Proton\",\"Proton\",\"Proton\",\"Proton\",\"Proton\",\"TESLA\",\"Proton\",\"Proton\",\"Proton\",\"Proton\",\"Proton\",\"Perodua\",\"Honda\",\"Honda\",\"Honda\",\"Mercedes-Benz\",\"Proton\",\"Proton\",\"Proton\",\"Volkswagen\",\"Volkswagen\",\"Volkswagen\",\"Volkswagen\",\"Volkswagen\",\"Honda\",\"Honda\",\"Honda\",\"Honda\",\"Nissan\",\"Honda\",\"Honda\",\"Proton\",\"Proton\",\"Proton\",\"Proton\",\"TESLA\",\"TESLA\",\"Proton\",\"Proton\",\"Proton\",\"Proton\",\"Proton\",\"Proton\",\"Perodua\",\"Perodua\",\"Perodua\",\"Perodua\",\"Perodua\",\"Honda\",\"Perodua\",\"Honda\",\"Honda\",\"Honda\",\"Volkswagen\",\"Proton\",\"Proton\",\"Mitsubishi\",\"Ford\",\"Ford\",\"Hino\",\"Volkswagen\",\"Toyota\",\"Volvo\",\"Toyota\",\"Honda\",\"Honda\",\"Honda\",\"Honda\",\"Honda\",\"MINI\",\"Toyota\",\"MG\",\"TESLA\",\"Toyota\",\"Toyota\",\"Kia\",\"Perodua\",\"Perodua\",\"Perodua\",\"TESLA\",\"Mitsubishi\",\"Mitsubishi\",\"TESLA\",\"Mitsubishi\",\"Perodua\",\"Perodua\",\"Honda\",\"Lexus\",\"TESLA\",\"Honda\",\"Nissan\",\"Perodua\",\"Honda\",\"Proton\",\"Ford\",\"TESLA\",\"Perodua\",\"Hyundai\",\"Mazda\",\"Honda\",\"Toyota\",\"Volvo\",\"Maserati\",\"Honda\",\"TESLA\",\"Toyota\",\"Perodua\",\"Hyundai\",\"Toyota\",\"Honda\",\"Honda\",\"Toyota\",\"Hyundai\",\"Toyota\",\"Perodua\",\"Proton\",\"Toyota\",\"Mercedes-Benz\",\"Proton\",\"Proton\",\"Proton\",\"Honda\",\"Proton\",\"Proton\",\"Proton\",\"MINI\",\"Isuzu\",\"MINI\",\"Honda\",\"Proton\",\"Proton\",\"Proton\",\"BMW\",\"Fiat\",\"Fiat\",\"Hino\",\"Hino\",\"Hino\",\"Fiat\",\"Mercedes-Benz\",\"Proton\",\"Proton\",\"Proton\",\"Proton\",\"Proton\",\"Toyota\",\"Perodua\",\"Honda\",\"Proton\",\"Proton\",\"Perodua\",\"Perodua\",\"Proton\",\"Honda\",\"Honda\",\"TESLA\",\"Proton\",\"Proton\",\"Toyota\",\"Mercedes-Benz\",\"Mercedes-Benz\",\"Mercedes-Benz\",\"Mercedes-Benz\",\"Proton\",\"Mitsubishi\",\"Toyota\",\"Toyota\",\"Honda\",\"Toyota\",\"Honda\",\"Mercedes-Benz\",\"Mercedes-Benz\",\"Honda\",\"Mercedes-Benz\",\"Mercedes-Benz\",\"Honda\",\"Honda\",\"Mitsubishi\",\"Mercedes-Benz\",\"Honda\",\"Honda\",\"Mitsubishi\",\"Mitsubishi\",\"Peugeot\",\"Mazda\",\"Proton\",\"Kia\",\"Kia\",\"Proton\",\"Kia\",\"Kia\",\"Daihatsu\",\"Nissan\",\"Proton\",\"Proton\",\"Proton\",\"Proton\",\"Ford\",\"Ford\",\"Ford\",\"Ford\",\"Perodua\",\"Proton\",\"Volkswagen\",\"Proton\",\"Proton\",\"Proton\",\"Proton\",\"Proton\",\"Proton\",\"Proton\",\"Proton\",\"Toyota\",\"Mercedes-Benz\",\"Mercedes-Benz\",\"Mercedes-Benz\",\"Proton\",\"Mitsubishi\",\"Proton\",\"Mazda\",\"Honda\",\"Perodua\",\"Perodua\",\"Mitsubishi\",\"Honda\",\"Honda\",\"Proton\",\"Isuzu\",\"Honda\",\"Honda\",\"Mitsubishi\",\"Toyota\",\"Toyota\",\"Toyota\",\"Toyota\",\"Toyota\",\"Toyota\",\"Toyota\",\"Toyota\",\"Toyota\",\"Honda\",\"Honda\",\"Honda\",\"Toyota\",\"Toyota\",\"Perodua\",\"Perodua\",\"Perodua\",\"Perodua\",\"Ford\",\"Ford\",\"Volkswagen\",\"Volkswagen\",\"Mercedes-Benz\",\"Mitsubishi\",\"Proton\",\"Proton\",\"Volkswagen\",\"Volkswagen\",\"Volkswagen\",\"Honda\",\"Honda\",\"Mitsubishi\",\"Honda\",\"Honda\",\"Proton\",\"Mazda\",\"Proton\",\"Proton\",\"Mercedes-Benz\",\"Perodua\",\"Toyota\",\"Toyota\",\"Toyota\",\"Mazda\",\"Mazda\",\"Volkswagen\",\"Volkswagen\",\"Ford\",\"Subaru\",\"Proton\",\"Proton\",\"Proton\",\"Proton\",\"Proton\",\"Proton\",\"Proton\",\"GAC\",\"Isuzu\",\"Proton\",\"Perodua\",\"Perodua\",\"Proton\",\"Proton\",\"Honda\",\"Volkswagen\",\"Ford\",\"Honda\",\"Honda\",\"Honda\",\"Ford\",\"Toyota\",\"Toyota\",\"Mercedes-Benz\",\"Mitsubishi\",\"Honda\",\"Honda\",\"Mazda\",\"Mazda\",\"Proton\",\"Toyota\",\"Toyota\",\"Peugeot\",\"Kia\",\"Kia\",\"Kia\",\"Mitsubishi\",\"Proton\",\"Peugeot\",\"Proton\",\"Mazda\",\"Mazda\",\"Kia\",\"Honda\",\"Honda\",\"Mitsubishi\",\"Volkswagen\",\"Volkswagen\",\"Nissan\",\"Honda\",\"Proton\",\"Volkswagen\",\"Volkswagen\",\"Volkswagen\",\"Mazda\",\"Subaru\",\"Proton\",\"Ford\",\"Ford\",\"TESLA\",\"TESLA\",\"Peugeot\",\"Mercedes-Benz\",\"Perodua\",\"Perodua\",\"Perodua\",\"Perodua\",\"Perodua\",\"Perodua\",\"Honda\",\"Honda\",\"Honda\",\"Toyota\",\"Proton\",\"Proton\",\"Proton\",\"Mitsubishi\",\"Proton\",\"Nissan\",\"Nissan\",\"Peugeot\",\"Volkswagen\",\"Peugeot\",\"Peugeot\",\"Peugeot\",\"Mitsubishi\",\"Mitsubishi\",\"Mitsubishi\",\"TESLA\",\"Honda\",\"Proton\",\"Proton\",\"Honda\",\"Honda\",\"Honda\",\"Honda\",\"Honda\",\"Honda\",\"Honda\",\"Honda\",\"Honda\",\"Honda\",\"Perodua\",\"Proton\",\"Ford\",\"Perodua\",\"Perodua\",\"Ford\",\"Perodua\",\"Ford\",\"Toyota\",\"Toyota\",\"Mercedes-Benz\",\"Mercedes-Benz\",\"Proton\",\"Toyota\",\"Honda\",\"Subaru\",\"Mercedes-Benz\",\"Honda\",\"Honda\",\"TESLA\",\"TESLA\",\"Ford\",\"TESLA\",\"Hino\",\"Hino\",\"TESLA\",\"Mitsubishi\",\"Toyota\",\"Proton\",\"Proton\",\"Mitsubishi\",\"Toyota\",\"Perodua\",\"Perodua\",\"Perodua\",\"Subaru\",\"Mitsubishi\",\"Honda\",\"Honda\",\"Honda\",\"Honda\",\"Honda\",\"Mercedes-Benz\",\"Honda\",\"Mitsubishi\",\"Mercedes-Benz\",\"Honda\",\"Mercedes-Benz\",\"Honda\",\"Honda\",\"Honda\",\"Mercedes-Benz\",\"Mercedes-Benz\",\"Mercedes-Benz\",\"Nissan\",\"Mercedes-Benz\",\"Honda\",\"Mitsubishi\",\"Isuzu\",\"Isuzu\",\"Isuzu\",\"Isuzu\",\"Isuzu\",\"Isuzu\",\"Isuzu\",\"Ford\",\"Ford\",\"Proton\",\"Proton\",\"Mercedes-Benz\",\"Mercedes-Benz\",\"Mitsubishi\",\"Mitsubishi\",\"Ford\",\"Ford\",\"Peugeot\",\"Mitsubishi\",\"Honda\",\"Honda\",\"Mercedes-Benz\",\"Mercedes-Benz\",\"Mercedes-Benz\",\"Mercedes-Benz\",\"Volvo\",\"Volvo\",\"Volvo\",\"Volvo\",\"Honda\",\"Honda\",\"Mitsubishi\",\"Mitsubishi\",\"Proton\",\"Volkswagen\",\"Great Wall\",\"Honda\",\"TESLA\",\"BMW\",\"Toyota\",\"Honda\",\"Volkswagen\",\"Mitsubishi\",\"Mitsubishi\",\"Honda\",\"Mitsubishi\",\"MINI\",\"Volkswagen\",\"Mercedes-Benz\",\"Volvo\",\"Mitsubishi\",\"Perodua\",\"Toyota\",\"Proton\",\"Toyota\",\"Ford\",\"Mitsubishi\",\"Mitsubishi\",\"Toyota\",\"Toyota\",\"Mitsubishi\",\"Mitsubishi\",\"Mitsubishi\",\"Toyota\",\"Mitsubishi\",\"Honda\",\"Honda\",\"Ford\",\"Honda\",\"Lexus\",\"Peugeot\",\"Proton\",\"Proton\",\"Proton\",\"Proton\",\"Proton\",\"Proton\",\"Mitsubishi\",\"Mitsubishi\",\"Proton\",\"Mitsubishi\",\"Mitsubishi\",\"Isuzu\",\"Honda\",\"Honda\",\"Honda\",\"Honda\",\"Honda\",\"Mitsubishi\",\"Ford\",\"Ford\",\"Perodua\",\"Proton\",\"Nissan\",\"Proton\",\"Perodua\",\"Perodua\",\"Mitsubishi\",\"Honda\",\"Ford\",\"Honda\",\"Honda\",\"Toyota\",\"Peugeot\",\"Kia\",\"Mercedes-Benz\",\"Mercedes-Benz\",\"Mercedes-Benz\",\"TESLA\",\"Honda\",\"Volkswagen\",\"Mercedes-Benz\",\"Proton\",\"Proton\",\"Volvo\",\"Kia\",\"Honda\",\"TESLA\",\"Toyota\",\"Lexus\",\"Peugeot\",\"Mazda\",\"Subaru\",\"Subaru\",\"Subaru\",\"Subaru\",\"Subaru\",\"Subaru\",\"Subaru\",\"Subaru\",\"Subaru\",\"Proton\",\"Ford\",\"Toyota\",\"BYD\",\"Subaru\",\"Subaru\",\"Subaru\",\"Proton\",\"Perodua\",\"Proton\",\"Proton\",\"Proton\",\"Lexus\",\"Proton\",\"Proton\",\"Proton\",\"Proton\",\"Proton\",\"Ford\",\"Proton\",\"Nissan\",\"Proton\",\"Mazda\",\"Mazda\",\"Toyota\",\"Proton\",\"Perodua\",\"Proton\",\"Proton\",\"Volvo\",\"Volvo\",\"Honda\",\"Volvo\",\"Honda\",\"Honda\",\"Perodua\",\"TESLA\",\"Volkswagen\",\"Volkswagen\",\"TESLA\",\"Mitsubishi\",\"Volkswagen\",\"Mercedes-Benz\",\"Mercedes-Benz\",\"Mercedes-Benz\",\"Mercedes-Benz\",\"Mercedes-Benz\",\"Volkswagen\",\"Subaru\",\"Proton\",\"Proton\",\"Ford\",\"Ford\",\"Maxus\",\"Honda\",\"Maxus\",\"Mercedes-Benz\",\"Mercedes-Benz\",\"Mercedes-Benz\",\"Honda\",\"Mitsubishi\",\"Mitsubishi\",\"Mitsubishi\",\"Peugeot\",\"Ford\",\"Mitsubishi\",\"Mazda\",\"Mercedes-Benz\",\"Isuzu\",\"Mercedes-Benz\",\"Mitsubishi\",\"Proton\",\"Proton\",\"Ford\",\"Ford\",\"Mazda\",\"Perodua\",\"Perodua\",\"Perodua\",\"Mazda\",\"Mazda\",\"Kia\",\"Mazda\",\"Peugeot\",\"Mitsubishi\",\"Proton\",\"Perodua\",\"Perodua\",\"Perodua\",\"Perodua\",\"Perodua\",\"Great Wall\",\"Mitsubishi\",\"Volvo\",\"Volvo\",\"Proton\",\"Proton\",\"Mercedes-Benz\",\"Mercedes-Benz\",\"Perodua\",\"Daihatsu\",\"Mitsubishi\",\"Suzuki\",\"Toyota\",\"Nissan\",\"Nissan\",\"Ford\",\"TESLA\",\"Lamborghini\",\"Honda\",\"Honda\",\"Mitsubishi\",\"Toyota\",\"Perodua\",\"Toyota\",\"BYD\",\"TESLA\",\"TESLA\",\"Proton\",\"Perodua\",\"Mercedes-Benz\",\"Chana\",\"Perodua\",\"BYD\",\"Mitsubishi\",\"Mitsubishi\",\"Foton\",\"Foton\",\"Foton\",\"Volvo\",\"Volvo\",\"Ford\",\"TESLA\",\"Mitsubishi\",\"TESLA\",\"TESLA\",\"TESLA\",\"TESLA\",\"TESLA\",\"TESLA\",\"Mercedes-Benz\",\"Perodua\",\"Proton\",\"Mercedes-Benz\",\"Mercedes-Benz\",\"Volkswagen\",\"Toyota\",\"Toyota\",\"BYD\",\"BYD\",\"JMC\",\"Proton\",\"Volkswagen\",\"Mitsubishi\",\"Peugeot\",\"Peugeot\",\"Kia\",\"Peugeot\",\"Peugeot\",\"Kia\",\"Ford\",\"Ford\",\"Ford\",\"Honda\",\"BYD\",\"Ford\",\"Ford\",\"Proton\",\"BYD\",\"Ford\",\"TESLA\",\"TESLA\",\"Proton\",\"Perodua\",\"Mitsubishi\",\"TESLA\",\"Toyota\",\"Honda\",\"Honda\",\"Toyota\",\"Volkswagen\",\"Volkswagen\",\"Mitsubishi\",\"Mitsubishi\",\"Isuzu\",\"Mazda\",\"Peugeot\",\"Peugeot\",\"Mitsubishi\",\"Toyota\",\"Daihatsu\",\"Daihatsu\",\"Ford\",\"Ford\",\"Ford\",\"Ford\",\"Honda\",\"Proton\",\"Ford\",\"Ford\",\"Mazda\",\"Mazda\",\"Mitsubishi\",\"Proton\",\"Proton\",\"Volkswagen\",\"Chana\",\"Foton\",\"Audi\",\"Mazda\",\"Mazda\",\"Proton\",\"Ford\",\"Perodua\",\"Perodua\",\"Perodua\",\"Mazda\",\"Kia\",\"Perodua\",\"Perodua\",\"Perodua\",\"Honda\",\"Mercedes-Benz\",\"Proton\",\"Proton\",\"Proton\",\"Mitsubishi\",\"Perodua\",\"Proton\",\"Perodua\",\"Perodua\",\"Honda\",\"Proton\",\"Kia\",\"Peugeot\",\"Kia\",\"Proton\",\"Ford\",\"Ford\",\"Proton\",\"Ford\",\"Ford\",\"Ford\",\"Subaru\",\"Honda\",\"Honda\",\"Mercedes-Benz\",\"Mercedes-Benz\",\"Peugeot\",\"Toyota\",\"Kia\",\"Kia\",\"Volvo\",\"Volkswagen\",\"Volvo\",\"Honda\",\"Honda\",\"Mercedes-Benz\",\"Toyota\",\"Toyota\",\"Mazda\",\"Honda\",\"Honda\",\"Honda\",\"Toyota\",\"Mercedes-Benz\",\"Nissan\",\"Nissan\",\"Nissan\",\"Ford\",\"Ford\",\"Ford\",\"Volvo\",\"Volvo\",\"Mercedes-Benz\",\"Ford\",\"Mitsubishi\",\"Honda\",\"Volvo\",\"Perodua\",\"TESLA\",\"Kia\",\"Kia\",\"Kia\",\"Perodua\",\"Volvo\",\"Volvo\",\"Volvo\",\"Volvo\",\"Volvo\",\"Volvo\",\"Volvo\",\"Volvo\",\"Volvo\",\"Volvo\",\"Volvo\",\"Proton\",\"Proton\",\"Subaru\",\"Proton\",\"Proton\",\"Volvo\",\"Volvo\",\"Proton\",\"Subaru\",\"Perodua\",\"Proton\",\"Mercedes-Benz\",\"TESLA\",\"TESLA\",\"TESLA\",\"TESLA\",\"Mazda\",\"Mitsubishi\",\"Honda\",\"Honda\",\"Honda\",\"Proton\",\"TESLA\",\"Nissan\",\"Toyota\",\"Mazda\",\"Honda\",\"Mitsubishi\",\"Mitsubishi\",\"Mitsubishi\",\"Proton\",\"Ford\",\"Honda\",\"Ford\",\"Mercedes-Benz\",\"Mercedes-Benz\",\"Mercedes-Benz\",\"Mercedes-Benz\",\"Toyota\",\"Foton\",\"Chana\",\"Foton\",\"Perodua\",\"Peugeot\",\"Nissan\",\"Nissan\",\"Nissan\",\"Subaru\",\"Honda\",\"Kia\",\"TESLA\",\"Honda\",\"Proton\",\"Perodua\",\"TESLA\",\"TESLA\",\"Proton\",\"Proton\",\"Proton\",\"Proton\",\"Proton\",\"Proton\",\"Ford\",\"Honda\",\"Perodua\",\"Proton\",\"Ford\",\"BMW\",\"Mitsubishi\",\"Volvo\",\"Volvo\",\"Mercedes-Benz\",\"Honda\",\"Mazda\",\"Mazda\",\"Honda\",\"Mitsubishi\",\"Mitsubishi\",\"Mitsubishi\",\"Proton\",\"Perodua\",\"Honda\",\"Mazda\",\"Peugeot\",\"Mazda\",\"Honda\",\"Proton\",\"Proton\",\"Proton\",\"Proton\",\"Proton\",\"Mitsubishi\",\"Mitsubishi\",\"Hino\",\"Hino\",\"Isuzu\",\"Mitsubishi\",\"Hino\",\"Honda\",\"Perodua\",\"Perodua\",\"Perodua\",\"Perodua\",\"Perodua\",\"Peugeot\",\"Perodua\",\"Proton\",\"Proton\",\"Perodua\",\"Proton\",\"Mercedes-Benz\",\"Mercedes-Benz\",\"MG\",\"Volkswagen\",\"Honda\",\"Honda\",\"Proton\",\"Proton\",\"Ford\",\"Perodua\",\"Mitsubishi\",\"Mitsubishi\",\"Mitsubishi\",\"Mitsubishi\",\"BMW\",\"Honda\",\"Honda\",\"Honda\",\"Proton\",\"Proton\",\"Proton\",\"Proton\",\"Proton\",\"Proton\",\"Proton\",\"Ford\",\"Ford\",\"Perodua\",\"Perodua\",\"Proton\",\"Nissan\",\"Mazda\",\"Honda\",\"Peugeot\",\"Proton\",\"Peugeot\",\"Peugeot\",\"Volvo\",\"Volvo\",\"Volvo\",\"Proton\",\"Proton\",\"Perodua\",\"Perodua\",\"Ford\",\"Ford\",\"Perodua\",\"Perodua\",\"Perodua\",\"Perodua\",\"Toyota\",\"Mercedes-Benz\",\"Mercedes-Benz\",\"Mercedes-Benz\",\"Toyota\",\"Perodua\",\"Perodua\",\"Ford\",\"Ford\",\"Ford\",\"Perodua\",\"Perodua\",\"Proton\",\"Perodua\",\"Perodua\",\"Ford\",\"Honda\",\"Proton\",\"Nissan\",\"Nissan\",\"Toyota\",\"Peugeot\",\"Perodua\",\"Honda\",\"Perodua\",\"TESLA\",\"Honda\",\"Perodua\",\"Volkswagen\",\"Mazda\",\"Mazda\",\"Chana\",\"Perodua\",\"Perodua\",\"Peugeot\",\"Peugeot\",\"Honda\",\"Proton\",\"Proton\",\"Toyota\",\"Honda\",\"Honda\",\"Proton\",\"Honda\",\"Perodua\",\"Mazda\",\"Mazda\",\"Peugeot\",\"Toyota\",\"Proton\",\"Nissan\",\"Nissan\",\"Nissan\",\"Nissan\",\"Volvo\",\"Honda\",\"Proton\",\"Proton\",\"Perodua\",\"Ford\",\"Volvo\",\"Volvo\",\"Volvo\",\"Perodua\",\"Perodua\",\"Honda\",\"Proton\",\"Perodua\",\"Mazda\",\"Mitsubishi\",\"BMW\",\"Proton\",\"TESLA\",\"Volkswagen\",\"Volkswagen\",\"Volvo\",\"Volvo\",\"Proton\",\"Proton\",\"Proton\",\"Proton\",\"Proton\",\"Mitsubishi\",\"Mitsubishi\",\"Proton\",\"Perodua\",\"Perodua\",\"TESLA\",\"Honda\",\"Mitsubishi\",\"Mitsubishi\",\"Honda\",\"Volvo\",\"TESLA\",\"Proton\",\"Hino\",\"Honda\",\"Perodua\",\"Perodua\",\"Mercedes-Benz\",\"Mercedes-Benz\",\"Volkswagen\",\"Honda\",\"Honda\",\"Mitsubishi\",\"Mitsubishi\",\"Honda\",\"Proton\",\"Honda\",\"Perodua\",\"Honda\",\"Honda\",\"Honda\",\"Honda\",\"Peugeot\",\"Perodua\",\"Honda\",\"Maxus\",\"Volkswagen\",\"Proton\",\"Mercedes-Benz\",\"Mercedes-Benz\",\"Proton\",\"Toyota\",\"Peugeot\",\"Honda\",\"TESLA\",\"Proton\",\"Proton\",\"Honda\",\"Mercedes-Benz\",\"Mercedes-Benz\",\"Toyota\",\"Toyota\",\"Foton\",\"Mercedes-Benz\",\"Mercedes-Benz\",\"Proton\",\"Proton\",\"Proton\",\"Proton\",\"Proton\",\"Honda\",\"Chana\",\"Foton\",\"TESLA\",\"TESLA\",\"TESLA\",\"TESLA\",\"Toyota\",\"Toyota\",\"Honda\",\"Toyota\",\"TESLA\",\"TESLA\",\"Proton\",\"BYD\",\"BYD\",\"BYD\",\"Toyota\",\"Honda\",\"Mitsubishi\",\"Honda\",\"Honda\",\"Ford\",\"Toyota\",\"Perodua\",\"Ford\",\"Volkswagen\",\"Honda\",\"Subaru\",\"Subaru\",\"TESLA\",\"Honda\",\"Perodua\",\"Proton\",\"Proton\",\"Perodua\",\"Perodua\",\"Proton\",\"Proton\",\"Proton\",\"Proton\",\"Kia\",\"Volkswagen\",\"Volvo\",\"Volvo\",\"Peugeot\",\"Proton\",\"Proton\",\"Ford\",\"Ford\",\"Ford\",\"Ford\",\"Ford\",\"Perodua\",\"Honda\",\"Perodua\",\"Honda\",\"Perodua\",\"Perodua\",\"Honda\",\"Mazda\",\"Honda\",\"Mazda\",\"Ford\",\"Ford\",\"Volkswagen\",\"TESLA\",\"TESLA\",\"TESLA\",\"Proton\",\"Nissan\",\"Nissan\",\"Nissan\",\"Nissan\",\"Foton\",\"Honda\",\"MG\",\"TESLA\",\"TESLA\",\"TESLA\",\"Volkswagen\",\"Ford\",\"Ford\",\"Ford\",\"Subaru\",\"Volkswagen\",\"Peugeot\",\"Proton\",\"Proton\",\"Proton\",\"Honda\",\"Ford\",\"Ford\",\"Subaru\",\"Honda\",\"Mercedes-Benz\",\"TESLA\",\"Proton\",\"Mitsubishi\",\"Ford\",\"Peugeot\",\"Peugeot\",\"Proton\",\"Proton\",\"Mazda\",\"Mercedes-Benz\",\"Volkswagen\",\"Toyota\",\"Proton\",\"Volkswagen\",\"Proton\",\"Honda\",\"Proton\",\"Mitsubishi\",\"Mazda\",\"Toyota\",\"Toyota\",\"Toyota\",\"Peugeot\",\"Proton\",\"Proton\",\"Ford\",\"Ford\",\"Ford\",\"Ford\",\"Ford\",\"Ford\",\"Honda\",\"Mercedes-Benz\",\"Honda\",\"Honda\",\"Honda\",\"Subaru\",\"Honda\",\"Honda\",\"Honda\",\"Nissan\",\"Nissan\",\"Nissan\",\"Mitsubishi\",\"TESLA\",\"Volkswagen\",\"Mitsubishi\",\"Volvo\",\"Nissan\",\"Nissan\",\"Nissan\",\"Honda\",\"Honda\",\"Honda\",\"Proton\",\"TESLA\",\"Mazda\",\"Perodua\",\"Perodua\",\"Perodua\",\"Perodua\",\"Volvo\",\"Proton\",\"Honda\",\"TESLA\",\"Proton\",\"Proton\",\"Honda\",\"Honda\",\"Proton\",\"Proton\",\"Toyota\",\"Nissan\",\"Nissan\",\"Nissan\",\"Nissan\",\"Nissan\",\"TESLA\",\"Honda\",\"Toyota\",\"Toyota\",\"TESLA\",\"Volkswagen\",\"Toyota\",\"Isuzu\",\"Isuzu\",\"Isuzu\",\"Mitsubishi\",\"Isuzu\",\"Hino\",\"Proton\",\"Proton\",\"Volvo\",\"Proton\",\"Perodua\",\"Perodua\",\"TESLA\",\"Mitsubishi\",\"Toyota\",\"Mitsubishi\",\"Ford\",\"Toyota\",\"Perodua\",\"Proton\",\"BMW\",\"Volkswagen\",\"Proton\",\"Nissan\",\"Ford\",\"Perodua\",\"Perodua\",\"Perodua\",\"Perodua\",\"Ford\",\"TESLA\",\"Proton\",\"Proton\",\"Proton\",\"Proton\",\"Proton\",\"Volkswagen\",\"Ford\",\"Ford\",\"Ford\",\"Ford\",\"Volkswagen\",\"Mitsubishi\",\"Honda\",\"Mazda\",\"Honda\",\"Toyota\",\"Mazda\",\"Nissan\",\"Proton\",\"Proton\",\"Honda\",\"Mercedes-Benz\",\"TESLA\",\"GAC\",\"Perodua\",\"Volvo\",\"Volvo\",\"Volvo\",\"TESLA\",\"Mitsubishi\",\"Mitsubishi\",\"Ford\",\"Perodua\",\"Honda\",\"Honda\",\"Proton\",\"Proton\",\"Proton\",\"Honda\",\"Perodua\",\"Toyota\",\"Mitsubishi\",\"Mitsubishi\",\"Mitsubishi\",\"Mitsubishi\",\"Nissan\",\"TESLA\",\"Toyota\",\"Mitsubishi\",\"TESLA\",\"Honda\",\"Volkswagen\",\"Volvo\",\"Volvo\",\"Perodua\",\"Mercedes-Benz\",\"Mercedes-Benz\",\"Mercedes-Benz\",\"Mercedes-Benz\",\"Mercedes-Benz\",\"TESLA\",\"Mitsubishi\",\"Mitsubishi\",\"Isuzu\",\"Volvo\",\"Volvo\",\"Volvo\",\"Perodua\",\"Perodua\",\"Perodua\",\"TESLA\",\"Volkswagen\",\"Volkswagen\",\"Volkswagen\",\"Volkswagen\",\"Peugeot\",\"Peugeot\",\"Kia\",\"Volvo\",\"Proton\",\"Volvo\",\"Mitsubishi\",\"Honda\",\"Mercedes-Benz\",\"Mercedes-Benz\",\"Mercedes-Benz\",\"Subaru\",\"Subaru\",\"Subaru\",\"Subaru\",\"Perodua\",\"Subaru\",\"Perodua\",\"Subaru\",\"Perodua\",\"Toyota\",\"Perodua\",\"Perodua\",\"Mitsubishi\",\"Perodua\",\"Honda\",\"Mitsubishi\",\"Mitsubishi\",\"Mitsubishi\",\"Volvo\",\"Isuzu\",\"Perodua\",\"Perodua\",\"Perodua\",\"Proton\",\"Perodua\",\"Honda\",\"Mitsubishi\",\"TESLA\",\"Mitsubishi\",\"Mitsubishi\",\"Ford\",\"Toyota\",\"Perodua\",\"Toyota\",\"Toyota\",\"Toyota\",\"Volkswagen\",\"Chana\",\"Foton\",\"Mazda\",\"Perodua\",\"Perodua\",\"BMW\",\"Toyota\",\"Mitsubishi\",\"Mitsubishi\",\"Mitsubishi\",\"Proton\",\"Honda\",\"Ford\",\"Honda\",\"Proton\",\"Mercedes-Benz\",\"Proton\",\"Mercedes-Benz\",\"Proton\",\"Subaru\",\"Proton\",\"Hyundai\",\"Toyota\",\"Volkswagen\",\"Volkswagen\",\"Mazda\",\"Isuzu\",\"Perodua\",\"Proton\",\"Peugeot\",\"Proton\",\"Proton\",\"Proton\",\"Subaru\",\"Mercedes-Benz\",\"Chana\",\"Foton\",\"Chana\",\"Foton\",\"Foton\",\"Toyota\",\"Hyundai\",\"Honda\",\"Mercedes-Benz\",\"Mercedes-Benz\",\"Mercedes-Benz\",\"Mercedes-Benz\",\"Mercedes-Benz\",\"Maxus\",\"Ford\",\"Ford\",\"Ford\",\"Ford\",\"Perodua\",\"Honda\",\"Honda\",\"Honda\",\"Proton\",\"Proton\",\"Subaru\",\"Subaru\",\"Maxus\",\"Hino\",\"Daihatsu\",\"Daihatsu\",\"Honda\",\"Mitsubishi\",\"Mercedes-Benz\",\"Mercedes-Benz\",\"Nissan\",\"Nissan\",\"Nissan\",\"Nissan\",\"Nissan\",\"Nissan\",\"Volvo\",\"Perodua\",\"Volvo\",\"Volkswagen\",\"Volkswagen\",\"Mercedes-Benz\",\"Land Rover\",\"Mitsubishi\",\"Proton\",\"Volvo\",\"Proton\",\"Toyota\",\"Honda\",\"Honda\",\"Perodua\",\"Honda\",\"Honda\",\"Honda\",\"TESLA\",\"Proton\",\"Proton\",\"Perodua\",\"Proton\",\"Proton\",\"Proton\",\"Proton\",\"Proton\",\"Proton\",\"Proton\",\"Hino\",\"Mitsubishi\",\"Proton\",\"Perodua\",\"Volkswagen\",\"Proton\",\"Proton\",\"TESLA\",\"Proton\",\"Perodua\",\"Mitsubishi\",\"Mitsubishi\",\"Nissan\",\"Nissan\",\"Nissan\",\"Nissan\",\"Nissan\",\"Nissan\",\"Mercedes-Benz\",\"Nissan\",\"Perodua\",\"Honda\",\"Honda\",\"Proton\",\"Toyota\",\"Toyota\",\"Perodua\",\"Ford\",\"Ford\",\"Ford\",\"Ford\",\"Proton\",\"Mercedes-Benz\",\"TESLA\",\"Toyota\",\"Mercedes-Benz\",\"Chana\",\"Honda\",\"Proton\",\"Volvo\",\"Perodua\",\"Mazda\",\"Mazda\",\"Daihatsu\",\"Toyota\",\"Toyota\",\"Peugeot\",\"Daihatsu\",\"Daihatsu\",\"Volkswagen\",\"Ford\",\"Subaru\",\"Peugeot\",\"Toyota\",\"Toyota\",\"Toyota\",\"Toyota\",\"Toyota\",\"Toyota\",\"Toyota\",\"Toyota\",\"Toyota\",\"Toyota\",\"Toyota\",\"Toyota\",\"Toyota\",\"Toyota\",\"Toyota\",\"Toyota\",\"Toyota\",\"Toyota\",\"Toyota\",\"Isuzu\",\"Mercedes-Benz\",\"Isuzu\",\"Proton\",\"Isuzu\",\"Volkswagen\",\"Volkswagen\",\"Volkswagen\",\"BMW\",\"Mercedes-Benz\",\"Isuzu\",\"Isuzu\",\"Mazda\",\"Peugeot\",\"Mazda\",\"Mercedes-Benz\",\"Mitsubishi\",\"Toyota\",\"TESLA\",\"Toyota\",\"Toyota\",\"Perodua\",\"Toyota\",\"Proton\",\"Golden Dragon\",\"Honda\",\"Toyota\",\"Toyota\",\"Nissan\",\"Mercedes-Benz\",\"Proton\",\"TESLA\",\"Mercedes-Benz\",\"Perodua\",\"Perodua\",\"Perodua\",\"Perodua\",\"Perodua\",\"Perodua\",\"Perodua\",\"Peugeot\",\"Toyota\",\"Mercedes-Benz\",\"Mercedes-Benz\",\"Honda\",\"TESLA\",\"Mercedes-Benz\",\"Volkswagen\",\"Proton\",\"Proton\",\"Proton\",\"Mercedes-Benz\",\"Toyota\",\"Mitsubishi\",\"Proton\",\"Mitsubishi\",\"Mitsubishi\",\"Proton\",\"Perodua\",\"Proton\",\"Honda\",\"Audi\",\"Audi\",\"Mitsubishi\",\"Mitsubishi\",\"Honda\",\"TESLA\",\"Mercedes-Benz\",\"Mazda\",\"Volvo\",\"Foton\",\"Chana\",\"Perodua\",\"TESLA\",\"Mercedes-Benz\",\"Mitsubishi\",\"Honda\",\"Volvo\",\"Volvo\",\"Proton\",\"Volkswagen\",\"Subaru\",\"Subaru\",\"Subaru\",\"Subaru\",\"Proton\",\"Mazda\",\"Mercedes-Benz\",\"Mercedes-Benz\",\"Mercedes-Benz\",\"Mercedes-Benz\",\"Honda\",\"Audi\",\"Perodua\",\"TESLA\",\"Proton\",\"Proton\",\"Volvo\",\"Volvo\",\"Mazda\",\"Perodua\",\"Perodua\",\"Perodua\",\"Toyota\",\"Perodua\",\"Perodua\",\"Perodua\",\"Perodua\",\"Perodua\",\"Kia\",\"Mazda\",\"Mazda\",\"Nissan\",\"Nissan\",\"Ford\",\"Ford\",\"Ford\",\"Ford\",\"Proton\",\"Proton\",\"Honda\",\"Perodua\",\"Proton\",\"Perodua\",\"Proton\",\"Nissan\",\"Mercedes-Benz\",\"Mercedes-Benz\",\"TESLA\",\"Honda\",\"Honda\",\"Honda\",\"Honda\",\"Nissan\",\"Nissan\",\"Proton\",\"Mercedes-Benz\",\"Nissan\",\"TESLA\",\"Honda\",\"Perodua\",\"Perodua\",\"Perodua\",\"Toyota\",\"Toyota\",\"Toyota\",\"Toyota\",\"Toyota\",\"Mitsubishi\",\"Proton\",\"Proton\",\"Perodua\",\"Honda\",\"Proton\",\"Perodua\",\"Honda\",\"Honda\",\"Honda\",\"Honda\",\"Proton\",\"TESLA\",\"TESLA\",\"Proton\",\"Perodua\",\"Proton\",\"Chana\",\"Foton\",\"Foton\",\"Mazda\",\"Proton\",\"Proton\",\"Perodua\",\"Perodua\",\"Perodua\",\"Audi\",\"Daihatsu\",\"Daihatsu\",\"Toyota\",\"Proton\",\"Proton\",\"Kia\",\"Nissan\",\"Nissan\",\"Proton\",\"Honda\",\"Honda\",\"Perodua\",\"Isuzu\",\"Honda\",\"Honda\",\"Proton\",\"Nissan\",\"Volvo\",\"Volvo\",\"Volvo\",\"Honda\",\"Toyota\",\"Honda\",\"Toyota\",\"Proton\",\"Proton\",\"Perodua\",\"Honda\",\"Perodua\",\"Proton\",\"Proton\",\"Toyota\",\"Mitsubishi\",\"Toyota\",\"TESLA\",\"Suzuki\",\"Toyota\",\"Isuzu\",\"Toyota\",\"Honda\",\"Toyota\",\"Mercedes-Benz\",\"Proton\",\"Proton\",\"Proton\",\"Proton\",\"Perodua\",\"Perodua\",\"Honda\",\"Toyota\",\"Mercedes-Benz\",\"Proton\",\"Mazda\",\"Mazda\",\"Mazda\",\"Mazda\",\"Honda\",\"Ford\",\"TESLA\",\"TESLA\",\"Honda\",\"Isuzu\",\"Honda\",\"Perodua\",\"Honda\",\"Toyota\",\"TESLA\",\"TESLA\",\"Honda\",\"Mitsubishi\",\"Honda\",\"Honda\",\"Volvo\",\"Hino\",\"Hino\",\"Hino\",\"Mitsubishi\",\"BMW\",\"Perodua\",\"Mitsubishi\",\"Mitsubishi\",\"Mitsubishi\",\"Mitsubishi\",\"Mitsubishi\",\"Volkswagen\",\"Chana\",\"Foton\",\"TESLA\",\"Volkswagen\",\"Isuzu\",\"Mitsubishi\",\"Isuzu\",\"Mitsubishi\",\"Mitsubishi\",\"Ford\",\"Honda\",\"Perodua\",\"BMW\",\"Volvo\",\"Proton\",\"Kia\",\"Proton\",\"TESLA\",\"BMW\",\"TESLA\",\"Proton\",\"Proton\",\"Proton\",\"Mazda\",\"Mazda\",\"Honda\",\"Isuzu\",\"Nissan\",\"Volkswagen\",\"Perodua\",\"Mazda\",\"Volvo\",\"Volkswagen\",\"Volkswagen\",\"Proton\",\"Proton\",\"Volvo\",\"Volvo\",\"Volvo\",\"Volvo\",\"Volvo\",\"Volvo\",\"Volvo\",\"Proton\",\"Proton\",\"Nissan\",\"Mazda\",\"CAF DFSK\",\"Mazda\",\"Proton\",\"TESLA\",\"TESLA\",\"TESLA\",\"Proton\",\"Foton\",\"Chana\",\"Foton\",\"Lexus\",\"TESLA\",\"Proton\",\"Nissan\",\"Toyota\",\"Proton\",\"MG\",\"Toyota\",\"Proton\",\"Proton\",\"TESLA\",\"Ford\",\"Ford\",\"Mazda\",\"Proton\",\"Mazda\",\"Mitsubishi\",\"Honda\",\"Proton\",\"Honda\",\"Proton\",\"Proton\",\"Proton\",\"Proton\",\"Proton\",\"Proton\",\"Ford\",\"Ford\",\"Toyota\",\"Foton\",\"Nissan\",\"Kia\",\"Proton\",\"Perodua\",\"Ford\",\"Ford\",\"TESLA\",\"TESLA\",\"Ford\",\"Ford\",\"Honda\",\"Proton\",\"Proton\",\"Peugeot\",\"Peugeot\",\"Toyota\",\"Proton\",\"Daihatsu\",\"Nissan\",\"Isuzu\",\"Daihatsu\",\"Mercedes-Benz\",\"TESLA\",\"TESLA\",\"Proton\",\"Proton\",\"Toyota\",\"Toyota\",\"Honda\",\"Toyota\",\"Toyota\",\"Foton\",\"Proton\",\"Perodua\",\"Toyota\",\"Toyota\",\"Subaru\",\"Perodua\",\"Proton\",\"Proton\",\"Proton\",\"Honda\",\"Honda\",\"Toyota\",\"Honda\",\"Honda\",\"Honda\",\"Honda\",\"Toyota\",\"Toyota\",\"Toyota\",\"Honda\",\"Toyota\",\"Honda\",\"Honda\",\"Honda\",\"Honda\",\"Honda\",\"Toyota\",\"Honda\",\"Honda\",\"Honda\",\"Perodua\",\"Foton\",\"Perodua\",\"Chana\",\"Perodua\",\"Mercedes-Benz\",\"Perodua\",\"Perodua\",\"Perodua\",\"TESLA\",\"TESLA\",\"Honda\",\"Ford\",\"Toyota\",\"Perodua\",\"Honda\",\"Ford\",\"Honda\",\"Honda\",\"Perodua\",\"Nissan\",\"Perodua\",\"Perodua\",\"Honda\",\"Mitsubishi\",\"Mitsubishi\",\"Perodua\",\"Mercedes-Benz\",\"Mercedes-Benz\",\"Honda\",\"Perodua\",\"Perodua\",\"Proton\",\"Volkswagen\",\"Mercedes-Benz\",\"Volkswagen\",\"Volkswagen\",\"Proton\",\"Mitsubishi\",\"TESLA\",\"Nissan\",\"TESLA\",\"Mercedes-Benz\",\"Mercedes-Benz\",\"Honda\",\"Honda\",\"Honda\",\"Isuzu\",\"Hino\",\"Mitsubishi\",\"Hino\",\"TESLA\",\"Proton\",\"Mazda\",\"Nissan\",\"TESLA\",\"Honda\",\"Nissan\",\"Mitsubishi\",\"Isuzu\",\"Mercedes-Benz\",\"Mercedes-Benz\",\"Mercedes-Benz\",\"Mercedes-Benz\",\"Honda\",\"Honda\",\"Honda\",\"Perodua\",\"Honda\",\"Honda\",\"Honda\",\"Mercedes-Benz\",\"Mercedes-Benz\",\"Honda\",\"Honda\",\"Honda\",\"TESLA\",\"TESLA\",\"Mercedes-Benz\",\"Ford\",\"Toyota\",\"Proton\",\"Proton\",\"Honda\",\"Volkswagen\",\"Mercedes-Benz\",\"TESLA\",\"Perodua\",\"TESLA\",\"Ford\",\"Ford\",\"Mitsubishi\",\"Honda\",\"Volvo\",\"Volvo\",\"Volvo\",\"Honda\",\"Mercedes-Benz\",\"Perodua\",\"Perodua\",\"Proton\",\"CAF DFSK\",\"Hino\",\"Perodua\",\"Toyota\",\"Mazda\",\"Mazda\",\"Mazda\",\"Mazda\",\"Mazda\",\"Mazda\",\"Mazda\",\"Mazda\",\"Mazda\",\"Mazda\",\"Mazda\",\"Peugeot\",\"Mercedes-Benz\",\"Honda\",\"Mercedes-Benz\",\"TESLA\",\"Mercedes-Benz\",\"Peugeot\",\"BMW\",\"Honda\",\"Chana\",\"Mitsubishi\",\"Volkswagen\",\"Honda\",\"Perodua\",\"Proton\",\"Foton\",\"Mercedes-Benz\",\"Perodua\",\"Nissan\",\"Ford\",\"Proton\",\"BMW\",\"BMW\",\"Mitsubishi\",\"Ford\",\"Proton\",\"Ford\",\"BMW\",\"Ford\",\"Ford\",\"Ford\",\"Ford\",\"BMW\",\"Ford\",\"Ford\",\"Perodua\",\"Mitsubishi\",\"Ford\",\"Ford\",\"Perodua\",\"Honda\",\"Ford\",\"Proton\",\"Proton\",\"Proton\",\"Honda\",\"BMW\",\"BMW\",\"Toyota\",\"Perodua\",\"Toyota\",\"Toyota\",\"Toyota\",\"Toyota\",\"Toyota\",\"Mitsubishi\",\"Toyota\",\"Proton\",\"Toyota\",\"Perodua\",\"BMW\",\"Proton\",\"Proton\",\"Proton\",\"Proton\",\"Proton\",\"Proton\",\"Proton\",\"BMW\",\"Honda\",\"Volvo\",\"Mitsubishi\",\"Mitsubishi\",\"Ford\",\"Mazda\",\"Peugeot\",\"Daihatsu\",\"CAM\",\"CAM\",\"Honda\",\"Mazda\",\"Mazda\",\"Mazda\",\"Mazda\",\"Mazda\",\"Mazda\",\"Mazda\",\"Mazda\",\"Mazda\",\"Mazda\",\"Honda\",\"Perodua\",\"Mitsubishi\",\"Mitsubishi\",\"Mazda\",\"Proton\",\"Perodua\",\"Mazda\",\"Mitsubishi\",\"Peugeot\",\"Peugeot\",\"Perodua\",\"Perodua\",\"Honda\",\"Mazda\",\"Mazda\",\"TESLA\",\"Mitsubishi\",\"Mitsubishi\",\"Mazda\",\"Peugeot\",\"Mazda\",\"Mazda\",\"Mazda\",\"Mazda\",\"Mazda\",\"Mazda\",\"Mazda\",\"Kia\",\"Mazda\",\"Mazda\",\"Mazda\",\"Volvo\",\"Perodua\",\"Nissan\",\"Nissan\",\"Ford\",\"Ford\",\"Ford\",\"Ford\",\"Ford\",\"Ford\",\"Ford\",\"TESLA\",\"Proton\",\"Nissan\",\"Ford\",\"Ford\",\"Honda\",\"Ford\",\"Ford\",\"Ford\",\"Honda\",\"Ford\",\"Ford\",\"Ford\",\"Nissan\",\"Mitsubishi\",\"Nissan\",\"Ford\",\"Honda\",\"Toyota\",\"Ford\",\"Nissan\",\"Toyota\",\"Ford\",\"Ford\",\"Ford\",\"Ford\",\"Ford\",\"Ford\",\"Proton\",\"Ford\",\"Nissan\",\"Honda\",\"Ford\",\"Mitsubishi\",\"Ford\",\"Mitsubishi\",\"Isuzu\",\"Volvo\",\"Volvo\",\"Volvo\",\"Ford\",\"Toyota\",\"Toyota\",\"Perodua\",\"Perodua\",\"Mitsubishi\",\"Honda\",\"Mitsubishi\",\"Ford\",\"Ford\",\"Honda\",\"Perodua\",\"Honda\",\"Honda\",\"Honda\",\"Honda\",\"Honda\",\"Honda\",\"Mitsubishi\",\"Mitsubishi\",\"Honda\",\"Ford\",\"Mitsubishi\",\"Mitsubishi\",\"Mitsubishi\",\"Mitsubishi\",\"Perodua\",\"Ford\",\"Ford\",\"Ford\",\"Toyota\",\"Volvo\",\"Volvo\",\"Volvo\",\"Toyota\",\"Volvo\",\"Volvo\",\"Volvo\",\"Toyota\",\"Ford\",\"Ford\",\"Honda\",\"Honda\",\"Ford\",\"Ford\",\"Ford\",\"Ford\",\"Ford\",\"Ford\",\"Ford\",\"Ford\",\"Honda\",\"Ford\",\"Toyota\",\"Ford\",\"Ford\",\"Ford\",\"Ford\",\"Honda\",\"Perodua\",\"Honda\",\"Honda\",\"Honda\",\"Honda\",\"Honda\",\"Honda\",\"Honda\",\"Honda\",\"Honda\",\"Honda\",\"Honda\",\"Honda\",\"Ford\",\"Honda\",\"Honda\",\"Honda\",\"Honda\",\"Honda\",\"Honda\",\"Honda\",\"Honda\",\"Honda\",\"Honda\",\"Honda\",\"Honda\",\"Toyota\",\"Ford\",\"Toyota\",\"Toyota\",\"Toyota\",\"Toyota\",\"Toyota\",\"Honda\",\"Honda\",\"Ford\",\"Ford\",\"Ford\",\"Ford\",\"Proton\",\"TESLA\",\"Ford\",\"Ford\",\"Ford\",\"Ford\",\"Ford\",\"Volvo\",\"Toyota\",\"Toyota\",\"Toyota\",\"Toyota\",\"Toyota\",\"Toyota\",\"Toyota\",\"Volvo\",\"Volvo\",\"Volvo\",\"Volvo\",\"TESLA\",\"Mazda\",\"MG\",\"Ford\",\"TESLA\",\"TESLA\",\"TESLA\",\"TESLA\",\"TESLA\",\"TESLA\",\"TESLA\",\"TESLA\",\"TESLA\",\"TESLA\",\"TESLA\",\"TESLA\",\"TESLA\",\"TESLA\",\"TESLA\",\"TESLA\",\"TESLA\",\"TESLA\",\"TESLA\",\"TESLA\",\"TESLA\",\"TESLA\",\"TESLA\",\"TESLA\",\"Kia\",\"Kia\",\"Kia\",\"Toyota\",\"Ford\",\"Ford\",\"Toyota\",\"Toyota\",\"Toyota\",\"Toyota\",\"Mercedes-Benz\",\"Toyota\",\"Honda\",\"Toyota\",\"Toyota\",\"Toyota\",\"Toyota\",\"Toyota\",\"Toyota\",\"Toyota\",\"Toyota\",\"Toyota\",\"Toyota\",\"Toyota\",\"Toyota\",\"Toyota\",\"Volvo\",\"Volkswagen\",\"TESLA\",\"Ford\",\"Ford\",\"TESLA\",\"Ford\",\"Peugeot\",\"Mazda\",\"Kia\",\"Mazda\",\"Mazda\",\"Mazda\",\"TESLA\",\"TESLA\",\"Isuzu\",\"Isuzu\",\"BYD\",\"BYD\",\"BYD\",\"BYD\",\"BYD\",\"BYD\",\"BYD\",\"BYD\",\"BYD\",\"BYD\",\"Perodua\",\"Mazda\",\"Mazda\",\"Peugeot\",\"Kia\",\"Mazda\",\"Mazda\",\"Mazda\",\"Peugeot\",\"BMW\",\"Toyota\",\"Mazda\",\"Mazda\",\"Perodua\",\"Perodua\",\"TESLA\",\"TESLA\",\"TESLA\",\"TESLA\",\"TESLA\",\"TESLA\",\"TESLA\",\"TESLA\",\"TESLA\",\"TESLA\",\"TESLA\",\"Hino\",\"Isuzu\",\"Nissan\",\"TESLA\",\"Hino\",\"Isuzu\",\"Mazda\",\"TESLA\",\"TESLA\",\"TESLA\",\"Honda\",\"Mercedes-Benz\",\"TESLA\",\"Kia\",\"Kia\",\"TESLA\",\"Mitsubishi\",\"Mitsubishi\",\"Mitsubishi\",\"Mitsubishi\",\"Mitsubishi\",\"Mitsubishi\",\"Ford\",\"Mercedes-Benz\",\"Toyota\",\"Toyota\",\"Perodua\",\"Isuzu\",\"Isuzu\",\"Toyota\",\"TESLA\",\"TESLA\",\"Toyota\",\"Isuzu\",\"Isuzu\",\"Isuzu\",\"Isuzu\",\"TESLA\",\"TESLA\",\"TESLA\",\"Toyota\",\"Isuzu\",\"Toyota\",\"Isuzu\",\"TESLA\",\"Mazda\",\"Toyota\",\"Toyota\",\"Toyota\",\"Toyota\",\"Toyota\",\"Toyota\",\"Toyota\",\"Toyota\",\"Toyota\",\"Subaru\",\"Proton\",\"Proton\",\"Proton\",\"Proton\",\"Proton\",\"Proton\",\"Proton\",\"Proton\",\"Proton\",\"TESLA\",\"Kia\",\"TESLA\",\"Proton\",\"Isuzu\",\"Toyota\",\"Toyota\",\"TESLA\",\"TESLA\",\"TESLA\",\"TESLA\",\"TESLA\",\"TESLA\",\"TESLA\",\"TESLA\",\"TESLA\",\"TESLA\",\"TESLA\",\"TESLA\",\"TESLA\",\"TESLA\",\"TESLA\",\"TESLA\",\"Proton\",\"Mitsubishi\",\"Proton\",\"Proton\",\"Proton\",\"Proton\",\"Proton\",\"Proton\",\"Proton\",\"Proton\",\"Proton\",\"Mercedes-Benz\",\"Honda\",\"Subaru\",\"Proton\",\"Proton\",\"Proton\",\"Proton\",\"Proton\",\"Proton\",\"Proton\",\"Proton\",\"Mercedes-Benz\",\"TESLA\",\"TESLA\",\"TESLA\",\"TESLA\",\"TESLA\",\"TESLA\",\"TESLA\",\"TESLA\",\"TESLA\",\"TESLA\",\"TESLA\",\"TESLA\",\"TESLA\",\"TESLA\",\"TESLA\",\"TESLA\",\"TESLA\",\"TESLA\",\"TESLA\",\"TESLA\",\"TESLA\",\"TESLA\",\"Proton\",\"Ford\",\"Mazda\",\"Mazda\",\"Kia\",\"Proton\",\"Proton\",\"Toyota\",\"Toyota\",\"Proton\",\"Proton\",\"Proton\",\"Peugeot\",\"Kia\",\"TESLA\",\"TESLA\",\"Hyundai\",\"Mercedes-Benz\",\"Mercedes-Benz\",\"Mercedes-Benz\",\"Mazda\",\"Proton\",\"Proton\",\"Proton\",\"Proton\",\"Proton\",\"Proton\",\"Proton\",\"Mercedes-Benz\",\"Kia\",\"Toyota\",\"Toyota\",\"Suzuki\",\"Ford\",\"Ford\",\"Mercedes-Benz\",\"Mercedes-Benz\",\"TESLA\",\"TESLA\",\"Mercedes-Benz\",\"Mercedes-Benz\",\"Toyota\",\"Toyota\",\"Toyota\",\"Toyota\",\"Toyota\",\"Proton\",\"TESLA\",\"Toyota\",\"Toyota\",\"Toyota\",\"Toyota\",\"Toyota\",\"Toyota\",\"Toyota\",\"Toyota\",\"Toyota\",\"Toyota\",\"Toyota\",\"Toyota\",\"Mazda\",\"Mazda\",\"Proton\",\"Proton\",\"Proton\",\"Proton\",\"TESLA\",\"TESLA\",\"TESLA\",\"Proton\",\"Proton\",\"Proton\",\"Mazda\",\"TESLA\",\"Mazda\",\"Mazda\",\"Mazda\",\"Ford\",\"Ford\",\"Ford\",\"Ford\",\"Ford\",\"TESLA\",\"Mazda\",\"Mazda\",\"Mazda\",\"Mazda\",\"Honda\",\"Mazda\",\"Ford\",\"Ford\",\"Ford\",\"Toyota\",\"Ford\",\"Ford\",\"Ford\",\"Mazda\",\"Proton\",\"Proton\",\"Ford\",\"Ford\",\"Ford\",\"Ford\",\"Isuzu\",\"Mazda\",\"Mazda\",\"Mazda\",\"Volvo\",\"Mazda\",\"Mazda\",\"Perodua\",\"Perodua\",\"Perodua\",\"Perodua\",\"Perodua\",\"Perodua\",\"Mazda\",\"Mazda\",\"Proton\",\"Proton\",\"Proton\",\"Mazda\",\"Proton\",\"Proton\",\"Proton\",\"Proton\",\"Proton\",\"Proton\",\"Proton\",\"BMW\",\"Mazda\",\"Mazda\",\"Proton\",\"Mazda\",\"Proton\",\"Proton\",\"Mazda\",\"Mazda\",\"Perodua\",\"Proton\",\"Proton\",\"Foton\",\"Nissan\",\"Proton\",\"Proton\",\"Nissan\",\"Nissan\",\"Nissan\",\"Perodua\",\"Perodua\",\"Perodua\",\"Perodua\",\"Perodua\",\"Perodua\",\"Perodua\",\"Perodua\",\"Perodua\",\"Perodua\",\"Perodua\",\"Perodua\",\"Perodua\",\"Perodua\",\"Perodua\",\"Perodua\",\"Perodua\",\"Perodua\",\"Perodua\",\"Perodua\",\"Perodua\",\"Perodua\",\"Proton\",\"Proton\",\"Proton\",\"Nissan\",\"Proton\",\"Proton\",\"Proton\",\"Proton\",\"Volvo\",\"Mazda\",\"Mazda\",\"Mazda\",\"Mazda\",\"Mazda\",\"Ford\",\"Ford\",\"Ford\",\"Mazda\",\"Ford\",\"Ford\",\"Ford\",\"Mazda\",\"Ford\",\"Ford\",\"Proton\",\"Ford\",\"Ford\",\"Ford\",\"Ford\",\"Perodua\",\"Perodua\",\"Perodua\",\"Perodua\",\"Perodua\",\"Perodua\",\"Perodua\",\"Mitsubishi\",\"Mazda\",\"Mazda\",\"Nissan\",\"Peugeot\",\"Peugeot\",\"Kia\",\"Mitsubishi\",\"Proton\",\"Mitsubishi\",\"Toyota\",\"Mitsubishi\",\"Proton\",\"Volkswagen\",\"Peugeot\",\"Peugeot\",\"Proton\",\"Proton\",\"Perodua\",\"Honda\",\"Honda\",\"Honda\",\"Volvo\",\"Volkswagen\",\"TESLA\",\"Lexus\",\"Toyota\",\"Proton\",\"Mercedes-Benz\",\"Proton\",\"Honda\",\"Perodua\",\"Perodua\",\"Perodua\",\"Perodua\",\"Perodua\",\"Perodua\",\"Toyota\",\"Perodua\",\"Perodua\",\"Perodua\",\"Perodua\",\"Perodua\",\"Mitsubishi\",\"Perodua\",\"Perodua\",\"Honda\",\"Honda\",\"Mazda\",\"Toyota\",\"Volkswagen\",\"Mazda\",\"Toyota\",\"Toyota\",\"Proton\",\"Mazda\",\"Honda\",\"Honda\",\"Proton\",\"Honda\",\"Peugeot\",\"Lexus\",\"Proton\",\"Perodua\",\"Honda\",\"Honda\",\"Honda\",\"Honda\",\"Toyota\",\"Toyota\",\"Toyota\",\"Volkswagen\",\"Toyota\",\"Toyota\",\"Volkswagen\",\"Toyota\",\"Toyota\",\"Toyota\",\"Toyota\",\"Toyota\",\"Mitsubishi\",\"Toyota\",\"Toyota\",\"Mitsubishi\",\"Toyota\",\"Toyota\",\"Mitsubishi\",\"Toyota\",\"Volvo\",\"Volvo\",\"Ford\",\"Proton\",\"TESLA\",\"Mercedes-Benz\",\"TESLA\",\"TESLA\",\"TESLA\",\"TESLA\",\"TESLA\",\"TESLA\",\"TESLA\",\"TESLA\",\"TESLA\",\"TESLA\",\"TESLA\",\"Proton\",\"Proton\",\"Proton\",\"Perodua\",\"Mitsubishi\",\"Mercedes-Benz\",\"Mercedes-Benz\",\"Mercedes-Benz\",\"Nissan\",\"Volkswagen\",\"Volkswagen\",\"Toyota\",\"Toyota\",\"Toyota\",\"Toyota\",\"Toyota\",\"Toyota\",\"Toyota\",\"Toyota\",\"Toyota\",\"Toyota\",\"Toyota\",\"Toyota\",\"Toyota\",\"Toyota\",\"Toyota\",\"Toyota\",\"Toyota\",\"Toyota\",\"Toyota\",\"Toyota\",\"Toyota\",\"Toyota\",\"Toyota\",\"Toyota\",\"Honda\",\"Mitsubishi\",\"Honda\",\"Hino\",\"Toyota\",\"Mitsubishi\",\"Mitsubishi\",\"Mitsubishi\",\"Mitsubishi\",\"Mitsubishi\",\"Nissan\",\"Honda\",\"Ford\",\"Proton\",\"Volkswagen\",\"Proton\",\"Proton\",\"Proton\",\"Mitsubishi\",\"Proton\",\"Proton\",\"Proton\",\"Proton\",\"TESLA\",\"Honda\",\"Honda\",\"Mitsubishi\",\"Proton\",\"Subaru\",\"Toyota\",\"Toyota\",\"Toyota\",\"Honda\",\"Subaru\",\"Honda\",\"TESLA\",\"Mitsubishi\",\"Toyota\",\"Toyota\",\"Toyota\",\"MG\",\"TESLA\",\"TESLA\",\"Foton\",\"Volkswagen\",\"Mitsubishi\",\"Mazda\",\"Volkswagen\",\"Nissan\",\"Mitsubishi\",\"Mitsubishi\",\"Proton\",\"Isuzu\",\"Isuzu\",\"Nissan\",\"Proton\",\"Nissan\",\"Perodua\",\"Perodua\",\"Perodua\",\"Perodua\",\"Perodua\",\"Perodua\",\"Ford\",\"Foton\",\"MG\",\"MG\",\"Volkswagen\",\"Mitsubishi\",\"Foton\",\"Mitsubishi\",\"Chana\",\"Foton\",\"Perodua\",\"Perodua\",\"Proton\",\"Proton\",\"Chana\",\"TESLA\",\"TESLA\",\"Mazda\",\"Honda\",\"Hino\",\"Isuzu\",\"Mitsubishi\",\"Nissan\",\"Mitsubishi\",\"Proton\",\"Toyota\",\"Toyota\",\"Mitsubishi\",\"Perodua\",\"Perodua\",\"BMW\",\"Honda\",\"Toyota\",\"Honda\",\"Nissan\",\"Nissan\",\"Peugeot\",\"Perodua\",\"TESLA\",\"TESLA\",\"Chana\",\"Mitsubishi\",\"Mitsubishi\",\"Proton\",\"Volvo\",\"Proton\",\"Ford\",\"Ford\",\"Ford\",\"Volvo\",\"Honda\",\"Honda\",\"Volvo\",\"Mazda\",\"Perodua\",\"Proton\",\"Proton\",\"Proton\",\"Toyota\",\"Toyota\",\"Mitsubishi\",\"Toyota\",\"Proton\",\"Volkswagen\",\"Proton\",\"Proton\",\"Proton\",\"Mercedes-Benz\",\"TESLA\",\"Mercedes-Benz\",\"TESLA\",\"Mercedes-Benz\",\"TESLA\",\"Mazda\",\"TESLA\",\"TESLA\",\"TESLA\",\"TESLA\",\"TESLA\",\"TESLA\",\"TESLA\",\"TESLA\",\"TESLA\",\"TESLA\",\"TESLA\",\"TESLA\",\"TESLA\",\"Mercedes-Benz\",\"Mercedes-Benz\",\"Perodua\",\"Honda\",\"Proton\",\"Perodua\",\"Hino\",\"Proton\",\"TESLA\",\"Volkswagen\",\"Volkswagen\",\"Volkswagen\",\"Perodua\",\"Audi\",\"Volkswagen\",\"Audi\",\"Audi\",\"Foton\",\"TESLA\",\"Mitsubishi\",\"Perodua\",\"Mazda\",\"Chana\",\"Honda\",\"Mercedes-Benz\",\"Volkswagen\",\"Volkswagen\",\"Ford\",\"Honda\",\"Proton\",\"Proton\",\"Proton\",\"Volkswagen\",\"Chana\",\"Toyota\",\"Toyota\",\"Toyota\",\"Toyota\",\"Mercedes-Benz\",\"TESLA\",\"TESLA\",\"Mercedes-Benz\",\"Proton\",\"Peugeot\",\"Peugeot\",\"Mercedes-Benz\",\"Mitsubishi\",\"Proton\",\"Mercedes-Benz\",\"Proton\",\"Perodua\",\"CAF DFSK\",\"Proton\",\"Honda\",\"Honda\",\"Proton\",\"Proton\",\"Honda\",\"Mercedes-Benz\",\"Honda\",\"Proton\",\"Proton\",\"Honda\",\"Honda\",\"Proton\",\"Proton\",\"Proton\",\"Mitsubishi\",\"Perodua\",\"Mitsubishi\",\"Mitsubishi\",\"Mitsubishi\",\"Mitsubishi\",\"Mitsubishi\",\"Mitsubishi\",\"Isuzu\",\"Mitsubishi\",\"Mitsubishi\",\"Mitsubishi\",\"Mitsubishi\",\"Mitsubishi\",\"Proton\",\"Proton\",\"Honda\",\"Honda\",\"Toyota\",\"Toyota\",\"Toyota\",\"Foton\",\"Mitsubishi\",\"Proton\",\"Proton\",\"Proton\",\"Proton\",\"MG\",\"Mazda\",\"Hino\",\"Volkswagen\",\"GAC\",\"Mercedes-Benz\",\"Honda\",\"Honda\",\"Proton\",\"Proton\",\"Proton\",\"Proton\",\"Proton\",\"Proton\",\"Proton\",\"Perodua\",\"Perodua\",\"GAC\",\"GAC\",\"JMC\",\"Toyota\",\"Toyota\",\"Proton\",\"Proton\",\"Proton\",\"Proton\",\"Proton\",\"TESLA\",\"TESLA\",\"TESLA\",\"Mazda\",\"Mazda\",\"Proton\",\"Proton\",\"Proton\",\"Proton\",\"Proton\",\"Proton\",\"Perodua\",\"Volkswagen\",\"Perodua\",\"Mitsubishi\",\"Proton\",\"BMW\",\"TESLA\",\"Nissan\",\"Mitsubishi\",\"Toyota\",\"Volkswagen\",\"GAC\",\"GAC\",\"JMC\",\"Hino\",\"Toyota\",\"Mitsubishi\",\"Toyota\",\"Toyota\",\"Perodua\",\"Perodua\",\"Perodua\",\"Chana\",\"Proton\",\"Volkswagen\",\"Proton\",\"Volkswagen\",\"Mitsubishi\",\"Honda\",\"Honda\",\"Proton\",\"Mercedes-Benz\",\"Proton\",\"Mercedes-Benz\",\"Proton\",\"Proton\",\"Mercedes-Benz\",\"Mercedes-Benz\",\"Mazda\",\"Proton\",\"Mitsubishi\",\"Proton\",\"Kia\",\"Subaru\",\"Mercedes-Benz\",\"Proton\",\"Maxus\",\"Toyota\",\"Toyota\",\"Perodua\",\"Subaru\",\"Proton\",\"Toyota\",\"Toyota\",\"Mazda\",\"Fiat\",\"Audi\",\"Mitsubishi\",\"Nissan\",\"Nissan\",\"Foton\",\"Nissan\",\"Nissan\",\"Nissan\",\"Proton\",\"Perodua\",\"Toyota\",\"Daihatsu\",\"Toyota\",\"Mitsubishi\",\"Toyota\",\"Toyota\",\"Toyota\",\"Toyota\",\"Mazda\",\"Perodua\",\"Peugeot\",\"Peugeot\",\"Peugeot\",\"Peugeot\",\"Peugeot\",\"Peugeot\",\"Isuzu\",\"Audi\",\"Mitsubishi\",\"Mazda\",\"Lexus\",\"Proton\",\"Peugeot\",\"Kia\",\"Proton\",\"Proton\",\"Proton\",\"Proton\",\"Proton\",\"Proton\",\"Mazda\",\"Proton\",\"Proton\",\"Perodua\",\"Volkswagen\",\"Volkswagen\",\"TESLA\",\"TESLA\",\"TESLA\",\"TESLA\",\"TESLA\",\"TESLA\",\"TESLA\",\"Proton\",\"TESLA\",\"TESLA\",\"TESLA\",\"TESLA\",\"TESLA\",\"TESLA\",\"TESLA\",\"TESLA\",\"TESLA\",\"TESLA\",\"TESLA\",\"TESLA\",\"TESLA\",\"TESLA\",\"TESLA\",\"TESLA\",\"TESLA\",\"TESLA\",\"Mercedes-Benz\",\"TESLA\",\"Toyota\",\"TESLA\",\"Mercedes-Benz\",\"Mercedes-Benz\",\"TESLA\",\"Toyota\",\"TESLA\",\"TESLA\",\"TESLA\",\"Honda\",\"CAF DFSK\",\"Volkswagen\",\"Volkswagen\",\"Mercedes-Benz\",\"Proton\",\"Perodua\",\"Mitsubishi\",\"Mitsubishi\",\"Golden Dragon\",\"Proton\",\"Peugeot\",\"Peugeot\",\"Toyota\",\"Proton\",\"Volvo\",\"Mercedes-Benz\",\"Proton\",\"Proton\",\"Kia\",\"Peugeot\",\"Subaru\",\"Proton\",\"Proton\",\"Mercedes-Benz\",\"Proton\",\"TESLA\",\"Honda\",\"Honda\",\"TESLA\",\"Perodua\",\"Honda\",\"Honda\",\"Honda\",\"Honda\",\"Proton\",\"Proton\",\"Toyota\",\"Toyota\",\"Mercedes-Benz\",\"Peugeot\",\"Peugeot\",\"Kia\",\"Proton\",\"Volkswagen\",\"Nissan\",\"Volkswagen\",\"Nissan\",\"Volvo\",\"Volvo\",\"Mazda\",\"TESLA\",\"Perodua\",\"Proton\",\"TESLA\",\"TESLA\",\"TESLA\",\"TESLA\",\"TESLA\",\"Mercedes-Benz\",\"Proton\",\"Proton\",\"TESLA\",\"TESLA\",\"TESLA\",\"TESLA\",\"TESLA\",\"TESLA\",\"TESLA\",\"Mitsubishi\",\"TESLA\",\"TESLA\",\"TESLA\",\"TESLA\",\"Mazda\",\"Perodua\",\"Perodua\",\"Honda\",\"BMW\",\"BMW\",\"Honda\",\"BMW\",\"BMW\",\"Proton\",\"Hyundai\",\"Chana\",\"Proton\",\"Toyota\",\"Chana\",\"Perodua\",\"Proton\",\"Volkswagen\",\"Proton\",\"Honda\",\"Honda\",\"Mazda\",\"Proton\",\"Perodua\",\"Nissan\",\"Nissan\",\"Proton\",\"Proton\",\"Proton\",\"Toyota\",\"Proton\",\"TESLA\",\"Toyota\",\"Volkswagen\",\"Mazda\",\"Honda\",\"Proton\",\"CAM\",\"Isuzu\",\"Honda\",\"Proton\",\"Toyota\",\"Proton\",\"Honda\",\"Honda\",\"Honda\",\"Honda\",\"Honda\",\"Honda\",\"Honda\",\"Honda\",\"Honda\",\"Honda\",\"Perodua\",\"Perodua\",\"Foton\",\"Hino\",\"Honda\",\"Honda\",\"TESLA\",\"Foton\",\"Perodua\",\"Perodua\",\"Perodua\",\"Mercedes-Benz\",\"Toyota\",\"TESLA\",\"TESLA\",\"TESLA\",\"TESLA\",\"Toyota\",\"Kia\",\"Mercedes-Benz\",\"Mercedes-Benz\",\"Proton\",\"Proton\",\"Proton\",\"Proton\",\"Toyota\",\"Proton\",\"Volvo\",\"Honda\",\"Honda\",\"Honda\",\"Proton\",\"Mazda\",\"Perodua\",\"Nissan\",\"Peugeot\",\"Proton\",\"Peugeot\",\"Mitsubishi\",\"Proton\",\"Nissan\",\"Perodua\",\"Foton\",\"Proton\",\"Mercedes-Benz\",\"Foton\",\"Chana\",\"TESLA\",\"Mercedes-Benz\",\"TESLA\",\"TESLA\",\"TESLA\",\"Volvo\",\"Proton\",\"Volkswagen\",\"TESLA\",\"TESLA\",\"TESLA\",\"TESLA\",\"TESLA\",\"TESLA\",\"TESLA\",\"TESLA\",\"TESLA\",\"TESLA\",\"Proton\",\"Proton\",\"Proton\",\"Proton\",\"TESLA\",\"TESLA\",\"TESLA\",\"TESLA\",\"TESLA\",\"TESLA\",\"TESLA\",\"TESLA\",\"TESLA\",\"TESLA\",\"Audi\",\"Perodua\",\"Volkswagen\",\"Mercedes-Benz\",\"Proton\",\"Proton\",\"TESLA\",\"Isuzu\",\"Mitsubishi\",\"Mitsubishi\",\"Mitsubishi\",\"Honda\",\"Kia\",\"Hino\",\"Isuzu\",\"Hino\",\"Hino\",\"Isuzu\",\"Hino\",\"Mitsubishi\",\"Perodua\",\"Volkswagen\",\"Volkswagen\",\"Volkswagen\",\"Volkswagen\",\"Foton\",\"Proton\",\"Proton\",\"Suzuki\",\"Volkswagen\",\"Perodua\",\"Perodua\",\"Perodua\",\"Perodua\",\"TESLA\",\"Mazda\",\"Toyota\",\"Volkswagen\",\"Honda\",\"Honda\",\"Proton\",\"Proton\",\"Mercedes-Benz\",\"Nissan\",\"Nissan\",\"Toyota\",\"Toyota\",\"Proton\",\"Proton\",\"Proton\",\"Perodua\",\"Toyota\",\"Toyota\",\"Peugeot\",\"Toyota\",\"Peugeot\",\"Peugeot\",\"Peugeot\",\"Toyota\",\"Proton\",\"Nissan\",\"Proton\",\"Proton\",\"Proton\",\"TESLA\",\"Proton\",\"Toyota\",\"Toyota\",\"Toyota\",\"Toyota\",\"Toyota\",\"Honda\",\"Perodua\",\"Toyota\",\"Toyota\",\"Proton\",\"Proton\",\"Proton\",\"Proton\",\"Kia\",\"Proton\",\"Mitsubishi\",\"Mitsubishi\",\"Toyota\",\"Toyota\",\"Toyota\",\"Toyota\",\"Toyota\",\"Toyota\",\"Honda\",\"CAF DFSK\",\"Honda\",\"Toyota\",\"Toyota\",\"Proton\",\"Volkswagen\",\"Volkswagen\",\"Honda\",\"Subaru\",\"Volkswagen\",\"Volkswagen\",\"Mitsubishi\",\"Mitsubishi\",\"Kia\",\"Peugeot\",\"Proton\",\"TESLA\",\"Honda\",\"Perodua\",\"Proton\",\"Proton\",\"Proton\",\"Proton\",\"Ford\",\"Lotus\",\"Proton\",\"Perodua\",\"Perodua\",\"Toyota\",\"Perodua\",\"Hyundai\",\"Honda\",\"Perodua\",\"Toyota\",\"Toyota\",\"Toyota\",\"Toyota\",\"Honda\",\"Volvo\",\"Perodua\",\"Mazda\",\"Perodua\",\"Perodua\",\"Mercedes-Benz\",\"Perodua\",\"Toyota\",\"Toyota\",\"Perodua\",\"Mazda\",\"TESLA\",\"Honda\",\"Proton\",\"Mercedes-Benz\",\"Mercedes-Benz\",\"Mazda\",\"Mazda\",\"Mitsubishi\",\"Perodua\",\"Volkswagen\",\"Kia\",\"Toyota\",\"Perodua\",\"Toyota\",\"Toyota\",\"Perodua\",\"Mercedes-Benz\",\"TESLA\",\"Isuzu\",\"Nissan\",\"Proton\",\"TESLA\",\"TESLA\",\"MG\",\"TESLA\",\"MG\",\"TESLA\",\"TESLA\",\"Toyota\",\"TESLA\",\"Toyota\",\"Proton\",\"Perodua\",\"Volkswagen\",\"Volkswagen\",\"MG\",\"MG\",\"Perodua\",\"TESLA\",\"TESLA\",\"TESLA\",\"Volvo\",\"Mazda\",\"Kia\",\"Mazda\",\"Isuzu\",\"Isuzu\",\"BMW\",\"Toyota\",\"Toyota\",\"Foton\",\"Volkswagen\",\"Volkswagen\",\"Proton\",\"Proton\",\"Proton\",\"Peugeot\",\"Proton\",\"Peugeot\",\"Peugeot\",\"Hyundai\",\"Isuzu\",\"Mitsubishi\",\"Mitsubishi\",\"Proton\",\"Proton\",\"Proton\",\"TESLA\",\"CAF DFSK\",\"DFSK\",\"Perodua\",\"Proton\",\"Proton\",\"Toyota\",\"Proton\",\"Toyota\",\"Subaru\",\"Mitsubishi\",\"Proton\",\"Proton\",\"Foton\",\"Chana\",\"Toyota\",\"Peugeot\",\"Lexus\",\"Toyota\",\"Toyota\",\"Toyota\",\"Hyundai\",\"Hyundai\",\"Proton\",\"Honda\",\"Mazda\",\"Mazda\",\"Hyundai\",\"Nissan\",\"Proton\",\"Nissan\",\"Honda\",\"Mitsubishi\",\"Mitsubishi\",\"Mitsubishi\",\"Mitsubishi\",\"Mitsubishi\",\"Mitsubishi\",\"Proton\",\"Nissan\",\"Hyundai\",\"Toyota\",\"Mitsubishi\",\"Mitsubishi\",\"Mitsubishi\",\"Mitsubishi\",\"Proton\",\"Renault\",\"Proton\",\"Proton\",\"Proton\",\"Proton\",\"Proton\",\"Proton\",\"Proton\",\"Proton\",\"Proton\",\"Proton\",\"Proton\",\"Proton\",\"Honda\",\"Peugeot\",\"Proton\",\"Mercedes-Benz\",\"Mercedes-Benz\",\"Bentley\",\"Toyota\",\"Toyota\",\"Mazda\",\"Peugeot\",\"Peugeot\",\"Bentley\",\"Perodua\",\"Proton\",\"Perodua\",\"Perodua\",\"Perodua\",\"Proton\",\"Proton\",\"Proton\",\"Proton\",\"Volkswagen\",\"Proton\",\"Proton\",\"Proton\",\"Proton\",\"Toyota\",\"Nissan\",\"Toyota\",\"Nissan\",\"Proton\",\"Nissan\",\"Nissan\",\"Hyundai\",\"Nissan\",\"TESLA\",\"Toyota\",\"Perodua\",\"Toyota\",\"Hyundai\",\"Mazda\",\"Peugeot\",\"Proton\",\"Toyota\",\"Isuzu\",\"Toyota\",\"Volkswagen\",\"Perodua\",\"TESLA\",\"Proton\",\"Mercedes-Benz\",\"Honda\",\"Honda\",\"Mazda\",\"Mazda\",\"Honda\",\"Perodua\",\"Toyota\",\"Honda\",\"Kia\",\"Proton\",\"Proton\",\"Kia\",\"Mitsubishi\",\"Mitsubishi\",\"Peugeot\",\"Honda\",\"Honda\",\"Toyota\",\"Proton\",\"Proton\",\"Mazda\",\"Proton\",\"Proton\",\"Volkswagen\",\"Volkswagen\",\"Mazda\",\"Proton\",\"Volkswagen\",\"Isuzu\",\"Toyota\",\"Toyota\",\"Mitsubishi\",\"Proton\",\"Peugeot\",\"Proton\",\"Proton\",\"Peugeot\",\"Peugeot\",\"Proton\",\"Peugeot\",\"Peugeot\",\"Toyota\",\"Proton\",\"Kia\",\"Kia\",\"Proton\",\"Proton\",\"Proton\",\"Renault\",\"Proton\",\"Nissan\",\"Nissan\",\"Honda\",\"Proton\",\"Proton\",\"Proton\",\"Mitsubishi\",\"Mitsubishi\",\"Nissan\",\"Nissan\",\"Volvo\",\"Proton\",\"Proton\",\"Proton\",\"Proton\",\"Mercedes-Benz\",\"Mitsubishi\",\"Honda\",\"Daihatsu\",\"Toyota\",\"Toyota\",\"Proton\",\"Proton\",\"Proton\",\"Proton\",\"Proton\",\"Proton\",\"Mazda\",\"Mitsubishi\",\"Mitsubishi\",\"Mitsubishi\",\"Mitsubishi\",\"Honda\",\"Honda\",\"Mercedes-Benz\",\"Mazda\",\"Mitsubishi\",\"Mercedes-Benz\",\"Mercedes-Benz\",\"Proton\",\"Proton\",\"Proton\",\"Proton\",\"Proton\",\"Volkswagen\",\"Proton\",\"CAF DFSK\",\"Lexus\",\"Ford\",\"Proton\",\"Proton\",\"Toyota\",\"Volkswagen\",\"Volkswagen\",\"Proton\",\"Proton\",\"Proton\",\"Honda\",\"Honda\",\"Proton\",\"Daihatsu\",\"Foton\",\"Chana\",\"Mercedes-Benz\",\"Ford\",\"Honda\",\"Mercedes-Benz\",\"Perodua\",\"Mazda\",\"Mitsubishi\",\"Proton\",\"Mercedes-Benz\",\"Proton\",\"Perodua\",\"Mitsubishi\",\"Mazda\",\"Subaru\",\"Mercedes-Benz\",\"Proton\",\"Mazda\",\"Peugeot\",\"Proton\",\"Proton\",\"Proton\",\"Proton\",\"Honda\",\"Foton\",\"Proton\",\"Mercedes-Benz\",\"CAF DFSK\",\"Peugeot\",\"Proton\",\"Proton\",\"Honda\",\"Proton\",\"Proton\",\"Hyundai\",\"CAF DFSK\",\"TESLA\",\"Nissan\",\"Mazda\",\"Perodua\",\"Proton\",\"Toyota\",\"Toyota\",\"Mercedes-Benz\",\"Honda\",\"Hyundai\",\"Proton\",\"Toyota\",\"Toyota\",\"Mitsubishi\",\"Proton\",\"Nissan\",\"Nissan\",\"Mercedes-Benz\",\"Mazda\",\"Perodua\",\"Perodua\",\"Honda\",\"Proton\",\"Honda\",\"Proton\",\"Proton\",\"Proton\",\"Mitsubishi\",\"Perodua\",\"CAF DFSK\",\"Peugeot\",\"Audi\",\"Nissan\",\"Proton\",\"Mitsubishi\",\"Mitsubishi\",\"Volkswagen\",\"Toyota\",\"Honda\",\"Honda\",\"Proton\",\"Proton\",\"Honda\",\"Mitsubishi\",\"Mitsubishi\",\"Proton\",\"Foton\",\"Proton\",\"Proton\",\"Mitsubishi\",\"Mitsubishi\",\"Mazda\",\"Volkswagen\",\"Mercedes-Benz\",\"Mercedes-Benz\",\"Perodua\",\"Volkswagen\",\"Volkswagen\",\"Volvo\",\"Volvo\",\"Toyota\",\"Perodua\",\"Proton\",\"Toyota\",\"Toyota\",\"Mercedes-Benz\",\"Toyota\",\"Mitsubishi\",\"Proton\",\"Mitsubishi\",\"Mazda\",\"Proton\",\"Proton\",\"Ford\",\"Ford\",\"Peugeot\",\"Proton\",\"Honda\",\"Mazda\",\"Mazda\",\"Perodua\",\"Perodua\",\"Volkswagen\",\"Honda\",\"Honda\",\"Honda\",\"Honda\",\"Mercedes-Benz\",\"Subaru\",\"Subaru\",\"Subaru\",\"Foton\",\"CAM\",\"Proton\",\"Daihatsu\",\"Daihatsu\",\"Kia\",\"Mazda\",\"Mazda\",\"Proton\",\"Proton\",\"Proton\",\"Isuzu\",\"Isuzu\",\"Proton\",\"Proton\",\"Hyundai\",\"Mazda\",\"Proton\",\"Volkswagen\",\"Proton\",\"Mazda\",\"Honda\",\"Honda\",\"Honda\",\"Proton\",\"Toyota\",\"Volkswagen\",\"Mitsubishi\",\"Toyota\",\"Proton\",\"Nissan\",\"Chana\",\"Foton\",\"Kia\",\"CAM\",\"Proton\",\"Proton\",\"Peugeot\",\"Toyota\",\"Proton\",\"Proton\",\"Volvo\",\"TESLA\",\"TESLA\",\"TESLA\",\"TESLA\",\"Mazda\",\"Perodua\",\"Perodua\",\"Perodua\",\"Volkswagen\",\"Mitsubishi\",\"Volkswagen\",\"Volkswagen\",\"Peugeot\",\"Peugeot\",\"Perodua\",\"Honda\",\"JMC\",\"JMC\",\"JMC\",\"JMC\",\"JMC\",\"Proton\",\"Foton\",\"Honda\",\"Proton\",\"Proton\",\"Honda\",\"Perodua\",\"Volkswagen\",\"Volkswagen\",\"Proton\",\"Mitsubishi\",\"Proton\",\"Proton\",\"Proton\",\"Proton\",\"Mercedes-Benz\",\"Proton\",\"Lamborghini\",\"Mercedes-Benz\",\"Proton\",\"Peugeot\",\"Volkswagen\",\"Toyota\",\"Volkswagen\",\"Foton\",\"Toyota\",\"Toyota\",\"Toyota\",\"Toyota\",\"Perodua\",\"Perodua\",\"Perodua\",\"Honda\",\"Honda\",\"Honda\",\"Honda\",\"Honda\",\"Mitsubishi\",\"Mitsubishi\",\"Proton\",\"Proton\",\"Nissan\",\"Toyota\",\"Daihatsu\",\"Volkswagen\",\"Ford\",\"Toyota\",\"Toyota\",\"Toyota\",\"Honda\",\"Honda\",\"Honda\",\"Perodua\",\"Toyota\",\"Toyota\",\"Foton\",\"Honda\",\"Perodua\",\"Perodua\",\"Ford\",\"Chana\",\"Kia\",\"Proton\",\"Nissan\",\"Foton\",\"Foton\",\"Mazda\",\"Honda\",\"Peugeot\",\"Kia\",\"Honda\",\"Mitsubishi\",\"Mitsubishi\",\"Proton\",\"Hino\",\"Chana\",\"Foton\",\"Proton\",\"Mercedes-Benz\",\"Hino\",\"Toyota\",\"Mazda\",\"Perodua\",\"Proton\",\"Mitsubishi\",\"Mazda\",\"Mazda\",\"Mazda\",\"Ford\",\"Subaru\",\"Honda\",\"Toyota\",\"Honda\",\"Toyota\",\"Peugeot\",\"Nissan\",\"Audi\",\"Daihatsu\",\"Mitsubishi\",\"Mitsubishi\",\"Mitsubishi\",\"Mitsubishi\",\"Proton\",\"Perodua\",\"Volkswagen\",\"Volkswagen\",\"Volkswagen\",\"Proton\",\"Volkswagen\",\"Mitsubishi\",\"Mitsubishi\",\"Volkswagen\",\"Volkswagen\",\"Mazda\",\"Daihatsu\",\"Mazda\",\"Nissan\",\"Mazda\",\"Mitsubishi\",\"Mitsubishi\",\"Perodua\",\"Perodua\",\"Perodua\",\"Perodua\",\"Perodua\",\"Perodua\",\"Perodua\",\"Perodua\",\"Perodua\",\"Foton\",\"Volkswagen\",\"Proton\",\"Peugeot\",\"Proton\",\"Proton\",\"Perodua\",\"Perodua\",\"Honda\",\"Audi\",\"Mitsubishi\",\"Audi\",\"Foton\",\"Volkswagen\",\"Honda\",\"Mazda\",\"Honda\",\"Honda\",\"Honda\",\"Audi\",\"Proton\",\"Volkswagen\",\"Audi\",\"Volkswagen\",\"Volkswagen\",\"Volkswagen\",\"Peugeot\",\"Toyota\",\"Ford\",\"Proton\",\"Mazda\",\"Proton\",\"Proton\",\"Proton\",\"Proton\",\"Proton\",\"Proton\",\"Mitsubishi\",\"Chana\",\"Perodua\",\"Proton\",\"Ford\",\"Mitsubishi\",\"Proton\",\"Nissan\",\"Foton\",\"Foton\",\"Peugeot\",\"Isuzu\",\"Perodua\",\"Perodua\",\"Perodua\",\"Honda\",\"Chana\",\"CAM\",\"Nissan\",\"Proton\",\"Nissan\",\"Toyota\",\"Chana\",\"Foton\",\"Nissan\",\"Honda\",\"Hino\",\"Foton\",\"Proton\",\"Honda\",\"Kia\",\"Mercedes-Benz\",\"Mitsubishi\",\"Honda\",\"Ford\",\"Toyota\",\"Peugeot\",\"Proton\",\"Proton\",\"Proton\",\"Proton\",\"Isuzu\",\"Foton\",\"Foton\",\"Foton\",\"Volkswagen\",\"Proton\",\"Mitsubishi\",\"Mazda\",\"Mazda\",\"Mazda\",\"Mazda\",\"Volkswagen\",\"Toyota\",\"Toyota\",\"Proton\",\"Proton\",\"Proton\",\"Isuzu\",\"Proton\",\"Mitsubishi\",\"Proton\",\"Mitsubishi\",\"Honda\",\"Mazda\",\"Mazda\",\"Mazda\",\"Mazda\",\"Honda\",\"Honda\",\"Perodua\",\"Proton\",\"Hino\",\"Isuzu\",\"Hino\",\"Hino\",\"Foton\",\"Foton\",\"CAM\",\"CAM\",\"Daihatsu\",\"Chana\",\"Chana\",\"Nissan\",\"Chana\",\"Daihatsu\",\"CAM\",\"Nissan\",\"CAM\",\"Chana\",\"CAM\",\"CAM\",\"Daihatsu\",\"Daihatsu\",\"Toyota\",\"Daihatsu\",\"Ford\",\"Hino\",\"Peugeot\",\"Mercedes-Benz\",\"Proton\",\"Honda\",\"Honda\",\"Honda\",\"Honda\",\"Mitsubishi\",\"Proton\",\"Toyota\",\"Toyota\",\"Kia\",\"Volkswagen\",\"Proton\",\"Mitsubishi\",\"Mercedes-Benz\",\"Toyota\",\"Nissan\",\"Honda\",\"Volkswagen\",\"Proton\",\"Proton\",\"Proton\",\"Mitsubishi\",\"Kia\",\"Hino\",\"Proton\",\"Chana\",\"Proton\",\"Isuzu\",\"Proton\",\"Proton\",\"TESLA\",\"Peugeot\",\"Kia\",\"Mitsubishi\",\"Foton\",\"Chana\",\"Mitsubishi\",\"Kia\",\"Mazda\",\"Mazda\",\"Porsche\",\"Proton\",\"Honda\",\"Mitsubishi\",\"Toyota\",\"Toyota\",\"Toyota\",\"Toyota\",\"Mitsubishi\",\"Mitsubishi\",\"TESLA\",\"Proton\",\"Ford\",\"Perodua\",\"Perodua\",\"Mazda\",\"Perodua\",\"Proton\",\"Proton\",\"Proton\",\"TESLA\",\"Proton\",\"Mercedes-Benz\",\"Mitsubishi\",\"Mitsubishi\",\"Mitsubishi\",\"Perodua\",\"Perodua\",\"Perodua\",\"Proton\",\"Mercedes-Benz\",\"Ford\",\"Ford\",\"Proton\",\"Proton\",\"Proton\",\"Volkswagen\",\"Volkswagen\",\"Nissan\",\"Honda\",\"Honda\",\"Honda\",\"Honda\",\"Honda\",\"Ford\",\"Toyota\",\"Proton\",\"Proton\",\"Perodua\",\"Proton\",\"Proton\",\"Proton\",\"Toyota\",\"Ford\",\"Perodua\",\"Chana\",\"Chana\",\"Foton\",\"Honda\",\"Honda\",\"Mitsubishi\",\"Mitsubishi\",\"Honda\",\"Proton\",\"Mitsubishi\",\"Toyota\",\"Honda\",\"Toyota\",\"Mazda\",\"Perodua\",\"Perodua\",\"Perodua\",\"Proton\",\"Toyota\",\"Perodua\",\"Perodua\",\"Nissan\",\"Nissan\",\"Nissan\",\"Mazda\",\"Toyota\",\"Honda\",\"Mitsubishi\",\"Nissan\",\"Perodua\",\"Nissan\",\"Toyota\",\"Toyota\",\"Toyota\",\"Mitsubishi\",\"Foton\",\"Honda\",\"Honda\",\"Honda\",\"Proton\",\"Perodua\",\"Perodua\",\"Perodua\",\"Mazda\",\"Mazda\",\"Mitsubishi\",\"Proton\",\"Proton\",\"Proton\",\"Mitsubishi\",\"Toyota\",\"Proton\",\"Proton\",\"Proton\",\"Toyota\",\"Nissan\",\"Subaru\",\"Subaru\",\"Proton\",\"Proton\",\"Toyota\",\"Proton\",\"Proton\",\"Proton\",\"Proton\",\"Proton\",\"TESLA\",\"TESLA\",\"Perodua\",\"Mercedes-Benz\",\"Mazda\",\"Perodua\",\"Perodua\",\"Ford\",\"Volvo\",\"Hyundai\",\"Volkswagen\",\"Foton\",\"Foton\",\"Chana\",\"Chana\",\"CAM\",\"Volkswagen\",\"CAM\",\"Foton\",\"Foton\",\"Foton\",\"Volkswagen\",\"CAM\",\"Chana\",\"Foton\",\"Foton\",\"CAM\",\"CAM\",\"Foton\",\"Foton\",\"Foton\",\"Chana\",\"Foton\",\"Higer\",\"Foton\",\"Foton\",\"Chana\",\"CAM\",\"Foton\",\"Foton\",\"Chana\",\"Chana\",\"CAM\",\"Chana\",\"Chana\",\"CAM\",\"Foton\",\"Chana\",\"Higer\",\"Higer\",\"Chana\",\"Chana\",\"Foton\",\"Foton\",\"Higer\",\"Higer\",\"Perodua\",\"Perodua\",\"Perodua\",\"Perodua\",\"Nissan\",\"Nissan\",\"Mitsubishi\",\"Hino\",\"Mazda\",\"Perodua\",\"Mitsubishi\",\"Mercedes-Benz\",\"Foton\",\"Chana\",\"Kia\",\"Mazda\",\"Mazda\",\"Mazda\",\"Mazda\",\"Proton\",\"Proton\",\"Mitsubishi\",\"Lexus\",\"Mazda\",\"Toyota\",\"Hino\",\"Hino\",\"Mercedes-Benz\",\"Kia\",\"Mazda\",\"Proton\",\"Mazda\",\"Mitsubishi\",\"Honda\",\"Ford\",\"Proton\",\"Honda\",\"Toyota\",\"Toyota\",\"Nissan\",\"Proton\",\"Proton\",\"Perodua\",\"Toyota\",\"Toyota\",\"Toyota\",\"Daihatsu\",\"Mitsubishi\",\"Mitsubishi\",\"Nissan\",\"Mercedes-Benz\",\"Proton\",\"Perodua\",\"Volvo\",\"Volvo\",\"Volvo\",\"Volvo\",\"Mitsubishi\",\"Perodua\",\"JMC\",\"Kia\",\"Toyota\",\"Toyota\",\"Honda\",\"Mercedes-Benz\",\"Toyota\",\"Mitsubishi\",\"Proton\",\"Nissan\",\"Honda\",\"Isuzu\",\"Ford\",\"Proton\",\"Foton\",\"Chana\",\"Honda\",\"Toyota\",\"Perodua\",\"Perodua\",\"Toyota\",\"Toyota\",\"BMW\",\"Toyota\",\"Proton\",\"Proton\",\"Perodua\",\"Mercedes-Benz\",\"Hino\",\"Honda\",\"Hino\",\"Mazda\",\"Proton\",\"Perodua\",\"Mitsubishi\",\"Proton\",\"Honda\",\"Honda\",\"Honda\",\"Honda\",\"Honda\",\"Honda\",\"Proton\",\"Perodua\",\"Peugeot\",\"Peugeot\",\"Peugeot\",\"Perodua\",\"Mazda\",\"Peugeot\",\"Perodua\",\"Proton\",\"Nissan\",\"Kia\",\"Proton\",\"Toyota\",\"Foton\",\"Foton\",\"Isuzu\",\"Mazda\",\"Perodua\",\"Perodua\",\"Mazda\",\"Isuzu\",\"Proton\",\"Mazda\",\"Mercedes-Benz\",\"Isuzu\",\"Mitsubishi\",\"Foton\",\"Honda\",\"Perodua\",\"Perodua\",\"Perodua\",\"Perodua\",\"Mitsubishi\",\"Honda\",\"Mazda\",\"Mazda\",\"Golden Dragon\",\"Foton\",\"Foton\",\"Foton\"],\"y\":[1694.0,3876.0,1157.0,777.0,1426.0,756.0,892.0,1097.0,446.0,376.0,1018.0,2917.0,2217.0,1406.0,1406.0,2362.0,788.0,1093.0,1694.0,1400.0,1451.0,11134.0,1296.0,1086.0,1172.0,1943.0,1815.0,1136.0,1172.0,1170.0,1157.0,1894.0,773.0,5055.0,1722.0,2104.0,1130.0,1802.0,1143.0,1318.0,1941.0,1605.0,4278.0,3059.0,2450.0,1120.0,1084.0,4146.0,931.0,993.0,1879.0,454.0,1006.0,984.0,997.0,945.0,971.0,961.0,1157.0,2217.0,446.0,376.0,1015.0,1176.0,2930.0,2074.0,2450.0,3059.0,3591.0,1029.0,961.0,974.0,2149.0,1188.0,1390.0,1448.0,1237.0,1512.0,1390.0,1449.0,1241.0,1075.0,1904.0,945.0,1543.0,1750.0,782.0,1776.0,3358.0,2545.0,1690.0,946.0,946.0,1776.0,1309.0,1427.0,1119.0,503.0,1894.0,1170.0,1157.0,949.0,1172.0,944.0,1853.0,376.0,1015.0,1850.0,1606.0,1318.0,1182.0,2398.0,1841.0,3486.0,985.0,3486.0,3591.0,1841.0,2111.0,1751.0,1188.0,1337.0,969.0,4005.0,1852.0,3369.0,1412.0,2190.0,1316.0,1854.0,551.0,765.0,620.0,2411.0,1119.0,1501.0,446.0,1338.0,583.0,1189.0,1613.0,1314.0,1410.0,1326.0,1879.0,1119.0,1119.0,451.0,1006.0,1672.0,1671.0,984.0,972.0,959.0,970.0,1449.0,954.0,1400.0,810.0,948.0,1808.0,583.0,1119.0,1281.0,4614.0,3898.0,3732.0,1831.0,1841.0,1802.0,1210.0,1296.0,2356.0,1295.0,2541.0,3250.0,451.0,980.0,941.0,777.0,1002.0,1875.0,1688.0,2182.0,2012.0,2746.0,1393.0,2461.0,2850.0,1602.0,2655.0,2256.0,1788.0,376.0,1775.0,4251.0,3732.0,6610.0,9190.0,1694.0,946.0,946.0,376.0,445.0,1110.0,905.0,1773.0,2072.0,2175.0,1736.0,1049.0,2061.0,451.0,1670.0,2347.0,1848.0,963.0,433.0,2365.0,3876.0,1393.0,1092.0,738.0,376.0,467.0,2074.0,1281.0,1015.0,376.0,1873.0,1080.0,1121.0,1006.0,1400.0,920.0,1605.0,1110.0,1092.0,1619.0,1064.0,1077.0,1554.0,1141.0,1903.0,952.0,979.0,570.0,1015.0,376.0,1917.0,1106.0,1132.0,2188.0,1400.0,1282.0,979.0,5910.0,814.0,1006.0,1465.0,620.0,1469.0,1149.0,1449.0,1400.0,1400.0,1436.0,966.0,1011.0,905.0,1088.0,1296.0,2930.0,1077.0,1130.0,2133.0,1010.0,1075.0,1859.0,1181.0,975.0,708.0,1296.0,1296.0,938.0,946.0,378.0,946.0,1076.0,1076.0,2165.0,2165.0,2165.0,1076.0,739.0,1168.0,1451.0,957.0,971.0,1811.0,1054.0,1125.0,2430.0,1002.0,989.0,1563.0,1271.0,1271.0,1271.0,428.0,726.0,1258.0,428.0,3835.0,506.0,635.0,1859.0,1723.0,1149.0,1670.0,1595.0,2193.0,2057.0,596.0,5510.0,1812.0,1400.0,2450.0,946.0,946.0,376.0,1015.0,777.0,797.0,695.0,2450.0,2930.0,1400.0,3591.0,1271.0,3486.0,4614.0,1596.0,1320.0,1335.0,2545.0,7519.0,2056.0,1041.0,778.0,1123.0,2165.0,2165.0,712.0,2113.0,1018.0,2178.0,945.0,2074.0,1041.0,1071.0,2191.0,2437.0,2545.0,1320.0,448.0,810.0,804.0,1055.0,1715.0,987.0,1296.0,1204.0,804.0,912.0,810.0,647.0,1006.0,1010.0,440.0,493.0,945.0,797.0,819.0,1865.0,1119.0,1436.0,1320.0,445.0,1400.0,773.0,773.0,773.0,997.0,1292.0,905.0,314.0,714.0,967.0,1210.0,2833.0,1694.0,1449.0,1006.0,998.0,2928.0,1867.0,961.0,1867.0,1893.0,6456.0,1939.0,1666.0,6417.0,3616.0,4614.0,2217.0,2217.0,1894.0,1400.0,1894.0,993.0,1879.0,906.0,1272.0,1272.0,1272.0,2074.0,542.0,946.0,905.0,1210.0,1776.0,2204.0,1006.0,620.0,581.0,5612.0,4614.0,4808.0,5405.0,3616.0,451.0,451.0,451.0,1119.0,1119.0,451.0,1296.0,967.0,1475.0,1400.0,652.0,1400.0,1469.0,1210.0,1605.0,1119.0,1436.0,1320.0,756.0,700.0,503.0,1878.0,1914.0,993.0,998.0,3721.0,4706.0,9190.0,5251.0,6417.0,1919.0,1411.0,3708.0,9179.0,4484.0,6429.0,1763.0,2165.0,1343.0,1632.0,1085.0,2056.0,2056.0,1054.0,1750.0,2191.0,542.0,3416.0,3416.0,2372.0,814.0,1696.0,451.0,2230.0,1750.0,873.0,961.0,2074.0,1697.0,2151.0,980.0,985.0,1208.0,898.0,1011.0,1076.0,1919.0,502.0,1930.0,480.0,1076.0,1400.0,908.0,998.0,697.0,1006.0,773.0,1436.0,2321.0,814.0,1802.0,2839.0,1696.0,1691.0,1579.0,5320.0,1164.0,441.0,1019.0,1488.0,3565.0,979.0,1055.0,1691.0,497.0,446.0,497.0,1119.0,497.0,1785.0,525.0,525.0,841.0,914.0,1014.0,627.0,739.0,805.0,494.0,592.0,673.0,840.0,904.0,975.0,1046.0,979.0,1312.0,1312.0,1119.0,1281.0,519.0,814.0,555.0,814.0,1338.0,4836.0,4836.0,810.0,1296.0,1810.0,935.0,944.0,970.0,920.0,920.0,1175.0,748.0,748.0,612.0,612.0,1110.0,1781.0,1406.0,1406.0,1170.0,1170.0,1162.0,1387.0,1168.0,2183.0,1688.0,2850.0,2362.0,2461.0,2013.0,1400.0,1878.0,2362.0,1788.0,2013.0,1658.0,441.0,1838.0,1841.0,1914.0,1060.0,1400.0,1942.0,2178.0,737.0,1143.0,1378.0,1201.0,981.0,446.0,493.0,1119.0,1119.0,497.0,493.0,555.0,4252.0,2450.0,1010.0,4641.0,3487.0,1942.0,957.0,2360.0,1690.0,1608.0,2545.0,2020.0,2240.0,1812.0,1696.0,941.0,2321.0,810.0,2087.0,1385.0,5510.0,1400.0,1245.0,1228.0,1242.0,1449.0,1449.0,1177.0,1391.0,827.0,1391.0,5419.0,1465.0,1282.0,1653.0,1648.0,598.0,879.0,1761.0,1761.0,1761.0,11913.0,1430.0,1110.0,1430.0,2022.0,3008.0,3591.0,2930.0,2930.0,1006.0,1866.0,2352.0,1001.0,1036.0,1033.0,1157.0,1210.0,736.0,519.0,1210.0,5160.0,5160.0,519.0,1210.0,1210.0,1210.0,583.0,446.0,940.0,794.0,418.0,599.0,794.0,993.0,572.0,920.0,920.0,985.0,2930.0,1110.0,419.0,1535.0,1801.0,1943.0,1639.0,3591.0,1024.0,3486.0,998.0,932.0,1671.0,1412.0,1645.0,919.0,4602.0,1136.0,2074.0,5004.0,1681.0,1891.0,3028.0,789.0,647.0,802.0,5173.0,1513.0,1296.0,3241.0,1055.0,599.0,777.0,972.0,4536.0,3241.0,1176.0,1943.0,777.0,2435.0,1119.0,1400.0,4084.0,627.0,2591.0,1885.0,2139.0,983.0,4614.0,10356.0,1167.0,3941.0,1839.0,979.0,2332.0,3591.0,920.0,920.0,1120.0,2029.0,2850.0,474.0,1469.0,1839.0,7766.0,780.0,441.0,1449.0,1006.0,1110.0,441.0,441.0,3057.0,1403.0,2510.0,1110.0,1110.0,1110.0,1110.0,2500.0,3176.0,3098.0,1322.0,1582.0,1656.0,3098.0,3721.0,807.0,498.0,498.0,542.0,542.0,1080.0,773.0,1815.0,620.0,454.0,920.0,920.0,445.0,1465.0,2015.0,3786.0,441.0,452.0,1935.0,5171.0,6247.0,4484.0,2980.0,743.0,1400.0,1726.0,1268.0,1022.0,1891.0,972.0,5158.0,4458.0,1099.0,9190.0,3732.0,1073.0,1879.0,1513.0,3654.0,1160.0,1048.0,1387.0,1634.0,2191.0,2056.0,1210.0,3384.0,3021.0,542.0,3235.0,3021.0,607.0,1926.0,767.0,574.0,1592.0,1210.0,3358.0,2165.0,2165.0,1776.0,920.0,1469.0,3059.0,1309.0,1271.0,1309.0,1281.0,1167.0,1273.0,441.0,1119.0,1465.0,3680.0,4484.0,3732.0,1119.0,1055.0,1210.0,2512.0,983.0,777.0,1010.0,1296.0,993.0,2318.0,441.0,1905.0,1828.0,1828.0,1055.0,1465.0,1465.0,1465.0,1136.0,1465.0,1136.0,1465.0,1136.0,1136.0,933.0,1556.0,1123.0,1465.0,1475.0,773.0,949.0,949.0,1013.0,1775.0,1400.0,4290.0,2204.0,5327.0,1292.0,1119.0,1281.0,2450.0,2887.0,3059.0,1671.0,993.0,1338.0,959.0,959.0,1210.0,2344.0,1206.0,451.0,6247.0,952.0,1272.0,1140.0,1982.0,2900.0,2056.0,4283.0,3505.0,5060.0,1903.0,1242.0,1359.0,1242.0,1592.0,1359.0,827.0,1171.0,1255.0,1812.0,454.0,920.0,940.0,445.0,827.0,1073.0,2074.0,1776.0,1019.0,1006.0,1904.0,1776.0,1089.0,1120.0,5380.0,1338.0,940.0,933.0,2706.0,2411.0,1359.0,1830.0,1883.0,2191.0,2995.0,3410.0,3021.0,1054.0,1210.0,1750.0,497.0,1608.0,1608.0,3410.0,933.0,1073.0,1296.0,2943.0,2061.0,1878.0,2450.0,438.0,2437.0,3047.0,2191.0,1608.0,1903.0,1210.0,1400.0,1776.0,4149.0,5041.0,1690.0,3591.0,789.0,937.0,873.0,1010.0,773.0,471.0,1022.0,931.0,918.0,1465.0,1527.0,1449.0,1514.0,1055.0,445.0,1943.0,1943.0,2165.0,2074.0,1690.0,2165.0,2376.0,1055.0,1645.0,1400.0,5190.0,2094.0,1247.0,598.0,989.0,989.0,1092.0,1092.0,1393.0,1393.0,1209.0,1002.0,1002.0,987.0,804.0,830.0,2165.0,807.0,945.0,1776.0,777.0,2165.0,1076.0,1253.0,6429.0,6429.0,575.0,1489.0,1105.0,1696.0,9190.0,1488.0,1694.0,4213.0,4862.0,1400.0,4862.0,1640.0,1640.0,3487.0,1400.0,1076.0,756.0,406.0,1312.0,1841.0,570.0,660.0,454.0,1631.0,1883.0,1828.0,1063.0,1002.0,1209.0,989.0,11109.0,989.0,1296.0,5445.0,895.0,5445.0,933.0,1124.0,915.0,4252.0,5158.0,3732.0,1878.0,7260.0,1124.0,1811.0,1403.0,1403.0,1872.0,1256.0,1182.0,1307.0,1318.0,1851.0,1475.0,614.0,1256.0,7390.0,7260.0,1312.0,1619.0,1776.0,2165.0,2376.0,1029.0,941.0,928.0,3266.0,3680.0,4251.0,4458.0,3486.0,3486.0,4808.0,4069.0,2430.0,1175.0,1312.0,1296.0,1281.0,2437.0,2201.0,1111.0,3487.0,2577.0,1006.0,2295.0,3591.0,1785.0,1481.0,1115.0,1875.0,2582.0,3578.0,3732.0,5405.0,1296.0,888.0,1140.0,542.0,1048.0,1400.0,1627.0,1296.0,1691.0,1206.0,1255.0,1506.0,1939.0,1232.0,1296.0,1123.0,1123.0,1400.0,944.0,4808.0,1690.0,827.0,687.0,620.0,1469.0,574.0,1206.0,1036.0,1811.0,454.0,1645.0,1399.0,1522.0,1945.0,1478.0,1361.0,1123.0,2437.0,1296.0,1476.0,1852.0,942.0,520.0,1024.0,1210.0,1007.0,1039.0,1296.0,2269.0,1400.0,1110.0,1904.0,1089.0,2159.0,2545.0,3732.0,6223.0,6741.0,3630.0,1037.0,3059.0,9190.0,493.0,866.0,5405.0,2545.0,959.0,4408.0,1271.0,5055.0,1690.0,2365.0,1812.0,1812.0,1812.0,1929.0,1722.0,1722.0,1929.0,1929.0,1812.0,441.0,1776.0,1048.0,2175.0,1802.0,1711.0,1802.0,1242.0,454.0,1242.0,1391.0,1398.0,3769.0,1281.0,1171.0,1281.0,1132.0,1132.0,1400.0,1436.0,1841.0,445.0,1763.0,2385.0,1400.0,1605.0,1010.0,1605.0,1311.0,3940.0,3486.0,959.0,4069.0,985.0,2191.0,807.0,3718.0,3059.0,2930.0,5121.0,1029.0,3578.0,7623.0,7623.0,7390.0,7260.0,7260.0,2074.0,1688.0,542.0,1316.0,1619.0,1852.0,2151.0,961.0,1749.0,5161.0,3729.0,5457.0,1750.0,1290.0,1290.0,1338.0,1690.0,2190.0,1338.0,1788.0,5300.0,1182.0,4475.0,1290.0,1216.0,512.0,2165.0,1776.0,2511.0,802.0,1010.0,971.0,2284.0,1788.0,2980.0,2383.0,1690.0,1387.0,1281.0,952.0,458.0,452.0,315.0,606.0,1812.0,1296.0,3369.0,4069.0,934.0,497.0,3732.0,4251.0,777.0,516.0,1290.0,2113.0,1080.0,1749.0,1217.0,1400.0,5251.0,18409.0,1825.0,1954.0,1338.0,957.0,483.0,1006.0,1942.0,5056.0,4408.0,497.0,937.0,6610.0,765.0,975.0,2175.0,1296.0,1632.0,1359.0,1359.0,1359.0,5612.0,3745.0,1852.0,4343.0,1387.0,3539.0,3487.0,3539.0,3539.0,4782.0,3745.0,4264.0,670.0,1316.0,4264.0,5042.0,2930.0,1404.0,1074.0,2175.0,1942.0,1282.0,691.0,2450.0,1372.0,1750.0,1750.0,3228.0,1750.0,2372.0,3416.0,1776.0,1400.0,1400.0,1867.0,2175.0,1776.0,1776.0,1566.0,2175.0,1400.0,4408.0,4408.0,503.0,948.0,1290.0,4775.0,1851.0,1024.0,945.0,1172.0,2204.0,3059.0,1296.0,1042.0,1182.0,1344.0,1752.0,2193.0,1387.0,967.0,1011.0,932.0,1776.0,2165.0,2165.0,2165.0,1028.0,493.0,1815.0,2178.0,2383.0,2367.0,1888.0,1528.0,1271.0,2184.0,707.0,1151.0,3656.0,2088.0,2232.0,1320.0,2177.0,979.0,777.0,1010.0,1837.0,2528.0,789.0,629.0,878.0,1037.0,3732.0,804.0,1245.0,804.0,1042.0,948.0,454.0,757.0,968.0,1322.0,467.0,3410.0,2372.0,3416.0,1596.0,1774.0,1322.0,446.0,1776.0,1776.0,1776.0,1773.0,1042.0,1796.0,3721.0,4873.0,1796.0,1663.0,3027.0,2541.0,4614.0,7623.0,4614.0,1840.0,1072.0,4484.0,1114.0,1801.0,1281.0,1188.0,2222.0,1175.0,1137.0,3721.0,1723.0,1862.0,1036.0,1400.0,1400.0,1776.0,3486.0,3486.0,3732.0,1776.0,1296.0,1484.0,5405.0,625.0,4836.0,2967.0,2833.0,2528.0,941.0,5405.0,3745.0,3745.0,5405.0,3745.0,3745.0,5405.0,3745.0,3745.0,5405.0,3745.0,542.0,1670.0,1644.0,555.0,446.0,5405.0,5612.0,1670.0,1696.0,1010.0,1272.0,5431.0,4252.0,4836.0,4187.0,4252.0,2057.0,1901.0,1958.0,1751.0,1188.0,934.0,4263.0,1088.0,1136.0,1617.0,933.0,1042.0,1042.0,1888.0,1272.0,2165.0,2093.0,2165.0,4718.0,4264.0,3291.0,4627.0,1243.0,1346.0,707.0,1151.0,699.0,1552.0,1486.0,1775.0,1545.0,3361.0,959.0,2980.0,5041.0,1141.0,535.0,1006.0,4226.0,4499.0,497.0,613.0,710.0,568.0,464.0,1210.0,1452.0,2222.0,648.0,1436.0,1776.0,5730.0,1042.0,5405.0,3745.0,9190.0,954.0,1439.0,1776.0,1841.0,1296.0,1387.0,1643.0,1093.0,836.0,1123.0,1776.0,1752.0,1281.0,993.0,480.0,596.0,700.0,1154.0,1037.0,1249.0,1541.0,1658.0,1619.0,1684.0,1249.0,1322.0,972.0,941.0,777.0,882.0,1011.0,712.0,2193.0,873.0,1153.0,814.0,946.0,1465.0,7260.0,5315.0,2074.0,3578.0,1904.0,2430.0,583.0,1268.0,1813.0,560.0,1042.0,1055.0,1632.0,1042.0,3485.0,924.0,1110.0,2139.0,1436.0,1119.0,1528.0,1119.0,1436.0,1210.0,1436.0,1776.0,1776.0,570.0,560.0,506.0,1075.0,1423.0,2093.0,1700.0,464.0,1690.0,2157.0,5405.0,5405.0,5612.0,441.0,1271.0,800.0,978.0,1789.0,1400.0,981.0,1006.0,773.0,599.0,1128.0,7260.0,5158.0,4484.0,1271.0,972.0,504.0,1776.0,1776.0,3358.0,972.0,504.0,1115.0,429.0,968.0,1400.0,2295.0,446.0,1723.0,1049.0,1239.0,1750.0,312.0,1123.0,1010.0,4263.0,1213.0,474.0,2450.0,2289.0,1798.0,707.0,599.0,708.0,1724.0,2159.0,895.0,1592.0,1527.0,1258.0,1046.0,963.0,1119.0,2061.0,945.0,1793.0,1423.0,1752.0,1858.0,1037.0,1165.0,1088.0,1243.0,1563.0,3745.0,1075.0,596.0,402.0,836.0,1827.0,4614.0,3616.0,4160.0,981.0,572.0,980.0,1605.0,648.0,2424.0,1296.0,6677.0,451.0,5678.0,2930.0,2204.0,3486.0,3486.0,788.0,451.0,1119.0,1268.0,1119.0,1338.0,1042.0,389.0,807.0,1006.0,5678.0,980.0,1042.0,1042.0,1136.0,4173.0,5056.0,743.0,1322.0,1053.0,797.0,857.0,5262.0,3732.0,2204.0,1475.0,1085.0,1296.0,1632.0,980.0,827.0,1595.0,440.0,2065.0,1901.0,1123.0,1488.0,2157.0,486.0,2074.0,1943.0,2879.0,905.0,5445.0,7260.0,1356.0,1271.0,2398.0,1085.0,5134.0,616.0,441.0,1123.0,7264.0,5449.0,1839.0,1943.0,1750.0,4458.0,4484.0,1605.0,1153.0,1595.0,497.0,1268.0,2074.0,707.0,1151.0,4408.0,4408.0,4538.0,5056.0,1598.0,1141.0,914.0,920.0,3928.0,4641.0,1469.0,1942.0,1942.0,1942.0,1172.0,1685.0,1255.0,1071.0,2091.0,1476.0,882.0,945.0,1890.0,3059.0,1032.0,1722.0,1812.0,5380.0,1137.0,984.0,1151.0,1210.0,972.0,972.0,843.0,1271.0,1115.0,1465.0,3205.0,2450.0,5405.0,5612.0,2193.0,1358.0,493.0,1789.0,1789.0,1789.0,2165.0,2165.0,434.0,1184.0,454.0,1184.0,775.0,810.0,1094.0,1793.0,1094.0,2405.0,1852.0,1852.0,2969.0,4382.0,3928.0,3928.0,1268.0,1926.0,1088.0,1775.0,1943.0,1346.0,1127.0,2079.0,5009.0,5009.0,5216.0,2074.0,3358.0,2165.0,1789.0,1711.0,2204.0,1664.0,1295.0,1182.0,1402.0,1137.0,1400.0,1400.0,2126.0,1566.0,3732.0,5678.0,438.0,1348.0,1400.0,2151.0,1697.0,522.0,1110.0,1646.0,7104.0,2969.0,1271.0,1436.0,2204.0,1436.0,1123.0,498.0,1296.0,1617.0,1271.0,1271.0,1271.0,2193.0,1153.0,1088.0,1789.0,1789.0,3358.0,1789.0,2165.0,2165.0,920.0,4718.0,1595.0,1037.0,1037.0,1812.0,1063.0,1006.0,1149.0,1088.0,1926.0,1036.0,1493.0,5419.0,2930.0,1296.0,3486.0,1049.0,1867.0,713.0,2098.0,1015.0,1175.0,1142.0,3487.0,1788.0,920.0,945.0,945.0,945.0,3486.0,1119.0,1115.0,3850.0,462.0,1210.0,2451.0,2451.0,1221.0,498.0,1663.0,1088.0,1926.0,1036.0,1049.0,1842.0,5575.0,1167.0,1814.0,1219.0,3695.0,3591.0,1128.0,1593.0,1538.0,1684.0,1538.0,1684.0,1593.0,1659.0,503.0,4173.0,804.0,945.0,590.0,5484.0,1535.0,1110.0,1335.0,1400.0,1110.0,979.0,1281.0,4224.0,2191.0,1605.0,1561.0,3358.0,621.0,760.0,766.0,764.0,2165.0,5419.0,497.0,905.0,769.0,1281.0,1281.0,3047.0,1802.0,2165.0,1802.0,1659.0,2917.0,1338.0,933.0,1618.0,945.0,1788.0,2901.0,1032.0,1540.0,1171.0,1050.0,6353.0,5678.0,1372.0,1010.0,4614.0,3616.0,4160.0,5419.0,1037.0,1335.0,1400.0,567.0,1595.0,959.0,622.0,661.0,1119.0,1037.0,945.0,1128.0,1387.0,1632.0,1296.0,1042.0,1943.0,3539.0,1153.0,1296.0,5678.0,1037.0,3047.0,4173.0,5405.0,648.0,4473.0,4252.0,5030.0,5251.0,3721.0,4317.0,1037.0,1400.0,1681.0,3486.0,4614.0,4614.0,303.0,552.0,627.0,5678.0,3047.0,3578.0,3047.0,2203.0,1690.0,2157.0,3369.0,3486.0,460.0,3486.0,1338.0,1188.0,8103.0,7908.0,8362.0,1812.0,1812.0,1812.0,1812.0,592.0,1812.0,434.0,1812.0,648.0,1663.0,941.0,979.0,1296.0,771.0,1024.0,1338.0,1335.0,1037.0,5405.0,1622.0,765.0,700.0,622.0,1102.0,431.0,1037.0,1042.0,5186.0,1335.0,1037.0,1400.0,1243.0,660.0,1801.0,1006.0,1232.0,2930.0,707.0,1151.0,2343.0,773.0,979.0,4016.0,1789.0,1632.0,1880.0,1880.0,451.0,1150.0,1465.0,1037.0,555.0,5171.0,1320.0,4458.0,1372.0,1683.0,497.0,1659.0,1050.0,2204.0,3591.0,2019.0,1335.0,471.0,1119.0,1750.0,1281.0,452.0,1210.0,1722.0,7377.0,668.0,1006.0,756.0,1346.0,983.0,1172.0,2332.0,1028.0,4718.0,4251.0,2980.0,3266.0,3680.0,1502.0,3358.0,3358.0,2165.0,1802.0,1006.0,2201.0,1451.0,2159.0,1624.0,451.0,1722.0,1812.0,2280.0,1296.0,895.0,1037.0,1595.0,1296.0,5251.0,4718.0,1926.0,1243.0,1036.0,1243.0,1775.0,1926.0,4614.0,945.0,4614.0,2917.0,2437.0,20095.0,12951.0,1338.0,739.0,3486.0,451.0,1243.0,2124.0,2154.0,938.0,1042.0,931.0,1815.0,4434.0,555.0,1540.0,812.0,1605.0,1605.0,1605.0,1605.0,1605.0,739.0,620.0,1325.0,1338.0,1229.0,471.0,2437.0,1654.0,542.0,3539.0,497.0,972.0,1901.0,1296.0,2112.0,1088.0,1775.0,1926.0,1853.0,1943.0,7104.0,907.0,836.0,1828.0,956.0,1605.0,933.0,895.0,941.0,2165.0,1802.0,1802.0,1802.0,555.0,9190.0,4252.0,1127.0,7104.0,756.0,1595.0,1102.0,4160.0,941.0,2096.0,1556.0,970.0,2864.0,1582.0,1752.0,493.0,720.0,3578.0,1619.0,1812.0,2193.0,1232.0,1172.0,1136.0,1232.0,1172.0,1232.0,1232.0,1136.0,1172.0,1172.0,1172.0,1136.0,1232.0,1136.0,1232.0,1136.0,1839.0,1232.0,1136.0,1318.0,6353.0,1420.0,428.0,1182.0,2917.0,2930.0,2243.0,5029.0,2658.0,1403.0,1199.0,1837.0,2165.0,2057.0,9190.0,1338.0,1063.0,4550.0,1943.0,1400.0,437.0,2306.0,1411.0,1919.0,1595.0,1136.0,1737.0,1880.0,8155.0,620.0,5445.0,6353.0,1006.0,938.0,708.0,975.0,328.0,473.0,452.0,2169.0,1121.0,8168.0,6353.0,1219.0,4252.0,2658.0,3008.0,1210.0,1320.0,1210.0,3643.0,1232.0,1476.0,777.0,1541.0,1541.0,1372.0,966.0,568.0,971.0,4319.0,5888.0,1566.0,1566.0,1110.0,5445.0,3732.0,2262.0,4173.0,1151.0,707.0,945.0,4408.0,6353.0,1338.0,2074.0,4614.0,3616.0,497.0,3578.0,1722.0,1812.0,1812.0,1812.0,1152.0,2009.0,8168.0,6353.0,4251.0,3732.0,1175.0,4978.0,503.0,4382.0,710.0,542.0,3486.0,3486.0,2901.0,807.0,501.0,459.0,1128.0,882.0,1042.0,777.0,474.0,504.0,2900.0,1799.0,2269.0,1814.0,1049.0,1802.0,1413.0,1413.0,1802.0,451.0,1201.0,954.0,979.0,893.0,975.0,497.0,2112.0,3721.0,4458.0,3578.0,972.0,933.0,933.0,972.0,687.0,1909.0,1320.0,3849.0,1036.0,5678.0,2079.0,570.0,1010.0,882.0,1172.0,1135.0,1135.0,1135.0,1839.0,1669.0,1281.0,1566.0,567.0,1081.0,497.0,945.0,2170.0,1162.0,2091.0,1833.0,1119.0,4797.0,4797.0,1540.0,882.0,1469.0,756.0,1151.0,1346.0,2087.0,735.0,498.0,603.0,764.0,810.0,4978.0,720.0,720.0,2917.0,503.0,1208.0,3021.0,1525.0,1046.0,581.0,1123.0,1267.0,979.0,1403.0,959.0,998.0,581.0,1888.0,5405.0,4160.0,3486.0,972.0,998.0,972.0,998.0,497.0,1210.0,1010.0,1941.0,945.0,778.0,484.0,1153.0,1296.0,3747.0,5095.0,2113.0,1383.0,1606.0,1121.0,1162.0,1102.0,5158.0,843.0,1372.0,557.0,1119.0,762.0,629.0,1141.0,1801.0,4239.0,1119.0,1595.0,2073.0,2073.0,2048.0,1426.0,5678.0,5678.0,4395.0,1059.0,1324.0,1123.0,712.0,1154.0,6015.0,4771.0,5678.0,972.0,1296.0,1189.0,1684.0,3486.0,1296.0,1621.0,1037.0,1037.0,3111.0,777.0,1535.0,1566.0,1535.0,1535.0,1296.0,3578.0,707.0,1151.0,5639.0,3591.0,1256.0,1249.0,1256.0,1249.0,1538.0,1400.0,1072.0,660.0,3472.0,4173.0,1206.0,2528.0,1271.0,4641.0,5639.0,3695.0,1553.0,814.0,814.0,2302.0,2284.0,1488.0,1102.0,778.0,2930.0,952.0,1602.0,4614.0,3059.0,2450.0,1281.0,497.0,4173.0,4173.0,4173.0,4173.0,4173.0,4173.0,5405.0,1171.0,1605.0,1082.0,2269.0,727.0,1617.0,1320.0,3695.0,3824.0,3824.0,1372.0,1750.0,707.0,1906.0,4808.0,3747.0,1631.0,1561.0,1232.0,1527.0,1659.0,1232.0,905.0,905.0,4382.0,1413.0,1646.0,1617.0,645.0,1609.0,1632.0,963.0,1171.0,1685.0,1171.0,1372.0,1372.0,1443.0,1528.0,700.0,1413.0,1413.0,1435.0,1346.0,1082.0,2964.0,1605.0,1039.0,2165.0,1659.0,4330.0,3824.0,2165.0,2165.0,1488.0,1335.0,1528.0,2153.0,1714.0,933.0,1281.0,971.0,1088.0,1519.0,983.0,4718.0,3695.0,3747.0,1582.0,1582.0,1828.0,2411.0,918.0,1450.0,1400.0,1750.0,1511.0,570.0,1569.0,1450.0,1929.0,978.0,611.0,1372.0,1540.0,1488.0,933.0,998.0,972.0,933.0,933.0,1488.0,971.0,998.0,971.0,1488.0,998.0,933.0,1488.0,972.0,933.0,1488.0,998.0,1488.0,1175.0,1904.0,807.0,1109.0,941.0,707.0,777.0,11109.0,952.0,570.0,777.0,5367.0,5704.0,1162.0,1890.0,1060.0,879.0,1736.0,1828.0,1580.0,997.0,952.0,1538.0,972.0,945.0,1443.0,1210.0,1210.0,434.0,2658.0,2681.0,1081.0,590.0,958.0,683.0,2580.0,8414.0,1964.0,1912.0,833.0,972.0,3928.0,1563.0,5056.0,2658.0,2681.0,1462.0,1436.0,1478.0,1307.0,1621.0,1037.0,1621.0,3708.0,1281.0,1832.0,778.0,4550.0,1484.0,778.0,1462.0,1248.0,8284.0,2681.0,2658.0,2658.0,1690.0,1690.0,1484.0,471.0,1595.0,1690.0,1690.0,8673.0,8284.0,1242.0,1232.0,1245.0,5173.0,3734.0,6623.0,1670.0,2917.0,557.0,497.0,1595.0,2204.0,8932.0,4330.0,739.0,5494.0,2074.0,1659.0,1535.0,920.0,5405.0,5612.0,4614.0,959.0,5262.0,681.0,603.0,451.0,607.0,1296.0,656.0,1663.0,1750.0,2269.0,1876.0,3358.0,1758.0,2287.0,1866.0,1866.0,4006.0,1303.0,4136.0,2191.0,8038.0,1595.0,5832.0,4084.0,5709.0,2157.0,4495.0,1426.0,756.0,1535.0,2204.0,1245.0,797.0,715.0,980.0,2980.0,524.0,1943.0,1400.0,503.0,2856.0,4924.0,1645.0,1852.0,427.0,1426.0,9604.0,2178.0,1400.0,1659.0,1841.0,5170.0,1400.0,1400.0,976.0,1037.0,1400.0,2178.0,979.0,1426.0,1476.0,702.0,702.0,1605.0,1488.0,5170.0,8888.0,1050.0,402.0,1258.0,1136.0,1136.0,1136.0,1172.0,1374.0,1153.0,1436.0,977.0,979.0,9983.0,454.0,554.0,523.0,523.0,702.0,611.0,611.0,3047.0,1296.0,4173.0,1037.0,1374.0,1930.0,1683.0,2295.0,1044.0,1945.0,2370.0,2188.0,1335.0,1335.0,2073.0,2073.0,1849.0,1849.0,2125.0,1832.0,1930.0,2190.0,1672.0,854.0,1880.0,1828.0,1967.0,464.0,762.0,1981.0,1037.0,2095.0,1643.0,483.0,758.0,1011.0,2061.0,2076.0,4901.0,1023.0,1348.0,1307.0,2299.0,2244.0,1954.0,2266.0,1710.0,1755.0,1857.0,1866.0,2545.0,1876.0,1981.0,2018.0,4969.0,525.0,1723.0,1566.0,1867.0,1854.0,1608.0,1608.0,1608.0,1608.0,1478.0,3436.0,516.0,1684.0,2061.0,1478.0,1372.0,1478.0,1491.0,1919.0,920.0,1335.0,1491.0,1335.0,725.0,1834.0,723.0,1489.0,2159.0,1735.0,1335.0,738.0,3215.0,1478.0,1491.0,1335.0,1489.0,1489.0,1335.0,516.0,1491.0,699.0,879.0,1491.0,1535.0,1491.0,1535.0,1582.0,3789.0,3663.0,4209.0,1335.0,1190.0,1320.0,525.0,530.0,1348.0,879.0,1828.0,1335.0,1335.0,920.0,402.0,924.0,891.0,1573.0,928.0,1722.0,1722.0,1348.0,1348.0,920.0,1696.0,1838.0,1348.0,1010.0,1838.0,857.0,1958.0,2697.0,1696.0,1071.0,3137.0,5105.0,4969.0,2565.0,4399.0,5104.0,3003.0,1565.0,1880.0,1867.0,1761.0,946.0,1608.0,1491.0,1491.0,1335.0,1478.0,1491.0,1335.0,1335.0,972.0,1593.0,4753.0,1491.0,1335.0,1491.0,1335.0,963.0,530.0,1216.0,959.0,1736.0,1258.0,908.0,908.0,892.0,2113.0,1722.0,2091.0,1994.0,882.0,1595.0,1011.0,879.0,1193.0,1219.0,1770.0,882.0,1582.0,892.0,1283.0,1374.0,843.0,927.0,933.0,2645.0,933.0,933.0,933.0,933.0,942.0,1037.0,932.0,1867.0,1335.0,1335.0,1335.0,450.0,3760.0,1400.0,1400.0,1400.0,1400.0,1400.0,3745.0,2850.0,1891.0,1891.0,1891.0,1891.0,1891.0,1891.0,4173.0,3745.0,4808.0,3745.0,4149.0,2881.0,2593.0,5579.0,4926.0,4926.0,4926.0,4926.0,4926.0,4926.0,4084.0,4084.0,4084.0,4084.0,4084.0,4084.0,4084.0,4084.0,4084.0,4084.0,4084.0,4084.0,3876.0,3876.0,3876.0,3876.0,3876.0,3876.0,3369.0,3369.0,3369.0,2850.0,3654.0,3421.0,2850.0,2850.0,2850.0,1891.0,5445.0,1841.0,2188.0,1841.0,1781.0,1781.0,1781.0,1781.0,1781.0,1841.0,1781.0,1841.0,1781.0,1781.0,1781.0,1841.0,5612.0,4667.0,3760.0,1400.0,1400.0,5808.0,1400.0,1697.0,1554.0,2838.0,2383.0,1788.0,1724.0,5808.0,5808.0,1271.0,1919.0,2175.0,2175.0,2175.0,2175.0,2175.0,1942.0,1942.0,1942.0,1942.0,1942.0,714.0,1554.0,2073.0,1685.0,2982.0,2383.0,1880.0,2269.0,1685.0,5520.0,1743.0,2013.0,1111.0,714.0,714.0,4408.0,4408.0,4408.0,4408.0,4408.0,4408.0,4408.0,4408.0,4408.0,4408.0,4408.0,1724.0,1750.0,736.0,5004.0,1271.0,1245.0,1602.0,4732.0,3757.0,3734.0,1128.0,6223.0,3708.0,2980.0,3369.0,5419.0,1037.0,1037.0,1335.0,1335.0,1037.0,1037.0,1400.0,8284.0,892.0,892.0,625.0,1232.0,1296.0,905.0,4628.0,4550.0,905.0,1462.0,1151.0,1125.0,1543.0,4732.0,3824.0,3824.0,1400.0,1164.0,905.0,1407.0,4836.0,2383.0,1136.0,1136.0,1136.0,1172.0,1172.0,1839.0,1839.0,1839.0,1839.0,1749.0,1110.0,1624.0,1311.0,1596.0,1428.0,1505.0,537.0,1460.0,1201.0,3824.0,3235.0,5004.0,503.0,1281.0,1112.0,1743.0,4797.0,4797.0,4797.0,4797.0,4797.0,4797.0,4797.0,4797.0,4797.0,4797.0,4797.0,5056.0,5056.0,5056.0,4732.0,5160.0,1311.0,1154.0,1596.0,1596.0,620.0,1596.0,1201.0,897.0,1505.0,1311.0,1596.0,6469.0,1193.0,1658.0,735.0,683.0,1428.0,748.0,1428.0,1505.0,897.0,537.0,7779.0,3902.0,5056.0,5056.0,5056.0,4797.0,4797.0,4797.0,4797.0,4797.0,4797.0,4797.0,4797.0,4797.0,4797.0,4797.0,4797.0,4797.0,4797.0,4797.0,4797.0,4797.0,4797.0,1372.0,1828.0,2022.0,1815.0,3369.0,537.0,897.0,1002.0,1228.0,814.0,807.0,503.0,1731.0,2980.0,5523.0,5964.0,1854.0,8440.0,8310.0,8310.0,1582.0,446.0,1272.0,1368.0,1596.0,1272.0,1428.0,1596.0,7779.0,3914.0,1943.0,6015.0,2371.0,2074.0,1659.0,6623.0,5832.0,3708.0,3876.0,2681.0,2850.0,1258.0,1258.0,1258.0,1258.0,1400.0,491.0,4019.0,1815.0,1815.0,1400.0,1400.0,1400.0,1400.0,1400.0,1400.0,1815.0,1400.0,1400.0,1258.0,1200.0,1754.0,1646.0,491.0,448.0,1272.0,7882.0,3708.0,3708.0,491.0,1272.0,1428.0,2007.0,6067.0,2302.0,2411.0,3567.0,1400.0,2139.0,2139.0,1815.0,1815.0,4926.0,1371.0,2107.0,2112.0,2107.0,1683.0,2628.0,2178.0,2178.0,2178.0,2332.0,1841.0,1841.0,1841.0,2107.0,1605.0,419.0,1400.0,1672.0,1841.0,2178.0,905.0,2783.0,1863.0,2284.0,3205.0,2053.0,2512.0,1014.0,1014.0,841.0,841.0,914.0,914.0,2434.0,1809.0,1443.0,1528.0,1117.0,2140.0,775.0,464.0,1229.0,529.0,594.0,1605.0,1605.0,9062.0,2706.0,1685.0,419.0,1788.0,1317.0,1605.0,1967.0,1758.0,417.0,652.0,892.0,1180.0,1887.0,1570.0,448.0,968.0,1566.0,1789.0,477.0,477.0,458.0,458.0,506.0,506.0,506.0,506.0,651.0,651.0,791.0,643.0,954.0,885.0,825.0,981.0,981.0,954.0,885.0,825.0,791.0,643.0,1215.0,1590.0,1465.0,805.0,620.0,1605.0,1605.0,454.0,3720.0,1293.0,1758.0,1903.0,1867.0,1694.0,1606.0,1606.0,1606.0,1979.0,1606.0,1606.0,1606.0,2279.0,1606.0,1606.0,544.0,1491.0,1335.0,1335.0,1867.0,904.0,904.0,797.0,797.0,797.0,797.0,946.0,2982.0,2383.0,1793.0,1906.0,1696.0,2117.0,2968.0,1539.0,648.0,1296.0,957.0,1296.0,739.0,3059.0,1553.0,2009.0,620.0,555.0,777.0,1694.0,1879.0,993.0,3486.0,2074.0,4615.0,5055.0,933.0,687.0,9061.0,574.0,2204.0,941.0,941.0,941.0,777.0,777.0,777.0,1676.0,777.0,777.0,777.0,777.0,777.0,1338.0,777.0,777.0,964.0,2149.0,2383.0,1588.0,4667.0,2461.0,1828.0,1465.0,451.0,1423.0,1142.0,1853.0,1210.0,1063.0,2157.0,3769.0,620.0,940.0,2209.0,1033.0,1101.0,1373.0,1681.0,1681.0,1681.0,2891.0,1681.0,1681.0,2152.0,1681.0,1681.0,1681.0,1681.0,1681.0,1296.0,1681.0,1982.0,1296.0,1681.0,1554.0,1055.0,1110.0,3241.0,5095.0,5056.0,454.0,4926.0,4316.0,4926.0,4084.0,3876.0,4926.0,4084.0,4084.0,4084.0,4084.0,3876.0,4084.0,3876.0,498.0,467.0,467.0,998.0,1296.0,3875.0,11109.0,9190.0,1915.0,2022.0,2398.0,1696.0,1883.0,1883.0,2833.0,1961.0,1799.0,1474.0,1465.0,1883.0,1883.0,1883.0,1883.0,1475.0,1798.0,1799.0,1883.0,1961.0,1960.0,1475.0,1883.0,1883.0,1883.0,1883.0,1883.0,955.0,1506.0,1178.0,1697.0,959.0,1939.0,1939.0,1939.0,1939.0,1296.0,1878.0,1002.0,1281.0,1154.0,2074.0,464.0,503.0,1201.0,1294.0,451.0,814.0,1119.0,1428.0,5510.0,1118.0,1949.0,1296.0,620.0,3358.0,1225.0,1225.0,1225.0,1023.0,3358.0,967.0,4032.0,1374.0,1080.0,1387.0,1943.0,2074.0,5186.0,4382.0,1359.0,2061.0,1290.0,1308.0,2061.0,1943.0,1290.0,1290.0,1210.0,2125.0,1593.0,1566.0,497.0,687.0,975.0,1006.0,878.0,451.0,807.0,1006.0,1426.0,1359.0,2204.0,2074.0,2074.0,1290.0,1164.0,1290.0,707.0,1151.0,570.0,454.0,1258.0,556.0,762.0,4149.0,3786.0,1788.0,1867.0,1037.0,1102.0,1037.0,778.0,1387.0,723.0,1127.0,1080.0,1506.0,803.0,810.0,5223.0,1063.0,1037.0,1175.0,1943.0,1775.0,1690.0,940.0,4252.0,5004.0,762.0,1296.0,1387.0,1320.0,3745.0,1210.0,1411.0,1451.0,1814.0,3745.0,2149.0,2149.0,4771.0,1808.0,789.0,1217.0,1605.0,445.0,1225.0,1225.0,1290.0,1569.0,1281.0,3604.0,428.0,428.0,445.0,5315.0,4421.0,7260.0,5212.0,5445.0,3786.0,2143.0,4408.0,4408.0,4408.0,4408.0,4408.0,4408.0,4408.0,4408.0,4408.0,4408.0,4408.0,4408.0,4641.0,6247.0,15557.0,777.0,1038.0,1605.0,1010.0,1361.0,1605.0,4382.0,3591.0,2450.0,2074.0,945.0,4631.0,2450.0,3953.0,3953.0,1346.0,5222.0,1387.0,939.0,1320.0,756.0,2235.0,6610.0,2930.0,3059.0,3369.0,1228.0,451.0,761.0,1142.0,2437.0,758.0,1788.0,1788.0,1225.0,1225.0,6610.0,3927.0,4199.0,4458.0,788.0,1752.0,1752.0,4264.0,1042.0,1281.0,4447.0,497.0,873.0,751.0,497.0,1801.0,2261.0,652.0,1119.0,1827.0,4458.0,1085.0,428.0,739.0,1002.0,1893.0,1217.0,1281.0,1281.0,1296.0,603.0,2100.0,1478.0,713.0,1271.0,1042.0,1556.0,1232.0,1282.0,2048.0,1815.0,1685.0,2009.0,1272.0,1201.0,1262.0,1019.0,1775.0,1090.0,1232.0,1906.0,1042.0,1210.0,1436.0,1436.0,1596.0,2463.0,2433.0,1645.0,2204.0,1372.0,6353.0,2204.0,1154.0,1142.0,1142.0,376.0,723.0,1142.0,376.0,1281.0,712.0,454.0,1372.0,1255.0,775.0,1110.0,1742.0,596.0,1653.0,765.0,490.0,557.0,5964.0,5704.0,3954.0,2061.0,2061.0,1271.0,1271.0,739.0,1271.0,1271.0,542.0,941.0,2917.0,810.0,1042.0,460.0,5910.0,4356.0,1906.0,1055.0,1437.0,3474.0,1255.0,1372.0,1373.0,1314.0,1515.0,1042.0,1854.0,957.0,941.0,802.0,474.0,786.0,415.0,2930.0,1217.0,3059.0,1387.0,1129.0,2209.0,1281.0,5262.0,451.0,11109.0,620.0,1119.0,6429.0,6610.0,1184.0,452.0,1042.0,1605.0,2969.0,2136.0,5184.0,860.0,1749.0,1006.0,957.0,941.0,1722.0,1119.0,1759.0,1382.0,1645.0,3096.0,22091.0,1506.0,1926.0,1853.0,1346.0,1693.0,1943.0,1775.0,555.0,504.0,1024.0,1197.0,1115.0,1296.0,1037.0,1128.0,1050.0,1064.0,1937.0,454.0,2193.0,2193.0,2193.0,2193.0,2193.0,2193.0,1367.0,3665.0,1296.0,1608.0,4808.0,1210.0,1698.0,3021.0,1119.0,620.0,1659.0,503.0,788.0,1281.0,2013.0,425.0,497.0,926.0,2191.0,2204.0,4200.0,4200.0,4162.0,4628.0,5445.0,5134.0,5134.0,564.0,4200.0,4200.0,4278.0,4550.0,5186.0,5134.0,5134.0,5134.0,5134.0,5445.0,4550.0,4421.0,4810.0,4278.0,4356.0,3760.0,4200.0,4200.0,8168.0,3837.0,2865.0,3915.0,6353.0,6223.0,3837.0,2865.0,3915.0,3915.0,3915.0,1058.0,607.0,3047.0,2191.0,5251.0,1318.0,979.0,1534.0,1880.0,1919.0,769.0,2365.0,2157.0,1736.0,769.0,3940.0,3732.0,1210.0,1145.0,2980.0,1690.0,1812.0,1272.0,807.0,9190.0,491.0,5004.0,1658.0,1878.0,3630.0,945.0,1180.0,1167.0,962.0,1124.0,1119.0,1320.0,957.0,1006.0,5262.0,2193.0,2161.0,2969.0,1119.0,2191.0,1088.0,2250.0,1933.0,3486.0,4614.0,1617.0,6067.0,454.0,497.0,4797.0,4797.0,4797.0,4797.0,4797.0,4718.0,1605.0,1320.0,4797.0,4797.0,4797.0,4797.0,4797.0,4797.0,4797.0,1296.0,5056.0,5056.0,5056.0,5056.0,1849.0,945.0,501.0,1138.0,4512.0,5418.0,2144.0,7377.0,5418.0,1119.0,2332.0,707.0,484.0,1243.0,756.0,945.0,1281.0,2917.0,451.0,2309.0,1958.0,1646.0,1272.0,949.0,1036.0,1049.0,460.0,460.0,460.0,1741.0,460.0,3824.0,1387.0,2204.0,1602.0,804.0,506.0,1281.0,1318.0,1595.0,1488.0,1801.0,1271.0,1059.0,1059.0,1595.0,972.0,1683.0,972.0,2139.0,1595.0,1683.0,1683.0,570.0,857.0,1346.0,1593.0,1085.0,1198.0,3889.0,1346.0,1006.0,933.0,979.0,14261.0,1232.0,5510.0,3695.0,4732.0,5251.0,946.0,2930.0,5160.0,4264.0,780.0,1208.0,1281.0,497.0,1136.0,557.0,4160.0,1002.0,1085.0,1085.0,441.0,1199.0,625.0,1683.0,2193.0,814.0,1752.0,1296.0,620.0,1538.0,799.0,1906.0,451.0,4264.0,1151.0,707.0,4162.0,8038.0,4084.0,4499.0,5627.0,3486.0,490.0,2450.0,5056.0,5056.0,4797.0,4797.0,4797.0,4797.0,4797.0,4797.0,4797.0,4797.0,497.0,814.0,497.0,1605.0,4797.0,4797.0,4797.0,4797.0,4797.0,4797.0,5056.0,5056.0,4797.0,4797.0,9723.0,807.0,3591.0,8038.0,612.0,497.0,5419.0,1606.0,1880.0,1632.0,1387.0,1085.0,2930.0,1037.0,1102.0,1296.0,1621.0,1102.0,1037.0,1037.0,941.0,3047.0,2191.0,2230.0,2437.0,1672.0,451.0,441.0,2826.0,3591.0,975.0,878.0,975.0,807.0,5445.0,2263.0,1383.0,3591.0,1037.0,1828.0,1605.0,1605.0,4264.0,1888.0,1563.0,3237.0,992.0,743.0,743.0,1566.0,777.0,3552.0,1232.0,2124.0,1659.0,2124.0,1694.0,1694.0,3552.0,503.0,1396.0,1359.0,497.0,743.0,5445.0,1540.0,1228.0,998.0,971.0,998.0,998.0,1488.0,629.0,971.0,998.0,503.0,620.0,503.0,814.0,2980.0,569.0,1645.0,1296.0,971.0,971.0,971.0,971.0,971.0,971.0,933.0,751.0,972.0,1232.0,1232.0,638.0,2917.0,2191.0,972.0,1688.0,2437.0,2191.0,1496.0,1426.0,3338.0,2160.0,1592.0,5380.0,1488.0,570.0,1605.0,1605.0,1217.0,1368.0,1463.0,4123.0,466.0,569.0,972.0,1943.0,777.0,2332.0,1694.0,570.0,1089.0,1153.0,1115.0,1271.0,1037.0,4134.0,801.0,1387.0,976.0,1041.0,8284.0,810.0,1064.0,1225.0,979.0,2567.0,5367.0,1163.0,1436.0,4264.0,5042.0,1556.0,1788.0,1893.0,810.0,3578.0,3898.0,1943.0,777.0,4956.0,1272.0,941.0,4264.0,5199.0,1872.0,1036.0,1267.0,5549.0,4239.0,2593.0,5627.0,2852.0,5964.0,5321.0,1133.0,5808.0,1133.0,547.0,979.0,2450.0,3059.0,2593.0,2852.0,570.0,5704.0,5549.0,5549.0,3486.0,2256.0,2980.0,2057.0,1872.0,1377.0,5481.0,1108.0,1167.0,1346.0,3047.0,2449.0,1469.0,581.0,1670.0,1752.0,691.0,1727.0,2193.0,2332.0,1905.0,1901.0,1901.0,691.0,491.0,1316.0,5264.0,607.0,1659.0,834.0,775.0,498.0,1172.0,814.0,1080.0,1631.0,1645.0,1316.0,1150.0,1109.0,707.0,1136.0,1727.0,3907.0,1057.0,1060.0,1031.0,2332.0,2332.0,419.0,1063.0,2256.0,2256.0,2366.0,1049.0,497.0,1036.0,1189.0,1400.0,1400.0,1400.0,1400.0,1296.0,1400.0,586.0,1814.0,2364.0,895.0,1296.0,1283.0,1296.0,1296.0,1320.0,1127.0,1605.0,1514.0,691.0,652.0,574.0,503.0,503.0,905.0,1605.0,535.0,1670.0,1514.0,1189.0,1750.0,466.0,6599.0,5251.0,22039.0,2317.0,1801.0,2254.0,1750.0,1752.0,19835.0,570.0,1114.0,810.0,428.0,765.0,814.0,447.0,1443.0,1119.0,3059.0,1605.0,1436.0,905.0,814.0,1232.0,1908.0,3358.0,1909.0,1601.0,1933.0,1909.0,2308.0,1917.0,3980.0,1057.0,486.0,1450.0,2332.0,2256.0,1737.0,555.0,1108.0,1621.0,1167.0,2191.0,810.0,5445.0,1605.0,5171.0,2425.0,933.0,2256.0,1617.0,2329.0,621.0,1400.0,933.0,2969.0,1488.0,462.0,2930.0,1054.0,1296.0,2365.0,1672.0,1123.0,2423.0,503.0,743.0,1608.0,1210.0,648.0,3591.0,2203.0,1788.0,542.0,2191.0,1216.0,1083.0,1083.0,1645.0,480.0,2398.0,480.0,480.0,2398.0,2401.0,480.0,2193.0,2398.0,1272.0,620.0,3369.0,3188.0,620.0,620.0,1608.0,2489.0,1281.0,1943.0,1088.0,1683.0,652.0,691.0,756.0,1296.0,1535.0,1654.0,1049.0,4069.0,1670.0,1469.0,1670.0,581.0,5262.0,1338.0,1672.0,994.0,1783.0,1420.0,376.0,814.0,1236.0,577.0,419.0,1436.0,2013.0,1400.0,1901.0,1506.0,1901.0,1466.0,1665.0,4251.0,1930.0,1296.0,4458.0,9061.0,446.0,814.0,1504.0,583.0,650.0,3591.0,1119.0,607.0,3120.0,1400.0,555.0,905.0,1672.0,2243.0,2204.0,574.0,620.0,503.0,1167.0,1746.0,497.0,1014.0,1109.0,707.0,4391.0,1839.0,1488.0,2852.0,777.0,1321.0,1296.0,514.0,5262.0,1316.0,708.0,1296.0,1582.0,1773.0,4718.0,1281.0,1992.0,1699.0,1281.0,446.0,451.0,1027.0,1478.0,1750.0,905.0,4484.0,607.0,2138.0,451.0,555.0,1475.0,1217.0,1027.0,2073.0,751.0,5678.0,1854.0,2720.0,621.0,497.0,1060.0,1060.0,5262.0,1071.0,2321.0,807.0,1153.0,1153.0,1296.0,1119.0,1049.0,1736.0,4627.0,2720.0,907.0,435.0,2463.0,1247.0,1954.0,600.0,934.0,1720.0,1296.0,644.0,607.0,1724.0,10497.0,1854.0,458.0,1296.0,1296.0,2437.0,1172.0,1825.0,1863.0,1281.0,1272.0,2309.0,1296.0,1296.0,514.0,1346.0,1360.0,1653.0,1296.0,1296.0,2087.0,2437.0,23607.0,3266.0,623.0,2450.0,3059.0,4588.0,3940.0,957.0,975.0,1560.0,1232.0,1839.0,5262.0,882.0,1296.0,620.0,1296.0,1595.0,1605.0,600.0,1379.0,2176.0,2339.0,775.0,1423.0,1945.0,1828.0,454.0,796.0,2436.0,1258.0,1036.0,1334.0,777.0,4239.0,1786.0,1760.0,1851.0,1346.0,1517.0,493.0,898.0,1071.0,3027.0,2384.0,2256.0,678.0,1696.0,898.0,1256.0,1593.0,782.0,1696.0,2034.0,2450.0,581.0,2191.0,607.0,2061.0,1180.0,1226.0,1175.0,814.0,2332.0,3591.0,1338.0,1569.0,446.0,1904.0,707.0,1006.0,2995.0,1281.0,583.0,778.0,1727.0,2852.0,581.0,497.0,4017.0,5712.0,5219.0,5142.0,3954.0,2409.0,490.0,622.0,622.0,3047.0,1296.0,2204.0,2204.0,2134.0,1690.0,797.0,1113.0,1282.0,1282.0,1282.0,1282.0,1282.0,581.0,1164.0,1488.0,564.0,564.0,1176.0,1010.0,2191.0,2191.0,493.0,1387.0,1272.0,454.0,1469.0,581.0,2980.0,503.0,41356.0,5262.0,814.0,1697.0,2450.0,1011.0,2204.0,980.0,1688.0,1663.0,957.0,1815.0,800.0,759.0,547.0,1175.0,1188.0,2222.0,1954.0,1175.0,1338.0,1255.0,572.0,1659.0,1926.0,1815.0,932.0,2450.0,1684.0,2321.0,998.0,1438.0,1002.0,1019.0,1111.0,450.0,1243.0,1839.0,1190.0,1475.0,922.0,969.0,1852.0,756.0,3338.0,458.0,1932.0,1151.0,1346.0,2284.0,1672.0,1724.0,2995.0,1089.0,1255.0,1255.0,1560.0,1656.0,707.0,1006.0,1570.0,5158.0,1322.0,869.0,1423.0,810.0,555.0,1255.0,1754.0,2232.0,2511.0,1400.0,2136.0,1469.0,1132.0,1694.0,1167.0,2332.0,2047.0,4997.0,1296.0,1400.0,1901.0,1506.0,1255.0,1605.0,573.0,3578.0,2282.0,3059.0,620.0,2204.0,1632.0,1880.0,2204.0,2917.0,1763.0,925.0,1854.0,1440.0,2059.0,1338.0,1338.0,1010.0,765.0,882.0,972.0,945.0,941.0,947.0,504.0,912.0,1906.0,2243.0,1027.0,1699.0,1605.0,708.0,775.0,775.0,1208.0,14033.0,1798.0,4978.0,1750.0,2204.0,1748.0,1763.0,2164.0,1175.0,1683.0,4978.0,1595.0,2243.0,4997.0,2437.0,2243.0,2204.0,2134.0,2863.0,2048.0,717.0,1750.0,464.0,594.0,516.0,659.0,581.0,503.0,1901.0,707.0,451.0,769.0,2190.0,1255.0,782.0,1917.0,1151.0,1346.0,1752.0,1255.0,979.0,454.0,941.0,1488.0,707.0,1838.0,608.0,620.0,2112.0,1763.0,707.0,1006.0,1943.0,2826.0,1311.0,1346.0,1272.0,1663.0,3205.0,9061.0,1338.0,1469.0,1400.0,1763.0,2193.0,542.0,1504.0,1038.0,504.0,1582.0,1109.0,1294.0,1181.0,3047.0,530.0,1798.0,2366.0,1754.0,1797.0,1797.0,5056.0,1815.0,1697.0,1271.0,1271.0,1271.0,1255.0,529.0,1798.0,568.0,1386.0,1469.0,2177.0,2089.0,2125.0,1930.0,1683.0,1348.0,641.0,1193.0,1271.0,1245.0,1271.0,1361.0,1190.0,980.0,1491.0,1216.0,932.0,717.0,717.0,843.0,717.0,932.0,1592.0,609.0,1592.0,707.0,2332.0,2331.0,869.0,869.0,1348.0,493.0,1400.0,1309.0,1699.0,4484.0,1670.0,999.0,1228.0,1058.0,1945.0,1798.0,542.0,1232.0,1569.0,2528.0,2243.0,1631.0,1798.0,4458.0,1153.0,1943.0,957.0,2437.0,555.0,1119.0,598.0,1798.0,3235.0,1640.0,1495.0,668.0,1145.0,1293.0,1346.0,1236.0,3940.0,1724.0,2541.0,1645.0,1006.0,707.0,1387.0,2545.0,2512.0,2282.0,8168.0,1605.0,1748.0,1387.0,1801.0,1801.0,1663.0,1663.0,1798.0,1798.0,3954.0,458.0,1684.0,972.0,777.0,2365.0,777.0,775.0,866.0,866.0,4278.0,1605.0,2980.0,1798.0,1798.0,1798.0,972.0,777.0,972.0,594.0,4473.0,1619.0,1412.0,1488.0,1652.0,1217.0,3047.0,5043.0,1943.0,1120.0,991.0,1458.0,1844.0,950.0,2190.0,1172.0,451.0,464.0,495.0,817.0,661.0,1281.0,1400.0,1476.0,777.0,707.0,707.0,1006.0,1469.0,1478.0,1901.0,1888.0,1123.0,1653.0,1387.0,1136.0,1072.0,1132.0,2125.0,777.0,952.0,777.0,1271.0,1172.0,454.0,882.0,1049.0,1711.0,1933.0,1803.0,1569.0,1058.0,1956.0,1049.0,972.0,1049.0,1110.0,1232.0,1232.0,1387.0,1006.0,1694.0,1015.0,1123.0,1320.0,472.0,567.0,309.0,2190.0,2073.0,1566.0,743.0,691.0,620.0,1798.0,1153.0,620.0,775.0,503.0,1450.0,1165.0,1841.0,1841.0,598.0,1648.0,1153.0,830.0,659.0,840.0,620.0,710.0,5419.0,5419.0,451.0,5262.0,2461.0,777.0,882.0,1400.0,5521.0,1942.0,2067.0,1164.0,1216.0,694.0,756.0,1216.0,2658.0,1229.0,1216.0,1659.0,1006.0,3317.0,1229.0,707.0,1006.0,1294.0,1916.0,1281.0,1346.0,1216.0,1151.0,707.0,1750.0,1901.0,1906.0,1346.0,756.0,1281.0,1346.0,1750.0,732.0,756.0,1229.0,694.0,732.0,1864.0,1906.0,756.0,1901.0,1901.0,756.0,758.0,1906.0,1346.0,1901.0,1901.0,777.0,938.0,870.0,570.0,1049.0,1943.0,1387.0,1311.0,2088.0,309.0,1645.0,3654.0,1006.0,707.0,3436.0,1849.0,1595.0,1788.0,1785.0,583.0,556.0,1255.0,3240.0,2017.0,1569.0,1567.0,1827.0,4281.0,2546.0,2139.0,1208.0,1343.0,1535.0,1687.0,1426.0,1514.0,1685.0,1060.0,1060.0,1049.0,594.0,503.0,813.0,1006.0,957.0,1272.0,493.0,1255.0,1255.0,1239.0,9061.0,529.0,777.0,4095.0,5510.0,4069.0,4743.0,1535.0,810.0,1282.0,2541.0,1089.0,1089.0,920.0,5171.0,1383.0,1325.0,659.0,1563.0,1669.0,1288.0,1426.0,425.0,1006.0,707.0,1159.0,1688.0,810.0,777.0,1228.0,1232.0,6467.0,1232.0,1608.0,1099.0,762.0,4850.0,2086.0,1267.0,2060.0,1867.0,775.0,777.0,1888.0,581.0,2430.0,1694.0,1954.0,1110.0,2430.0,1954.0,891.0,984.0,2165.0,1718.0,2157.0,854.0,2139.0,2398.0,570.0,1217.0,1943.0,2541.0,503.0,1232.0,1006.0,1006.0,1420.0,1854.0,938.0,1006.0,1711.0,1582.0,1217.0,2087.0,5158.0,1156.0,1901.0,1006.0,1947.0,430.0,643.0,906.0,980.0,1888.0,1105.0,2900.0,2511.0,1919.0,1750.0,1346.0,1102.0],\"type\":\"box\",\"xaxis\":\"x2\",\"yaxis\":\"y2\"}],                        {\"template\":{\"data\":{\"bar\":[{\"error_x\":{\"color\":\"#2a3f5f\"},\"error_y\":{\"color\":\"#2a3f5f\"},\"marker\":{\"line\":{\"color\":\"#E5ECF6\",\"width\":0.5},\"pattern\":{\"fillmode\":\"overlay\",\"size\":10,\"solidity\":0.2}},\"type\":\"bar\"}],\"barpolar\":[{\"marker\":{\"line\":{\"color\":\"#E5ECF6\",\"width\":0.5},\"pattern\":{\"fillmode\":\"overlay\",\"size\":10,\"solidity\":0.2}},\"type\":\"barpolar\"}],\"carpet\":[{\"aaxis\":{\"endlinecolor\":\"#2a3f5f\",\"gridcolor\":\"white\",\"linecolor\":\"white\",\"minorgridcolor\":\"white\",\"startlinecolor\":\"#2a3f5f\"},\"baxis\":{\"endlinecolor\":\"#2a3f5f\",\"gridcolor\":\"white\",\"linecolor\":\"white\",\"minorgridcolor\":\"white\",\"startlinecolor\":\"#2a3f5f\"},\"type\":\"carpet\"}],\"choropleth\":[{\"colorbar\":{\"outlinewidth\":0,\"ticks\":\"\"},\"type\":\"choropleth\"}],\"contour\":[{\"colorbar\":{\"outlinewidth\":0,\"ticks\":\"\"},\"colorscale\":[[0.0,\"#0d0887\"],[0.1111111111111111,\"#46039f\"],[0.2222222222222222,\"#7201a8\"],[0.3333333333333333,\"#9c179e\"],[0.4444444444444444,\"#bd3786\"],[0.5555555555555556,\"#d8576b\"],[0.6666666666666666,\"#ed7953\"],[0.7777777777777778,\"#fb9f3a\"],[0.8888888888888888,\"#fdca26\"],[1.0,\"#f0f921\"]],\"type\":\"contour\"}],\"contourcarpet\":[{\"colorbar\":{\"outlinewidth\":0,\"ticks\":\"\"},\"type\":\"contourcarpet\"}],\"heatmap\":[{\"colorbar\":{\"outlinewidth\":0,\"ticks\":\"\"},\"colorscale\":[[0.0,\"#0d0887\"],[0.1111111111111111,\"#46039f\"],[0.2222222222222222,\"#7201a8\"],[0.3333333333333333,\"#9c179e\"],[0.4444444444444444,\"#bd3786\"],[0.5555555555555556,\"#d8576b\"],[0.6666666666666666,\"#ed7953\"],[0.7777777777777778,\"#fb9f3a\"],[0.8888888888888888,\"#fdca26\"],[1.0,\"#f0f921\"]],\"type\":\"heatmap\"}],\"heatmapgl\":[{\"colorbar\":{\"outlinewidth\":0,\"ticks\":\"\"},\"colorscale\":[[0.0,\"#0d0887\"],[0.1111111111111111,\"#46039f\"],[0.2222222222222222,\"#7201a8\"],[0.3333333333333333,\"#9c179e\"],[0.4444444444444444,\"#bd3786\"],[0.5555555555555556,\"#d8576b\"],[0.6666666666666666,\"#ed7953\"],[0.7777777777777778,\"#fb9f3a\"],[0.8888888888888888,\"#fdca26\"],[1.0,\"#f0f921\"]],\"type\":\"heatmapgl\"}],\"histogram\":[{\"marker\":{\"pattern\":{\"fillmode\":\"overlay\",\"size\":10,\"solidity\":0.2}},\"type\":\"histogram\"}],\"histogram2d\":[{\"colorbar\":{\"outlinewidth\":0,\"ticks\":\"\"},\"colorscale\":[[0.0,\"#0d0887\"],[0.1111111111111111,\"#46039f\"],[0.2222222222222222,\"#7201a8\"],[0.3333333333333333,\"#9c179e\"],[0.4444444444444444,\"#bd3786\"],[0.5555555555555556,\"#d8576b\"],[0.6666666666666666,\"#ed7953\"],[0.7777777777777778,\"#fb9f3a\"],[0.8888888888888888,\"#fdca26\"],[1.0,\"#f0f921\"]],\"type\":\"histogram2d\"}],\"histogram2dcontour\":[{\"colorbar\":{\"outlinewidth\":0,\"ticks\":\"\"},\"colorscale\":[[0.0,\"#0d0887\"],[0.1111111111111111,\"#46039f\"],[0.2222222222222222,\"#7201a8\"],[0.3333333333333333,\"#9c179e\"],[0.4444444444444444,\"#bd3786\"],[0.5555555555555556,\"#d8576b\"],[0.6666666666666666,\"#ed7953\"],[0.7777777777777778,\"#fb9f3a\"],[0.8888888888888888,\"#fdca26\"],[1.0,\"#f0f921\"]],\"type\":\"histogram2dcontour\"}],\"mesh3d\":[{\"colorbar\":{\"outlinewidth\":0,\"ticks\":\"\"},\"type\":\"mesh3d\"}],\"parcoords\":[{\"line\":{\"colorbar\":{\"outlinewidth\":0,\"ticks\":\"\"}},\"type\":\"parcoords\"}],\"pie\":[{\"automargin\":true,\"type\":\"pie\"}],\"scatter\":[{\"marker\":{\"colorbar\":{\"outlinewidth\":0,\"ticks\":\"\"}},\"type\":\"scatter\"}],\"scatter3d\":[{\"line\":{\"colorbar\":{\"outlinewidth\":0,\"ticks\":\"\"}},\"marker\":{\"colorbar\":{\"outlinewidth\":0,\"ticks\":\"\"}},\"type\":\"scatter3d\"}],\"scattercarpet\":[{\"marker\":{\"colorbar\":{\"outlinewidth\":0,\"ticks\":\"\"}},\"type\":\"scattercarpet\"}],\"scattergeo\":[{\"marker\":{\"colorbar\":{\"outlinewidth\":0,\"ticks\":\"\"}},\"type\":\"scattergeo\"}],\"scattergl\":[{\"marker\":{\"colorbar\":{\"outlinewidth\":0,\"ticks\":\"\"}},\"type\":\"scattergl\"}],\"scattermapbox\":[{\"marker\":{\"colorbar\":{\"outlinewidth\":0,\"ticks\":\"\"}},\"type\":\"scattermapbox\"}],\"scatterpolar\":[{\"marker\":{\"colorbar\":{\"outlinewidth\":0,\"ticks\":\"\"}},\"type\":\"scatterpolar\"}],\"scatterpolargl\":[{\"marker\":{\"colorbar\":{\"outlinewidth\":0,\"ticks\":\"\"}},\"type\":\"scatterpolargl\"}],\"scatterternary\":[{\"marker\":{\"colorbar\":{\"outlinewidth\":0,\"ticks\":\"\"}},\"type\":\"scatterternary\"}],\"surface\":[{\"colorbar\":{\"outlinewidth\":0,\"ticks\":\"\"},\"colorscale\":[[0.0,\"#0d0887\"],[0.1111111111111111,\"#46039f\"],[0.2222222222222222,\"#7201a8\"],[0.3333333333333333,\"#9c179e\"],[0.4444444444444444,\"#bd3786\"],[0.5555555555555556,\"#d8576b\"],[0.6666666666666666,\"#ed7953\"],[0.7777777777777778,\"#fb9f3a\"],[0.8888888888888888,\"#fdca26\"],[1.0,\"#f0f921\"]],\"type\":\"surface\"}],\"table\":[{\"cells\":{\"fill\":{\"color\":\"#EBF0F8\"},\"line\":{\"color\":\"white\"}},\"header\":{\"fill\":{\"color\":\"#C8D4E3\"},\"line\":{\"color\":\"white\"}},\"type\":\"table\"}]},\"layout\":{\"annotationdefaults\":{\"arrowcolor\":\"#2a3f5f\",\"arrowhead\":0,\"arrowwidth\":1},\"autotypenumbers\":\"strict\",\"coloraxis\":{\"colorbar\":{\"outlinewidth\":0,\"ticks\":\"\"}},\"colorscale\":{\"diverging\":[[0,\"#8e0152\"],[0.1,\"#c51b7d\"],[0.2,\"#de77ae\"],[0.3,\"#f1b6da\"],[0.4,\"#fde0ef\"],[0.5,\"#f7f7f7\"],[0.6,\"#e6f5d0\"],[0.7,\"#b8e186\"],[0.8,\"#7fbc41\"],[0.9,\"#4d9221\"],[1,\"#276419\"]],\"sequential\":[[0.0,\"#0d0887\"],[0.1111111111111111,\"#46039f\"],[0.2222222222222222,\"#7201a8\"],[0.3333333333333333,\"#9c179e\"],[0.4444444444444444,\"#bd3786\"],[0.5555555555555556,\"#d8576b\"],[0.6666666666666666,\"#ed7953\"],[0.7777777777777778,\"#fb9f3a\"],[0.8888888888888888,\"#fdca26\"],[1.0,\"#f0f921\"]],\"sequentialminus\":[[0.0,\"#0d0887\"],[0.1111111111111111,\"#46039f\"],[0.2222222222222222,\"#7201a8\"],[0.3333333333333333,\"#9c179e\"],[0.4444444444444444,\"#bd3786\"],[0.5555555555555556,\"#d8576b\"],[0.6666666666666666,\"#ed7953\"],[0.7777777777777778,\"#fb9f3a\"],[0.8888888888888888,\"#fdca26\"],[1.0,\"#f0f921\"]]},\"colorway\":[\"#636efa\",\"#EF553B\",\"#00cc96\",\"#ab63fa\",\"#FFA15A\",\"#19d3f3\",\"#FF6692\",\"#B6E880\",\"#FF97FF\",\"#FECB52\"],\"font\":{\"color\":\"#2a3f5f\"},\"geo\":{\"bgcolor\":\"white\",\"lakecolor\":\"white\",\"landcolor\":\"#E5ECF6\",\"showlakes\":true,\"showland\":true,\"subunitcolor\":\"white\"},\"hoverlabel\":{\"align\":\"left\"},\"hovermode\":\"closest\",\"mapbox\":{\"style\":\"light\"},\"paper_bgcolor\":\"white\",\"plot_bgcolor\":\"#E5ECF6\",\"polar\":{\"angularaxis\":{\"gridcolor\":\"white\",\"linecolor\":\"white\",\"ticks\":\"\"},\"bgcolor\":\"#E5ECF6\",\"radialaxis\":{\"gridcolor\":\"white\",\"linecolor\":\"white\",\"ticks\":\"\"}},\"scene\":{\"xaxis\":{\"backgroundcolor\":\"#E5ECF6\",\"gridcolor\":\"white\",\"gridwidth\":2,\"linecolor\":\"white\",\"showbackground\":true,\"ticks\":\"\",\"zerolinecolor\":\"white\"},\"yaxis\":{\"backgroundcolor\":\"#E5ECF6\",\"gridcolor\":\"white\",\"gridwidth\":2,\"linecolor\":\"white\",\"showbackground\":true,\"ticks\":\"\",\"zerolinecolor\":\"white\"},\"zaxis\":{\"backgroundcolor\":\"#E5ECF6\",\"gridcolor\":\"white\",\"gridwidth\":2,\"linecolor\":\"white\",\"showbackground\":true,\"ticks\":\"\",\"zerolinecolor\":\"white\"}},\"shapedefaults\":{\"line\":{\"color\":\"#2a3f5f\"}},\"ternary\":{\"aaxis\":{\"gridcolor\":\"white\",\"linecolor\":\"white\",\"ticks\":\"\"},\"baxis\":{\"gridcolor\":\"white\",\"linecolor\":\"white\",\"ticks\":\"\"},\"bgcolor\":\"#E5ECF6\",\"caxis\":{\"gridcolor\":\"white\",\"linecolor\":\"white\",\"ticks\":\"\"}},\"title\":{\"x\":0.05},\"xaxis\":{\"automargin\":true,\"gridcolor\":\"white\",\"linecolor\":\"white\",\"ticks\":\"\",\"title\":{\"standoff\":15},\"zerolinecolor\":\"white\",\"zerolinewidth\":2},\"yaxis\":{\"automargin\":true,\"gridcolor\":\"white\",\"linecolor\":\"white\",\"ticks\":\"\",\"title\":{\"standoff\":15},\"zerolinecolor\":\"white\",\"zerolinewidth\":2}}},\"xaxis\":{\"anchor\":\"y\",\"domain\":[0.0,0.45]},\"yaxis\":{\"anchor\":\"x\",\"domain\":[0.0,1.0]},\"xaxis2\":{\"anchor\":\"y2\",\"domain\":[0.55,1.0]},\"yaxis2\":{\"anchor\":\"x2\",\"domain\":[0.0,1.0],\"matches\":\"y\",\"showticklabels\":false},\"title\":{\"text\":\"Installment\"}},                        {\"responsive\": true}                    ).then(function(){\n",
              "                            \n",
              "var gd = document.getElementById('703e284a-ba0e-440d-9fe1-7e252a2348e5');\n",
              "var x = new MutationObserver(function (mutations, observer) {{\n",
              "        var display = window.getComputedStyle(gd).display;\n",
              "        if (!display || display === 'none') {{\n",
              "            console.log([gd, 'removed!']);\n",
              "            Plotly.purge(gd);\n",
              "            observer.disconnect();\n",
              "        }}\n",
              "}});\n",
              "\n",
              "// Listen for the removal of the full notebook cells\n",
              "var notebookContainer = gd.closest('#notebook-container');\n",
              "if (notebookContainer) {{\n",
              "    x.observe(notebookContainer, {childList: true});\n",
              "}}\n",
              "\n",
              "// Listen for the clearing of the current output cell\n",
              "var outputEl = gd.closest('.output');\n",
              "if (outputEl) {{\n",
              "    x.observe(outputEl, {childList: true});\n",
              "}}\n",
              "\n",
              "                        })                };                            </script>        </div>\n",
              "</body>\n",
              "</html>"
            ]
          },
          "metadata": {}
        }
      ],
      "source": [
        "import plotly.graph_objs as go\n",
        "import plotly.subplots as sp\n",
        "\n",
        "fig = sp.make_subplots(rows=1, cols=2, shared_yaxes=True)\n",
        "\n",
        "# Add the first boxplot graph to the first column of the subplot\n",
        "fig.add_trace(go.Box(y=df_carlist02['data_installment'], \n",
        "                     name='Monthly Installment', boxpoints='outliers', jitter=0.3, pointpos=-1.8), row=1, col=1)\n",
        "\n",
        "# Add the second boxplot graph to the second column of the subplot\n",
        "fig.add_trace(go.Box(x=df_carlist02['data_make'],y=df_carlist02['data_installment'], \n",
        "                     name='Monthly Installment by Vehicle Make', boxpoints='outliers', jitter=0.3, pointpos=-1.8), row=1, col=2)\n",
        "\n",
        "# Update the layout of the subplot\n",
        "fig.update_layout(title='Installment')\n",
        "\n",
        "# Show the subplot\n",
        "fig.show()"
      ]
    },
    {
      "cell_type": "code",
      "execution_count": 71,
      "metadata": {
        "id": "FhtSRAJGzNIo"
      },
      "outputs": [],
      "source": [
        "#show the data_make with data_installment more than 3907\n",
        "outliers = df_carlist02.iloc[np.where(df_carlist02['data_installment']>3907)].index\n",
        "\n",
        "#Those vehicles are deleted\n",
        "df_carlist02.drop(outliers,inplace=True)"
      ]
    },
    {
      "cell_type": "code",
      "execution_count": 72,
      "metadata": {
        "id": "i9DtMH9ZzNIo",
        "outputId": "12e5d870-586c-4be1-e38d-5e0b10609dbd",
        "colab": {
          "base_uri": "https://localhost:8080/",
          "height": 542
        }
      },
      "outputs": [
        {
          "output_type": "display_data",
          "data": {
            "text/html": [
              "<html>\n",
              "<head><meta charset=\"utf-8\" /></head>\n",
              "<body>\n",
              "    <div>            <script src=\"https://cdnjs.cloudflare.com/ajax/libs/mathjax/2.7.5/MathJax.js?config=TeX-AMS-MML_SVG\"></script><script type=\"text/javascript\">if (window.MathJax) {MathJax.Hub.Config({SVG: {font: \"STIX-Web\"}});}</script>                <script type=\"text/javascript\">window.PlotlyConfig = {MathJaxConfig: 'local'};</script>\n",
              "        <script src=\"https://cdn.plot.ly/plotly-2.8.3.min.js\"></script>                <div id=\"6c369a53-289e-4d7a-ae4c-8b6148e9e3e4\" class=\"plotly-graph-div\" style=\"height:525px; width:100%;\"></div>            <script type=\"text/javascript\">                                    window.PLOTLYENV=window.PLOTLYENV || {};                                    if (document.getElementById(\"6c369a53-289e-4d7a-ae4c-8b6148e9e3e4\")) {                    Plotly.newPlot(                        \"6c369a53-289e-4d7a-ae4c-8b6148e9e3e4\",                        [{\"boxpoints\":\"outliers\",\"jitter\":0.3,\"name\":\"Monthly Installment\",\"pointpos\":-1.8,\"y\":[1694.0,3876.0,1157.0,777.0,1426.0,756.0,892.0,1097.0,446.0,376.0,1018.0,2917.0,2217.0,1406.0,1406.0,2362.0,788.0,1093.0,1694.0,1400.0,1451.0,1296.0,1086.0,1172.0,1943.0,1815.0,1136.0,1172.0,1170.0,1157.0,1894.0,773.0,1722.0,2104.0,1130.0,1802.0,1143.0,1318.0,1941.0,1605.0,3059.0,2450.0,1120.0,1084.0,931.0,993.0,1879.0,454.0,1006.0,984.0,997.0,945.0,971.0,961.0,1157.0,2217.0,446.0,376.0,1015.0,1176.0,2930.0,2074.0,2450.0,3059.0,3591.0,1029.0,961.0,974.0,2149.0,1188.0,1390.0,1448.0,1237.0,1512.0,1390.0,1449.0,1241.0,1075.0,1904.0,945.0,1543.0,1750.0,782.0,1776.0,3358.0,2545.0,1690.0,946.0,946.0,1776.0,1309.0,1427.0,1119.0,503.0,1894.0,1170.0,1157.0,949.0,1172.0,944.0,1853.0,376.0,1015.0,1850.0,1606.0,1318.0,1182.0,2398.0,1841.0,3486.0,985.0,3486.0,3591.0,1841.0,2111.0,1751.0,1188.0,1337.0,969.0,1852.0,3369.0,1412.0,2190.0,1316.0,1854.0,551.0,765.0,620.0,2411.0,1119.0,1501.0,446.0,1338.0,583.0,1189.0,1613.0,1314.0,1410.0,1326.0,1879.0,1119.0,1119.0,451.0,1006.0,1672.0,1671.0,984.0,972.0,959.0,970.0,1449.0,954.0,1400.0,810.0,948.0,1808.0,583.0,1119.0,1281.0,3898.0,3732.0,1831.0,1841.0,1802.0,1210.0,1296.0,2356.0,1295.0,2541.0,3250.0,451.0,980.0,941.0,777.0,1002.0,1875.0,1688.0,2182.0,2012.0,2746.0,1393.0,2461.0,2850.0,1602.0,2655.0,2256.0,1788.0,376.0,1775.0,3732.0,1694.0,946.0,946.0,376.0,445.0,1110.0,905.0,1773.0,2072.0,2175.0,1736.0,1049.0,2061.0,451.0,1670.0,2347.0,1848.0,963.0,433.0,2365.0,3876.0,1393.0,1092.0,738.0,376.0,467.0,2074.0,1281.0,1015.0,376.0,1873.0,1080.0,1121.0,1006.0,1400.0,920.0,1605.0,1110.0,1092.0,1619.0,1064.0,1077.0,1554.0,1141.0,1903.0,952.0,979.0,570.0,1015.0,376.0,1917.0,1106.0,1132.0,2188.0,1400.0,1282.0,979.0,814.0,1006.0,1465.0,620.0,1469.0,1149.0,1449.0,1400.0,1400.0,1436.0,966.0,1011.0,905.0,1088.0,1296.0,2930.0,1077.0,1130.0,2133.0,1010.0,1075.0,1859.0,1181.0,975.0,708.0,1296.0,1296.0,938.0,946.0,378.0,946.0,1076.0,1076.0,2165.0,2165.0,2165.0,1076.0,739.0,1168.0,1451.0,957.0,971.0,1811.0,1054.0,1125.0,2430.0,1002.0,989.0,1563.0,1271.0,1271.0,1271.0,428.0,726.0,1258.0,428.0,3835.0,506.0,635.0,1859.0,1723.0,1149.0,1670.0,1595.0,2193.0,2057.0,596.0,1812.0,1400.0,2450.0,946.0,946.0,376.0,1015.0,777.0,797.0,695.0,2450.0,2930.0,1400.0,3591.0,1271.0,3486.0,1596.0,1320.0,1335.0,2545.0,2056.0,1041.0,778.0,1123.0,2165.0,2165.0,712.0,2113.0,1018.0,2178.0,945.0,2074.0,1041.0,1071.0,2191.0,2437.0,2545.0,1320.0,448.0,810.0,804.0,1055.0,1715.0,987.0,1296.0,1204.0,804.0,912.0,810.0,647.0,1006.0,1010.0,440.0,493.0,945.0,797.0,819.0,1865.0,1119.0,1436.0,1320.0,445.0,1400.0,773.0,773.0,773.0,997.0,1292.0,905.0,314.0,714.0,967.0,1210.0,2833.0,1694.0,1449.0,1006.0,998.0,2928.0,1867.0,961.0,1867.0,1893.0,1939.0,1666.0,3616.0,2217.0,2217.0,1894.0,1400.0,1894.0,993.0,1879.0,906.0,1272.0,1272.0,1272.0,2074.0,542.0,946.0,905.0,1210.0,1776.0,2204.0,1006.0,620.0,581.0,3616.0,451.0,451.0,451.0,1119.0,1119.0,451.0,1296.0,967.0,1475.0,1400.0,652.0,1400.0,1469.0,1210.0,1605.0,1119.0,1436.0,1320.0,756.0,700.0,503.0,1878.0,1914.0,993.0,998.0,3721.0,1919.0,1411.0,3708.0,1763.0,2165.0,1343.0,1632.0,1085.0,2056.0,2056.0,1054.0,1750.0,2191.0,542.0,3416.0,3416.0,2372.0,814.0,1696.0,451.0,2230.0,1750.0,873.0,961.0,2074.0,1697.0,2151.0,980.0,985.0,1208.0,898.0,1011.0,1076.0,1919.0,502.0,1930.0,480.0,1076.0,1400.0,908.0,998.0,697.0,1006.0,773.0,1436.0,2321.0,814.0,1802.0,2839.0,1696.0,1691.0,1579.0,1164.0,441.0,1019.0,1488.0,3565.0,979.0,1055.0,1691.0,497.0,446.0,497.0,1119.0,497.0,1785.0,525.0,525.0,841.0,914.0,1014.0,627.0,739.0,805.0,494.0,592.0,673.0,840.0,904.0,975.0,1046.0,979.0,1312.0,1312.0,1119.0,1281.0,519.0,814.0,555.0,814.0,1338.0,810.0,1296.0,1810.0,935.0,944.0,970.0,920.0,920.0,1175.0,748.0,748.0,612.0,612.0,1110.0,1781.0,1406.0,1406.0,1170.0,1170.0,1162.0,1387.0,1168.0,2183.0,1688.0,2850.0,2362.0,2461.0,2013.0,1400.0,1878.0,2362.0,1788.0,2013.0,1658.0,441.0,1838.0,1841.0,1914.0,1060.0,1400.0,1942.0,2178.0,737.0,1143.0,1378.0,1201.0,981.0,446.0,493.0,1119.0,1119.0,497.0,493.0,555.0,2450.0,1010.0,3487.0,1942.0,957.0,2360.0,1690.0,1608.0,2545.0,2020.0,2240.0,1812.0,1696.0,941.0,2321.0,810.0,2087.0,1385.0,1400.0,1245.0,1228.0,1242.0,1449.0,1449.0,1177.0,1391.0,827.0,1391.0,1465.0,1282.0,1653.0,1648.0,598.0,879.0,1761.0,1761.0,1761.0,1430.0,1110.0,1430.0,2022.0,3008.0,3591.0,2930.0,2930.0,1006.0,1866.0,2352.0,1001.0,1036.0,1033.0,1157.0,1210.0,736.0,519.0,1210.0,519.0,1210.0,1210.0,1210.0,583.0,446.0,940.0,794.0,418.0,599.0,794.0,993.0,572.0,920.0,920.0,985.0,2930.0,1110.0,419.0,1535.0,1801.0,1943.0,1639.0,3591.0,1024.0,3486.0,998.0,932.0,1671.0,1412.0,1645.0,919.0,1136.0,2074.0,1681.0,1891.0,3028.0,789.0,647.0,802.0,1513.0,1296.0,3241.0,1055.0,599.0,777.0,972.0,3241.0,1176.0,1943.0,777.0,2435.0,1119.0,1400.0,627.0,2591.0,1885.0,2139.0,983.0,1167.0,1839.0,979.0,2332.0,3591.0,920.0,920.0,1120.0,2029.0,2850.0,474.0,1469.0,1839.0,780.0,441.0,1449.0,1006.0,1110.0,441.0,441.0,3057.0,1403.0,2510.0,1110.0,1110.0,1110.0,1110.0,2500.0,3176.0,3098.0,1322.0,1582.0,1656.0,3098.0,3721.0,807.0,498.0,498.0,542.0,542.0,1080.0,773.0,1815.0,620.0,454.0,920.0,920.0,445.0,1465.0,2015.0,3786.0,441.0,452.0,1935.0,2980.0,743.0,1400.0,1726.0,1268.0,1022.0,1891.0,972.0,1099.0,3732.0,1073.0,1879.0,1513.0,3654.0,1160.0,1048.0,1387.0,1634.0,2191.0,2056.0,1210.0,3384.0,3021.0,542.0,3235.0,3021.0,607.0,1926.0,767.0,574.0,1592.0,1210.0,3358.0,2165.0,2165.0,1776.0,920.0,1469.0,3059.0,1309.0,1271.0,1309.0,1281.0,1167.0,1273.0,441.0,1119.0,1465.0,3680.0,3732.0,1119.0,1055.0,1210.0,2512.0,983.0,777.0,1010.0,1296.0,993.0,2318.0,441.0,1905.0,1828.0,1828.0,1055.0,1465.0,1465.0,1465.0,1136.0,1465.0,1136.0,1465.0,1136.0,1136.0,933.0,1556.0,1123.0,1465.0,1475.0,773.0,949.0,949.0,1013.0,1775.0,1400.0,2204.0,1292.0,1119.0,1281.0,2450.0,2887.0,3059.0,1671.0,993.0,1338.0,959.0,959.0,1210.0,2344.0,1206.0,451.0,952.0,1272.0,1140.0,1982.0,2900.0,2056.0,3505.0,1903.0,1242.0,1359.0,1242.0,1592.0,1359.0,827.0,1171.0,1255.0,1812.0,454.0,920.0,940.0,445.0,827.0,1073.0,2074.0,1776.0,1019.0,1006.0,1904.0,1776.0,1089.0,1120.0,1338.0,940.0,933.0,2706.0,2411.0,1359.0,1830.0,1883.0,2191.0,2995.0,3410.0,3021.0,1054.0,1210.0,1750.0,497.0,1608.0,1608.0,3410.0,933.0,1073.0,1296.0,2943.0,2061.0,1878.0,2450.0,438.0,2437.0,3047.0,2191.0,1608.0,1903.0,1210.0,1400.0,1776.0,1690.0,3591.0,789.0,937.0,873.0,1010.0,773.0,471.0,1022.0,931.0,918.0,1465.0,1527.0,1449.0,1514.0,1055.0,445.0,1943.0,1943.0,2165.0,2074.0,1690.0,2165.0,2376.0,1055.0,1645.0,1400.0,2094.0,1247.0,598.0,989.0,989.0,1092.0,1092.0,1393.0,1393.0,1209.0,1002.0,1002.0,987.0,804.0,830.0,2165.0,807.0,945.0,1776.0,777.0,2165.0,1076.0,1253.0,575.0,1489.0,1105.0,1696.0,1488.0,1694.0,1400.0,1640.0,1640.0,3487.0,1400.0,1076.0,756.0,406.0,1312.0,1841.0,570.0,660.0,454.0,1631.0,1883.0,1828.0,1063.0,1002.0,1209.0,989.0,989.0,1296.0,895.0,933.0,1124.0,915.0,3732.0,1878.0,1124.0,1811.0,1403.0,1403.0,1872.0,1256.0,1182.0,1307.0,1318.0,1851.0,1475.0,614.0,1256.0,1312.0,1619.0,1776.0,2165.0,2376.0,1029.0,941.0,928.0,3266.0,3680.0,3486.0,3486.0,2430.0,1175.0,1312.0,1296.0,1281.0,2437.0,2201.0,1111.0,3487.0,2577.0,1006.0,2295.0,3591.0,1785.0,1481.0,1115.0,1875.0,2582.0,3578.0,3732.0,1296.0,888.0,1140.0,542.0,1048.0,1400.0,1627.0,1296.0,1691.0,1206.0,1255.0,1506.0,1939.0,1232.0,1296.0,1123.0,1123.0,1400.0,944.0,1690.0,827.0,687.0,620.0,1469.0,574.0,1206.0,1036.0,1811.0,454.0,1645.0,1399.0,1522.0,1945.0,1478.0,1361.0,1123.0,2437.0,1296.0,1476.0,1852.0,942.0,520.0,1024.0,1210.0,1007.0,1039.0,1296.0,2269.0,1400.0,1110.0,1904.0,1089.0,2159.0,2545.0,3732.0,3630.0,1037.0,3059.0,493.0,866.0,2545.0,959.0,1271.0,1690.0,2365.0,1812.0,1812.0,1812.0,1929.0,1722.0,1722.0,1929.0,1929.0,1812.0,441.0,1776.0,1048.0,2175.0,1802.0,1711.0,1802.0,1242.0,454.0,1242.0,1391.0,1398.0,3769.0,1281.0,1171.0,1281.0,1132.0,1132.0,1400.0,1436.0,1841.0,445.0,1763.0,2385.0,1400.0,1605.0,1010.0,1605.0,1311.0,3486.0,959.0,985.0,2191.0,807.0,3718.0,3059.0,2930.0,1029.0,3578.0,2074.0,1688.0,542.0,1316.0,1619.0,1852.0,2151.0,961.0,1749.0,3729.0,1750.0,1290.0,1290.0,1338.0,1690.0,2190.0,1338.0,1788.0,1182.0,1290.0,1216.0,512.0,2165.0,1776.0,2511.0,802.0,1010.0,971.0,2284.0,1788.0,2980.0,2383.0,1690.0,1387.0,1281.0,952.0,458.0,452.0,315.0,606.0,1812.0,1296.0,3369.0,934.0,497.0,3732.0,777.0,516.0,1290.0,2113.0,1080.0,1749.0,1217.0,1400.0,1825.0,1954.0,1338.0,957.0,483.0,1006.0,1942.0,497.0,937.0,765.0,975.0,2175.0,1296.0,1632.0,1359.0,1359.0,1359.0,3745.0,1852.0,1387.0,3539.0,3487.0,3539.0,3539.0,3745.0,670.0,1316.0,2930.0,1404.0,1074.0,2175.0,1942.0,1282.0,691.0,2450.0,1372.0,1750.0,1750.0,3228.0,1750.0,2372.0,3416.0,1776.0,1400.0,1400.0,1867.0,2175.0,1776.0,1776.0,1566.0,2175.0,1400.0,503.0,948.0,1290.0,1851.0,1024.0,945.0,1172.0,2204.0,3059.0,1296.0,1042.0,1182.0,1344.0,1752.0,2193.0,1387.0,967.0,1011.0,932.0,1776.0,2165.0,2165.0,2165.0,1028.0,493.0,1815.0,2178.0,2383.0,2367.0,1888.0,1528.0,1271.0,2184.0,707.0,1151.0,3656.0,2088.0,2232.0,1320.0,2177.0,979.0,777.0,1010.0,1837.0,2528.0,789.0,629.0,878.0,1037.0,3732.0,804.0,1245.0,804.0,1042.0,948.0,454.0,757.0,968.0,1322.0,467.0,3410.0,2372.0,3416.0,1596.0,1774.0,1322.0,446.0,1776.0,1776.0,1776.0,1773.0,1042.0,1796.0,3721.0,1796.0,1663.0,3027.0,2541.0,1840.0,1072.0,1114.0,1801.0,1281.0,1188.0,2222.0,1175.0,1137.0,3721.0,1723.0,1862.0,1036.0,1400.0,1400.0,1776.0,3486.0,3486.0,3732.0,1776.0,1296.0,1484.0,625.0,2967.0,2833.0,2528.0,941.0,3745.0,3745.0,3745.0,3745.0,3745.0,3745.0,3745.0,542.0,1670.0,1644.0,555.0,446.0,1670.0,1696.0,1010.0,1272.0,2057.0,1901.0,1958.0,1751.0,1188.0,934.0,1088.0,1136.0,1617.0,933.0,1042.0,1042.0,1888.0,1272.0,2165.0,2093.0,2165.0,3291.0,1243.0,1346.0,707.0,1151.0,699.0,1552.0,1486.0,1775.0,1545.0,3361.0,959.0,2980.0,1141.0,535.0,1006.0,497.0,613.0,710.0,568.0,464.0,1210.0,1452.0,2222.0,648.0,1436.0,1776.0,1042.0,3745.0,954.0,1439.0,1776.0,1841.0,1296.0,1387.0,1643.0,1093.0,836.0,1123.0,1776.0,1752.0,1281.0,993.0,480.0,596.0,700.0,1154.0,1037.0,1249.0,1541.0,1658.0,1619.0,1684.0,1249.0,1322.0,972.0,941.0,777.0,882.0,1011.0,712.0,2193.0,873.0,1153.0,814.0,946.0,1465.0,2074.0,3578.0,1904.0,2430.0,583.0,1268.0,1813.0,560.0,1042.0,1055.0,1632.0,1042.0,3485.0,924.0,1110.0,2139.0,1436.0,1119.0,1528.0,1119.0,1436.0,1210.0,1436.0,1776.0,1776.0,570.0,560.0,506.0,1075.0,1423.0,2093.0,1700.0,464.0,1690.0,2157.0,441.0,1271.0,800.0,978.0,1789.0,1400.0,981.0,1006.0,773.0,599.0,1128.0,1271.0,972.0,504.0,1776.0,1776.0,3358.0,972.0,504.0,1115.0,429.0,968.0,1400.0,2295.0,446.0,1723.0,1049.0,1239.0,1750.0,312.0,1123.0,1010.0,1213.0,474.0,2450.0,2289.0,1798.0,707.0,599.0,708.0,1724.0,2159.0,895.0,1592.0,1527.0,1258.0,1046.0,963.0,1119.0,2061.0,945.0,1793.0,1423.0,1752.0,1858.0,1037.0,1165.0,1088.0,1243.0,1563.0,3745.0,1075.0,596.0,402.0,836.0,1827.0,3616.0,981.0,572.0,980.0,1605.0,648.0,2424.0,1296.0,451.0,2930.0,2204.0,3486.0,3486.0,788.0,451.0,1119.0,1268.0,1119.0,1338.0,1042.0,389.0,807.0,1006.0,980.0,1042.0,1042.0,1136.0,743.0,1322.0,1053.0,797.0,857.0,3732.0,2204.0,1475.0,1085.0,1296.0,1632.0,980.0,827.0,1595.0,440.0,2065.0,1901.0,1123.0,1488.0,2157.0,486.0,2074.0,1943.0,2879.0,905.0,1356.0,1271.0,2398.0,1085.0,616.0,441.0,1123.0,1839.0,1943.0,1750.0,1605.0,1153.0,1595.0,497.0,1268.0,2074.0,707.0,1151.0,1598.0,1141.0,914.0,920.0,1469.0,1942.0,1942.0,1942.0,1172.0,1685.0,1255.0,1071.0,2091.0,1476.0,882.0,945.0,1890.0,3059.0,1032.0,1722.0,1812.0,1137.0,984.0,1151.0,1210.0,972.0,972.0,843.0,1271.0,1115.0,1465.0,3205.0,2450.0,2193.0,1358.0,493.0,1789.0,1789.0,1789.0,2165.0,2165.0,434.0,1184.0,454.0,1184.0,775.0,810.0,1094.0,1793.0,1094.0,2405.0,1852.0,1852.0,2969.0,1268.0,1926.0,1088.0,1775.0,1943.0,1346.0,1127.0,2079.0,2074.0,3358.0,2165.0,1789.0,1711.0,2204.0,1664.0,1295.0,1182.0,1402.0,1137.0,1400.0,1400.0,2126.0,1566.0,3732.0,438.0,1348.0,1400.0,2151.0,1697.0,522.0,1110.0,1646.0,2969.0,1271.0,1436.0,2204.0,1436.0,1123.0,498.0,1296.0,1617.0,1271.0,1271.0,1271.0,2193.0,1153.0,1088.0,1789.0,1789.0,3358.0,1789.0,2165.0,2165.0,920.0,1595.0,1037.0,1037.0,1812.0,1063.0,1006.0,1149.0,1088.0,1926.0,1036.0,1493.0,2930.0,1296.0,3486.0,1049.0,1867.0,713.0,2098.0,1015.0,1175.0,1142.0,3487.0,1788.0,920.0,945.0,945.0,945.0,3486.0,1119.0,1115.0,3850.0,462.0,1210.0,2451.0,2451.0,1221.0,498.0,1663.0,1088.0,1926.0,1036.0,1049.0,1842.0,1167.0,1814.0,1219.0,3695.0,3591.0,1128.0,1593.0,1538.0,1684.0,1538.0,1684.0,1593.0,1659.0,503.0,804.0,945.0,590.0,1535.0,1110.0,1335.0,1400.0,1110.0,979.0,1281.0,2191.0,1605.0,1561.0,3358.0,621.0,760.0,766.0,764.0,2165.0,497.0,905.0,769.0,1281.0,1281.0,3047.0,1802.0,2165.0,1802.0,1659.0,2917.0,1338.0,933.0,1618.0,945.0,1788.0,2901.0,1032.0,1540.0,1171.0,1050.0,1372.0,1010.0,3616.0,1037.0,1335.0,1400.0,567.0,1595.0,959.0,622.0,661.0,1119.0,1037.0,945.0,1128.0,1387.0,1632.0,1296.0,1042.0,1943.0,3539.0,1153.0,1296.0,1037.0,3047.0,648.0,3721.0,1037.0,1400.0,1681.0,3486.0,303.0,552.0,627.0,3047.0,3578.0,3047.0,2203.0,1690.0,2157.0,3369.0,3486.0,460.0,3486.0,1338.0,1188.0,1812.0,1812.0,1812.0,1812.0,592.0,1812.0,434.0,1812.0,648.0,1663.0,941.0,979.0,1296.0,771.0,1024.0,1338.0,1335.0,1037.0,1622.0,765.0,700.0,622.0,1102.0,431.0,1037.0,1042.0,1335.0,1037.0,1400.0,1243.0,660.0,1801.0,1006.0,1232.0,2930.0,707.0,1151.0,2343.0,773.0,979.0,1789.0,1632.0,1880.0,1880.0,451.0,1150.0,1465.0,1037.0,555.0,1320.0,1372.0,1683.0,497.0,1659.0,1050.0,2204.0,3591.0,2019.0,1335.0,471.0,1119.0,1750.0,1281.0,452.0,1210.0,1722.0,668.0,1006.0,756.0,1346.0,983.0,1172.0,2332.0,1028.0,2980.0,3266.0,3680.0,1502.0,3358.0,3358.0,2165.0,1802.0,1006.0,2201.0,1451.0,2159.0,1624.0,451.0,1722.0,1812.0,2280.0,1296.0,895.0,1037.0,1595.0,1296.0,1926.0,1243.0,1036.0,1243.0,1775.0,1926.0,945.0,2917.0,2437.0,1338.0,739.0,3486.0,451.0,1243.0,2124.0,2154.0,938.0,1042.0,931.0,1815.0,555.0,1540.0,812.0,1605.0,1605.0,1605.0,1605.0,1605.0,739.0,620.0,1325.0,1338.0,1229.0,471.0,2437.0,1654.0,542.0,3539.0,497.0,972.0,1901.0,1296.0,2112.0,1088.0,1775.0,1926.0,1853.0,1943.0,907.0,836.0,1828.0,956.0,1605.0,933.0,895.0,941.0,2165.0,1802.0,1802.0,1802.0,555.0,1127.0,756.0,1595.0,1102.0,941.0,2096.0,1556.0,970.0,2864.0,1582.0,1752.0,493.0,720.0,3578.0,1619.0,1812.0,2193.0,1232.0,1172.0,1136.0,1232.0,1172.0,1232.0,1232.0,1136.0,1172.0,1172.0,1172.0,1136.0,1232.0,1136.0,1232.0,1136.0,1839.0,1232.0,1136.0,1318.0,1420.0,428.0,1182.0,2917.0,2930.0,2243.0,2658.0,1403.0,1199.0,1837.0,2165.0,2057.0,1338.0,1063.0,1943.0,1400.0,437.0,2306.0,1411.0,1919.0,1595.0,1136.0,1737.0,1880.0,620.0,1006.0,938.0,708.0,975.0,328.0,473.0,452.0,2169.0,1121.0,1219.0,2658.0,3008.0,1210.0,1320.0,1210.0,3643.0,1232.0,1476.0,777.0,1541.0,1541.0,1372.0,966.0,568.0,971.0,1566.0,1566.0,1110.0,3732.0,2262.0,1151.0,707.0,945.0,1338.0,2074.0,3616.0,497.0,3578.0,1722.0,1812.0,1812.0,1812.0,1152.0,2009.0,3732.0,1175.0,503.0,710.0,542.0,3486.0,3486.0,2901.0,807.0,501.0,459.0,1128.0,882.0,1042.0,777.0,474.0,504.0,2900.0,1799.0,2269.0,1814.0,1049.0,1802.0,1413.0,1413.0,1802.0,451.0,1201.0,954.0,979.0,893.0,975.0,497.0,2112.0,3721.0,3578.0,972.0,933.0,933.0,972.0,687.0,1909.0,1320.0,3849.0,1036.0,2079.0,570.0,1010.0,882.0,1172.0,1135.0,1135.0,1135.0,1839.0,1669.0,1281.0,1566.0,567.0,1081.0,497.0,945.0,2170.0,1162.0,2091.0,1833.0,1119.0,1540.0,882.0,1469.0,756.0,1151.0,1346.0,2087.0,735.0,498.0,603.0,764.0,810.0,720.0,720.0,2917.0,503.0,1208.0,3021.0,1525.0,1046.0,581.0,1123.0,1267.0,979.0,1403.0,959.0,998.0,581.0,1888.0,3486.0,972.0,998.0,972.0,998.0,497.0,1210.0,1010.0,1941.0,945.0,778.0,484.0,1153.0,1296.0,3747.0,2113.0,1383.0,1606.0,1121.0,1162.0,1102.0,843.0,1372.0,557.0,1119.0,762.0,629.0,1141.0,1801.0,1119.0,1595.0,2073.0,2073.0,2048.0,1426.0,1059.0,1324.0,1123.0,712.0,1154.0,972.0,1296.0,1189.0,1684.0,3486.0,1296.0,1621.0,1037.0,1037.0,3111.0,777.0,1535.0,1566.0,1535.0,1535.0,1296.0,3578.0,707.0,1151.0,3591.0,1256.0,1249.0,1256.0,1249.0,1538.0,1400.0,1072.0,660.0,3472.0,1206.0,2528.0,1271.0,3695.0,1553.0,814.0,814.0,2302.0,2284.0,1488.0,1102.0,778.0,2930.0,952.0,1602.0,3059.0,2450.0,1281.0,497.0,1171.0,1605.0,1082.0,2269.0,727.0,1617.0,1320.0,3695.0,3824.0,3824.0,1372.0,1750.0,707.0,1906.0,3747.0,1631.0,1561.0,1232.0,1527.0,1659.0,1232.0,905.0,905.0,1413.0,1646.0,1617.0,645.0,1609.0,1632.0,963.0,1171.0,1685.0,1171.0,1372.0,1372.0,1443.0,1528.0,700.0,1413.0,1413.0,1435.0,1346.0,1082.0,2964.0,1605.0,1039.0,2165.0,1659.0,3824.0,2165.0,2165.0,1488.0,1335.0,1528.0,2153.0,1714.0,933.0,1281.0,971.0,1088.0,1519.0,983.0,3695.0,3747.0,1582.0,1582.0,1828.0,2411.0,918.0,1450.0,1400.0,1750.0,1511.0,570.0,1569.0,1450.0,1929.0,978.0,611.0,1372.0,1540.0,1488.0,933.0,998.0,972.0,933.0,933.0,1488.0,971.0,998.0,971.0,1488.0,998.0,933.0,1488.0,972.0,933.0,1488.0,998.0,1488.0,1175.0,1904.0,807.0,1109.0,941.0,707.0,777.0,952.0,570.0,777.0,1162.0,1890.0,1060.0,879.0,1736.0,1828.0,1580.0,997.0,952.0,1538.0,972.0,945.0,1443.0,1210.0,1210.0,434.0,2658.0,2681.0,1081.0,590.0,958.0,683.0,2580.0,1964.0,1912.0,833.0,972.0,1563.0,2658.0,2681.0,1462.0,1436.0,1478.0,1307.0,1621.0,1037.0,1621.0,3708.0,1281.0,1832.0,778.0,1484.0,778.0,1462.0,1248.0,2681.0,2658.0,2658.0,1690.0,1690.0,1484.0,471.0,1595.0,1690.0,1690.0,1242.0,1232.0,1245.0,3734.0,1670.0,2917.0,557.0,497.0,1595.0,2204.0,739.0,2074.0,1659.0,1535.0,920.0,959.0,681.0,603.0,451.0,607.0,1296.0,656.0,1663.0,1750.0,2269.0,1876.0,3358.0,1758.0,2287.0,1866.0,1866.0,1303.0,2191.0,1595.0,2157.0,1426.0,756.0,1535.0,2204.0,1245.0,797.0,715.0,980.0,2980.0,524.0,1943.0,1400.0,503.0,2856.0,1645.0,1852.0,427.0,1426.0,2178.0,1400.0,1659.0,1841.0,1400.0,1400.0,976.0,1037.0,1400.0,2178.0,979.0,1426.0,1476.0,702.0,702.0,1605.0,1488.0,1050.0,402.0,1258.0,1136.0,1136.0,1136.0,1172.0,1374.0,1153.0,1436.0,977.0,979.0,454.0,554.0,523.0,523.0,702.0,611.0,611.0,3047.0,1296.0,1037.0,1374.0,1930.0,1683.0,2295.0,1044.0,1945.0,2370.0,2188.0,1335.0,1335.0,2073.0,2073.0,1849.0,1849.0,2125.0,1832.0,1930.0,2190.0,1672.0,854.0,1880.0,1828.0,1967.0,464.0,762.0,1981.0,1037.0,2095.0,1643.0,483.0,758.0,1011.0,2061.0,2076.0,1023.0,1348.0,1307.0,2299.0,2244.0,1954.0,2266.0,1710.0,1755.0,1857.0,1866.0,2545.0,1876.0,1981.0,2018.0,525.0,1723.0,1566.0,1867.0,1854.0,1608.0,1608.0,1608.0,1608.0,1478.0,3436.0,516.0,1684.0,2061.0,1478.0,1372.0,1478.0,1491.0,1919.0,920.0,1335.0,1491.0,1335.0,725.0,1834.0,723.0,1489.0,2159.0,1735.0,1335.0,738.0,3215.0,1478.0,1491.0,1335.0,1489.0,1489.0,1335.0,516.0,1491.0,699.0,879.0,1491.0,1535.0,1491.0,1535.0,1582.0,3789.0,3663.0,1335.0,1190.0,1320.0,525.0,530.0,1348.0,879.0,1828.0,1335.0,1335.0,920.0,402.0,924.0,891.0,1573.0,928.0,1722.0,1722.0,1348.0,1348.0,920.0,1696.0,1838.0,1348.0,1010.0,1838.0,857.0,1958.0,2697.0,1696.0,1071.0,3137.0,2565.0,3003.0,1565.0,1880.0,1867.0,1761.0,946.0,1608.0,1491.0,1491.0,1335.0,1478.0,1491.0,1335.0,1335.0,972.0,1593.0,1491.0,1335.0,1491.0,1335.0,963.0,530.0,1216.0,959.0,1736.0,1258.0,908.0,908.0,892.0,2113.0,1722.0,2091.0,1994.0,882.0,1595.0,1011.0,879.0,1193.0,1219.0,1770.0,882.0,1582.0,892.0,1283.0,1374.0,843.0,927.0,933.0,2645.0,933.0,933.0,933.0,933.0,942.0,1037.0,932.0,1867.0,1335.0,1335.0,1335.0,450.0,3760.0,1400.0,1400.0,1400.0,1400.0,1400.0,3745.0,2850.0,1891.0,1891.0,1891.0,1891.0,1891.0,1891.0,3745.0,3745.0,2881.0,2593.0,3876.0,3876.0,3876.0,3876.0,3876.0,3876.0,3369.0,3369.0,3369.0,2850.0,3654.0,3421.0,2850.0,2850.0,2850.0,1891.0,1841.0,2188.0,1841.0,1781.0,1781.0,1781.0,1781.0,1781.0,1841.0,1781.0,1841.0,1781.0,1781.0,1781.0,1841.0,3760.0,1400.0,1400.0,1400.0,1697.0,1554.0,2838.0,2383.0,1788.0,1724.0,1271.0,1919.0,2175.0,2175.0,2175.0,2175.0,2175.0,1942.0,1942.0,1942.0,1942.0,1942.0,714.0,1554.0,2073.0,1685.0,2982.0,2383.0,1880.0,2269.0,1685.0,1743.0,2013.0,1111.0,714.0,714.0,1724.0,1750.0,736.0,1271.0,1245.0,1602.0,3757.0,3734.0,1128.0,3708.0,2980.0,3369.0,1037.0,1037.0,1335.0,1335.0,1037.0,1037.0,1400.0,892.0,892.0,625.0,1232.0,1296.0,905.0,905.0,1462.0,1151.0,1125.0,1543.0,3824.0,3824.0,1400.0,1164.0,905.0,1407.0,2383.0,1136.0,1136.0,1136.0,1172.0,1172.0,1839.0,1839.0,1839.0,1839.0,1749.0,1110.0,1624.0,1311.0,1596.0,1428.0,1505.0,537.0,1460.0,1201.0,3824.0,3235.0,503.0,1281.0,1112.0,1743.0,1311.0,1154.0,1596.0,1596.0,620.0,1596.0,1201.0,897.0,1505.0,1311.0,1596.0,1193.0,1658.0,735.0,683.0,1428.0,748.0,1428.0,1505.0,897.0,537.0,3902.0,1372.0,1828.0,2022.0,1815.0,3369.0,537.0,897.0,1002.0,1228.0,814.0,807.0,503.0,1731.0,2980.0,1854.0,1582.0,446.0,1272.0,1368.0,1596.0,1272.0,1428.0,1596.0,1943.0,2371.0,2074.0,1659.0,3708.0,3876.0,2681.0,2850.0,1258.0,1258.0,1258.0,1258.0,1400.0,491.0,1815.0,1815.0,1400.0,1400.0,1400.0,1400.0,1400.0,1400.0,1815.0,1400.0,1400.0,1258.0,1200.0,1754.0,1646.0,491.0,448.0,1272.0,3708.0,3708.0,491.0,1272.0,1428.0,2007.0,2302.0,2411.0,3567.0,1400.0,2139.0,2139.0,1815.0,1815.0,1371.0,2107.0,2112.0,2107.0,1683.0,2628.0,2178.0,2178.0,2178.0,2332.0,1841.0,1841.0,1841.0,2107.0,1605.0,419.0,1400.0,1672.0,1841.0,2178.0,905.0,2783.0,1863.0,2284.0,3205.0,2053.0,2512.0,1014.0,1014.0,841.0,841.0,914.0,914.0,2434.0,1809.0,1443.0,1528.0,1117.0,2140.0,775.0,464.0,1229.0,529.0,594.0,1605.0,1605.0,2706.0,1685.0,419.0,1788.0,1317.0,1605.0,1967.0,1758.0,417.0,652.0,892.0,1180.0,1887.0,1570.0,448.0,968.0,1566.0,1789.0,477.0,477.0,458.0,458.0,506.0,506.0,506.0,506.0,651.0,651.0,791.0,643.0,954.0,885.0,825.0,981.0,981.0,954.0,885.0,825.0,791.0,643.0,1215.0,1590.0,1465.0,805.0,620.0,1605.0,1605.0,454.0,3720.0,1293.0,1758.0,1903.0,1867.0,1694.0,1606.0,1606.0,1606.0,1979.0,1606.0,1606.0,1606.0,2279.0,1606.0,1606.0,544.0,1491.0,1335.0,1335.0,1867.0,904.0,904.0,797.0,797.0,797.0,797.0,946.0,2982.0,2383.0,1793.0,1906.0,1696.0,2117.0,2968.0,1539.0,648.0,1296.0,957.0,1296.0,739.0,3059.0,1553.0,2009.0,620.0,555.0,777.0,1694.0,1879.0,993.0,3486.0,2074.0,933.0,687.0,574.0,2204.0,941.0,941.0,941.0,777.0,777.0,777.0,1676.0,777.0,777.0,777.0,777.0,777.0,1338.0,777.0,777.0,964.0,2149.0,2383.0,1588.0,2461.0,1828.0,1465.0,451.0,1423.0,1142.0,1853.0,1210.0,1063.0,2157.0,3769.0,620.0,940.0,2209.0,1033.0,1101.0,1373.0,1681.0,1681.0,1681.0,2891.0,1681.0,1681.0,2152.0,1681.0,1681.0,1681.0,1681.0,1681.0,1296.0,1681.0,1982.0,1296.0,1681.0,1554.0,1055.0,1110.0,3241.0,454.0,3876.0,3876.0,3876.0,498.0,467.0,467.0,998.0,1296.0,3875.0,1915.0,2022.0,2398.0,1696.0,1883.0,1883.0,2833.0,1961.0,1799.0,1474.0,1465.0,1883.0,1883.0,1883.0,1883.0,1475.0,1798.0,1799.0,1883.0,1961.0,1960.0,1475.0,1883.0,1883.0,1883.0,1883.0,1883.0,955.0,1506.0,1178.0,1697.0,959.0,1939.0,1939.0,1939.0,1939.0,1296.0,1878.0,1002.0,1281.0,1154.0,2074.0,464.0,503.0,1201.0,1294.0,451.0,814.0,1119.0,1428.0,1118.0,1949.0,1296.0,620.0,3358.0,1225.0,1225.0,1225.0,1023.0,3358.0,967.0,1374.0,1080.0,1387.0,1943.0,2074.0,1359.0,2061.0,1290.0,1308.0,2061.0,1943.0,1290.0,1290.0,1210.0,2125.0,1593.0,1566.0,497.0,687.0,975.0,1006.0,878.0,451.0,807.0,1006.0,1426.0,1359.0,2204.0,2074.0,2074.0,1290.0,1164.0,1290.0,707.0,1151.0,570.0,454.0,1258.0,556.0,762.0,3786.0,1788.0,1867.0,1037.0,1102.0,1037.0,778.0,1387.0,723.0,1127.0,1080.0,1506.0,803.0,810.0,1063.0,1037.0,1175.0,1943.0,1775.0,1690.0,940.0,762.0,1296.0,1387.0,1320.0,3745.0,1210.0,1411.0,1451.0,1814.0,3745.0,2149.0,2149.0,1808.0,789.0,1217.0,1605.0,445.0,1225.0,1225.0,1290.0,1569.0,1281.0,3604.0,428.0,428.0,445.0,3786.0,2143.0,777.0,1038.0,1605.0,1010.0,1361.0,1605.0,3591.0,2450.0,2074.0,945.0,2450.0,1346.0,1387.0,939.0,1320.0,756.0,2235.0,2930.0,3059.0,3369.0,1228.0,451.0,761.0,1142.0,2437.0,758.0,1788.0,1788.0,1225.0,1225.0,788.0,1752.0,1752.0,1042.0,1281.0,497.0,873.0,751.0,497.0,1801.0,2261.0,652.0,1119.0,1827.0,1085.0,428.0,739.0,1002.0,1893.0,1217.0,1281.0,1281.0,1296.0,603.0,2100.0,1478.0,713.0,1271.0,1042.0,1556.0,1232.0,1282.0,2048.0,1815.0,1685.0,2009.0,1272.0,1201.0,1262.0,1019.0,1775.0,1090.0,1232.0,1906.0,1042.0,1210.0,1436.0,1436.0,1596.0,2463.0,2433.0,1645.0,2204.0,1372.0,2204.0,1154.0,1142.0,1142.0,376.0,723.0,1142.0,376.0,1281.0,712.0,454.0,1372.0,1255.0,775.0,1110.0,1742.0,596.0,1653.0,765.0,490.0,557.0,2061.0,2061.0,1271.0,1271.0,739.0,1271.0,1271.0,542.0,941.0,2917.0,810.0,1042.0,460.0,1906.0,1055.0,1437.0,3474.0,1255.0,1372.0,1373.0,1314.0,1515.0,1042.0,1854.0,957.0,941.0,802.0,474.0,786.0,415.0,2930.0,1217.0,3059.0,1387.0,1129.0,2209.0,1281.0,451.0,620.0,1119.0,1184.0,452.0,1042.0,1605.0,2969.0,2136.0,860.0,1749.0,1006.0,957.0,941.0,1722.0,1119.0,1759.0,1382.0,1645.0,3096.0,1506.0,1926.0,1853.0,1346.0,1693.0,1943.0,1775.0,555.0,504.0,1024.0,1197.0,1115.0,1296.0,1037.0,1128.0,1050.0,1064.0,1937.0,454.0,2193.0,2193.0,2193.0,2193.0,2193.0,2193.0,1367.0,3665.0,1296.0,1608.0,1210.0,1698.0,3021.0,1119.0,620.0,1659.0,503.0,788.0,1281.0,2013.0,425.0,497.0,926.0,2191.0,2204.0,564.0,3760.0,3837.0,2865.0,3837.0,2865.0,1058.0,607.0,3047.0,2191.0,1318.0,979.0,1534.0,1880.0,1919.0,769.0,2365.0,2157.0,1736.0,769.0,3732.0,1210.0,1145.0,2980.0,1690.0,1812.0,1272.0,807.0,491.0,1658.0,1878.0,3630.0,945.0,1180.0,1167.0,962.0,1124.0,1119.0,1320.0,957.0,1006.0,2193.0,2161.0,2969.0,1119.0,2191.0,1088.0,2250.0,1933.0,3486.0,1617.0,454.0,497.0,1605.0,1320.0,1296.0,1849.0,945.0,501.0,1138.0,2144.0,1119.0,2332.0,707.0,484.0,1243.0,756.0,945.0,1281.0,2917.0,451.0,2309.0,1958.0,1646.0,1272.0,949.0,1036.0,1049.0,460.0,460.0,460.0,1741.0,460.0,3824.0,1387.0,2204.0,1602.0,804.0,506.0,1281.0,1318.0,1595.0,1488.0,1801.0,1271.0,1059.0,1059.0,1595.0,972.0,1683.0,972.0,2139.0,1595.0,1683.0,1683.0,570.0,857.0,1346.0,1593.0,1085.0,1198.0,3889.0,1346.0,1006.0,933.0,979.0,1232.0,3695.0,946.0,2930.0,780.0,1208.0,1281.0,497.0,1136.0,557.0,1002.0,1085.0,1085.0,441.0,1199.0,625.0,1683.0,2193.0,814.0,1752.0,1296.0,620.0,1538.0,799.0,1906.0,451.0,1151.0,707.0,3486.0,490.0,2450.0,497.0,814.0,497.0,1605.0,807.0,3591.0,612.0,497.0,1606.0,1880.0,1632.0,1387.0,1085.0,2930.0,1037.0,1102.0,1296.0,1621.0,1102.0,1037.0,1037.0,941.0,3047.0,2191.0,2230.0,2437.0,1672.0,451.0,441.0,2826.0,3591.0,975.0,878.0,975.0,807.0,2263.0,1383.0,3591.0,1037.0,1828.0,1605.0,1605.0,1888.0,1563.0,3237.0,992.0,743.0,743.0,1566.0,777.0,3552.0,1232.0,2124.0,1659.0,2124.0,1694.0,1694.0,3552.0,503.0,1396.0,1359.0,497.0,743.0,1540.0,1228.0,998.0,971.0,998.0,998.0,1488.0,629.0,971.0,998.0,503.0,620.0,503.0,814.0,2980.0,569.0,1645.0,1296.0,971.0,971.0,971.0,971.0,971.0,971.0,933.0,751.0,972.0,1232.0,1232.0,638.0,2917.0,2191.0,972.0,1688.0,2437.0,2191.0,1496.0,1426.0,3338.0,2160.0,1592.0,1488.0,570.0,1605.0,1605.0,1217.0,1368.0,1463.0,466.0,569.0,972.0,1943.0,777.0,2332.0,1694.0,570.0,1089.0,1153.0,1115.0,1271.0,1037.0,801.0,1387.0,976.0,1041.0,810.0,1064.0,1225.0,979.0,2567.0,1163.0,1436.0,1556.0,1788.0,1893.0,810.0,3578.0,3898.0,1943.0,777.0,1272.0,941.0,1872.0,1036.0,1267.0,2593.0,2852.0,1133.0,1133.0,547.0,979.0,2450.0,3059.0,2593.0,2852.0,570.0,3486.0,2256.0,2980.0,2057.0,1872.0,1377.0,1108.0,1167.0,1346.0,3047.0,2449.0,1469.0,581.0,1670.0,1752.0,691.0,1727.0,2193.0,2332.0,1905.0,1901.0,1901.0,691.0,491.0,1316.0,607.0,1659.0,834.0,775.0,498.0,1172.0,814.0,1080.0,1631.0,1645.0,1316.0,1150.0,1109.0,707.0,1136.0,1727.0,3907.0,1057.0,1060.0,1031.0,2332.0,2332.0,419.0,1063.0,2256.0,2256.0,2366.0,1049.0,497.0,1036.0,1189.0,1400.0,1400.0,1400.0,1400.0,1296.0,1400.0,586.0,1814.0,2364.0,895.0,1296.0,1283.0,1296.0,1296.0,1320.0,1127.0,1605.0,1514.0,691.0,652.0,574.0,503.0,503.0,905.0,1605.0,535.0,1670.0,1514.0,1189.0,1750.0,466.0,2317.0,1801.0,2254.0,1750.0,1752.0,570.0,1114.0,810.0,428.0,765.0,814.0,447.0,1443.0,1119.0,3059.0,1605.0,1436.0,905.0,814.0,1232.0,1908.0,3358.0,1909.0,1601.0,1933.0,1909.0,2308.0,1917.0,1057.0,486.0,1450.0,2332.0,2256.0,1737.0,555.0,1108.0,1621.0,1167.0,2191.0,810.0,1605.0,2425.0,933.0,2256.0,1617.0,2329.0,621.0,1400.0,933.0,2969.0,1488.0,462.0,2930.0,1054.0,1296.0,2365.0,1672.0,1123.0,2423.0,503.0,743.0,1608.0,1210.0,648.0,3591.0,2203.0,1788.0,542.0,2191.0,1216.0,1083.0,1083.0,1645.0,480.0,2398.0,480.0,480.0,2398.0,2401.0,480.0,2193.0,2398.0,1272.0,620.0,3369.0,3188.0,620.0,620.0,1608.0,2489.0,1281.0,1943.0,1088.0,1683.0,652.0,691.0,756.0,1296.0,1535.0,1654.0,1049.0,1670.0,1469.0,1670.0,581.0,1338.0,1672.0,994.0,1783.0,1420.0,376.0,814.0,1236.0,577.0,419.0,1436.0,2013.0,1400.0,1901.0,1506.0,1901.0,1466.0,1665.0,1930.0,1296.0,446.0,814.0,1504.0,583.0,650.0,3591.0,1119.0,607.0,3120.0,1400.0,555.0,905.0,1672.0,2243.0,2204.0,574.0,620.0,503.0,1167.0,1746.0,497.0,1014.0,1109.0,707.0,1839.0,1488.0,2852.0,777.0,1321.0,1296.0,514.0,1316.0,708.0,1296.0,1582.0,1773.0,1281.0,1992.0,1699.0,1281.0,446.0,451.0,1027.0,1478.0,1750.0,905.0,607.0,2138.0,451.0,555.0,1475.0,1217.0,1027.0,2073.0,751.0,1854.0,2720.0,621.0,497.0,1060.0,1060.0,1071.0,2321.0,807.0,1153.0,1153.0,1296.0,1119.0,1049.0,1736.0,2720.0,907.0,435.0,2463.0,1247.0,1954.0,600.0,934.0,1720.0,1296.0,644.0,607.0,1724.0,1854.0,458.0,1296.0,1296.0,2437.0,1172.0,1825.0,1863.0,1281.0,1272.0,2309.0,1296.0,1296.0,514.0,1346.0,1360.0,1653.0,1296.0,1296.0,2087.0,2437.0,3266.0,623.0,2450.0,3059.0,957.0,975.0,1560.0,1232.0,1839.0,882.0,1296.0,620.0,1296.0,1595.0,1605.0,600.0,1379.0,2176.0,2339.0,775.0,1423.0,1945.0,1828.0,454.0,796.0,2436.0,1258.0,1036.0,1334.0,777.0,1786.0,1760.0,1851.0,1346.0,1517.0,493.0,898.0,1071.0,3027.0,2384.0,2256.0,678.0,1696.0,898.0,1256.0,1593.0,782.0,1696.0,2034.0,2450.0,581.0,2191.0,607.0,2061.0,1180.0,1226.0,1175.0,814.0,2332.0,3591.0,1338.0,1569.0,446.0,1904.0,707.0,1006.0,2995.0,1281.0,583.0,778.0,1727.0,2852.0,581.0,497.0,2409.0,490.0,622.0,622.0,3047.0,1296.0,2204.0,2204.0,2134.0,1690.0,797.0,1113.0,1282.0,1282.0,1282.0,1282.0,1282.0,581.0,1164.0,1488.0,564.0,564.0,1176.0,1010.0,2191.0,2191.0,493.0,1387.0,1272.0,454.0,1469.0,581.0,2980.0,503.0,814.0,1697.0,2450.0,1011.0,2204.0,980.0,1688.0,1663.0,957.0,1815.0,800.0,759.0,547.0,1175.0,1188.0,2222.0,1954.0,1175.0,1338.0,1255.0,572.0,1659.0,1926.0,1815.0,932.0,2450.0,1684.0,2321.0,998.0,1438.0,1002.0,1019.0,1111.0,450.0,1243.0,1839.0,1190.0,1475.0,922.0,969.0,1852.0,756.0,3338.0,458.0,1932.0,1151.0,1346.0,2284.0,1672.0,1724.0,2995.0,1089.0,1255.0,1255.0,1560.0,1656.0,707.0,1006.0,1570.0,1322.0,869.0,1423.0,810.0,555.0,1255.0,1754.0,2232.0,2511.0,1400.0,2136.0,1469.0,1132.0,1694.0,1167.0,2332.0,2047.0,1296.0,1400.0,1901.0,1506.0,1255.0,1605.0,573.0,3578.0,2282.0,3059.0,620.0,2204.0,1632.0,1880.0,2204.0,2917.0,1763.0,925.0,1854.0,1440.0,2059.0,1338.0,1338.0,1010.0,765.0,882.0,972.0,945.0,941.0,947.0,504.0,912.0,1906.0,2243.0,1027.0,1699.0,1605.0,708.0,775.0,775.0,1208.0,1798.0,1750.0,2204.0,1748.0,1763.0,2164.0,1175.0,1683.0,1595.0,2243.0,2437.0,2243.0,2204.0,2134.0,2863.0,2048.0,717.0,1750.0,464.0,594.0,516.0,659.0,581.0,503.0,1901.0,707.0,451.0,769.0,2190.0,1255.0,782.0,1917.0,1151.0,1346.0,1752.0,1255.0,979.0,454.0,941.0,1488.0,707.0,1838.0,608.0,620.0,2112.0,1763.0,707.0,1006.0,1943.0,2826.0,1311.0,1346.0,1272.0,1663.0,3205.0,1338.0,1469.0,1400.0,1763.0,2193.0,542.0,1504.0,1038.0,504.0,1582.0,1109.0,1294.0,1181.0,3047.0,530.0,1798.0,2366.0,1754.0,1797.0,1797.0,1815.0,1697.0,1271.0,1271.0,1271.0,1255.0,529.0,1798.0,568.0,1386.0,1469.0,2177.0,2089.0,2125.0,1930.0,1683.0,1348.0,641.0,1193.0,1271.0,1245.0,1271.0,1361.0,1190.0,980.0,1491.0,1216.0,932.0,717.0,717.0,843.0,717.0,932.0,1592.0,609.0,1592.0,707.0,2332.0,2331.0,869.0,869.0,1348.0,493.0,1400.0,1309.0,1699.0,1670.0,999.0,1228.0,1058.0,1945.0,1798.0,542.0,1232.0,1569.0,2528.0,2243.0,1631.0,1798.0,1153.0,1943.0,957.0,2437.0,555.0,1119.0,598.0,1798.0,3235.0,1640.0,1495.0,668.0,1145.0,1293.0,1346.0,1236.0,1724.0,2541.0,1645.0,1006.0,707.0,1387.0,2545.0,2512.0,2282.0,1605.0,1748.0,1387.0,1801.0,1801.0,1663.0,1663.0,1798.0,1798.0,458.0,1684.0,972.0,777.0,2365.0,777.0,775.0,866.0,866.0,1605.0,2980.0,1798.0,1798.0,1798.0,972.0,777.0,972.0,594.0,1619.0,1412.0,1488.0,1652.0,1217.0,3047.0,1943.0,1120.0,991.0,1458.0,1844.0,950.0,2190.0,1172.0,451.0,464.0,495.0,817.0,661.0,1281.0,1400.0,1476.0,777.0,707.0,707.0,1006.0,1469.0,1478.0,1901.0,1888.0,1123.0,1653.0,1387.0,1136.0,1072.0,1132.0,2125.0,777.0,952.0,777.0,1271.0,1172.0,454.0,882.0,1049.0,1711.0,1933.0,1803.0,1569.0,1058.0,1956.0,1049.0,972.0,1049.0,1110.0,1232.0,1232.0,1387.0,1006.0,1694.0,1015.0,1123.0,1320.0,472.0,567.0,309.0,2190.0,2073.0,1566.0,743.0,691.0,620.0,1798.0,1153.0,620.0,775.0,503.0,1450.0,1165.0,1841.0,1841.0,598.0,1648.0,1153.0,830.0,659.0,840.0,620.0,710.0,451.0,2461.0,777.0,882.0,1400.0,1942.0,2067.0,1164.0,1216.0,694.0,756.0,1216.0,2658.0,1229.0,1216.0,1659.0,1006.0,3317.0,1229.0,707.0,1006.0,1294.0,1916.0,1281.0,1346.0,1216.0,1151.0,707.0,1750.0,1901.0,1906.0,1346.0,756.0,1281.0,1346.0,1750.0,732.0,756.0,1229.0,694.0,732.0,1864.0,1906.0,756.0,1901.0,1901.0,756.0,758.0,1906.0,1346.0,1901.0,1901.0,777.0,938.0,870.0,570.0,1049.0,1943.0,1387.0,1311.0,2088.0,309.0,1645.0,3654.0,1006.0,707.0,3436.0,1849.0,1595.0,1788.0,1785.0,583.0,556.0,1255.0,3240.0,2017.0,1569.0,1567.0,1827.0,2546.0,2139.0,1208.0,1343.0,1535.0,1687.0,1426.0,1514.0,1685.0,1060.0,1060.0,1049.0,594.0,503.0,813.0,1006.0,957.0,1272.0,493.0,1255.0,1255.0,1239.0,529.0,777.0,1535.0,810.0,1282.0,2541.0,1089.0,1089.0,920.0,1383.0,1325.0,659.0,1563.0,1669.0,1288.0,1426.0,425.0,1006.0,707.0,1159.0,1688.0,810.0,777.0,1228.0,1232.0,1232.0,1608.0,1099.0,762.0,2086.0,1267.0,2060.0,1867.0,775.0,777.0,1888.0,581.0,2430.0,1694.0,1954.0,1110.0,2430.0,1954.0,891.0,984.0,2165.0,1718.0,2157.0,854.0,2139.0,2398.0,570.0,1217.0,1943.0,2541.0,503.0,1232.0,1006.0,1006.0,1420.0,1854.0,938.0,1006.0,1711.0,1582.0,1217.0,2087.0,1156.0,1901.0,1006.0,1947.0,430.0,643.0,906.0,980.0,1888.0,1105.0,2900.0,2511.0,1919.0,1750.0,1346.0,1102.0],\"type\":\"box\",\"xaxis\":\"x\",\"yaxis\":\"y\"},{\"boxpoints\":\"outliers\",\"jitter\":0.3,\"name\":\"Vehicle Price\",\"pointpos\":-1.8,\"y\":[130700.0,299000.0,89260.0,59900.0,109990.0,58300.0,68800.0,84600.0,34400.0,29000.0,78505.0,224990.0,171030.0,108460.0,108460.0,182200.0,60800.0,84300.0,130700.0,108000.0,111900.0,99980.0,83800.0,90400.0,149888.0,139991.0,87600.0,90400.0,90260.0,89260.0,146061.0,59610.0,132800.0,162300.0,87200.0,139000.0,88200.0,101700.0,149700.0,123800.0,235990.0,188990.0,86400.0,83600.0,71800.0,76600.0,144900.0,35000.0,77600.0,75888.0,76888.0,72900.0,74900.0,74100.0,89260.0,171030.0,34400.0,29000.0,78300.0,90700.0,225990.0,159990.0,188990.0,235990.0,276990.0,79388.0,74100.0,75100.0,165800.0,91600.0,107188.0,111688.0,95388.0,116666.0,107188.0,111800.0,95688.0,82888.0,146888.0,72888.0,119000.0,135000.0,60300.0,137000.0,259000.0,196300.0,130388.0,73000.0,73000.0,137000.0,101000.0,110100.0,86300.0,38800.0,146061.0,90260.0,89260.0,73226.0,90400.0,72800.0,142900.0,28990.0,78300.0,142700.0,123850.0,101700.0,91150.0,184990.0,142000.0,268888.0,76000.0,268888.0,276990.0,142000.0,162800.0,135100.0,91600.0,103100.0,74736.0,142888.0,259888.0,108888.0,168888.0,101480.0,143000.0,42530.0,59000.0,47800.0,185970.0,86300.0,115800.0,34400.0,103200.0,45000.0,91700.0,124400.0,101350.0,108750.0,102250.0,144950.0,86300.0,86300.0,34800.0,77600.0,129000.0,128888.0,75888.0,75000.0,74000.0,74800.0,111800.0,73600.0,108000.0,62500.0,73100.0,139433.0,45000.0,86300.0,98800.0,300668.0,287888.0,141200.0,142000.0,139000.0,93300.0,99980.0,181700.0,99900.0,196000.0,250688.0,34800.0,75600.0,72600.0,59900.0,77260.0,144600.0,130200.0,168300.0,155200.0,211800.0,107460.0,189800.0,219800.0,123600.0,204800.0,173980.0,137900.0,28990.0,136888.0,287888.0,130700.0,73000.0,73000.0,28990.0,34300.0,85655.0,69800.0,136788.0,159788.0,167788.0,133888.0,80888.0,159000.0,34800.0,128800.0,181060.0,142561.0,74260.0,33400.0,182400.0,299000.0,107460.0,84260.0,56900.0,29000.0,35990.0,159990.0,98800.0,78290.0,29000.0,144500.0,83300.0,86500.0,77600.0,108000.0,71000.0,123800.0,85655.0,84260.0,124880.0,82100.0,83100.0,119888.0,88000.0,146799.0,73400.0,75500.0,43980.0,78290.0,29000.0,147888.0,85310.0,87310.0,168800.0,107990.0,98880.0,75500.0,62800.0,77600.0,113000.0,47800.0,113300.0,88600.0,111800.0,108000.0,108000.0,110800.0,74500.0,78000.0,69800.0,83888.0,99980.0,225990.0,83100.0,87200.0,164500.0,77900.0,82900.0,143400.0,91100.0,75210.0,54610.0,99980.0,99980.0,72380.0,73000.0,29190.0,73000.0,83000.0,83010.0,167000.0,167000.0,167000.0,83000.0,57000.0,90110.0,111900.0,73800.0,74900.0,139700.0,81310.0,86800.0,187460.0,77260.0,76260.0,120600.0,98000.0,98000.0,98000.0,33000.0,56000.0,97000.0,33000.0,295800.0,39000.0,49000.0,143400.0,132888.0,88600.0,128800.0,123000.0,169188.0,158679.0,46000.0,139800.0,107990.0,188990.0,73000.0,73000.0,29000.0,78305.0,59900.0,61500.0,53610.0,188990.0,225990.0,108000.0,276990.0,98000.0,268888.0,123123.0,101806.0,103000.0,196340.0,158600.0,80300.0,59999.0,86600.0,167000.0,167000.0,54900.0,163000.0,78505.0,168000.0,72900.0,159990.0,80300.0,82600.0,169000.0,188000.0,196340.0,101800.0,34580.0,62500.0,62000.0,81390.0,132308.0,76100.0,99980.0,92880.0,62000.0,70330.0,62500.0,49900.0,77600.0,77900.0,33940.0,38000.0,72900.0,61500.0,63150.0,143888.0,86300.0,110800.0,101800.0,34300.0,108000.0,59610.0,59610.0,59610.0,76880.0,99640.0,69800.0,24250.0,55060.0,74600.0,93300.0,218533.0,130700.0,111800.0,77600.0,77000.0,225880.0,144000.0,74100.0,144000.0,146000.0,149600.0,128526.0,278888.0,171030.0,171030.0,146061.0,107990.0,146061.0,76600.0,144900.0,69888.0,98123.0,98123.0,98123.0,159990.0,41800.0,73000.0,69800.0,93300.0,137000.0,170000.0,77600.0,47800.0,44800.0,278888.0,34800.0,34800.0,34800.0,86300.0,86300.0,34800.0,99980.0,74600.0,113800.0,108000.0,50300.0,107990.0,113300.0,93300.0,123800.0,86300.0,110800.0,101800.0,58300.0,54000.0,38800.0,144888.0,147600.0,76600.0,77000.0,287000.0,148000.0,108800.0,286000.0,136000.0,167000.0,103600.0,125900.0,83720.0,158600.0,158600.0,81300.0,135000.0,169000.0,41800.0,263500.0,263500.0,183000.0,62800.0,130800.0,34800.0,172000.0,134952.0,67300.0,74100.0,159990.0,130888.0,165888.0,75600.0,76000.0,93200.0,69288.0,77988.0,83000.0,148000.0,38700.0,148888.0,37000.0,83000.0,108000.0,70000.0,77000.0,53800.0,77580.0,59610.0,110800.0,179000.0,62800.0,139000.0,219000.0,130800.0,130400.0,121800.0,89800.0,34000.0,78600.0,114800.0,275000.0,75500.0,81390.0,130400.0,38300.0,34400.0,38300.0,86300.0,38300.0,137700.0,40500.0,40500.0,64900.0,70500.0,78200.0,48400.0,57000.0,62100.0,38100.0,45700.0,51900.0,64800.0,69700.0,75200.0,80700.0,75500.0,101200.0,101200.0,86300.0,98800.0,40000.0,62800.0,42800.0,62800.0,103200.0,62500.0,99980.0,139600.0,72100.0,72800.0,74800.0,71000.0,71000.0,90600.0,57715.0,57715.0,47215.0,47215.0,85600.0,137400.0,108460.0,108460.0,90260.0,90260.0,89600.0,107000.0,90110.0,168395.0,130200.0,219800.0,182218.0,189800.0,155255.0,107990.0,144888.0,182200.0,137900.0,155300.0,127900.0,34000.0,141800.0,142000.0,147600.0,81800.0,107990.0,149800.0,168000.0,56860.0,88200.0,106300.0,92655.0,75680.0,34400.0,38000.0,86300.0,86300.0,38300.0,38000.0,42800.0,188990.0,77900.0,269000.0,149800.0,73800.0,182000.0,130388.0,124000.0,196300.0,155800.0,172788.0,139788.0,130788.0,72600.0,179000.0,62500.0,161000.0,106800.0,108000.0,96000.0,94700.0,95800.0,111800.0,111800.0,90800.0,107300.0,63800.0,107300.0,113000.0,98880.0,127524.0,127152.0,46137.0,67800.0,135800.0,135800.0,135800.0,110300.0,85655.0,110300.0,155990.0,231990.0,276990.0,225990.0,225990.0,77600.0,143900.0,181400.0,77200.0,79888.0,79664.0,89212.0,93300.0,56800.0,40000.0,93300.0,40000.0,93300.0,93300.0,93300.0,45000.0,34400.0,72540.0,61240.0,32225.0,46190.0,61240.0,76600.0,44120.0,71000.0,71000.0,76000.0,225990.0,85600.0,32300.0,118400.0,138888.0,149888.0,126425.0,276990.0,79000.0,268888.0,77000.0,71888.0,128888.0,108888.0,126888.0,70888.0,87600.0,160000.0,129690.0,145888.0,233528.0,60888.0,49888.0,61888.0,116700.0,99980.0,250000.0,81390.0,46190.0,59900.0,75000.0,250000.0,90700.0,149888.0,59900.0,187800.0,86300.0,108000.0,48400.0,199888.0,145400.0,165000.0,75800.0,90000.0,141880.0,75500.0,179888.0,277000.0,71000.0,71000.0,86400.0,156538.0,219800.0,36557.0,113300.0,141888.0,60165.0,34000.0,111800.0,77600.0,85655.0,34000.0,34000.0,235800.0,108200.0,193634.0,85600.0,85655.0,85655.0,85655.0,192800.0,245000.0,239000.0,102000.0,122000.0,127700.0,239000.0,287000.0,62215.0,38385.0,38385.0,41800.0,41800.0,83300.0,59610.0,140000.0,47800.0,35000.0,71000.0,71000.0,34300.0,112999.0,155430.0,292000.0,34000.0,34888.0,149282.0,229888.0,57300.0,107990.0,133151.0,97810.0,78800.0,145888.0,75000.0,84800.0,287888.0,82800.0,144900.0,116700.0,281888.0,89500.0,80800.0,107000.0,126000.0,169000.0,158600.0,93300.0,261000.0,233000.0,41800.0,249500.0,233000.0,46800.0,148600.0,59165.0,44300.0,122800.0,93300.0,259000.0,167000.0,167000.0,137000.0,70980.0,113300.0,235990.0,101000.0,98000.0,101000.0,98800.0,90000.0,98200.0,34000.0,86300.0,112988.0,283888.0,287888.0,86300.0,81390.0,93300.0,193760.0,75800.0,59900.0,77900.0,99980.0,76600.0,178800.0,33985.0,146938.0,141000.0,141000.0,81390.0,113000.0,113000.0,113000.0,87600.0,113000.0,87600.0,113000.0,87600.0,87600.0,72000.0,120000.0,86600.0,112988.0,113777.0,59610.0,73180.0,73180.0,78100.0,136888.0,108000.0,169990.0,99640.0,86300.0,98800.0,188990.0,222690.0,235990.0,128888.0,76600.0,103200.0,74000.0,74000.0,93300.0,180800.0,93000.0,34800.0,73400.0,98100.0,87900.0,152880.0,223700.0,158600.0,270333.0,146788.0,95800.0,104800.0,95800.0,122800.0,104800.0,63800.0,90300.0,96800.0,139800.0,35000.0,71000.0,72500.0,34300.0,63800.0,82800.0,159990.0,137000.0,78600.0,77600.0,146900.0,137000.0,84000.0,86400.0,103200.0,72500.0,72000.0,208760.0,185970.0,104823.0,141151.0,145208.0,169000.0,231000.0,263000.0,233000.0,81300.0,93300.0,135000.0,38300.0,124000.0,124000.0,263000.0,72000.0,82800.0,99980.0,227000.0,159000.0,144888.0,189000.0,33800.0,188000.0,235000.0,169000.0,124000.0,146788.0,93300.0,108000.0,137000.0,130388.0,276999.0,60888.0,72300.0,67300.0,77900.0,59610.0,36360.0,78800.0,71800.0,70800.0,113000.0,117800.0,111800.0,116800.0,81390.0,34300.0,149888.0,149888.0,167000.0,159990.0,130388.0,167000.0,183288.0,81390.0,126900.0,107990.0,161500.0,96170.0,46137.0,76260.0,76260.0,84260.0,84260.0,107460.0,107460.0,93260.0,77260.0,77260.0,76100.0,62000.0,64000.0,167000.0,62280.0,72880.0,137000.0,59900.0,167000.0,83000.0,96680.0,44385.0,114880.0,85260.0,130788.0,114800.0,130700.0,108000.0,126500.0,126500.0,269000.0,107990.0,83000.0,58300.0,31300.0,101200.0,142000.0,43980.0,50900.0,34990.0,125788.0,145226.0,141000.0,82000.0,77260.0,93260.0,76260.0,76260.0,99980.0,69000.0,72000.0,86720.0,70600.0,287888.0,144888.0,86720.0,139700.0,108200.0,108200.0,144400.0,96850.0,91150.0,100800.0,101700.0,142788.0,113788.0,47374.0,96868.0,101200.0,124900.0,137000.0,167000.0,183288.0,79390.0,72600.0,71600.0,251888.0,283888.0,268888.0,268888.0,187400.0,90600.0,101200.0,99980.0,98800.0,188000.0,169800.0,85720.0,269000.0,198800.0,77600.0,177000.0,276990.0,137700.0,114200.0,85991.0,144600.0,199164.0,276000.0,287888.0,99980.0,68526.0,87900.0,41800.0,80800.0,108000.0,125526.0,99980.0,130400.0,93000.0,96800.0,116200.0,149600.0,95000.0,99980.0,86600.0,86600.0,108000.0,72800.0,130388.0,63800.0,53000.0,47800.0,113300.0,44300.0,93000.0,79890.0,139700.0,35000.0,126900.0,107900.0,117400.0,150000.0,114000.0,105000.0,86600.0,188000.0,99980.0,113888.0,142888.0,72666.0,40148.0,79000.0,93300.0,77637.0,80112.0,99980.0,175000.0,108000.0,85600.0,146900.0,84000.0,166500.0,196340.0,287888.0,280000.0,80000.0,235990.0,38000.0,66800.0,196340.0,74000.0,98000.0,130388.0,182400.0,139788.0,139788.0,139788.0,148788.0,132788.0,132788.0,148788.0,148788.0,139788.0,34000.0,137000.0,80800.0,167800.0,139000.0,132000.0,139000.0,95800.0,34990.0,95800.0,107300.0,107800.0,290688.0,98800.0,90300.0,98800.0,87300.0,87300.0,108000.0,110800.0,142000.0,34300.0,136000.0,184000.0,108000.0,123800.0,77900.0,123800.0,101155.0,268888.0,74000.0,76000.0,169000.0,62280.0,286800.0,235990.0,225990.0,79390.0,276000.0,159990.0,130172.0,41800.0,101480.0,124888.0,142888.0,165888.0,74100.0,134888.0,287598.0,135000.0,99480.0,99480.0,103200.0,130388.0,168888.0,103200.0,137900.0,91150.0,99480.0,93800.0,39500.0,167000.0,137000.0,193700.0,61859.0,77873.0,74890.0,176159.0,137952.0,229888.0,183800.0,130388.0,106990.0,98800.0,73400.0,35300.0,34870.0,24320.0,46750.0,139800.0,99980.0,259888.0,72036.0,38300.0,287888.0,59900.0,39800.0,99480.0,163000.0,83300.0,134888.0,93888.0,108000.0,140800.0,150700.0,103200.0,73800.0,37255.0,77600.0,149800.0,38300.0,72300.0,59000.0,75218.0,167800.0,99980.0,125900.0,104800.0,104800.0,104800.0,288888.0,142888.0,106990.0,273000.0,269000.0,273000.0,273000.0,288888.0,51700.0,101532.0,225990.0,108276.0,82810.0,167800.0,149800.0,98888.0,53300.0,188990.0,105800.0,135000.0,135000.0,249000.0,135000.0,183000.0,263500.0,136999.0,108000.0,108000.0,144000.0,167800.0,137000.0,137000.0,120800.0,167800.0,108000.0,38800.0,73100.0,99480.0,142800.0,79000.0,72900.0,90400.0,169990.0,235990.0,99980.0,80390.0,91150.0,103670.0,135103.0,169188.0,106990.0,74623.0,78000.0,71888.0,137000.0,167000.0,167000.0,167000.0,79300.0,38000.0,140000.0,168000.0,183800.0,182588.0,145600.0,117900.0,98000.0,168500.0,54500.0,88800.0,281990.0,161059.0,172170.0,101800.0,167888.0,75500.0,59900.0,77900.0,141679.0,195000.0,60832.0,48500.0,67710.0,80000.0,287888.0,62000.0,96000.0,62000.0,80390.0,73100.0,35000.0,58400.0,74700.0,102000.0,35990.0,263000.0,183000.0,263500.0,123123.0,136819.0,102000.0,34400.0,137000.0,137000.0,137000.0,136788.0,80360.0,138561.0,287000.0,138552.0,128300.0,233500.0,196000.0,141900.0,82700.0,85900.0,138888.0,98800.0,91600.0,171400.0,90600.0,87700.0,287000.0,132888.0,143600.0,79888.0,108000.0,108000.0,137000.0,268888.0,268888.0,287900.0,137000.0,99980.0,114460.0,48190.0,228888.0,218528.0,195000.0,72580.0,288888.0,288888.0,288888.0,288888.0,288888.0,288888.0,288888.0,41800.0,128800.0,126788.0,42800.0,34400.0,128800.0,130788.0,77900.0,98123.0,158635.0,146600.0,151000.0,135100.0,91600.0,72036.0,83888.0,87600.0,124700.0,72000.0,80390.0,80390.0,145600.0,98123.0,167000.0,161430.0,167000.0,253888.0,95880.0,103800.0,54500.0,88800.0,53900.0,119700.0,114600.0,136888.0,119200.0,259245.0,73960.0,229888.0,88000.0,41300.0,77580.0,38300.0,47300.0,54800.0,43800.0,35800.0,93300.0,112000.0,171400.0,49980.0,110800.0,137000.0,80390.0,288888.0,73600.0,111000.0,137000.0,142000.0,99980.0,106990.0,126700.0,84300.0,64500.0,86600.0,137000.0,135103.0,98800.0,76600.0,37000.0,46000.0,54000.0,89000.0,80000.0,96333.0,118888.0,127888.0,124888.0,129888.0,96333.0,101999.0,75000.0,72600.0,59900.0,68000.0,78000.0,54900.0,169188.0,67300.0,88900.0,62800.0,73000.0,113000.0,160000.0,276000.0,146900.0,187400.0,45000.0,97800.0,139820.0,43190.0,80390.0,81390.0,125900.0,80390.0,268800.0,71260.0,85600.0,165000.0,110800.0,86300.0,117900.0,86300.0,110800.0,93300.0,110800.0,137000.0,137000.0,43980.0,43190.0,39000.0,82888.0,109770.0,161430.0,131103.0,35800.0,130388.0,166388.0,34000.0,98000.0,61685.0,75458.0,138000.0,108000.0,75684.0,77580.0,59610.0,46230.0,87000.0,98000.0,75000.0,38890.0,137000.0,137000.0,259000.0,75000.0,38890.0,86000.0,33100.0,74700.0,108000.0,177000.0,34400.0,132888.0,80888.0,95600.0,135000.0,24090.0,86600.0,77900.0,93599.0,36580.0,188990.0,176600.0,138700.0,54500.0,46230.0,54610.0,133000.0,166549.0,69000.0,122800.0,117800.0,97000.0,80700.0,74300.0,86300.0,159000.0,72900.0,138300.0,109770.0,135103.0,143300.0,80000.0,89888.0,83888.0,95888.0,120600.0,288888.0,82900.0,46000.0,31000.0,64481.0,140888.0,278888.0,75680.0,44120.0,75555.0,123800.0,49980.0,187000.0,99980.0,34800.0,225990.0,169990.0,268888.0,268888.0,60800.0,34800.0,86300.0,97800.0,86300.0,103200.0,80390.0,30000.0,62210.0,77580.0,75600.0,80390.0,80390.0,87600.0,57300.0,102000.0,81260.0,61500.0,66100.0,287888.0,169990.0,113800.0,83700.0,99970.0,125900.0,75600.0,63800.0,123000.0,33940.0,159300.0,146600.0,86600.0,114800.0,166388.0,37515.0,160000.0,149888.0,222100.0,69800.0,104606.0,98000.0,185000.0,83700.0,47500.0,34000.0,86600.0,141888.0,149880.0,135000.0,123800.0,88900.0,123000.0,38300.0,97800.0,160000.0,54500.0,88800.0,123292.0,87994.0,70500.0,70940.0,113300.0,149800.0,149800.0,149800.0,90400.0,130000.0,96800.0,82600.0,161300.0,113888.0,68000.0,72900.0,145800.0,235990.0,79600.0,132788.0,139788.0,87700.0,75885.0,88800.0,93300.0,75000.0,75000.0,65000.0,98000.0,86000.0,113000.0,247228.0,189000.0,169188.0,104741.0,38000.0,138000.0,138000.0,138000.0,167000.0,167000.0,33490.0,91360.0,34990.0,91360.0,59810.0,62500.0,84360.0,138300.0,84360.0,185500.0,142888.0,142888.0,229000.0,97800.0,148600.0,83888.0,136888.0,149888.0,103800.0,86912.0,160333.0,159990.0,259000.0,167000.0,138000.0,132000.0,169990.0,128388.0,99917.0,91169.0,108164.0,87700.0,108000.0,108000.0,164000.0,120800.0,287888.0,33800.0,103990.0,107999.0,165888.0,130888.0,40300.0,85655.0,127000.0,228990.0,98000.0,110800.0,169990.0,110800.0,86599.0,38385.0,99980.0,124729.0,98000.0,98000.0,98000.0,169188.0,88900.0,83900.0,138000.0,138000.0,259000.0,138000.0,167000.0,167000.0,71000.0,123000.0,80000.0,80000.0,139788.0,82000.0,77600.0,88599.0,83888.0,148600.0,79888.0,115200.0,225990.0,99980.0,268888.0,80888.0,144000.0,55000.0,161800.0,78260.0,90600.0,88100.0,269000.0,137900.0,70980.0,72906.0,72906.0,72906.0,268888.0,86300.0,86000.0,297000.0,35610.0,93300.0,189060.0,189060.0,94200.0,38385.0,128303.0,83888.0,148600.0,79888.0,80888.0,142088.0,90000.0,139888.0,94000.0,285000.0,276990.0,87000.0,122888.0,118666.0,129888.0,118666.0,129888.0,122888.0,128000.0,38800.0,62000.0,72900.0,45500.0,118400.0,85600.0,103000.0,108000.0,85600.0,75500.0,98800.0,169000.0,123800.0,120444.0,259000.0,47890.0,58600.0,59064.0,58900.0,167000.0,38300.0,69800.0,59300.0,98800.0,98800.0,235000.0,139000.0,167000.0,139000.0,128000.0,225000.0,103200.0,72000.0,124779.0,72900.0,137888.0,223760.0,79588.0,118800.0,90300.0,81000.0,105800.0,77900.0,278888.0,80000.0,103000.0,108000.0,43710.0,123000.0,74000.0,48000.0,51000.0,86300.0,80000.0,72900.0,87000.0,106990.0,125900.0,99980.0,80390.0,149888.0,273000.0,88900.0,99980.0,80000.0,235000.0,49980.0,287000.0,80000.0,108000.0,129700.0,268888.0,23367.0,42551.0,48356.0,235000.0,276000.0,235000.0,169900.0,130388.0,166388.0,259888.0,268888.0,35500.0,268888.0,103200.0,91600.0,139788.0,139788.0,139788.0,139788.0,45700.0,139788.0,33490.0,139788.0,49980.0,128303.0,72600.0,75500.0,99980.0,59500.0,79000.0,103200.0,103000.0,80000.0,125149.0,59000.0,53969.0,48000.0,84976.0,33270.0,80000.0,80390.0,103000.0,80000.0,108000.0,95880.0,50900.0,138888.0,77600.0,95000.0,225990.0,54500.0,88800.0,180724.0,59610.0,75500.0,138000.0,125900.0,145000.0,145000.0,34800.0,88700.0,113000.0,80000.0,42800.0,101800.0,105800.0,129788.0,38300.0,128000.0,81000.0,169990.0,276990.0,155700.0,102999.0,36360.0,86300.0,135000.0,98800.0,34900.0,93300.0,132788.0,51500.0,77600.0,58300.0,103800.0,75800.0,90400.0,179888.0,79260.0,229888.0,251888.0,283888.0,115888.0,259000.0,259000.0,167000.0,139000.0,77580.0,169800.0,111900.0,166500.0,125233.0,34800.0,132788.0,139788.0,175888.0,100000.0,69000.0,80000.0,123000.0,99980.0,148600.0,95888.0,79888.0,95888.0,136888.0,148600.0,72900.0,225000.0,188000.0,103200.0,57000.0,268888.0,34800.0,95880.0,163800.0,166173.0,72380.0,80360.0,71800.0,140000.0,42800.0,118800.0,62660.0,123800.0,123800.0,123800.0,123800.0,123800.0,57000.0,47800.0,102200.0,103200.0,94800.0,36360.0,188000.0,127600.0,41800.0,273000.0,38300.0,74988.0,146600.0,99980.0,162888.0,83888.0,136888.0,148600.0,142900.0,149888.0,69999.0,64481.0,141000.0,73760.0,123800.0,72000.0,69000.0,72580.0,167000.0,139000.0,139000.0,139000.0,42800.0,86900.0,58300.0,123000.0,84976.0,72580.0,161659.0,120059.0,74800.0,220880.0,122000.0,135103.0,38000.0,55500.0,276000.0,124888.0,139788.0,169188.0,95000.0,90400.0,87600.0,95000.0,90400.0,95000.0,95000.0,87600.0,90400.0,90400.0,90400.0,87600.0,95000.0,87600.0,95000.0,87600.0,141888.0,95000.0,87600.0,101700.0,109499.0,33000.0,91150.0,225000.0,225990.0,172990.0,205000.0,108200.0,92449.0,141679.0,167000.0,158679.0,103200.0,82000.0,149880.0,108000.0,33720.0,177888.0,108800.0,148000.0,123000.0,87600.0,134000.0,144999.0,47800.0,77580.0,72380.0,54610.0,75210.0,25300.0,36500.0,34900.0,167288.0,86500.0,94000.0,205000.0,232000.0,93300.0,101800.0,93300.0,281000.0,95000.0,113888.0,59900.0,118888.0,118888.0,105800.0,74500.0,43800.0,74900.0,120825.0,120825.0,85600.0,287888.0,174500.0,88800.0,54500.0,72900.0,103200.0,160000.0,278888.0,38300.0,276000.0,132788.0,139788.0,139788.0,139788.0,88825.0,155000.0,287888.0,90600.0,38800.0,54800.0,41800.0,268888.0,268888.0,223760.0,62280.0,38670.0,35371.0,87000.0,68000.0,80355.0,59900.0,36580.0,38890.0,223666.0,138800.0,175000.0,139900.0,80888.0,139000.0,109000.0,109000.0,139000.0,34800.0,92655.0,73600.0,75500.0,68900.0,75210.0,38300.0,162888.0,287000.0,276000.0,75000.0,72000.0,72000.0,75000.0,53000.0,147219.0,101800.0,296888.0,79888.0,160330.0,43980.0,77900.0,68000.0,90400.0,87584.0,87584.0,87584.0,141888.0,128725.0,98800.0,120800.0,43710.0,83420.0,38300.0,72900.0,167400.0,89600.0,161300.0,141400.0,86300.0,118800.0,68000.0,113300.0,58300.0,88800.0,103800.0,161000.0,56715.0,38385.0,46500.0,58900.0,62500.0,55500.0,55500.0,225000.0,38800.0,93200.0,233000.0,117600.0,80688.0,44800.0,86600.0,97700.0,75500.0,108200.0,74000.0,77000.0,44800.0,145600.0,268888.0,75000.0,77000.0,75000.0,77000.0,38300.0,93300.0,77900.0,149700.0,72900.0,60000.0,37300.0,88900.0,99980.0,289000.0,163000.0,106648.0,123850.0,86500.0,89599.0,85000.0,65000.0,105800.0,43000.0,86300.0,58800.0,48500.0,88000.0,138888.0,86300.0,123000.0,159900.0,159900.0,158000.0,110000.0,81664.0,102099.0,86600.0,54900.0,89000.0,75000.0,99980.0,91700.0,129888.0,268888.0,100000.0,125000.0,80000.0,80000.0,240000.0,59900.0,118400.0,120825.0,118400.0,118400.0,99980.0,276000.0,54500.0,88800.0,276990.0,96888.0,96333.0,96888.0,96333.0,118666.0,108000.0,82700.0,50900.0,267800.0,93000.0,195000.0,98000.0,285000.0,119800.0,62800.0,62800.0,177532.0,176159.0,114800.0,85000.0,60000.0,225990.0,73400.0,123600.0,235990.0,188990.0,98800.0,38300.0,90300.0,123800.0,83444.0,175000.0,56100.0,124729.0,101800.0,285000.0,295000.0,295000.0,105800.0,135000.0,54500.0,147000.0,289000.0,125800.0,120444.0,95000.0,117800.0,128000.0,95000.0,69800.0,69800.0,109000.0,127000.0,124700.0,49715.0,124100.0,125900.0,74260.0,90300.0,130000.0,90300.0,105800.0,105800.0,111300.0,117900.0,54000.0,109000.0,109000.0,110700.0,103800.0,83444.0,228666.0,123800.0,80110.0,167000.0,128000.0,295000.0,167000.0,167000.0,114800.0,103000.0,117900.0,166033.0,132220.0,72000.0,98800.0,74900.0,83888.0,117200.0,75800.0,285000.0,289000.0,122000.0,122000.0,141000.0,186000.0,70800.0,111880.0,108000.0,135000.0,116527.0,43980.0,121000.0,111880.0,148788.0,75456.0,47100.0,105800.0,118800.0,114800.0,72000.0,77000.0,75000.0,72000.0,72000.0,114800.0,74900.0,77000.0,74900.0,114800.0,77000.0,72000.0,114800.0,75000.0,72000.0,114800.0,77000.0,114800.0,90600.0,146900.0,62280.0,85564.0,72600.0,54500.0,59900.0,73400.0,43980.0,59900.0,89600.0,145800.0,81800.0,67800.0,133900.0,141000.0,121900.0,76880.0,73400.0,118600.0,75000.0,72900.0,111300.0,93300.0,93300.0,33490.0,205000.0,206800.0,83380.0,45500.0,73900.0,52700.0,199000.0,151500.0,147500.0,64215.0,75000.0,120600.0,205000.0,206800.0,112800.0,110800.0,114000.0,100800.0,125000.0,80000.0,125000.0,286000.0,98800.0,141331.0,60000.0,114460.0,60000.0,112800.0,96300.0,206800.0,205000.0,205000.0,130360.0,130360.0,114460.0,36300.0,123000.0,130360.0,130360.0,95800.0,95000.0,96000.0,288000.0,128819.0,225000.0,43000.0,38300.0,123000.0,169990.0,56988.0,160000.0,128000.0,118400.0,71000.0,74000.0,52500.0,46500.0,34800.0,46800.0,100000.0,50600.0,128303.0,135000.0,175000.0,144700.0,259000.0,135600.0,176400.0,143900.0,143900.0,100500.0,169000.0,123000.0,166388.0,110000.0,58300.0,118400.0,169990.0,96000.0,61500.0,55165.0,75600.0,229888.0,40400.0,149888.0,108000.0,38800.0,220290.0,126900.0,142888.0,32900.0,110000.0,168000.0,108000.0,128000.0,142000.0,107999.0,108000.0,75300.0,80000.0,108000.0,168000.0,75500.0,110000.0,113888.0,54165.0,54165.0,123800.0,114800.0,81000.0,31000.0,97000.0,87600.0,87600.0,87600.0,90400.0,106000.0,88900.0,110800.0,75380.0,75500.0,35000.0,42700.0,40335.0,40335.0,54165.0,47165.0,47165.0,235000.0,100000.0,80000.0,106000.0,148888.0,129800.0,177000.0,80556.0,150000.0,182800.0,168800.0,103000.0,103000.0,159900.0,159900.0,142600.0,142600.0,163900.0,141300.0,148900.0,168900.0,129000.0,65900.0,145000.0,141000.0,151700.0,35800.0,58800.0,152773.0,80000.0,161616.0,126753.0,37255.0,58470.0,78000.0,158950.0,160109.0,78890.0,103990.0,100800.0,177311.0,173100.0,150700.0,174800.0,131929.0,135400.0,143218.0,143900.0,196340.0,144700.0,152773.0,155679.0,40490.0,132888.0,120800.0,144000.0,143000.0,124000.0,124000.0,124000.0,124000.0,113999.0,265000.0,39800.0,129888.0,159000.0,113999.0,105800.0,113999.0,115000.0,148000.0,71000.0,103000.0,115000.0,103000.0,55888.0,141500.0,55800.0,114888.0,166500.0,133825.0,102999.0,56888.0,248000.0,113999.0,115000.0,103000.0,114888.0,114888.0,103000.0,39800.0,115000.0,53888.0,67800.0,115000.0,118400.0,115000.0,118400.0,122000.0,292266.0,282540.0,103000.0,91775.0,101798.0,40490.0,40900.0,104000.0,67800.0,141000.0,103000.0,103000.0,71000.0,31000.0,71300.0,68700.0,121300.0,71600.0,132800.0,132800.0,103990.0,103990.0,71000.0,130800.0,141800.0,103990.0,77890.0,141800.0,66100.0,151000.0,208000.0,130800.0,82593.0,241997.0,197842.0,231651.0,120754.0,145000.0,144000.0,135800.0,73000.0,124000.0,115000.0,115000.0,103000.0,114000.0,115000.0,103000.0,103000.0,75000.0,122888.0,115000.0,103000.0,115000.0,103000.0,74300.0,40900.0,93800.0,74000.0,133900.0,97000.0,70000.0,70000.0,68800.0,163000.0,132800.0,161300.0,153800.0,68000.0,123000.0,78000.0,67800.0,92000.0,94000.0,136500.0,68000.0,122000.0,68800.0,99000.0,106000.0,65000.0,71500.0,72000.0,204000.0,72000.0,72000.0,72000.0,72000.0,72623.0,80000.0,71888.0,144000.0,103000.0,103000.0,103000.0,34700.0,290000.0,108000.0,108000.0,108000.0,108000.0,108000.0,288888.0,219800.0,145888.0,145888.0,145888.0,145888.0,145888.0,145888.0,288888.0,288888.0,222222.0,200000.0,299000.0,299000.0,299000.0,299000.0,299000.0,299000.0,259888.0,259888.0,259888.0,219800.0,281888.0,263888.0,219800.0,219800.0,219800.0,145888.0,142000.0,168800.0,142000.0,137400.0,137400.0,137400.0,137400.0,137400.0,142000.0,137400.0,142000.0,137400.0,137400.0,137400.0,142000.0,290000.0,108000.0,108000.0,108000.0,130888.0,119888.0,218888.0,183800.0,137900.0,133000.0,98000.0,148000.0,167800.0,167800.0,167800.0,167800.0,167800.0,149800.0,149800.0,149800.0,149800.0,149800.0,55060.0,119888.0,159900.0,130000.0,230000.0,183800.0,145000.0,175000.0,130000.0,134429.0,155300.0,85723.0,55060.0,55060.0,133000.0,135000.0,56800.0,98000.0,96000.0,123600.0,289800.0,288000.0,87000.0,286000.0,229888.0,259888.0,80000.0,80000.0,103000.0,103000.0,80000.0,80000.0,108000.0,68800.0,68800.0,48230.0,95000.0,100000.0,69800.0,69800.0,112800.0,88800.0,86800.0,119000.0,295000.0,295000.0,108000.0,89800.0,69800.0,108500.0,183800.0,87600.0,87600.0,87600.0,90400.0,90400.0,141888.0,141888.0,141888.0,141888.0,134898.0,85655.0,125233.0,101155.0,123123.0,110123.0,116123.0,41385.0,112655.0,92655.0,295000.0,249500.0,38799.0,98800.0,85810.0,134429.0,101155.0,89000.0,123123.0,123123.0,47800.0,123123.0,92655.0,69215.0,116123.0,101155.0,123123.0,92000.0,127898.0,56715.0,52715.0,110123.0,57715.0,110123.0,116123.0,69215.0,41385.0,301000.0,105800.0,141000.0,156000.0,140000.0,259888.0,41385.0,69215.0,77310.0,94710.0,62800.0,62215.0,38800.0,133500.0,229888.0,142990.0,122000.0,34385.0,98123.0,105500.0,123123.0,98123.0,110123.0,123123.0,149888.0,182888.0,160000.0,128000.0,286000.0,299000.0,206800.0,219800.0,97000.0,97000.0,97000.0,97000.0,108000.0,37885.0,139991.0,139991.0,108000.0,108000.0,108000.0,108000.0,108000.0,108000.0,139991.0,108000.0,108000.0,97000.0,92529.0,135259.0,127000.0,37885.0,34554.0,98123.0,286000.0,286000.0,37885.0,98123.0,110123.0,154800.0,177532.0,185970.0,275154.0,107999.0,165000.0,165000.0,140000.0,140000.0,105779.0,162500.0,162900.0,162500.0,129800.0,202700.0,168000.0,168000.0,168000.0,179880.0,142000.0,142000.0,142000.0,162500.0,123800.0,32335.0,108000.0,129000.0,142000.0,168000.0,69800.0,214648.0,143718.0,176159.0,247226.0,158369.0,193760.0,78200.0,78200.0,64900.0,64900.0,70500.0,70500.0,187760.0,139500.0,111300.0,117900.0,86160.0,165059.0,59800.0,35800.0,94800.0,40800.0,45800.0,123800.0,123800.0,208760.0,130000.0,32300.0,137900.0,101600.0,123800.0,151700.0,135600.0,32200.0,50310.0,68800.0,91000.0,145550.0,121103.0,34553.0,74700.0,120800.0,138000.0,36800.0,36800.0,35300.0,35300.0,39000.0,39000.0,39000.0,39000.0,50200.0,50200.0,61000.0,49600.0,73600.0,68300.0,63600.0,75700.0,75700.0,73600.0,68300.0,63600.0,61000.0,49600.0,93683.0,122655.0,113000.0,62088.0,47800.0,123800.0,123800.0,34999.0,286909.0,99700.0,135613.0,146800.0,144000.0,130700.0,123888.0,123888.0,123888.0,152679.0,123888.0,123888.0,123888.0,175828.0,123888.0,123888.0,41999.0,115000.0,103000.0,103000.0,144000.0,69718.0,69718.0,61480.0,61480.0,61480.0,61480.0,72961.0,230000.0,183800.0,138300.0,147000.0,130800.0,163288.0,228899.0,118700.0,50000.0,99980.0,73800.0,99980.0,57000.0,235990.0,119800.0,155000.0,47800.0,42800.0,59900.0,130700.0,144900.0,76600.0,268888.0,159990.0,72000.0,53003.0,44300.0,170000.0,72600.0,72600.0,72600.0,59900.0,59900.0,59900.0,129300.0,59900.0,59900.0,59900.0,59900.0,59900.0,103200.0,59900.0,59900.0,74380.0,165800.0,183800.0,122500.0,189800.0,141000.0,113000.0,34800.0,109770.0,88100.0,142900.0,93300.0,82000.0,166388.0,290688.0,47800.0,72500.0,170400.0,79664.0,84900.0,105890.0,129690.0,129690.0,129690.0,222990.0,129690.0,129690.0,165990.0,129690.0,129690.0,129690.0,129690.0,129690.0,99980.0,129690.0,152880.0,99980.0,129690.0,119888.0,81390.0,85600.0,250000.0,35000.0,299000.0,299000.0,299000.0,38385.0,35989.0,36000.0,77000.0,99980.0,298888.0,147700.0,155990.0,184990.0,130800.0,145208.0,145208.0,218533.0,151275.0,138780.0,113700.0,112988.0,145208.0,145208.0,145208.0,145208.0,113775.0,138700.0,138741.0,145208.0,151288.0,151200.0,113788.0,145208.0,145208.0,145208.0,145208.0,145208.0,73666.0,116200.0,90888.0,130925.0,74000.0,149600.0,149600.0,149600.0,149600.0,99980.0,144888.0,77260.0,98788.0,89000.0,159990.0,35800.0,38800.0,92655.0,99800.0,34800.0,62800.0,86300.0,110123.0,86260.0,150360.0,99980.0,47800.0,259000.0,94500.0,94500.0,94500.0,78900.0,259000.0,74600.0,105990.0,83300.0,107000.0,149880.0,160000.0,104800.0,159000.0,99480.0,100870.0,158990.0,149888.0,99480.0,99480.0,93300.0,163888.0,122888.0,120800.0,38300.0,53000.0,75210.0,77580.0,67710.0,34770.0,62210.0,77580.0,110000.0,104800.0,170000.0,160000.0,159990.0,99480.0,89800.0,99480.0,54500.0,88800.0,43980.0,34990.0,97000.0,42888.0,58800.0,292000.0,137900.0,144000.0,80000.0,85000.0,80000.0,60000.0,106990.0,55800.0,86900.0,83300.0,116200.0,61959.0,62500.0,82000.0,80000.0,90600.0,149888.0,136888.0,130388.0,72500.0,58800.0,99980.0,106990.0,101800.0,288888.0,93300.0,108800.0,111888.0,139888.0,288888.0,165800.0,165800.0,139433.0,60832.0,93900.0,123800.0,34300.0,94500.0,94500.0,99480.0,121000.0,98800.0,278012.0,33000.0,33000.0,34300.0,292000.0,165313.0,59900.0,80100.0,123800.0,77900.0,105000.0,123800.0,276990.0,188990.0,159990.0,72900.0,189000.0,103800.0,106990.0,72400.0,101800.0,58300.0,172400.0,225990.0,235990.0,259888.0,94720.0,34800.0,58700.0,88100.0,188000.0,58500.0,137888.0,137888.0,94500.0,94500.0,60800.0,135103.0,135103.0,80390.0,98800.0,38300.0,67300.0,57900.0,38300.0,138900.0,174400.0,50300.0,86300.0,140900.0,83693.0,33000.0,57000.0,77260.0,146021.0,93900.0,98800.0,98800.0,99980.0,46500.0,162000.0,114000.0,55000.0,98000.0,80390.0,120000.0,95000.0,98888.0,158000.0,140000.0,130000.0,155000.0,98123.0,92655.0,97360.0,78600.0,136888.0,84100.0,95000.0,147000.0,80390.0,93300.0,110800.0,110800.0,123123.0,190000.0,187700.0,126888.0,169990.0,105800.0,170000.0,89000.0,88100.0,88100.0,29000.0,55800.0,88100.0,29000.0,98800.0,54900.0,35000.0,105800.0,96800.0,59800.0,85600.0,134400.0,46000.0,127500.0,59000.0,37800.0,43000.0,158950.0,158950.0,98000.0,98000.0,57000.0,98000.0,98000.0,41800.0,72600.0,225000.0,62500.0,80390.0,35500.0,147000.0,81390.0,110880.0,268000.0,96800.0,105800.0,105888.0,101333.0,116880.0,80390.0,143000.0,73800.0,72600.0,61900.0,36580.0,60600.0,32000.0,225990.0,93900.0,235990.0,106990.0,87100.0,170400.0,98800.0,34800.0,47800.0,86300.0,91350.0,34900.0,80390.0,123800.0,229000.0,164788.0,66360.0,134888.0,77600.0,73800.0,72600.0,132788.0,86300.0,135700.0,106600.0,126870.0,238800.0,116200.0,148600.0,142900.0,103800.0,130600.0,149888.0,136888.0,42800.0,38890.0,79000.0,92300.0,86000.0,99980.0,80000.0,87000.0,81000.0,82100.0,149394.0,34990.0,169188.0,169188.0,169188.0,169188.0,169188.0,169188.0,105428.0,282710.0,99980.0,124000.0,93300.0,131000.0,233000.0,86300.0,47800.0,128000.0,38800.0,60800.0,98800.0,155300.0,32800.0,38300.0,71440.0,169000.0,169990.0,43500.0,290000.0,296000.0,221000.0,296000.0,221000.0,81600.0,46800.0,235000.0,169000.0,101663.0,75500.0,118333.0,145000.0,148000.0,59300.0,182388.0,166388.0,133880.0,59300.0,287888.0,93300.0,88300.0,229888.0,130388.0,139788.0,98123.0,62215.0,37885.0,127888.0,144888.0,280000.0,72900.0,91000.0,90000.0,74191.0,86726.0,86300.0,101800.0,73800.0,77600.0,169188.0,166700.0,229000.0,86300.0,169000.0,83888.0,173590.0,149099.0,268888.0,124729.0,34990.0,38300.0,123800.0,101800.0,99980.0,142600.0,72900.0,38670.0,87800.0,165400.0,86300.0,179888.0,54500.0,37300.0,95880.0,58300.0,72900.0,98800.0,225000.0,34800.0,178100.0,151000.0,127000.0,98100.0,73180.0,79888.0,80888.0,35500.0,35500.0,35500.0,134300.0,35500.0,295000.0,107000.0,169990.0,123600.0,62000.0,39000.0,98800.0,101700.0,123000.0,114771.0,138888.0,98000.0,81664.0,81664.0,123000.0,75000.0,129800.0,75000.0,165000.0,123000.0,129800.0,129800.0,43981.0,66100.0,103800.0,122888.0,83700.0,92420.0,300000.0,103800.0,77580.0,71980.0,75500.0,95000.0,285000.0,73000.0,226000.0,60200.0,93200.0,98800.0,38300.0,87600.0,43000.0,77288.0,83700.0,83700.0,34000.0,92479.0,48200.0,129800.0,169188.0,62800.0,135103.0,99980.0,47800.0,118600.0,61664.0,147000.0,34800.0,88800.0,54500.0,268888.0,37800.0,188990.0,38300.0,62800.0,38300.0,123800.0,62280.0,276990.0,47215.0,38300.0,123850.0,145000.0,125900.0,106990.0,83700.0,226000.0,80000.0,85000.0,100000.0,125000.0,85000.0,80000.0,80000.0,72580.0,235000.0,169000.0,172000.0,188000.0,129000.0,34800.0,34000.0,218000.0,276990.0,75210.0,67710.0,75210.0,62210.0,174550.0,106650.0,276990.0,80000.0,141000.0,123800.0,123800.0,145600.0,120600.0,249706.0,76528.0,57300.0,57300.0,120800.0,59900.0,274000.0,95000.0,163800.0,128000.0,163800.0,130700.0,130700.0,274000.0,38800.0,107666.0,104800.0,38300.0,57300.0,118800.0,94700.0,77000.0,74900.0,77000.0,77000.0,114800.0,48500.0,74900.0,77000.0,38800.0,47800.0,38800.0,62800.0,229888.0,43900.0,126900.0,99980.0,74900.0,74900.0,74900.0,74900.0,74900.0,74900.0,72000.0,57900.0,75000.0,95000.0,95000.0,49243.0,225000.0,169000.0,75000.0,130172.0,188000.0,169000.0,115400.0,110000.0,257500.0,166600.0,122800.0,114800.0,43980.0,123800.0,123800.0,93900.0,105500.0,112819.0,35914.0,43890.0,75000.0,149880.0,59900.0,179888.0,130700.0,43980.0,84000.0,88900.0,86000.0,98000.0,80000.0,61800.0,107000.0,75300.0,80300.0,62500.0,82100.0,94500.0,75500.0,198000.0,89700.0,110800.0,120000.0,137900.0,146000.0,62500.0,276000.0,300668.0,149880.0,59900.0,98100.0,72600.0,144400.0,79888.0,97732.0,200000.0,220000.0,87400.0,87400.0,42200.0,75500.0,188990.0,235990.0,200000.0,220000.0,43980.0,268888.0,174000.0,229888.0,158635.0,144400.0,106200.0,85500.0,90000.0,103800.0,235000.0,188900.0,113300.0,44800.0,128800.0,135103.0,53300.0,133203.0,169188.0,179888.0,146938.0,146600.0,146600.0,53300.0,37885.0,101480.0,46800.0,128000.0,64314.0,59800.0,38388.0,90400.0,62800.0,83300.0,125788.0,126900.0,101533.0,88710.0,85564.0,54500.0,87600.0,133208.0,301383.0,81510.0,81800.0,79500.0,179888.0,179888.0,32300.0,82000.0,174000.0,174000.0,182479.0,80888.0,38300.0,79888.0,91700.0,107990.0,107990.0,107990.0,107990.0,99980.0,107990.0,45200.0,139900.0,182379.0,69000.0,99980.0,98980.0,99980.0,99980.0,101800.0,86964.0,123800.0,116800.0,53300.0,50300.0,44300.0,38800.0,38800.0,69800.0,123800.0,41300.0,128800.0,116800.0,91700.0,135000.0,35915.0,178700.0,138888.0,173888.0,135000.0,135103.0,43980.0,85900.0,62500.0,33000.0,59000.0,62800.0,34500.0,111300.0,86300.0,235990.0,123800.0,110800.0,69800.0,62800.0,95000.0,147200.0,259000.0,147219.0,123480.0,149099.0,147219.0,178000.0,147888.0,81500.0,37515.0,111880.0,179888.0,174000.0,134000.0,42800.0,85500.0,125000.0,90000.0,169000.0,62500.0,123800.0,187060.0,72000.0,174000.0,124729.0,179666.0,47886.0,108000.0,72000.0,229000.0,114771.0,35657.0,226000.0,81300.0,99980.0,182388.0,129000.0,86600.0,186880.0,38800.0,57300.0,124000.0,93300.0,50000.0,276990.0,169900.0,137888.0,41800.0,169000.0,93800.0,83500.0,83500.0,126900.0,37000.0,185000.0,37000.0,37000.0,185000.0,185188.0,37000.0,169188.0,185000.0,98100.0,47800.0,259888.0,245888.0,47800.0,47800.0,124000.0,192000.0,98800.0,149888.0,83888.0,129800.0,50300.0,53300.0,58300.0,99980.0,118400.0,127600.0,80888.0,128800.0,113300.0,128800.0,44800.0,103200.0,128989.0,76688.0,137500.0,109500.0,29000.0,62800.0,95300.0,44500.0,32300.0,110800.0,155300.0,107990.0,146600.0,116200.0,146600.0,113100.0,128400.0,148900.0,99980.0,34400.0,62800.0,116000.0,45000.0,50100.0,276990.0,86300.0,46800.0,240691.0,108000.0,42800.0,69800.0,129000.0,172990.0,169990.0,44300.0,47800.0,38800.0,89999.0,134700.0,38300.0,78212.0,85564.0,54500.0,141819.0,114800.0,220000.0,59900.0,101888.0,99980.0,39620.0,101532.0,54610.0,99980.0,122000.0,136788.0,98800.0,153679.0,131036.0,98800.0,34385.0,34800.0,79200.0,114000.0,135000.0,69800.0,46800.0,164888.0,34800.0,42800.0,113800.0,93900.0,79200.0,159888.0,57900.0,143000.0,209800.0,47886.0,38300.0,81800.0,81800.0,82600.0,179000.0,62215.0,88900.0,88900.0,99980.0,86300.0,80888.0,133888.0,209800.0,69962.0,33553.0,190000.0,96169.0,150700.0,46313.0,72036.0,132697.0,99980.0,49710.0,46800.0,133000.0,143000.0,35300.0,99980.0,99980.0,187990.0,90400.0,140800.0,143700.0,98800.0,98123.0,178100.0,99980.0,99980.0,39620.0,103800.0,104917.0,127524.0,99980.0,99980.0,161000.0,188000.0,251888.0,48040.0,188990.0,235990.0,73800.0,75210.0,120331.0,95000.0,141880.0,68000.0,99980.0,47800.0,99980.0,123000.0,123800.0,46313.0,106388.0,167819.0,180384.0,59800.0,109800.0,150000.0,141000.0,34990.0,61420.0,187900.0,97000.0,79900.0,102900.0,59900.0,137788.0,135788.0,142788.0,103800.0,117000.0,38000.0,69288.0,82620.0,233500.0,183888.0,173983.0,52300.0,130800.0,69300.0,96888.0,122888.0,60300.0,130800.0,156888.0,189000.0,44800.0,169000.0,46800.0,158950.0,91000.0,94600.0,90600.0,62800.0,179880.0,276990.0,103200.0,121000.0,34388.0,146888.0,54500.0,77600.0,231000.0,98800.0,45000.0,60000.0,133203.0,220000.0,44800.0,38300.0,185846.0,37800.0,48000.0,48000.0,235000.0,99980.0,169990.0,169990.0,164615.0,130388.0,61500.0,85888.0,98888.0,98888.0,98888.0,98888.0,98888.0,44800.0,89800.0,114800.0,43500.0,43500.0,90700.0,77900.0,169000.0,169000.0,38000.0,106990.0,98123.0,35000.0,113300.0,44800.0,229888.0,38800.0,62800.0,130888.0,188990.0,78000.0,169990.0,75600.0,130208.0,128303.0,73800.0,139991.0,61710.0,58510.0,42200.0,90600.0,91600.0,171400.0,150700.0,90600.0,103200.0,96800.0,44113.0,128000.0,148600.0,140000.0,71888.0,188990.0,129888.0,179000.0,77000.0,110888.0,77260.0,78600.0,85700.0,34672.0,95880.0,141888.0,91800.0,113800.0,71100.0,74710.0,142888.0,58300.0,257500.0,35300.0,149000.0,88800.0,103800.0,176159.0,129000.0,133000.0,231000.0,84000.0,96800.0,96800.0,120331.0,127700.0,54500.0,77600.0,121135.0,102000.0,67000.0,109770.0,62500.0,42800.0,96800.0,135259.0,172166.0,193700.0,108000.0,164788.0,113300.0,87300.0,130700.0,90000.0,179888.0,157888.0,100000.0,107990.0,146600.0,116200.0,96800.0,123800.0,44200.0,276000.0,176000.0,235990.0,47800.0,169990.0,125900.0,145000.0,169990.0,225000.0,136000.0,71333.0,143000.0,111050.0,158835.0,103200.0,103200.0,77900.0,59000.0,68000.0,75000.0,72900.0,72600.0,73080.0,38870.0,70330.0,147000.0,172990.0,79200.0,131035.0,123800.0,54600.0,59810.0,59810.0,93200.0,138700.0,135000.0,169990.0,134800.0,136000.0,166900.0,90600.0,129800.0,123000.0,172990.0,188000.0,172990.0,169990.0,164615.0,220800.0,158000.0,55300.0,135000.0,35800.0,45800.0,39800.0,50800.0,44800.0,38800.0,146600.0,54500.0,34822.0,59300.0,168888.0,96800.0,60300.0,147888.0,88800.0,103800.0,135103.0,96800.0,75500.0,34990.0,72600.0,114800.0,54500.0,141800.0,46900.0,47800.0,162888.0,136000.0,54500.0,77600.0,149888.0,218000.0,101100.0,103800.0,98123.0,128300.0,247228.0,103200.0,113300.0,108000.0,136000.0,169188.0,41800.0,116000.0,80078.0,38907.0,122000.0,85564.0,99800.0,91064.0,235000.0,40885.0,138700.0,182500.0,135259.0,138600.0,138600.0,139991.0,130888.0,98000.0,98000.0,98000.0,96800.0,40800.0,138700.0,43800.0,106900.0,113300.0,167885.0,161109.0,163900.0,148900.0,129800.0,103999.0,49478.0,92000.0,98000.0,96000.0,98000.0,105000.0,91800.0,75600.0,115000.0,93800.0,71888.0,55300.0,55300.0,65000.0,55300.0,71888.0,122800.0,47000.0,122800.0,54500.0,179900.0,179800.0,67000.0,67000.0,104000.0,38000.0,108000.0,101000.0,131036.0,128800.0,77075.0,94700.0,81600.0,149998.0,138700.0,41800.0,95000.0,121000.0,195000.0,172990.0,125800.0,138700.0,88900.0,149888.0,73800.0,187990.0,42800.0,86300.0,46162.0,138700.0,249528.0,126500.0,115350.0,51500.0,88350.0,99700.0,103850.0,95350.0,133000.0,196000.0,126900.0,77600.0,54500.0,106990.0,196340.0,193760.0,176000.0,123800.0,134800.0,106990.0,138888.0,138888.0,128300.0,128300.0,138700.0,138700.0,35335.0,129888.0,75000.0,59900.0,182400.0,59900.0,59800.0,66800.0,66800.0,123800.0,229888.0,138700.0,138700.0,138700.0,75000.0,59900.0,75000.0,45800.0,124888.0,108888.0,114800.0,127460.0,93900.0,235000.0,149888.0,86360.0,76460.0,112460.0,142261.0,73260.0,168888.0,90400.0,34800.0,35800.0,38147.0,63000.0,51000.0,98800.0,108000.0,113888.0,59900.0,54500.0,54500.0,77600.0,113300.0,114000.0,146600.0,145600.0,86600.0,127500.0,106990.0,87600.0,82700.0,87310.0,163900.0,59900.0,73400.0,59900.0,98000.0,90400.0,34990.0,68000.0,80888.0,132000.0,149099.0,139100.0,121000.0,81600.0,150888.0,80888.0,75000.0,80888.0,85600.0,95000.0,95000.0,106990.0,77600.0,130660.0,78260.0,86600.0,101800.0,36400.0,43710.0,23870.0,168900.0,159900.0,120825.0,57300.0,53300.0,47800.0,138700.0,88900.0,47800.0,59800.0,38800.0,111880.0,89888.0,142000.0,142000.0,46162.0,127152.0,88900.0,64000.0,50800.0,64800.0,47800.0,54800.0,34770.0,189800.0,59900.0,68000.0,108000.0,149800.0,159430.0,89800.0,93800.0,53500.0,58300.0,93800.0,204999.0,94800.0,93800.0,128000.0,77600.0,255888.0,94800.0,54500.0,77600.0,99800.0,147800.0,98800.0,103800.0,93800.0,88800.0,54500.0,135000.0,146600.0,147000.0,103800.0,58300.0,98800.0,103800.0,135000.0,56500.0,58300.0,94800.0,53500.0,56500.0,143800.0,147000.0,58300.0,146600.0,146600.0,58300.0,58500.0,147000.0,103800.0,146600.0,146600.0,59900.0,72380.0,67080.0,43980.0,80888.0,149888.0,106990.0,101100.0,161059.0,23870.0,126900.0,281888.0,77600.0,54500.0,265000.0,142600.0,123000.0,137952.0,137660.0,45000.0,42888.0,96800.0,249914.0,155600.0,121000.0,120888.0,140888.0,196400.0,165000.0,93200.0,103600.0,118400.0,130100.0,110000.0,116800.0,130000.0,81800.0,81800.0,80888.0,45800.0,38800.0,62700.0,77600.0,73800.0,98100.0,38000.0,96800.0,96800.0,95600.0,40800.0,59900.0,118400.0,62500.0,98888.0,196000.0,84000.0,84000.0,71000.0,106648.0,102200.0,50800.0,120600.0,128700.0,99388.0,110000.0,32800.0,77600.0,54500.0,89399.0,130209.0,62500.0,59900.0,94710.0,95000.0,95000.0,124000.0,84800.0,58800.0,160888.0,97700.0,158888.0,144000.0,59800.0,59900.0,145600.0,44800.0,187400.0,130700.0,150700.0,85600.0,187400.0,150700.0,68713.0,75924.0,167000.0,132488.0,166388.0,65880.0,165000.0,185000.0,43980.0,93900.0,149888.0,196000.0,38800.0,95000.0,77600.0,77600.0,109499.0,143000.0,72380.0,77580.0,132000.0,122000.0,93900.0,161000.0,89150.0,146600.0,77600.0,150200.0,33200.0,49610.0,69900.0,75600.0,145600.0,85260.0,223700.0,193700.0,148000.0,135000.0,103800.0,85000.0],\"type\":\"box\",\"xaxis\":\"x2\",\"yaxis\":\"y2\"}],                        {\"template\":{\"data\":{\"bar\":[{\"error_x\":{\"color\":\"#2a3f5f\"},\"error_y\":{\"color\":\"#2a3f5f\"},\"marker\":{\"line\":{\"color\":\"#E5ECF6\",\"width\":0.5},\"pattern\":{\"fillmode\":\"overlay\",\"size\":10,\"solidity\":0.2}},\"type\":\"bar\"}],\"barpolar\":[{\"marker\":{\"line\":{\"color\":\"#E5ECF6\",\"width\":0.5},\"pattern\":{\"fillmode\":\"overlay\",\"size\":10,\"solidity\":0.2}},\"type\":\"barpolar\"}],\"carpet\":[{\"aaxis\":{\"endlinecolor\":\"#2a3f5f\",\"gridcolor\":\"white\",\"linecolor\":\"white\",\"minorgridcolor\":\"white\",\"startlinecolor\":\"#2a3f5f\"},\"baxis\":{\"endlinecolor\":\"#2a3f5f\",\"gridcolor\":\"white\",\"linecolor\":\"white\",\"minorgridcolor\":\"white\",\"startlinecolor\":\"#2a3f5f\"},\"type\":\"carpet\"}],\"choropleth\":[{\"colorbar\":{\"outlinewidth\":0,\"ticks\":\"\"},\"type\":\"choropleth\"}],\"contour\":[{\"colorbar\":{\"outlinewidth\":0,\"ticks\":\"\"},\"colorscale\":[[0.0,\"#0d0887\"],[0.1111111111111111,\"#46039f\"],[0.2222222222222222,\"#7201a8\"],[0.3333333333333333,\"#9c179e\"],[0.4444444444444444,\"#bd3786\"],[0.5555555555555556,\"#d8576b\"],[0.6666666666666666,\"#ed7953\"],[0.7777777777777778,\"#fb9f3a\"],[0.8888888888888888,\"#fdca26\"],[1.0,\"#f0f921\"]],\"type\":\"contour\"}],\"contourcarpet\":[{\"colorbar\":{\"outlinewidth\":0,\"ticks\":\"\"},\"type\":\"contourcarpet\"}],\"heatmap\":[{\"colorbar\":{\"outlinewidth\":0,\"ticks\":\"\"},\"colorscale\":[[0.0,\"#0d0887\"],[0.1111111111111111,\"#46039f\"],[0.2222222222222222,\"#7201a8\"],[0.3333333333333333,\"#9c179e\"],[0.4444444444444444,\"#bd3786\"],[0.5555555555555556,\"#d8576b\"],[0.6666666666666666,\"#ed7953\"],[0.7777777777777778,\"#fb9f3a\"],[0.8888888888888888,\"#fdca26\"],[1.0,\"#f0f921\"]],\"type\":\"heatmap\"}],\"heatmapgl\":[{\"colorbar\":{\"outlinewidth\":0,\"ticks\":\"\"},\"colorscale\":[[0.0,\"#0d0887\"],[0.1111111111111111,\"#46039f\"],[0.2222222222222222,\"#7201a8\"],[0.3333333333333333,\"#9c179e\"],[0.4444444444444444,\"#bd3786\"],[0.5555555555555556,\"#d8576b\"],[0.6666666666666666,\"#ed7953\"],[0.7777777777777778,\"#fb9f3a\"],[0.8888888888888888,\"#fdca26\"],[1.0,\"#f0f921\"]],\"type\":\"heatmapgl\"}],\"histogram\":[{\"marker\":{\"pattern\":{\"fillmode\":\"overlay\",\"size\":10,\"solidity\":0.2}},\"type\":\"histogram\"}],\"histogram2d\":[{\"colorbar\":{\"outlinewidth\":0,\"ticks\":\"\"},\"colorscale\":[[0.0,\"#0d0887\"],[0.1111111111111111,\"#46039f\"],[0.2222222222222222,\"#7201a8\"],[0.3333333333333333,\"#9c179e\"],[0.4444444444444444,\"#bd3786\"],[0.5555555555555556,\"#d8576b\"],[0.6666666666666666,\"#ed7953\"],[0.7777777777777778,\"#fb9f3a\"],[0.8888888888888888,\"#fdca26\"],[1.0,\"#f0f921\"]],\"type\":\"histogram2d\"}],\"histogram2dcontour\":[{\"colorbar\":{\"outlinewidth\":0,\"ticks\":\"\"},\"colorscale\":[[0.0,\"#0d0887\"],[0.1111111111111111,\"#46039f\"],[0.2222222222222222,\"#7201a8\"],[0.3333333333333333,\"#9c179e\"],[0.4444444444444444,\"#bd3786\"],[0.5555555555555556,\"#d8576b\"],[0.6666666666666666,\"#ed7953\"],[0.7777777777777778,\"#fb9f3a\"],[0.8888888888888888,\"#fdca26\"],[1.0,\"#f0f921\"]],\"type\":\"histogram2dcontour\"}],\"mesh3d\":[{\"colorbar\":{\"outlinewidth\":0,\"ticks\":\"\"},\"type\":\"mesh3d\"}],\"parcoords\":[{\"line\":{\"colorbar\":{\"outlinewidth\":0,\"ticks\":\"\"}},\"type\":\"parcoords\"}],\"pie\":[{\"automargin\":true,\"type\":\"pie\"}],\"scatter\":[{\"marker\":{\"colorbar\":{\"outlinewidth\":0,\"ticks\":\"\"}},\"type\":\"scatter\"}],\"scatter3d\":[{\"line\":{\"colorbar\":{\"outlinewidth\":0,\"ticks\":\"\"}},\"marker\":{\"colorbar\":{\"outlinewidth\":0,\"ticks\":\"\"}},\"type\":\"scatter3d\"}],\"scattercarpet\":[{\"marker\":{\"colorbar\":{\"outlinewidth\":0,\"ticks\":\"\"}},\"type\":\"scattercarpet\"}],\"scattergeo\":[{\"marker\":{\"colorbar\":{\"outlinewidth\":0,\"ticks\":\"\"}},\"type\":\"scattergeo\"}],\"scattergl\":[{\"marker\":{\"colorbar\":{\"outlinewidth\":0,\"ticks\":\"\"}},\"type\":\"scattergl\"}],\"scattermapbox\":[{\"marker\":{\"colorbar\":{\"outlinewidth\":0,\"ticks\":\"\"}},\"type\":\"scattermapbox\"}],\"scatterpolar\":[{\"marker\":{\"colorbar\":{\"outlinewidth\":0,\"ticks\":\"\"}},\"type\":\"scatterpolar\"}],\"scatterpolargl\":[{\"marker\":{\"colorbar\":{\"outlinewidth\":0,\"ticks\":\"\"}},\"type\":\"scatterpolargl\"}],\"scatterternary\":[{\"marker\":{\"colorbar\":{\"outlinewidth\":0,\"ticks\":\"\"}},\"type\":\"scatterternary\"}],\"surface\":[{\"colorbar\":{\"outlinewidth\":0,\"ticks\":\"\"},\"colorscale\":[[0.0,\"#0d0887\"],[0.1111111111111111,\"#46039f\"],[0.2222222222222222,\"#7201a8\"],[0.3333333333333333,\"#9c179e\"],[0.4444444444444444,\"#bd3786\"],[0.5555555555555556,\"#d8576b\"],[0.6666666666666666,\"#ed7953\"],[0.7777777777777778,\"#fb9f3a\"],[0.8888888888888888,\"#fdca26\"],[1.0,\"#f0f921\"]],\"type\":\"surface\"}],\"table\":[{\"cells\":{\"fill\":{\"color\":\"#EBF0F8\"},\"line\":{\"color\":\"white\"}},\"header\":{\"fill\":{\"color\":\"#C8D4E3\"},\"line\":{\"color\":\"white\"}},\"type\":\"table\"}]},\"layout\":{\"annotationdefaults\":{\"arrowcolor\":\"#2a3f5f\",\"arrowhead\":0,\"arrowwidth\":1},\"autotypenumbers\":\"strict\",\"coloraxis\":{\"colorbar\":{\"outlinewidth\":0,\"ticks\":\"\"}},\"colorscale\":{\"diverging\":[[0,\"#8e0152\"],[0.1,\"#c51b7d\"],[0.2,\"#de77ae\"],[0.3,\"#f1b6da\"],[0.4,\"#fde0ef\"],[0.5,\"#f7f7f7\"],[0.6,\"#e6f5d0\"],[0.7,\"#b8e186\"],[0.8,\"#7fbc41\"],[0.9,\"#4d9221\"],[1,\"#276419\"]],\"sequential\":[[0.0,\"#0d0887\"],[0.1111111111111111,\"#46039f\"],[0.2222222222222222,\"#7201a8\"],[0.3333333333333333,\"#9c179e\"],[0.4444444444444444,\"#bd3786\"],[0.5555555555555556,\"#d8576b\"],[0.6666666666666666,\"#ed7953\"],[0.7777777777777778,\"#fb9f3a\"],[0.8888888888888888,\"#fdca26\"],[1.0,\"#f0f921\"]],\"sequentialminus\":[[0.0,\"#0d0887\"],[0.1111111111111111,\"#46039f\"],[0.2222222222222222,\"#7201a8\"],[0.3333333333333333,\"#9c179e\"],[0.4444444444444444,\"#bd3786\"],[0.5555555555555556,\"#d8576b\"],[0.6666666666666666,\"#ed7953\"],[0.7777777777777778,\"#fb9f3a\"],[0.8888888888888888,\"#fdca26\"],[1.0,\"#f0f921\"]]},\"colorway\":[\"#636efa\",\"#EF553B\",\"#00cc96\",\"#ab63fa\",\"#FFA15A\",\"#19d3f3\",\"#FF6692\",\"#B6E880\",\"#FF97FF\",\"#FECB52\"],\"font\":{\"color\":\"#2a3f5f\"},\"geo\":{\"bgcolor\":\"white\",\"lakecolor\":\"white\",\"landcolor\":\"#E5ECF6\",\"showlakes\":true,\"showland\":true,\"subunitcolor\":\"white\"},\"hoverlabel\":{\"align\":\"left\"},\"hovermode\":\"closest\",\"mapbox\":{\"style\":\"light\"},\"paper_bgcolor\":\"white\",\"plot_bgcolor\":\"#E5ECF6\",\"polar\":{\"angularaxis\":{\"gridcolor\":\"white\",\"linecolor\":\"white\",\"ticks\":\"\"},\"bgcolor\":\"#E5ECF6\",\"radialaxis\":{\"gridcolor\":\"white\",\"linecolor\":\"white\",\"ticks\":\"\"}},\"scene\":{\"xaxis\":{\"backgroundcolor\":\"#E5ECF6\",\"gridcolor\":\"white\",\"gridwidth\":2,\"linecolor\":\"white\",\"showbackground\":true,\"ticks\":\"\",\"zerolinecolor\":\"white\"},\"yaxis\":{\"backgroundcolor\":\"#E5ECF6\",\"gridcolor\":\"white\",\"gridwidth\":2,\"linecolor\":\"white\",\"showbackground\":true,\"ticks\":\"\",\"zerolinecolor\":\"white\"},\"zaxis\":{\"backgroundcolor\":\"#E5ECF6\",\"gridcolor\":\"white\",\"gridwidth\":2,\"linecolor\":\"white\",\"showbackground\":true,\"ticks\":\"\",\"zerolinecolor\":\"white\"}},\"shapedefaults\":{\"line\":{\"color\":\"#2a3f5f\"}},\"ternary\":{\"aaxis\":{\"gridcolor\":\"white\",\"linecolor\":\"white\",\"ticks\":\"\"},\"baxis\":{\"gridcolor\":\"white\",\"linecolor\":\"white\",\"ticks\":\"\"},\"bgcolor\":\"#E5ECF6\",\"caxis\":{\"gridcolor\":\"white\",\"linecolor\":\"white\",\"ticks\":\"\"}},\"title\":{\"x\":0.05},\"xaxis\":{\"automargin\":true,\"gridcolor\":\"white\",\"linecolor\":\"white\",\"ticks\":\"\",\"title\":{\"standoff\":15},\"zerolinecolor\":\"white\",\"zerolinewidth\":2},\"yaxis\":{\"automargin\":true,\"gridcolor\":\"white\",\"linecolor\":\"white\",\"ticks\":\"\",\"title\":{\"standoff\":15},\"zerolinecolor\":\"white\",\"zerolinewidth\":2}}},\"xaxis\":{\"anchor\":\"y\",\"domain\":[0.0,0.45]},\"yaxis\":{\"anchor\":\"x\",\"domain\":[0.0,1.0]},\"xaxis2\":{\"anchor\":\"y2\",\"domain\":[0.55,1.0]},\"yaxis2\":{\"anchor\":\"x2\",\"domain\":[0.0,1.0]},\"title\":{\"text\":\"Monthly Installment and Listing Price\"}},                        {\"responsive\": true}                    ).then(function(){\n",
              "                            \n",
              "var gd = document.getElementById('6c369a53-289e-4d7a-ae4c-8b6148e9e3e4');\n",
              "var x = new MutationObserver(function (mutations, observer) {{\n",
              "        var display = window.getComputedStyle(gd).display;\n",
              "        if (!display || display === 'none') {{\n",
              "            console.log([gd, 'removed!']);\n",
              "            Plotly.purge(gd);\n",
              "            observer.disconnect();\n",
              "        }}\n",
              "}});\n",
              "\n",
              "// Listen for the removal of the full notebook cells\n",
              "var notebookContainer = gd.closest('#notebook-container');\n",
              "if (notebookContainer) {{\n",
              "    x.observe(notebookContainer, {childList: true});\n",
              "}}\n",
              "\n",
              "// Listen for the clearing of the current output cell\n",
              "var outputEl = gd.closest('.output');\n",
              "if (outputEl) {{\n",
              "    x.observe(outputEl, {childList: true});\n",
              "}}\n",
              "\n",
              "                        })                };                            </script>        </div>\n",
              "</body>\n",
              "</html>"
            ]
          },
          "metadata": {}
        }
      ],
      "source": [
        "fig = sp.make_subplots(rows=1, cols=2, shared_yaxes=False)\n",
        "\n",
        "# Add the first boxplot graph to the first column of the subplot\n",
        "fig.add_trace(go.Box(y=df_carlist02['data_installment'], \n",
        "                     name='Monthly Installment', boxpoints='outliers', jitter=0.3, pointpos=-1.8), row=1, col=1)\n",
        "\n",
        "# Add the second boxplot graph to the second column of the subplot\n",
        "fig.add_trace(go.Box(y=df_carlist02['listing_price'], \n",
        "                     name='Vehicle Price', boxpoints='outliers', jitter=0.3, pointpos=-1.8), row=1, col=2)\n",
        "\n",
        "# Update the layout of the subplot\n",
        "fig.update_layout(title='Monthly Installment and Listing Price')\n",
        "\n",
        "# Show the subplot\n",
        "fig.show()"
      ]
    },
    {
      "cell_type": "code",
      "execution_count": 73,
      "metadata": {
        "scrolled": true,
        "id": "VzB0n_NqzNIo",
        "outputId": "d4d21565-0452-4141-de5d-b21cb0916459",
        "colab": {
          "base_uri": "https://localhost:8080/",
          "height": 542
        }
      },
      "outputs": [
        {
          "output_type": "display_data",
          "data": {
            "text/html": [
              "<html>\n",
              "<head><meta charset=\"utf-8\" /></head>\n",
              "<body>\n",
              "    <div>            <script src=\"https://cdnjs.cloudflare.com/ajax/libs/mathjax/2.7.5/MathJax.js?config=TeX-AMS-MML_SVG\"></script><script type=\"text/javascript\">if (window.MathJax) {MathJax.Hub.Config({SVG: {font: \"STIX-Web\"}});}</script>                <script type=\"text/javascript\">window.PlotlyConfig = {MathJaxConfig: 'local'};</script>\n",
              "        <script src=\"https://cdn.plot.ly/plotly-2.8.3.min.js\"></script>                <div id=\"147f214a-f90d-465e-b105-98f2ba20f4c9\" class=\"plotly-graph-div\" style=\"height:525px; width:100%;\"></div>            <script type=\"text/javascript\">                                    window.PLOTLYENV=window.PLOTLYENV || {};                                    if (document.getElementById(\"147f214a-f90d-465e-b105-98f2ba20f4c9\")) {                    Plotly.newPlot(                        \"147f214a-f90d-465e-b105-98f2ba20f4c9\",                        [{\"mode\":\"markers\",\"x\":[\"Honda\",\"TESLA\",\"Honda\",\"Perodua\",\"Mitsubishi\",\"Proton\",\"Honda\",\"Honda\",\"Proton\",\"Proton\",\"Proton\",\"Volkswagen\",\"Honda\",\"Honda\",\"Honda\",\"Mazda\",\"Proton\",\"Proton\",\"Honda\",\"Ford\",\"Nissan\",\"Mitsubishi\",\"Toyota\",\"Toyota\",\"Toyota\",\"Toyota\",\"Toyota\",\"Toyota\",\"Honda\",\"Honda\",\"Honda\",\"Perodua\",\"Peugeot\",\"Honda\",\"Honda\",\"Honda\",\"Honda\",\"Isuzu\",\"Honda\",\"Proton\",\"Volkswagen\",\"Volkswagen\",\"Toyota\",\"Toyota\",\"Honda\",\"Honda\",\"Honda\",\"Proton\",\"Honda\",\"Honda\",\"Honda\",\"Perodua\",\"Honda\",\"Honda\",\"Honda\",\"Honda\",\"Proton\",\"Proton\",\"Proton\",\"Honda\",\"Volkswagen\",\"Volkswagen\",\"Volkswagen\",\"Volkswagen\",\"Volkswagen\",\"Nissan\",\"Honda\",\"Honda\",\"Honda\",\"Honda\",\"Proton\",\"Proton\",\"Proton\",\"Proton\",\"Proton\",\"Proton\",\"Proton\",\"Nissan\",\"Nissan\",\"Daihatsu\",\"Nissan\",\"Toyota\",\"Perodua\",\"Ford\",\"Ford\",\"Kia\",\"Peugeot\",\"Honda\",\"Honda\",\"Ford\",\"Proton\",\"Proton\",\"Proton\",\"Proton\",\"Honda\",\"Honda\",\"Honda\",\"Perodua\",\"Toyota\",\"Honda\",\"Honda\",\"Proton\",\"Proton\",\"Mitsubishi\",\"Isuzu\",\"Isuzu\",\"Isuzu\",\"Volkswagen\",\"Honda\",\"Volvo\",\"Honda\",\"Volvo\",\"Volkswagen\",\"Ford\",\"Honda\",\"Honda\",\"Honda\",\"Hino\",\"Daihatsu\",\"Ford\",\"Ford\",\"Ford\",\"Ford\",\"Proton\",\"Toyota\",\"Proton\",\"Proton\",\"Proton\",\"Mazda\",\"Proton\",\"Toyota\",\"Proton\",\"Mitsubishi\",\"Proton\",\"Isuzu\",\"Isuzu\",\"Isuzu\",\"Isuzu\",\"Isuzu\",\"Isuzu\",\"Proton\",\"Proton\",\"Proton\",\"Honda\",\"Honda\",\"Honda\",\"Honda\",\"Honda\",\"Honda\",\"Honda\",\"Honda\",\"Honda\",\"Ford\",\"Perodua\",\"Perodua\",\"Mazda\",\"Proton\",\"Proton\",\"Proton\",\"Kia\",\"Mercedes-Benz\",\"Mazda\",\"Honda\",\"Honda\",\"Proton\",\"Mitsubishi\",\"Honda\",\"Mitsubishi\",\"Kia\",\"Lexus\",\"Proton\",\"Honda\",\"Perodua\",\"Perodua\",\"Honda\",\"Honda\",\"Mazda\",\"Mazda\",\"Mazda\",\"Mazda\",\"Honda\",\"Mazda\",\"Mazda\",\"Mazda\",\"Mazda\",\"Mazda\",\"Mazda\",\"Proton\",\"Nissan\",\"Mercedes-Benz\",\"Honda\",\"Honda\",\"Honda\",\"Proton\",\"Proton\",\"Proton\",\"Honda\",\"Subaru\",\"Subaru\",\"Subaru\",\"Nissan\",\"Nissan\",\"Volkswagen\",\"Proton\",\"Proton\",\"Honda\",\"Honda\",\"Honda\",\"Proton\",\"Honda\",\"TESLA\",\"Honda\",\"Honda\",\"Proton\",\"Proton\",\"Proton\",\"Volkswagen\",\"Proton\",\"Proton\",\"Proton\",\"Honda\",\"Honda\",\"Honda\",\"Honda\",\"Ford\",\"Perodua\",\"Proton\",\"Proton\",\"Honda\",\"Ford\",\"Honda\",\"Honda\",\"Nissan\",\"Nissan\",\"Nissan\",\"Perodua\",\"Perodua\",\"Perodua\",\"Proton\",\"Proton\",\"Nissan\",\"Toyota\",\"Toyota\",\"Mazda\",\"Mitsubishi\",\"Toyota\",\"Honda\",\"Proton\",\"Toyota\",\"Toyota\",\"Proton\",\"Proton\",\"Honda\",\"Proton\",\"Ford\",\"Ford\",\"Proton\",\"Honda\",\"Honda\",\"Proton\",\"Nissan\",\"Mitsubishi\",\"Volkswagen\",\"Honda\",\"Honda\",\"Honda\",\"Perodua\",\"Honda\",\"Honda\",\"Honda\",\"Perodua\",\"Perodua\",\"Mitsubishi\",\"Mitsubishi\",\"Perodua\",\"Honda\",\"Proton\",\"Honda\",\"Proton\",\"Toyota\",\"Ford\",\"Ford\",\"Ford\",\"Proton\",\"Proton\",\"Toyota\",\"Honda\",\"Honda\",\"Honda\",\"Honda\",\"Toyota\",\"Proton\",\"Honda\",\"Honda\",\"Honda\",\"Nissan\",\"Proton\",\"Proton\",\"Proton\",\"Proton\",\"Proton\",\"Proton\",\"Proton\",\"TESLA\",\"Proton\",\"Proton\",\"Honda\",\"Nissan\",\"Honda\",\"Proton\",\"Proton\",\"Peugeot\",\"Mazda\",\"Proton\",\"Ford\",\"Mitsubishi\",\"Volkswagen\",\"Honda\",\"Honda\",\"Proton\",\"Proton\",\"Perodua\",\"Perodua\",\"Perodua\",\"Volkswagen\",\"Volkswagen\",\"Ford\",\"Volkswagen\",\"Proton\",\"Volvo\",\"Proton\",\"Proton\",\"Isuzu\",\"Kia\",\"Mazda\",\"Perodua\",\"Perodua\",\"Honda\",\"Ford\",\"Ford\",\"Perodua\",\"Honda\",\"Proton\",\"Ford\",\"Perodua\",\"Volkswagen\",\"Toyota\",\"Toyota\",\"Volkswagen\",\"Volkswagen\",\"Kia\",\"Proton\",\"Perodua\",\"Perodua\",\"Perodua\",\"Mitsubishi\",\"Proton\",\"Honda\",\"Mitsubishi\",\"Proton\",\"Perodua\",\"Perodua\",\"Perodua\",\"Perodua\",\"Toyota\",\"Perodua\",\"Perodua\",\"Proton\",\"Perodua\",\"Perodua\",\"Perodua\",\"Honda\",\"Proton\",\"Proton\",\"Proton\",\"Proton\",\"Ford\",\"Perodua\",\"Perodua\",\"Perodua\",\"Honda\",\"Mitsubishi\",\"Proton\",\"Perodua\",\"Perodua\",\"Honda\",\"Proton\",\"Toyota\",\"Honda\",\"Proton\",\"Honda\",\"Honda\",\"Toyota\",\"Honda\",\"Honda\",\"Honda\",\"Honda\",\"Mitsubishi\",\"Mitsubishi\",\"Volvo\",\"Honda\",\"Honda\",\"Honda\",\"Mitsubishi\",\"Honda\",\"Honda\",\"Honda\",\"Nissan\",\"Proton\",\"Proton\",\"Proton\",\"Volkswagen\",\"Proton\",\"Honda\",\"Proton\",\"Proton\",\"Ford\",\"Honda\",\"Toyota\",\"Proton\",\"Proton\",\"Volvo\",\"Proton\",\"Proton\",\"Proton\",\"Proton\",\"Proton\",\"Proton\",\"Mitsubishi\",\"Honda\",\"Honda\",\"Ford\",\"Proton\",\"Mitsubishi\",\"Proton\",\"Proton\",\"Proton\",\"Proton\",\"Proton\",\"Proton\",\"Proton\",\"Proton\",\"Proton\",\"Nissan\",\"Mitsubishi\",\"Honda\",\"Toyota\",\"Mercedes-Benz\",\"Nissan\",\"Mitsubishi\",\"Mercedes-Benz\",\"Ford\",\"Ford\",\"Mazda\",\"Mitsubishi\",\"Honda\",\"Mazda\",\"Mazda\",\"Mitsubishi\",\"Peugeot\",\"Peugeot\",\"Proton\",\"Kia\",\"Kia\",\"Peugeot\",\"Proton\",\"Proton\",\"Proton\",\"Subaru\",\"Mazda\",\"Perodua\",\"Honda\",\"Volkswagen\",\"Peugeot\",\"Peugeot\",\"Honda\",\"Honda\",\"Proton\",\"Daihatsu\",\"Daihatsu\",\"Honda\",\"Nissan\",\"Proton\",\"Nissan\",\"Proton\",\"Honda\",\"Ford\",\"Honda\",\"Honda\",\"Proton\",\"Perodua\",\"Perodua\",\"Proton\",\"Hyundai\",\"Proton\",\"Honda\",\"Toyota\",\"Toyota\",\"Toyota\",\"Toyota\",\"Honda\",\"Proton\",\"Honda\",\"Honda\",\"TESLA\",\"Perodua\",\"Mitsubishi\",\"Toyota\",\"Proton\",\"Proton\",\"Proton\",\"Proton\",\"Proton\",\"Mitsubishi\",\"Perodua\",\"Perodua\",\"Perodua\",\"Perodua\",\"Perodua\",\"Perodua\",\"Perodua\",\"Perodua\",\"Perodua\",\"Perodua\",\"Perodua\",\"Perodua\",\"Perodua\",\"Perodua\",\"Perodua\",\"Perodua\",\"Isuzu\",\"Isuzu\",\"Proton\",\"Proton\",\"Proton\",\"Proton\",\"Proton\",\"Proton\",\"Mitsubishi\",\"Perodua\",\"Mitsubishi\",\"Honda\",\"Honda\",\"Honda\",\"Honda\",\"Honda\",\"Honda\",\"Honda\",\"Proton\",\"Proton\",\"Proton\",\"Proton\",\"Toyota\",\"Toyota\",\"Honda\",\"Honda\",\"Honda\",\"Honda\",\"Honda\",\"Mazda\",\"Toyota\",\"Mazda\",\"Mazda\",\"Mazda\",\"Mazda\",\"Mazda\",\"Mazda\",\"Mitsubishi\",\"Nissan\",\"Mazda\",\"Mazda\",\"Mazda\",\"Mitsubishi\",\"Proton\",\"Toyota\",\"Nissan\",\"Mitsubishi\",\"Toyota\",\"Mitsubishi\",\"Toyota\",\"Honda\",\"Proton\",\"Honda\",\"Honda\",\"Proton\",\"Perodua\",\"Proton\",\"Proton\",\"Proton\",\"Proton\",\"Proton\",\"Proton\",\"Proton\",\"Volkswagen\",\"Perodua\",\"TESLA\",\"Ford\",\"Toyota\",\"Subaru\",\"Peugeot\",\"Mazda\",\"Kia\",\"Honda\",\"Subaru\",\"Subaru\",\"Subaru\",\"Perodua\",\"Hyundai\",\"Perodua\",\"Honda\",\"Honda\",\"Ford\",\"Proton\",\"Toyota\",\"Proton\",\"Proton\",\"Proton\",\"Proton\",\"Proton\",\"Proton\",\"Proton\",\"Proton\",\"Proton\",\"Proton\",\"Proton\",\"Proton\",\"Perodua\",\"Honda\",\"Honda\",\"Honda\",\"Proton\",\"Proton\",\"Proton\",\"Volkswagen\",\"Volkswagen\",\"Volkswagen\",\"Volkswagen\",\"Volkswagen\",\"Honda\",\"Honda\",\"Honda\",\"Honda\",\"Nissan\",\"Honda\",\"Honda\",\"Proton\",\"Proton\",\"Proton\",\"Proton\",\"Proton\",\"Proton\",\"Proton\",\"Proton\",\"Proton\",\"Proton\",\"Perodua\",\"Perodua\",\"Perodua\",\"Perodua\",\"Perodua\",\"Honda\",\"Perodua\",\"Honda\",\"Honda\",\"Honda\",\"Volkswagen\",\"Proton\",\"Proton\",\"Mitsubishi\",\"Ford\",\"Ford\",\"Hino\",\"Volkswagen\",\"Toyota\",\"Volvo\",\"Toyota\",\"Honda\",\"Honda\",\"Honda\",\"Honda\",\"Honda\",\"Toyota\",\"MG\",\"Toyota\",\"Toyota\",\"Kia\",\"Perodua\",\"Perodua\",\"Perodua\",\"Mitsubishi\",\"Mitsubishi\",\"TESLA\",\"Mitsubishi\",\"Perodua\",\"Perodua\",\"Honda\",\"TESLA\",\"Honda\",\"Nissan\",\"Perodua\",\"Honda\",\"Proton\",\"Ford\",\"Perodua\",\"Hyundai\",\"Mazda\",\"Honda\",\"Toyota\",\"Honda\",\"Toyota\",\"Perodua\",\"Hyundai\",\"Toyota\",\"Honda\",\"Honda\",\"Toyota\",\"Hyundai\",\"Toyota\",\"Perodua\",\"Proton\",\"Toyota\",\"Proton\",\"Proton\",\"Proton\",\"Honda\",\"Proton\",\"Proton\",\"Proton\",\"MINI\",\"Isuzu\",\"MINI\",\"Honda\",\"Proton\",\"Proton\",\"Proton\",\"BMW\",\"Fiat\",\"Fiat\",\"Hino\",\"Hino\",\"Hino\",\"Fiat\",\"Mercedes-Benz\",\"Proton\",\"Proton\",\"Proton\",\"Proton\",\"Proton\",\"Toyota\",\"Perodua\",\"Honda\",\"Proton\",\"Proton\",\"Perodua\",\"Perodua\",\"Proton\",\"Honda\",\"Honda\",\"TESLA\",\"Proton\",\"Proton\",\"Toyota\",\"Mercedes-Benz\",\"Proton\",\"Mitsubishi\",\"Toyota\",\"Toyota\",\"Honda\",\"Toyota\",\"Honda\",\"Honda\",\"Mercedes-Benz\",\"Honda\",\"Honda\",\"Mitsubishi\",\"Mercedes-Benz\",\"Honda\",\"Honda\",\"Mitsubishi\",\"Mitsubishi\",\"Peugeot\",\"Mazda\",\"Proton\",\"Kia\",\"Kia\",\"Proton\",\"Kia\",\"Kia\",\"Daihatsu\",\"Nissan\",\"Proton\",\"Proton\",\"Proton\",\"Proton\",\"Ford\",\"Ford\",\"Ford\",\"Ford\",\"Perodua\",\"Proton\",\"Volkswagen\",\"Proton\",\"Proton\",\"Proton\",\"Proton\",\"Proton\",\"Proton\",\"Proton\",\"Proton\",\"Toyota\",\"Mercedes-Benz\",\"Mercedes-Benz\",\"Proton\",\"Mitsubishi\",\"Proton\",\"Mazda\",\"Honda\",\"Perodua\",\"Perodua\",\"Mitsubishi\",\"Honda\",\"Honda\",\"Proton\",\"Isuzu\",\"Honda\",\"Honda\",\"Mitsubishi\",\"Toyota\",\"Toyota\",\"Toyota\",\"Toyota\",\"Toyota\",\"Toyota\",\"Toyota\",\"Toyota\",\"Toyota\",\"Honda\",\"Honda\",\"Honda\",\"Toyota\",\"Toyota\",\"Perodua\",\"Perodua\",\"Perodua\",\"Perodua\",\"Ford\",\"Ford\",\"Volkswagen\",\"Mitsubishi\",\"Proton\",\"Proton\",\"Volkswagen\",\"Volkswagen\",\"Volkswagen\",\"Honda\",\"Honda\",\"Mitsubishi\",\"Honda\",\"Honda\",\"Proton\",\"Mazda\",\"Proton\",\"Proton\",\"Perodua\",\"Toyota\",\"Toyota\",\"Toyota\",\"Mazda\",\"Mazda\",\"Volkswagen\",\"Subaru\",\"Proton\",\"Proton\",\"Proton\",\"Proton\",\"Proton\",\"Proton\",\"Proton\",\"GAC\",\"Isuzu\",\"Proton\",\"Perodua\",\"Perodua\",\"Proton\",\"Proton\",\"Honda\",\"Volkswagen\",\"Ford\",\"Honda\",\"Honda\",\"Honda\",\"Ford\",\"Toyota\",\"Toyota\",\"Mitsubishi\",\"Honda\",\"Honda\",\"Mazda\",\"Mazda\",\"Proton\",\"Toyota\",\"Toyota\",\"Peugeot\",\"Kia\",\"Kia\",\"Kia\",\"Mitsubishi\",\"Proton\",\"Peugeot\",\"Proton\",\"Mazda\",\"Mazda\",\"Kia\",\"Honda\",\"Honda\",\"Mitsubishi\",\"Volkswagen\",\"Volkswagen\",\"Nissan\",\"Honda\",\"Proton\",\"Volkswagen\",\"Volkswagen\",\"Volkswagen\",\"Mazda\",\"Subaru\",\"Proton\",\"Ford\",\"Ford\",\"Peugeot\",\"Mercedes-Benz\",\"Perodua\",\"Perodua\",\"Perodua\",\"Perodua\",\"Perodua\",\"Perodua\",\"Honda\",\"Honda\",\"Honda\",\"Toyota\",\"Proton\",\"Proton\",\"Proton\",\"Mitsubishi\",\"Proton\",\"Nissan\",\"Nissan\",\"Peugeot\",\"Volkswagen\",\"Peugeot\",\"Peugeot\",\"Peugeot\",\"Mitsubishi\",\"Mitsubishi\",\"Mitsubishi\",\"Honda\",\"Proton\",\"Proton\",\"Honda\",\"Honda\",\"Honda\",\"Honda\",\"Honda\",\"Honda\",\"Honda\",\"Honda\",\"Honda\",\"Honda\",\"Perodua\",\"Proton\",\"Ford\",\"Perodua\",\"Perodua\",\"Ford\",\"Perodua\",\"Ford\",\"Toyota\",\"Toyota\",\"Proton\",\"Toyota\",\"Honda\",\"Subaru\",\"Honda\",\"Honda\",\"Ford\",\"Hino\",\"Hino\",\"TESLA\",\"Mitsubishi\",\"Toyota\",\"Proton\",\"Proton\",\"Mitsubishi\",\"Toyota\",\"Perodua\",\"Perodua\",\"Perodua\",\"Subaru\",\"Mitsubishi\",\"Honda\",\"Honda\",\"Honda\",\"Honda\",\"Honda\",\"Honda\",\"Mitsubishi\",\"Honda\",\"Honda\",\"Honda\",\"Honda\",\"Mercedes-Benz\",\"Nissan\",\"Honda\",\"Mitsubishi\",\"Isuzu\",\"Isuzu\",\"Isuzu\",\"Isuzu\",\"Isuzu\",\"Isuzu\",\"Isuzu\",\"Ford\",\"Ford\",\"Proton\",\"Proton\",\"Mitsubishi\",\"Mitsubishi\",\"Ford\",\"Ford\",\"Peugeot\",\"Mitsubishi\",\"Honda\",\"Honda\",\"Mercedes-Benz\",\"Mercedes-Benz\",\"Volvo\",\"Volvo\",\"Honda\",\"Honda\",\"Mitsubishi\",\"Mitsubishi\",\"Proton\",\"Volkswagen\",\"Great Wall\",\"Honda\",\"TESLA\",\"BMW\",\"Toyota\",\"Honda\",\"Volkswagen\",\"Mitsubishi\",\"Mitsubishi\",\"Honda\",\"Mitsubishi\",\"MINI\",\"Volkswagen\",\"Mercedes-Benz\",\"Mitsubishi\",\"Perodua\",\"Toyota\",\"Proton\",\"Toyota\",\"Ford\",\"Mitsubishi\",\"Mitsubishi\",\"Toyota\",\"Toyota\",\"Mitsubishi\",\"Mitsubishi\",\"Mitsubishi\",\"Toyota\",\"Mitsubishi\",\"Honda\",\"Honda\",\"Ford\",\"Honda\",\"Peugeot\",\"Proton\",\"Proton\",\"Proton\",\"Proton\",\"Proton\",\"Proton\",\"Mitsubishi\",\"Mitsubishi\",\"Proton\",\"Mitsubishi\",\"Mitsubishi\",\"Isuzu\",\"Honda\",\"Honda\",\"Honda\",\"Honda\",\"Honda\",\"Mitsubishi\",\"Ford\",\"Ford\",\"Perodua\",\"Proton\",\"Nissan\",\"Proton\",\"Perodua\",\"Perodua\",\"Mitsubishi\",\"Honda\",\"Ford\",\"Honda\",\"Honda\",\"Toyota\",\"Peugeot\",\"Kia\",\"Mercedes-Benz\",\"TESLA\",\"Honda\",\"Volkswagen\",\"Proton\",\"Proton\",\"Kia\",\"Honda\",\"Toyota\",\"Peugeot\",\"Mazda\",\"Subaru\",\"Subaru\",\"Subaru\",\"Subaru\",\"Subaru\",\"Subaru\",\"Subaru\",\"Subaru\",\"Subaru\",\"Proton\",\"Ford\",\"Toyota\",\"BYD\",\"Subaru\",\"Subaru\",\"Subaru\",\"Proton\",\"Perodua\",\"Proton\",\"Proton\",\"Proton\",\"Lexus\",\"Proton\",\"Proton\",\"Proton\",\"Proton\",\"Proton\",\"Ford\",\"Proton\",\"Nissan\",\"Proton\",\"Mazda\",\"Mazda\",\"Toyota\",\"Proton\",\"Perodua\",\"Proton\",\"Proton\",\"Volvo\",\"Honda\",\"Honda\",\"Honda\",\"Perodua\",\"TESLA\",\"Volkswagen\",\"Volkswagen\",\"Mitsubishi\",\"Volkswagen\",\"Volkswagen\",\"Subaru\",\"Proton\",\"Proton\",\"Ford\",\"Ford\",\"Maxus\",\"Honda\",\"Maxus\",\"Mercedes-Benz\",\"Honda\",\"Mitsubishi\",\"Mitsubishi\",\"Mitsubishi\",\"Peugeot\",\"Ford\",\"Mitsubishi\",\"Mazda\",\"Isuzu\",\"Mitsubishi\",\"Proton\",\"Proton\",\"Ford\",\"Ford\",\"Mazda\",\"Perodua\",\"Perodua\",\"Perodua\",\"Mazda\",\"Mazda\",\"Kia\",\"Mazda\",\"Peugeot\",\"Mitsubishi\",\"Proton\",\"Perodua\",\"Perodua\",\"Perodua\",\"Perodua\",\"Perodua\",\"Great Wall\",\"Mitsubishi\",\"Volvo\",\"Proton\",\"Proton\",\"Mercedes-Benz\",\"Perodua\",\"Daihatsu\",\"Mitsubishi\",\"Suzuki\",\"Toyota\",\"Nissan\",\"Nissan\",\"Ford\",\"Honda\",\"Honda\",\"Mitsubishi\",\"Toyota\",\"Perodua\",\"Toyota\",\"BYD\",\"Proton\",\"Perodua\",\"Chana\",\"Perodua\",\"BYD\",\"Mitsubishi\",\"Mitsubishi\",\"Foton\",\"Foton\",\"Foton\",\"Volvo\",\"Ford\",\"Mitsubishi\",\"TESLA\",\"TESLA\",\"TESLA\",\"TESLA\",\"TESLA\",\"Perodua\",\"Proton\",\"Volkswagen\",\"Toyota\",\"Toyota\",\"BYD\",\"BYD\",\"JMC\",\"Proton\",\"Volkswagen\",\"Mitsubishi\",\"Peugeot\",\"Peugeot\",\"Kia\",\"Peugeot\",\"Peugeot\",\"Kia\",\"Ford\",\"Ford\",\"Ford\",\"Honda\",\"BYD\",\"Ford\",\"Ford\",\"Proton\",\"BYD\",\"Ford\",\"Proton\",\"Perodua\",\"Mitsubishi\",\"Toyota\",\"Honda\",\"Honda\",\"Toyota\",\"Volkswagen\",\"Volkswagen\",\"Mitsubishi\",\"Mitsubishi\",\"Isuzu\",\"Mazda\",\"Peugeot\",\"Peugeot\",\"Mitsubishi\",\"Toyota\",\"Daihatsu\",\"Daihatsu\",\"Ford\",\"Ford\",\"Ford\",\"Ford\",\"Honda\",\"Proton\",\"Ford\",\"Ford\",\"Mazda\",\"Mazda\",\"Mitsubishi\",\"Proton\",\"Proton\",\"Volkswagen\",\"Chana\",\"Foton\",\"Audi\",\"Mazda\",\"Mazda\",\"Proton\",\"Ford\",\"Perodua\",\"Perodua\",\"Perodua\",\"Mazda\",\"Kia\",\"Perodua\",\"Perodua\",\"Perodua\",\"Honda\",\"Mercedes-Benz\",\"Proton\",\"Proton\",\"Proton\",\"Mitsubishi\",\"Perodua\",\"Proton\",\"Perodua\",\"Perodua\",\"Honda\",\"Proton\",\"Kia\",\"Peugeot\",\"Kia\",\"Proton\",\"Ford\",\"Ford\",\"Proton\",\"Ford\",\"Ford\",\"Ford\",\"Subaru\",\"Honda\",\"Honda\",\"Mercedes-Benz\",\"Peugeot\",\"Toyota\",\"Kia\",\"Kia\",\"Honda\",\"Honda\",\"Toyota\",\"Toyota\",\"Mazda\",\"Honda\",\"Honda\",\"Honda\",\"Toyota\",\"Mercedes-Benz\",\"Nissan\",\"Nissan\",\"Nissan\",\"Ford\",\"Ford\",\"Ford\",\"Volvo\",\"Volvo\",\"Mercedes-Benz\",\"Ford\",\"Mitsubishi\",\"Honda\",\"Perodua\",\"Kia\",\"Kia\",\"Kia\",\"Perodua\",\"Volvo\",\"Volvo\",\"Volvo\",\"Volvo\",\"Volvo\",\"Volvo\",\"Volvo\",\"Proton\",\"Proton\",\"Subaru\",\"Proton\",\"Proton\",\"Proton\",\"Subaru\",\"Perodua\",\"Proton\",\"Mazda\",\"Mitsubishi\",\"Honda\",\"Honda\",\"Honda\",\"Proton\",\"Nissan\",\"Toyota\",\"Mazda\",\"Honda\",\"Mitsubishi\",\"Mitsubishi\",\"Mitsubishi\",\"Proton\",\"Ford\",\"Honda\",\"Ford\",\"Mercedes-Benz\",\"Toyota\",\"Foton\",\"Chana\",\"Foton\",\"Perodua\",\"Peugeot\",\"Nissan\",\"Nissan\",\"Nissan\",\"Subaru\",\"Honda\",\"Kia\",\"Honda\",\"Proton\",\"Perodua\",\"Proton\",\"Proton\",\"Proton\",\"Proton\",\"Proton\",\"Proton\",\"Ford\",\"Honda\",\"Perodua\",\"Proton\",\"Ford\",\"Mitsubishi\",\"Volvo\",\"Honda\",\"Mazda\",\"Mazda\",\"Honda\",\"Mitsubishi\",\"Mitsubishi\",\"Mitsubishi\",\"Proton\",\"Perodua\",\"Honda\",\"Mazda\",\"Peugeot\",\"Mazda\",\"Honda\",\"Proton\",\"Proton\",\"Proton\",\"Proton\",\"Proton\",\"Mitsubishi\",\"Mitsubishi\",\"Hino\",\"Hino\",\"Isuzu\",\"Mitsubishi\",\"Hino\",\"Honda\",\"Perodua\",\"Perodua\",\"Perodua\",\"Perodua\",\"Perodua\",\"Peugeot\",\"Perodua\",\"Proton\",\"Proton\",\"Perodua\",\"Proton\",\"MG\",\"Volkswagen\",\"Honda\",\"Honda\",\"Proton\",\"Proton\",\"Ford\",\"Perodua\",\"Mitsubishi\",\"Mitsubishi\",\"Mitsubishi\",\"Mitsubishi\",\"BMW\",\"Honda\",\"Honda\",\"Honda\",\"Proton\",\"Proton\",\"Proton\",\"Proton\",\"Proton\",\"Proton\",\"Proton\",\"Ford\",\"Ford\",\"Perodua\",\"Perodua\",\"Proton\",\"Nissan\",\"Mazda\",\"Honda\",\"Peugeot\",\"Proton\",\"Peugeot\",\"Peugeot\",\"Proton\",\"Proton\",\"Perodua\",\"Perodua\",\"Ford\",\"Ford\",\"Perodua\",\"Perodua\",\"Perodua\",\"Perodua\",\"Toyota\",\"Toyota\",\"Perodua\",\"Perodua\",\"Ford\",\"Ford\",\"Ford\",\"Perodua\",\"Perodua\",\"Proton\",\"Perodua\",\"Perodua\",\"Ford\",\"Honda\",\"Proton\",\"Nissan\",\"Nissan\",\"Toyota\",\"Peugeot\",\"Perodua\",\"Honda\",\"Perodua\",\"Honda\",\"Perodua\",\"Volkswagen\",\"Mazda\",\"Mazda\",\"Chana\",\"Perodua\",\"Perodua\",\"Peugeot\",\"Peugeot\",\"Honda\",\"Proton\",\"Proton\",\"Toyota\",\"Honda\",\"Honda\",\"Proton\",\"Honda\",\"Perodua\",\"Mazda\",\"Mazda\",\"Peugeot\",\"Toyota\",\"Proton\",\"Nissan\",\"Nissan\",\"Nissan\",\"Nissan\",\"Volvo\",\"Honda\",\"Proton\",\"Proton\",\"Perodua\",\"Ford\",\"Volvo\",\"Perodua\",\"Perodua\",\"Honda\",\"Proton\",\"Perodua\",\"Mazda\",\"Mitsubishi\",\"Proton\",\"Volkswagen\",\"Volkswagen\",\"Volvo\",\"Volvo\",\"Proton\",\"Proton\",\"Proton\",\"Proton\",\"Proton\",\"Mitsubishi\",\"Mitsubishi\",\"Proton\",\"Perodua\",\"Perodua\",\"Honda\",\"Mitsubishi\",\"Mitsubishi\",\"Honda\",\"Proton\",\"Hino\",\"Honda\",\"Perodua\",\"Perodua\",\"Mercedes-Benz\",\"Volkswagen\",\"Honda\",\"Honda\",\"Mitsubishi\",\"Mitsubishi\",\"Honda\",\"Proton\",\"Honda\",\"Perodua\",\"Honda\",\"Honda\",\"Honda\",\"Honda\",\"Peugeot\",\"Perodua\",\"Honda\",\"Maxus\",\"Volkswagen\",\"Proton\",\"Proton\",\"Toyota\",\"Peugeot\",\"Honda\",\"Proton\",\"Proton\",\"Honda\",\"Toyota\",\"Toyota\",\"Foton\",\"Proton\",\"Proton\",\"Proton\",\"Proton\",\"Proton\",\"Honda\",\"Chana\",\"Foton\",\"Toyota\",\"Toyota\",\"Honda\",\"Toyota\",\"Proton\",\"BYD\",\"BYD\",\"BYD\",\"Toyota\",\"Honda\",\"Mitsubishi\",\"Honda\",\"Honda\",\"Ford\",\"Toyota\",\"Perodua\",\"Ford\",\"Volkswagen\",\"Honda\",\"Subaru\",\"Subaru\",\"Honda\",\"Perodua\",\"Proton\",\"Proton\",\"Perodua\",\"Perodua\",\"Proton\",\"Proton\",\"Proton\",\"Proton\",\"Kia\",\"Volkswagen\",\"Peugeot\",\"Proton\",\"Proton\",\"Ford\",\"Ford\",\"Ford\",\"Ford\",\"Ford\",\"Perodua\",\"Honda\",\"Perodua\",\"Honda\",\"Perodua\",\"Perodua\",\"Honda\",\"Mazda\",\"Honda\",\"Mazda\",\"Ford\",\"Ford\",\"Volkswagen\",\"Proton\",\"Nissan\",\"Nissan\",\"Nissan\",\"Nissan\",\"Foton\",\"Honda\",\"MG\",\"Volkswagen\",\"Ford\",\"Ford\",\"Ford\",\"Subaru\",\"Volkswagen\",\"Peugeot\",\"Proton\",\"Proton\",\"Proton\",\"Honda\",\"Ford\",\"Ford\",\"Subaru\",\"Honda\",\"Mercedes-Benz\",\"Proton\",\"Mitsubishi\",\"Ford\",\"Peugeot\",\"Peugeot\",\"Proton\",\"Proton\",\"Mazda\",\"Volkswagen\",\"Toyota\",\"Proton\",\"Volkswagen\",\"Proton\",\"Honda\",\"Proton\",\"Mitsubishi\",\"Mazda\",\"Toyota\",\"Toyota\",\"Toyota\",\"Peugeot\",\"Proton\",\"Proton\",\"Ford\",\"Ford\",\"Ford\",\"Ford\",\"Ford\",\"Ford\",\"Honda\",\"Honda\",\"Honda\",\"Honda\",\"Subaru\",\"Honda\",\"Honda\",\"Honda\",\"Nissan\",\"Nissan\",\"Nissan\",\"Mitsubishi\",\"Volkswagen\",\"Mitsubishi\",\"Volvo\",\"Nissan\",\"Nissan\",\"Nissan\",\"Honda\",\"Honda\",\"Honda\",\"Proton\",\"TESLA\",\"Mazda\",\"Perodua\",\"Perodua\",\"Perodua\",\"Perodua\",\"Volvo\",\"Proton\",\"Honda\",\"TESLA\",\"Proton\",\"Proton\",\"Honda\",\"Honda\",\"Proton\",\"Proton\",\"Toyota\",\"Nissan\",\"Nissan\",\"Nissan\",\"Nissan\",\"Nissan\",\"Honda\",\"Toyota\",\"Toyota\",\"TESLA\",\"Volkswagen\",\"Toyota\",\"Isuzu\",\"Isuzu\",\"Isuzu\",\"Mitsubishi\",\"Isuzu\",\"Hino\",\"Proton\",\"Proton\",\"Proton\",\"Perodua\",\"Perodua\",\"Mitsubishi\",\"Toyota\",\"Mitsubishi\",\"Ford\",\"Toyota\",\"Perodua\",\"Proton\",\"Volkswagen\",\"Proton\",\"Nissan\",\"Ford\",\"Perodua\",\"Perodua\",\"Perodua\",\"Perodua\",\"Ford\",\"Proton\",\"Proton\",\"Proton\",\"Proton\",\"Proton\",\"Volkswagen\",\"Ford\",\"Ford\",\"Ford\",\"Ford\",\"Volkswagen\",\"Mitsubishi\",\"Honda\",\"Mazda\",\"Honda\",\"Toyota\",\"Mazda\",\"Nissan\",\"Proton\",\"Proton\",\"Honda\",\"GAC\",\"Perodua\",\"Volvo\",\"Mitsubishi\",\"Mitsubishi\",\"Ford\",\"Perodua\",\"Honda\",\"Honda\",\"Proton\",\"Proton\",\"Proton\",\"Honda\",\"Perodua\",\"Toyota\",\"Mitsubishi\",\"Mitsubishi\",\"Mitsubishi\",\"Mitsubishi\",\"Nissan\",\"TESLA\",\"Toyota\",\"Mitsubishi\",\"Honda\",\"Volkswagen\",\"Perodua\",\"Mercedes-Benz\",\"Mitsubishi\",\"Mitsubishi\",\"Isuzu\",\"Volvo\",\"Perodua\",\"Perodua\",\"Perodua\",\"Volkswagen\",\"Volkswagen\",\"Volkswagen\",\"Volkswagen\",\"Peugeot\",\"Peugeot\",\"Kia\",\"Volvo\",\"Proton\",\"Volvo\",\"Mitsubishi\",\"Honda\",\"Subaru\",\"Subaru\",\"Subaru\",\"Subaru\",\"Perodua\",\"Subaru\",\"Perodua\",\"Subaru\",\"Perodua\",\"Toyota\",\"Perodua\",\"Perodua\",\"Mitsubishi\",\"Perodua\",\"Honda\",\"Mitsubishi\",\"Mitsubishi\",\"Mitsubishi\",\"Isuzu\",\"Perodua\",\"Perodua\",\"Perodua\",\"Proton\",\"Perodua\",\"Honda\",\"Mitsubishi\",\"Mitsubishi\",\"Mitsubishi\",\"Ford\",\"Toyota\",\"Perodua\",\"Toyota\",\"Toyota\",\"Toyota\",\"Volkswagen\",\"Chana\",\"Foton\",\"Mazda\",\"Perodua\",\"Perodua\",\"Toyota\",\"Mitsubishi\",\"Mitsubishi\",\"Mitsubishi\",\"Proton\",\"Honda\",\"Ford\",\"Honda\",\"Proton\",\"Proton\",\"Proton\",\"Subaru\",\"Proton\",\"Hyundai\",\"Toyota\",\"Volkswagen\",\"Volkswagen\",\"Mazda\",\"Isuzu\",\"Perodua\",\"Proton\",\"Peugeot\",\"Proton\",\"Proton\",\"Proton\",\"Subaru\",\"Chana\",\"Foton\",\"Chana\",\"Foton\",\"Foton\",\"Toyota\",\"Hyundai\",\"Honda\",\"Mercedes-Benz\",\"Mercedes-Benz\",\"Mercedes-Benz\",\"Maxus\",\"Ford\",\"Ford\",\"Ford\",\"Ford\",\"Perodua\",\"Honda\",\"Honda\",\"Honda\",\"Proton\",\"Proton\",\"Subaru\",\"Subaru\",\"Maxus\",\"Hino\",\"Daihatsu\",\"Daihatsu\",\"Honda\",\"Mitsubishi\",\"Nissan\",\"Nissan\",\"Nissan\",\"Nissan\",\"Nissan\",\"Nissan\",\"Perodua\",\"Volkswagen\",\"Volkswagen\",\"Mitsubishi\",\"Proton\",\"Volvo\",\"Proton\",\"Toyota\",\"Honda\",\"Honda\",\"Perodua\",\"Honda\",\"Honda\",\"Honda\",\"Proton\",\"Proton\",\"Perodua\",\"Proton\",\"Proton\",\"Proton\",\"Proton\",\"Proton\",\"Proton\",\"Proton\",\"Hino\",\"Mitsubishi\",\"Proton\",\"Perodua\",\"Volkswagen\",\"Proton\",\"Proton\",\"TESLA\",\"Proton\",\"Perodua\",\"Mitsubishi\",\"Mitsubishi\",\"Nissan\",\"Nissan\",\"Nissan\",\"Nissan\",\"Nissan\",\"Nissan\",\"Nissan\",\"Perodua\",\"Honda\",\"Honda\",\"Proton\",\"Toyota\",\"Toyota\",\"Perodua\",\"Ford\",\"Ford\",\"Ford\",\"Ford\",\"Proton\",\"Toyota\",\"Chana\",\"Honda\",\"Proton\",\"Perodua\",\"Mazda\",\"Mazda\",\"Daihatsu\",\"Toyota\",\"Toyota\",\"Peugeot\",\"Daihatsu\",\"Daihatsu\",\"Volkswagen\",\"Ford\",\"Subaru\",\"Peugeot\",\"Toyota\",\"Toyota\",\"Toyota\",\"Toyota\",\"Toyota\",\"Toyota\",\"Toyota\",\"Toyota\",\"Toyota\",\"Toyota\",\"Toyota\",\"Toyota\",\"Toyota\",\"Toyota\",\"Toyota\",\"Toyota\",\"Toyota\",\"Toyota\",\"Toyota\",\"Isuzu\",\"Isuzu\",\"Proton\",\"Isuzu\",\"Volkswagen\",\"Volkswagen\",\"Volkswagen\",\"Mercedes-Benz\",\"Isuzu\",\"Isuzu\",\"Mazda\",\"Peugeot\",\"Mazda\",\"Mitsubishi\",\"Toyota\",\"Toyota\",\"Toyota\",\"Perodua\",\"Toyota\",\"Proton\",\"Golden Dragon\",\"Honda\",\"Toyota\",\"Toyota\",\"Nissan\",\"Proton\",\"Perodua\",\"Perodua\",\"Perodua\",\"Perodua\",\"Perodua\",\"Perodua\",\"Perodua\",\"Peugeot\",\"Toyota\",\"Honda\",\"Mercedes-Benz\",\"Volkswagen\",\"Proton\",\"Proton\",\"Proton\",\"Mercedes-Benz\",\"Toyota\",\"Mitsubishi\",\"Proton\",\"Mitsubishi\",\"Mitsubishi\",\"Proton\",\"Perodua\",\"Proton\",\"Honda\",\"Mitsubishi\",\"Mitsubishi\",\"Honda\",\"Mercedes-Benz\",\"Mazda\",\"Foton\",\"Chana\",\"Perodua\",\"Mitsubishi\",\"Honda\",\"Volvo\",\"Proton\",\"Volkswagen\",\"Subaru\",\"Subaru\",\"Subaru\",\"Subaru\",\"Proton\",\"Mazda\",\"Mercedes-Benz\",\"Honda\",\"Perodua\",\"Proton\",\"Proton\",\"Volvo\",\"Volvo\",\"Mazda\",\"Perodua\",\"Perodua\",\"Perodua\",\"Toyota\",\"Perodua\",\"Perodua\",\"Perodua\",\"Perodua\",\"Perodua\",\"Kia\",\"Mazda\",\"Mazda\",\"Nissan\",\"Nissan\",\"Ford\",\"Ford\",\"Ford\",\"Ford\",\"Proton\",\"Proton\",\"Honda\",\"Perodua\",\"Proton\",\"Perodua\",\"Proton\",\"Nissan\",\"Mercedes-Benz\",\"TESLA\",\"Honda\",\"Honda\",\"Honda\",\"Honda\",\"Nissan\",\"Nissan\",\"Proton\",\"Mercedes-Benz\",\"Nissan\",\"Honda\",\"Perodua\",\"Perodua\",\"Perodua\",\"Toyota\",\"Toyota\",\"Toyota\",\"Toyota\",\"Toyota\",\"Mitsubishi\",\"Proton\",\"Proton\",\"Perodua\",\"Honda\",\"Proton\",\"Perodua\",\"Honda\",\"Honda\",\"Honda\",\"Honda\",\"Proton\",\"Proton\",\"Perodua\",\"Proton\",\"Chana\",\"Foton\",\"Foton\",\"Mazda\",\"Proton\",\"Proton\",\"Perodua\",\"Perodua\",\"Perodua\",\"Daihatsu\",\"Daihatsu\",\"Toyota\",\"Proton\",\"Proton\",\"Kia\",\"Nissan\",\"Nissan\",\"Proton\",\"Honda\",\"Honda\",\"Perodua\",\"Isuzu\",\"Honda\",\"Honda\",\"Proton\",\"Nissan\",\"Volvo\",\"Honda\",\"Toyota\",\"Honda\",\"Toyota\",\"Proton\",\"Proton\",\"Perodua\",\"Honda\",\"Perodua\",\"Proton\",\"Proton\",\"Toyota\",\"Mitsubishi\",\"Toyota\",\"Suzuki\",\"Toyota\",\"Isuzu\",\"Toyota\",\"Honda\",\"Toyota\",\"Proton\",\"Proton\",\"Proton\",\"Proton\",\"Perodua\",\"Perodua\",\"Honda\",\"Toyota\",\"Proton\",\"Mazda\",\"Mazda\",\"Mazda\",\"Mazda\",\"Honda\",\"Honda\",\"Isuzu\",\"Honda\",\"Perodua\",\"Honda\",\"Honda\",\"Mitsubishi\",\"Honda\",\"Honda\",\"Volvo\",\"Hino\",\"Hino\",\"Hino\",\"Mitsubishi\",\"BMW\",\"Perodua\",\"Mitsubishi\",\"Mitsubishi\",\"Mitsubishi\",\"Mitsubishi\",\"Mitsubishi\",\"Volkswagen\",\"Chana\",\"Foton\",\"Volkswagen\",\"Isuzu\",\"Mitsubishi\",\"Isuzu\",\"Mitsubishi\",\"Mitsubishi\",\"Ford\",\"Honda\",\"Perodua\",\"BMW\",\"Proton\",\"Kia\",\"Proton\",\"TESLA\",\"Proton\",\"Proton\",\"Proton\",\"Mazda\",\"Mazda\",\"Honda\",\"Isuzu\",\"Nissan\",\"Volkswagen\",\"Perodua\",\"Mazda\",\"Volkswagen\",\"Volkswagen\",\"Proton\",\"Proton\",\"Proton\",\"Proton\",\"Nissan\",\"Mazda\",\"CAF DFSK\",\"Mazda\",\"Proton\",\"TESLA\",\"TESLA\",\"TESLA\",\"Proton\",\"Foton\",\"Chana\",\"Foton\",\"TESLA\",\"Proton\",\"Nissan\",\"Toyota\",\"Proton\",\"MG\",\"Toyota\",\"Proton\",\"Proton\",\"Ford\",\"Ford\",\"Mazda\",\"Proton\",\"Mazda\",\"Mitsubishi\",\"Honda\",\"Proton\",\"Honda\",\"Proton\",\"Proton\",\"Proton\",\"Proton\",\"Proton\",\"Proton\",\"Ford\",\"Ford\",\"Toyota\",\"Foton\",\"Nissan\",\"Kia\",\"Proton\",\"Perodua\",\"Ford\",\"Ford\",\"TESLA\",\"Ford\",\"Ford\",\"Honda\",\"Proton\",\"Proton\",\"Peugeot\",\"Peugeot\",\"Toyota\",\"Proton\",\"Daihatsu\",\"Nissan\",\"Isuzu\",\"Daihatsu\",\"TESLA\",\"TESLA\",\"Proton\",\"Proton\",\"Toyota\",\"Toyota\",\"Honda\",\"Toyota\",\"Toyota\",\"Foton\",\"Proton\",\"Perodua\",\"Toyota\",\"Toyota\",\"Subaru\",\"Perodua\",\"Proton\",\"Proton\",\"Proton\",\"Honda\",\"Honda\",\"Toyota\",\"Honda\",\"Honda\",\"Honda\",\"Honda\",\"Toyota\",\"Toyota\",\"Toyota\",\"Honda\",\"Toyota\",\"Honda\",\"Honda\",\"Honda\",\"Honda\",\"Honda\",\"Toyota\",\"Honda\",\"Honda\",\"Honda\",\"Perodua\",\"Foton\",\"Perodua\",\"Chana\",\"Perodua\",\"Perodua\",\"Perodua\",\"Perodua\",\"Honda\",\"Ford\",\"Toyota\",\"Perodua\",\"Honda\",\"Ford\",\"Honda\",\"Honda\",\"Perodua\",\"Nissan\",\"Perodua\",\"Perodua\",\"Honda\",\"Mitsubishi\",\"Mitsubishi\",\"Perodua\",\"Mercedes-Benz\",\"Mercedes-Benz\",\"Honda\",\"Perodua\",\"Perodua\",\"Proton\",\"Volkswagen\",\"Volkswagen\",\"Volkswagen\",\"Proton\",\"Mitsubishi\",\"Nissan\",\"Mercedes-Benz\",\"Mercedes-Benz\",\"Honda\",\"Honda\",\"Honda\",\"Isuzu\",\"Hino\",\"Mitsubishi\",\"Hino\",\"TESLA\",\"Proton\",\"Mazda\",\"Nissan\",\"Honda\",\"Nissan\",\"Mitsubishi\",\"Isuzu\",\"Mercedes-Benz\",\"Mercedes-Benz\",\"Mercedes-Benz\",\"Honda\",\"Honda\",\"Honda\",\"Perodua\",\"Honda\",\"Honda\",\"Honda\",\"Honda\",\"Honda\",\"Honda\",\"TESLA\",\"Ford\",\"Toyota\",\"Proton\",\"Proton\",\"Honda\",\"Volkswagen\",\"Perodua\",\"Ford\",\"Ford\",\"Mitsubishi\",\"Honda\",\"Honda\",\"Perodua\",\"Perodua\",\"Proton\",\"CAF DFSK\",\"Hino\",\"Perodua\",\"Toyota\",\"Mazda\",\"Mazda\",\"Mazda\",\"Mazda\",\"Mazda\",\"Mazda\",\"Mazda\",\"Mazda\",\"Mazda\",\"Peugeot\",\"Honda\",\"Peugeot\",\"Honda\",\"Chana\",\"Mitsubishi\",\"Volkswagen\",\"Honda\",\"Perodua\",\"Proton\",\"Foton\",\"Mercedes-Benz\",\"Perodua\",\"Nissan\",\"Ford\",\"Proton\",\"BMW\",\"Mitsubishi\",\"Ford\",\"Proton\",\"Ford\",\"Ford\",\"Ford\",\"Ford\",\"Ford\",\"Ford\",\"Ford\",\"Perodua\",\"Mitsubishi\",\"Ford\",\"Ford\",\"Perodua\",\"Honda\",\"Ford\",\"Proton\",\"Proton\",\"Proton\",\"Honda\",\"Toyota\",\"Perodua\",\"Toyota\",\"Toyota\",\"Toyota\",\"Toyota\",\"Toyota\",\"Mitsubishi\",\"Toyota\",\"Proton\",\"Toyota\",\"Perodua\",\"Proton\",\"Proton\",\"Proton\",\"Proton\",\"Proton\",\"Proton\",\"Proton\",\"BMW\",\"Honda\",\"Mitsubishi\",\"Mitsubishi\",\"Ford\",\"Mazda\",\"Peugeot\",\"Daihatsu\",\"CAM\",\"CAM\",\"Honda\",\"Mazda\",\"Mazda\",\"Mazda\",\"Mazda\",\"Mazda\",\"Mazda\",\"Mazda\",\"Mazda\",\"Mazda\",\"Mazda\",\"Honda\",\"Perodua\",\"Mitsubishi\",\"Mitsubishi\",\"Mazda\",\"Proton\",\"Perodua\",\"Mazda\",\"Mitsubishi\",\"Peugeot\",\"Peugeot\",\"Perodua\",\"Perodua\",\"Honda\",\"Mazda\",\"Mazda\",\"Mitsubishi\",\"Mitsubishi\",\"Mazda\",\"Peugeot\",\"Mazda\",\"Mazda\",\"Mazda\",\"Mazda\",\"Mazda\",\"Mazda\",\"Mazda\",\"Kia\",\"Mazda\",\"Mazda\",\"Mazda\",\"Perodua\",\"Nissan\",\"Nissan\",\"Ford\",\"Ford\",\"Ford\",\"Ford\",\"Ford\",\"Ford\",\"Ford\",\"TESLA\",\"Proton\",\"Nissan\",\"Ford\",\"Ford\",\"Honda\",\"Ford\",\"Ford\",\"Ford\",\"Honda\",\"Ford\",\"Ford\",\"Ford\",\"Nissan\",\"Mitsubishi\",\"Nissan\",\"Ford\",\"Honda\",\"Toyota\",\"Ford\",\"Nissan\",\"Toyota\",\"Ford\",\"Ford\",\"Ford\",\"Ford\",\"Ford\",\"Ford\",\"Proton\",\"Ford\",\"Nissan\",\"Honda\",\"Ford\",\"Mitsubishi\",\"Ford\",\"Mitsubishi\",\"Isuzu\",\"Volvo\",\"Volvo\",\"Ford\",\"Toyota\",\"Toyota\",\"Perodua\",\"Perodua\",\"Mitsubishi\",\"Honda\",\"Mitsubishi\",\"Ford\",\"Ford\",\"Honda\",\"Perodua\",\"Honda\",\"Honda\",\"Honda\",\"Honda\",\"Honda\",\"Honda\",\"Mitsubishi\",\"Mitsubishi\",\"Honda\",\"Ford\",\"Mitsubishi\",\"Mitsubishi\",\"Mitsubishi\",\"Mitsubishi\",\"Perodua\",\"Ford\",\"Ford\",\"Ford\",\"Toyota\",\"Volvo\",\"Toyota\",\"Volvo\",\"Toyota\",\"Ford\",\"Ford\",\"Honda\",\"Honda\",\"Ford\",\"Ford\",\"Ford\",\"Ford\",\"Ford\",\"Ford\",\"Ford\",\"Ford\",\"Honda\",\"Ford\",\"Ford\",\"Ford\",\"Ford\",\"Ford\",\"Honda\",\"Perodua\",\"Honda\",\"Honda\",\"Honda\",\"Honda\",\"Honda\",\"Honda\",\"Honda\",\"Honda\",\"Honda\",\"Honda\",\"Honda\",\"Honda\",\"Ford\",\"Honda\",\"Honda\",\"Honda\",\"Honda\",\"Honda\",\"Honda\",\"Honda\",\"Honda\",\"Honda\",\"Honda\",\"Honda\",\"Honda\",\"Toyota\",\"Ford\",\"Toyota\",\"Toyota\",\"Toyota\",\"Toyota\",\"Toyota\",\"Honda\",\"Honda\",\"Ford\",\"Ford\",\"Ford\",\"Ford\",\"Proton\",\"TESLA\",\"Ford\",\"Ford\",\"Ford\",\"Ford\",\"Ford\",\"Volvo\",\"Toyota\",\"Toyota\",\"Toyota\",\"Toyota\",\"Toyota\",\"Toyota\",\"Toyota\",\"Volvo\",\"Volvo\",\"Mazda\",\"MG\",\"TESLA\",\"TESLA\",\"TESLA\",\"TESLA\",\"TESLA\",\"TESLA\",\"Kia\",\"Kia\",\"Kia\",\"Toyota\",\"Ford\",\"Ford\",\"Toyota\",\"Toyota\",\"Toyota\",\"Toyota\",\"Toyota\",\"Honda\",\"Toyota\",\"Toyota\",\"Toyota\",\"Toyota\",\"Toyota\",\"Toyota\",\"Toyota\",\"Toyota\",\"Toyota\",\"Toyota\",\"Toyota\",\"Toyota\",\"Toyota\",\"TESLA\",\"Ford\",\"Ford\",\"Ford\",\"Peugeot\",\"Mazda\",\"Kia\",\"Mazda\",\"Mazda\",\"Mazda\",\"Isuzu\",\"Isuzu\",\"BYD\",\"BYD\",\"BYD\",\"BYD\",\"BYD\",\"BYD\",\"BYD\",\"BYD\",\"BYD\",\"BYD\",\"Perodua\",\"Mazda\",\"Mazda\",\"Peugeot\",\"Kia\",\"Mazda\",\"Mazda\",\"Mazda\",\"Peugeot\",\"Toyota\",\"Mazda\",\"Mazda\",\"Perodua\",\"Perodua\",\"Hino\",\"Isuzu\",\"Nissan\",\"Hino\",\"Isuzu\",\"Mazda\",\"TESLA\",\"TESLA\",\"Honda\",\"TESLA\",\"Kia\",\"Kia\",\"Mitsubishi\",\"Mitsubishi\",\"Mitsubishi\",\"Mitsubishi\",\"Mitsubishi\",\"Mitsubishi\",\"Ford\",\"Toyota\",\"Toyota\",\"Perodua\",\"Isuzu\",\"Isuzu\",\"Toyota\",\"Toyota\",\"Isuzu\",\"Isuzu\",\"Isuzu\",\"Isuzu\",\"TESLA\",\"TESLA\",\"Toyota\",\"Isuzu\",\"Toyota\",\"Isuzu\",\"Mazda\",\"Toyota\",\"Toyota\",\"Toyota\",\"Toyota\",\"Toyota\",\"Toyota\",\"Toyota\",\"Toyota\",\"Toyota\",\"Subaru\",\"Proton\",\"Proton\",\"Proton\",\"Proton\",\"Proton\",\"Proton\",\"Proton\",\"Proton\",\"Proton\",\"TESLA\",\"Kia\",\"Proton\",\"Isuzu\",\"Toyota\",\"Toyota\",\"Proton\",\"Mitsubishi\",\"Proton\",\"Proton\",\"Proton\",\"Proton\",\"Proton\",\"Proton\",\"Proton\",\"Proton\",\"Proton\",\"Honda\",\"Subaru\",\"Proton\",\"Proton\",\"Proton\",\"Proton\",\"Proton\",\"Proton\",\"Proton\",\"Proton\",\"TESLA\",\"Proton\",\"Ford\",\"Mazda\",\"Mazda\",\"Kia\",\"Proton\",\"Proton\",\"Toyota\",\"Toyota\",\"Proton\",\"Proton\",\"Proton\",\"Peugeot\",\"Kia\",\"Hyundai\",\"Mazda\",\"Proton\",\"Proton\",\"Proton\",\"Proton\",\"Proton\",\"Proton\",\"Proton\",\"Toyota\",\"Suzuki\",\"Ford\",\"Ford\",\"TESLA\",\"TESLA\",\"Mercedes-Benz\",\"Mercedes-Benz\",\"Toyota\",\"Toyota\",\"Toyota\",\"Toyota\",\"Toyota\",\"Proton\",\"Toyota\",\"Toyota\",\"Toyota\",\"Toyota\",\"Toyota\",\"Toyota\",\"Toyota\",\"Toyota\",\"Toyota\",\"Toyota\",\"Toyota\",\"Toyota\",\"Mazda\",\"Mazda\",\"Proton\",\"Proton\",\"Proton\",\"Proton\",\"TESLA\",\"TESLA\",\"Proton\",\"Proton\",\"Proton\",\"Mazda\",\"Mazda\",\"Mazda\",\"Mazda\",\"Ford\",\"Ford\",\"Ford\",\"Ford\",\"Ford\",\"Mazda\",\"Mazda\",\"Mazda\",\"Mazda\",\"Honda\",\"Mazda\",\"Ford\",\"Ford\",\"Ford\",\"Toyota\",\"Ford\",\"Ford\",\"Ford\",\"Mazda\",\"Proton\",\"Proton\",\"Ford\",\"Ford\",\"Ford\",\"Ford\",\"Isuzu\",\"Mazda\",\"Mazda\",\"Mazda\",\"Volvo\",\"Mazda\",\"Mazda\",\"Perodua\",\"Perodua\",\"Perodua\",\"Perodua\",\"Perodua\",\"Perodua\",\"Mazda\",\"Mazda\",\"Proton\",\"Proton\",\"Proton\",\"Mazda\",\"Proton\",\"Proton\",\"Proton\",\"Proton\",\"Proton\",\"Proton\",\"Proton\",\"Mazda\",\"Mazda\",\"Proton\",\"Mazda\",\"Proton\",\"Proton\",\"Mazda\",\"Mazda\",\"Perodua\",\"Proton\",\"Proton\",\"Foton\",\"Nissan\",\"Proton\",\"Proton\",\"Nissan\",\"Nissan\",\"Nissan\",\"Perodua\",\"Perodua\",\"Perodua\",\"Perodua\",\"Perodua\",\"Perodua\",\"Perodua\",\"Perodua\",\"Perodua\",\"Perodua\",\"Perodua\",\"Perodua\",\"Perodua\",\"Perodua\",\"Perodua\",\"Perodua\",\"Perodua\",\"Perodua\",\"Perodua\",\"Perodua\",\"Perodua\",\"Perodua\",\"Proton\",\"Proton\",\"Proton\",\"Nissan\",\"Proton\",\"Proton\",\"Proton\",\"Proton\",\"Volvo\",\"Mazda\",\"Mazda\",\"Mazda\",\"Mazda\",\"Mazda\",\"Ford\",\"Ford\",\"Ford\",\"Mazda\",\"Ford\",\"Ford\",\"Ford\",\"Mazda\",\"Ford\",\"Ford\",\"Proton\",\"Ford\",\"Ford\",\"Ford\",\"Ford\",\"Perodua\",\"Perodua\",\"Perodua\",\"Perodua\",\"Perodua\",\"Perodua\",\"Perodua\",\"Mitsubishi\",\"Mazda\",\"Mazda\",\"Nissan\",\"Peugeot\",\"Peugeot\",\"Kia\",\"Mitsubishi\",\"Proton\",\"Mitsubishi\",\"Toyota\",\"Mitsubishi\",\"Proton\",\"Volkswagen\",\"Peugeot\",\"Peugeot\",\"Proton\",\"Proton\",\"Perodua\",\"Honda\",\"Honda\",\"Honda\",\"Volvo\",\"Volkswagen\",\"Toyota\",\"Proton\",\"Proton\",\"Honda\",\"Perodua\",\"Perodua\",\"Perodua\",\"Perodua\",\"Perodua\",\"Perodua\",\"Toyota\",\"Perodua\",\"Perodua\",\"Perodua\",\"Perodua\",\"Perodua\",\"Mitsubishi\",\"Perodua\",\"Perodua\",\"Honda\",\"Honda\",\"Mazda\",\"Toyota\",\"Mazda\",\"Toyota\",\"Toyota\",\"Proton\",\"Mazda\",\"Honda\",\"Honda\",\"Proton\",\"Honda\",\"Peugeot\",\"Lexus\",\"Proton\",\"Perodua\",\"Honda\",\"Honda\",\"Honda\",\"Honda\",\"Toyota\",\"Toyota\",\"Toyota\",\"Volkswagen\",\"Toyota\",\"Toyota\",\"Volkswagen\",\"Toyota\",\"Toyota\",\"Toyota\",\"Toyota\",\"Toyota\",\"Mitsubishi\",\"Toyota\",\"Toyota\",\"Mitsubishi\",\"Toyota\",\"Toyota\",\"Mitsubishi\",\"Toyota\",\"Volvo\",\"Proton\",\"TESLA\",\"TESLA\",\"TESLA\",\"Proton\",\"Proton\",\"Proton\",\"Perodua\",\"Mitsubishi\",\"Mercedes-Benz\",\"Nissan\",\"Volkswagen\",\"Volkswagen\",\"Toyota\",\"Toyota\",\"Toyota\",\"Toyota\",\"Toyota\",\"Toyota\",\"Toyota\",\"Toyota\",\"Toyota\",\"Toyota\",\"Toyota\",\"Toyota\",\"Toyota\",\"Toyota\",\"Toyota\",\"Toyota\",\"Toyota\",\"Toyota\",\"Toyota\",\"Toyota\",\"Toyota\",\"Toyota\",\"Toyota\",\"Toyota\",\"Honda\",\"Mitsubishi\",\"Honda\",\"Hino\",\"Toyota\",\"Mitsubishi\",\"Mitsubishi\",\"Mitsubishi\",\"Mitsubishi\",\"Mitsubishi\",\"Nissan\",\"Honda\",\"Ford\",\"Proton\",\"Volkswagen\",\"Proton\",\"Proton\",\"Proton\",\"Mitsubishi\",\"Proton\",\"Proton\",\"Proton\",\"Proton\",\"Honda\",\"Honda\",\"Mitsubishi\",\"Proton\",\"Subaru\",\"Toyota\",\"Toyota\",\"Toyota\",\"Honda\",\"Subaru\",\"Honda\",\"Mitsubishi\",\"Toyota\",\"Toyota\",\"Toyota\",\"MG\",\"Foton\",\"Volkswagen\",\"Mitsubishi\",\"Mazda\",\"Volkswagen\",\"Nissan\",\"Mitsubishi\",\"Mitsubishi\",\"Proton\",\"Isuzu\",\"Isuzu\",\"Nissan\",\"Proton\",\"Nissan\",\"Perodua\",\"Perodua\",\"Perodua\",\"Perodua\",\"Perodua\",\"Perodua\",\"Ford\",\"Foton\",\"MG\",\"MG\",\"Volkswagen\",\"Mitsubishi\",\"Foton\",\"Mitsubishi\",\"Chana\",\"Foton\",\"Perodua\",\"Perodua\",\"Proton\",\"Proton\",\"Chana\",\"TESLA\",\"Mazda\",\"Honda\",\"Hino\",\"Isuzu\",\"Mitsubishi\",\"Nissan\",\"Mitsubishi\",\"Proton\",\"Toyota\",\"Toyota\",\"Mitsubishi\",\"Perodua\",\"Perodua\",\"Honda\",\"Toyota\",\"Honda\",\"Nissan\",\"Nissan\",\"Peugeot\",\"Perodua\",\"Chana\",\"Mitsubishi\",\"Mitsubishi\",\"Proton\",\"Volvo\",\"Proton\",\"Ford\",\"Ford\",\"Ford\",\"Volvo\",\"Honda\",\"Honda\",\"Mazda\",\"Perodua\",\"Proton\",\"Proton\",\"Proton\",\"Toyota\",\"Toyota\",\"Mitsubishi\",\"Toyota\",\"Proton\",\"Volkswagen\",\"Proton\",\"Proton\",\"Proton\",\"TESLA\",\"Mazda\",\"Perodua\",\"Honda\",\"Proton\",\"Perodua\",\"Hino\",\"Proton\",\"Volkswagen\",\"Volkswagen\",\"Volkswagen\",\"Perodua\",\"Volkswagen\",\"Foton\",\"Mitsubishi\",\"Perodua\",\"Mazda\",\"Chana\",\"Honda\",\"Volkswagen\",\"Volkswagen\",\"Ford\",\"Honda\",\"Proton\",\"Proton\",\"Proton\",\"Volkswagen\",\"Chana\",\"Toyota\",\"Toyota\",\"Toyota\",\"Toyota\",\"Proton\",\"Peugeot\",\"Peugeot\",\"Mitsubishi\",\"Proton\",\"Proton\",\"Perodua\",\"CAF DFSK\",\"Proton\",\"Honda\",\"Honda\",\"Proton\",\"Proton\",\"Honda\",\"Honda\",\"Proton\",\"Proton\",\"Honda\",\"Honda\",\"Proton\",\"Proton\",\"Proton\",\"Mitsubishi\",\"Perodua\",\"Mitsubishi\",\"Mitsubishi\",\"Mitsubishi\",\"Mitsubishi\",\"Mitsubishi\",\"Mitsubishi\",\"Isuzu\",\"Mitsubishi\",\"Mitsubishi\",\"Mitsubishi\",\"Mitsubishi\",\"Mitsubishi\",\"Proton\",\"Proton\",\"Honda\",\"Honda\",\"Toyota\",\"Toyota\",\"Toyota\",\"Foton\",\"Mitsubishi\",\"Proton\",\"Proton\",\"Proton\",\"Proton\",\"MG\",\"Mazda\",\"Hino\",\"Volkswagen\",\"GAC\",\"Honda\",\"Honda\",\"Proton\",\"Proton\",\"Proton\",\"Proton\",\"Proton\",\"Proton\",\"Proton\",\"Perodua\",\"Perodua\",\"GAC\",\"GAC\",\"JMC\",\"Toyota\",\"Toyota\",\"Proton\",\"Proton\",\"Proton\",\"Proton\",\"Proton\",\"Mazda\",\"Mazda\",\"Proton\",\"Proton\",\"Proton\",\"Proton\",\"Proton\",\"Proton\",\"Perodua\",\"Volkswagen\",\"Perodua\",\"Mitsubishi\",\"Proton\",\"Nissan\",\"Mitsubishi\",\"Toyota\",\"Volkswagen\",\"GAC\",\"GAC\",\"JMC\",\"Hino\",\"Toyota\",\"Mitsubishi\",\"Toyota\",\"Toyota\",\"Perodua\",\"Perodua\",\"Perodua\",\"Chana\",\"Proton\",\"Volkswagen\",\"Proton\",\"Volkswagen\",\"Mitsubishi\",\"Honda\",\"Honda\",\"Proton\",\"Proton\",\"Proton\",\"Proton\",\"Mazda\",\"Proton\",\"Mitsubishi\",\"Proton\",\"Kia\",\"Subaru\",\"Proton\",\"Maxus\",\"Toyota\",\"Toyota\",\"Perodua\",\"Subaru\",\"Proton\",\"Toyota\",\"Toyota\",\"Mazda\",\"Fiat\",\"Mitsubishi\",\"Nissan\",\"Nissan\",\"Foton\",\"Nissan\",\"Nissan\",\"Nissan\",\"Proton\",\"Perodua\",\"Toyota\",\"Daihatsu\",\"Toyota\",\"Mitsubishi\",\"Toyota\",\"Toyota\",\"Toyota\",\"Toyota\",\"Mazda\",\"Perodua\",\"Peugeot\",\"Peugeot\",\"Peugeot\",\"Peugeot\",\"Peugeot\",\"Peugeot\",\"Isuzu\",\"Audi\",\"Mitsubishi\",\"Mazda\",\"Proton\",\"Peugeot\",\"Kia\",\"Proton\",\"Proton\",\"Proton\",\"Proton\",\"Proton\",\"Proton\",\"Mazda\",\"Proton\",\"Proton\",\"Perodua\",\"Volkswagen\",\"Volkswagen\",\"Proton\",\"TESLA\",\"TESLA\",\"Toyota\",\"TESLA\",\"Toyota\",\"Honda\",\"CAF DFSK\",\"Volkswagen\",\"Volkswagen\",\"Proton\",\"Perodua\",\"Mitsubishi\",\"Mitsubishi\",\"Golden Dragon\",\"Proton\",\"Peugeot\",\"Peugeot\",\"Toyota\",\"Proton\",\"Mercedes-Benz\",\"Proton\",\"Proton\",\"Kia\",\"Peugeot\",\"Subaru\",\"Proton\",\"Proton\",\"Proton\",\"Honda\",\"Honda\",\"TESLA\",\"Perodua\",\"Honda\",\"Honda\",\"Honda\",\"Honda\",\"Proton\",\"Proton\",\"Toyota\",\"Toyota\",\"Peugeot\",\"Peugeot\",\"Kia\",\"Proton\",\"Volkswagen\",\"Nissan\",\"Volkswagen\",\"Nissan\",\"Volvo\",\"Mazda\",\"Perodua\",\"Proton\",\"Proton\",\"Proton\",\"Mitsubishi\",\"Mazda\",\"Perodua\",\"Perodua\",\"Honda\",\"Honda\",\"Proton\",\"Hyundai\",\"Chana\",\"Proton\",\"Toyota\",\"Chana\",\"Perodua\",\"Proton\",\"Volkswagen\",\"Proton\",\"Honda\",\"Honda\",\"Mazda\",\"Proton\",\"Perodua\",\"Nissan\",\"Nissan\",\"Proton\",\"Proton\",\"Proton\",\"Toyota\",\"Proton\",\"TESLA\",\"Toyota\",\"Volkswagen\",\"Mazda\",\"Honda\",\"Proton\",\"CAM\",\"Isuzu\",\"Honda\",\"Proton\",\"Toyota\",\"Proton\",\"Honda\",\"Honda\",\"Honda\",\"Honda\",\"Honda\",\"Honda\",\"Honda\",\"Honda\",\"Honda\",\"Honda\",\"Perodua\",\"Perodua\",\"Foton\",\"Hino\",\"Honda\",\"Honda\",\"TESLA\",\"Foton\",\"Perodua\",\"Perodua\",\"Perodua\",\"Toyota\",\"TESLA\",\"Toyota\",\"Kia\",\"Proton\",\"Proton\",\"Proton\",\"Proton\",\"Toyota\",\"Proton\",\"Honda\",\"Honda\",\"Honda\",\"Proton\",\"Mazda\",\"Perodua\",\"Nissan\",\"Peugeot\",\"Proton\",\"Peugeot\",\"Mitsubishi\",\"Proton\",\"Nissan\",\"Perodua\",\"Foton\",\"Proton\",\"Foton\",\"Chana\",\"Volvo\",\"Proton\",\"Volkswagen\",\"Proton\",\"Proton\",\"Proton\",\"Proton\",\"Perodua\",\"Volkswagen\",\"Proton\",\"Proton\",\"Isuzu\",\"Mitsubishi\",\"Mitsubishi\",\"Mitsubishi\",\"Honda\",\"Kia\",\"Hino\",\"Isuzu\",\"Hino\",\"Hino\",\"Isuzu\",\"Hino\",\"Mitsubishi\",\"Perodua\",\"Volkswagen\",\"Volkswagen\",\"Volkswagen\",\"Volkswagen\",\"Foton\",\"Proton\",\"Proton\",\"Suzuki\",\"Volkswagen\",\"Perodua\",\"Perodua\",\"Perodua\",\"Perodua\",\"Mazda\",\"Toyota\",\"Volkswagen\",\"Honda\",\"Honda\",\"Proton\",\"Proton\",\"Nissan\",\"Nissan\",\"Toyota\",\"Toyota\",\"Proton\",\"Proton\",\"Proton\",\"Perodua\",\"Toyota\",\"Toyota\",\"Peugeot\",\"Toyota\",\"Peugeot\",\"Peugeot\",\"Peugeot\",\"Toyota\",\"Proton\",\"Nissan\",\"Proton\",\"Proton\",\"Proton\",\"Proton\",\"Toyota\",\"Toyota\",\"Toyota\",\"Toyota\",\"Toyota\",\"Honda\",\"Perodua\",\"Toyota\",\"Toyota\",\"Proton\",\"Proton\",\"Proton\",\"Proton\",\"Kia\",\"Proton\",\"Mitsubishi\",\"Mitsubishi\",\"Toyota\",\"Toyota\",\"Toyota\",\"Toyota\",\"Toyota\",\"Toyota\",\"Honda\",\"CAF DFSK\",\"Honda\",\"Toyota\",\"Toyota\",\"Proton\",\"Volkswagen\",\"Volkswagen\",\"Honda\",\"Subaru\",\"Volkswagen\",\"Volkswagen\",\"Mitsubishi\",\"Mitsubishi\",\"Kia\",\"Peugeot\",\"Proton\",\"Honda\",\"Perodua\",\"Proton\",\"Proton\",\"Proton\",\"Proton\",\"Ford\",\"Proton\",\"Perodua\",\"Perodua\",\"Toyota\",\"Perodua\",\"Hyundai\",\"Honda\",\"Perodua\",\"Toyota\",\"Toyota\",\"Toyota\",\"Toyota\",\"Honda\",\"Perodua\",\"Mazda\",\"Perodua\",\"Perodua\",\"Perodua\",\"Toyota\",\"Toyota\",\"Perodua\",\"Mazda\",\"Honda\",\"Proton\",\"Mazda\",\"Mazda\",\"Mitsubishi\",\"Perodua\",\"Volkswagen\",\"Kia\",\"Toyota\",\"Perodua\",\"Toyota\",\"Perodua\",\"Isuzu\",\"Nissan\",\"Proton\",\"MG\",\"MG\",\"Toyota\",\"Toyota\",\"Proton\",\"Perodua\",\"Volkswagen\",\"Volkswagen\",\"MG\",\"MG\",\"Perodua\",\"Volvo\",\"Mazda\",\"Kia\",\"Mazda\",\"Isuzu\",\"Isuzu\",\"Toyota\",\"Toyota\",\"Foton\",\"Volkswagen\",\"Volkswagen\",\"Proton\",\"Proton\",\"Proton\",\"Peugeot\",\"Proton\",\"Peugeot\",\"Peugeot\",\"Hyundai\",\"Isuzu\",\"Mitsubishi\",\"Mitsubishi\",\"Proton\",\"Proton\",\"Proton\",\"CAF DFSK\",\"DFSK\",\"Perodua\",\"Proton\",\"Proton\",\"Toyota\",\"Proton\",\"Toyota\",\"Subaru\",\"Mitsubishi\",\"Proton\",\"Proton\",\"Foton\",\"Chana\",\"Toyota\",\"Peugeot\",\"Lexus\",\"Toyota\",\"Toyota\",\"Toyota\",\"Hyundai\",\"Hyundai\",\"Proton\",\"Honda\",\"Mazda\",\"Mazda\",\"Hyundai\",\"Nissan\",\"Proton\",\"Nissan\",\"Honda\",\"Mitsubishi\",\"Mitsubishi\",\"Mitsubishi\",\"Mitsubishi\",\"Mitsubishi\",\"Mitsubishi\",\"Proton\",\"Nissan\",\"Hyundai\",\"Toyota\",\"Mitsubishi\",\"Mitsubishi\",\"Mitsubishi\",\"Mitsubishi\",\"Proton\",\"Renault\",\"Proton\",\"Proton\",\"Proton\",\"Proton\",\"Proton\",\"Proton\",\"Proton\",\"Proton\",\"Proton\",\"Proton\",\"Proton\",\"Proton\",\"Honda\",\"Peugeot\",\"Proton\",\"Toyota\",\"Toyota\",\"Mazda\",\"Peugeot\",\"Peugeot\",\"Perodua\",\"Proton\",\"Perodua\",\"Perodua\",\"Perodua\",\"Proton\",\"Proton\",\"Proton\",\"Proton\",\"Volkswagen\",\"Proton\",\"Proton\",\"Proton\",\"Proton\",\"Toyota\",\"Nissan\",\"Toyota\",\"Nissan\",\"Proton\",\"Nissan\",\"Nissan\",\"Hyundai\",\"Nissan\",\"Toyota\",\"Perodua\",\"Toyota\",\"Hyundai\",\"Mazda\",\"Peugeot\",\"Proton\",\"Toyota\",\"Isuzu\",\"Toyota\",\"Volkswagen\",\"Perodua\",\"Proton\",\"Honda\",\"Honda\",\"Mazda\",\"Mazda\",\"Honda\",\"Perodua\",\"Toyota\",\"Honda\",\"Kia\",\"Proton\",\"Proton\",\"Kia\",\"Mitsubishi\",\"Mitsubishi\",\"Peugeot\",\"Honda\",\"Honda\",\"Toyota\",\"Proton\",\"Proton\",\"Mazda\",\"Proton\",\"Proton\",\"Volkswagen\",\"Volkswagen\",\"Mazda\",\"Proton\",\"Volkswagen\",\"Isuzu\",\"Toyota\",\"Toyota\",\"Mitsubishi\",\"Proton\",\"Peugeot\",\"Proton\",\"Proton\",\"Peugeot\",\"Peugeot\",\"Proton\",\"Peugeot\",\"Peugeot\",\"Toyota\",\"Proton\",\"Kia\",\"Kia\",\"Proton\",\"Proton\",\"Proton\",\"Renault\",\"Proton\",\"Nissan\",\"Nissan\",\"Honda\",\"Proton\",\"Proton\",\"Proton\",\"Mitsubishi\",\"Mitsubishi\",\"Nissan\",\"Nissan\",\"Proton\",\"Proton\",\"Proton\",\"Proton\",\"Mitsubishi\",\"Honda\",\"Daihatsu\",\"Toyota\",\"Toyota\",\"Proton\",\"Proton\",\"Proton\",\"Proton\",\"Proton\",\"Proton\",\"Mazda\",\"Mitsubishi\",\"Mitsubishi\",\"Mitsubishi\",\"Mitsubishi\",\"Honda\",\"Honda\",\"Mazda\",\"Mitsubishi\",\"Proton\",\"Proton\",\"Proton\",\"Proton\",\"Proton\",\"Volkswagen\",\"Proton\",\"CAF DFSK\",\"Lexus\",\"Ford\",\"Proton\",\"Proton\",\"Toyota\",\"Volkswagen\",\"Volkswagen\",\"Proton\",\"Proton\",\"Proton\",\"Honda\",\"Honda\",\"Proton\",\"Daihatsu\",\"Foton\",\"Chana\",\"Ford\",\"Honda\",\"Mercedes-Benz\",\"Perodua\",\"Mazda\",\"Mitsubishi\",\"Proton\",\"Proton\",\"Perodua\",\"Mitsubishi\",\"Mazda\",\"Subaru\",\"Proton\",\"Mazda\",\"Peugeot\",\"Proton\",\"Proton\",\"Proton\",\"Proton\",\"Honda\",\"Foton\",\"Proton\",\"CAF DFSK\",\"Peugeot\",\"Proton\",\"Proton\",\"Honda\",\"Proton\",\"Proton\",\"Hyundai\",\"CAF DFSK\",\"Nissan\",\"Mazda\",\"Perodua\",\"Proton\",\"Toyota\",\"Toyota\",\"Honda\",\"Hyundai\",\"Proton\",\"Toyota\",\"Toyota\",\"Mitsubishi\",\"Proton\",\"Nissan\",\"Nissan\",\"Mazda\",\"Perodua\",\"Perodua\",\"Honda\",\"Proton\",\"Honda\",\"Proton\",\"Proton\",\"Proton\",\"Mitsubishi\",\"Perodua\",\"CAF DFSK\",\"Peugeot\",\"Nissan\",\"Proton\",\"Mitsubishi\",\"Mitsubishi\",\"Volkswagen\",\"Toyota\",\"Honda\",\"Honda\",\"Proton\",\"Proton\",\"Honda\",\"Mitsubishi\",\"Mitsubishi\",\"Proton\",\"Foton\",\"Proton\",\"Proton\",\"Mitsubishi\",\"Mitsubishi\",\"Mazda\",\"Volkswagen\",\"Mercedes-Benz\",\"Perodua\",\"Volkswagen\",\"Volkswagen\",\"Toyota\",\"Perodua\",\"Proton\",\"Toyota\",\"Toyota\",\"Toyota\",\"Mitsubishi\",\"Proton\",\"Mitsubishi\",\"Mazda\",\"Proton\",\"Proton\",\"Ford\",\"Ford\",\"Peugeot\",\"Proton\",\"Honda\",\"Mazda\",\"Mazda\",\"Perodua\",\"Perodua\",\"Volkswagen\",\"Honda\",\"Honda\",\"Honda\",\"Honda\",\"Subaru\",\"Subaru\",\"Subaru\",\"Foton\",\"CAM\",\"Proton\",\"Daihatsu\",\"Daihatsu\",\"Kia\",\"Mazda\",\"Mazda\",\"Proton\",\"Proton\",\"Proton\",\"Isuzu\",\"Isuzu\",\"Proton\",\"Proton\",\"Hyundai\",\"Mazda\",\"Proton\",\"Volkswagen\",\"Proton\",\"Mazda\",\"Honda\",\"Honda\",\"Honda\",\"Proton\",\"Toyota\",\"Volkswagen\",\"Mitsubishi\",\"Toyota\",\"Proton\",\"Nissan\",\"Chana\",\"Foton\",\"Kia\",\"CAM\",\"Proton\",\"Proton\",\"Peugeot\",\"Toyota\",\"Proton\",\"Proton\",\"Mazda\",\"Perodua\",\"Perodua\",\"Perodua\",\"Volkswagen\",\"Mitsubishi\",\"Volkswagen\",\"Volkswagen\",\"Peugeot\",\"Peugeot\",\"Perodua\",\"Honda\",\"JMC\",\"JMC\",\"JMC\",\"JMC\",\"JMC\",\"Proton\",\"Foton\",\"Honda\",\"Proton\",\"Proton\",\"Honda\",\"Perodua\",\"Volkswagen\",\"Volkswagen\",\"Proton\",\"Mitsubishi\",\"Proton\",\"Proton\",\"Proton\",\"Proton\",\"Mercedes-Benz\",\"Proton\",\"Proton\",\"Peugeot\",\"Volkswagen\",\"Toyota\",\"Volkswagen\",\"Foton\",\"Toyota\",\"Toyota\",\"Toyota\",\"Toyota\",\"Perodua\",\"Perodua\",\"Perodua\",\"Honda\",\"Honda\",\"Honda\",\"Honda\",\"Honda\",\"Mitsubishi\",\"Mitsubishi\",\"Proton\",\"Proton\",\"Nissan\",\"Toyota\",\"Daihatsu\",\"Volkswagen\",\"Ford\",\"Toyota\",\"Toyota\",\"Toyota\",\"Honda\",\"Honda\",\"Honda\",\"Perodua\",\"Toyota\",\"Toyota\",\"Foton\",\"Honda\",\"Perodua\",\"Perodua\",\"Ford\",\"Chana\",\"Kia\",\"Proton\",\"Nissan\",\"Foton\",\"Foton\",\"Mazda\",\"Honda\",\"Peugeot\",\"Kia\",\"Honda\",\"Mitsubishi\",\"Mitsubishi\",\"Proton\",\"Hino\",\"Chana\",\"Foton\",\"Proton\",\"Hino\",\"Toyota\",\"Mazda\",\"Perodua\",\"Proton\",\"Mitsubishi\",\"Mazda\",\"Mazda\",\"Mazda\",\"Ford\",\"Subaru\",\"Honda\",\"Toyota\",\"Honda\",\"Toyota\",\"Peugeot\",\"Nissan\",\"Daihatsu\",\"Mitsubishi\",\"Mitsubishi\",\"Mitsubishi\",\"Mitsubishi\",\"Proton\",\"Perodua\",\"Volkswagen\",\"Volkswagen\",\"Volkswagen\",\"Proton\",\"Volkswagen\",\"Mitsubishi\",\"Mitsubishi\",\"Volkswagen\",\"Volkswagen\",\"Mazda\",\"Daihatsu\",\"Mazda\",\"Nissan\",\"Mazda\",\"Mitsubishi\",\"Mitsubishi\",\"Perodua\",\"Perodua\",\"Perodua\",\"Perodua\",\"Perodua\",\"Perodua\",\"Perodua\",\"Perodua\",\"Perodua\",\"Foton\",\"Volkswagen\",\"Proton\",\"Peugeot\",\"Proton\",\"Proton\",\"Perodua\",\"Perodua\",\"Honda\",\"Mitsubishi\",\"Foton\",\"Volkswagen\",\"Honda\",\"Mazda\",\"Honda\",\"Honda\",\"Honda\",\"Proton\",\"Volkswagen\",\"Volkswagen\",\"Volkswagen\",\"Volkswagen\",\"Peugeot\",\"Toyota\",\"Ford\",\"Proton\",\"Mazda\",\"Proton\",\"Proton\",\"Proton\",\"Proton\",\"Proton\",\"Proton\",\"Mitsubishi\",\"Chana\",\"Perodua\",\"Proton\",\"Ford\",\"Mitsubishi\",\"Proton\",\"Nissan\",\"Foton\",\"Foton\",\"Peugeot\",\"Isuzu\",\"Perodua\",\"Perodua\",\"Perodua\",\"Honda\",\"Chana\",\"CAM\",\"Nissan\",\"Proton\",\"Nissan\",\"Toyota\",\"Chana\",\"Foton\",\"Nissan\",\"Honda\",\"Hino\",\"Foton\",\"Proton\",\"Honda\",\"Kia\",\"Mitsubishi\",\"Honda\",\"Ford\",\"Toyota\",\"Peugeot\",\"Proton\",\"Proton\",\"Proton\",\"Proton\",\"Isuzu\",\"Foton\",\"Foton\",\"Foton\",\"Volkswagen\",\"Proton\",\"Mitsubishi\",\"Mazda\",\"Mazda\",\"Mazda\",\"Mazda\",\"Toyota\",\"Toyota\",\"Proton\",\"Proton\",\"Proton\",\"Isuzu\",\"Proton\",\"Mitsubishi\",\"Proton\",\"Mitsubishi\",\"Honda\",\"Mazda\",\"Mazda\",\"Mazda\",\"Mazda\",\"Honda\",\"Honda\",\"Perodua\",\"Proton\",\"Hino\",\"Isuzu\",\"Hino\",\"Hino\",\"Foton\",\"Foton\",\"CAM\",\"CAM\",\"Daihatsu\",\"Chana\",\"Chana\",\"Nissan\",\"Chana\",\"Daihatsu\",\"CAM\",\"Nissan\",\"CAM\",\"Chana\",\"CAM\",\"CAM\",\"Daihatsu\",\"Daihatsu\",\"Toyota\",\"Daihatsu\",\"Ford\",\"Hino\",\"Peugeot\",\"Proton\",\"Honda\",\"Honda\",\"Honda\",\"Honda\",\"Mitsubishi\",\"Proton\",\"Toyota\",\"Toyota\",\"Kia\",\"Volkswagen\",\"Proton\",\"Mitsubishi\",\"Toyota\",\"Nissan\",\"Honda\",\"Volkswagen\",\"Proton\",\"Proton\",\"Proton\",\"Mitsubishi\",\"Kia\",\"Hino\",\"Proton\",\"Chana\",\"Proton\",\"Isuzu\",\"Proton\",\"Proton\",\"Peugeot\",\"Kia\",\"Mitsubishi\",\"Foton\",\"Chana\",\"Mitsubishi\",\"Kia\",\"Mazda\",\"Mazda\",\"Proton\",\"Honda\",\"Mitsubishi\",\"Toyota\",\"Toyota\",\"Toyota\",\"Toyota\",\"Mitsubishi\",\"Mitsubishi\",\"Proton\",\"Ford\",\"Perodua\",\"Perodua\",\"Mazda\",\"Perodua\",\"Proton\",\"Proton\",\"Proton\",\"Proton\",\"Mercedes-Benz\",\"Mitsubishi\",\"Mitsubishi\",\"Mitsubishi\",\"Perodua\",\"Perodua\",\"Perodua\",\"Proton\",\"Ford\",\"Ford\",\"Proton\",\"Proton\",\"Proton\",\"Volkswagen\",\"Nissan\",\"Honda\",\"Honda\",\"Honda\",\"Honda\",\"Honda\",\"Ford\",\"Toyota\",\"Proton\",\"Proton\",\"Perodua\",\"Proton\",\"Proton\",\"Proton\",\"Toyota\",\"Ford\",\"Perodua\",\"Chana\",\"Chana\",\"Foton\",\"Honda\",\"Honda\",\"Mitsubishi\",\"Mitsubishi\",\"Honda\",\"Proton\",\"Mitsubishi\",\"Toyota\",\"Honda\",\"Toyota\",\"Mazda\",\"Perodua\",\"Perodua\",\"Perodua\",\"Proton\",\"Toyota\",\"Perodua\",\"Perodua\",\"Nissan\",\"Nissan\",\"Nissan\",\"Mazda\",\"Toyota\",\"Honda\",\"Mitsubishi\",\"Nissan\",\"Perodua\",\"Nissan\",\"Toyota\",\"Toyota\",\"Toyota\",\"Mitsubishi\",\"Foton\",\"Honda\",\"Honda\",\"Honda\",\"Proton\",\"Perodua\",\"Perodua\",\"Perodua\",\"Mazda\",\"Mazda\",\"Mitsubishi\",\"Proton\",\"Proton\",\"Proton\",\"Mitsubishi\",\"Toyota\",\"Proton\",\"Proton\",\"Proton\",\"Toyota\",\"Nissan\",\"Subaru\",\"Subaru\",\"Proton\",\"Proton\",\"Toyota\",\"Proton\",\"Proton\",\"Proton\",\"Proton\",\"Proton\",\"Perodua\",\"Mazda\",\"Perodua\",\"Perodua\",\"Ford\",\"Hyundai\",\"Volkswagen\",\"Foton\",\"Foton\",\"Chana\",\"Chana\",\"CAM\",\"Volkswagen\",\"CAM\",\"Foton\",\"Foton\",\"Foton\",\"Volkswagen\",\"CAM\",\"Chana\",\"Foton\",\"Foton\",\"CAM\",\"CAM\",\"Foton\",\"Foton\",\"Foton\",\"Chana\",\"Foton\",\"Higer\",\"Foton\",\"Foton\",\"Chana\",\"CAM\",\"Foton\",\"Foton\",\"Chana\",\"Chana\",\"CAM\",\"Chana\",\"Chana\",\"CAM\",\"Foton\",\"Chana\",\"Higer\",\"Higer\",\"Chana\",\"Chana\",\"Foton\",\"Foton\",\"Higer\",\"Higer\",\"Perodua\",\"Perodua\",\"Perodua\",\"Perodua\",\"Nissan\",\"Nissan\",\"Mitsubishi\",\"Hino\",\"Mazda\",\"Perodua\",\"Mitsubishi\",\"Mercedes-Benz\",\"Foton\",\"Chana\",\"Kia\",\"Mazda\",\"Mazda\",\"Mazda\",\"Mazda\",\"Proton\",\"Proton\",\"Mitsubishi\",\"Lexus\",\"Mazda\",\"Toyota\",\"Hino\",\"Hino\",\"Kia\",\"Mazda\",\"Proton\",\"Mazda\",\"Mitsubishi\",\"Honda\",\"Ford\",\"Proton\",\"Honda\",\"Toyota\",\"Toyota\",\"Nissan\",\"Proton\",\"Proton\",\"Perodua\",\"Toyota\",\"Toyota\",\"Toyota\",\"Daihatsu\",\"Mitsubishi\",\"Mitsubishi\",\"Nissan\",\"Proton\",\"Perodua\",\"Mitsubishi\",\"Perodua\",\"JMC\",\"Kia\",\"Toyota\",\"Toyota\",\"Honda\",\"Toyota\",\"Mitsubishi\",\"Proton\",\"Nissan\",\"Honda\",\"Isuzu\",\"Ford\",\"Proton\",\"Foton\",\"Chana\",\"Honda\",\"Toyota\",\"Perodua\",\"Perodua\",\"Toyota\",\"Toyota\",\"Toyota\",\"Proton\",\"Proton\",\"Perodua\",\"Hino\",\"Honda\",\"Hino\",\"Mazda\",\"Proton\",\"Perodua\",\"Mitsubishi\",\"Proton\",\"Honda\",\"Honda\",\"Honda\",\"Honda\",\"Honda\",\"Honda\",\"Proton\",\"Perodua\",\"Peugeot\",\"Peugeot\",\"Peugeot\",\"Perodua\",\"Mazda\",\"Peugeot\",\"Perodua\",\"Proton\",\"Nissan\",\"Kia\",\"Proton\",\"Toyota\",\"Foton\",\"Foton\",\"Isuzu\",\"Mazda\",\"Perodua\",\"Perodua\",\"Mazda\",\"Isuzu\",\"Proton\",\"Mazda\",\"Isuzu\",\"Mitsubishi\",\"Foton\",\"Honda\",\"Perodua\",\"Perodua\",\"Perodua\",\"Perodua\",\"Mitsubishi\",\"Honda\",\"Mazda\",\"Mazda\",\"Golden Dragon\",\"Foton\",\"Foton\",\"Foton\"],\"y\":[5.0,5.0,5.0,5.0,5.0,5.0,5.0,5.0,5.0,5.0,5.0,5.0,5.0,5.0,5.0,5.0,7.0,5.0,5.0,5.0,5.0,7.0,5.0,5.0,5.0,5.0,5.0,5.0,5.0,5.0,5.0,5.0,5.0,5.0,5.0,5.0,5.0,5.0,5.0,5.0,7.0,7.0,5.0,5.0,5.0,5.0,5.0,5.0,5.0,5.0,5.0,7.0,5.0,5.0,5.0,5.0,5.0,5.0,5.0,7.0,5.0,7.0,7.0,7.0,5.0,2.0,5.0,5.0,5.0,5.0,5.0,5.0,5.0,5.0,5.0,5.0,5.0,5.0,7.0,2.0,5.0,2.0,5.0,5.0,5.0,11.0,5.0,5.0,5.0,5.0,5.0,5.0,5.0,5.0,5.0,5.0,5.0,7.0,5.0,5.0,5.0,5.0,5.0,5.0,5.0,5.0,2.0,7.0,5.0,5.0,5.0,5.0,5.0,5.0,5.0,5.0,5.0,2.0,2.0,5.0,5.0,5.0,5.0,5.0,2.0,5.0,5.0,5.0,5.0,5.0,2.0,5.0,5.0,5.0,2.0,5.0,5.0,5.0,5.0,5.0,5.0,5.0,5.0,5.0,5.0,5.0,5.0,5.0,5.0,5.0,5.0,5.0,5.0,5.0,5.0,5.0,5.0,5.0,5.0,5.0,5.0,5.0,5.0,5.0,5.0,7.0,5.0,7.0,11.0,5.0,5.0,5.0,5.0,5.0,5.0,5.0,5.0,5.0,5.0,6.0,5.0,6.0,6.0,5.0,6.0,5.0,5.0,5.0,7.0,5.0,5.0,5.0,5.0,5.0,5.0,5.0,5.0,5.0,5.0,5.0,7.0,5.0,7.0,5.0,5.0,5.0,5.0,5.0,5.0,5.0,5.0,5.0,5.0,7.0,5.0,5.0,7.0,5.0,5.0,5.0,5.0,5.0,5.0,5.0,5.0,5.0,5.0,5.0,5.0,5.0,5.0,5.0,5.0,5.0,7.0,5.0,7.0,5.0,5.0,5.0,7.0,5.0,5.0,5.0,5.0,5.0,5.0,7.0,5.0,2.0,5.0,5.0,5.0,5.0,5.0,5.0,5.0,5.0,5.0,7.0,5.0,7.0,5.0,5.0,5.0,5.0,7.0,5.0,5.0,5.0,7.0,5.0,7.0,7.0,5.0,5.0,5.0,5.0,5.0,5.0,5.0,5.0,5.0,5.0,7.0,5.0,5.0,5.0,5.0,5.0,5.0,5.0,5.0,5.0,5.0,5.0,5.0,5.0,5.0,5.0,7.0,5.0,5.0,5.0,5.0,5.0,5.0,7.0,5.0,5.0,5.0,5.0,5.0,5.0,5.0,5.0,7.0,5.0,5.0,5.0,5.0,5.0,5.0,5.0,7.0,5.0,5.0,5.0,5.0,5.0,5.0,5.0,5.0,11.0,5.0,7.0,5.0,5.0,5.0,5.0,5.0,5.0,5.0,5.0,7.0,7.0,5.0,5.0,5.0,7.0,11.0,5.0,5.0,5.0,7.0,5.0,5.0,5.0,7.0,5.0,7.0,7.0,5.0,5.0,5.0,7.0,5.0,5.0,7.0,5.0,7.0,5.0,5.0,5.0,5.0,5.0,5.0,5.0,5.0,5.0,5.0,7.0,7.0,5.0,5.0,5.0,5.0,5.0,5.0,5.0,5.0,5.0,7.0,5.0,5.0,5.0,5.0,5.0,5.0,5.0,5.0,5.0,5.0,5.0,5.0,5.0,5.0,2.0,5.0,5.0,5.0,7.0,5.0,5.0,7.0,5.0,5.0,5.0,5.0,5.0,5.0,5.0,5.0,5.0,5.0,5.0,5.0,5.0,7.0,5.0,5.0,5.0,5.0,5.0,5.0,5.0,5.0,5.0,5.0,5.0,5.0,5.0,5.0,7.0,5.0,5.0,5.0,5.0,7.0,5.0,5.0,5.0,5.0,5.0,5.0,5.0,5.0,5.0,5.0,5.0,5.0,5.0,7.0,7.0,7.0,7.0,5.0,5.0,5.0,5.0,5.0,5.0,7.0,5.0,5.0,5.0,5.0,5.0,2.0,2.0,5.0,7.0,5.0,7.0,5.0,5.0,5.0,5.0,5.0,5.0,7.0,5.0,5.0,7.0,7.0,5.0,5.0,5.0,5.0,2.0,5.0,5.0,5.0,5.0,5.0,7.0,5.0,5.0,5.0,5.0,5.0,5.0,5.0,5.0,5.0,5.0,7.0,7.0,7.0,5.0,5.0,5.0,5.0,5.0,5.0,5.0,5.0,5.0,7.0,7.0,5.0,5.0,5.0,5.0,5.0,7.0,5.0,7.0,5.0,5.0,7.0,5.0,5.0,5.0,5.0,5.0,5.0,5.0,5.0,5.0,5.0,5.0,5.0,5.0,5.0,5.0,5.0,5.0,5.0,5.0,5.0,5.0,5.0,6.0,5.0,6.0,5.0,5.0,7.0,5.0,5.0,5.0,5.0,5.0,5.0,5.0,5.0,5.0,5.0,5.0,5.0,5.0,5.0,5.0,5.0,7.0,5.0,5.0,5.0,5.0,5.0,5.0,5.0,7.0,7.0,5.0,5.0,5.0,5.0,5.0,5.0,7.0,5.0,5.0,5.0,5.0,5.0,7.0,7.0,5.0,5.0,5.0,5.0,7.0,5.0,5.0,5.0,5.0,5.0,7.0,5.0,5.0,5.0,5.0,5.0,5.0,5.0,5.0,5.0,5.0,5.0,5.0,5.0,7.0,7.0,5.0,5.0,5.0,5.0,5.0,5.0,5.0,5.0,5.0,5.0,5.0,7.0,5.0,5.0,5.0,5.0,5.0,5.0,5.0,5.0,7.0,5.0,5.0,5.0,5.0,5.0,5.0,5.0,5.0,5.0,5.0,5.0,5.0,3.0,5.0,5.0,2.0,5.0,5.0,5.0,5.0,5.0,5.0,5.0,5.0,5.0,5.0,5.0,5.0,5.0,8.0,5.0,5.0,7.0,5.0,7.0,5.0,5.0,5.0,5.0,5.0,5.0,7.0,7.0,5.0,5.0,5.0,5.0,5.0,5.0,5.0,5.0,5.0,5.0,7.0,7.0,10.0,5.0,5.0,5.0,5.0,5.0,5.0,5.0,5.0,5.0,7.0,5.0,5.0,5.0,5.0,5.0,5.0,5.0,5.0,4.0,5.0,5.0,5.0,5.0,5.0,4.0,4.0,2.0,2.0,2.0,4.0,5.0,7.0,5.0,5.0,5.0,5.0,5.0,5.0,5.0,5.0,5.0,5.0,5.0,5.0,5.0,5.0,5.0,5.0,5.0,5.0,5.0,5.0,5.0,8.0,5.0,5.0,5.0,5.0,5.0,5.0,5.0,5.0,5.0,7.0,5.0,5.0,5.0,5.0,5.0,5.0,5.0,11.0,11.0,5.0,11.0,11.0,2.0,5.0,7.0,5.0,5.0,5.0,5.0,5.0,5.0,5.0,5.0,5.0,7.0,5.0,5.0,5.0,5.0,5.0,5.0,5.0,5.0,2.0,5.0,5.0,5.0,5.0,5.0,6.0,5.0,5.0,7.0,7.0,5.0,5.0,5.0,5.0,5.0,5.0,5.0,2.0,2.0,2.0,5.0,2.0,5.0,2.0,5.0,5.0,5.0,5.0,5.0,2.0,5.0,5.0,5.0,5.0,7.0,5.0,5.0,5.0,7.0,5.0,5.0,7.0,5.0,7.0,5.0,5.0,5.0,5.0,5.0,5.0,7.0,5.0,5.0,5.0,5.0,5.0,5.0,6.0,5.0,7.0,5.0,5.0,5.0,5.0,5.0,5.0,7.0,5.0,5.0,5.0,5.0,5.0,7.0,5.0,7.0,5.0,7.0,5.0,5.0,5.0,5.0,5.0,5.0,5.0,5.0,5.0,5.0,6.0,5.0,5.0,7.0,5.0,5.0,11.0,11.0,8.0,5.0,5.0,5.0,5.0,5.0,5.0,7.0,5.0,5.0,7.0,5.0,7.0,7.0,5.0,5.0,7.0,7.0,5.0,5.0,5.0,5.0,5.0,5.0,5.0,5.0,5.0,7.0,5.0,7.0,5.0,5.0,7.0,5.0,5.0,2.0,5.0,5.0,5.0,5.0,5.0,7.0,7.0,5.0,7.0,5.0,5.0,7.0,5.0,5.0,5.0,5.0,5.0,5.0,5.0,5.0,5.0,5.0,5.0,5.0,5.0,5.0,5.0,5.0,5.0,7.0,5.0,5.0,5.0,5.0,5.0,5.0,5.0,7.0,5.0,5.0,5.0,5.0,5.0,5.0,5.0,2.0,2.0,5.0,5.0,5.0,7.0,5.0,5.0,5.0,5.0,5.0,5.0,5.0,5.0,5.0,5.0,5.0,5.0,5.0,5.0,7.0,5.0,5.0,5.0,5.0,5.0,7.0,5.0,5.0,5.0,5.0,5.0,2.0,5.0,5.0,5.0,5.0,5.0,5.0,5.0,5.0,5.0,5.0,5.0,7.0,5.0,5.0,5.0,5.0,5.0,5.0,5.0,5.0,5.0,5.0,7.0,5.0,7.0,5.0,5.0,5.0,5.0,5.0,5.0,5.0,5.0,5.0,5.0,5.0,4.0,5.0,5.0,7.0,7.0,5.0,5.0,5.0,5.0,5.0,7.0,5.0,7.0,7.0,5.0,5.0,7.0,7.0,5.0,5.0,5.0,5.0,5.0,7.0,5.0,5.0,5.0,5.0,5.0,5.0,5.0,5.0,5.0,5.0,2.0,5.0,5.0,5.0,5.0,5.0,7.0,5.0,5.0,7.0,5.0,2.0,5.0,7.0,7.0,7.0,5.0,5.0,5.0,5.0,5.0,5.0,11.0,5.0,5.0,5.0,7.0,5.0,7.0,11.0,5.0,2.0,5.0,5.0,5.0,5.0,5.0,5.0,5.0,5.0,5.0,5.0,5.0,5.0,5.0,5.0,5.0,5.0,5.0,5.0,5.0,5.0,5.0,5.0,5.0,5.0,5.0,5.0,5.0,5.0,5.0,5.0,5.0,5.0,5.0,5.0,6.0,2.0,5.0,7.0,5.0,5.0,5.0,5.0,5.0,5.0,5.0,5.0,7.0,5.0,5.0,5.0,7.0,5.0,5.0,5.0,5.0,5.0,10.0,5.0,15.0,5.0,5.0,7.0,7.0,5.0,5.0,5.0,5.0,5.0,2.0,7.0,5.0,5.0,5.0,5.0,6.0,5.0,7.0,5.0,5.0,5.0,11.0,7.0,5.0,5.0,5.0,5.0,5.0,5.0,5.0,5.0,5.0,7.0,5.0,7.0,5.0,5.0,5.0,2.0,7.0,4.0,5.0,7.0,5.0,5.0,5.0,5.0,5.0,5.0,5.0,5.0,5.0,5.0,7.0,5.0,7.0,5.0,7.0,5.0,10.0,10.0,10.0,5.0,5.0,5.0,5.0,5.0,5.0,5.0,5.0,5.0,5.0,5.0,5.0,5.0,5.0,5.0,5.0,5.0,7.0,5.0,5.0,5.0,11.0,5.0,7.0,11.0,5.0,5.0,5.0,5.0,5.0,5.0,5.0,5.0,5.0,5.0,5.0,5.0,7.0,2.0,7.0,5.0,5.0,5.0,7.0,7.0,5.0,2.0,5.0,5.0,5.0,5.0,5.0,2.0,2.0,5.0,5.0,5.0,5.0,7.0,5.0,5.0,5.0,7.0,5.0,5.0,5.0,5.0,5.0,2.0,2.0,5.0,5.0,5.0,5.0,5.0,7.0,5.0,7.0,5.0,11.0,5.0,5.0,7.0,7.0,5.0,7.0,5.0,7.0,5.0,5.0,5.0,5.0,7.0,5.0,5.0,11.0,7.0,7.0,5.0,5.0,5.0,5.0,5.0,5.0,5.0,5.0,7.0,5.0,5.0,5.0,5.0,11.0,11.0,5.0,7.0,5.0,5.0,5.0,5.0,5.0,5.0,5.0,5.0,7.0,5.0,5.0,5.0,5.0,5.0,5.0,5.0,5.0,5.0,7.0,5.0,5.0,7.0,8.0,7.0,7.0,5.0,5.0,5.0,5.0,5.0,5.0,5.0,5.0,5.0,5.0,5.0,5.0,5.0,5.0,7.0,5.0,5.0,5.0,5.0,5.0,5.0,7.0,5.0,5.0,5.0,5.0,5.0,5.0,5.0,5.0,5.0,5.0,5.0,5.0,2.0,10.0,2.0,3.0,5.0,5.0,5.0,7.0,5.0,4.0,5.0,11.0,7.0,5.0,7.0,5.0,5.0,5.0,5.0,5.0,5.0,5.0,5.0,5.0,5.0,5.0,5.0,5.0,5.0,5.0,5.0,5.0,7.0,5.0,5.0,5.0,5.0,5.0,5.0,5.0,5.0,5.0,5.0,5.0,7.0,5.0,5.0,2.0,3.0,2.0,2.0,2.0,2.0,2.0,7.0,5.0,5.0,7.0,7.0,5.0,5.0,5.0,5.0,7.0,5.0,5.0,5.0,5.0,5.0,5.0,5.0,5.0,5.0,5.0,5.0,5.0,5.0,5.0,5.0,5.0,5.0,5.0,5.0,5.0,5.0,5.0,5.0,5.0,5.0,5.0,5.0,5.0,5.0,5.0,5.0,5.0,5.0,5.0,5.0,5.0,5.0,5.0,5.0,5.0,5.0,5.0,5.0,7.0,7.0,5.0,5.0,5.0,2.0,7.0,5.0,5.0,5.0,5.0,7.0,5.0,5.0,5.0,7.0,5.0,5.0,5.0,7.0,5.0,5.0,5.0,5.0,5.0,7.0,5.0,5.0,7.0,6.0,5.0,5.0,5.0,5.0,5.0,5.0,5.0,5.0,5.0,7.0,7.0,5.0,5.0,5.0,7.0,5.0,5.0,5.0,2.0,5.0,5.0,5.0,5.0,5.0,5.0,5.0,5.0,5.0,5.0,5.0,5.0,7.0,5.0,5.0,5.0,5.0,7.0,7.0,5.0,5.0,5.0,5.0,5.0,7.0,5.0,5.0,5.0,5.0,5.0,5.0,5.0,7.0,7.0,5.0,5.0,5.0,5.0,5.0,3.0,5.0,5.0,5.0,5.0,5.0,5.0,7.0,7.0,5.0,5.0,7.0,5.0,5.0,5.0,5.0,5.0,5.0,5.0,5.0,5.0,15.0,5.0,7.0,5.0,2.0,7.0,7.0,5.0,5.0,5.0,5.0,5.0,14.0,5.0,5.0,5.0,5.0,5.0,5.0,5.0,3.0,5.0,7.0,5.0,5.0,5.0,5.0,5.0,5.0,5.0,5.0,7.0,5.0,5.0,5.0,5.0,7.0,5.0,7.0,5.0,5.0,5.0,7.0,5.0,5.0,5.0,7.0,7.0,7.0,5.0,5.0,5.0,8.0,7.0,5.0,5.0,5.0,5.0,5.0,5.0,5.0,5.0,5.0,7.0,5.0,7.0,5.0,5.0,7.0,5.0,7.0,5.0,5.0,5.0,7.0,5.0,5.0,5.0,7.0,7.0,10.0,5.0,5.0,7.0,5.0,5.0,5.0,5.0,5.0,5.0,5.0,5.0,5.0,7.0,5.0,5.0,5.0,5.0,5.0,5.0,5.0,5.0,5.0,5.0,5.0,5.0,5.0,7.0,2.0,5.0,5.0,5.0,5.0,5.0,7.0,5.0,2.0,2.0,2.0,5.0,5.0,5.0,5.0,5.0,5.0,5.0,5.0,5.0,5.0,5.0,7.0,7.0,5.0,7.0,5.0,5.0,5.0,5.0,2.0,5.0,5.0,7.0,5.0,5.0,5.0,3.0,5.0,5.0,5.0,5.0,5.0,5.0,5.0,7.0,7.0,7.0,5.0,5.0,5.0,5.0,5.0,5.0,5.0,5.0,5.0,5.0,5.0,5.0,5.0,2.0,5.0,5.0,7.0,7.0,7.0,5.0,5.0,5.0,2.0,2.0,2.0,3.0,2.0,2.0,5.0,5.0,7.0,5.0,5.0,2.0,5.0,5.0,5.0,5.0,7.0,5.0,5.0,5.0,5.0,5.0,5.0,5.0,5.0,5.0,5.0,5.0,7.0,5.0,5.0,5.0,7.0,5.0,5.0,5.0,5.0,5.0,5.0,5.0,5.0,5.0,5.0,6.0,2.0,5.0,5.0,7.0,5.0,7.0,5.0,5.0,5.0,5.0,5.0,5.0,5.0,5.0,5.0,5.0,7.0,7.0,5.0,5.0,5.0,7.0,5.0,7.0,5.0,5.0,7.0,7.0,7.0,5.0,5.0,5.0,5.0,2.0,5.0,5.0,5.0,5.0,7.0,5.0,7.0,5.0,5.0,5.0,7.0,5.0,5.0,5.0,5.0,5.0,5.0,5.0,5.0,5.0,5.0,5.0,5.0,5.0,5.0,5.0,5.0,7.0,7.0,5.0,7.0,5.0,5.0,5.0,5.0,5.0,5.0,5.0,5.0,5.0,7.0,5.0,5.0,5.0,5.0,2.0,5.0,5.0,5.0,7.0,5.0,2.0,3.0,5.0,5.0,7.0,2.0,5.0,5.0,5.0,5.0,7.0,5.0,7.0,5.0,5.0,5.0,5.0,5.0,5.0,5.0,5.0,5.0,5.0,5.0,5.0,5.0,5.0,5.0,5.0,5.0,5.0,2.0,3.0,2.0,10.0,2.0,5.0,10.0,5.0,5.0,5.0,5.0,5.0,5.0,5.0,5.0,5.0,7.0,5.0,5.0,5.0,5.0,5.0,5.0,5.0,10.0,2.0,2.0,2.0,5.0,7.0,5.0,5.0,2.0,5.0,7.0,5.0,7.0,5.0,7.0,5.0,5.0,5.0,5.0,2.0,5.0,5.0,5.0,7.0,5.0,5.0,5.0,5.0,5.0,5.0,5.0,5.0,5.0,5.0,5.0,5.0,2.0,5.0,5.0,5.0,7.0,5.0,5.0,5.0,5.0,7.0,5.0,7.0,7.0,5.0,7.0,5.0,5.0,7.0,5.0,5.0,5.0,5.0,5.0,5.0,5.0,7.0,5.0,5.0,5.0,5.0,5.0,5.0,2.0,5.0,5.0,7.0,5.0,5.0,2.0,7.0,5.0,5.0,2.0,2.0,5.0,5.0,5.0,5.0,7.0,5.0,5.0,7.0,5.0,7.0,7.0,5.0,5.0,5.0,5.0,5.0,7.0,5.0,7.0,5.0,5.0,7.0,5.0,5.0,5.0,5.0,2.0,5.0,5.0,7.0,5.0,5.0,5.0,5.0,5.0,5.0,5.0,5.0,5.0,2.0,5.0,7.0,5.0,7.0,5.0,5.0,5.0,7.0,5.0,7.0,5.0,5.0,7.0,5.0,5.0,5.0,5.0,5.0,5.0,5.0,7.0,5.0,5.0,5.0,7.0,7.0,2.0,7.0,3.0,3.0,5.0,5.0,5.0,5.0,3.0,3.0,5.0,5.0,5.0,3.0,2.0,7.0,5.0,5.0,5.0,5.0,5.0,5.0,5.0,5.0,5.0,5.0,5.0,5.0,5.0,5.0,5.0,5.0,5.0,5.0,6.0,5.0,5.0,5.0,5.0,7.0,7.0,5.0,5.0,5.0,7.0,5.0,5.0,5.0,5.0,5.0,5.0,5.0,5.0,5.0,5.0,5.0,7.0,7.0,7.0,5.0,7.0,5.0,5.0,7.0,5.0,5.0,7.0,2.0,5.0,5.0,5.0,5.0,5.0,5.0,5.0,7.0,5.0,5.0,5.0,5.0,5.0,2.0,5.0,5.0,5.0,7.0,5.0,7.0,5.0,5.0,5.0,5.0,5.0,5.0,7.0,5.0,2.0,3.0,10.0,5.0,5.0,5.0,5.0,5.0,7.0,2.0,2.0,5.0,5.0,5.0,8.0,5.0,5.0,5.0,5.0,7.0,7.0,5.0,5.0,5.0,5.0,5.0,5.0,7.0,5.0,7.0,5.0,5.0,5.0,7.0,5.0,7.0,7.0,5.0,5.0,7.0,7.0,4.0,2.0,5.0,5.0,5.0,5.0,7.0,5.0,5.0,5.0,5.0,5.0,7.0,5.0,5.0,5.0,5.0,5.0,5.0,5.0,5.0,5.0,5.0,5.0,5.0,5.0,7.0,7.0,5.0,5.0,2.0,2.0,2.0,2.0,5.0,5.0,2.0,2.0,2.0,3.0,7.0,5.0,2.0,3.0,5.0,2.0,2.0,2.0,2.0,2.0,5.0,7.0,5.0,5.0,5.0,11.0,5.0,5.0,5.0,7.0,7.0,5.0,5.0,5.0,2.0,2.0,5.0,5.0,5.0,7.0,7.0,5.0,5.0,5.0,5.0,5.0,5.0,2.0,5.0,5.0,5.0,5.0,5.0,5.0,14.0,2.0,10.0,5.0,5.0,5.0,7.0,5.0,5.0,7.0,7.0,7.0,5.0,5.0,5.0,5.0,5.0,5.0,5.0,5.0,5.0,5.0,5.0,5.0,5.0,5.0,5.0,5.0,5.0,5.0,10.0,5.0,11.0,5.0,7.0,5.0,5.0,5.0,5.0,5.0,5.0,5.0,5.0,5.0,5.0,5.0,5.0,2.0,5.0,2.0,2.0,5.0,5.0,5.0,5.0,5.0,7.0,5.0,5.0,2.0,14.0,5.0,5.0,5.0,5.0,5.0,5.0,5.0,5.0,5.0,5.0,5.0,5.0,7.0,5.0,5.0,5.0,5.0,5.0,5.0,5.0,5.0,5.0,5.0,7.0,5.0,5.0,5.0,5.0,5.0,5.0,5.0,3.0,5.0,2.0,5.0,5.0,5.0,5.0,5.0,5.0,5.0,5.0,5.0,5.0,5.0,5.0,5.0,5.0,7.0,7.0,5.0,2.0,2.0,5.0,5.0,5.0,5.0,5.0,5.0,5.0,5.0,7.0,7.0,7.0,2.0,5.0,5.0,5.0,5.0,5.0,5.0,5.0,2.0,2.0,2.0,5.0,5.0,5.0,2.0,5.0,2.0,3.0,3.0,5.0,5.0,5.0,5.0,5.0,5.0,5.0,5.0,5.0,5.0,5.0,5.0,5.0,5.0,5.0,5.0,5.0,5.0,5.0,5.0,5.0,5.0,5.0,2.0,5.0,5.0,5.0,5.0,5.0,2.0,2.0,7.0,5.0,5.0,7.0,5.0,2.0,5.0,7.0,5.0,5.0,5.0,5.0,5.0,5.0,5.0,2.0,3.0,5.0,5.0,5.0,5.0,3.0,5.0,5.0,7.0,5.0,5.0,5.0,5.0,5.0,5.0,5.0,5.0,5.0,5.0,5.0,5.0,5.0,5.0,5.0,5.0,5.0,7.0,5.0,5.0,5.0,5.0,5.0,5.0,5.0,5.0,7.0,5.0,5.0,5.0,5.0,5.0,5.0,5.0,5.0,7.0,5.0,5.0,5.0,5.0,5.0,5.0,5.0,5.0,5.0,5.0,5.0,5.0,5.0,7.0,2.0,15.0,28.0,5.0,5.0,5.0,5.0,5.0,5.0,5.0,5.0,5.0,5.0,5.0,5.0,7.0,5.0,5.0,5.0,5.0,5.0,5.0,5.0,5.0,5.0,5.0,5.0,7.0,5.0,5.0,5.0,5.0,5.0,7.0,7.0,5.0,5.0,5.0,5.0,5.0,5.0,11.0,5.0,5.0,5.0,5.0,7.0,7.0,5.0,5.0,5.0,5.0,5.0,5.0,5.0,5.0,5.0,7.0,5.0,5.0,5.0,5.0,5.0,5.0,5.0,5.0,5.0,5.0,5.0,5.0,5.0,5.0,5.0,5.0,5.0,5.0,5.0,5.0,5.0,5.0,5.0,5.0,5.0,5.0,5.0,5.0,5.0,5.0,2.0,5.0,2.0,2.0,5.0,5.0,5.0,5.0,2.0,5.0,5.0,5.0,5.0,5.0,5.0,5.0,5.0,5.0,5.0,5.0,5.0,5.0,5.0,5.0,5.0,5.0,5.0,5.0,5.0,5.0,5.0,5.0,5.0,5.0,5.0,5.0,5.0,5.0,5.0,5.0,7.0,5.0,5.0,5.0,5.0,5.0,5.0,5.0,5.0,5.0,5.0,5.0,5.0,7.0,5.0,5.0,5.0,5.0,5.0,7.0,5.0,5.0,5.0,5.0,5.0,5.0,5.0,5.0,5.0,5.0,5.0,5.0,5.0,5.0,7.0,5.0,5.0,5.0,5.0,5.0,5.0,5.0,5.0,5.0,5.0,5.0,5.0,5.0,5.0,5.0,5.0,5.0,5.0,7.0,5.0,5.0,5.0,5.0,5.0,5.0,5.0,5.0,5.0,5.0,5.0,5.0,5.0,5.0,5.0,5.0,5.0,5.0,5.0,5.0,5.0,5.0,6.0,5.0,5.0,5.0,5.0,5.0,5.0,5.0,11.0,11.0,11.0,5.0,7.0,7.0,5.0,5.0,5.0,5.0,5.0,5.0,5.0,5.0,5.0,5.0,5.0,5.0,5.0,5.0,5.0,5.0,5.0,5.0,5.0,5.0,5.0,5.0,5.0,5.0,5.0,11.0,7.0,5.0,5.0,2.0,2.0,5.0,5.0,5.0,5.0,5.0,5.0,5.0,5.0,5.0,5.0,5.0,5.0,5.0,5.0,11.0,7.0,5.0,7.0,5.0,5.0,5.0,5.0,5.0,5.0,2.0,2.0,2.0,2.0,2.0,5.0,5.0,5.0,7.0,5.0,8.0,7.0,5.0,5.0,5.0,5.0,5.0,5.0,5.0,2.0,2.0,5.0,2.0,2.0,2.0,2.0,2.0,2.0,2.0,2.0,5.0,5.0,2.0,2.0,2.0,2.0,7.0,5.0,5.0,5.0,5.0,5.0,5.0,5.0,5.0,5.0,5.0,5.0,5.0,5.0,5.0,5.0,5.0,5.0,5.0,5.0,5.0,8.0,5.0,2.0,5.0,5.0,5.0,3.0,5.0,5.0,5.0,5.0,5.0,7.0,5.0,5.0,5.0,7.0,5.0,5.0,5.0,5.0,5.0,5.0,5.0,7.0,5.0,5.0,5.0,5.0,5.0,5.0,7.0,5.0,7.0,5.0,7.0,7.0,7.0,5.0,5.0,8.0,5.0,5.0,5.0,5.0,5.0,5.0,5.0,5.0,5.0,5.0,4.0,5.0,5.0,5.0,5.0,5.0,5.0,7.0,7.0,7.0,7.0,2.0,5.0,5.0,5.0,2.0,2.0,2.0,2.0,2.0,2.0,5.0,2.0,2.0,2.0,2.0,5.0,5.0,5.0,5.0,5.0,5.0,5.0,5.0,5.0,5.0,5.0,5.0,5.0,2.0,5.0,5.0,5.0,5.0,5.0,5.0,5.0,5.0,5.0,5.0,6.0,5.0,5.0,5.0,7.0,5.0,5.0,5.0,5.0,5.0,5.0,5.0,5.0,5.0,5.0,2.0,5.0,5.0,5.0,5.0,5.0,7.0,7.0,7.0,7.0,7.0,7.0,7.0,7.0,5.0,5.0,5.0,5.0,5.0,7.0,5.0,5.0,5.0,5.0,5.0,5.0,6.0,5.0,5.0,5.0,5.0,5.0,5.0,5.0,5.0,5.0,7.0,14.0,7.0,5.0,5.0,2.0,7.0,5.0,5.0,5.0,5.0,5.0,5.0,5.0,5.0,5.0,5.0,5.0,5.0,5.0,5.0,5.0,5.0,7.0,7.0,5.0,5.0,5.0,5.0,5.0,5.0,5.0,5.0,5.0,5.0,5.0,5.0,5.0,5.0,5.0,5.0,5.0,5.0,5.0,5.0,5.0,5.0,5.0,5.0,5.0,5.0,6.0,5.0,5.0,5.0,5.0,5.0,5.0,5.0,5.0,5.0,5.0,5.0,5.0,5.0,7.0,5.0,6.0,5.0,7.0,5.0,5.0,11.0,5.0,5.0,7.0,5.0,7.0,7.0,7.0,5.0,5.0,5.0,5.0,5.0,5.0,5.0,5.0,5.0,7.0,5.0,5.0,5.0,5.0,5.0,5.0,5.0,5.0,5.0,5.0,8.0,5.0,5.0,5.0,5.0,5.0,5.0,5.0,5.0,5.0,5.0,7.0,2.0,6.0,2.0,2.0,5.0,5.0,5.0,5.0,5.0,5.0,5.0,5.0,5.0,7.0,5.0,5.0,5.0,5.0,5.0,5.0,5.0,5.0,5.0,5.0,5.0,5.0,5.0,5.0,5.0,5.0,7.0,5.0,5.0,7.0,5.0,5.0,5.0,5.0,5.0,5.0,5.0,5.0,5.0,5.0,5.0,5.0,7.0,7.0,5.0,7.0,7.0,7.0,5.0,5.0,5.0,5.0,5.0,5.0,5.0,2.0,5.0,5.0,5.0,5.0,5.0,5.0,5.0,5.0,5.0,5.0,5.0,5.0,5.0,5.0,5.0,5.0,5.0,5.0,5.0,2.0,5.0,5.0,5.0,5.0,5.0,7.0,7.0,5.0,2.0,5.0,7.0,5.0,5.0,5.0,7.0,5.0,7.0,5.0,5.0,5.0,5.0,7.0,5.0,4.0,7.0,7.0,7.0,5.0,4.0,5.0,5.0,5.0,2.0,5.0,5.0,10.0,7.0,7.0,5.0,7.0,7.0,7.0,7.0,5.0,2.0,2.0,5.0,5.0,3.0,7.0,7.0,7.0,5.0,7.0,7.0,5.0,10.0,5.0,5.0,7.0,7.0,2.0,7.0,2.0,2.0,5.0,5.0,5.0,5.0,2.0,5.0,5.0,5.0,3.0,3.0,2.0,2.0,5.0,7.0,5.0,5.0,5.0,5.0,7.0,7.0,5.0,5.0,7.0,7.0,5.0,7.0,2.0,7.0,5.0,5.0,5.0,5.0,5.0,5.0,5.0,5.0,5.0,5.0,5.0,5.0,5.0,5.0,5.0,7.0,7.0,7.0,5.0,5.0,5.0,5.0,5.0,5.0,5.0,5.0,5.0,5.0,5.0,7.0,2.0,5.0,5.0,7.0,7.0,7.0,7.0,10.0,5.0,5.0,5.0,2.0,5.0,5.0,7.0,5.0,5.0,5.0,7.0,5.0,7.0,2.0,5.0,5.0,7.0,7.0,7.0,5.0,5.0,5.0,5.0,5.0,5.0,2.0,5.0,5.0,5.0,5.0,5.0,5.0,7.0,5.0,7.0,5.0,5.0,5.0,5.0,5.0,7.0,5.0,3.0,3.0,3.0,3.0,5.0,3.0,3.0,3.0,3.0,3.0,3.0,3.0,5.0,5.0,7.0,5.0,5.0,5.0,7.0,14.0,5.0,5.0,5.0,5.0,5.0,5.0,7.0,2.0,5.0,5.0,5.0,7.0,5.0,5.0,5.0,7.0,5.0,5.0,5.0,5.0,5.0,5.0,5.0,2.0,5.0,5.0,5.0,5.0,5.0,5.0,5.0,5.0,5.0,5.0,5.0,7.0,5.0,5.0,5.0,5.0,5.0,5.0,5.0,5.0,5.0,5.0,5.0,5.0,5.0,5.0,5.0,2.0,2.0,5.0,2.0,5.0,5.0,5.0,5.0,2.0,5.0,5.0,5.0,7.0,5.0,5.0,5.0,5.0,5.0,5.0,5.0,5.0,5.0,5.0,5.0,11.0,5.0,7.0,15.0,5.0,5.0,5.0,5.0,5.0,5.0,2.0,5.0,4.0,5.0,5.0,5.0,10.0,5.0,7.0,7.0,5.0,5.0,5.0,2.0,5.0,7.0,5.0,5.0,5.0,5.0,5.0,5.0,5.0,5.0,5.0,5.0,5.0,5.0,5.0,5.0,7.0,5.0,5.0,5.0,11.0,5.0,5.0,5.0,5.0,7.0,5.0,5.0,5.0,5.0,5.0,5.0,5.0,5.0,5.0,5.0,7.0,5.0,7.0,5.0,2.0,7.0,5.0,5.0,7.0,2.0,5.0,7.0,5.0,7.0,5.0,8.0,5.0,5.0,5.0,5.0,8.0,5.0,5.0,5.0,7.0,5.0,5.0,5.0,5.0,7.0,5.0,5.0,5.0,7.0,5.0,5.0,5.0,5.0,5.0,5.0,7.0,5.0,5.0,5.0,7.0,7.0,5.0,5.0,5.0,5.0,5.0,5.0,7.0,5.0,7.0,5.0,5.0,5.0,5.0,7.0,2.0,5.0,2.0,2.0,7.0,5.0,5.0,5.0,5.0,5.0,5.0,5.0,5.0,2.0,5.0,5.0,5.0,5.0,5.0,5.0,5.0,2.0,5.0,5.0,5.0,5.0,3.0,5.0,5.0,5.0,5.0,5.0,5.0,5.0,5.0,5.0,5.0,5.0,5.0,5.0,5.0,5.0,5.0,5.0,10.0,2.0,7.0,7.0,5.0,10.0,7.0,5.0,7.0,7.0,5.0,5.0,11.0,5.0,5.0,5.0,5.0,5.0,5.0,5.0,7.0,7.0,5.0,5.0,5.0,5.0,5.0,7.0,5.0,7.0,5.0,5.0,5.0,14.0,5.0,2.0,2.0,5.0,5.0,7.0,5.0,7.0,5.0,5.0,5.0,5.0,5.0,5.0,5.0,5.0,5.0,5.0,7.0,11.0,3.0,3.0,2.0,2.0,3.0,3.0,2.0,7.0,7.0,5.0,7.0,7.0,14.0,5.0,5.0,4.0,5.0,7.0,7.0,7.0,7.0,5.0,2.0,5.0,7.0,5.0,5.0,5.0,5.0,5.0,5.0,5.0,5.0,5.0,5.0,5.0,5.0,7.0,5.0,5.0,5.0,5.0,5.0,5.0,5.0,5.0,5.0,5.0,7.0,5.0,7.0,5.0,5.0,5.0,5.0,5.0,5.0,5.0,5.0,5.0,5.0,5.0,7.0,11.0,5.0,5.0,7.0,5.0,5.0,5.0,5.0,5.0,5.0,5.0,2.0,7.0,7.0,7.0,5.0,5.0,5.0,5.0,5.0,7.0,5.0,2.0,2.0,11.0,5.0,5.0,5.0,5.0,5.0,5.0,5.0,5.0,5.0,5.0,5.0,7.0,5.0,5.0,10.0,5.0,5.0,5.0,5.0,5.0,5.0,5.0,5.0,5.0,5.0,7.0,5.0,5.0,7.0,7.0,5.0,7.0,5.0,5.0,5.0,5.0,5.0,5.0,5.0,5.0,5.0,5.0,5.0,5.0,2.0,5.0,5.0,5.0,5.0,5.0,5.0,7.0,7.0,7.0,5.0,5.0,5.0,5.0,5.0,11.0,5.0,5.0,5.0,5.0,5.0,10.0,7.0,7.0,5.0,5.0,5.0,5.0,5.0,5.0,5.0,10.0,5.0,5.0,5.0,5.0,5.0,5.0,2.0,3.0,7.0,7.0,5.0,5.0,7.0,5.0,5.0,5.0,5.0,5.0,3.0,2.0,5.0,5.0,5.0,5.0,5.0,5.0,10.0,10.0,5.0,5.0,5.0,5.0,10.0,5.0,5.0,2.0,7.0,5.0,5.0,5.0,5.0,7.0,5.0,5.0,5.0,10.0,5.0,7.0,7.0,7.0,7.0,5.0,5.0,5.0,5.0,5.0,5.0,5.0,5.0,5.0,7.0,5.0,5.0,5.0,5.0,7.0,5.0,5.0,7.0,5.0,5.0,5.0,5.0,5.0,5.0,5.0,5.0,5.0,7.0,5.0,5.0,5.0,7.0,5.0,5.0,7.0,7.0,5.0,5.0,5.0,5.0,5.0,7.0,5.0,7.0,7.0,5.0,5.0,5.0,7.0,5.0,5.0,5.0,5.0,5.0,5.0,5.0,7.0,5.0,5.0,5.0,5.0,5.0,5.0,5.0,2.0,5.0,7.0,5.0,5.0,11.0,5.0,7.0,7.0,5.0,5.0,7.0,5.0,5.0,5.0,5.0,5.0,5.0,5.0,5.0,5.0,5.0,2.0,5.0,5.0,5.0,5.0,7.0,5.0,5.0,7.0,7.0,5.0,5.0,7.0,5.0,5.0,7.0,7.0,5.0,5.0,5.0,5.0,5.0,7.0,5.0,5.0,5.0,5.0,5.0,7.0,2.0,5.0,5.0,5.0,5.0,5.0,5.0,5.0,5.0,2.0,2.0,2.0,5.0,7.0,5.0,5.0,5.0,5.0,5.0,5.0,5.0,5.0,5.0,5.0,5.0,5.0,7.0,5.0,7.0,5.0,5.0,5.0,5.0,5.0,2.0,5.0,5.0,5.0,7.0,5.0,7.0,5.0,5.0,5.0,5.0,7.0,5.0,5.0,2.0,3.0,5.0,5.0,5.0,5.0,5.0,5.0,7.0,5.0,5.0,5.0,7.0,5.0,5.0,5.0,5.0,5.0,5.0,5.0,5.0,5.0,5.0,14.0,7.0,2.0,5.0,5.0,5.0,5.0,5.0,5.0,11.0,2.0,7.0,6.0,5.0,5.0,5.0,5.0,5.0,7.0,7.0,5.0,5.0,7.0,5.0,5.0,7.0,6.0,7.0,5.0,5.0,5.0,5.0,5.0,7.0,5.0,7.0,5.0,2.0,5.0,7.0,5.0,7.0,7.0,5.0,5.0,5.0,5.0,5.0,5.0,5.0,7.0,7.0,5.0,10.0,5.0,5.0,7.0,7.0,5.0,7.0,5.0,5.0,7.0,7.0,5.0,7.0,5.0,7.0,5.0,5.0,7.0,5.0,7.0,5.0,5.0,5.0,5.0,5.0,7.0,7.0,5.0,5.0,5.0,5.0,7.0,5.0,5.0,7.0,5.0,5.0,5.0,5.0,5.0,10.0,12.0,5.0,2.0,5.0,11.0,6.0,5.0,5.0,5.0,7.0,2.0,3.0,5.0,5.0,5.0,6.0,5.0,5.0,5.0,5.0,7.0,5.0,5.0,7.0,7.0,5.0,5.0,5.0,5.0,7.0,2.0,3.0,11.0,3.0,5.0,7.0,5.0,7.0,5.0,5.0,6.0,5.0,5.0,5.0,7.0,7.0,5.0,5.0,5.0,5.0,5.0,7.0,5.0,5.0,5.0,5.0,5.0,5.0,10.0,5.0,5.0,5.0,7.0,7.0,5.0,5.0,5.0,5.0,5.0,5.0,5.0,5.0,5.0,5.0,7.0,5.0,7.0,5.0,5.0,2.0,5.0,5.0,5.0,5.0,7.0,5.0,5.0,5.0,5.0,5.0,5.0,5.0,5.0,7.0,5.0,5.0,5.0,2.0,2.0,7.0,5.0,7.0,5.0,5.0,5.0,5.0,7.0,5.0,2.0,7.0,10.0,5.0,5.0,7.0,5.0,2.0,7.0,5.0,5.0,3.0,10.0,5.0,5.0,5.0,11.0,7.0,7.0,7.0,5.0,2.0,2.0,3.0,5.0,3.0,5.0,5.0,7.0,5.0,7.0,5.0,5.0,6.0,5.0,5.0,5.0,5.0,5.0,5.0,7.0,7.0,2.0,5.0,5.0,5.0,7.0,5.0,5.0,5.0,5.0,7.0,5.0,5.0,5.0,5.0,5.0,5.0,5.0,2.0,5.0,5.0,5.0,5.0,5.0,7.0,5.0,7.0,7.0,7.0,5.0,5.0,5.0,7.0,14.0,7.0,5.0,5.0,5.0,7.0,5.0,5.0,7.0,5.0,14.0,5.0,5.0,5.0,5.0,5.0,5.0,5.0,7.0,7.0,7.0,5.0,5.0,7.0,5.0,5.0,5.0,5.0,5.0,5.0,5.0,5.0,5.0,5.0,2.0,5.0,5.0,5.0,7.0,5.0,7.0,3.0,10.0,5.0,3.0,7.0,5.0,5.0,5.0,2.0,18.0,2.0,5.0,7.0,2.0,2.0,3.0,7.0,4.0,2.0,10.0,5.0,5.0,7.0,5.0,5.0,5.0,2.0,5.0,5.0,5.0,5.0,5.0,2.0,3.0,10.0,5.0,7.0,5.0,5.0,5.0,5.0,5.0,5.0,5.0,5.0,5.0,5.0,5.0,2.0,5.0,5.0,5.0,5.0,5.0,5.0,5.0,5.0,5.0,5.0,5.0,5.0,5.0,2.0,2.0,2.0,2.0,10.0,2.0,12.0,3.0,2.0,2.0,2.0,2.0,2.0,2.0,15.0,2.0,15.0,2.0,20.0,20.0,2.0,2.0,2.0,3.0,5.0,2.0,5.0,5.0,5.0,7.0,5.0,5.0,5.0,5.0,7.0,5.0,11.0,7.0,5.0,5.0,5.0,7.0,5.0,5.0,5.0,5.0,5.0,5.0,8.0,2.0,5.0,2.0,5.0,5.0,5.0,5.0,5.0,11.0,5.0,3.0,2.0,5.0,11.0,6.0,5.0,5.0,5.0,5.0,5.0,5.0,5.0,5.0,5.0,5.0,5.0,5.0,7.0,5.0,5.0,5.0,7.0,7.0,7.0,5.0,5.0,5.0,5.0,5.0,7.0,5.0,7.0,5.0,5.0,5.0,5.0,5.0,5.0,7.0,7.0,7.0,5.0,5.0,5.0,5.0,5.0,5.0,5.0,5.0,5.0,7.0,5.0,5.0,2.0,5.0,5.0,5.0,5.0,3.0,5.0,5.0,5.0,5.0,5.0,5.0,5.0,5.0,7.0,5.0,5.0,5.0,5.0,5.0,5.0,5.0,5.0,7.0,5.0,7.0,7.0,5.0,5.0,5.0,3.0,5.0,7.0,5.0,5.0,7.0,7.0,5.0,3.0,5.0,5.0,5.0,5.0,5.0,5.0,5.0,5.0,5.0,2.0,5.0,5.0,5.0,5.0,5.0,5.0,7.0,5.0,5.0,5.0,5.0,5.0,5.0,5.0,5.0,7.0,5.0,7.0,5.0,5.0,5.0,6.0,5.0,7.0,5.0,11.0,7.0,10.0,10.0,2.0,2.0,3.0,7.0,3.0,10.0,14.0,2.0,5.0,3.0,2.0,2.0,10.0,12.0,3.0,10.0,10.0,3.0,2.0,10.0,18.0,10.0,10.0,2.0,3.0,10.0,14.0,2.0,2.0,3.0,2.0,2.0,12.0,16.0,2.0,18.0,18.0,2.0,2.0,16.0,10.0,18.0,18.0,5.0,5.0,5.0,5.0,5.0,7.0,5.0,2.0,5.0,5.0,5.0,7.0,3.0,2.0,7.0,5.0,5.0,5.0,5.0,5.0,5.0,7.0,5.0,5.0,5.0,2.0,2.0,11.0,5.0,5.0,5.0,3.0,5.0,5.0,5.0,5.0,5.0,5.0,5.0,5.0,5.0,7.0,5.0,5.0,5.0,2.0,7.0,7.0,2.0,5.0,5.0,3.0,7.0,5.0,11.0,5.0,5.0,5.0,2.0,5.0,5.0,5.0,5.0,2.0,5.0,5.0,2.0,5.0,7.0,5.0,5.0,5.0,7.0,7.0,7.0,5.0,5.0,5.0,2.0,7.0,2.0,5.0,7.0,5.0,5.0,5.0,5.0,5.0,5.0,5.0,5.0,5.0,7.0,5.0,5.0,5.0,5.0,5.0,5.0,7.0,5.0,5.0,7.0,11.0,5.0,7.0,10.0,2.0,5.0,5.0,5.0,7.0,5.0,5.0,5.0,5.0,2.0,5.0,2.0,5.0,5.0,5.0,5.0,5.0,5.0,5.0,6.0,6.0,7.0,14.0,10.0,5.0],\"type\":\"scatter\"}],                        {\"template\":{\"data\":{\"bar\":[{\"error_x\":{\"color\":\"#2a3f5f\"},\"error_y\":{\"color\":\"#2a3f5f\"},\"marker\":{\"line\":{\"color\":\"#E5ECF6\",\"width\":0.5},\"pattern\":{\"fillmode\":\"overlay\",\"size\":10,\"solidity\":0.2}},\"type\":\"bar\"}],\"barpolar\":[{\"marker\":{\"line\":{\"color\":\"#E5ECF6\",\"width\":0.5},\"pattern\":{\"fillmode\":\"overlay\",\"size\":10,\"solidity\":0.2}},\"type\":\"barpolar\"}],\"carpet\":[{\"aaxis\":{\"endlinecolor\":\"#2a3f5f\",\"gridcolor\":\"white\",\"linecolor\":\"white\",\"minorgridcolor\":\"white\",\"startlinecolor\":\"#2a3f5f\"},\"baxis\":{\"endlinecolor\":\"#2a3f5f\",\"gridcolor\":\"white\",\"linecolor\":\"white\",\"minorgridcolor\":\"white\",\"startlinecolor\":\"#2a3f5f\"},\"type\":\"carpet\"}],\"choropleth\":[{\"colorbar\":{\"outlinewidth\":0,\"ticks\":\"\"},\"type\":\"choropleth\"}],\"contour\":[{\"colorbar\":{\"outlinewidth\":0,\"ticks\":\"\"},\"colorscale\":[[0.0,\"#0d0887\"],[0.1111111111111111,\"#46039f\"],[0.2222222222222222,\"#7201a8\"],[0.3333333333333333,\"#9c179e\"],[0.4444444444444444,\"#bd3786\"],[0.5555555555555556,\"#d8576b\"],[0.6666666666666666,\"#ed7953\"],[0.7777777777777778,\"#fb9f3a\"],[0.8888888888888888,\"#fdca26\"],[1.0,\"#f0f921\"]],\"type\":\"contour\"}],\"contourcarpet\":[{\"colorbar\":{\"outlinewidth\":0,\"ticks\":\"\"},\"type\":\"contourcarpet\"}],\"heatmap\":[{\"colorbar\":{\"outlinewidth\":0,\"ticks\":\"\"},\"colorscale\":[[0.0,\"#0d0887\"],[0.1111111111111111,\"#46039f\"],[0.2222222222222222,\"#7201a8\"],[0.3333333333333333,\"#9c179e\"],[0.4444444444444444,\"#bd3786\"],[0.5555555555555556,\"#d8576b\"],[0.6666666666666666,\"#ed7953\"],[0.7777777777777778,\"#fb9f3a\"],[0.8888888888888888,\"#fdca26\"],[1.0,\"#f0f921\"]],\"type\":\"heatmap\"}],\"heatmapgl\":[{\"colorbar\":{\"outlinewidth\":0,\"ticks\":\"\"},\"colorscale\":[[0.0,\"#0d0887\"],[0.1111111111111111,\"#46039f\"],[0.2222222222222222,\"#7201a8\"],[0.3333333333333333,\"#9c179e\"],[0.4444444444444444,\"#bd3786\"],[0.5555555555555556,\"#d8576b\"],[0.6666666666666666,\"#ed7953\"],[0.7777777777777778,\"#fb9f3a\"],[0.8888888888888888,\"#fdca26\"],[1.0,\"#f0f921\"]],\"type\":\"heatmapgl\"}],\"histogram\":[{\"marker\":{\"pattern\":{\"fillmode\":\"overlay\",\"size\":10,\"solidity\":0.2}},\"type\":\"histogram\"}],\"histogram2d\":[{\"colorbar\":{\"outlinewidth\":0,\"ticks\":\"\"},\"colorscale\":[[0.0,\"#0d0887\"],[0.1111111111111111,\"#46039f\"],[0.2222222222222222,\"#7201a8\"],[0.3333333333333333,\"#9c179e\"],[0.4444444444444444,\"#bd3786\"],[0.5555555555555556,\"#d8576b\"],[0.6666666666666666,\"#ed7953\"],[0.7777777777777778,\"#fb9f3a\"],[0.8888888888888888,\"#fdca26\"],[1.0,\"#f0f921\"]],\"type\":\"histogram2d\"}],\"histogram2dcontour\":[{\"colorbar\":{\"outlinewidth\":0,\"ticks\":\"\"},\"colorscale\":[[0.0,\"#0d0887\"],[0.1111111111111111,\"#46039f\"],[0.2222222222222222,\"#7201a8\"],[0.3333333333333333,\"#9c179e\"],[0.4444444444444444,\"#bd3786\"],[0.5555555555555556,\"#d8576b\"],[0.6666666666666666,\"#ed7953\"],[0.7777777777777778,\"#fb9f3a\"],[0.8888888888888888,\"#fdca26\"],[1.0,\"#f0f921\"]],\"type\":\"histogram2dcontour\"}],\"mesh3d\":[{\"colorbar\":{\"outlinewidth\":0,\"ticks\":\"\"},\"type\":\"mesh3d\"}],\"parcoords\":[{\"line\":{\"colorbar\":{\"outlinewidth\":0,\"ticks\":\"\"}},\"type\":\"parcoords\"}],\"pie\":[{\"automargin\":true,\"type\":\"pie\"}],\"scatter\":[{\"marker\":{\"colorbar\":{\"outlinewidth\":0,\"ticks\":\"\"}},\"type\":\"scatter\"}],\"scatter3d\":[{\"line\":{\"colorbar\":{\"outlinewidth\":0,\"ticks\":\"\"}},\"marker\":{\"colorbar\":{\"outlinewidth\":0,\"ticks\":\"\"}},\"type\":\"scatter3d\"}],\"scattercarpet\":[{\"marker\":{\"colorbar\":{\"outlinewidth\":0,\"ticks\":\"\"}},\"type\":\"scattercarpet\"}],\"scattergeo\":[{\"marker\":{\"colorbar\":{\"outlinewidth\":0,\"ticks\":\"\"}},\"type\":\"scattergeo\"}],\"scattergl\":[{\"marker\":{\"colorbar\":{\"outlinewidth\":0,\"ticks\":\"\"}},\"type\":\"scattergl\"}],\"scattermapbox\":[{\"marker\":{\"colorbar\":{\"outlinewidth\":0,\"ticks\":\"\"}},\"type\":\"scattermapbox\"}],\"scatterpolar\":[{\"marker\":{\"colorbar\":{\"outlinewidth\":0,\"ticks\":\"\"}},\"type\":\"scatterpolar\"}],\"scatterpolargl\":[{\"marker\":{\"colorbar\":{\"outlinewidth\":0,\"ticks\":\"\"}},\"type\":\"scatterpolargl\"}],\"scatterternary\":[{\"marker\":{\"colorbar\":{\"outlinewidth\":0,\"ticks\":\"\"}},\"type\":\"scatterternary\"}],\"surface\":[{\"colorbar\":{\"outlinewidth\":0,\"ticks\":\"\"},\"colorscale\":[[0.0,\"#0d0887\"],[0.1111111111111111,\"#46039f\"],[0.2222222222222222,\"#7201a8\"],[0.3333333333333333,\"#9c179e\"],[0.4444444444444444,\"#bd3786\"],[0.5555555555555556,\"#d8576b\"],[0.6666666666666666,\"#ed7953\"],[0.7777777777777778,\"#fb9f3a\"],[0.8888888888888888,\"#fdca26\"],[1.0,\"#f0f921\"]],\"type\":\"surface\"}],\"table\":[{\"cells\":{\"fill\":{\"color\":\"#EBF0F8\"},\"line\":{\"color\":\"white\"}},\"header\":{\"fill\":{\"color\":\"#C8D4E3\"},\"line\":{\"color\":\"white\"}},\"type\":\"table\"}]},\"layout\":{\"annotationdefaults\":{\"arrowcolor\":\"#2a3f5f\",\"arrowhead\":0,\"arrowwidth\":1},\"autotypenumbers\":\"strict\",\"coloraxis\":{\"colorbar\":{\"outlinewidth\":0,\"ticks\":\"\"}},\"colorscale\":{\"diverging\":[[0,\"#8e0152\"],[0.1,\"#c51b7d\"],[0.2,\"#de77ae\"],[0.3,\"#f1b6da\"],[0.4,\"#fde0ef\"],[0.5,\"#f7f7f7\"],[0.6,\"#e6f5d0\"],[0.7,\"#b8e186\"],[0.8,\"#7fbc41\"],[0.9,\"#4d9221\"],[1,\"#276419\"]],\"sequential\":[[0.0,\"#0d0887\"],[0.1111111111111111,\"#46039f\"],[0.2222222222222222,\"#7201a8\"],[0.3333333333333333,\"#9c179e\"],[0.4444444444444444,\"#bd3786\"],[0.5555555555555556,\"#d8576b\"],[0.6666666666666666,\"#ed7953\"],[0.7777777777777778,\"#fb9f3a\"],[0.8888888888888888,\"#fdca26\"],[1.0,\"#f0f921\"]],\"sequentialminus\":[[0.0,\"#0d0887\"],[0.1111111111111111,\"#46039f\"],[0.2222222222222222,\"#7201a8\"],[0.3333333333333333,\"#9c179e\"],[0.4444444444444444,\"#bd3786\"],[0.5555555555555556,\"#d8576b\"],[0.6666666666666666,\"#ed7953\"],[0.7777777777777778,\"#fb9f3a\"],[0.8888888888888888,\"#fdca26\"],[1.0,\"#f0f921\"]]},\"colorway\":[\"#636efa\",\"#EF553B\",\"#00cc96\",\"#ab63fa\",\"#FFA15A\",\"#19d3f3\",\"#FF6692\",\"#B6E880\",\"#FF97FF\",\"#FECB52\"],\"font\":{\"color\":\"#2a3f5f\"},\"geo\":{\"bgcolor\":\"white\",\"lakecolor\":\"white\",\"landcolor\":\"#E5ECF6\",\"showlakes\":true,\"showland\":true,\"subunitcolor\":\"white\"},\"hoverlabel\":{\"align\":\"left\"},\"hovermode\":\"closest\",\"mapbox\":{\"style\":\"light\"},\"paper_bgcolor\":\"white\",\"plot_bgcolor\":\"#E5ECF6\",\"polar\":{\"angularaxis\":{\"gridcolor\":\"white\",\"linecolor\":\"white\",\"ticks\":\"\"},\"bgcolor\":\"#E5ECF6\",\"radialaxis\":{\"gridcolor\":\"white\",\"linecolor\":\"white\",\"ticks\":\"\"}},\"scene\":{\"xaxis\":{\"backgroundcolor\":\"#E5ECF6\",\"gridcolor\":\"white\",\"gridwidth\":2,\"linecolor\":\"white\",\"showbackground\":true,\"ticks\":\"\",\"zerolinecolor\":\"white\"},\"yaxis\":{\"backgroundcolor\":\"#E5ECF6\",\"gridcolor\":\"white\",\"gridwidth\":2,\"linecolor\":\"white\",\"showbackground\":true,\"ticks\":\"\",\"zerolinecolor\":\"white\"},\"zaxis\":{\"backgroundcolor\":\"#E5ECF6\",\"gridcolor\":\"white\",\"gridwidth\":2,\"linecolor\":\"white\",\"showbackground\":true,\"ticks\":\"\",\"zerolinecolor\":\"white\"}},\"shapedefaults\":{\"line\":{\"color\":\"#2a3f5f\"}},\"ternary\":{\"aaxis\":{\"gridcolor\":\"white\",\"linecolor\":\"white\",\"ticks\":\"\"},\"baxis\":{\"gridcolor\":\"white\",\"linecolor\":\"white\",\"ticks\":\"\"},\"bgcolor\":\"#E5ECF6\",\"caxis\":{\"gridcolor\":\"white\",\"linecolor\":\"white\",\"ticks\":\"\"}},\"title\":{\"x\":0.05},\"xaxis\":{\"automargin\":true,\"gridcolor\":\"white\",\"linecolor\":\"white\",\"ticks\":\"\",\"title\":{\"standoff\":15},\"zerolinecolor\":\"white\",\"zerolinewidth\":2},\"yaxis\":{\"automargin\":true,\"gridcolor\":\"white\",\"linecolor\":\"white\",\"ticks\":\"\",\"title\":{\"standoff\":15},\"zerolinecolor\":\"white\",\"zerolinewidth\":2}}},\"xaxis\":{\"anchor\":\"y\",\"domain\":[0.0,0.45]},\"yaxis\":{\"anchor\":\"x\",\"domain\":[0.0,1.0]},\"xaxis2\":{\"anchor\":\"y2\",\"domain\":[0.55,1.0]},\"yaxis2\":{\"anchor\":\"x2\",\"domain\":[0.0,1.0]},\"title\":{\"text\":\"Vehicle Seat Capacity\"}},                        {\"responsive\": true}                    ).then(function(){\n",
              "                            \n",
              "var gd = document.getElementById('147f214a-f90d-465e-b105-98f2ba20f4c9');\n",
              "var x = new MutationObserver(function (mutations, observer) {{\n",
              "        var display = window.getComputedStyle(gd).display;\n",
              "        if (!display || display === 'none') {{\n",
              "            console.log([gd, 'removed!']);\n",
              "            Plotly.purge(gd);\n",
              "            observer.disconnect();\n",
              "        }}\n",
              "}});\n",
              "\n",
              "// Listen for the removal of the full notebook cells\n",
              "var notebookContainer = gd.closest('#notebook-container');\n",
              "if (notebookContainer) {{\n",
              "    x.observe(notebookContainer, {childList: true});\n",
              "}}\n",
              "\n",
              "// Listen for the clearing of the current output cell\n",
              "var outputEl = gd.closest('.output');\n",
              "if (outputEl) {{\n",
              "    x.observe(outputEl, {childList: true});\n",
              "}}\n",
              "\n",
              "                        })                };                            </script>        </div>\n",
              "</body>\n",
              "</html>"
            ]
          },
          "metadata": {}
        }
      ],
      "source": [
        "fig = sp.make_subplots(rows=1, cols=2, shared_yaxes=False)\n",
        "\n",
        "fig.add_trace(go.Scatter(x=df_carlist02['data_make'],\n",
        "                         y=df_carlist02['seat_capacity'],mode = 'markers'))\n",
        "\n",
        "# fig.add_trace(go.Box(y=df_carlist02['seat_capacity'], \n",
        "#                      name='Seat Capacity', boxpoints='outliers', jitter=0.3, pointpos=-1.8), row=1, col=2)\n",
        "\n",
        "# Update the layout of the subplot\n",
        "fig.update_layout(title='Vehicle Seat Capacity')\n",
        "\n",
        "# Show the subplot\n",
        "fig.show()"
      ]
    },
    {
      "cell_type": "code",
      "execution_count": 74,
      "metadata": {
        "scrolled": true,
        "id": "ywLaVoekzNIo",
        "outputId": "2dec0240-ed25-4dbf-ff22-4767bbb80bb7",
        "colab": {
          "base_uri": "https://localhost:8080/",
          "height": 364
        }
      },
      "outputs": [
        {
          "output_type": "execute_result",
          "data": {
            "text/plain": [
              "         vehicle_id  data_installment  listing_price    data_year  \\\n",
              "count  4.916000e+03       4916.000000    4916.000000  4916.000000   \n",
              "mean   9.854395e+06       1481.186534  114250.107811  2021.987592   \n",
              "std    1.104280e+06        749.281293   57797.752513     0.514736   \n",
              "min    4.274377e+06        303.000000   23367.000000  2012.000000   \n",
              "25%    9.180608e+06        972.000000   75000.000000  2022.000000   \n",
              "50%    1.006076e+07       1320.000000  101800.000000  2022.000000   \n",
              "75%    1.071750e+07       1833.250000  141425.000000  2022.000000   \n",
              "max    1.122296e+07       3907.000000  301383.000000  2023.000000   \n",
              "\n",
              "       data_mileage        doors  seat_capacity     engine_cc   peak_power  \\\n",
              "count   4916.000000  4916.000000    4916.000000   4916.000000  4916.000000   \n",
              "mean       3.638527     4.458910       5.265460   1780.575671   146.789260   \n",
              "std       94.277101     0.742915       1.602552    703.166051    48.568831   \n",
              "min        0.000000     2.000000       2.000000    659.000000    53.000000   \n",
              "25%        0.000000     4.000000       5.000000   1477.000000   107.000000   \n",
              "50%        0.000000     5.000000       5.000000   1498.000000   150.000000   \n",
              "75%        0.000000     5.000000       5.000000   1996.000000   177.000000   \n",
              "max     2500.000000     5.000000      28.000000  12913.000000   462.000000   \n",
              "\n",
              "       peak_torque  \n",
              "count  4916.000000  \n",
              "mean    231.140155  \n",
              "std     115.197019  \n",
              "min      78.000000  \n",
              "25%     141.000000  \n",
              "50%     200.000000  \n",
              "75%     260.000000  \n",
              "max     660.000000  "
            ],
            "text/html": [
              "\n",
              "  <div id=\"df-091034dc-b901-4e50-8159-873751d1aca7\">\n",
              "    <div class=\"colab-df-container\">\n",
              "      <div>\n",
              "<style scoped>\n",
              "    .dataframe tbody tr th:only-of-type {\n",
              "        vertical-align: middle;\n",
              "    }\n",
              "\n",
              "    .dataframe tbody tr th {\n",
              "        vertical-align: top;\n",
              "    }\n",
              "\n",
              "    .dataframe thead th {\n",
              "        text-align: right;\n",
              "    }\n",
              "</style>\n",
              "<table border=\"1\" class=\"dataframe\">\n",
              "  <thead>\n",
              "    <tr style=\"text-align: right;\">\n",
              "      <th></th>\n",
              "      <th>vehicle_id</th>\n",
              "      <th>data_installment</th>\n",
              "      <th>listing_price</th>\n",
              "      <th>data_year</th>\n",
              "      <th>data_mileage</th>\n",
              "      <th>doors</th>\n",
              "      <th>seat_capacity</th>\n",
              "      <th>engine_cc</th>\n",
              "      <th>peak_power</th>\n",
              "      <th>peak_torque</th>\n",
              "    </tr>\n",
              "  </thead>\n",
              "  <tbody>\n",
              "    <tr>\n",
              "      <th>count</th>\n",
              "      <td>4.916000e+03</td>\n",
              "      <td>4916.000000</td>\n",
              "      <td>4916.000000</td>\n",
              "      <td>4916.000000</td>\n",
              "      <td>4916.000000</td>\n",
              "      <td>4916.000000</td>\n",
              "      <td>4916.000000</td>\n",
              "      <td>4916.000000</td>\n",
              "      <td>4916.000000</td>\n",
              "      <td>4916.000000</td>\n",
              "    </tr>\n",
              "    <tr>\n",
              "      <th>mean</th>\n",
              "      <td>9.854395e+06</td>\n",
              "      <td>1481.186534</td>\n",
              "      <td>114250.107811</td>\n",
              "      <td>2021.987592</td>\n",
              "      <td>3.638527</td>\n",
              "      <td>4.458910</td>\n",
              "      <td>5.265460</td>\n",
              "      <td>1780.575671</td>\n",
              "      <td>146.789260</td>\n",
              "      <td>231.140155</td>\n",
              "    </tr>\n",
              "    <tr>\n",
              "      <th>std</th>\n",
              "      <td>1.104280e+06</td>\n",
              "      <td>749.281293</td>\n",
              "      <td>57797.752513</td>\n",
              "      <td>0.514736</td>\n",
              "      <td>94.277101</td>\n",
              "      <td>0.742915</td>\n",
              "      <td>1.602552</td>\n",
              "      <td>703.166051</td>\n",
              "      <td>48.568831</td>\n",
              "      <td>115.197019</td>\n",
              "    </tr>\n",
              "    <tr>\n",
              "      <th>min</th>\n",
              "      <td>4.274377e+06</td>\n",
              "      <td>303.000000</td>\n",
              "      <td>23367.000000</td>\n",
              "      <td>2012.000000</td>\n",
              "      <td>0.000000</td>\n",
              "      <td>2.000000</td>\n",
              "      <td>2.000000</td>\n",
              "      <td>659.000000</td>\n",
              "      <td>53.000000</td>\n",
              "      <td>78.000000</td>\n",
              "    </tr>\n",
              "    <tr>\n",
              "      <th>25%</th>\n",
              "      <td>9.180608e+06</td>\n",
              "      <td>972.000000</td>\n",
              "      <td>75000.000000</td>\n",
              "      <td>2022.000000</td>\n",
              "      <td>0.000000</td>\n",
              "      <td>4.000000</td>\n",
              "      <td>5.000000</td>\n",
              "      <td>1477.000000</td>\n",
              "      <td>107.000000</td>\n",
              "      <td>141.000000</td>\n",
              "    </tr>\n",
              "    <tr>\n",
              "      <th>50%</th>\n",
              "      <td>1.006076e+07</td>\n",
              "      <td>1320.000000</td>\n",
              "      <td>101800.000000</td>\n",
              "      <td>2022.000000</td>\n",
              "      <td>0.000000</td>\n",
              "      <td>5.000000</td>\n",
              "      <td>5.000000</td>\n",
              "      <td>1498.000000</td>\n",
              "      <td>150.000000</td>\n",
              "      <td>200.000000</td>\n",
              "    </tr>\n",
              "    <tr>\n",
              "      <th>75%</th>\n",
              "      <td>1.071750e+07</td>\n",
              "      <td>1833.250000</td>\n",
              "      <td>141425.000000</td>\n",
              "      <td>2022.000000</td>\n",
              "      <td>0.000000</td>\n",
              "      <td>5.000000</td>\n",
              "      <td>5.000000</td>\n",
              "      <td>1996.000000</td>\n",
              "      <td>177.000000</td>\n",
              "      <td>260.000000</td>\n",
              "    </tr>\n",
              "    <tr>\n",
              "      <th>max</th>\n",
              "      <td>1.122296e+07</td>\n",
              "      <td>3907.000000</td>\n",
              "      <td>301383.000000</td>\n",
              "      <td>2023.000000</td>\n",
              "      <td>2500.000000</td>\n",
              "      <td>5.000000</td>\n",
              "      <td>28.000000</td>\n",
              "      <td>12913.000000</td>\n",
              "      <td>462.000000</td>\n",
              "      <td>660.000000</td>\n",
              "    </tr>\n",
              "  </tbody>\n",
              "</table>\n",
              "</div>\n",
              "      <button class=\"colab-df-convert\" onclick=\"convertToInteractive('df-091034dc-b901-4e50-8159-873751d1aca7')\"\n",
              "              title=\"Convert this dataframe to an interactive table.\"\n",
              "              style=\"display:none;\">\n",
              "        \n",
              "  <svg xmlns=\"http://www.w3.org/2000/svg\" height=\"24px\"viewBox=\"0 0 24 24\"\n",
              "       width=\"24px\">\n",
              "    <path d=\"M0 0h24v24H0V0z\" fill=\"none\"/>\n",
              "    <path d=\"M18.56 5.44l.94 2.06.94-2.06 2.06-.94-2.06-.94-.94-2.06-.94 2.06-2.06.94zm-11 1L8.5 8.5l.94-2.06 2.06-.94-2.06-.94L8.5 2.5l-.94 2.06-2.06.94zm10 10l.94 2.06.94-2.06 2.06-.94-2.06-.94-.94-2.06-.94 2.06-2.06.94z\"/><path d=\"M17.41 7.96l-1.37-1.37c-.4-.4-.92-.59-1.43-.59-.52 0-1.04.2-1.43.59L10.3 9.45l-7.72 7.72c-.78.78-.78 2.05 0 2.83L4 21.41c.39.39.9.59 1.41.59.51 0 1.02-.2 1.41-.59l7.78-7.78 2.81-2.81c.8-.78.8-2.07 0-2.86zM5.41 20L4 18.59l7.72-7.72 1.47 1.35L5.41 20z\"/>\n",
              "  </svg>\n",
              "      </button>\n",
              "      \n",
              "  <style>\n",
              "    .colab-df-container {\n",
              "      display:flex;\n",
              "      flex-wrap:wrap;\n",
              "      gap: 12px;\n",
              "    }\n",
              "\n",
              "    .colab-df-convert {\n",
              "      background-color: #E8F0FE;\n",
              "      border: none;\n",
              "      border-radius: 50%;\n",
              "      cursor: pointer;\n",
              "      display: none;\n",
              "      fill: #1967D2;\n",
              "      height: 32px;\n",
              "      padding: 0 0 0 0;\n",
              "      width: 32px;\n",
              "    }\n",
              "\n",
              "    .colab-df-convert:hover {\n",
              "      background-color: #E2EBFA;\n",
              "      box-shadow: 0px 1px 2px rgba(60, 64, 67, 0.3), 0px 1px 3px 1px rgba(60, 64, 67, 0.15);\n",
              "      fill: #174EA6;\n",
              "    }\n",
              "\n",
              "    [theme=dark] .colab-df-convert {\n",
              "      background-color: #3B4455;\n",
              "      fill: #D2E3FC;\n",
              "    }\n",
              "\n",
              "    [theme=dark] .colab-df-convert:hover {\n",
              "      background-color: #434B5C;\n",
              "      box-shadow: 0px 1px 3px 1px rgba(0, 0, 0, 0.15);\n",
              "      filter: drop-shadow(0px 1px 2px rgba(0, 0, 0, 0.3));\n",
              "      fill: #FFFFFF;\n",
              "    }\n",
              "  </style>\n",
              "\n",
              "      <script>\n",
              "        const buttonEl =\n",
              "          document.querySelector('#df-091034dc-b901-4e50-8159-873751d1aca7 button.colab-df-convert');\n",
              "        buttonEl.style.display =\n",
              "          google.colab.kernel.accessAllowed ? 'block' : 'none';\n",
              "\n",
              "        async function convertToInteractive(key) {\n",
              "          const element = document.querySelector('#df-091034dc-b901-4e50-8159-873751d1aca7');\n",
              "          const dataTable =\n",
              "            await google.colab.kernel.invokeFunction('convertToInteractive',\n",
              "                                                     [key], {});\n",
              "          if (!dataTable) return;\n",
              "\n",
              "          const docLinkHtml = 'Like what you see? Visit the ' +\n",
              "            '<a target=\"_blank\" href=https://colab.research.google.com/notebooks/data_table.ipynb>data table notebook</a>'\n",
              "            + ' to learn more about interactive tables.';\n",
              "          element.innerHTML = '';\n",
              "          dataTable['output_type'] = 'display_data';\n",
              "          await google.colab.output.renderOutput(dataTable, element);\n",
              "          const docLink = document.createElement('div');\n",
              "          docLink.innerHTML = docLinkHtml;\n",
              "          element.appendChild(docLink);\n",
              "        }\n",
              "      </script>\n",
              "    </div>\n",
              "  </div>\n",
              "  "
            ]
          },
          "metadata": {},
          "execution_count": 74
        }
      ],
      "source": [
        "df_carlist02.describe()"
      ]
    },
    {
      "cell_type": "markdown",
      "metadata": {
        "id": "dqVg24LozNIp"
      },
      "source": [
        "# 3.0 Data Exploration"
      ]
    },
    {
      "cell_type": "markdown",
      "metadata": {
        "id": "d_Vi2p2Fa44V"
      },
      "source": [
        "# 4.0 Data Modeling\n",
        "---\n",
        "Purpose : recommend the most similar vehicles based on the user's input, and recommend another set of similar vehicles based on the user's current vehicle set.\n"
      ]
    },
    {
      "cell_type": "markdown",
      "metadata": {
        "id": "gc9kDMK3zNIp"
      },
      "source": [
        "### 4.0.1 Convert all categorical variables into numbers by LabelEncoder."
      ]
    },
    {
      "cell_type": "code",
      "execution_count": 75,
      "metadata": {
        "collapsed": true,
        "id": "kF5tHF7CzNIp",
        "outputId": "3d91b1eb-3e53-4c3f-ac60-7a43172a1fbe",
        "colab": {
          "base_uri": "https://localhost:8080/"
        }
      },
      "outputs": [
        {
          "output_type": "execute_result",
          "data": {
            "text/plain": [
              "vehicle_id             int64\n",
              "data_installment     float64\n",
              "listing_price        float64\n",
              "data_make             object\n",
              "data_model            object\n",
              "data_year              int64\n",
              "data_mileage           int64\n",
              "data_transmission     object\n",
              "doors                float64\n",
              "seat_capacity        float64\n",
              "assembled             object\n",
              "engine_cc            float64\n",
              "peak_power           float64\n",
              "peak_torque          float64\n",
              "engine_type           object\n",
              "fuel_type             object\n",
              "dtype: object"
            ]
          },
          "metadata": {},
          "execution_count": 75
        }
      ],
      "source": [
        "df_carlist02.dtypes"
      ]
    },
    {
      "cell_type": "code",
      "execution_count": 95,
      "metadata": {
        "colab": {
          "base_uri": "https://localhost:8080/"
        },
        "collapsed": true,
        "id": "4rTxaKfKoWUi",
        "outputId": "93bc2809-4d5d-445a-80f9-8d50ed0cb97a"
      },
      "outputs": [
        {
          "output_type": "stream",
          "name": "stdout",
          "text": [
            "data_make : mapping\n",
            "                0\n",
            "Audi            0\n",
            "BMW             1\n",
            "BYD             2\n",
            "CAF DFSK        3\n",
            "CAM             4\n",
            "Chana           5\n",
            "DFSK            6\n",
            "Daihatsu        7\n",
            "Fiat            8\n",
            "Ford            9\n",
            "Foton          10\n",
            "GAC            11\n",
            "Golden Dragon  12\n",
            "Great Wall     13\n",
            "Higer          14\n",
            "Hino           15\n",
            "Honda          16\n",
            "Hyundai        17\n",
            "Isuzu          18\n",
            "JMC            19\n",
            "Kia            20\n",
            "Lexus          21\n",
            "MG             22\n",
            "MINI           23\n",
            "Maxus          24\n",
            "Mazda          25\n",
            "Mercedes-Benz  26\n",
            "Mitsubishi     27\n",
            "Nissan         28\n",
            "Perodua        29\n",
            "Peugeot        30\n",
            "Proton         31\n",
            "Renault        32\n",
            "Subaru         33\n",
            "Suzuki         34\n",
            "TESLA          35\n",
            "Toyota         36\n",
            "Volkswagen     37\n",
            "Volvo          38\n",
            "\n",
            "\n",
            "data_model : mapping\n",
            "           0\n",
            "2          0\n",
            "2008       1\n",
            "218i       2\n",
            "3          3\n",
            "3 Door     4\n",
            "...      ...\n",
            "XZU720   137\n",
            "Xpander  138\n",
            "Yaris    139\n",
            "ZS       140\n",
            "e        141\n",
            "\n",
            "[142 rows x 1 columns]\n",
            "\n",
            "\n",
            "data_transmission : mapping\n",
            "           0\n",
            "Automatic  0\n",
            "Manual     1\n",
            "\n",
            "\n",
            "assembled : mapping\n",
            "                 0\n",
            "Locally Built    0\n",
            "Official Import  1\n",
            "Parallel Import  2\n",
            "\n",
            "\n",
            "engine_type : mapping\n",
            "          0\n",
            "Electric  0\n",
            "Piston    1\n",
            "\n",
            "\n",
            "fuel_type : mapping\n",
            "                         0\n",
            "Diesel                   0\n",
            "Electric                 1\n",
            "Hybrid                   2\n",
            "Petrol - Unleaded (ULP)  3\n",
            "\n",
            "\n"
          ]
        }
      ],
      "source": [
        "from sklearn import preprocessing\n",
        "le = preprocessing.LabelEncoder()\n",
        "\n",
        "df_carlist03 = df_carlist02.copy()\n",
        "\n",
        "for column in df_carlist03.iloc[:,1:].columns:\n",
        "    if df_carlist02[column].dtype == 'object':\n",
        "        le = preprocessing.LabelEncoder()\n",
        "        le.fit(df_carlist03[column].unique())\n",
        "        df_carlist03[column] = le.transform(df_carlist03[column])\n",
        "        le_name_mapping = dict(zip(le.classes_, le.transform(le.classes_)))\n",
        "        print(column,': mapping')\n",
        "        print(pd.DataFrame.from_dict(le_name_mapping,orient='index'))\n",
        "        print(\"\\n\")"
      ]
    },
    {
      "cell_type": "markdown",
      "metadata": {
        "id": "20sM3MTSzNIp"
      },
      "source": [
        "Before training, mock a user's input dataset by using random library from python.\n",
        "Selected features : \"listing_price\", \"data_installment\", \"seat_capacity\", \"data_transmission\", \"engine_cc\", \"fuel_type\".\n",
        "\n",
        "The data to be mocked:\n",
        "- salary (random numbers between 1500 and 15000)\n",
        "- preferred monthly installment (random numbers between the min and max monthly_installment from dataset )\n",
        "- seat capacity (random numbers between the min and median seat_capacity from dataset )\n",
        "- data_transmission (random number between 0 and 1)\n",
        "- engine_cc (random numbers between the min and median engine_cc from dataset )\n",
        "- fuel_type (random numbers between 0 and 3)\n",
        "- repayment_period(random choice in 5,7,9 years）"
      ]
    },
    {
      "cell_type": "code",
      "execution_count": 96,
      "metadata": {
        "colab": {
          "base_uri": "https://localhost:8080/"
        },
        "id": "CdKpE_UJ1urz",
        "outputId": "88c08589-7ddc-41b8-f89d-c3821ae56dbd",
        "scrolled": true
      },
      "outputs": [
        {
          "output_type": "stream",
          "name": "stdout",
          "text": [
            "5\n"
          ]
        }
      ],
      "source": [
        "import random\n",
        "\n",
        "print(random.randint(0,9))\n",
        "\n",
        "np.random.seed(8)\n",
        "size = 10000\n",
        "\n",
        "salary = np.random.randint(low=1500,high=6000,size=size)\n",
        "\n",
        "data_installment = np.random.randint(\n",
        "    low = df_carlist03['data_installment'].min(),\n",
        "    high = df_carlist03['data_installment'].max(),size=size)\n",
        "\n",
        "seat_capacity = np.random.randint(\n",
        "    low=2,\n",
        "    high=10,size=size)\n",
        "\n",
        "data_transmission = np.random.choice([0,0,1],size=size)\n",
        "\n",
        "engine_cc= np.random.randint(\n",
        "    low=df_carlist03['engine_cc'].min(),\n",
        "    high=df_carlist03['engine_cc'].median(),size=size)\n",
        "\n",
        "fuel_type = np.random.choice([0,1,2,3],size=size)\n",
        "\n",
        "repayment_period = np.random.choice([5,7,9],size=size)\n",
        "\n",
        "data = {\n",
        "    'salary':salary,\n",
        "    'data_installment':data_installment,\n",
        "    #'preferred_data_model':preferred_data_model, \n",
        "    'seat_capacity':seat_capacity,\n",
        "    'data_transmission':data_transmission,\n",
        "    'engine_cc':engine_cc,\n",
        "    'fuel_type':fuel_type,\n",
        "    'repayment_period':repayment_period\n",
        "}\n",
        "\n",
        "\n",
        "mock_user_input = pd.DataFrame(data)"
      ]
    },
    {
      "cell_type": "code",
      "execution_count": 97,
      "metadata": {
        "scrolled": true,
        "id": "qNgtqA0vzNIq",
        "outputId": "8c283b39-20ff-4661-d16b-ba88d88aa78b",
        "colab": {
          "base_uri": "https://localhost:8080/",
          "height": 300
        }
      },
      "outputs": [
        {
          "output_type": "execute_result",
          "data": {
            "text/plain": [
              "             salary  data_installment  seat_capacity  data_transmission  \\\n",
              "count  10000.000000      10000.000000   10000.000000        10000.00000   \n",
              "mean    3772.262900       2089.695400       5.488700            0.32910   \n",
              "std     1290.646405       1037.281101       2.288842            0.46991   \n",
              "min     1500.000000        303.000000       2.000000            0.00000   \n",
              "25%     2670.000000       1196.000000       3.000000            0.00000   \n",
              "50%     3795.000000       2094.000000       5.000000            0.00000   \n",
              "75%     4881.000000       2974.250000       7.000000            1.00000   \n",
              "max     5999.000000       3906.000000       9.000000            1.00000   \n",
              "\n",
              "          engine_cc     fuel_type  repayment_period  \n",
              "count  10000.000000  10000.000000      10000.000000  \n",
              "mean    1076.408200      1.511500          7.011600  \n",
              "std      242.046964      1.122851          1.640529  \n",
              "min      659.000000      0.000000          5.000000  \n",
              "25%      866.000000      0.000000          5.000000  \n",
              "50%     1079.000000      2.000000          7.000000  \n",
              "75%     1286.000000      3.000000          9.000000  \n",
              "max     1497.000000      3.000000          9.000000  "
            ],
            "text/html": [
              "\n",
              "  <div id=\"df-e44ddb80-62a3-4348-9678-c822c112551f\">\n",
              "    <div class=\"colab-df-container\">\n",
              "      <div>\n",
              "<style scoped>\n",
              "    .dataframe tbody tr th:only-of-type {\n",
              "        vertical-align: middle;\n",
              "    }\n",
              "\n",
              "    .dataframe tbody tr th {\n",
              "        vertical-align: top;\n",
              "    }\n",
              "\n",
              "    .dataframe thead th {\n",
              "        text-align: right;\n",
              "    }\n",
              "</style>\n",
              "<table border=\"1\" class=\"dataframe\">\n",
              "  <thead>\n",
              "    <tr style=\"text-align: right;\">\n",
              "      <th></th>\n",
              "      <th>salary</th>\n",
              "      <th>data_installment</th>\n",
              "      <th>seat_capacity</th>\n",
              "      <th>data_transmission</th>\n",
              "      <th>engine_cc</th>\n",
              "      <th>fuel_type</th>\n",
              "      <th>repayment_period</th>\n",
              "    </tr>\n",
              "  </thead>\n",
              "  <tbody>\n",
              "    <tr>\n",
              "      <th>count</th>\n",
              "      <td>10000.000000</td>\n",
              "      <td>10000.000000</td>\n",
              "      <td>10000.000000</td>\n",
              "      <td>10000.00000</td>\n",
              "      <td>10000.000000</td>\n",
              "      <td>10000.000000</td>\n",
              "      <td>10000.000000</td>\n",
              "    </tr>\n",
              "    <tr>\n",
              "      <th>mean</th>\n",
              "      <td>3772.262900</td>\n",
              "      <td>2089.695400</td>\n",
              "      <td>5.488700</td>\n",
              "      <td>0.32910</td>\n",
              "      <td>1076.408200</td>\n",
              "      <td>1.511500</td>\n",
              "      <td>7.011600</td>\n",
              "    </tr>\n",
              "    <tr>\n",
              "      <th>std</th>\n",
              "      <td>1290.646405</td>\n",
              "      <td>1037.281101</td>\n",
              "      <td>2.288842</td>\n",
              "      <td>0.46991</td>\n",
              "      <td>242.046964</td>\n",
              "      <td>1.122851</td>\n",
              "      <td>1.640529</td>\n",
              "    </tr>\n",
              "    <tr>\n",
              "      <th>min</th>\n",
              "      <td>1500.000000</td>\n",
              "      <td>303.000000</td>\n",
              "      <td>2.000000</td>\n",
              "      <td>0.00000</td>\n",
              "      <td>659.000000</td>\n",
              "      <td>0.000000</td>\n",
              "      <td>5.000000</td>\n",
              "    </tr>\n",
              "    <tr>\n",
              "      <th>25%</th>\n",
              "      <td>2670.000000</td>\n",
              "      <td>1196.000000</td>\n",
              "      <td>3.000000</td>\n",
              "      <td>0.00000</td>\n",
              "      <td>866.000000</td>\n",
              "      <td>0.000000</td>\n",
              "      <td>5.000000</td>\n",
              "    </tr>\n",
              "    <tr>\n",
              "      <th>50%</th>\n",
              "      <td>3795.000000</td>\n",
              "      <td>2094.000000</td>\n",
              "      <td>5.000000</td>\n",
              "      <td>0.00000</td>\n",
              "      <td>1079.000000</td>\n",
              "      <td>2.000000</td>\n",
              "      <td>7.000000</td>\n",
              "    </tr>\n",
              "    <tr>\n",
              "      <th>75%</th>\n",
              "      <td>4881.000000</td>\n",
              "      <td>2974.250000</td>\n",
              "      <td>7.000000</td>\n",
              "      <td>1.00000</td>\n",
              "      <td>1286.000000</td>\n",
              "      <td>3.000000</td>\n",
              "      <td>9.000000</td>\n",
              "    </tr>\n",
              "    <tr>\n",
              "      <th>max</th>\n",
              "      <td>5999.000000</td>\n",
              "      <td>3906.000000</td>\n",
              "      <td>9.000000</td>\n",
              "      <td>1.00000</td>\n",
              "      <td>1497.000000</td>\n",
              "      <td>3.000000</td>\n",
              "      <td>9.000000</td>\n",
              "    </tr>\n",
              "  </tbody>\n",
              "</table>\n",
              "</div>\n",
              "      <button class=\"colab-df-convert\" onclick=\"convertToInteractive('df-e44ddb80-62a3-4348-9678-c822c112551f')\"\n",
              "              title=\"Convert this dataframe to an interactive table.\"\n",
              "              style=\"display:none;\">\n",
              "        \n",
              "  <svg xmlns=\"http://www.w3.org/2000/svg\" height=\"24px\"viewBox=\"0 0 24 24\"\n",
              "       width=\"24px\">\n",
              "    <path d=\"M0 0h24v24H0V0z\" fill=\"none\"/>\n",
              "    <path d=\"M18.56 5.44l.94 2.06.94-2.06 2.06-.94-2.06-.94-.94-2.06-.94 2.06-2.06.94zm-11 1L8.5 8.5l.94-2.06 2.06-.94-2.06-.94L8.5 2.5l-.94 2.06-2.06.94zm10 10l.94 2.06.94-2.06 2.06-.94-2.06-.94-.94-2.06-.94 2.06-2.06.94z\"/><path d=\"M17.41 7.96l-1.37-1.37c-.4-.4-.92-.59-1.43-.59-.52 0-1.04.2-1.43.59L10.3 9.45l-7.72 7.72c-.78.78-.78 2.05 0 2.83L4 21.41c.39.39.9.59 1.41.59.51 0 1.02-.2 1.41-.59l7.78-7.78 2.81-2.81c.8-.78.8-2.07 0-2.86zM5.41 20L4 18.59l7.72-7.72 1.47 1.35L5.41 20z\"/>\n",
              "  </svg>\n",
              "      </button>\n",
              "      \n",
              "  <style>\n",
              "    .colab-df-container {\n",
              "      display:flex;\n",
              "      flex-wrap:wrap;\n",
              "      gap: 12px;\n",
              "    }\n",
              "\n",
              "    .colab-df-convert {\n",
              "      background-color: #E8F0FE;\n",
              "      border: none;\n",
              "      border-radius: 50%;\n",
              "      cursor: pointer;\n",
              "      display: none;\n",
              "      fill: #1967D2;\n",
              "      height: 32px;\n",
              "      padding: 0 0 0 0;\n",
              "      width: 32px;\n",
              "    }\n",
              "\n",
              "    .colab-df-convert:hover {\n",
              "      background-color: #E2EBFA;\n",
              "      box-shadow: 0px 1px 2px rgba(60, 64, 67, 0.3), 0px 1px 3px 1px rgba(60, 64, 67, 0.15);\n",
              "      fill: #174EA6;\n",
              "    }\n",
              "\n",
              "    [theme=dark] .colab-df-convert {\n",
              "      background-color: #3B4455;\n",
              "      fill: #D2E3FC;\n",
              "    }\n",
              "\n",
              "    [theme=dark] .colab-df-convert:hover {\n",
              "      background-color: #434B5C;\n",
              "      box-shadow: 0px 1px 3px 1px rgba(0, 0, 0, 0.15);\n",
              "      filter: drop-shadow(0px 1px 2px rgba(0, 0, 0, 0.3));\n",
              "      fill: #FFFFFF;\n",
              "    }\n",
              "  </style>\n",
              "\n",
              "      <script>\n",
              "        const buttonEl =\n",
              "          document.querySelector('#df-e44ddb80-62a3-4348-9678-c822c112551f button.colab-df-convert');\n",
              "        buttonEl.style.display =\n",
              "          google.colab.kernel.accessAllowed ? 'block' : 'none';\n",
              "\n",
              "        async function convertToInteractive(key) {\n",
              "          const element = document.querySelector('#df-e44ddb80-62a3-4348-9678-c822c112551f');\n",
              "          const dataTable =\n",
              "            await google.colab.kernel.invokeFunction('convertToInteractive',\n",
              "                                                     [key], {});\n",
              "          if (!dataTable) return;\n",
              "\n",
              "          const docLinkHtml = 'Like what you see? Visit the ' +\n",
              "            '<a target=\"_blank\" href=https://colab.research.google.com/notebooks/data_table.ipynb>data table notebook</a>'\n",
              "            + ' to learn more about interactive tables.';\n",
              "          element.innerHTML = '';\n",
              "          dataTable['output_type'] = 'display_data';\n",
              "          await google.colab.output.renderOutput(dataTable, element);\n",
              "          const docLink = document.createElement('div');\n",
              "          docLink.innerHTML = docLinkHtml;\n",
              "          element.appendChild(docLink);\n",
              "        }\n",
              "      </script>\n",
              "    </div>\n",
              "  </div>\n",
              "  "
            ]
          },
          "metadata": {},
          "execution_count": 97
        }
      ],
      "source": [
        "mock_user_input.describe()"
      ]
    },
    {
      "cell_type": "markdown",
      "metadata": {
        "id": "Y4vegm_xzNIq"
      },
      "source": [
        "Define a list for the selected features to be passed inside algorithm."
      ]
    },
    {
      "cell_type": "code",
      "execution_count": 79,
      "metadata": {
        "id": "bTp8OkHMzNIq"
      },
      "outputs": [],
      "source": [
        "features = [\"data_installment\", \"seat_capacity\", \"data_transmission\", \"engine_cc\", \"fuel_type\"]"
      ]
    },
    {
      "cell_type": "markdown",
      "source": [
        "To recommend vehicles based on user's salary, we need to find out the affordable price range from the vehicles dataset. According to CTOS, when purchasing a car with a loan, the cost should be such that the monthly payments do not exceed 15% of the salary and the loan should be paid off within 5 years.\n",
        "\n",
        "Hence, the formula is derived:\n",
        "\n",
        "`listing_price` <= 0.15 `salary` x 12 (`repayment_period`)\n",
        "\n",
        "The dataset will filter those unaffordable vehicles."
      ],
      "metadata": {
        "id": "oj1ZVSGPvvul"
      }
    },
    {
      "cell_type": "code",
      "source": [
        "def get_max_affordable_price(salary,repayment_period):\n",
        "  affordable_price = 0.15*salary*12*repayment_period\n",
        "  return affordable_price.values[0]"
      ],
      "metadata": {
        "id": "BU6IdeNXyTKU"
      },
      "execution_count": 176,
      "outputs": []
    },
    {
      "cell_type": "markdown",
      "metadata": {
        "id": "QjYM85lfzNIq"
      },
      "source": [
        "## 4.1 K-Nearest Neighbors (KNN)\n",
        "This algorithm can be used to find similar vehicles based on the user's preferred monthly installment, salary, and seat capacity. The algorithm works by finding the K nearest vehicles to the user's input, and then recommending the most similar vehicles."
      ]
    },
    {
      "cell_type": "code",
      "execution_count": 170,
      "metadata": {
        "id": "QxwH41TozNIq"
      },
      "outputs": [],
      "source": [
        "from sklearn.neighbors import NearestNeighbors"
      ]
    },
    {
      "cell_type": "code",
      "execution_count": 171,
      "metadata": {
        "id": "YZZpgfGHzNIq"
      },
      "outputs": [],
      "source": [
        "knn_carlist = df_carlist03.copy()"
      ]
    },
    {
      "cell_type": "code",
      "execution_count": 172,
      "metadata": {
        "id": "1WDCaBDwzNIr"
      },
      "outputs": [],
      "source": [
        "# Create an instance of the NearestNeighbors class\n",
        "knn = NearestNeighbors(n_neighbors=5, algorithm='ball_tree')"
      ]
    },
    {
      "cell_type": "code",
      "execution_count": 177,
      "metadata": {
        "id": "l7a6Jv79zNIr",
        "colab": {
          "base_uri": "https://localhost:8080/"
        },
        "outputId": "24eeaba0-efd9-4228-f232-300df4164e9c"
      },
      "outputs": [
        {
          "output_type": "execute_result",
          "data": {
            "text/plain": [
              "46396.799999999996"
            ]
          },
          "metadata": {},
          "execution_count": 177
        }
      ],
      "source": [
        "# Recommend the most similar vehicles\n",
        "affordable_price = get_max_affordable_price(user_input['salary'],user_input['repayment_period'])\n",
        "affordable_price"
      ]
    },
    {
      "cell_type": "code",
      "source": [],
      "metadata": {
        "id": "ICUp1jeKBOjE"
      },
      "execution_count": null,
      "outputs": []
    },
    {
      "cell_type": "code",
      "source": [
        "knn_carlist = knn_carlist[knn_carlist['listing_price']<=affordable_price]"
      ],
      "metadata": {
        "id": "i1_8HafC5Zhf"
      },
      "execution_count": 175,
      "outputs": []
    },
    {
      "cell_type": "code",
      "execution_count": 159,
      "metadata": {
        "scrolled": true,
        "id": "ddQ3sLhhzNIr",
        "outputId": "45bfef52-59ce-48ae-bf09-564386573be7",
        "colab": {
          "base_uri": "https://localhost:8080/"
        }
      },
      "outputs": [
        {
          "output_type": "execute_result",
          "data": {
            "text/plain": [
              "NearestNeighbors(algorithm='ball_tree')"
            ]
          },
          "metadata": {},
          "execution_count": 159
        }
      ],
      "source": [
        "# Fit the model to the data\n",
        "knn.fit(knn_carlist[features])"
      ]
    },
    {
      "cell_type": "code",
      "execution_count": 163,
      "metadata": {
        "scrolled": false,
        "id": "5ztwQdLtzNIr"
      },
      "outputs": [],
      "source": [
        "user_input = mock_user_input.iloc[0:1,1:] #test\n",
        "user_input = mock_user_input.iloc[0:1]"
      ]
    },
    {
      "cell_type": "code",
      "source": [
        "distances, indices = knn.kneighbors(user_input[features])\n",
        "similar_vehicles = knn_carlist.iloc[indices[0], :]"
      ],
      "metadata": {
        "id": "YgdDAqWXy4Z6"
      },
      "execution_count": 164,
      "outputs": []
    },
    {
      "cell_type": "code",
      "execution_count": 168,
      "metadata": {
        "id": "bx4vkTtczNIr",
        "outputId": "2ae73ccf-5241-438b-e85e-bb676964f9d6",
        "colab": {
          "base_uri": "https://localhost:8080/",
          "height": 310
        }
      },
      "outputs": [
        {
          "output_type": "stream",
          "name": "stdout",
          "text": [
            "   salary  data_installment  seat_capacity  data_transmission  engine_cc  \\\n",
            "0    2864              2483              6                  0        721   \n",
            "\n",
            "   fuel_type  repayment_period  \n",
            "0          3                 9  \n",
            "Affordable_price: 46396.799999999996\n"
          ]
        },
        {
          "output_type": "execute_result",
          "data": {
            "text/plain": [
              "      listing_price  data_installment  seat_capacity  data_transmission  \\\n",
              "1654        43190.0             560.0            5.0                  0   \n",
              "1635        43190.0             560.0            5.0                  0   \n",
              "1320        39800.0             516.0            2.0                  1   \n",
              "543         40500.0             525.0            5.0                  0   \n",
              "542         40500.0             525.0            5.0                  0   \n",
              "\n",
              "      engine_cc  fuel_type  \n",
              "1654      998.0          3  \n",
              "1635      998.0          3  \n",
              "1320      659.0          0  \n",
              "543       998.0          3  \n",
              "542       998.0          3  "
            ],
            "text/html": [
              "\n",
              "  <div id=\"df-0652c784-f1ff-4b32-8be6-9d9553df7b89\">\n",
              "    <div class=\"colab-df-container\">\n",
              "      <div>\n",
              "<style scoped>\n",
              "    .dataframe tbody tr th:only-of-type {\n",
              "        vertical-align: middle;\n",
              "    }\n",
              "\n",
              "    .dataframe tbody tr th {\n",
              "        vertical-align: top;\n",
              "    }\n",
              "\n",
              "    .dataframe thead th {\n",
              "        text-align: right;\n",
              "    }\n",
              "</style>\n",
              "<table border=\"1\" class=\"dataframe\">\n",
              "  <thead>\n",
              "    <tr style=\"text-align: right;\">\n",
              "      <th></th>\n",
              "      <th>listing_price</th>\n",
              "      <th>data_installment</th>\n",
              "      <th>seat_capacity</th>\n",
              "      <th>data_transmission</th>\n",
              "      <th>engine_cc</th>\n",
              "      <th>fuel_type</th>\n",
              "    </tr>\n",
              "  </thead>\n",
              "  <tbody>\n",
              "    <tr>\n",
              "      <th>1654</th>\n",
              "      <td>43190.0</td>\n",
              "      <td>560.0</td>\n",
              "      <td>5.0</td>\n",
              "      <td>0</td>\n",
              "      <td>998.0</td>\n",
              "      <td>3</td>\n",
              "    </tr>\n",
              "    <tr>\n",
              "      <th>1635</th>\n",
              "      <td>43190.0</td>\n",
              "      <td>560.0</td>\n",
              "      <td>5.0</td>\n",
              "      <td>0</td>\n",
              "      <td>998.0</td>\n",
              "      <td>3</td>\n",
              "    </tr>\n",
              "    <tr>\n",
              "      <th>1320</th>\n",
              "      <td>39800.0</td>\n",
              "      <td>516.0</td>\n",
              "      <td>2.0</td>\n",
              "      <td>1</td>\n",
              "      <td>659.0</td>\n",
              "      <td>0</td>\n",
              "    </tr>\n",
              "    <tr>\n",
              "      <th>543</th>\n",
              "      <td>40500.0</td>\n",
              "      <td>525.0</td>\n",
              "      <td>5.0</td>\n",
              "      <td>0</td>\n",
              "      <td>998.0</td>\n",
              "      <td>3</td>\n",
              "    </tr>\n",
              "    <tr>\n",
              "      <th>542</th>\n",
              "      <td>40500.0</td>\n",
              "      <td>525.0</td>\n",
              "      <td>5.0</td>\n",
              "      <td>0</td>\n",
              "      <td>998.0</td>\n",
              "      <td>3</td>\n",
              "    </tr>\n",
              "  </tbody>\n",
              "</table>\n",
              "</div>\n",
              "      <button class=\"colab-df-convert\" onclick=\"convertToInteractive('df-0652c784-f1ff-4b32-8be6-9d9553df7b89')\"\n",
              "              title=\"Convert this dataframe to an interactive table.\"\n",
              "              style=\"display:none;\">\n",
              "        \n",
              "  <svg xmlns=\"http://www.w3.org/2000/svg\" height=\"24px\"viewBox=\"0 0 24 24\"\n",
              "       width=\"24px\">\n",
              "    <path d=\"M0 0h24v24H0V0z\" fill=\"none\"/>\n",
              "    <path d=\"M18.56 5.44l.94 2.06.94-2.06 2.06-.94-2.06-.94-.94-2.06-.94 2.06-2.06.94zm-11 1L8.5 8.5l.94-2.06 2.06-.94-2.06-.94L8.5 2.5l-.94 2.06-2.06.94zm10 10l.94 2.06.94-2.06 2.06-.94-2.06-.94-.94-2.06-.94 2.06-2.06.94z\"/><path d=\"M17.41 7.96l-1.37-1.37c-.4-.4-.92-.59-1.43-.59-.52 0-1.04.2-1.43.59L10.3 9.45l-7.72 7.72c-.78.78-.78 2.05 0 2.83L4 21.41c.39.39.9.59 1.41.59.51 0 1.02-.2 1.41-.59l7.78-7.78 2.81-2.81c.8-.78.8-2.07 0-2.86zM5.41 20L4 18.59l7.72-7.72 1.47 1.35L5.41 20z\"/>\n",
              "  </svg>\n",
              "      </button>\n",
              "      \n",
              "  <style>\n",
              "    .colab-df-container {\n",
              "      display:flex;\n",
              "      flex-wrap:wrap;\n",
              "      gap: 12px;\n",
              "    }\n",
              "\n",
              "    .colab-df-convert {\n",
              "      background-color: #E8F0FE;\n",
              "      border: none;\n",
              "      border-radius: 50%;\n",
              "      cursor: pointer;\n",
              "      display: none;\n",
              "      fill: #1967D2;\n",
              "      height: 32px;\n",
              "      padding: 0 0 0 0;\n",
              "      width: 32px;\n",
              "    }\n",
              "\n",
              "    .colab-df-convert:hover {\n",
              "      background-color: #E2EBFA;\n",
              "      box-shadow: 0px 1px 2px rgba(60, 64, 67, 0.3), 0px 1px 3px 1px rgba(60, 64, 67, 0.15);\n",
              "      fill: #174EA6;\n",
              "    }\n",
              "\n",
              "    [theme=dark] .colab-df-convert {\n",
              "      background-color: #3B4455;\n",
              "      fill: #D2E3FC;\n",
              "    }\n",
              "\n",
              "    [theme=dark] .colab-df-convert:hover {\n",
              "      background-color: #434B5C;\n",
              "      box-shadow: 0px 1px 3px 1px rgba(0, 0, 0, 0.15);\n",
              "      filter: drop-shadow(0px 1px 2px rgba(0, 0, 0, 0.3));\n",
              "      fill: #FFFFFF;\n",
              "    }\n",
              "  </style>\n",
              "\n",
              "      <script>\n",
              "        const buttonEl =\n",
              "          document.querySelector('#df-0652c784-f1ff-4b32-8be6-9d9553df7b89 button.colab-df-convert');\n",
              "        buttonEl.style.display =\n",
              "          google.colab.kernel.accessAllowed ? 'block' : 'none';\n",
              "\n",
              "        async function convertToInteractive(key) {\n",
              "          const element = document.querySelector('#df-0652c784-f1ff-4b32-8be6-9d9553df7b89');\n",
              "          const dataTable =\n",
              "            await google.colab.kernel.invokeFunction('convertToInteractive',\n",
              "                                                     [key], {});\n",
              "          if (!dataTable) return;\n",
              "\n",
              "          const docLinkHtml = 'Like what you see? Visit the ' +\n",
              "            '<a target=\"_blank\" href=https://colab.research.google.com/notebooks/data_table.ipynb>data table notebook</a>'\n",
              "            + ' to learn more about interactive tables.';\n",
              "          element.innerHTML = '';\n",
              "          dataTable['output_type'] = 'display_data';\n",
              "          await google.colab.output.renderOutput(dataTable, element);\n",
              "          const docLink = document.createElement('div');\n",
              "          docLink.innerHTML = docLinkHtml;\n",
              "          element.appendChild(docLink);\n",
              "        }\n",
              "      </script>\n",
              "    </div>\n",
              "  </div>\n",
              "  "
            ]
          },
          "metadata": {},
          "execution_count": 168
        }
      ],
      "source": [
        "print(user_input) #[\"data_installment\", \"seat_capacity\", \"data_transmission\", \"engine_cc\", \"fuel_type\"]\n",
        "print(\"Affordable_price:\",affordable_price)\n",
        "similar_vehicles[[\"listing_price\",\"data_installment\", \"seat_capacity\", \"data_transmission\", \"engine_cc\", \"fuel_type\"]]"
      ]
    },
    {
      "cell_type": "markdown",
      "metadata": {
        "id": "2tWQQGw2zNIr"
      },
      "source": [
        "#### KNN-based Recommendation Model - Evaluation\n",
        "---\n",
        "\n",
        "Euclidean distance is a similarity metric that can be used to evaluate the performance of a K-Nearest Neighbors (KNN) recommendation model. The Euclidean distance between two points is the square root of the sum of the squares of the differences between the corresponding coordinates. We will calculate the Euclidean distance between the recommended items and the user input by computing the square root of the sum of the squares of the differences between the corresponding features of the two items.\n",
        "\n",
        "The Euclidean distance is a scalar value that ranges from 0 to infinity, where 0 indicates that the recommended items are exactly the same as the user input, and a high value indicates that the recommended items and user input are different. A small distance indicates that the recommended items are similar to the user input."
      ]
    },
    {
      "cell_type": "code",
      "execution_count": null,
      "metadata": {
        "collapsed": true,
        "id": "j7hKCrkDzNIr",
        "outputId": "42c781b5-cc25-43f3-9150-5bdc63ea7e88",
        "colab": {
          "base_uri": "https://localhost:8080/"
        }
      },
      "outputs": [
        {
          "output_type": "stream",
          "name": "stderr",
          "text": [
            "/usr/local/lib/python3.8/dist-packages/pandas/core/indexing.py:1684: SettingWithCopyWarning:\n",
            "\n",
            "\n",
            "A value is trying to be set on a copy of a slice from a DataFrame.\n",
            "Try using .loc[row_indexer,col_indexer] = value instead\n",
            "\n",
            "See the caveats in the documentation: https://pandas.pydata.org/pandas-docs/stable/user_guide/indexing.html#returning-a-view-versus-a-copy\n",
            "\n",
            "/usr/local/lib/python3.8/dist-packages/pandas/core/indexing.py:1817: SettingWithCopyWarning:\n",
            "\n",
            "\n",
            "A value is trying to be set on a copy of a slice from a DataFrame.\n",
            "Try using .loc[row_indexer,col_indexer] = value instead\n",
            "\n",
            "See the caveats in the documentation: https://pandas.pydata.org/pandas-docs/stable/user_guide/indexing.html#returning-a-view-versus-a-copy\n",
            "\n"
          ]
        }
      ],
      "source": [
        "from scipy.spatial import distance\n",
        "\n",
        "# Iterate over each row in the dataframe\n",
        "for i, row in similar_vehicles.iterrows():\n",
        "    # Extract the features of the recommended items and user input\n",
        "    recommended_items =  np.array(row[features]).flatten()\n",
        "    user_input = np.array(user_input).flatten()\n",
        "    # Compute the Euclidean distance\n",
        "    euclidean_distance = distance.euclidean(recommended_items, user_input)\n",
        "    \n",
        "    # Assign the Euclidean distance to the new column\n",
        "    similar_vehicles.at[i, 'euclidean_distance'] = euclidean_distance"
      ]
    },
    {
      "cell_type": "code",
      "execution_count": null,
      "metadata": {
        "scrolled": true,
        "id": "aGZkXDaZzNIs",
        "outputId": "40de1762-0daa-4f0b-c753-bf8cda4681b7",
        "colab": {
          "base_uri": "https://localhost:8080/",
          "height": 287
        }
      },
      "outputs": [
        {
          "output_type": "stream",
          "name": "stdout",
          "text": [
            "[1042    6    0 1469    1]\n"
          ]
        },
        {
          "output_type": "execute_result",
          "data": {
            "text/plain": [
              "      vehicle_id  data_installment  listing_price  data_make  data_model  \\\n",
              "5180    10063719              1038          80078         31         130   \n",
              "1606     8194786              1037          80000         31         130   \n",
              "1725    10802049              1037          80000         31         130   \n",
              "4818     9539987              1027          79200         31         130   \n",
              "5106     9901276              1027          79200         31         130   \n",
              "\n",
              "      data_year  data_mileage  data_transmission  doors  seat_capacity  \\\n",
              "5180       2022             1                  0    5.0            5.0   \n",
              "1606       2022             1                  0    5.0            5.0   \n",
              "1725       2022             0                  0    5.0            5.0   \n",
              "4818       2022             0                  0    5.0            5.0   \n",
              "5106       2022             0                  0    5.0            5.0   \n",
              "\n",
              "      assembled  engine_cc  peak_power  peak_torque  engine_type  fuel_type  \\\n",
              "5180          0     1477.0       150.0        226.0            1          3   \n",
              "1606          0     1477.0       177.0        255.0            1          3   \n",
              "1725          0     1477.0       177.0        255.0            1          3   \n",
              "4818          0     1477.0       177.0        255.0            1          3   \n",
              "5106          0     1477.0       150.0        226.0            1          3   \n",
              "\n",
              "      euclidean_distance  \n",
              "5180            9.219544  \n",
              "1606            9.695360  \n",
              "1725            9.695360  \n",
              "4818           17.146428  \n",
              "5106           17.146428  "
            ],
            "text/html": [
              "\n",
              "  <div id=\"df-59358ef2-b2c2-4081-9b9b-7ede12d2b225\">\n",
              "    <div class=\"colab-df-container\">\n",
              "      <div>\n",
              "<style scoped>\n",
              "    .dataframe tbody tr th:only-of-type {\n",
              "        vertical-align: middle;\n",
              "    }\n",
              "\n",
              "    .dataframe tbody tr th {\n",
              "        vertical-align: top;\n",
              "    }\n",
              "\n",
              "    .dataframe thead th {\n",
              "        text-align: right;\n",
              "    }\n",
              "</style>\n",
              "<table border=\"1\" class=\"dataframe\">\n",
              "  <thead>\n",
              "    <tr style=\"text-align: right;\">\n",
              "      <th></th>\n",
              "      <th>vehicle_id</th>\n",
              "      <th>data_installment</th>\n",
              "      <th>listing_price</th>\n",
              "      <th>data_make</th>\n",
              "      <th>data_model</th>\n",
              "      <th>data_year</th>\n",
              "      <th>data_mileage</th>\n",
              "      <th>data_transmission</th>\n",
              "      <th>doors</th>\n",
              "      <th>seat_capacity</th>\n",
              "      <th>assembled</th>\n",
              "      <th>engine_cc</th>\n",
              "      <th>peak_power</th>\n",
              "      <th>peak_torque</th>\n",
              "      <th>engine_type</th>\n",
              "      <th>fuel_type</th>\n",
              "      <th>euclidean_distance</th>\n",
              "    </tr>\n",
              "  </thead>\n",
              "  <tbody>\n",
              "    <tr>\n",
              "      <th>5180</th>\n",
              "      <td>10063719</td>\n",
              "      <td>1038</td>\n",
              "      <td>80078</td>\n",
              "      <td>31</td>\n",
              "      <td>130</td>\n",
              "      <td>2022</td>\n",
              "      <td>1</td>\n",
              "      <td>0</td>\n",
              "      <td>5.0</td>\n",
              "      <td>5.0</td>\n",
              "      <td>0</td>\n",
              "      <td>1477.0</td>\n",
              "      <td>150.0</td>\n",
              "      <td>226.0</td>\n",
              "      <td>1</td>\n",
              "      <td>3</td>\n",
              "      <td>9.219544</td>\n",
              "    </tr>\n",
              "    <tr>\n",
              "      <th>1606</th>\n",
              "      <td>8194786</td>\n",
              "      <td>1037</td>\n",
              "      <td>80000</td>\n",
              "      <td>31</td>\n",
              "      <td>130</td>\n",
              "      <td>2022</td>\n",
              "      <td>1</td>\n",
              "      <td>0</td>\n",
              "      <td>5.0</td>\n",
              "      <td>5.0</td>\n",
              "      <td>0</td>\n",
              "      <td>1477.0</td>\n",
              "      <td>177.0</td>\n",
              "      <td>255.0</td>\n",
              "      <td>1</td>\n",
              "      <td>3</td>\n",
              "      <td>9.695360</td>\n",
              "    </tr>\n",
              "    <tr>\n",
              "      <th>1725</th>\n",
              "      <td>10802049</td>\n",
              "      <td>1037</td>\n",
              "      <td>80000</td>\n",
              "      <td>31</td>\n",
              "      <td>130</td>\n",
              "      <td>2022</td>\n",
              "      <td>0</td>\n",
              "      <td>0</td>\n",
              "      <td>5.0</td>\n",
              "      <td>5.0</td>\n",
              "      <td>0</td>\n",
              "      <td>1477.0</td>\n",
              "      <td>177.0</td>\n",
              "      <td>255.0</td>\n",
              "      <td>1</td>\n",
              "      <td>3</td>\n",
              "      <td>9.695360</td>\n",
              "    </tr>\n",
              "    <tr>\n",
              "      <th>4818</th>\n",
              "      <td>9539987</td>\n",
              "      <td>1027</td>\n",
              "      <td>79200</td>\n",
              "      <td>31</td>\n",
              "      <td>130</td>\n",
              "      <td>2022</td>\n",
              "      <td>0</td>\n",
              "      <td>0</td>\n",
              "      <td>5.0</td>\n",
              "      <td>5.0</td>\n",
              "      <td>0</td>\n",
              "      <td>1477.0</td>\n",
              "      <td>177.0</td>\n",
              "      <td>255.0</td>\n",
              "      <td>1</td>\n",
              "      <td>3</td>\n",
              "      <td>17.146428</td>\n",
              "    </tr>\n",
              "    <tr>\n",
              "      <th>5106</th>\n",
              "      <td>9901276</td>\n",
              "      <td>1027</td>\n",
              "      <td>79200</td>\n",
              "      <td>31</td>\n",
              "      <td>130</td>\n",
              "      <td>2022</td>\n",
              "      <td>0</td>\n",
              "      <td>0</td>\n",
              "      <td>5.0</td>\n",
              "      <td>5.0</td>\n",
              "      <td>0</td>\n",
              "      <td>1477.0</td>\n",
              "      <td>150.0</td>\n",
              "      <td>226.0</td>\n",
              "      <td>1</td>\n",
              "      <td>3</td>\n",
              "      <td>17.146428</td>\n",
              "    </tr>\n",
              "  </tbody>\n",
              "</table>\n",
              "</div>\n",
              "      <button class=\"colab-df-convert\" onclick=\"convertToInteractive('df-59358ef2-b2c2-4081-9b9b-7ede12d2b225')\"\n",
              "              title=\"Convert this dataframe to an interactive table.\"\n",
              "              style=\"display:none;\">\n",
              "        \n",
              "  <svg xmlns=\"http://www.w3.org/2000/svg\" height=\"24px\"viewBox=\"0 0 24 24\"\n",
              "       width=\"24px\">\n",
              "    <path d=\"M0 0h24v24H0V0z\" fill=\"none\"/>\n",
              "    <path d=\"M18.56 5.44l.94 2.06.94-2.06 2.06-.94-2.06-.94-.94-2.06-.94 2.06-2.06.94zm-11 1L8.5 8.5l.94-2.06 2.06-.94-2.06-.94L8.5 2.5l-.94 2.06-2.06.94zm10 10l.94 2.06.94-2.06 2.06-.94-2.06-.94-.94-2.06-.94 2.06-2.06.94z\"/><path d=\"M17.41 7.96l-1.37-1.37c-.4-.4-.92-.59-1.43-.59-.52 0-1.04.2-1.43.59L10.3 9.45l-7.72 7.72c-.78.78-.78 2.05 0 2.83L4 21.41c.39.39.9.59 1.41.59.51 0 1.02-.2 1.41-.59l7.78-7.78 2.81-2.81c.8-.78.8-2.07 0-2.86zM5.41 20L4 18.59l7.72-7.72 1.47 1.35L5.41 20z\"/>\n",
              "  </svg>\n",
              "      </button>\n",
              "      \n",
              "  <style>\n",
              "    .colab-df-container {\n",
              "      display:flex;\n",
              "      flex-wrap:wrap;\n",
              "      gap: 12px;\n",
              "    }\n",
              "\n",
              "    .colab-df-convert {\n",
              "      background-color: #E8F0FE;\n",
              "      border: none;\n",
              "      border-radius: 50%;\n",
              "      cursor: pointer;\n",
              "      display: none;\n",
              "      fill: #1967D2;\n",
              "      height: 32px;\n",
              "      padding: 0 0 0 0;\n",
              "      width: 32px;\n",
              "    }\n",
              "\n",
              "    .colab-df-convert:hover {\n",
              "      background-color: #E2EBFA;\n",
              "      box-shadow: 0px 1px 2px rgba(60, 64, 67, 0.3), 0px 1px 3px 1px rgba(60, 64, 67, 0.15);\n",
              "      fill: #174EA6;\n",
              "    }\n",
              "\n",
              "    [theme=dark] .colab-df-convert {\n",
              "      background-color: #3B4455;\n",
              "      fill: #D2E3FC;\n",
              "    }\n",
              "\n",
              "    [theme=dark] .colab-df-convert:hover {\n",
              "      background-color: #434B5C;\n",
              "      box-shadow: 0px 1px 3px 1px rgba(0, 0, 0, 0.15);\n",
              "      filter: drop-shadow(0px 1px 2px rgba(0, 0, 0, 0.3));\n",
              "      fill: #FFFFFF;\n",
              "    }\n",
              "  </style>\n",
              "\n",
              "      <script>\n",
              "        const buttonEl =\n",
              "          document.querySelector('#df-59358ef2-b2c2-4081-9b9b-7ede12d2b225 button.colab-df-convert');\n",
              "        buttonEl.style.display =\n",
              "          google.colab.kernel.accessAllowed ? 'block' : 'none';\n",
              "\n",
              "        async function convertToInteractive(key) {\n",
              "          const element = document.querySelector('#df-59358ef2-b2c2-4081-9b9b-7ede12d2b225');\n",
              "          const dataTable =\n",
              "            await google.colab.kernel.invokeFunction('convertToInteractive',\n",
              "                                                     [key], {});\n",
              "          if (!dataTable) return;\n",
              "\n",
              "          const docLinkHtml = 'Like what you see? Visit the ' +\n",
              "            '<a target=\"_blank\" href=https://colab.research.google.com/notebooks/data_table.ipynb>data table notebook</a>'\n",
              "            + ' to learn more about interactive tables.';\n",
              "          element.innerHTML = '';\n",
              "          dataTable['output_type'] = 'display_data';\n",
              "          await google.colab.output.renderOutput(dataTable, element);\n",
              "          const docLink = document.createElement('div');\n",
              "          docLink.innerHTML = docLinkHtml;\n",
              "          element.appendChild(docLink);\n",
              "        }\n",
              "      </script>\n",
              "    </div>\n",
              "  </div>\n",
              "  "
            ]
          },
          "metadata": {},
          "execution_count": 44
        }
      ],
      "source": [
        "print(user_input)\n",
        "similar_vehicles"
      ]
    },
    {
      "cell_type": "code",
      "execution_count": null,
      "metadata": {
        "id": "NpOfYCf6zNIs"
      },
      "outputs": [],
      "source": [
        "# def get_knn_recommendation(knn_model,user_input,dataset):\n",
        "#     distances, indices = knn.kneighbors(user_input)\n",
        "#     similar_vehicles = knn_carlist.iloc[indices[0], :]\n",
        "#     print(user_input) #[\"data_installment\", \"seat_capacity\", \"data_transmission\", \"engine_cc\", \"fuel_type\"]\n",
        "#     similar_vehicles[[\"data_installment\", \"seat_capacity\", \"data_transmission\", \"engine_cc\", \"fuel_type\"]]"
      ]
    },
    {
      "cell_type": "markdown",
      "source": [],
      "metadata": {
        "id": "CRXtC2xgJOA5"
      }
    },
    {
      "cell_type": "markdown",
      "metadata": {
        "id": "VcHq3ZW8fnC-"
      },
      "source": [
        "\n",
        "## 4.2 Cosine similiarity\n",
        "---\n",
        "\n",
        "This algorithm can be used to find the similarity between vehicles based on the user's preferred monthly installment, salary, and seat capacity. The algorithm works by calculating the cosine similarity between the user's input and the vehicles in the dataset, and then recommending the most similar vehicles."
      ]
    },
    {
      "cell_type": "code",
      "execution_count": null,
      "metadata": {
        "id": "X6x2qHyjUqjm"
      },
      "outputs": [],
      "source": [
        "from sklearn.metrics.pairwise import cosine_similarity"
      ]
    },
    {
      "cell_type": "code",
      "execution_count": null,
      "metadata": {
        "id": "TIS4HrXkzNIs"
      },
      "outputs": [],
      "source": [
        "cs_carlist = df_carlist03.copy()"
      ]
    },
    {
      "cell_type": "code",
      "execution_count": null,
      "metadata": {
        "id": "07oA9BZ5zNIs"
      },
      "outputs": [],
      "source": [
        "cs_user_input = mock_user_input.iloc[0:1,1:] #test"
      ]
    },
    {
      "cell_type": "code",
      "execution_count": null,
      "metadata": {
        "id": "8KhjzJTRzNIs"
      },
      "outputs": [],
      "source": [
        "# Calculate cosine similarity\n",
        "#print(cs_user_input.ndim,cs_carlist[features].ndim)\n",
        "similarities = cosine_similarity(cs_user_input,cs_carlist[features])"
      ]
    },
    {
      "cell_type": "code",
      "execution_count": null,
      "metadata": {
        "id": "5X_rTjHTzNIs",
        "outputId": "a9997584-5817-4387-9ecd-6b94ff8b40a8",
        "colab": {
          "base_uri": "https://localhost:8080/"
        }
      },
      "outputs": [
        {
          "output_type": "stream",
          "name": "stdout",
          "text": [
            "   data_installment  seat_capacity  data_transmission  engine_cc  fuel_type\n",
            "0              1042              6                  0       1469          1\n"
          ]
        }
      ],
      "source": [
        "# Find the top 5 most similar vehicles\n",
        "cs_recommended_items_index = similarities.flatten().argsort()[-10:][::-1]\n",
        "print(cs_user_input)\n",
        "cs_recommended_items = cs_carlist.iloc[cs_recommended_items_index,:]"
      ]
    },
    {
      "cell_type": "code",
      "execution_count": null,
      "metadata": {
        "collapsed": true,
        "id": "6bSP7dV6zNIt",
        "outputId": "81b39fb4-a5a0-4db0-dd70-414f895473f3",
        "colab": {
          "base_uri": "https://localhost:8080/"
        }
      },
      "outputs": [
        {
          "output_type": "stream",
          "name": "stderr",
          "text": [
            "/usr/local/lib/python3.8/dist-packages/pandas/core/indexing.py:1684: SettingWithCopyWarning:\n",
            "\n",
            "\n",
            "A value is trying to be set on a copy of a slice from a DataFrame.\n",
            "Try using .loc[row_indexer,col_indexer] = value instead\n",
            "\n",
            "See the caveats in the documentation: https://pandas.pydata.org/pandas-docs/stable/user_guide/indexing.html#returning-a-view-versus-a-copy\n",
            "\n",
            "/usr/local/lib/python3.8/dist-packages/pandas/core/indexing.py:1817: SettingWithCopyWarning:\n",
            "\n",
            "\n",
            "A value is trying to be set on a copy of a slice from a DataFrame.\n",
            "Try using .loc[row_indexer,col_indexer] = value instead\n",
            "\n",
            "See the caveats in the documentation: https://pandas.pydata.org/pandas-docs/stable/user_guide/indexing.html#returning-a-view-versus-a-copy\n",
            "\n"
          ]
        }
      ],
      "source": [
        "from scipy.spatial import distance\n",
        "\n",
        "# Iterate over each row in the dataframe\n",
        "for i, row in cs_recommended_items.iterrows():\n",
        "    # Extract the features of the recommended items and user input\n",
        "    recommended_items =  np.array(row[features]).flatten()\n",
        "    user_input = np.array(cs_user_input).flatten()\n",
        "    # Compute the Euclidean distance\n",
        "    euclidean_distance = distance.euclidean(recommended_items, user_input)\n",
        "    \n",
        "    # Assign the Euclidean distance to the new column\n",
        "    cs_recommended_items.at[i, 'euclidean_distance'] = euclidean_distance"
      ]
    },
    {
      "cell_type": "code",
      "execution_count": null,
      "metadata": {
        "id": "jTgbrox6zNIt",
        "outputId": "f80c7e17-2103-408c-d1f5-4e5dd21b8415",
        "colab": {
          "base_uri": "https://localhost:8080/",
          "height": 461
        }
      },
      "outputs": [
        {
          "output_type": "stream",
          "name": "stdout",
          "text": [
            "   data_installment  seat_capacity  data_transmission  engine_cc  fuel_type\n",
            "0              1042              6                  0       1469          1\n"
          ]
        },
        {
          "output_type": "execute_result",
          "data": {
            "text/plain": [
              "      vehicle_id  data_installment  listing_price  data_make  data_model  \\\n",
              "3648     8633210              1063          82000         16          37   \n",
              "1069     9559129              1063          82000         16          37   \n",
              "4586     9323661              1063          82000         16          37   \n",
              "1951    10562740              1063          82000         16          23   \n",
              "3823     9309442              1063          82000         16          23   \n",
              "607      7647698              1060          81800         36         139   \n",
              "5495     9831866              1060          81800         36         139   \n",
              "2750    10539555              1060          81800         36         126   \n",
              "4581    10446237              1060          81800         36         126   \n",
              "5496     9831779              1060          81800         36         139   \n",
              "\n",
              "      data_year  data_mileage  data_transmission  doors  seat_capacity  \\\n",
              "3648       2022             0                  0    5.0            5.0   \n",
              "1069       2023             0                  0    5.0            5.0   \n",
              "4586       2022             0                  0    5.0            5.0   \n",
              "1951       2022             0                  0    5.0            7.0   \n",
              "3823       2022             0                  0    5.0            7.0   \n",
              "607        2021             0                  0    5.0            5.0   \n",
              "5495       2022             0                  0    5.0            5.0   \n",
              "2750       2022             1                  0    4.0            5.0   \n",
              "4581       2022             1                  0    4.0            5.0   \n",
              "5496       2022             0                  0    5.0            5.0   \n",
              "\n",
              "      assembled  engine_cc  peak_power  peak_torque  engine_type  fuel_type  \\\n",
              "3648          0     1498.0       121.0        145.0            1          3   \n",
              "1069          0     1498.0       121.0        145.0            1          3   \n",
              "4586          0     1498.0       121.0        145.0            1          3   \n",
              "1951          0     1497.0       120.0        145.0            1          3   \n",
              "3823          0     1497.0       120.0        145.0            1          3   \n",
              "607           0     1496.0       107.0        140.0            1          3   \n",
              "5495          0     1496.0       107.0        140.0            1          3   \n",
              "2750          0     1496.0       107.0        140.0            1          3   \n",
              "4581          0     1496.0       107.0        140.0            1          3   \n",
              "5496          0     1496.0       107.0        140.0            1          3   \n",
              "\n",
              "      euclidean_distance  \n",
              "3648           35.874782  \n",
              "1069           35.874782  \n",
              "4586           35.874782  \n",
              "1951           35.071356  \n",
              "3823           35.071356  \n",
              "607            32.526912  \n",
              "5495           32.526912  \n",
              "2750           32.526912  \n",
              "4581           32.526912  \n",
              "5496           32.526912  "
            ],
            "text/html": [
              "\n",
              "  <div id=\"df-077eaf8a-c110-4bf7-98d3-b9e42590ad29\">\n",
              "    <div class=\"colab-df-container\">\n",
              "      <div>\n",
              "<style scoped>\n",
              "    .dataframe tbody tr th:only-of-type {\n",
              "        vertical-align: middle;\n",
              "    }\n",
              "\n",
              "    .dataframe tbody tr th {\n",
              "        vertical-align: top;\n",
              "    }\n",
              "\n",
              "    .dataframe thead th {\n",
              "        text-align: right;\n",
              "    }\n",
              "</style>\n",
              "<table border=\"1\" class=\"dataframe\">\n",
              "  <thead>\n",
              "    <tr style=\"text-align: right;\">\n",
              "      <th></th>\n",
              "      <th>vehicle_id</th>\n",
              "      <th>data_installment</th>\n",
              "      <th>listing_price</th>\n",
              "      <th>data_make</th>\n",
              "      <th>data_model</th>\n",
              "      <th>data_year</th>\n",
              "      <th>data_mileage</th>\n",
              "      <th>data_transmission</th>\n",
              "      <th>doors</th>\n",
              "      <th>seat_capacity</th>\n",
              "      <th>assembled</th>\n",
              "      <th>engine_cc</th>\n",
              "      <th>peak_power</th>\n",
              "      <th>peak_torque</th>\n",
              "      <th>engine_type</th>\n",
              "      <th>fuel_type</th>\n",
              "      <th>euclidean_distance</th>\n",
              "    </tr>\n",
              "  </thead>\n",
              "  <tbody>\n",
              "    <tr>\n",
              "      <th>3648</th>\n",
              "      <td>8633210</td>\n",
              "      <td>1063</td>\n",
              "      <td>82000</td>\n",
              "      <td>16</td>\n",
              "      <td>37</td>\n",
              "      <td>2022</td>\n",
              "      <td>0</td>\n",
              "      <td>0</td>\n",
              "      <td>5.0</td>\n",
              "      <td>5.0</td>\n",
              "      <td>0</td>\n",
              "      <td>1498.0</td>\n",
              "      <td>121.0</td>\n",
              "      <td>145.0</td>\n",
              "      <td>1</td>\n",
              "      <td>3</td>\n",
              "      <td>35.874782</td>\n",
              "    </tr>\n",
              "    <tr>\n",
              "      <th>1069</th>\n",
              "      <td>9559129</td>\n",
              "      <td>1063</td>\n",
              "      <td>82000</td>\n",
              "      <td>16</td>\n",
              "      <td>37</td>\n",
              "      <td>2023</td>\n",
              "      <td>0</td>\n",
              "      <td>0</td>\n",
              "      <td>5.0</td>\n",
              "      <td>5.0</td>\n",
              "      <td>0</td>\n",
              "      <td>1498.0</td>\n",
              "      <td>121.0</td>\n",
              "      <td>145.0</td>\n",
              "      <td>1</td>\n",
              "      <td>3</td>\n",
              "      <td>35.874782</td>\n",
              "    </tr>\n",
              "    <tr>\n",
              "      <th>4586</th>\n",
              "      <td>9323661</td>\n",
              "      <td>1063</td>\n",
              "      <td>82000</td>\n",
              "      <td>16</td>\n",
              "      <td>37</td>\n",
              "      <td>2022</td>\n",
              "      <td>0</td>\n",
              "      <td>0</td>\n",
              "      <td>5.0</td>\n",
              "      <td>5.0</td>\n",
              "      <td>0</td>\n",
              "      <td>1498.0</td>\n",
              "      <td>121.0</td>\n",
              "      <td>145.0</td>\n",
              "      <td>1</td>\n",
              "      <td>3</td>\n",
              "      <td>35.874782</td>\n",
              "    </tr>\n",
              "    <tr>\n",
              "      <th>1951</th>\n",
              "      <td>10562740</td>\n",
              "      <td>1063</td>\n",
              "      <td>82000</td>\n",
              "      <td>16</td>\n",
              "      <td>23</td>\n",
              "      <td>2022</td>\n",
              "      <td>0</td>\n",
              "      <td>0</td>\n",
              "      <td>5.0</td>\n",
              "      <td>7.0</td>\n",
              "      <td>0</td>\n",
              "      <td>1497.0</td>\n",
              "      <td>120.0</td>\n",
              "      <td>145.0</td>\n",
              "      <td>1</td>\n",
              "      <td>3</td>\n",
              "      <td>35.071356</td>\n",
              "    </tr>\n",
              "    <tr>\n",
              "      <th>3823</th>\n",
              "      <td>9309442</td>\n",
              "      <td>1063</td>\n",
              "      <td>82000</td>\n",
              "      <td>16</td>\n",
              "      <td>23</td>\n",
              "      <td>2022</td>\n",
              "      <td>0</td>\n",
              "      <td>0</td>\n",
              "      <td>5.0</td>\n",
              "      <td>7.0</td>\n",
              "      <td>0</td>\n",
              "      <td>1497.0</td>\n",
              "      <td>120.0</td>\n",
              "      <td>145.0</td>\n",
              "      <td>1</td>\n",
              "      <td>3</td>\n",
              "      <td>35.071356</td>\n",
              "    </tr>\n",
              "    <tr>\n",
              "      <th>607</th>\n",
              "      <td>7647698</td>\n",
              "      <td>1060</td>\n",
              "      <td>81800</td>\n",
              "      <td>36</td>\n",
              "      <td>139</td>\n",
              "      <td>2021</td>\n",
              "      <td>0</td>\n",
              "      <td>0</td>\n",
              "      <td>5.0</td>\n",
              "      <td>5.0</td>\n",
              "      <td>0</td>\n",
              "      <td>1496.0</td>\n",
              "      <td>107.0</td>\n",
              "      <td>140.0</td>\n",
              "      <td>1</td>\n",
              "      <td>3</td>\n",
              "      <td>32.526912</td>\n",
              "    </tr>\n",
              "    <tr>\n",
              "      <th>5495</th>\n",
              "      <td>9831866</td>\n",
              "      <td>1060</td>\n",
              "      <td>81800</td>\n",
              "      <td>36</td>\n",
              "      <td>139</td>\n",
              "      <td>2022</td>\n",
              "      <td>0</td>\n",
              "      <td>0</td>\n",
              "      <td>5.0</td>\n",
              "      <td>5.0</td>\n",
              "      <td>0</td>\n",
              "      <td>1496.0</td>\n",
              "      <td>107.0</td>\n",
              "      <td>140.0</td>\n",
              "      <td>1</td>\n",
              "      <td>3</td>\n",
              "      <td>32.526912</td>\n",
              "    </tr>\n",
              "    <tr>\n",
              "      <th>2750</th>\n",
              "      <td>10539555</td>\n",
              "      <td>1060</td>\n",
              "      <td>81800</td>\n",
              "      <td>36</td>\n",
              "      <td>126</td>\n",
              "      <td>2022</td>\n",
              "      <td>1</td>\n",
              "      <td>0</td>\n",
              "      <td>4.0</td>\n",
              "      <td>5.0</td>\n",
              "      <td>0</td>\n",
              "      <td>1496.0</td>\n",
              "      <td>107.0</td>\n",
              "      <td>140.0</td>\n",
              "      <td>1</td>\n",
              "      <td>3</td>\n",
              "      <td>32.526912</td>\n",
              "    </tr>\n",
              "    <tr>\n",
              "      <th>4581</th>\n",
              "      <td>10446237</td>\n",
              "      <td>1060</td>\n",
              "      <td>81800</td>\n",
              "      <td>36</td>\n",
              "      <td>126</td>\n",
              "      <td>2022</td>\n",
              "      <td>1</td>\n",
              "      <td>0</td>\n",
              "      <td>4.0</td>\n",
              "      <td>5.0</td>\n",
              "      <td>0</td>\n",
              "      <td>1496.0</td>\n",
              "      <td>107.0</td>\n",
              "      <td>140.0</td>\n",
              "      <td>1</td>\n",
              "      <td>3</td>\n",
              "      <td>32.526912</td>\n",
              "    </tr>\n",
              "    <tr>\n",
              "      <th>5496</th>\n",
              "      <td>9831779</td>\n",
              "      <td>1060</td>\n",
              "      <td>81800</td>\n",
              "      <td>36</td>\n",
              "      <td>139</td>\n",
              "      <td>2022</td>\n",
              "      <td>0</td>\n",
              "      <td>0</td>\n",
              "      <td>5.0</td>\n",
              "      <td>5.0</td>\n",
              "      <td>0</td>\n",
              "      <td>1496.0</td>\n",
              "      <td>107.0</td>\n",
              "      <td>140.0</td>\n",
              "      <td>1</td>\n",
              "      <td>3</td>\n",
              "      <td>32.526912</td>\n",
              "    </tr>\n",
              "  </tbody>\n",
              "</table>\n",
              "</div>\n",
              "      <button class=\"colab-df-convert\" onclick=\"convertToInteractive('df-077eaf8a-c110-4bf7-98d3-b9e42590ad29')\"\n",
              "              title=\"Convert this dataframe to an interactive table.\"\n",
              "              style=\"display:none;\">\n",
              "        \n",
              "  <svg xmlns=\"http://www.w3.org/2000/svg\" height=\"24px\"viewBox=\"0 0 24 24\"\n",
              "       width=\"24px\">\n",
              "    <path d=\"M0 0h24v24H0V0z\" fill=\"none\"/>\n",
              "    <path d=\"M18.56 5.44l.94 2.06.94-2.06 2.06-.94-2.06-.94-.94-2.06-.94 2.06-2.06.94zm-11 1L8.5 8.5l.94-2.06 2.06-.94-2.06-.94L8.5 2.5l-.94 2.06-2.06.94zm10 10l.94 2.06.94-2.06 2.06-.94-2.06-.94-.94-2.06-.94 2.06-2.06.94z\"/><path d=\"M17.41 7.96l-1.37-1.37c-.4-.4-.92-.59-1.43-.59-.52 0-1.04.2-1.43.59L10.3 9.45l-7.72 7.72c-.78.78-.78 2.05 0 2.83L4 21.41c.39.39.9.59 1.41.59.51 0 1.02-.2 1.41-.59l7.78-7.78 2.81-2.81c.8-.78.8-2.07 0-2.86zM5.41 20L4 18.59l7.72-7.72 1.47 1.35L5.41 20z\"/>\n",
              "  </svg>\n",
              "      </button>\n",
              "      \n",
              "  <style>\n",
              "    .colab-df-container {\n",
              "      display:flex;\n",
              "      flex-wrap:wrap;\n",
              "      gap: 12px;\n",
              "    }\n",
              "\n",
              "    .colab-df-convert {\n",
              "      background-color: #E8F0FE;\n",
              "      border: none;\n",
              "      border-radius: 50%;\n",
              "      cursor: pointer;\n",
              "      display: none;\n",
              "      fill: #1967D2;\n",
              "      height: 32px;\n",
              "      padding: 0 0 0 0;\n",
              "      width: 32px;\n",
              "    }\n",
              "\n",
              "    .colab-df-convert:hover {\n",
              "      background-color: #E2EBFA;\n",
              "      box-shadow: 0px 1px 2px rgba(60, 64, 67, 0.3), 0px 1px 3px 1px rgba(60, 64, 67, 0.15);\n",
              "      fill: #174EA6;\n",
              "    }\n",
              "\n",
              "    [theme=dark] .colab-df-convert {\n",
              "      background-color: #3B4455;\n",
              "      fill: #D2E3FC;\n",
              "    }\n",
              "\n",
              "    [theme=dark] .colab-df-convert:hover {\n",
              "      background-color: #434B5C;\n",
              "      box-shadow: 0px 1px 3px 1px rgba(0, 0, 0, 0.15);\n",
              "      filter: drop-shadow(0px 1px 2px rgba(0, 0, 0, 0.3));\n",
              "      fill: #FFFFFF;\n",
              "    }\n",
              "  </style>\n",
              "\n",
              "      <script>\n",
              "        const buttonEl =\n",
              "          document.querySelector('#df-077eaf8a-c110-4bf7-98d3-b9e42590ad29 button.colab-df-convert');\n",
              "        buttonEl.style.display =\n",
              "          google.colab.kernel.accessAllowed ? 'block' : 'none';\n",
              "\n",
              "        async function convertToInteractive(key) {\n",
              "          const element = document.querySelector('#df-077eaf8a-c110-4bf7-98d3-b9e42590ad29');\n",
              "          const dataTable =\n",
              "            await google.colab.kernel.invokeFunction('convertToInteractive',\n",
              "                                                     [key], {});\n",
              "          if (!dataTable) return;\n",
              "\n",
              "          const docLinkHtml = 'Like what you see? Visit the ' +\n",
              "            '<a target=\"_blank\" href=https://colab.research.google.com/notebooks/data_table.ipynb>data table notebook</a>'\n",
              "            + ' to learn more about interactive tables.';\n",
              "          element.innerHTML = '';\n",
              "          dataTable['output_type'] = 'display_data';\n",
              "          await google.colab.output.renderOutput(dataTable, element);\n",
              "          const docLink = document.createElement('div');\n",
              "          docLink.innerHTML = docLinkHtml;\n",
              "          element.appendChild(docLink);\n",
              "        }\n",
              "      </script>\n",
              "    </div>\n",
              "  </div>\n",
              "  "
            ]
          },
          "metadata": {},
          "execution_count": 52
        }
      ],
      "source": [
        "print(cs_user_input)\n",
        "cs_recommended_items"
      ]
    },
    {
      "cell_type": "markdown",
      "metadata": {
        "id": "s3lMqpH5zNIt"
      },
      "source": [
        "## 4.3 Information Retrieval (IR)\n",
        "---\n",
        "Information Retrieval (IR) is a technique used to retrieve relevant documents from a large collection of documents based on a user's query. To build a vehicle recommendation system using IR, we will treat the user input as a \"query\" and use the vehicle data as the \"documents\" and use a technique called \"text-based retrieval\" to rank the vehicles based on their relevance to the user input."
      ]
    },
    {
      "cell_type": "code",
      "execution_count": null,
      "metadata": {
        "id": "1AvaVT4nzNIt"
      },
      "outputs": [],
      "source": [
        "from sklearn.feature_extraction.text import TfidfVectorizer\n",
        "\n",
        "# Load the vehicle dataset\n",
        "ir_carlist = df_carlist03.copy()\n",
        "\n",
        "# Prepare the data for the vectorizer\n",
        "ir_carlist['all_features'] = ir_carlist[features].apply(lambda x: ' '.join(x.astype(str)), axis=1)"
      ]
    },
    {
      "cell_type": "code",
      "execution_count": null,
      "metadata": {
        "id": "1JaHR5UHzNIt"
      },
      "outputs": [],
      "source": [
        "ir_carlist['all_features']"
      ]
    },
    {
      "cell_type": "code",
      "execution_count": null,
      "metadata": {
        "id": "XBHBr5ngzNIu"
      },
      "outputs": [],
      "source": [
        "# Get user input\n",
        "ir_user_input = mock_user_input.iloc[0:1,1:] #test\n",
        "\n",
        "ir_user_input = ir_user_input.apply(lambda x: ' '.join(x.astype(str)), axis=1)\n",
        "ir_user_input"
      ]
    },
    {
      "cell_type": "code",
      "execution_count": null,
      "metadata": {
        "scrolled": true,
        "id": "WVF5UTJbzNIu"
      },
      "outputs": [],
      "source": [
        "# Create the vectorizer\n",
        "vectorizer = TfidfVectorizer()\n",
        "\n",
        "# Fit the vectorizer to the data\n",
        "vectorizer.fit(ir_carlist['all_features'])"
      ]
    },
    {
      "cell_type": "code",
      "execution_count": null,
      "metadata": {
        "id": "saIen6-FzNIu"
      },
      "outputs": [],
      "source": [
        "# Transform the user input and the vehicle data\n",
        "user_input_vec = vectorizer.transform(ir_user_input)\n",
        "vehicle_vecs = vectorizer.transform(ir_carlist['all_features'])"
      ]
    },
    {
      "cell_type": "code",
      "execution_count": null,
      "metadata": {
        "id": "OlDyoJdszNIu"
      },
      "outputs": [],
      "source": [
        "# Calculate the cosine similarity between the user input and the vehicle data\n",
        "from sklearn.metrics.pairwise import cosine_similarity\n",
        "ir_similarities = cosine_similarity(user_input_vec, vehicle_vecs)"
      ]
    },
    {
      "cell_type": "code",
      "execution_count": null,
      "metadata": {
        "id": "r9Zc4P5UzNIu",
        "outputId": "aab5dc89-64f3-4265-d3c7-24a3c4fc2398",
        "colab": {
          "base_uri": "https://localhost:8080/"
        }
      },
      "outputs": [
        {
          "output_type": "stream",
          "name": "stdout",
          "text": [
            "0    1042 6 0 1469 1\n",
            "dtype: object\n"
          ]
        }
      ],
      "source": [
        "# Find the top 5 most similar vehicles\n",
        "top5_ir_index = ir_similarities.flatten().argsort()[-5:][::-1]\n",
        "print(ir_user_input)\n",
        "ir_recommended_items = ir_carlist.iloc[top5_ir_index,:]"
      ]
    },
    {
      "cell_type": "code",
      "execution_count": null,
      "metadata": {
        "collapsed": true,
        "id": "myDjhG1tzNIu",
        "outputId": "f18a3f3a-0069-4545-cb55-52c5f786ee59",
        "colab": {
          "base_uri": "https://localhost:8080/"
        }
      },
      "outputs": [
        {
          "output_type": "stream",
          "name": "stderr",
          "text": [
            "/usr/local/lib/python3.8/dist-packages/pandas/core/indexing.py:1684: SettingWithCopyWarning:\n",
            "\n",
            "\n",
            "A value is trying to be set on a copy of a slice from a DataFrame.\n",
            "Try using .loc[row_indexer,col_indexer] = value instead\n",
            "\n",
            "See the caveats in the documentation: https://pandas.pydata.org/pandas-docs/stable/user_guide/indexing.html#returning-a-view-versus-a-copy\n",
            "\n",
            "/usr/local/lib/python3.8/dist-packages/pandas/core/indexing.py:1817: SettingWithCopyWarning:\n",
            "\n",
            "\n",
            "A value is trying to be set on a copy of a slice from a DataFrame.\n",
            "Try using .loc[row_indexer,col_indexer] = value instead\n",
            "\n",
            "See the caveats in the documentation: https://pandas.pydata.org/pandas-docs/stable/user_guide/indexing.html#returning-a-view-versus-a-copy\n",
            "\n"
          ]
        }
      ],
      "source": [
        "# Iterate over each row in the dataframe\n",
        "for i, row in ir_recommended_items.iterrows():\n",
        "    # Extract the features of the recommended items and user input\n",
        "    recommended_items =  np.array(row[features]).flatten()\n",
        "    user_input = np.array(cs_user_input).flatten()\n",
        "    # Compute the Euclidean distance\n",
        "    euclidean_distance = distance.euclidean(recommended_items, user_input)\n",
        "    \n",
        "    # Assign the Euclidean distance to the new column\n",
        "    ir_recommended_items.at[i, 'euclidean_distance'] = euclidean_distance"
      ]
    },
    {
      "cell_type": "code",
      "execution_count": null,
      "metadata": {
        "id": "vGbJ2N9wzNIv",
        "outputId": "cc9372e9-f6f2-44aa-9b33-47a81d7e5052",
        "colab": {
          "base_uri": "https://localhost:8080/",
          "height": 391
        }
      },
      "outputs": [
        {
          "output_type": "stream",
          "name": "stdout",
          "text": [
            "0    1042 6 0 1469 1\n",
            "dtype: object\n"
          ]
        },
        {
          "output_type": "execute_result",
          "data": {
            "text/plain": [
              "      vehicle_id  data_installment  listing_price  data_make  data_model  \\\n",
              "5065     9898687              1469         113300         16          72   \n",
              "5204     9838077              1469         113300         16          72   \n",
              "5339     9963027              1469         113300         16          72   \n",
              "5174     9837976              1469         113300         16          72   \n",
              "1831     8795053              1469         113300         31         130   \n",
              "\n",
              "      data_year  data_mileage  data_transmission  doors  seat_capacity  \\\n",
              "5065       2022             0                  0    5.0            5.0   \n",
              "5204       2022             0                  0    5.0            5.0   \n",
              "5339       2022             0                  0    5.0            5.0   \n",
              "5174       2022             0                  0    5.0            5.0   \n",
              "1831       2022             0                  0    5.0            5.0   \n",
              "\n",
              "      assembled  engine_cc  peak_power  peak_torque  engine_type  fuel_type  \\\n",
              "5065          0     1498.0       107.0        131.0            1          2   \n",
              "5204          0     1498.0       107.0        131.0            1          2   \n",
              "5339          0     1498.0       181.0        240.0            1          3   \n",
              "5174          0     1498.0       121.0        145.0            1          3   \n",
              "1831          0     1477.0       177.0        255.0            1          3   \n",
              "\n",
              "                   all_features  euclidean_distance  \n",
              "5065  1469.0 5.0 0.0 1498.0 2.0          427.985981  \n",
              "5204  1469.0 5.0 0.0 1498.0 2.0          427.985981  \n",
              "5339  1469.0 5.0 0.0 1498.0 3.0          427.989486  \n",
              "5174  1469.0 5.0 0.0 1498.0 3.0          427.989486  \n",
              "1831  1469.0 5.0 0.0 1477.0 3.0          427.080789  "
            ],
            "text/html": [
              "\n",
              "  <div id=\"df-14a80a01-c3b2-467e-8110-3d9ae4336923\">\n",
              "    <div class=\"colab-df-container\">\n",
              "      <div>\n",
              "<style scoped>\n",
              "    .dataframe tbody tr th:only-of-type {\n",
              "        vertical-align: middle;\n",
              "    }\n",
              "\n",
              "    .dataframe tbody tr th {\n",
              "        vertical-align: top;\n",
              "    }\n",
              "\n",
              "    .dataframe thead th {\n",
              "        text-align: right;\n",
              "    }\n",
              "</style>\n",
              "<table border=\"1\" class=\"dataframe\">\n",
              "  <thead>\n",
              "    <tr style=\"text-align: right;\">\n",
              "      <th></th>\n",
              "      <th>vehicle_id</th>\n",
              "      <th>data_installment</th>\n",
              "      <th>listing_price</th>\n",
              "      <th>data_make</th>\n",
              "      <th>data_model</th>\n",
              "      <th>data_year</th>\n",
              "      <th>data_mileage</th>\n",
              "      <th>data_transmission</th>\n",
              "      <th>doors</th>\n",
              "      <th>seat_capacity</th>\n",
              "      <th>assembled</th>\n",
              "      <th>engine_cc</th>\n",
              "      <th>peak_power</th>\n",
              "      <th>peak_torque</th>\n",
              "      <th>engine_type</th>\n",
              "      <th>fuel_type</th>\n",
              "      <th>all_features</th>\n",
              "      <th>euclidean_distance</th>\n",
              "    </tr>\n",
              "  </thead>\n",
              "  <tbody>\n",
              "    <tr>\n",
              "      <th>5065</th>\n",
              "      <td>9898687</td>\n",
              "      <td>1469</td>\n",
              "      <td>113300</td>\n",
              "      <td>16</td>\n",
              "      <td>72</td>\n",
              "      <td>2022</td>\n",
              "      <td>0</td>\n",
              "      <td>0</td>\n",
              "      <td>5.0</td>\n",
              "      <td>5.0</td>\n",
              "      <td>0</td>\n",
              "      <td>1498.0</td>\n",
              "      <td>107.0</td>\n",
              "      <td>131.0</td>\n",
              "      <td>1</td>\n",
              "      <td>2</td>\n",
              "      <td>1469.0 5.0 0.0 1498.0 2.0</td>\n",
              "      <td>427.985981</td>\n",
              "    </tr>\n",
              "    <tr>\n",
              "      <th>5204</th>\n",
              "      <td>9838077</td>\n",
              "      <td>1469</td>\n",
              "      <td>113300</td>\n",
              "      <td>16</td>\n",
              "      <td>72</td>\n",
              "      <td>2022</td>\n",
              "      <td>0</td>\n",
              "      <td>0</td>\n",
              "      <td>5.0</td>\n",
              "      <td>5.0</td>\n",
              "      <td>0</td>\n",
              "      <td>1498.0</td>\n",
              "      <td>107.0</td>\n",
              "      <td>131.0</td>\n",
              "      <td>1</td>\n",
              "      <td>2</td>\n",
              "      <td>1469.0 5.0 0.0 1498.0 2.0</td>\n",
              "      <td>427.985981</td>\n",
              "    </tr>\n",
              "    <tr>\n",
              "      <th>5339</th>\n",
              "      <td>9963027</td>\n",
              "      <td>1469</td>\n",
              "      <td>113300</td>\n",
              "      <td>16</td>\n",
              "      <td>72</td>\n",
              "      <td>2022</td>\n",
              "      <td>0</td>\n",
              "      <td>0</td>\n",
              "      <td>5.0</td>\n",
              "      <td>5.0</td>\n",
              "      <td>0</td>\n",
              "      <td>1498.0</td>\n",
              "      <td>181.0</td>\n",
              "      <td>240.0</td>\n",
              "      <td>1</td>\n",
              "      <td>3</td>\n",
              "      <td>1469.0 5.0 0.0 1498.0 3.0</td>\n",
              "      <td>427.989486</td>\n",
              "    </tr>\n",
              "    <tr>\n",
              "      <th>5174</th>\n",
              "      <td>9837976</td>\n",
              "      <td>1469</td>\n",
              "      <td>113300</td>\n",
              "      <td>16</td>\n",
              "      <td>72</td>\n",
              "      <td>2022</td>\n",
              "      <td>0</td>\n",
              "      <td>0</td>\n",
              "      <td>5.0</td>\n",
              "      <td>5.0</td>\n",
              "      <td>0</td>\n",
              "      <td>1498.0</td>\n",
              "      <td>121.0</td>\n",
              "      <td>145.0</td>\n",
              "      <td>1</td>\n",
              "      <td>3</td>\n",
              "      <td>1469.0 5.0 0.0 1498.0 3.0</td>\n",
              "      <td>427.989486</td>\n",
              "    </tr>\n",
              "    <tr>\n",
              "      <th>1831</th>\n",
              "      <td>8795053</td>\n",
              "      <td>1469</td>\n",
              "      <td>113300</td>\n",
              "      <td>31</td>\n",
              "      <td>130</td>\n",
              "      <td>2022</td>\n",
              "      <td>0</td>\n",
              "      <td>0</td>\n",
              "      <td>5.0</td>\n",
              "      <td>5.0</td>\n",
              "      <td>0</td>\n",
              "      <td>1477.0</td>\n",
              "      <td>177.0</td>\n",
              "      <td>255.0</td>\n",
              "      <td>1</td>\n",
              "      <td>3</td>\n",
              "      <td>1469.0 5.0 0.0 1477.0 3.0</td>\n",
              "      <td>427.080789</td>\n",
              "    </tr>\n",
              "  </tbody>\n",
              "</table>\n",
              "</div>\n",
              "      <button class=\"colab-df-convert\" onclick=\"convertToInteractive('df-14a80a01-c3b2-467e-8110-3d9ae4336923')\"\n",
              "              title=\"Convert this dataframe to an interactive table.\"\n",
              "              style=\"display:none;\">\n",
              "        \n",
              "  <svg xmlns=\"http://www.w3.org/2000/svg\" height=\"24px\"viewBox=\"0 0 24 24\"\n",
              "       width=\"24px\">\n",
              "    <path d=\"M0 0h24v24H0V0z\" fill=\"none\"/>\n",
              "    <path d=\"M18.56 5.44l.94 2.06.94-2.06 2.06-.94-2.06-.94-.94-2.06-.94 2.06-2.06.94zm-11 1L8.5 8.5l.94-2.06 2.06-.94-2.06-.94L8.5 2.5l-.94 2.06-2.06.94zm10 10l.94 2.06.94-2.06 2.06-.94-2.06-.94-.94-2.06-.94 2.06-2.06.94z\"/><path d=\"M17.41 7.96l-1.37-1.37c-.4-.4-.92-.59-1.43-.59-.52 0-1.04.2-1.43.59L10.3 9.45l-7.72 7.72c-.78.78-.78 2.05 0 2.83L4 21.41c.39.39.9.59 1.41.59.51 0 1.02-.2 1.41-.59l7.78-7.78 2.81-2.81c.8-.78.8-2.07 0-2.86zM5.41 20L4 18.59l7.72-7.72 1.47 1.35L5.41 20z\"/>\n",
              "  </svg>\n",
              "      </button>\n",
              "      \n",
              "  <style>\n",
              "    .colab-df-container {\n",
              "      display:flex;\n",
              "      flex-wrap:wrap;\n",
              "      gap: 12px;\n",
              "    }\n",
              "\n",
              "    .colab-df-convert {\n",
              "      background-color: #E8F0FE;\n",
              "      border: none;\n",
              "      border-radius: 50%;\n",
              "      cursor: pointer;\n",
              "      display: none;\n",
              "      fill: #1967D2;\n",
              "      height: 32px;\n",
              "      padding: 0 0 0 0;\n",
              "      width: 32px;\n",
              "    }\n",
              "\n",
              "    .colab-df-convert:hover {\n",
              "      background-color: #E2EBFA;\n",
              "      box-shadow: 0px 1px 2px rgba(60, 64, 67, 0.3), 0px 1px 3px 1px rgba(60, 64, 67, 0.15);\n",
              "      fill: #174EA6;\n",
              "    }\n",
              "\n",
              "    [theme=dark] .colab-df-convert {\n",
              "      background-color: #3B4455;\n",
              "      fill: #D2E3FC;\n",
              "    }\n",
              "\n",
              "    [theme=dark] .colab-df-convert:hover {\n",
              "      background-color: #434B5C;\n",
              "      box-shadow: 0px 1px 3px 1px rgba(0, 0, 0, 0.15);\n",
              "      filter: drop-shadow(0px 1px 2px rgba(0, 0, 0, 0.3));\n",
              "      fill: #FFFFFF;\n",
              "    }\n",
              "  </style>\n",
              "\n",
              "      <script>\n",
              "        const buttonEl =\n",
              "          document.querySelector('#df-14a80a01-c3b2-467e-8110-3d9ae4336923 button.colab-df-convert');\n",
              "        buttonEl.style.display =\n",
              "          google.colab.kernel.accessAllowed ? 'block' : 'none';\n",
              "\n",
              "        async function convertToInteractive(key) {\n",
              "          const element = document.querySelector('#df-14a80a01-c3b2-467e-8110-3d9ae4336923');\n",
              "          const dataTable =\n",
              "            await google.colab.kernel.invokeFunction('convertToInteractive',\n",
              "                                                     [key], {});\n",
              "          if (!dataTable) return;\n",
              "\n",
              "          const docLinkHtml = 'Like what you see? Visit the ' +\n",
              "            '<a target=\"_blank\" href=https://colab.research.google.com/notebooks/data_table.ipynb>data table notebook</a>'\n",
              "            + ' to learn more about interactive tables.';\n",
              "          element.innerHTML = '';\n",
              "          dataTable['output_type'] = 'display_data';\n",
              "          await google.colab.output.renderOutput(dataTable, element);\n",
              "          const docLink = document.createElement('div');\n",
              "          docLink.innerHTML = docLinkHtml;\n",
              "          element.appendChild(docLink);\n",
              "        }\n",
              "      </script>\n",
              "    </div>\n",
              "  </div>\n",
              "  "
            ]
          },
          "metadata": {},
          "execution_count": 61
        }
      ],
      "source": [
        "print(ir_user_input)\n",
        "ir_recommended_items"
      ]
    },
    {
      "cell_type": "markdown",
      "metadata": {
        "id": "UufuKm2DzNIv"
      },
      "source": [
        "## 4.4 Support Vector Machine (SVM)\n",
        "----\n",
        "Support Vector Machine (SVM) is a supervised learning algorithm that is typically used for classification problems. To build a vehicle recommendation system using SVM, usually we need to have a dataset that includes both the vehicles data and the user's interaction data, in order to train the model to predict which vehicles a user is likely to be interested in.\n",
        "\n",
        "However, since we only have a set of vehicles data and a mocked user input, we need to approach the problem differently. One way to do this would be to use the vehicle features in the vehicle dataset to define a similarity measure between vehicles, and then use SVM to classify the vehicles based on their similarity to the mocked user input."
      ]
    },
    {
      "cell_type": "code",
      "execution_count": null,
      "metadata": {
        "id": "hch45FNtzNIv"
      },
      "outputs": [],
      "source": [
        "from sklearn import svm\n",
        "from sklearn.metrics import accuracy_score\n",
        "from sklearn.model_selection import train_test_split\n",
        "\n",
        "# Get the labels\n",
        "labels = vehicles['vehicle_type']\n",
        "\n",
        "# Get the features\n",
        "features = vehicles.drop(['vehicle_type'], axis=1)\n",
        "\n",
        "# Split the data into training and testing sets\n",
        "X_train, X_test, y_train, y_test = train_test_split(features, labels, test_size=0.2, random_state=42)\n",
        "\n",
        "# Initialize the SVM classifier\n",
        "clf = svm.SVC(kernel='linear', C=1)\n",
        "\n",
        "# Train the model on the training data\n",
        "clf.fit(X_train, y_train)\n",
        "\n",
        "# Predict the vehicle type of the user input\n",
        "user_input = {'data_installment': 200, 'seat_capacity': 5, 'engine_cc': 2000, 'data_transmission': 'Automatic', 'fuel_type': 'Petrol'}\n",
        "user_input = pd.DataFrame([user_input])\n",
        "predicted_vehicle_type = clf.predict(user_input)\n",
        "\n",
        "# Get the indices of all vehicles of the same type as the predicted vehicle type\n",
        "indices = vehicles[vehicles['vehicle_type'] == predicted_vehicle_type[0]].index"
      ]
    },
    {
      "cell_type": "markdown",
      "metadata": {
        "id": "Tn8_Rm25zNIv"
      },
      "source": [
        "## 4.5 Agglomerative Clustering\n",
        "----\n",
        "\n",
        "AgglomerativeClustering is a type of hierarchical clustering algorithm that can be used to group similar data points together in a dataset. It starts by treating each data point as a separate cluster and then iteratively merges the closest clusters until all data points are in one cluster or a stopping condition is reached.\n",
        "\n",
        "In the case of building a vehicle recommendation system, we used the AgglomerativeClustering algorithm to group similar vehicles together and then recommend vehicles from the same cluster to a user based on the user input. It can be a good approach if the user's preferences are not known or are not well defined, and the goal is to recommend vehicles that are similar to the vehicle features the user is looking for."
      ]
    },
    {
      "cell_type": "code",
      "execution_count": null,
      "metadata": {
        "id": "u6tpkFrRzNIv"
      },
      "outputs": [],
      "source": [
        "from sklearn.cluster import AgglomerativeClustering\n",
        "\n",
        "# Load the vehicle dataset\n",
        "ac_carlist = df_carlist03.copy()"
      ]
    },
    {
      "cell_type": "code",
      "execution_count": null,
      "metadata": {
        "id": "04BokqoCzNIv"
      },
      "outputs": [],
      "source": [
        "# Get user input\n",
        "ac_user_input = mock_user_input.iloc[356:357,1:] #test"
      ]
    },
    {
      "cell_type": "code",
      "execution_count": null,
      "metadata": {
        "id": "uCEjyTIXzNIv"
      },
      "outputs": [],
      "source": [
        "# Find the most similar vehicle to the user input\n",
        "ac_similarity = np.array([np.abs(ac_carlist[features].iloc[i] - ac_user_input).sum() for i in range(ac_carlist.shape[0])])"
      ]
    },
    {
      "cell_type": "code",
      "execution_count": null,
      "metadata": {
        "id": "iHXOPhgKzNIv",
        "outputId": "b8e7d117-de8b-4c58-c203-bc1664fbd8bc",
        "colab": {
          "base_uri": "https://localhost:8080/"
        }
      },
      "outputs": [
        {
          "output_type": "execute_result",
          "data": {
            "text/plain": [
              "AgglomerativeClustering(n_clusters=5)"
            ]
          },
          "metadata": {},
          "execution_count": 66
        }
      ],
      "source": [
        "# Cluster the vehicles using Agglomerative Clustering\n",
        "clustering = AgglomerativeClustering(n_clusters=5, linkage='ward')\n",
        "clustering.fit(ac_carlist)"
      ]
    },
    {
      "cell_type": "code",
      "execution_count": null,
      "metadata": {
        "id": "BKjSKFjHzNIw"
      },
      "outputs": [],
      "source": [
        "# Get the cluster label of the most similar vehicle\n",
        "cluster = clustering.labels_[ac_similarity.argmin()]\n",
        "cluster"
      ]
    },
    {
      "cell_type": "code",
      "execution_count": null,
      "metadata": {
        "id": "wTr55-x1zNIw"
      },
      "outputs": [],
      "source": [
        "# Get the indices of all vehicles in the same cluster\n",
        "indices = np.where(clustering.labels_ == cluster)[0]"
      ]
    },
    {
      "cell_type": "code",
      "execution_count": null,
      "metadata": {
        "collapsed": true,
        "id": "xHLT48bczNIw",
        "outputId": "b0c54920-94a3-41b4-c1c0-d24f2f258a72",
        "colab": {
          "base_uri": "https://localhost:8080/",
          "height": 522
        }
      },
      "outputs": [
        {
          "output_type": "stream",
          "name": "stdout",
          "text": [
            "     data_installment  seat_capacity  data_transmission  engine_cc  fuel_type\n",
            "356               717              5                  0       1162          2\n"
          ]
        },
        {
          "output_type": "execute_result",
          "data": {
            "text/plain": [
              "      vehicle_id  data_installment  listing_price  data_make  data_model  \\\n",
              "0       11207652              1694         130700         16          38   \n",
              "1       11219593              3876         299000         35          89   \n",
              "2       11185947              1157          89260         16          37   \n",
              "7       10778299              1097          84600         16          37   \n",
              "11      11188370              2917         224990         37          68   \n",
              "...          ...               ...            ...        ...         ...   \n",
              "4156    10797310               979          75500         29          18   \n",
              "4160    10790267               769          59300         31          79   \n",
              "4164    10789119               769          59300         31          79   \n",
              "4172    10776330              1272          98123         31         131   \n",
              "4173    10776218               807          62215         31          50   \n",
              "\n",
              "      data_year  data_mileage  data_transmission  doors  seat_capacity  \\\n",
              "0          2023             0                  0    4.0            5.0   \n",
              "1          2022             0                  0    4.0            5.0   \n",
              "2          2023             0                  0    4.0            5.0   \n",
              "7          2022             0                  0    5.0            5.0   \n",
              "11         2023             0                  0    5.0            5.0   \n",
              "...         ...           ...                ...    ...            ...   \n",
              "4156       2022             0                  0    5.0            7.0   \n",
              "4160       2022             0                  0    5.0            5.0   \n",
              "4164       2022             0                  0    5.0            5.0   \n",
              "4172       2022             0                  0    5.0            5.0   \n",
              "4173       2022             0                  0    5.0            7.0   \n",
              "\n",
              "      assembled  engine_cc  peak_power  peak_torque  engine_type  fuel_type  \n",
              "0             0     1498.0       182.0        240.0            1          3  \n",
              "1             2     1496.0       287.0        450.0            0          1  \n",
              "2             0     1498.0       121.0        145.0            1          3  \n",
              "7             0     1498.0       121.0        145.0            1          3  \n",
              "11            0     1984.0       245.0        370.0            1          3  \n",
              "...         ...        ...         ...          ...          ...        ...  \n",
              "4156          0     1495.0       103.0        136.0            1          3  \n",
              "4160          0     1597.0       109.0        150.0            1          3  \n",
              "4164          0     1597.0       109.0        150.0            1          3  \n",
              "4172          0     1477.0       177.0        255.0            1          3  \n",
              "4173          0     1561.0       140.0        205.0            1          3  \n",
              "\n",
              "[1134 rows x 16 columns]"
            ],
            "text/html": [
              "\n",
              "  <div id=\"df-823fb2a3-7ace-401d-accf-16e084b51428\">\n",
              "    <div class=\"colab-df-container\">\n",
              "      <div>\n",
              "<style scoped>\n",
              "    .dataframe tbody tr th:only-of-type {\n",
              "        vertical-align: middle;\n",
              "    }\n",
              "\n",
              "    .dataframe tbody tr th {\n",
              "        vertical-align: top;\n",
              "    }\n",
              "\n",
              "    .dataframe thead th {\n",
              "        text-align: right;\n",
              "    }\n",
              "</style>\n",
              "<table border=\"1\" class=\"dataframe\">\n",
              "  <thead>\n",
              "    <tr style=\"text-align: right;\">\n",
              "      <th></th>\n",
              "      <th>vehicle_id</th>\n",
              "      <th>data_installment</th>\n",
              "      <th>listing_price</th>\n",
              "      <th>data_make</th>\n",
              "      <th>data_model</th>\n",
              "      <th>data_year</th>\n",
              "      <th>data_mileage</th>\n",
              "      <th>data_transmission</th>\n",
              "      <th>doors</th>\n",
              "      <th>seat_capacity</th>\n",
              "      <th>assembled</th>\n",
              "      <th>engine_cc</th>\n",
              "      <th>peak_power</th>\n",
              "      <th>peak_torque</th>\n",
              "      <th>engine_type</th>\n",
              "      <th>fuel_type</th>\n",
              "    </tr>\n",
              "  </thead>\n",
              "  <tbody>\n",
              "    <tr>\n",
              "      <th>0</th>\n",
              "      <td>11207652</td>\n",
              "      <td>1694</td>\n",
              "      <td>130700</td>\n",
              "      <td>16</td>\n",
              "      <td>38</td>\n",
              "      <td>2023</td>\n",
              "      <td>0</td>\n",
              "      <td>0</td>\n",
              "      <td>4.0</td>\n",
              "      <td>5.0</td>\n",
              "      <td>0</td>\n",
              "      <td>1498.0</td>\n",
              "      <td>182.0</td>\n",
              "      <td>240.0</td>\n",
              "      <td>1</td>\n",
              "      <td>3</td>\n",
              "    </tr>\n",
              "    <tr>\n",
              "      <th>1</th>\n",
              "      <td>11219593</td>\n",
              "      <td>3876</td>\n",
              "      <td>299000</td>\n",
              "      <td>35</td>\n",
              "      <td>89</td>\n",
              "      <td>2022</td>\n",
              "      <td>0</td>\n",
              "      <td>0</td>\n",
              "      <td>4.0</td>\n",
              "      <td>5.0</td>\n",
              "      <td>2</td>\n",
              "      <td>1496.0</td>\n",
              "      <td>287.0</td>\n",
              "      <td>450.0</td>\n",
              "      <td>0</td>\n",
              "      <td>1</td>\n",
              "    </tr>\n",
              "    <tr>\n",
              "      <th>2</th>\n",
              "      <td>11185947</td>\n",
              "      <td>1157</td>\n",
              "      <td>89260</td>\n",
              "      <td>16</td>\n",
              "      <td>37</td>\n",
              "      <td>2023</td>\n",
              "      <td>0</td>\n",
              "      <td>0</td>\n",
              "      <td>4.0</td>\n",
              "      <td>5.0</td>\n",
              "      <td>0</td>\n",
              "      <td>1498.0</td>\n",
              "      <td>121.0</td>\n",
              "      <td>145.0</td>\n",
              "      <td>1</td>\n",
              "      <td>3</td>\n",
              "    </tr>\n",
              "    <tr>\n",
              "      <th>7</th>\n",
              "      <td>10778299</td>\n",
              "      <td>1097</td>\n",
              "      <td>84600</td>\n",
              "      <td>16</td>\n",
              "      <td>37</td>\n",
              "      <td>2022</td>\n",
              "      <td>0</td>\n",
              "      <td>0</td>\n",
              "      <td>5.0</td>\n",
              "      <td>5.0</td>\n",
              "      <td>0</td>\n",
              "      <td>1498.0</td>\n",
              "      <td>121.0</td>\n",
              "      <td>145.0</td>\n",
              "      <td>1</td>\n",
              "      <td>3</td>\n",
              "    </tr>\n",
              "    <tr>\n",
              "      <th>11</th>\n",
              "      <td>11188370</td>\n",
              "      <td>2917</td>\n",
              "      <td>224990</td>\n",
              "      <td>37</td>\n",
              "      <td>68</td>\n",
              "      <td>2023</td>\n",
              "      <td>0</td>\n",
              "      <td>0</td>\n",
              "      <td>5.0</td>\n",
              "      <td>5.0</td>\n",
              "      <td>0</td>\n",
              "      <td>1984.0</td>\n",
              "      <td>245.0</td>\n",
              "      <td>370.0</td>\n",
              "      <td>1</td>\n",
              "      <td>3</td>\n",
              "    </tr>\n",
              "    <tr>\n",
              "      <th>...</th>\n",
              "      <td>...</td>\n",
              "      <td>...</td>\n",
              "      <td>...</td>\n",
              "      <td>...</td>\n",
              "      <td>...</td>\n",
              "      <td>...</td>\n",
              "      <td>...</td>\n",
              "      <td>...</td>\n",
              "      <td>...</td>\n",
              "      <td>...</td>\n",
              "      <td>...</td>\n",
              "      <td>...</td>\n",
              "      <td>...</td>\n",
              "      <td>...</td>\n",
              "      <td>...</td>\n",
              "      <td>...</td>\n",
              "    </tr>\n",
              "    <tr>\n",
              "      <th>4156</th>\n",
              "      <td>10797310</td>\n",
              "      <td>979</td>\n",
              "      <td>75500</td>\n",
              "      <td>29</td>\n",
              "      <td>18</td>\n",
              "      <td>2022</td>\n",
              "      <td>0</td>\n",
              "      <td>0</td>\n",
              "      <td>5.0</td>\n",
              "      <td>7.0</td>\n",
              "      <td>0</td>\n",
              "      <td>1495.0</td>\n",
              "      <td>103.0</td>\n",
              "      <td>136.0</td>\n",
              "      <td>1</td>\n",
              "      <td>3</td>\n",
              "    </tr>\n",
              "    <tr>\n",
              "      <th>4160</th>\n",
              "      <td>10790267</td>\n",
              "      <td>769</td>\n",
              "      <td>59300</td>\n",
              "      <td>31</td>\n",
              "      <td>79</td>\n",
              "      <td>2022</td>\n",
              "      <td>0</td>\n",
              "      <td>0</td>\n",
              "      <td>5.0</td>\n",
              "      <td>5.0</td>\n",
              "      <td>0</td>\n",
              "      <td>1597.0</td>\n",
              "      <td>109.0</td>\n",
              "      <td>150.0</td>\n",
              "      <td>1</td>\n",
              "      <td>3</td>\n",
              "    </tr>\n",
              "    <tr>\n",
              "      <th>4164</th>\n",
              "      <td>10789119</td>\n",
              "      <td>769</td>\n",
              "      <td>59300</td>\n",
              "      <td>31</td>\n",
              "      <td>79</td>\n",
              "      <td>2022</td>\n",
              "      <td>0</td>\n",
              "      <td>0</td>\n",
              "      <td>5.0</td>\n",
              "      <td>5.0</td>\n",
              "      <td>0</td>\n",
              "      <td>1597.0</td>\n",
              "      <td>109.0</td>\n",
              "      <td>150.0</td>\n",
              "      <td>1</td>\n",
              "      <td>3</td>\n",
              "    </tr>\n",
              "    <tr>\n",
              "      <th>4172</th>\n",
              "      <td>10776330</td>\n",
              "      <td>1272</td>\n",
              "      <td>98123</td>\n",
              "      <td>31</td>\n",
              "      <td>131</td>\n",
              "      <td>2022</td>\n",
              "      <td>0</td>\n",
              "      <td>0</td>\n",
              "      <td>5.0</td>\n",
              "      <td>5.0</td>\n",
              "      <td>0</td>\n",
              "      <td>1477.0</td>\n",
              "      <td>177.0</td>\n",
              "      <td>255.0</td>\n",
              "      <td>1</td>\n",
              "      <td>3</td>\n",
              "    </tr>\n",
              "    <tr>\n",
              "      <th>4173</th>\n",
              "      <td>10776218</td>\n",
              "      <td>807</td>\n",
              "      <td>62215</td>\n",
              "      <td>31</td>\n",
              "      <td>50</td>\n",
              "      <td>2022</td>\n",
              "      <td>0</td>\n",
              "      <td>0</td>\n",
              "      <td>5.0</td>\n",
              "      <td>7.0</td>\n",
              "      <td>0</td>\n",
              "      <td>1561.0</td>\n",
              "      <td>140.0</td>\n",
              "      <td>205.0</td>\n",
              "      <td>1</td>\n",
              "      <td>3</td>\n",
              "    </tr>\n",
              "  </tbody>\n",
              "</table>\n",
              "<p>1134 rows × 16 columns</p>\n",
              "</div>\n",
              "      <button class=\"colab-df-convert\" onclick=\"convertToInteractive('df-823fb2a3-7ace-401d-accf-16e084b51428')\"\n",
              "              title=\"Convert this dataframe to an interactive table.\"\n",
              "              style=\"display:none;\">\n",
              "        \n",
              "  <svg xmlns=\"http://www.w3.org/2000/svg\" height=\"24px\"viewBox=\"0 0 24 24\"\n",
              "       width=\"24px\">\n",
              "    <path d=\"M0 0h24v24H0V0z\" fill=\"none\"/>\n",
              "    <path d=\"M18.56 5.44l.94 2.06.94-2.06 2.06-.94-2.06-.94-.94-2.06-.94 2.06-2.06.94zm-11 1L8.5 8.5l.94-2.06 2.06-.94-2.06-.94L8.5 2.5l-.94 2.06-2.06.94zm10 10l.94 2.06.94-2.06 2.06-.94-2.06-.94-.94-2.06-.94 2.06-2.06.94z\"/><path d=\"M17.41 7.96l-1.37-1.37c-.4-.4-.92-.59-1.43-.59-.52 0-1.04.2-1.43.59L10.3 9.45l-7.72 7.72c-.78.78-.78 2.05 0 2.83L4 21.41c.39.39.9.59 1.41.59.51 0 1.02-.2 1.41-.59l7.78-7.78 2.81-2.81c.8-.78.8-2.07 0-2.86zM5.41 20L4 18.59l7.72-7.72 1.47 1.35L5.41 20z\"/>\n",
              "  </svg>\n",
              "      </button>\n",
              "      \n",
              "  <style>\n",
              "    .colab-df-container {\n",
              "      display:flex;\n",
              "      flex-wrap:wrap;\n",
              "      gap: 12px;\n",
              "    }\n",
              "\n",
              "    .colab-df-convert {\n",
              "      background-color: #E8F0FE;\n",
              "      border: none;\n",
              "      border-radius: 50%;\n",
              "      cursor: pointer;\n",
              "      display: none;\n",
              "      fill: #1967D2;\n",
              "      height: 32px;\n",
              "      padding: 0 0 0 0;\n",
              "      width: 32px;\n",
              "    }\n",
              "\n",
              "    .colab-df-convert:hover {\n",
              "      background-color: #E2EBFA;\n",
              "      box-shadow: 0px 1px 2px rgba(60, 64, 67, 0.3), 0px 1px 3px 1px rgba(60, 64, 67, 0.15);\n",
              "      fill: #174EA6;\n",
              "    }\n",
              "\n",
              "    [theme=dark] .colab-df-convert {\n",
              "      background-color: #3B4455;\n",
              "      fill: #D2E3FC;\n",
              "    }\n",
              "\n",
              "    [theme=dark] .colab-df-convert:hover {\n",
              "      background-color: #434B5C;\n",
              "      box-shadow: 0px 1px 3px 1px rgba(0, 0, 0, 0.15);\n",
              "      filter: drop-shadow(0px 1px 2px rgba(0, 0, 0, 0.3));\n",
              "      fill: #FFFFFF;\n",
              "    }\n",
              "  </style>\n",
              "\n",
              "      <script>\n",
              "        const buttonEl =\n",
              "          document.querySelector('#df-823fb2a3-7ace-401d-accf-16e084b51428 button.colab-df-convert');\n",
              "        buttonEl.style.display =\n",
              "          google.colab.kernel.accessAllowed ? 'block' : 'none';\n",
              "\n",
              "        async function convertToInteractive(key) {\n",
              "          const element = document.querySelector('#df-823fb2a3-7ace-401d-accf-16e084b51428');\n",
              "          const dataTable =\n",
              "            await google.colab.kernel.invokeFunction('convertToInteractive',\n",
              "                                                     [key], {});\n",
              "          if (!dataTable) return;\n",
              "\n",
              "          const docLinkHtml = 'Like what you see? Visit the ' +\n",
              "            '<a target=\"_blank\" href=https://colab.research.google.com/notebooks/data_table.ipynb>data table notebook</a>'\n",
              "            + ' to learn more about interactive tables.';\n",
              "          element.innerHTML = '';\n",
              "          dataTable['output_type'] = 'display_data';\n",
              "          await google.colab.output.renderOutput(dataTable, element);\n",
              "          const docLink = document.createElement('div');\n",
              "          docLink.innerHTML = docLinkHtml;\n",
              "          element.appendChild(docLink);\n",
              "        }\n",
              "      </script>\n",
              "    </div>\n",
              "  </div>\n",
              "  "
            ]
          },
          "metadata": {},
          "execution_count": 69
        }
      ],
      "source": [
        "print(ac_user_input)\n",
        "ac_recommended_items = ac_carlist.iloc[indices]\n",
        "ac_recommended_items"
      ]
    },
    {
      "cell_type": "markdown",
      "metadata": {
        "id": "OHyymo-5zNIw"
      },
      "source": [
        "The mean_absolute_error function is used to calculate the MAE between the recommended items and the user input, and the mean_squared_error function is used to calculate the MSE between the two sets. The MSE is then passed to the square root function to get the RMSE."
      ]
    },
    {
      "cell_type": "code",
      "execution_count": null,
      "metadata": {
        "id": "4gqKFgsQzNIw",
        "outputId": "bc671ae2-1bdc-40fd-dc51-a0c8f0927744",
        "colab": {
          "base_uri": "https://localhost:8080/"
        }
      },
      "outputs": [
        {
          "output_type": "stream",
          "name": "stderr",
          "text": [
            "/usr/local/lib/python3.8/dist-packages/pandas/core/indexing.py:1684: SettingWithCopyWarning:\n",
            "\n",
            "\n",
            "A value is trying to be set on a copy of a slice from a DataFrame.\n",
            "Try using .loc[row_indexer,col_indexer] = value instead\n",
            "\n",
            "See the caveats in the documentation: https://pandas.pydata.org/pandas-docs/stable/user_guide/indexing.html#returning-a-view-versus-a-copy\n",
            "\n",
            "/usr/local/lib/python3.8/dist-packages/pandas/core/indexing.py:1817: SettingWithCopyWarning:\n",
            "\n",
            "\n",
            "A value is trying to be set on a copy of a slice from a DataFrame.\n",
            "Try using .loc[row_indexer,col_indexer] = value instead\n",
            "\n",
            "See the caveats in the documentation: https://pandas.pydata.org/pandas-docs/stable/user_guide/indexing.html#returning-a-view-versus-a-copy\n",
            "\n"
          ]
        }
      ],
      "source": [
        "from sklearn.metrics import mean_absolute_error, mean_squared_error\n",
        "\n",
        "# Iterate over each row in the dataframe\n",
        "for i, row in ac_recommended_items.iterrows():\n",
        "    # Extract the features of the recommended items and user input\n",
        "    recommended_item =  np.array(row[features]).flatten()\n",
        "    user_input = np.array(ac_user_input).flatten()\n",
        "    euclidean_distance = distance.euclidean(recommended_items, user_input)\n",
        "    mae = mean_absolute_error(recommended_item, user_input)\n",
        "    rmse = np.sqrt(mean_squared_error(recommended_item, user_input))\n",
        "    ac_recommended_items.at[i, 'mae'] = mae\n",
        "    ac_recommended_items.at[i, 'rmse'] = rmse"
      ]
    },
    {
      "cell_type": "code",
      "execution_count": null,
      "metadata": {
        "collapsed": true,
        "id": "VIdkCQxlzNIx"
      },
      "outputs": [],
      "source": [
        "ac_recommended_items = ac_recommended_items.sort_values(by=['mae','rmse'],ascending=True)"
      ]
    },
    {
      "cell_type": "code",
      "execution_count": null,
      "metadata": {
        "collapsed": true,
        "id": "Y8Xq5G5bzNIx",
        "outputId": "c5544a0e-1dd8-4f7a-8d7d-8f511dd06d6e",
        "colab": {
          "base_uri": "https://localhost:8080/",
          "height": 461
        }
      },
      "outputs": [
        {
          "output_type": "stream",
          "name": "stdout",
          "text": [
            "     data_installment  seat_capacity  data_transmission  engine_cc  fuel_type\n",
            "356               717              5                  0       1162          2\n"
          ]
        },
        {
          "output_type": "execute_result",
          "data": {
            "text/plain": [
              "      vehicle_id  data_installment  listing_price  data_make  data_model  \\\n",
              "1819    10971889               707          54500          5          48   \n",
              "1426    11072282               707          54500          5          48   \n",
              "1556    11005063               707          54500          5          48   \n",
              "2152    10800837               707          54500          5          48   \n",
              "3800    11097774               707          54500          5          48   \n",
              "3912    10976389               758          58500          5          48   \n",
              "3806    11092040               762          58800          5          48   \n",
              "3832    11054309               762          58800          5          48   \n",
              "1361    11072618               670          51700         29          26   \n",
              "992     11131928               789          60888         29          21   \n",
              "\n",
              "      data_year  data_mileage  data_transmission  doors  seat_capacity  \\\n",
              "1819       2022             0                  1    5.0            5.0   \n",
              "1426       2022             0                  1    5.0            2.0   \n",
              "1556       2022             0                  1    5.0            2.0   \n",
              "2152       2022             0                  1    2.0            2.0   \n",
              "3800       2022             0                  1    5.0            2.0   \n",
              "3912       2022             0                  1    2.0            2.0   \n",
              "3806       2022             0                  1    5.0            2.0   \n",
              "3832       2022             0                  1    5.0            2.0   \n",
              "1361       2022             0                  0    4.0            5.0   \n",
              "992        2022             0                  0    5.0            5.0   \n",
              "\n",
              "      assembled  engine_cc  peak_power  peak_torque  engine_type  fuel_type  \\\n",
              "1819          0     1244.0        98.0        120.0            1          3   \n",
              "1426          0     1244.0        98.0        120.0            1          3   \n",
              "1556          0     1244.0        98.0        120.0            1          3   \n",
              "2152          0     1244.0        98.0        120.0            1          3   \n",
              "3800          0     1244.0        98.0        120.0            1          3   \n",
              "3912          0     1244.0        98.0        120.0            1          3   \n",
              "3806          0     1244.0        98.0        120.0            1          3   \n",
              "3832          0     1244.0        98.0        120.0            1          3   \n",
              "1361          0     1329.0        95.0        121.0            1          3   \n",
              "992           0      998.0        98.0        140.0            1          3   \n",
              "\n",
              "       mae       rmse  \n",
              "1819  18.8  36.948613  \n",
              "1426  19.4  36.972963  \n",
              "1556  19.4  36.972963  \n",
              "2152  19.4  36.972963  \n",
              "3800  19.4  36.972963  \n",
              "3912  25.6  41.026820  \n",
              "3806  26.4  41.856899  \n",
              "3832  26.4  41.856899  \n",
              "1361  43.0  77.587370  \n",
              "992   47.4  80.101186  "
            ],
            "text/html": [
              "\n",
              "  <div id=\"df-c3908750-3c29-4e79-bddc-582a9a2a2199\">\n",
              "    <div class=\"colab-df-container\">\n",
              "      <div>\n",
              "<style scoped>\n",
              "    .dataframe tbody tr th:only-of-type {\n",
              "        vertical-align: middle;\n",
              "    }\n",
              "\n",
              "    .dataframe tbody tr th {\n",
              "        vertical-align: top;\n",
              "    }\n",
              "\n",
              "    .dataframe thead th {\n",
              "        text-align: right;\n",
              "    }\n",
              "</style>\n",
              "<table border=\"1\" class=\"dataframe\">\n",
              "  <thead>\n",
              "    <tr style=\"text-align: right;\">\n",
              "      <th></th>\n",
              "      <th>vehicle_id</th>\n",
              "      <th>data_installment</th>\n",
              "      <th>listing_price</th>\n",
              "      <th>data_make</th>\n",
              "      <th>data_model</th>\n",
              "      <th>data_year</th>\n",
              "      <th>data_mileage</th>\n",
              "      <th>data_transmission</th>\n",
              "      <th>doors</th>\n",
              "      <th>seat_capacity</th>\n",
              "      <th>assembled</th>\n",
              "      <th>engine_cc</th>\n",
              "      <th>peak_power</th>\n",
              "      <th>peak_torque</th>\n",
              "      <th>engine_type</th>\n",
              "      <th>fuel_type</th>\n",
              "      <th>mae</th>\n",
              "      <th>rmse</th>\n",
              "    </tr>\n",
              "  </thead>\n",
              "  <tbody>\n",
              "    <tr>\n",
              "      <th>1819</th>\n",
              "      <td>10971889</td>\n",
              "      <td>707</td>\n",
              "      <td>54500</td>\n",
              "      <td>5</td>\n",
              "      <td>48</td>\n",
              "      <td>2022</td>\n",
              "      <td>0</td>\n",
              "      <td>1</td>\n",
              "      <td>5.0</td>\n",
              "      <td>5.0</td>\n",
              "      <td>0</td>\n",
              "      <td>1244.0</td>\n",
              "      <td>98.0</td>\n",
              "      <td>120.0</td>\n",
              "      <td>1</td>\n",
              "      <td>3</td>\n",
              "      <td>18.8</td>\n",
              "      <td>36.948613</td>\n",
              "    </tr>\n",
              "    <tr>\n",
              "      <th>1426</th>\n",
              "      <td>11072282</td>\n",
              "      <td>707</td>\n",
              "      <td>54500</td>\n",
              "      <td>5</td>\n",
              "      <td>48</td>\n",
              "      <td>2022</td>\n",
              "      <td>0</td>\n",
              "      <td>1</td>\n",
              "      <td>5.0</td>\n",
              "      <td>2.0</td>\n",
              "      <td>0</td>\n",
              "      <td>1244.0</td>\n",
              "      <td>98.0</td>\n",
              "      <td>120.0</td>\n",
              "      <td>1</td>\n",
              "      <td>3</td>\n",
              "      <td>19.4</td>\n",
              "      <td>36.972963</td>\n",
              "    </tr>\n",
              "    <tr>\n",
              "      <th>1556</th>\n",
              "      <td>11005063</td>\n",
              "      <td>707</td>\n",
              "      <td>54500</td>\n",
              "      <td>5</td>\n",
              "      <td>48</td>\n",
              "      <td>2022</td>\n",
              "      <td>0</td>\n",
              "      <td>1</td>\n",
              "      <td>5.0</td>\n",
              "      <td>2.0</td>\n",
              "      <td>0</td>\n",
              "      <td>1244.0</td>\n",
              "      <td>98.0</td>\n",
              "      <td>120.0</td>\n",
              "      <td>1</td>\n",
              "      <td>3</td>\n",
              "      <td>19.4</td>\n",
              "      <td>36.972963</td>\n",
              "    </tr>\n",
              "    <tr>\n",
              "      <th>2152</th>\n",
              "      <td>10800837</td>\n",
              "      <td>707</td>\n",
              "      <td>54500</td>\n",
              "      <td>5</td>\n",
              "      <td>48</td>\n",
              "      <td>2022</td>\n",
              "      <td>0</td>\n",
              "      <td>1</td>\n",
              "      <td>2.0</td>\n",
              "      <td>2.0</td>\n",
              "      <td>0</td>\n",
              "      <td>1244.0</td>\n",
              "      <td>98.0</td>\n",
              "      <td>120.0</td>\n",
              "      <td>1</td>\n",
              "      <td>3</td>\n",
              "      <td>19.4</td>\n",
              "      <td>36.972963</td>\n",
              "    </tr>\n",
              "    <tr>\n",
              "      <th>3800</th>\n",
              "      <td>11097774</td>\n",
              "      <td>707</td>\n",
              "      <td>54500</td>\n",
              "      <td>5</td>\n",
              "      <td>48</td>\n",
              "      <td>2022</td>\n",
              "      <td>0</td>\n",
              "      <td>1</td>\n",
              "      <td>5.0</td>\n",
              "      <td>2.0</td>\n",
              "      <td>0</td>\n",
              "      <td>1244.0</td>\n",
              "      <td>98.0</td>\n",
              "      <td>120.0</td>\n",
              "      <td>1</td>\n",
              "      <td>3</td>\n",
              "      <td>19.4</td>\n",
              "      <td>36.972963</td>\n",
              "    </tr>\n",
              "    <tr>\n",
              "      <th>3912</th>\n",
              "      <td>10976389</td>\n",
              "      <td>758</td>\n",
              "      <td>58500</td>\n",
              "      <td>5</td>\n",
              "      <td>48</td>\n",
              "      <td>2022</td>\n",
              "      <td>0</td>\n",
              "      <td>1</td>\n",
              "      <td>2.0</td>\n",
              "      <td>2.0</td>\n",
              "      <td>0</td>\n",
              "      <td>1244.0</td>\n",
              "      <td>98.0</td>\n",
              "      <td>120.0</td>\n",
              "      <td>1</td>\n",
              "      <td>3</td>\n",
              "      <td>25.6</td>\n",
              "      <td>41.026820</td>\n",
              "    </tr>\n",
              "    <tr>\n",
              "      <th>3806</th>\n",
              "      <td>11092040</td>\n",
              "      <td>762</td>\n",
              "      <td>58800</td>\n",
              "      <td>5</td>\n",
              "      <td>48</td>\n",
              "      <td>2022</td>\n",
              "      <td>0</td>\n",
              "      <td>1</td>\n",
              "      <td>5.0</td>\n",
              "      <td>2.0</td>\n",
              "      <td>0</td>\n",
              "      <td>1244.0</td>\n",
              "      <td>98.0</td>\n",
              "      <td>120.0</td>\n",
              "      <td>1</td>\n",
              "      <td>3</td>\n",
              "      <td>26.4</td>\n",
              "      <td>41.856899</td>\n",
              "    </tr>\n",
              "    <tr>\n",
              "      <th>3832</th>\n",
              "      <td>11054309</td>\n",
              "      <td>762</td>\n",
              "      <td>58800</td>\n",
              "      <td>5</td>\n",
              "      <td>48</td>\n",
              "      <td>2022</td>\n",
              "      <td>0</td>\n",
              "      <td>1</td>\n",
              "      <td>5.0</td>\n",
              "      <td>2.0</td>\n",
              "      <td>0</td>\n",
              "      <td>1244.0</td>\n",
              "      <td>98.0</td>\n",
              "      <td>120.0</td>\n",
              "      <td>1</td>\n",
              "      <td>3</td>\n",
              "      <td>26.4</td>\n",
              "      <td>41.856899</td>\n",
              "    </tr>\n",
              "    <tr>\n",
              "      <th>1361</th>\n",
              "      <td>11072618</td>\n",
              "      <td>670</td>\n",
              "      <td>51700</td>\n",
              "      <td>29</td>\n",
              "      <td>26</td>\n",
              "      <td>2022</td>\n",
              "      <td>0</td>\n",
              "      <td>0</td>\n",
              "      <td>4.0</td>\n",
              "      <td>5.0</td>\n",
              "      <td>0</td>\n",
              "      <td>1329.0</td>\n",
              "      <td>95.0</td>\n",
              "      <td>121.0</td>\n",
              "      <td>1</td>\n",
              "      <td>3</td>\n",
              "      <td>43.0</td>\n",
              "      <td>77.587370</td>\n",
              "    </tr>\n",
              "    <tr>\n",
              "      <th>992</th>\n",
              "      <td>11131928</td>\n",
              "      <td>789</td>\n",
              "      <td>60888</td>\n",
              "      <td>29</td>\n",
              "      <td>21</td>\n",
              "      <td>2022</td>\n",
              "      <td>0</td>\n",
              "      <td>0</td>\n",
              "      <td>5.0</td>\n",
              "      <td>5.0</td>\n",
              "      <td>0</td>\n",
              "      <td>998.0</td>\n",
              "      <td>98.0</td>\n",
              "      <td>140.0</td>\n",
              "      <td>1</td>\n",
              "      <td>3</td>\n",
              "      <td>47.4</td>\n",
              "      <td>80.101186</td>\n",
              "    </tr>\n",
              "  </tbody>\n",
              "</table>\n",
              "</div>\n",
              "      <button class=\"colab-df-convert\" onclick=\"convertToInteractive('df-c3908750-3c29-4e79-bddc-582a9a2a2199')\"\n",
              "              title=\"Convert this dataframe to an interactive table.\"\n",
              "              style=\"display:none;\">\n",
              "        \n",
              "  <svg xmlns=\"http://www.w3.org/2000/svg\" height=\"24px\"viewBox=\"0 0 24 24\"\n",
              "       width=\"24px\">\n",
              "    <path d=\"M0 0h24v24H0V0z\" fill=\"none\"/>\n",
              "    <path d=\"M18.56 5.44l.94 2.06.94-2.06 2.06-.94-2.06-.94-.94-2.06-.94 2.06-2.06.94zm-11 1L8.5 8.5l.94-2.06 2.06-.94-2.06-.94L8.5 2.5l-.94 2.06-2.06.94zm10 10l.94 2.06.94-2.06 2.06-.94-2.06-.94-.94-2.06-.94 2.06-2.06.94z\"/><path d=\"M17.41 7.96l-1.37-1.37c-.4-.4-.92-.59-1.43-.59-.52 0-1.04.2-1.43.59L10.3 9.45l-7.72 7.72c-.78.78-.78 2.05 0 2.83L4 21.41c.39.39.9.59 1.41.59.51 0 1.02-.2 1.41-.59l7.78-7.78 2.81-2.81c.8-.78.8-2.07 0-2.86zM5.41 20L4 18.59l7.72-7.72 1.47 1.35L5.41 20z\"/>\n",
              "  </svg>\n",
              "      </button>\n",
              "      \n",
              "  <style>\n",
              "    .colab-df-container {\n",
              "      display:flex;\n",
              "      flex-wrap:wrap;\n",
              "      gap: 12px;\n",
              "    }\n",
              "\n",
              "    .colab-df-convert {\n",
              "      background-color: #E8F0FE;\n",
              "      border: none;\n",
              "      border-radius: 50%;\n",
              "      cursor: pointer;\n",
              "      display: none;\n",
              "      fill: #1967D2;\n",
              "      height: 32px;\n",
              "      padding: 0 0 0 0;\n",
              "      width: 32px;\n",
              "    }\n",
              "\n",
              "    .colab-df-convert:hover {\n",
              "      background-color: #E2EBFA;\n",
              "      box-shadow: 0px 1px 2px rgba(60, 64, 67, 0.3), 0px 1px 3px 1px rgba(60, 64, 67, 0.15);\n",
              "      fill: #174EA6;\n",
              "    }\n",
              "\n",
              "    [theme=dark] .colab-df-convert {\n",
              "      background-color: #3B4455;\n",
              "      fill: #D2E3FC;\n",
              "    }\n",
              "\n",
              "    [theme=dark] .colab-df-convert:hover {\n",
              "      background-color: #434B5C;\n",
              "      box-shadow: 0px 1px 3px 1px rgba(0, 0, 0, 0.15);\n",
              "      filter: drop-shadow(0px 1px 2px rgba(0, 0, 0, 0.3));\n",
              "      fill: #FFFFFF;\n",
              "    }\n",
              "  </style>\n",
              "\n",
              "      <script>\n",
              "        const buttonEl =\n",
              "          document.querySelector('#df-c3908750-3c29-4e79-bddc-582a9a2a2199 button.colab-df-convert');\n",
              "        buttonEl.style.display =\n",
              "          google.colab.kernel.accessAllowed ? 'block' : 'none';\n",
              "\n",
              "        async function convertToInteractive(key) {\n",
              "          const element = document.querySelector('#df-c3908750-3c29-4e79-bddc-582a9a2a2199');\n",
              "          const dataTable =\n",
              "            await google.colab.kernel.invokeFunction('convertToInteractive',\n",
              "                                                     [key], {});\n",
              "          if (!dataTable) return;\n",
              "\n",
              "          const docLinkHtml = 'Like what you see? Visit the ' +\n",
              "            '<a target=\"_blank\" href=https://colab.research.google.com/notebooks/data_table.ipynb>data table notebook</a>'\n",
              "            + ' to learn more about interactive tables.';\n",
              "          element.innerHTML = '';\n",
              "          dataTable['output_type'] = 'display_data';\n",
              "          await google.colab.output.renderOutput(dataTable, element);\n",
              "          const docLink = document.createElement('div');\n",
              "          docLink.innerHTML = docLinkHtml;\n",
              "          element.appendChild(docLink);\n",
              "        }\n",
              "      </script>\n",
              "    </div>\n",
              "  </div>\n",
              "  "
            ]
          },
          "metadata": {},
          "execution_count": 72
        }
      ],
      "source": [
        "print(ac_user_input)\n",
        "ac_recommended_items.head(10)"
      ]
    },
    {
      "cell_type": "markdown",
      "metadata": {
        "id": "zenVnykFzNIx"
      },
      "source": [
        "# 5.0 Evaluation\n",
        "---\n",
        "Metric : Euclidean distance\n",
        "\n",
        "In this section, we will randomly select 100 rows from mocked user inputs. Based on the selected user input, each model will recommend 3 vehicles. The total Euclidean distance of each time recommendation will be sum up and average. "
      ]
    },
    {
      "cell_type": "code",
      "execution_count": null,
      "metadata": {
        "id": "TpJ9a3CEzNIx",
        "outputId": "d8ce2d3c-3a13-467d-d627-0a3ca22dea30",
        "colab": {
          "base_uri": "https://localhost:8080/"
        }
      },
      "outputs": [
        {
          "output_type": "stream",
          "name": "stdout",
          "text": [
            "[404 121 449 892 334 342 917 218 977 530 824 421 903  70 440 933 294 112\n",
            " 485 538 130 675 140 213 742  99 631 996 767 455 358  48 681 805  52 719\n",
            " 965 425 566 826 385 554 317 642 360 785 591 222 505 224 523  76 725 313\n",
            " 844 432 470 403 716 357 334 444  71 316 209 921 549 634 579 700 853 493\n",
            " 435 649 562 927 273 605 266 970 723 220  18 870 743 854 404 884 998 837\n",
            " 358 828 249 556 649 311 895 908 253 171]\n"
          ]
        }
      ],
      "source": [
        "np.random.seed(502)\n",
        "random_index = np.random.randint(low=1,high=1000,size=100)\n",
        "print(random_index)\n",
        "selected_user_input = mock_user_input.iloc[random_index]"
      ]
    },
    {
      "cell_type": "code",
      "execution_count": null,
      "metadata": {
        "collapsed": true,
        "id": "NjThZk7lzNIx"
      },
      "outputs": [],
      "source": [
        "selected_user_input = selected_user_input.iloc[:,1:]"
      ]
    },
    {
      "cell_type": "code",
      "source": [
        "selected_user_input_headers = selected_user_input.columns\n",
        "selected_user_input_headers"
      ],
      "metadata": {
        "colab": {
          "base_uri": "https://localhost:8080/"
        },
        "id": "w1ni3saMqVmP",
        "outputId": "19919a9c-3067-4688-b328-3ff2653d53a5"
      },
      "execution_count": null,
      "outputs": [
        {
          "output_type": "execute_result",
          "data": {
            "text/plain": [
              "Index(['data_installment', 'seat_capacity', 'data_transmission', 'engine_cc',\n",
              "       'fuel_type'],\n",
              "      dtype='object')"
            ]
          },
          "metadata": {},
          "execution_count": 75
        }
      ]
    },
    {
      "cell_type": "markdown",
      "metadata": {
        "id": "ox9WGQPuzNIx"
      },
      "source": [
        "## 5.1 Performance of KNN"
      ]
    },
    {
      "cell_type": "code",
      "execution_count": null,
      "metadata": {
        "id": "sfFlIMTWzNIx"
      },
      "outputs": [],
      "source": [
        "avg_knn_euclidean_distance = []\n",
        "for user_input in selected_user_input.itertuples():\n",
        "  user_input = pd.DataFrame(user_input[1:],index=selected_user_input_headers)\n",
        "  user_input = user_input.transpose()\n",
        "\n",
        "  distances, indices = knn.kneighbors(user_input)\n",
        "  knn_similar_vehicles = knn_carlist.iloc[indices[0], :]\n",
        "\n",
        "  knn_euclidean_distance = []\n",
        "\n",
        "  for i, row in knn_similar_vehicles.iterrows():\n",
        "    # Extract the features of the recommended items and user input\n",
        "    recommended_items =  np.array(row[features]).flatten()\n",
        "    user_input = np.array(user_input).flatten()\n",
        "    # Compute the Euclidean distance\n",
        "    euclidean_distance = distance.euclidean(recommended_items, user_input)\n",
        "    \n",
        "    # Assign the Euclidean distance to the new column\n",
        "    knn_similar_vehicles.at[i, 'euclidean_distance'] = euclidean_distance\n",
        "    knn_euclidean_distance.append(euclidean_distance)\n",
        "  avg_ked = sum(knn_euclidean_distance)/len(knn_euclidean_distance)\n",
        "  avg_knn_euclidean_distance.append(avg_ked)"
      ]
    },
    {
      "cell_type": "code",
      "source": [
        "#plt.plot(avg_knn_euclidean_distance)\n",
        "\n",
        "px.line(avg_knn_euclidean_distance)"
      ],
      "metadata": {
        "colab": {
          "base_uri": "https://localhost:8080/",
          "height": 542
        },
        "id": "zWFRvHRQt5NR",
        "outputId": "e9e00ba8-b2d6-423c-8527-8c580d5bfd8e"
      },
      "execution_count": null,
      "outputs": [
        {
          "output_type": "display_data",
          "data": {
            "text/html": [
              "<html>\n",
              "<head><meta charset=\"utf-8\" /></head>\n",
              "<body>\n",
              "    <div>            <script src=\"https://cdnjs.cloudflare.com/ajax/libs/mathjax/2.7.5/MathJax.js?config=TeX-AMS-MML_SVG\"></script><script type=\"text/javascript\">if (window.MathJax) {MathJax.Hub.Config({SVG: {font: \"STIX-Web\"}});}</script>                <script type=\"text/javascript\">window.PlotlyConfig = {MathJaxConfig: 'local'};</script>\n",
              "        <script src=\"https://cdn.plot.ly/plotly-2.8.3.min.js\"></script>                <div id=\"5319657d-4842-4614-bf87-79bbcfe64894\" class=\"plotly-graph-div\" style=\"height:525px; width:100%;\"></div>            <script type=\"text/javascript\">                                    window.PLOTLYENV=window.PLOTLYENV || {};                                    if (document.getElementById(\"5319657d-4842-4614-bf87-79bbcfe64894\")) {                    Plotly.newPlot(                        \"5319657d-4842-4614-bf87-79bbcfe64894\",                        [{\"hovertemplate\":\"variable=0<br>index=%{x}<br>value=%{y}<extra></extra>\",\"legendgroup\":\"0\",\"line\":{\"color\":\"#636efa\",\"dash\":\"solid\"},\"marker\":{\"symbol\":\"circle\"},\"mode\":\"lines\",\"name\":\"0\",\"orientation\":\"v\",\"showlegend\":true,\"x\":[0,1,2,3,4,5,6,7,8,9,10,11,12,13,14,15,16,17,18,19,20,21,22,23,24,25,26,27,28,29,30,31,32,33,34,35,36,37,38,39,40,41,42,43,44,45,46,47,48,49,50,51,52,53,54,55,56,57,58,59,60,61,62,63,64,65,66,67,68,69,70,71,72,73,74,75,76,77,78,79,80,81,82,83,84,85,86,87,88,89,90,91,92,93,94,95,96,97,98,99],\"xaxis\":\"x\",\"y\":[117.54111018602768,70.24059985490601,128.72012302936645,255.89939289461375,66.48552870488784,26.839929535830397,5.3657918032981735,325.26297053307496,103.86693870272317,223.36517185989405,55.11067342471472,16.900700550511143,100.04498987955368,128.11713390487628,107.74978625401391,80.3304716944596,5.02870172687344,12.192744168062204,115.96830543021267,21.4966407381515,127.85672730913856,185.06755523321746,88.30452281061046,65.40754675691285,181.20924727600988,192.2040560209847,120.83615305747878,105.31856436545267,124.24648155705214,28.582696706902972,55.23641189193311,160.28950887251497,8.585569250207879,112.9918348301031,20.39177173175914,177.00805197017667,172.12204344261008,128.14850321453787,151.2289962936701,85.33238004376928,34.66865158148517,87.97750167857143,38.94796968514252,39.219217693697786,38.112709528735515,99.20181449953424,12.823414816672198,138.4718320038068,303.26720890989844,263.05051634136817,85.75099283194461,40.31675050037488,268.4404852567001,80.16735086599938,56.362218872997026,44.483422104173684,51.21047350034216,78.34120929484519,166.15651943998904,58.03721831041887,66.48552870488784,131.55515330195763,101.02810617028058,121.77515730885375,108.78424178574839,88.18841780385488,288.36761101004396,77.73742209110691,144.14557819494377,95.07364780118522,28.974360400967367,237.0885098960799,129.21292475428965,74.91757335738178,57.43878816969344,139.0431585813231,181.04355403527998,52.88220244967855,103.94937942129393,14.507709831841069,232.0314632372499,138.32208789632983,69.18804536911773,59.943934544511706,77.21915922429795,5.291502622129181,117.54111018602768,53.69700063082833,83.83484984527213,13.589702673150233,55.23641189193311,148.42741417929716,56.56039714304073,113.39987488384763,74.91757335738178,156.893841416827,96.57962886001755,5.219800316769571,14.66287829861518,149.10533037931754],\"yaxis\":\"y\",\"type\":\"scatter\"}],                        {\"template\":{\"data\":{\"bar\":[{\"error_x\":{\"color\":\"#2a3f5f\"},\"error_y\":{\"color\":\"#2a3f5f\"},\"marker\":{\"line\":{\"color\":\"#E5ECF6\",\"width\":0.5},\"pattern\":{\"fillmode\":\"overlay\",\"size\":10,\"solidity\":0.2}},\"type\":\"bar\"}],\"barpolar\":[{\"marker\":{\"line\":{\"color\":\"#E5ECF6\",\"width\":0.5},\"pattern\":{\"fillmode\":\"overlay\",\"size\":10,\"solidity\":0.2}},\"type\":\"barpolar\"}],\"carpet\":[{\"aaxis\":{\"endlinecolor\":\"#2a3f5f\",\"gridcolor\":\"white\",\"linecolor\":\"white\",\"minorgridcolor\":\"white\",\"startlinecolor\":\"#2a3f5f\"},\"baxis\":{\"endlinecolor\":\"#2a3f5f\",\"gridcolor\":\"white\",\"linecolor\":\"white\",\"minorgridcolor\":\"white\",\"startlinecolor\":\"#2a3f5f\"},\"type\":\"carpet\"}],\"choropleth\":[{\"colorbar\":{\"outlinewidth\":0,\"ticks\":\"\"},\"type\":\"choropleth\"}],\"contour\":[{\"colorbar\":{\"outlinewidth\":0,\"ticks\":\"\"},\"colorscale\":[[0.0,\"#0d0887\"],[0.1111111111111111,\"#46039f\"],[0.2222222222222222,\"#7201a8\"],[0.3333333333333333,\"#9c179e\"],[0.4444444444444444,\"#bd3786\"],[0.5555555555555556,\"#d8576b\"],[0.6666666666666666,\"#ed7953\"],[0.7777777777777778,\"#fb9f3a\"],[0.8888888888888888,\"#fdca26\"],[1.0,\"#f0f921\"]],\"type\":\"contour\"}],\"contourcarpet\":[{\"colorbar\":{\"outlinewidth\":0,\"ticks\":\"\"},\"type\":\"contourcarpet\"}],\"heatmap\":[{\"colorbar\":{\"outlinewidth\":0,\"ticks\":\"\"},\"colorscale\":[[0.0,\"#0d0887\"],[0.1111111111111111,\"#46039f\"],[0.2222222222222222,\"#7201a8\"],[0.3333333333333333,\"#9c179e\"],[0.4444444444444444,\"#bd3786\"],[0.5555555555555556,\"#d8576b\"],[0.6666666666666666,\"#ed7953\"],[0.7777777777777778,\"#fb9f3a\"],[0.8888888888888888,\"#fdca26\"],[1.0,\"#f0f921\"]],\"type\":\"heatmap\"}],\"heatmapgl\":[{\"colorbar\":{\"outlinewidth\":0,\"ticks\":\"\"},\"colorscale\":[[0.0,\"#0d0887\"],[0.1111111111111111,\"#46039f\"],[0.2222222222222222,\"#7201a8\"],[0.3333333333333333,\"#9c179e\"],[0.4444444444444444,\"#bd3786\"],[0.5555555555555556,\"#d8576b\"],[0.6666666666666666,\"#ed7953\"],[0.7777777777777778,\"#fb9f3a\"],[0.8888888888888888,\"#fdca26\"],[1.0,\"#f0f921\"]],\"type\":\"heatmapgl\"}],\"histogram\":[{\"marker\":{\"pattern\":{\"fillmode\":\"overlay\",\"size\":10,\"solidity\":0.2}},\"type\":\"histogram\"}],\"histogram2d\":[{\"colorbar\":{\"outlinewidth\":0,\"ticks\":\"\"},\"colorscale\":[[0.0,\"#0d0887\"],[0.1111111111111111,\"#46039f\"],[0.2222222222222222,\"#7201a8\"],[0.3333333333333333,\"#9c179e\"],[0.4444444444444444,\"#bd3786\"],[0.5555555555555556,\"#d8576b\"],[0.6666666666666666,\"#ed7953\"],[0.7777777777777778,\"#fb9f3a\"],[0.8888888888888888,\"#fdca26\"],[1.0,\"#f0f921\"]],\"type\":\"histogram2d\"}],\"histogram2dcontour\":[{\"colorbar\":{\"outlinewidth\":0,\"ticks\":\"\"},\"colorscale\":[[0.0,\"#0d0887\"],[0.1111111111111111,\"#46039f\"],[0.2222222222222222,\"#7201a8\"],[0.3333333333333333,\"#9c179e\"],[0.4444444444444444,\"#bd3786\"],[0.5555555555555556,\"#d8576b\"],[0.6666666666666666,\"#ed7953\"],[0.7777777777777778,\"#fb9f3a\"],[0.8888888888888888,\"#fdca26\"],[1.0,\"#f0f921\"]],\"type\":\"histogram2dcontour\"}],\"mesh3d\":[{\"colorbar\":{\"outlinewidth\":0,\"ticks\":\"\"},\"type\":\"mesh3d\"}],\"parcoords\":[{\"line\":{\"colorbar\":{\"outlinewidth\":0,\"ticks\":\"\"}},\"type\":\"parcoords\"}],\"pie\":[{\"automargin\":true,\"type\":\"pie\"}],\"scatter\":[{\"marker\":{\"colorbar\":{\"outlinewidth\":0,\"ticks\":\"\"}},\"type\":\"scatter\"}],\"scatter3d\":[{\"line\":{\"colorbar\":{\"outlinewidth\":0,\"ticks\":\"\"}},\"marker\":{\"colorbar\":{\"outlinewidth\":0,\"ticks\":\"\"}},\"type\":\"scatter3d\"}],\"scattercarpet\":[{\"marker\":{\"colorbar\":{\"outlinewidth\":0,\"ticks\":\"\"}},\"type\":\"scattercarpet\"}],\"scattergeo\":[{\"marker\":{\"colorbar\":{\"outlinewidth\":0,\"ticks\":\"\"}},\"type\":\"scattergeo\"}],\"scattergl\":[{\"marker\":{\"colorbar\":{\"outlinewidth\":0,\"ticks\":\"\"}},\"type\":\"scattergl\"}],\"scattermapbox\":[{\"marker\":{\"colorbar\":{\"outlinewidth\":0,\"ticks\":\"\"}},\"type\":\"scattermapbox\"}],\"scatterpolar\":[{\"marker\":{\"colorbar\":{\"outlinewidth\":0,\"ticks\":\"\"}},\"type\":\"scatterpolar\"}],\"scatterpolargl\":[{\"marker\":{\"colorbar\":{\"outlinewidth\":0,\"ticks\":\"\"}},\"type\":\"scatterpolargl\"}],\"scatterternary\":[{\"marker\":{\"colorbar\":{\"outlinewidth\":0,\"ticks\":\"\"}},\"type\":\"scatterternary\"}],\"surface\":[{\"colorbar\":{\"outlinewidth\":0,\"ticks\":\"\"},\"colorscale\":[[0.0,\"#0d0887\"],[0.1111111111111111,\"#46039f\"],[0.2222222222222222,\"#7201a8\"],[0.3333333333333333,\"#9c179e\"],[0.4444444444444444,\"#bd3786\"],[0.5555555555555556,\"#d8576b\"],[0.6666666666666666,\"#ed7953\"],[0.7777777777777778,\"#fb9f3a\"],[0.8888888888888888,\"#fdca26\"],[1.0,\"#f0f921\"]],\"type\":\"surface\"}],\"table\":[{\"cells\":{\"fill\":{\"color\":\"#EBF0F8\"},\"line\":{\"color\":\"white\"}},\"header\":{\"fill\":{\"color\":\"#C8D4E3\"},\"line\":{\"color\":\"white\"}},\"type\":\"table\"}]},\"layout\":{\"annotationdefaults\":{\"arrowcolor\":\"#2a3f5f\",\"arrowhead\":0,\"arrowwidth\":1},\"autotypenumbers\":\"strict\",\"coloraxis\":{\"colorbar\":{\"outlinewidth\":0,\"ticks\":\"\"}},\"colorscale\":{\"diverging\":[[0,\"#8e0152\"],[0.1,\"#c51b7d\"],[0.2,\"#de77ae\"],[0.3,\"#f1b6da\"],[0.4,\"#fde0ef\"],[0.5,\"#f7f7f7\"],[0.6,\"#e6f5d0\"],[0.7,\"#b8e186\"],[0.8,\"#7fbc41\"],[0.9,\"#4d9221\"],[1,\"#276419\"]],\"sequential\":[[0.0,\"#0d0887\"],[0.1111111111111111,\"#46039f\"],[0.2222222222222222,\"#7201a8\"],[0.3333333333333333,\"#9c179e\"],[0.4444444444444444,\"#bd3786\"],[0.5555555555555556,\"#d8576b\"],[0.6666666666666666,\"#ed7953\"],[0.7777777777777778,\"#fb9f3a\"],[0.8888888888888888,\"#fdca26\"],[1.0,\"#f0f921\"]],\"sequentialminus\":[[0.0,\"#0d0887\"],[0.1111111111111111,\"#46039f\"],[0.2222222222222222,\"#7201a8\"],[0.3333333333333333,\"#9c179e\"],[0.4444444444444444,\"#bd3786\"],[0.5555555555555556,\"#d8576b\"],[0.6666666666666666,\"#ed7953\"],[0.7777777777777778,\"#fb9f3a\"],[0.8888888888888888,\"#fdca26\"],[1.0,\"#f0f921\"]]},\"colorway\":[\"#636efa\",\"#EF553B\",\"#00cc96\",\"#ab63fa\",\"#FFA15A\",\"#19d3f3\",\"#FF6692\",\"#B6E880\",\"#FF97FF\",\"#FECB52\"],\"font\":{\"color\":\"#2a3f5f\"},\"geo\":{\"bgcolor\":\"white\",\"lakecolor\":\"white\",\"landcolor\":\"#E5ECF6\",\"showlakes\":true,\"showland\":true,\"subunitcolor\":\"white\"},\"hoverlabel\":{\"align\":\"left\"},\"hovermode\":\"closest\",\"mapbox\":{\"style\":\"light\"},\"paper_bgcolor\":\"white\",\"plot_bgcolor\":\"#E5ECF6\",\"polar\":{\"angularaxis\":{\"gridcolor\":\"white\",\"linecolor\":\"white\",\"ticks\":\"\"},\"bgcolor\":\"#E5ECF6\",\"radialaxis\":{\"gridcolor\":\"white\",\"linecolor\":\"white\",\"ticks\":\"\"}},\"scene\":{\"xaxis\":{\"backgroundcolor\":\"#E5ECF6\",\"gridcolor\":\"white\",\"gridwidth\":2,\"linecolor\":\"white\",\"showbackground\":true,\"ticks\":\"\",\"zerolinecolor\":\"white\"},\"yaxis\":{\"backgroundcolor\":\"#E5ECF6\",\"gridcolor\":\"white\",\"gridwidth\":2,\"linecolor\":\"white\",\"showbackground\":true,\"ticks\":\"\",\"zerolinecolor\":\"white\"},\"zaxis\":{\"backgroundcolor\":\"#E5ECF6\",\"gridcolor\":\"white\",\"gridwidth\":2,\"linecolor\":\"white\",\"showbackground\":true,\"ticks\":\"\",\"zerolinecolor\":\"white\"}},\"shapedefaults\":{\"line\":{\"color\":\"#2a3f5f\"}},\"ternary\":{\"aaxis\":{\"gridcolor\":\"white\",\"linecolor\":\"white\",\"ticks\":\"\"},\"baxis\":{\"gridcolor\":\"white\",\"linecolor\":\"white\",\"ticks\":\"\"},\"bgcolor\":\"#E5ECF6\",\"caxis\":{\"gridcolor\":\"white\",\"linecolor\":\"white\",\"ticks\":\"\"}},\"title\":{\"x\":0.05},\"xaxis\":{\"automargin\":true,\"gridcolor\":\"white\",\"linecolor\":\"white\",\"ticks\":\"\",\"title\":{\"standoff\":15},\"zerolinecolor\":\"white\",\"zerolinewidth\":2},\"yaxis\":{\"automargin\":true,\"gridcolor\":\"white\",\"linecolor\":\"white\",\"ticks\":\"\",\"title\":{\"standoff\":15},\"zerolinecolor\":\"white\",\"zerolinewidth\":2}}},\"xaxis\":{\"anchor\":\"y\",\"domain\":[0.0,1.0],\"title\":{\"text\":\"index\"}},\"yaxis\":{\"anchor\":\"x\",\"domain\":[0.0,1.0],\"title\":{\"text\":\"value\"}},\"legend\":{\"title\":{\"text\":\"variable\"},\"tracegroupgap\":0},\"margin\":{\"t\":60}},                        {\"responsive\": true}                    ).then(function(){\n",
              "                            \n",
              "var gd = document.getElementById('5319657d-4842-4614-bf87-79bbcfe64894');\n",
              "var x = new MutationObserver(function (mutations, observer) {{\n",
              "        var display = window.getComputedStyle(gd).display;\n",
              "        if (!display || display === 'none') {{\n",
              "            console.log([gd, 'removed!']);\n",
              "            Plotly.purge(gd);\n",
              "            observer.disconnect();\n",
              "        }}\n",
              "}});\n",
              "\n",
              "// Listen for the removal of the full notebook cells\n",
              "var notebookContainer = gd.closest('#notebook-container');\n",
              "if (notebookContainer) {{\n",
              "    x.observe(notebookContainer, {childList: true});\n",
              "}}\n",
              "\n",
              "// Listen for the clearing of the current output cell\n",
              "var outputEl = gd.closest('.output');\n",
              "if (outputEl) {{\n",
              "    x.observe(outputEl, {childList: true});\n",
              "}}\n",
              "\n",
              "                        })                };                            </script>        </div>\n",
              "</body>\n",
              "</html>"
            ]
          },
          "metadata": {}
        }
      ]
    },
    {
      "cell_type": "code",
      "source": [
        "print(np.min(avg_knn_euclidean_distance))\n",
        "print(np.max(avg_knn_euclidean_distance))\n",
        "print(np.mean(avg_knn_euclidean_distance))\n",
        "print(np.std(avg_knn_euclidean_distance))"
      ],
      "metadata": {
        "colab": {
          "base_uri": "https://localhost:8080/"
        },
        "id": "g0jb4kqg09pZ",
        "outputId": "7d643325-339e-4052-8dbc-ec37b67d2e92"
      },
      "execution_count": null,
      "outputs": [
        {
          "output_type": "stream",
          "name": "stdout",
          "text": [
            "5.02870172687344\n",
            "325.26297053307496\n",
            "102.05764837254445\n",
            "70.79887937846095\n"
          ]
        }
      ]
    },
    {
      "cell_type": "markdown",
      "metadata": {
        "id": "pXvVP223zNIx"
      },
      "source": [
        "## 5.2 Performance of Cosine Similarity"
      ]
    },
    {
      "cell_type": "code",
      "source": [
        "avg_cs_euclidean_distance = []\n",
        "for user_input in selected_user_input.itertuples():\n",
        "  user_input = pd.DataFrame(user_input[1:],index=selected_user_input_headers)\n",
        "  user_input = user_input.transpose()\n",
        "  similarities = cosine_similarity(user_input,cs_carlist[features])\n",
        "  cs_recommended_items_index = similarities.flatten().argsort()[-5:][::-1]\n",
        "  cs_recommended_items = cs_carlist.iloc[cs_recommended_items_index,:]\n",
        "\n",
        "  cs_euclidean_distance = []\n",
        "\n",
        "  for i, row in cs_recommended_items.iterrows():\n",
        "      recommended_items =  np.array(row[features]).flatten()\n",
        "      user_input = np.array(user_input).flatten()\n",
        "      euclidean_distance = distance.euclidean(recommended_items, user_input)\n",
        "      cs_recommended_items.at[i, 'euclidean_distance'] = euclidean_distance\n",
        "      cs_euclidean_distance.append(euclidean_distance)\n",
        "\n",
        "  avg_cs_euclidean_distance.append(sum(cs_euclidean_distance)/len(cs_euclidean_distance))"
      ],
      "metadata": {
        "id": "NMi5n2YowQQX"
      },
      "execution_count": null,
      "outputs": []
    },
    {
      "cell_type": "code",
      "source": [
        "px.line(avg_cs_euclidean_distance)"
      ],
      "metadata": {
        "colab": {
          "base_uri": "https://localhost:8080/",
          "height": 542
        },
        "id": "GmBlT1g2xJa_",
        "outputId": "50093e6e-5175-480b-ac19-32e27c5d5e08"
      },
      "execution_count": null,
      "outputs": [
        {
          "output_type": "display_data",
          "data": {
            "text/html": [
              "<html>\n",
              "<head><meta charset=\"utf-8\" /></head>\n",
              "<body>\n",
              "    <div>            <script src=\"https://cdnjs.cloudflare.com/ajax/libs/mathjax/2.7.5/MathJax.js?config=TeX-AMS-MML_SVG\"></script><script type=\"text/javascript\">if (window.MathJax) {MathJax.Hub.Config({SVG: {font: \"STIX-Web\"}});}</script>                <script type=\"text/javascript\">window.PlotlyConfig = {MathJaxConfig: 'local'};</script>\n",
              "        <script src=\"https://cdn.plot.ly/plotly-2.8.3.min.js\"></script>                <div id=\"627825d3-f720-414a-b2b4-a6407e9fdeb2\" class=\"plotly-graph-div\" style=\"height:525px; width:100%;\"></div>            <script type=\"text/javascript\">                                    window.PLOTLYENV=window.PLOTLYENV || {};                                    if (document.getElementById(\"627825d3-f720-414a-b2b4-a6407e9fdeb2\")) {                    Plotly.newPlot(                        \"627825d3-f720-414a-b2b4-a6407e9fdeb2\",                        [{\"hovertemplate\":\"variable=0<br>index=%{x}<br>value=%{y}<extra></extra>\",\"legendgroup\":\"0\",\"line\":{\"color\":\"#636efa\",\"dash\":\"solid\"},\"marker\":{\"symbol\":\"circle\"},\"mode\":\"lines\",\"name\":\"0\",\"orientation\":\"v\",\"showlegend\":true,\"x\":[0,1,2,3,4,5,6,7,8,9,10,11,12,13,14,15,16,17,18,19,20,21,22,23,24,25,26,27,28,29,30,31,32,33,34,35,36,37,38,39,40,41,42,43,44,45,46,47,48,49,50,51,52,53,54,55,56,57,58,59,60,61,62,63,64,65,66,67,68,69,70,71,72,73,74,75,76,77,78,79,80,81,82,83,84,85,86,87,88,89,90,91,92,93,94,95,96,97,98,99],\"xaxis\":\"x\",\"y\":[537.1010053558,111.46408841952936,324.1476926931256,2052.8356969863717,387.7557465322345,35.873448249193316,144.97990166757927,1705.4298290032225,235.35983464366268,956.9839398111159,627.0133904455121,17.233687939614086,1094.4436799077635,298.7557339673594,918.1486536320117,674.8102757434292,230.031961032964,283.38613583413587,814.2162776421167,715.3545333296963,905.900683097004,796.5333006304561,379.90138319895703,1197.703218664791,256.7600116466662,1037.8481046448521,1059.425424284924,1296.2337752118635,1422.1322856825986,29.816103031751148,475.61130861171233,1433.9264902229681,9.266763043698036,470.95753524070517,398.17935074858235,732.3404573832786,240.66902898452204,1167.1163927440518,350.48724349177877,535.333710577147,41.7972204328169,1461.3203649733705,1329.9347185542938,302.33259830855155,1771.7574349188199,360.8693903593291,1483.4703756115284,1740.4819838959133,1344.9136649751777,1811.2574535667386,618.4575927635335,561.0038934790826,2100.6739988710497,628.8654539774527,537.5229027822018,402.51043246288725,390.4400048211352,403.5650660339316,814.293558859457,921.2869674012121,387.7557465322345,726.4482087526956,482.99121093746936,1460.4511991789593,1122.158622484331,666.8389604087042,1149.9405320761684,1126.0631296922984,884.2119804806149,744.8308532814682,601.3896929908642,714.2392689825471,471.436221366436,157.96835126062436,1018.57695744704,459.2924891197887,950.6500670597179,1031.3401175626295,751.9715517552254,294.95002872361755,337.24694838441155,757.5724359695631,621.9326006648537,648.1691993850579,98.88358821251583,521.5138576154397,537.1010053558,309.7272728915889,1453.326784225492,537.4644933972494,475.61130861171233,986.917564268049,373.58524391095864,730.7375263070754,157.96835126062436,282.3708956766635,214.1079048205555,9.250868823582023,381.7918280948402,520.960179505037],\"yaxis\":\"y\",\"type\":\"scatter\"}],                        {\"template\":{\"data\":{\"bar\":[{\"error_x\":{\"color\":\"#2a3f5f\"},\"error_y\":{\"color\":\"#2a3f5f\"},\"marker\":{\"line\":{\"color\":\"#E5ECF6\",\"width\":0.5},\"pattern\":{\"fillmode\":\"overlay\",\"size\":10,\"solidity\":0.2}},\"type\":\"bar\"}],\"barpolar\":[{\"marker\":{\"line\":{\"color\":\"#E5ECF6\",\"width\":0.5},\"pattern\":{\"fillmode\":\"overlay\",\"size\":10,\"solidity\":0.2}},\"type\":\"barpolar\"}],\"carpet\":[{\"aaxis\":{\"endlinecolor\":\"#2a3f5f\",\"gridcolor\":\"white\",\"linecolor\":\"white\",\"minorgridcolor\":\"white\",\"startlinecolor\":\"#2a3f5f\"},\"baxis\":{\"endlinecolor\":\"#2a3f5f\",\"gridcolor\":\"white\",\"linecolor\":\"white\",\"minorgridcolor\":\"white\",\"startlinecolor\":\"#2a3f5f\"},\"type\":\"carpet\"}],\"choropleth\":[{\"colorbar\":{\"outlinewidth\":0,\"ticks\":\"\"},\"type\":\"choropleth\"}],\"contour\":[{\"colorbar\":{\"outlinewidth\":0,\"ticks\":\"\"},\"colorscale\":[[0.0,\"#0d0887\"],[0.1111111111111111,\"#46039f\"],[0.2222222222222222,\"#7201a8\"],[0.3333333333333333,\"#9c179e\"],[0.4444444444444444,\"#bd3786\"],[0.5555555555555556,\"#d8576b\"],[0.6666666666666666,\"#ed7953\"],[0.7777777777777778,\"#fb9f3a\"],[0.8888888888888888,\"#fdca26\"],[1.0,\"#f0f921\"]],\"type\":\"contour\"}],\"contourcarpet\":[{\"colorbar\":{\"outlinewidth\":0,\"ticks\":\"\"},\"type\":\"contourcarpet\"}],\"heatmap\":[{\"colorbar\":{\"outlinewidth\":0,\"ticks\":\"\"},\"colorscale\":[[0.0,\"#0d0887\"],[0.1111111111111111,\"#46039f\"],[0.2222222222222222,\"#7201a8\"],[0.3333333333333333,\"#9c179e\"],[0.4444444444444444,\"#bd3786\"],[0.5555555555555556,\"#d8576b\"],[0.6666666666666666,\"#ed7953\"],[0.7777777777777778,\"#fb9f3a\"],[0.8888888888888888,\"#fdca26\"],[1.0,\"#f0f921\"]],\"type\":\"heatmap\"}],\"heatmapgl\":[{\"colorbar\":{\"outlinewidth\":0,\"ticks\":\"\"},\"colorscale\":[[0.0,\"#0d0887\"],[0.1111111111111111,\"#46039f\"],[0.2222222222222222,\"#7201a8\"],[0.3333333333333333,\"#9c179e\"],[0.4444444444444444,\"#bd3786\"],[0.5555555555555556,\"#d8576b\"],[0.6666666666666666,\"#ed7953\"],[0.7777777777777778,\"#fb9f3a\"],[0.8888888888888888,\"#fdca26\"],[1.0,\"#f0f921\"]],\"type\":\"heatmapgl\"}],\"histogram\":[{\"marker\":{\"pattern\":{\"fillmode\":\"overlay\",\"size\":10,\"solidity\":0.2}},\"type\":\"histogram\"}],\"histogram2d\":[{\"colorbar\":{\"outlinewidth\":0,\"ticks\":\"\"},\"colorscale\":[[0.0,\"#0d0887\"],[0.1111111111111111,\"#46039f\"],[0.2222222222222222,\"#7201a8\"],[0.3333333333333333,\"#9c179e\"],[0.4444444444444444,\"#bd3786\"],[0.5555555555555556,\"#d8576b\"],[0.6666666666666666,\"#ed7953\"],[0.7777777777777778,\"#fb9f3a\"],[0.8888888888888888,\"#fdca26\"],[1.0,\"#f0f921\"]],\"type\":\"histogram2d\"}],\"histogram2dcontour\":[{\"colorbar\":{\"outlinewidth\":0,\"ticks\":\"\"},\"colorscale\":[[0.0,\"#0d0887\"],[0.1111111111111111,\"#46039f\"],[0.2222222222222222,\"#7201a8\"],[0.3333333333333333,\"#9c179e\"],[0.4444444444444444,\"#bd3786\"],[0.5555555555555556,\"#d8576b\"],[0.6666666666666666,\"#ed7953\"],[0.7777777777777778,\"#fb9f3a\"],[0.8888888888888888,\"#fdca26\"],[1.0,\"#f0f921\"]],\"type\":\"histogram2dcontour\"}],\"mesh3d\":[{\"colorbar\":{\"outlinewidth\":0,\"ticks\":\"\"},\"type\":\"mesh3d\"}],\"parcoords\":[{\"line\":{\"colorbar\":{\"outlinewidth\":0,\"ticks\":\"\"}},\"type\":\"parcoords\"}],\"pie\":[{\"automargin\":true,\"type\":\"pie\"}],\"scatter\":[{\"marker\":{\"colorbar\":{\"outlinewidth\":0,\"ticks\":\"\"}},\"type\":\"scatter\"}],\"scatter3d\":[{\"line\":{\"colorbar\":{\"outlinewidth\":0,\"ticks\":\"\"}},\"marker\":{\"colorbar\":{\"outlinewidth\":0,\"ticks\":\"\"}},\"type\":\"scatter3d\"}],\"scattercarpet\":[{\"marker\":{\"colorbar\":{\"outlinewidth\":0,\"ticks\":\"\"}},\"type\":\"scattercarpet\"}],\"scattergeo\":[{\"marker\":{\"colorbar\":{\"outlinewidth\":0,\"ticks\":\"\"}},\"type\":\"scattergeo\"}],\"scattergl\":[{\"marker\":{\"colorbar\":{\"outlinewidth\":0,\"ticks\":\"\"}},\"type\":\"scattergl\"}],\"scattermapbox\":[{\"marker\":{\"colorbar\":{\"outlinewidth\":0,\"ticks\":\"\"}},\"type\":\"scattermapbox\"}],\"scatterpolar\":[{\"marker\":{\"colorbar\":{\"outlinewidth\":0,\"ticks\":\"\"}},\"type\":\"scatterpolar\"}],\"scatterpolargl\":[{\"marker\":{\"colorbar\":{\"outlinewidth\":0,\"ticks\":\"\"}},\"type\":\"scatterpolargl\"}],\"scatterternary\":[{\"marker\":{\"colorbar\":{\"outlinewidth\":0,\"ticks\":\"\"}},\"type\":\"scatterternary\"}],\"surface\":[{\"colorbar\":{\"outlinewidth\":0,\"ticks\":\"\"},\"colorscale\":[[0.0,\"#0d0887\"],[0.1111111111111111,\"#46039f\"],[0.2222222222222222,\"#7201a8\"],[0.3333333333333333,\"#9c179e\"],[0.4444444444444444,\"#bd3786\"],[0.5555555555555556,\"#d8576b\"],[0.6666666666666666,\"#ed7953\"],[0.7777777777777778,\"#fb9f3a\"],[0.8888888888888888,\"#fdca26\"],[1.0,\"#f0f921\"]],\"type\":\"surface\"}],\"table\":[{\"cells\":{\"fill\":{\"color\":\"#EBF0F8\"},\"line\":{\"color\":\"white\"}},\"header\":{\"fill\":{\"color\":\"#C8D4E3\"},\"line\":{\"color\":\"white\"}},\"type\":\"table\"}]},\"layout\":{\"annotationdefaults\":{\"arrowcolor\":\"#2a3f5f\",\"arrowhead\":0,\"arrowwidth\":1},\"autotypenumbers\":\"strict\",\"coloraxis\":{\"colorbar\":{\"outlinewidth\":0,\"ticks\":\"\"}},\"colorscale\":{\"diverging\":[[0,\"#8e0152\"],[0.1,\"#c51b7d\"],[0.2,\"#de77ae\"],[0.3,\"#f1b6da\"],[0.4,\"#fde0ef\"],[0.5,\"#f7f7f7\"],[0.6,\"#e6f5d0\"],[0.7,\"#b8e186\"],[0.8,\"#7fbc41\"],[0.9,\"#4d9221\"],[1,\"#276419\"]],\"sequential\":[[0.0,\"#0d0887\"],[0.1111111111111111,\"#46039f\"],[0.2222222222222222,\"#7201a8\"],[0.3333333333333333,\"#9c179e\"],[0.4444444444444444,\"#bd3786\"],[0.5555555555555556,\"#d8576b\"],[0.6666666666666666,\"#ed7953\"],[0.7777777777777778,\"#fb9f3a\"],[0.8888888888888888,\"#fdca26\"],[1.0,\"#f0f921\"]],\"sequentialminus\":[[0.0,\"#0d0887\"],[0.1111111111111111,\"#46039f\"],[0.2222222222222222,\"#7201a8\"],[0.3333333333333333,\"#9c179e\"],[0.4444444444444444,\"#bd3786\"],[0.5555555555555556,\"#d8576b\"],[0.6666666666666666,\"#ed7953\"],[0.7777777777777778,\"#fb9f3a\"],[0.8888888888888888,\"#fdca26\"],[1.0,\"#f0f921\"]]},\"colorway\":[\"#636efa\",\"#EF553B\",\"#00cc96\",\"#ab63fa\",\"#FFA15A\",\"#19d3f3\",\"#FF6692\",\"#B6E880\",\"#FF97FF\",\"#FECB52\"],\"font\":{\"color\":\"#2a3f5f\"},\"geo\":{\"bgcolor\":\"white\",\"lakecolor\":\"white\",\"landcolor\":\"#E5ECF6\",\"showlakes\":true,\"showland\":true,\"subunitcolor\":\"white\"},\"hoverlabel\":{\"align\":\"left\"},\"hovermode\":\"closest\",\"mapbox\":{\"style\":\"light\"},\"paper_bgcolor\":\"white\",\"plot_bgcolor\":\"#E5ECF6\",\"polar\":{\"angularaxis\":{\"gridcolor\":\"white\",\"linecolor\":\"white\",\"ticks\":\"\"},\"bgcolor\":\"#E5ECF6\",\"radialaxis\":{\"gridcolor\":\"white\",\"linecolor\":\"white\",\"ticks\":\"\"}},\"scene\":{\"xaxis\":{\"backgroundcolor\":\"#E5ECF6\",\"gridcolor\":\"white\",\"gridwidth\":2,\"linecolor\":\"white\",\"showbackground\":true,\"ticks\":\"\",\"zerolinecolor\":\"white\"},\"yaxis\":{\"backgroundcolor\":\"#E5ECF6\",\"gridcolor\":\"white\",\"gridwidth\":2,\"linecolor\":\"white\",\"showbackground\":true,\"ticks\":\"\",\"zerolinecolor\":\"white\"},\"zaxis\":{\"backgroundcolor\":\"#E5ECF6\",\"gridcolor\":\"white\",\"gridwidth\":2,\"linecolor\":\"white\",\"showbackground\":true,\"ticks\":\"\",\"zerolinecolor\":\"white\"}},\"shapedefaults\":{\"line\":{\"color\":\"#2a3f5f\"}},\"ternary\":{\"aaxis\":{\"gridcolor\":\"white\",\"linecolor\":\"white\",\"ticks\":\"\"},\"baxis\":{\"gridcolor\":\"white\",\"linecolor\":\"white\",\"ticks\":\"\"},\"bgcolor\":\"#E5ECF6\",\"caxis\":{\"gridcolor\":\"white\",\"linecolor\":\"white\",\"ticks\":\"\"}},\"title\":{\"x\":0.05},\"xaxis\":{\"automargin\":true,\"gridcolor\":\"white\",\"linecolor\":\"white\",\"ticks\":\"\",\"title\":{\"standoff\":15},\"zerolinecolor\":\"white\",\"zerolinewidth\":2},\"yaxis\":{\"automargin\":true,\"gridcolor\":\"white\",\"linecolor\":\"white\",\"ticks\":\"\",\"title\":{\"standoff\":15},\"zerolinecolor\":\"white\",\"zerolinewidth\":2}}},\"xaxis\":{\"anchor\":\"y\",\"domain\":[0.0,1.0],\"title\":{\"text\":\"index\"}},\"yaxis\":{\"anchor\":\"x\",\"domain\":[0.0,1.0],\"title\":{\"text\":\"value\"}},\"legend\":{\"title\":{\"text\":\"variable\"},\"tracegroupgap\":0},\"margin\":{\"t\":60}},                        {\"responsive\": true}                    ).then(function(){\n",
              "                            \n",
              "var gd = document.getElementById('627825d3-f720-414a-b2b4-a6407e9fdeb2');\n",
              "var x = new MutationObserver(function (mutations, observer) {{\n",
              "        var display = window.getComputedStyle(gd).display;\n",
              "        if (!display || display === 'none') {{\n",
              "            console.log([gd, 'removed!']);\n",
              "            Plotly.purge(gd);\n",
              "            observer.disconnect();\n",
              "        }}\n",
              "}});\n",
              "\n",
              "// Listen for the removal of the full notebook cells\n",
              "var notebookContainer = gd.closest('#notebook-container');\n",
              "if (notebookContainer) {{\n",
              "    x.observe(notebookContainer, {childList: true});\n",
              "}}\n",
              "\n",
              "// Listen for the clearing of the current output cell\n",
              "var outputEl = gd.closest('.output');\n",
              "if (outputEl) {{\n",
              "    x.observe(outputEl, {childList: true});\n",
              "}}\n",
              "\n",
              "                        })                };                            </script>        </div>\n",
              "</body>\n",
              "</html>"
            ]
          },
          "metadata": {}
        }
      ]
    },
    {
      "cell_type": "code",
      "source": [
        "print(np.min(avg_cs_euclidean_distance))\n",
        "print(np.max(avg_cs_euclidean_distance))\n",
        "print(np.mean(avg_cs_euclidean_distance))\n",
        "print(np.std(avg_cs_euclidean_distance))"
      ],
      "metadata": {
        "colab": {
          "base_uri": "https://localhost:8080/"
        },
        "id": "lrGB49S51jlA",
        "outputId": "59ec2992-5cfa-4e58-b802-13b8e3a42303"
      },
      "execution_count": null,
      "outputs": [
        {
          "output_type": "stream",
          "name": "stdout",
          "text": [
            "9.250868823582023\n",
            "2100.6739988710497\n",
            "705.4796820850173\n",
            "482.2463477627549\n"
          ]
        }
      ]
    },
    {
      "cell_type": "markdown",
      "metadata": {
        "id": "fu0C9s_nzNIy"
      },
      "source": [
        "## 5.3 Performance of Agglomerative Clustering"
      ]
    },
    {
      "cell_type": "code",
      "source": [
        "avg_ac_euclidean_distance = []\n",
        "\n",
        "for user_input in selected_user_input.itertuples():\n",
        "  user_input = pd.DataFrame(user_input[1:],index=selected_user_input_headers)\n",
        "  user_input = user_input.transpose()\n",
        "  ac_similarity = np.array([np.abs(ac_carlist[features].iloc[i] - ac_user_input).sum() for i in range(ac_carlist.shape[0])])\n",
        "  clustering = AgglomerativeClustering(n_clusters=5, linkage='ward')\n",
        "  clustering.fit(ac_carlist)\n",
        "  cluster = clustering.labels_[ac_similarity.argmin()]\n",
        "  indices = np.where(clustering.labels_ == cluster)[0]\n",
        "  ac_recommended_items = ac_carlist.iloc[indices]\n",
        "\n",
        "  ac_euclidean_distance = []\n",
        "\n",
        "  for i, row in ac_recommended_items.iterrows():\n",
        "      recommended_items =  np.array(row[features]).flatten()\n",
        "      user_input = np.array(user_input).flatten()\n",
        "      euclidean_distance = distance.euclidean(recommended_items, user_input)\n",
        "      ac_recommended_items.at[i, 'euclidean_distance'] = euclidean_distance\n",
        "      ac_euclidean_distance.append(euclidean_distance)\n",
        "\n",
        "  avg_ac_euclidean_distance.append(sum(ac_euclidean_distance)/len(ac_euclidean_distance))"
      ],
      "metadata": {
        "id": "VznLazbRxwAn"
      },
      "execution_count": null,
      "outputs": []
    },
    {
      "cell_type": "markdown",
      "metadata": {
        "id": "cG_l-yIFzNIy"
      },
      "source": [
        "# 6.0 Deployment\n",
        "---\n",
        "To integrate the recommender model into our python app, here are the steps:\n",
        "\n",
        "1. Create a new Python file in the app directory and name it recommender.py.\n",
        "2. Copy the get_recommendation function into the recommender.py file.\n",
        "3. In the main file of your app, import the recommender module\n",
        "4. To use the get_recommendation function, we pass the user's input and the vehicle dataset to the function. The user's input is obtained from a form in app.\n",
        "5. In the main file of app, we called the get_recommendation function and pass the user's input and the vehicle dataset as arguments:"
      ]
    },
    {
      "cell_type": "markdown",
      "metadata": {
        "id": "kaysLXwDzNIy"
      },
      "source": [
        "## 6.1 Persist the model\n",
        "---\n",
        "Depending on the size of the dataset, loading it and preprocessing it can take some time, hence it's better to persist the model, so we don't need to train it every time the app starts.\n",
        "\n",
        "To persist the model, we used the pickle module: The pickle module in Python allows to serialize an object, such as a machine learning model, to a byte stream and save it to a file."
      ]
    },
    {
      "cell_type": "code",
      "execution_count": null,
      "metadata": {
        "collapsed": true,
        "id": "GyCvXYRYzNIy"
      },
      "outputs": [],
      "source": [
        "import pickle\n",
        "\n",
        "# Save the model to a file\n",
        "with open('model.pkl', 'wb') as file:\n",
        "    pickle.dump(knn, file)"
      ]
    },
    {
      "cell_type": "markdown",
      "metadata": {
        "id": "Y-3OmrpjzNIy"
      },
      "source": [
        "Once the model is persisted, we can load it later and use it to make predictions without having to retrain the model every time start your app."
      ]
    },
    {
      "cell_type": "code",
      "execution_count": null,
      "metadata": {
        "id": "7PO_1RyszNIy"
      },
      "outputs": [],
      "source": [
        "# Load the model from the file\n",
        "with open('model.pkl', 'rb') as file:\n",
        "    knn = pickle.load(file)"
      ]
    },
    {
      "cell_type": "markdown",
      "metadata": {
        "id": "SRnad4pgzNIy"
      },
      "source": [
        "## 6.2 Define get_recommendation function\n",
        "---\n",
        "From section 5.0 Evaluation, we can find that the best model to recommend vehicles based on user's input is KNN."
      ]
    },
    {
      "cell_type": "code",
      "execution_count": null,
      "metadata": {
        "id": "6lGusv5rzNIy"
      },
      "outputs": [],
      "source": [
        "def get_recommendation(user_input):\n",
        "    features = [\n",
        "        \"data_installment\",\n",
        "        \"seat_capacity\",\n",
        "        \"data_transmission\",\n",
        "        \"engine_cc\",\n",
        "        \"fuel_type\",\n",
        "    ]\n",
        "    path = Path(__file__).parent / \"df_modelling.csv\" #for live editor\n",
        "    #path = 'https://gist.githubusercontent.com/Jiayue1030/335451e504b842c0821842eb9ab45fe6/raw/a07b9d4a69fe0a638551083ee1d5937482331896/df_modelling.csv'\n",
        "    carlist = pd.read_csv(path)\n",
        "\n",
        "    result = dict()\n",
        "    model_path = Path(__file__).parent / \"model.pkl\"\n",
        "    model = NearestNeighbors(n_neighbors=5, algorithm=\"ball_tree\")\n",
        "    model.fit(carlist[features])\n",
        "\n",
        "    user_input = {\n",
        "        \"salary\" : user_input[\"salary\"],\n",
        "        \"data_installment\": user_input[\"data_installment\"],\n",
        "        \"seat_capacity\": user_input[\"seat_capacity\"],\n",
        "        \"engine_cc\": user_input[\"engine_cc\"],\n",
        "        \"data_transmission\": user_input[\"data_transmission\"],\n",
        "        \"fuel_type\": user_input[\"fuel_type\"],\n",
        "        \"repayment_period\" : user_input[\"repayment_period\"]\n",
        "    }\n",
        "\n",
        "    ##get_max_affordable_price\n",
        "    def get_max_affordable_price(salary,repayment_period):\n",
        "      affordable_price = 0.15*salary*12*repayment_period\n",
        "      return affordable_price\n",
        "\n",
        "    affordable_price = get_max_affordable_price(user_input[\"salary\"],user_input[\"salary\"])\n",
        "    carlist = carlist.loc[carlist[\"seat_capacity\"] == user_input[\"seat_capacity\"]]\n",
        "    carlist = carlist[carlist['listing_price']<=affordable_price]\n",
        "\n",
        "    user_input = pd.DataFrame(user_input, index=features)\n",
        "    user_input = user_input.transpose()\n",
        "\n",
        "    if len(carlist) > 1:\n",
        "        model.fit(carlist[features])\n",
        "        distances, indices = model.kneighbors(user_input)\n",
        "        similar_vehicles = carlist.iloc[indices[0], :]\n",
        "        result = {\"code\": 200, \"similar_vehicles\": similar_vehicles}\n",
        "    else:\n",
        "        result[\"code\"] = 400\n",
        "        result[\"message\"] = \"Not Found. Please reset your criteria.\"\n",
        "\n",
        "    return result"
      ]
    },
    {
      "cell_type": "code",
      "source": [
        "#test\n",
        "knn_carlist = df_carlist03.copy()\n",
        "user_input = {'data_installment':5600,'seat_capacity': 5,'engine_cc': 1500,'data_transmission': 0,'fuel_type': 3,}\n",
        "similar_vehicles = get_recommendation(knn_carlist,user_input)\n",
        "\n",
        "similar_vehicles"
      ],
      "metadata": {
        "colab": {
          "base_uri": "https://localhost:8080/"
        },
        "id": "rfDWNout2iGw",
        "outputId": "84595266-045b-4cc6-b557-f870a80750e2"
      },
      "execution_count": null,
      "outputs": [
        {
          "output_type": "execute_result",
          "data": {
            "text/plain": [
              "{'code': 200,\n",
              " 'similar_vehicles':       vehicle_id  data_installment  listing_price  data_make  data_model  \\\n",
              " 125     10981144              3369         259888          9         105   \n",
              " 1941    10976261              3358         259000          9         105   \n",
              " 2201    10877327              3358         259000          9         105   \n",
              " 1899    10985513              3358         259000          9         105   \n",
              " 1685    11045668              3358         259000          9         105   \n",
              " \n",
              "       data_year  data_mileage  data_transmission  doors  seat_capacity  \\\n",
              " 125        2022             0                  0    4.0            5.0   \n",
              " 1941       2022             0                  0    4.0            5.0   \n",
              " 2201       2022             0                  0    4.0            5.0   \n",
              " 1899       2022             0                  0    4.0            5.0   \n",
              " 1685       2022             0                  0    4.0            5.0   \n",
              " \n",
              "       assembled  engine_cc  peak_power  peak_torque  engine_type  fuel_type  \n",
              " 125           1     2956.0       397.0        583.0            1          3  \n",
              " 1941          1     2956.0       397.0        583.0            1          3  \n",
              " 2201          1     2956.0       397.0        583.0            1          3  \n",
              " 1899          1     2956.0       397.0        583.0            1          3  \n",
              " 1685          1     2956.0       397.0        583.0            1          3  }"
            ]
          },
          "metadata": {},
          "execution_count": 94
        }
      ]
    },
    {
      "cell_type": "code",
      "source": [
        "#df_carlist_cleaned = pd.read_csv(CLEANED_FILE_PATH)\n",
        "\n",
        "def get_full_details(vehicle_id):\n",
        "  full_dataset = pd.read_csv(CLEANED_FILE_PATH)\n",
        "  return(full_dataset[full_dataset['vehicle_id']==vehicle_id])"
      ],
      "metadata": {
        "id": "xt7Qq2sELiqf"
      },
      "execution_count": null,
      "outputs": []
    },
    {
      "cell_type": "code",
      "source": [
        "v = get_full_details(11206253)"
      ],
      "metadata": {
        "id": "KuHgJHh9BVHq"
      },
      "execution_count": null,
      "outputs": []
    },
    {
      "cell_type": "code",
      "source": [
        "print(v['data_installment'].values)"
      ],
      "metadata": {
        "colab": {
          "base_uri": "https://localhost:8080/"
        },
        "id": "mXoPx3p-NxOY",
        "outputId": "3d5886b3-30fd-414c-9e95-1cb2a952ad6c"
      },
      "execution_count": null,
      "outputs": [
        {
          "output_type": "stream",
          "name": "stdout",
          "text": [
            "[2217]\n"
          ]
        }
      ]
    },
    {
      "cell_type": "code",
      "source": [
        "df_carlist03.to_csv('df_modelling.csv')"
      ],
      "metadata": {
        "id": "37mnEzNnkkp9"
      },
      "execution_count": null,
      "outputs": []
    },
    {
      "cell_type": "markdown",
      "source": [
        "Github Link: https://github.com/Jiayue1030/car_app\n",
        "\n",
        "WebApp URL : https://jiayue1030.shinyapps.io/vehicle-recommendation-system/"
      ],
      "metadata": {
        "id": "kWvI6IiSpFP_"
      }
    },
    {
      "cell_type": "markdown",
      "metadata": {
        "id": "__jCB7bSzNIy"
      },
      "source": [
        "# 7.0 Future Work\n",
        "---\n",
        "\n",
        "1. Create a database to store the vehicles data\n",
        "2. Expand the data source to obtain more vehicles data\n",
        "3. Collect user's interaction, and develop collaborative filtering system"
      ]
    }
  ],
  "metadata": {
    "colab": {
      "provenance": [],
      "toc_visible": true,
      "include_colab_link": true
    },
    "kernelspec": {
      "display_name": "Python 3 (ipykernel)",
      "language": "python",
      "name": "python3"
    },
    "language_info": {
      "codemirror_mode": {
        "name": "ipython",
        "version": 3
      },
      "file_extension": ".py",
      "mimetype": "text/x-python",
      "name": "python",
      "nbconvert_exporter": "python",
      "pygments_lexer": "ipython3",
      "version": "3.9.7"
    },
    "vscode": {
      "interpreter": {
        "hash": "26de051ba29f2982a8de78e945f0abaf191376122a1563185a90213a26c5da77"
      }
    }
  },
  "nbformat": 4,
  "nbformat_minor": 0
}